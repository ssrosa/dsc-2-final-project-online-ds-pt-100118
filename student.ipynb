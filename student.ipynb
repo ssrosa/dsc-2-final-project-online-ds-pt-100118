{
 "cells": [
  {
   "cell_type": "markdown",
   "metadata": {},
   "source": [
    "# Final Project Submission\n",
    "Please fill out:\n",
    "\n",
    "-  Student name: Steven Rosa\n",
    "-  Student pace: part time\n",
    "-  Scheduled project review date/time: Mon 4 Feb 2019 2pm EST\n",
    "-  Instructor name: Jeff Herman\n",
    "-  Blog post URL:"
   ]
  },
  {
   "cell_type": "markdown",
   "metadata": {},
   "source": [
    "# Northwind Data Analysis"
   ]
  },
  {
   "cell_type": "markdown",
   "metadata": {},
   "source": [
    "<a id=\"top\"></a>"
   ]
  },
  {
   "cell_type": "markdown",
   "metadata": {},
   "source": [
    "# Contents\n",
    "- [Import libraries](#importlibraries)\n",
    "- [Write functions](#writefunctions)\n",
    "- [Exploratory data analysis](#eda)\n",
    "- [Hypothesis test 1](#hypo1)\n",
    "- [Hypothesis test 2](#hypo2)"
   ]
  },
  {
   "cell_type": "code",
   "execution_count": null,
   "metadata": {},
   "outputs": [],
   "source": []
  },
  {
   "cell_type": "code",
   "execution_count": null,
   "metadata": {},
   "outputs": [],
   "source": []
  },
  {
   "cell_type": "code",
   "execution_count": null,
   "metadata": {},
   "outputs": [],
   "source": []
  },
  {
   "cell_type": "markdown",
   "metadata": {},
   "source": [
    "<a id=\"importlibraries\"></a>"
   ]
  },
  {
   "cell_type": "markdown",
   "metadata": {},
   "source": [
    "# Import libraries\n",
    "[(Back to top)](#top)"
   ]
  },
  {
   "cell_type": "code",
   "execution_count": 1,
   "metadata": {},
   "outputs": [],
   "source": [
    "#Import libraries\n",
    "import sqlalchemy #ORM\n",
    "from sqlalchemy import create_engine #To connect to the database\n",
    "from sqlalchemy.orm import Session, sessionmaker #To interact with the database as object\n",
    "from sqlalchemy import inspect #To look at tables and column names\n",
    "from sqlalchemy import MetaData #To reflect the engine object \n",
    "from sqlalchemy.ext.automap import automap_base # To create mappings from the reflection\n",
    "import pandas as pd #To read in parts of the database as DataFrames\n",
    "\n",
    "import matplotlib.pyplot as plt #For creating visualizations\n",
    "%matplotlib inline\n",
    "from scipy import stats #For pulling t values\n",
    "from scipy.stats import norm #For plotting probablity density functions\n",
    "import seaborn as sns #For plotting pdfs over histograms\n",
    "import numpy as np #For mathematical operations and arrays\n",
    "from sklearn.utils import resample #To pull samples from a small distribution (bootstrapping)"
   ]
  },
  {
   "cell_type": "code",
   "execution_count": 37,
   "metadata": {},
   "outputs": [],
   "source": []
  },
  {
   "cell_type": "markdown",
   "metadata": {},
   "source": [
    "<a id=\"writefunctions\"></a>"
   ]
  },
  {
   "cell_type": "markdown",
   "metadata": {},
   "source": [
    "# Write functions\n",
    "[(Back to top)](#top)"
   ]
  },
  {
   "cell_type": "code",
   "execution_count": 2,
   "metadata": {},
   "outputs": [],
   "source": [
    "#Build a sampling distribution of the data \n",
    "#in order to get it more \"normal\"\n",
    "#NOT IN USE, REPLACED BY BOOTSTRAPPING\n",
    "def sampling_dist(data, dist=50, n=30):\n",
    "\n",
    "    sample_dist = []\n",
    "   \n",
    "    while len(sample_dist) != dist: #Build a sample distribution\n",
    "        sample = []\n",
    "        while len(sample) != n:\n",
    "            x = np.random.choice(data) #Get a value from the data with replacement\n",
    "            sample.append(x) #Add the value to the sample\n",
    "        sample_mean = sum(sample) / len(sample) #Get the mean of the sample\n",
    "        sample_dist.append(sample_mean) #Add the mean to the sampling distribution\n",
    "    \n",
    "    return sample_dist"
   ]
  },
  {
   "cell_type": "code",
   "execution_count": null,
   "metadata": {},
   "outputs": [],
   "source": []
  },
  {
   "cell_type": "markdown",
   "metadata": {},
   "source": [
    "<a id=\"eda\"></a>"
   ]
  },
  {
   "cell_type": "markdown",
   "metadata": {},
   "source": [
    "# Exploratory data analysis\n",
    "[(Back to top)](#top)"
   ]
  },
  {
   "cell_type": "code",
   "execution_count": null,
   "metadata": {},
   "outputs": [],
   "source": []
  },
  {
   "cell_type": "code",
   "execution_count": null,
   "metadata": {},
   "outputs": [],
   "source": []
  },
  {
   "cell_type": "code",
   "execution_count": null,
   "metadata": {},
   "outputs": [],
   "source": []
  },
  {
   "cell_type": "code",
   "execution_count": null,
   "metadata": {},
   "outputs": [],
   "source": []
  },
  {
   "cell_type": "code",
   "execution_count": 3,
   "metadata": {},
   "outputs": [],
   "source": [
    "#Instantiate a session of the ORM\n",
    "#Connect to the sqlite database file\n",
    "engine = create_engine('sqlite:///Northwind_small.sqlite', echo = True)\n",
    "#Bind a session factory to the engine\n",
    "Session = sessionmaker(bind=engine)\n",
    "#Instantiate a session\n",
    "session = Session()"
   ]
  },
  {
   "cell_type": "code",
   "execution_count": 45,
   "metadata": {},
   "outputs": [],
   "source": [
    "#An object to get a first look at the database\n",
    "inspector = inspect(engine)"
   ]
  },
  {
   "cell_type": "code",
   "execution_count": 46,
   "metadata": {},
   "outputs": [
    {
     "name": "stdout",
     "output_type": "stream",
     "text": [
      "2019-01-31 19:59:23,406 INFO sqlalchemy.engine.base.Engine SELECT name FROM sqlite_master WHERE type='table' ORDER BY name\n",
      "2019-01-31 19:59:23,407 INFO sqlalchemy.engine.base.Engine ()\n",
      "2019-01-31 19:59:23,410 INFO sqlalchemy.engine.base.Engine PRAGMA table_info(\"Category\")\n",
      "2019-01-31 19:59:23,411 INFO sqlalchemy.engine.base.Engine ()\n",
      "2019-01-31 19:59:23,414 INFO sqlalchemy.engine.base.Engine PRAGMA table_info(\"Customer\")\n",
      "2019-01-31 19:59:23,414 INFO sqlalchemy.engine.base.Engine ()\n",
      "2019-01-31 19:59:23,417 INFO sqlalchemy.engine.base.Engine PRAGMA table_info(\"CustomerCustomerDemo\")\n",
      "2019-01-31 19:59:23,417 INFO sqlalchemy.engine.base.Engine ()\n",
      "2019-01-31 19:59:23,420 INFO sqlalchemy.engine.base.Engine PRAGMA table_info(\"CustomerDemographic\")\n",
      "2019-01-31 19:59:23,420 INFO sqlalchemy.engine.base.Engine ()\n",
      "2019-01-31 19:59:23,422 INFO sqlalchemy.engine.base.Engine PRAGMA table_info(\"Employee\")\n",
      "2019-01-31 19:59:23,423 INFO sqlalchemy.engine.base.Engine ()\n",
      "2019-01-31 19:59:23,426 INFO sqlalchemy.engine.base.Engine PRAGMA table_info(\"EmployeeTerritory\")\n",
      "2019-01-31 19:59:23,427 INFO sqlalchemy.engine.base.Engine ()\n",
      "2019-01-31 19:59:23,428 INFO sqlalchemy.engine.base.Engine PRAGMA table_info(\"Order\")\n",
      "2019-01-31 19:59:23,429 INFO sqlalchemy.engine.base.Engine ()\n",
      "2019-01-31 19:59:23,432 INFO sqlalchemy.engine.base.Engine PRAGMA table_info(\"OrderDetail\")\n",
      "2019-01-31 19:59:23,433 INFO sqlalchemy.engine.base.Engine ()\n",
      "2019-01-31 19:59:23,434 INFO sqlalchemy.engine.base.Engine PRAGMA table_info(\"Product\")\n",
      "2019-01-31 19:59:23,435 INFO sqlalchemy.engine.base.Engine ()\n",
      "2019-01-31 19:59:23,438 INFO sqlalchemy.engine.base.Engine PRAGMA table_info(\"Region\")\n",
      "2019-01-31 19:59:23,439 INFO sqlalchemy.engine.base.Engine ()\n",
      "2019-01-31 19:59:23,441 INFO sqlalchemy.engine.base.Engine PRAGMA table_info(\"Shipper\")\n",
      "2019-01-31 19:59:23,442 INFO sqlalchemy.engine.base.Engine ()\n",
      "2019-01-31 19:59:23,444 INFO sqlalchemy.engine.base.Engine PRAGMA table_info(\"Supplier\")\n",
      "2019-01-31 19:59:23,445 INFO sqlalchemy.engine.base.Engine ()\n",
      "2019-01-31 19:59:23,447 INFO sqlalchemy.engine.base.Engine PRAGMA table_info(\"Territory\")\n",
      "2019-01-31 19:59:23,448 INFO sqlalchemy.engine.base.Engine ()\n"
     ]
    }
   ],
   "source": [
    "#Make a dict of list of names of all the columns in all the tables\n",
    "#for easy reference\n",
    "\n",
    "#Get list of all table names\n",
    "table_names = inspector.get_table_names()\n",
    "\n",
    "tables_columns = dict()\n",
    "#For each table name\n",
    "for table in table_names:\n",
    "    column_names = []\n",
    "    #for each column in the table, get just the name\n",
    "    for column in inspector.get_columns(table):\n",
    "        column_names.append(column['name'])\n",
    "    tables_columns[table] = column_names"
   ]
  },
  {
   "cell_type": "code",
   "execution_count": 47,
   "metadata": {},
   "outputs": [
    {
     "data": {
      "text/plain": [
       "['Id', 'OrderId', 'ProductId', 'UnitPrice', 'Quantity', 'Discount']"
      ]
     },
     "execution_count": 47,
     "metadata": {},
     "output_type": "execute_result"
    }
   ],
   "source": [
    "tables_columns['OrderDetail']"
   ]
  },
  {
   "cell_type": "code",
   "execution_count": 52,
   "metadata": {},
   "outputs": [
    {
     "data": {
      "text/plain": [
       "['Id',\n",
       " 'CompanyName',\n",
       " 'ContactName',\n",
       " 'ContactTitle',\n",
       " 'Address',\n",
       " 'City',\n",
       " 'Region',\n",
       " 'PostalCode',\n",
       " 'Country',\n",
       " 'Phone',\n",
       " 'Fax',\n",
       " 'HomePage']"
      ]
     },
     "execution_count": 52,
     "metadata": {},
     "output_type": "execute_result"
    }
   ],
   "source": [
    "tables_columns['Supplier']"
   ]
  },
  {
   "cell_type": "code",
   "execution_count": 49,
   "metadata": {},
   "outputs": [],
   "source": [
    "conn = engine.connect()"
   ]
  },
  {
   "cell_type": "code",
   "execution_count": 53,
   "metadata": {},
   "outputs": [
    {
     "name": "stdout",
     "output_type": "stream",
     "text": [
      "2019-01-31 20:02:03,220 INFO sqlalchemy.engine.base.Engine SELECT Supplier.CompanyName\n",
      "                            FROM Supplier\n",
      "                        \n",
      "2019-01-31 20:02:03,221 INFO sqlalchemy.engine.base.Engine ()\n",
      "[('Exotic Liquids',), ('New Orleans Cajun Delights',), (\"Grandma Kelly's Homestead\",), ('Tokyo Traders',), (\"Cooperativa de Quesos 'Las Cabras'\",), (\"Mayumi's\",), ('Pavlova, Ltd.',), ('Specialty Biscuits, Ltd.',), ('PB Knäckebröd AB',), ('Refrescos Americanas LTDA',), ('Heli Süßwaren GmbH & Co. KG',), ('Plutzer Lebensmittelgroßmärkte AG',), ('Nord-Ost-Fisch Handelsgesellschaft mbH',), ('Formaggi Fortini s.r.l.',), ('Norske Meierier',), ('Bigfoot Breweries',), ('Svensk Sjöföda AB',), ('Aux joyeux ecclésiastiques',), ('New England Seafood Cannery',), ('Leka Trading',), ('Lyngbysild',), ('Zaanse Snoepfabriek',), ('Karkki Oy',), (\"G'day, Mate\",), ('Ma Maison',), ('Pasta Buttini s.r.l.',), ('Escargots Nouveaux',), ('Gai pâturage',), (\"Forêts d'érables\",)]\n"
     ]
    }
   ],
   "source": [
    "results = conn.execute('''SELECT Supplier.CompanyName\n",
    "                            FROM Supplier\n",
    "                        ''')\n",
    "print(results.fetchall())"
   ]
  },
  {
   "cell_type": "code",
   "execution_count": null,
   "metadata": {},
   "outputs": [],
   "source": [
    "#####FOR EDA\n",
    "#Pull raw results from the database\n",
    "#conn = engine.connect()\n",
    "#results = conn.execute('''SELECT *\n",
    "#                            FROM Category\n",
    "#                        ;''')\n",
    "#print(results.fetchall())\n",
    "\n",
    "###conn = engine.connect()\n",
    "#results = conn.execute(\"SELECT * FROM [Order];\")\n",
    "#df = pd.DataFrame(results.fetchall())\n",
    "#df.head()\n",
    "\n",
    "#results = conn.execute('''SELECT *\n",
    "#                            FROM OrderDetail\n",
    "#                        ;''')\n",
    "#df = pd.DataFrame(results.fetchall())\n",
    "#df.head()\n",
    "\n",
    "#df = pd.read_sql_query('''SELECT * \n",
    "#                           FROM [Order]\n",
    "#                       ;''', engine)\n",
    "#df.head()"
   ]
  },
  {
   "cell_type": "markdown",
   "metadata": {},
   "source": [
    "<a id=\"hypo1\"></a>"
   ]
  },
  {
   "cell_type": "markdown",
   "metadata": {},
   "source": [
    "# Hypothesis test 1\n",
    "[(Back to top)](#top)"
   ]
  },
  {
   "cell_type": "code",
   "execution_count": null,
   "metadata": {
    "scrolled": true
   },
   "outputs": [],
   "source": []
  },
  {
   "cell_type": "code",
   "execution_count": null,
   "metadata": {},
   "outputs": [],
   "source": [
    "#Look at number of orders per customer w/o discount\n",
    "df_wo_discount = pd.read_sql_query(\"\"\"SELECT [Order].CustomerId, Count(*) orders\n",
    "                            FROM OrderDetail \n",
    "                            INNER JOIN [Order] on OrderDetail.OrderId = [Order].Id\n",
    "                            WHERE OrderDetail.Discount == 0.0\n",
    "                            GROUP BY [Order].CustomerId\n",
    "                            ORDER BY [Order].CustomerId ASC\n",
    "                        \"\"\", engine)\n",
    "\n",
    "#Look at number of orders per customer w/ discount\n",
    "df_w_discount = pd.read_sql_query(\"\"\"SELECT [Order].CustomerId, Count(*) orders\n",
    "                            FROM OrderDetail \n",
    "                            INNER JOIN [Order] on OrderDetail.OrderId = [Order].Id\n",
    "                            WHERE OrderDetail.Discount != 0.0\n",
    "                            GROUP BY [Order].CustomerId\n",
    "                            ORDER BY [Order].CustomerId ASC\n",
    "                        \"\"\", engine)"
   ]
  },
  {
   "cell_type": "code",
   "execution_count": null,
   "metadata": {},
   "outputs": [],
   "source": [
    "df_wo_discount.head()"
   ]
  },
  {
   "cell_type": "code",
   "execution_count": null,
   "metadata": {
    "scrolled": true
   },
   "outputs": [],
   "source": [
    "df_w_discount.head()"
   ]
  },
  {
   "cell_type": "code",
   "execution_count": null,
   "metadata": {},
   "outputs": [],
   "source": [
    "#Look at the levels of discount\n",
    "\n",
    "df = pd.read_sql_query(\"\"\"SELECT OrderDetail.*\n",
    "                            FROM OrderDetail \n",
    "                        \"\"\", engine)\n",
    "df['Discount'].value_counts()"
   ]
  },
  {
   "cell_type": "code",
   "execution_count": null,
   "metadata": {},
   "outputs": [],
   "source": [
    "#See what one order looks like \n",
    "df = pd.read_sql_query('''SELECT *\n",
    "                            FROM OrderDetail\n",
    "                            LIMIT 1\n",
    "                        ''', engine)"
   ]
  },
  {
   "cell_type": "code",
   "execution_count": null,
   "metadata": {},
   "outputs": [],
   "source": [
    "#See what one order looks like\n",
    "df"
   ]
  },
  {
   "cell_type": "code",
   "execution_count": null,
   "metadata": {},
   "outputs": [],
   "source": [
    "#See what orders look like with total money spent\n",
    "df = pd.read_sql_query('''SELECT *,\n",
    "                                (od.UnitPrice * od.Quantity) total_price\n",
    "                            FROM OrderDetail od\n",
    "                        ''', engine)"
   ]
  },
  {
   "cell_type": "code",
   "execution_count": null,
   "metadata": {},
   "outputs": [],
   "source": [
    "df.head()\n"
   ]
  },
  {
   "cell_type": "code",
   "execution_count": 4,
   "metadata": {},
   "outputs": [
    {
     "name": "stdout",
     "output_type": "stream",
     "text": [
      "2019-01-31 18:42:15,520 INFO sqlalchemy.engine.base.Engine SELECT CAST('test plain returns' AS VARCHAR(60)) AS anon_1\n",
      "2019-01-31 18:42:15,521 INFO sqlalchemy.engine.base.Engine ()\n",
      "2019-01-31 18:42:15,523 INFO sqlalchemy.engine.base.Engine SELECT CAST('test unicode returns' AS VARCHAR(60)) AS anon_1\n",
      "2019-01-31 18:42:15,524 INFO sqlalchemy.engine.base.Engine ()\n",
      "2019-01-31 18:42:15,525 INFO sqlalchemy.engine.base.Engine SELECT [Order].CustomerId,\n",
      "                            SUM(\n",
      "                                CASE WHEN OrderDetail.Discount == 0.0 \n",
      "                                THEN 1 ELSE 0 END\n",
      "                                ) no_disc,\n",
      "                            SUM(\n",
      "                                CASE WHEN OrderDetail.Discount == 0.0\n",
      "                                THEN OrderDetail.Quantity ELSE 0 END\n",
      "                                ) quant_no_disc,\n",
      "                            SUM(\n",
      "                                CASE WHEN OrderDetail.Discount != 0.0 \n",
      "                                THEN 1 ELSE 0 END\n",
      "                                ) all_discs,\n",
      "                            SUM(\n",
      "                                CASE WHEN OrderDetail.Discount != 0.0\n",
      "                                THEN OrderDetail.Quantity ELSE 0 END\n",
      "                                ) quant_all_discs,\n",
      "                            SUM(\n",
      "                                CASE WHEN OrderDetail.Discount < 0.06 \n",
      "                                AND OrderDetail.Discount > 0.0\n",
      "                                THEN 1 ELSE 0 END\n",
      "                                ) disc06,                            \n",
      "                            SUM(\n",
      "                                CASE WHEN OrderDetail.Discount < 0.06\n",
      "                                AND OrderDetail.Discount > 0.0\n",
      "                                THEN OrderDetail.Quantity ELSE 0 END\n",
      "                                ) quant_disc06,\n",
      "                            SUM(\n",
      "                                CASE WHEN OrderDetail.Discount == 0.1 \n",
      "                                THEN 1 ELSE 0 END\n",
      "                                ) disc10,\n",
      "                            SUM(\n",
      "                                CASE WHEN OrderDetail.Discount == 0.1\n",
      "                                THEN OrderDetail.Quantity ELSE 0 END\n",
      "                                ) quant_disc10,                            \n",
      "                            SUM(\n",
      "                                CASE WHEN OrderDetail.Discount == 0.15 \n",
      "                                THEN 1 ELSE 0 END\n",
      "                                ) disc15,\n",
      "                            SUM(\n",
      "                                CASE WHEN OrderDetail.Discount == 0.15\n",
      "                                THEN OrderDetail.Quantity ELSE 0 END\n",
      "                                ) quant_disc15,                            \n",
      "                            SUM(\n",
      "                                CASE WHEN OrderDetail.Discount == 0.2 \n",
      "                                THEN 1 ELSE 0 END\n",
      "                                ) disc20,\n",
      "                            SUM(\n",
      "                                CASE WHEN OrderDetail.Discount == 0.2\n",
      "                                THEN OrderDetail.Quantity ELSE 0 END\n",
      "                                ) quant_disc20,                                \n",
      "                            SUM(\n",
      "                                CASE WHEN OrderDetail.Discount == 0.25 \n",
      "                                THEN 1 ELSE 0 END\n",
      "                                ) disc25,\n",
      "                            SUM(\n",
      "                                CASE WHEN OrderDetail.Discount == 0.25\n",
      "                                THEN OrderDetail.Quantity ELSE 0 END\n",
      "                                ) quant_disc25,\n",
      "                            Count(*) total_orders,\n",
      "                            SUM(OrderDetail.Quantity) total_quantities\n",
      "                            FROM OrderDetail \n",
      "                            INNER JOIN [Order] on OrderDetail.OrderId = [Order].Id\n",
      "                            GROUP BY [Order].CustomerId\n",
      "                            ORDER BY [Order].CustomerId ASC\n",
      "                        \n",
      "2019-01-31 18:42:15,526 INFO sqlalchemy.engine.base.Engine ()\n"
     ]
    }
   ],
   "source": [
    "#Compare quantities ordered with and without discounts\n",
    "\n",
    "discs_ords = pd.read_sql_query('''SELECT [Order].CustomerId,\n",
    "                            SUM(\n",
    "                                CASE WHEN OrderDetail.Discount == 0.0 \n",
    "                                THEN 1 ELSE 0 END\n",
    "                                ) no_disc,\n",
    "                            SUM(\n",
    "                                CASE WHEN OrderDetail.Discount == 0.0\n",
    "                                THEN OrderDetail.Quantity ELSE 0 END\n",
    "                                ) quant_no_disc,\n",
    "                            SUM(\n",
    "                                CASE WHEN OrderDetail.Discount != 0.0 \n",
    "                                THEN 1 ELSE 0 END\n",
    "                                ) all_discs,\n",
    "                            SUM(\n",
    "                                CASE WHEN OrderDetail.Discount != 0.0\n",
    "                                THEN OrderDetail.Quantity ELSE 0 END\n",
    "                                ) quant_all_discs,\n",
    "                            SUM(\n",
    "                                CASE WHEN OrderDetail.Discount < 0.06 \n",
    "                                AND OrderDetail.Discount > 0.0\n",
    "                                THEN 1 ELSE 0 END\n",
    "                                ) disc06,                            \n",
    "                            SUM(\n",
    "                                CASE WHEN OrderDetail.Discount < 0.06\n",
    "                                AND OrderDetail.Discount > 0.0\n",
    "                                THEN OrderDetail.Quantity ELSE 0 END\n",
    "                                ) quant_disc06,\n",
    "                            SUM(\n",
    "                                CASE WHEN OrderDetail.Discount == 0.1 \n",
    "                                THEN 1 ELSE 0 END\n",
    "                                ) disc10,\n",
    "                            SUM(\n",
    "                                CASE WHEN OrderDetail.Discount == 0.1\n",
    "                                THEN OrderDetail.Quantity ELSE 0 END\n",
    "                                ) quant_disc10,                            \n",
    "                            SUM(\n",
    "                                CASE WHEN OrderDetail.Discount == 0.15 \n",
    "                                THEN 1 ELSE 0 END\n",
    "                                ) disc15,\n",
    "                            SUM(\n",
    "                                CASE WHEN OrderDetail.Discount == 0.15\n",
    "                                THEN OrderDetail.Quantity ELSE 0 END\n",
    "                                ) quant_disc15,                            \n",
    "                            SUM(\n",
    "                                CASE WHEN OrderDetail.Discount == 0.2 \n",
    "                                THEN 1 ELSE 0 END\n",
    "                                ) disc20,\n",
    "                            SUM(\n",
    "                                CASE WHEN OrderDetail.Discount == 0.2\n",
    "                                THEN OrderDetail.Quantity ELSE 0 END\n",
    "                                ) quant_disc20,                                \n",
    "                            SUM(\n",
    "                                CASE WHEN OrderDetail.Discount == 0.25 \n",
    "                                THEN 1 ELSE 0 END\n",
    "                                ) disc25,\n",
    "                            SUM(\n",
    "                                CASE WHEN OrderDetail.Discount == 0.25\n",
    "                                THEN OrderDetail.Quantity ELSE 0 END\n",
    "                                ) quant_disc25,\n",
    "                            Count(*) total_orders,\n",
    "                            SUM(OrderDetail.Quantity) total_quantities\n",
    "                            FROM OrderDetail \n",
    "                            INNER JOIN [Order] on OrderDetail.OrderId = [Order].Id\n",
    "                            GROUP BY [Order].CustomerId\n",
    "                            ORDER BY [Order].CustomerId ASC\n",
    "                        ''', engine)\n"
   ]
  },
  {
   "cell_type": "code",
   "execution_count": 5,
   "metadata": {
    "scrolled": true
   },
   "outputs": [
    {
     "data": {
      "text/html": [
       "<div>\n",
       "<style scoped>\n",
       "    .dataframe tbody tr th:only-of-type {\n",
       "        vertical-align: middle;\n",
       "    }\n",
       "\n",
       "    .dataframe tbody tr th {\n",
       "        vertical-align: top;\n",
       "    }\n",
       "\n",
       "    .dataframe thead th {\n",
       "        text-align: right;\n",
       "    }\n",
       "</style>\n",
       "<table border=\"1\" class=\"dataframe\">\n",
       "  <thead>\n",
       "    <tr style=\"text-align: right;\">\n",
       "      <th></th>\n",
       "      <th>CustomerId</th>\n",
       "      <th>no_disc</th>\n",
       "      <th>quant_no_disc</th>\n",
       "      <th>all_discs</th>\n",
       "      <th>quant_all_discs</th>\n",
       "      <th>disc06</th>\n",
       "      <th>quant_disc06</th>\n",
       "      <th>disc10</th>\n",
       "      <th>quant_disc10</th>\n",
       "      <th>disc15</th>\n",
       "      <th>quant_disc15</th>\n",
       "      <th>disc20</th>\n",
       "      <th>quant_disc20</th>\n",
       "      <th>disc25</th>\n",
       "      <th>quant_disc25</th>\n",
       "      <th>total_orders</th>\n",
       "      <th>total_quantities</th>\n",
       "    </tr>\n",
       "  </thead>\n",
       "  <tbody>\n",
       "    <tr>\n",
       "      <th>0</th>\n",
       "      <td>ALFKI</td>\n",
       "      <td>6</td>\n",
       "      <td>78</td>\n",
       "      <td>6</td>\n",
       "      <td>96</td>\n",
       "      <td>2</td>\n",
       "      <td>56</td>\n",
       "      <td>0</td>\n",
       "      <td>0</td>\n",
       "      <td>0</td>\n",
       "      <td>0</td>\n",
       "      <td>1</td>\n",
       "      <td>2</td>\n",
       "      <td>3</td>\n",
       "      <td>38</td>\n",
       "      <td>12</td>\n",
       "      <td>174</td>\n",
       "    </tr>\n",
       "    <tr>\n",
       "      <th>1</th>\n",
       "      <td>ANATR</td>\n",
       "      <td>10</td>\n",
       "      <td>63</td>\n",
       "      <td>0</td>\n",
       "      <td>0</td>\n",
       "      <td>0</td>\n",
       "      <td>0</td>\n",
       "      <td>0</td>\n",
       "      <td>0</td>\n",
       "      <td>0</td>\n",
       "      <td>0</td>\n",
       "      <td>0</td>\n",
       "      <td>0</td>\n",
       "      <td>0</td>\n",
       "      <td>0</td>\n",
       "      <td>10</td>\n",
       "      <td>63</td>\n",
       "    </tr>\n",
       "    <tr>\n",
       "      <th>2</th>\n",
       "      <td>ANTO</td>\n",
       "      <td>9</td>\n",
       "      <td>211</td>\n",
       "      <td>8</td>\n",
       "      <td>148</td>\n",
       "      <td>0</td>\n",
       "      <td>0</td>\n",
       "      <td>4</td>\n",
       "      <td>80</td>\n",
       "      <td>4</td>\n",
       "      <td>68</td>\n",
       "      <td>0</td>\n",
       "      <td>0</td>\n",
       "      <td>0</td>\n",
       "      <td>0</td>\n",
       "      <td>17</td>\n",
       "      <td>359</td>\n",
       "    </tr>\n",
       "    <tr>\n",
       "      <th>3</th>\n",
       "      <td>AROUT</td>\n",
       "      <td>23</td>\n",
       "      <td>439</td>\n",
       "      <td>7</td>\n",
       "      <td>211</td>\n",
       "      <td>3</td>\n",
       "      <td>128</td>\n",
       "      <td>2</td>\n",
       "      <td>40</td>\n",
       "      <td>1</td>\n",
       "      <td>28</td>\n",
       "      <td>1</td>\n",
       "      <td>15</td>\n",
       "      <td>0</td>\n",
       "      <td>0</td>\n",
       "      <td>30</td>\n",
       "      <td>650</td>\n",
       "    </tr>\n",
       "    <tr>\n",
       "      <th>4</th>\n",
       "      <td>BERGS</td>\n",
       "      <td>34</td>\n",
       "      <td>632</td>\n",
       "      <td>18</td>\n",
       "      <td>369</td>\n",
       "      <td>0</td>\n",
       "      <td>0</td>\n",
       "      <td>10</td>\n",
       "      <td>161</td>\n",
       "      <td>0</td>\n",
       "      <td>0</td>\n",
       "      <td>0</td>\n",
       "      <td>0</td>\n",
       "      <td>8</td>\n",
       "      <td>208</td>\n",
       "      <td>52</td>\n",
       "      <td>1001</td>\n",
       "    </tr>\n",
       "  </tbody>\n",
       "</table>\n",
       "</div>"
      ],
      "text/plain": [
       "  CustomerId  no_disc  quant_no_disc  all_discs  quant_all_discs  disc06  \\\n",
       "0      ALFKI        6             78          6               96       2   \n",
       "1      ANATR       10             63          0                0       0   \n",
       "2       ANTO        9            211          8              148       0   \n",
       "3      AROUT       23            439          7              211       3   \n",
       "4      BERGS       34            632         18              369       0   \n",
       "\n",
       "   quant_disc06  disc10  quant_disc10  disc15  quant_disc15  disc20  \\\n",
       "0            56       0             0       0             0       1   \n",
       "1             0       0             0       0             0       0   \n",
       "2             0       4            80       4            68       0   \n",
       "3           128       2            40       1            28       1   \n",
       "4             0      10           161       0             0       0   \n",
       "\n",
       "   quant_disc20  disc25  quant_disc25  total_orders  total_quantities  \n",
       "0             2       3            38            12               174  \n",
       "1             0       0             0            10                63  \n",
       "2             0       0             0            17               359  \n",
       "3            15       0             0            30               650  \n",
       "4             0       8           208            52              1001  "
      ]
     },
     "execution_count": 5,
     "metadata": {},
     "output_type": "execute_result"
    }
   ],
   "source": [
    "#Compare quantities ordered with and without discounts\n",
    "discs_ords.head()"
   ]
  },
  {
   "cell_type": "code",
   "execution_count": null,
   "metadata": {},
   "outputs": [],
   "source": [
    "discs_ords.shape"
   ]
  },
  {
   "cell_type": "code",
   "execution_count": 19,
   "metadata": {},
   "outputs": [
    {
     "name": "stdout",
     "output_type": "stream",
     "text": [
      "Control group mean: 321.3370786516854\n",
      "Control group sum: 28599\n",
      "Treatment group mean: 255.25842696629215\n",
      "Treatment group sum: 22718\n"
     ]
    }
   ],
   "source": [
    "print('Control group mean:', discs_ords['quant_no_disc'].mean())\n",
    "print('Control group sum:', discs_ords['quant_no_disc'].sum())\n",
    "print('Treatment group mean:', discs_ords['quant_all_discs'].mean())\n",
    "print('Treatment group sum:', discs_ords['quant_all_discs'].sum())"
   ]
  },
  {
   "cell_type": "code",
   "execution_count": 15,
   "metadata": {
    "scrolled": false
   },
   "outputs": [
    {
     "data": {
      "text/plain": [
       "(array([41., 21.,  9.,  6.,  4.,  3.,  1.,  0.,  0.,  1.,  0.,  0.,  0.,\n",
       "         0.,  0.,  0.,  0.,  0.,  2.,  1.]),\n",
       " array([   0.  ,  122.85,  245.7 ,  368.55,  491.4 ,  614.25,  737.1 ,\n",
       "         859.95,  982.8 , 1105.65, 1228.5 , 1351.35, 1474.2 , 1597.05,\n",
       "        1719.9 , 1842.75, 1965.6 , 2088.45, 2211.3 , 2334.15, 2457.  ]),\n",
       " <a list of 20 Patch objects>)"
      ]
     },
     "execution_count": 15,
     "metadata": {},
     "output_type": "execute_result"
    },
    {
     "data": {
      "image/png": "[encoded data removed]",
      "text/plain": [
       "<Figure size 432x288 with 1 Axes>"
      ]
     },
     "metadata": {
      "needs_background": "light"
     },
     "output_type": "display_data"
    }
   ],
   "source": [
    "plt.hist(discs_ords['quant_all_discs'], bins=20)"
   ]
  },
  {
   "cell_type": "code",
   "execution_count": 16,
   "metadata": {},
   "outputs": [
    {
     "data": {
      "text/plain": [
       "(array([34., 20., 11.,  7., 10.,  0.,  3.,  1.,  0.,  0.,  0.,  0.,  0.,\n",
       "         1.,  0.,  0.,  0.,  0.,  1.,  1.]),\n",
       " array([  11. ,  135.5,  260. ,  384.5,  509. ,  633.5,  758. ,  882.5,\n",
       "        1007. , 1131.5, 1256. , 1380.5, 1505. , 1629.5, 1754. , 1878.5,\n",
       "        2003. , 2127.5, 2252. , 2376.5, 2501. ]),\n",
       " <a list of 20 Patch objects>)"
      ]
     },
     "execution_count": 16,
     "metadata": {},
     "output_type": "execute_result"
    },
    {
     "data": {
      "image/png": "[encoded data removed]",
      "text/plain": [
       "<Figure size 432x288 with 1 Axes>"
      ]
     },
     "metadata": {
      "needs_background": "light"
     },
     "output_type": "display_data"
    }
   ],
   "source": [
    "plt.hist(discs_ords['quant_no_disc'], bins=20)"
   ]
  },
  {
   "cell_type": "code",
   "execution_count": null,
   "metadata": {},
   "outputs": [],
   "source": [
    "#Again, the two distributions look very close, both with greatest density around the lower values\n",
    "#At this point I can predict that there won't be a significant difference between the two"
   ]
  },
  {
   "cell_type": "code",
   "execution_count": 18,
   "metadata": {
    "scrolled": true
   },
   "outputs": [
    {
     "name": "stderr",
     "output_type": "stream",
     "text": [
      "C:\\Users\\Stee\\Anaconda3good\\lib\\site-packages\\scipy\\stats\\stats.py:1713: FutureWarning: Using a non-tuple sequence for multidimensional indexing is deprecated; use `arr[tuple(seq)]` instead of `arr[seq]`. In the future this will be interpreted as an array index, `arr[np.array(seq)]`, which will result either in an error or a different result.\n",
      "  return np.add.reduce(sorted[indexer] * weights, axis=axis) / sumval\n"
     ]
    },
    {
     "data": {
      "text/plain": [
       "<matplotlib.axes._subplots.AxesSubplot at 0xb4cf8d0>"
      ]
     },
     "execution_count": 18,
     "metadata": {},
     "output_type": "execute_result"
    },
    {
     "data": {
      "image/png": "[encoded data removed]",
      "text/plain": [
       "<Figure size 432x288 with 1 Axes>"
      ]
     },
     "metadata": {
      "needs_background": "light"
     },
     "output_type": "display_data"
    }
   ],
   "source": [
    "#Show the distribution with a kde to check for normality\n",
    "sns.distplot(discs_ords['quant_no_disc'])"
   ]
  },
  {
   "cell_type": "code",
   "execution_count": 19,
   "metadata": {
    "scrolled": true
   },
   "outputs": [
    {
     "name": "stdout",
     "output_type": "stream",
     "text": [
      "The population distribution has only 89 values.\n"
     ]
    }
   ],
   "source": [
    "print(\"The population distribution has only\", discs_ords.shape[0], \"values.\")"
   ]
  },
  {
   "cell_type": "markdown",
   "metadata": {},
   "source": [
    "### Hypothesis 1: Resampling by bootstrapping"
   ]
  },
  {
   "cell_type": "code",
   "execution_count": 65,
   "metadata": {},
   "outputs": [],
   "source": []
  },
  {
   "cell_type": "code",
   "execution_count": 13,
   "metadata": {},
   "outputs": [],
   "source": [
    "#Bootstrap method via https://codingdisciple.com/bootstrap-hypothesis-testing.html\n",
    "#Get the data to look more \"normal\" with bootstrapping\n",
    "#\"Control\" is the no-discount group\n",
    "#\"Treatment\" is the discount group"
   ]
  },
  {
   "cell_type": "code",
   "execution_count": 14,
   "metadata": {},
   "outputs": [],
   "source": [
    "alpha = 0.05 # The value chosen for comparison with the test statistic.\n",
    "#Test statistic will need to be lower than this in order to reject the null hypothesis."
   ]
  },
  {
   "cell_type": "code",
   "execution_count": 15,
   "metadata": {},
   "outputs": [],
   "source": [
    "p = None #The value chosen for the test statistic. \n",
    "#In this case, it will be the number of differences in mean greater than\n",
    "#or equal to the observed difference in mean between the no-discount dist\n",
    "# (control group) and the with-discount dist (treatment group.)"
   ]
  },
  {
   "cell_type": "code",
   "execution_count": 16,
   "metadata": {},
   "outputs": [],
   "source": [
    "#Put the two groups of data into arrays to be resampled &c\n",
    "control1 = discs_ords['quant_no_disc'] #The quantities of items ordered without discount\n",
    "treatment1 = discs_ords['quant_all_discs'] #The quantitites of items ordered with a discount\n",
    "\n",
    "permus = 10000 #number of samples to take\n",
    "\n",
    "combo = np.concatenate((control1, treatment1), axis = 0) #both dists combined for taking samples\n",
    "\n",
    "permus_control1 = []\n",
    "permus_treatment1 = []\n",
    "\n",
    "for i in range(permus): #Generate this many permutations\n",
    "    np.random.seed(i) #seed for consistency\n",
    "    permus_control1.append(resample(combo, n_samples = len(control1)))\n",
    "    permus_treatment1.append(resample(combo, n_samples = len(treatment1)))\n",
    "    \n",
    "#Take the difference in means between the two sets of permutations\n",
    "diff_boot_means = (np.mean(permus_control1, axis = 1) - np.mean(permus_treatment1, axis = 1))\n",
    "\n",
    "observed_diff = (np.mean(control1) - np.mean(treatment1))\n",
    "print('Observed difference between the means:', observed_diff)"
   ]
  },
  {
   "cell_type": "code",
   "execution_count": 94,
   "metadata": {},
   "outputs": [
    {
     "data": {
      "text/plain": [
       "0.1467"
      ]
     },
     "execution_count": 94,
     "metadata": {},
     "output_type": "execute_result"
    }
   ],
   "source": [
    "#Find the p value by counting how many differences in mean were greater than \n",
    "#or equal to the observed difference in means.\n",
    "means_below_observed = diff_boot_means[diff_boot_means >= observed_diff].shape[0]\n",
    "p = means_below_observed / permus\n",
    "p"
   ]
  },
  {
   "cell_type": "code",
   "execution_count": 88,
   "metadata": {},
   "outputs": [],
   "source": [
    "#Get the difference between control and treatment to \n",
    "#find the confidence interval\n",
    "lower_bound = np.percentile(diff_boot_means, 2.5)\n",
    "upper_bound = np.percentile(diff_boot_means, 97.5)"
   ]
  },
  {
   "cell_type": "code",
   "execution_count": 93,
   "metadata": {},
   "outputs": [
    {
     "data": {
      "image/png": "[encoded data removed]",
      "text/plain": [
       "<Figure size 720x360 with 1 Axes>"
      ]
     },
     "metadata": {
      "needs_background": "light"
     },
     "output_type": "display_data"
    }
   ],
   "source": [
    "#Plot the differences in means between the 2 bootstrapped groups with the p value\n",
    "fig = plt.figure(figsize = (10,5))\n",
    "ax = plt.hist(diff_boot_means, bins = 30)\n",
    "plt.axvline(-observed_diff, color = 'red', label = '-p')\n",
    "plt.axvline(observed_diff, color = 'red', label = 'p')\n",
    "plt.axvline(lower_bound, color = 'lightgreen', label = 'lower bound')\n",
    "plt.axvline(upper_bound, color = 'darkgreen', label = 'upper bound')\n",
    "plt.xlabel('Difference in means')\n",
    "plt.ylabel('Frequency')\n",
    "plt.legend()\n",
    "plt.title('Bootstrapped Population (Combined data from with-discount and without-discount)')\n",
    "plt.show()"
   ]
  },
  {
   "cell_type": "code",
   "execution_count": 98,
   "metadata": {},
   "outputs": [
    {
     "name": "stdout",
     "output_type": "stream",
     "text": [
      "1467 out of 10000 samples had a difference in means of 66.08 or higher.\n"
     ]
    }
   ],
   "source": [
    "#The p-value falls outside of both rejection regions. \n",
    "print(means_below_observed, 'out of', permus, 'samples had a difference in means of', \n",
    "      round(observed_diff, 2), 'or higher.')"
   ]
  },
  {
   "cell_type": "markdown",
   "metadata": {},
   "source": [
    "### Hypothesis 1, Part 2: At what level of discount?"
   ]
  },
  {
   "cell_type": "code",
   "execution_count": 20,
   "metadata": {},
   "outputs": [],
   "source": [
    "disc06 = discs_ords['quant_disc06'] #quantities of items ordered with 06% discount\n",
    "disc10 = discs_ords['quant_disc10'] #quantities of items ordered with 10% discount\n",
    "disc15 = discs_ords['quant_disc15'] #quantities of items ordered with 15% discount\n",
    "disc20 = discs_ords['quant_disc20'] #quantities of items ordered with 20% discount\n",
    "disc25 = discs_ords['quant_disc25'] #quantities of items ordered with 25% discount"
   ]
  },
  {
   "cell_type": "code",
   "execution_count": 21,
   "metadata": {},
   "outputs": [],
   "source": [
    "disc_levels = [disc06, disc10, disc15, disc20, disc25]"
   ]
  },
  {
   "cell_type": "code",
   "execution_count": 28,
   "metadata": {},
   "outputs": [
    {
     "name": "stdout",
     "output_type": "stream",
     "text": [
      "255.25842696629215 22718\n",
      "58.359550561797754 5194 41\n",
      "49.056179775280896 4366 38\n",
      "50.06741573033708 4456 38\n",
      "48.8876404494382 4351 39\n",
      "48.86516853932584 4349 38\n"
     ]
    }
   ],
   "source": [
    "print(treatment1.mean(), treatment1.sum())\n",
    "for level in disc_levels:\n",
    "    print(level.mean(), level.sum(), level[level > 0].shape[0])"
   ]
  },
  {
   "cell_type": "code",
   "execution_count": 29,
   "metadata": {},
   "outputs": [],
   "source": [
    "#HISTS TO BE PUT IN LINE LATER\n",
    "#for level in disc_levels:\n",
    "#    plt.hist(level, bins=20)\n",
    "#    plt.show()\n",
    "#Hists show that these dists are all non-normal too."
   ]
  },
  {
   "cell_type": "code",
   "execution_count": 40,
   "metadata": {},
   "outputs": [],
   "source": [
    "#More bootstrapping\n",
    "#Put the two groups of data into arrays to be resampled &c\n",
    "permus = 10000 #number of samples to take\n",
    "\n",
    "combo06 = []\n",
    "combo10 = []\n",
    "combo15 = []\n",
    "combo20 = []\n",
    "combo25 = []\n",
    "combos = [combo06, combo10, combo15, combo20, combo25]\n",
    "discounts = ['.06', '.10', '.15', '.20', '.25']\n",
    "levels_combos = list(zip(disc_levels, combos, discounts))"
   ]
  },
  {
   "cell_type": "code",
   "execution_count": 44,
   "metadata": {
    "scrolled": false
   },
   "outputs": [
    {
     "data": {
      "image/png": "[encoded data removed]",
      "text/plain": [
       "<Figure size 720x360 with 1 Axes>"
      ]
     },
     "metadata": {
      "needs_background": "light"
     },
     "output_type": "display_data"
    },
    {
     "name": "stdout",
     "output_type": "stream",
     "text": [
      "Observed difference between the means: 66.07865168539323\n",
      "P-value: 0.0857\n",
      "Lower bound: -95.8202247191011 Upper bound: 96.16348314606732\n"
     ]
    },
    {
     "data": {
      "image/png": "[encoded data removed]",
      "text/plain": [
       "<Figure size 720x360 with 1 Axes>"
      ]
     },
     "metadata": {
      "needs_background": "light"
     },
     "output_type": "display_data"
    },
    {
     "name": "stdout",
     "output_type": "stream",
     "text": [
      "Observed difference between the means: 66.07865168539323\n",
      "P-value: 0.0862\n",
      "Lower bound: -94.83258426966292 Upper bound: 97.001404494382\n"
     ]
    },
    {
     "data": {
      "image/png": "[encoded data removed]",
      "text/plain": [
       "<Figure size 720x360 with 1 Axes>"
      ]
     },
     "metadata": {
      "needs_background": "light"
     },
     "output_type": "display_data"
    },
    {
     "name": "stdout",
     "output_type": "stream",
     "text": [
      "Observed difference between the means: 66.07865168539323\n",
      "P-value: 0.0879\n",
      "Lower bound: -96.1137640449438 Upper bound: 96.97780898876404\n"
     ]
    },
    {
     "data": {
      "image/png": "[encoded data removed]",
      "text/plain": [
       "<Figure size 720x360 with 1 Axes>"
      ]
     },
     "metadata": {
      "needs_background": "light"
     },
     "output_type": "display_data"
    },
    {
     "name": "stdout",
     "output_type": "stream",
     "text": [
      "Observed difference between the means: 66.07865168539323\n",
      "P-value: 0.0867\n",
      "Lower bound: -95.39353932584267 Upper bound: 96.80898876404494\n"
     ]
    },
    {
     "data": {
      "image/png": "[encoded data removed]",
      "text/plain": [
       "<Figure size 720x360 with 1 Axes>"
      ]
     },
     "metadata": {
      "needs_background": "light"
     },
     "output_type": "display_data"
    },
    {
     "name": "stdout",
     "output_type": "stream",
     "text": [
      "Observed difference between the means: 66.07865168539323\n",
      "P-value: 0.0879\n",
      "Lower bound: -96.56264044943818 Upper bound: 98.48398876404494\n"
     ]
    }
   ],
   "source": [
    "control = control1\n",
    "\n",
    "for treatment, combo, discount in levels_combos:\n",
    "    combo = np.concatenate((control1, treatment), axis = 0) #both dists combined for taking samples\n",
    "\n",
    "    permus_control = []\n",
    "    permus_treatment = []\n",
    "\n",
    "    for i in range(permus): #Generate this many permutations\n",
    "        np.random.seed(i) #seed for consistency\n",
    "        permus_control.append(resample(combo, n_samples = len(control)))\n",
    "        permus_treatment.append(resample(combo, n_samples = len(treatment)))\n",
    "    \n",
    "    #Take the difference in means between the two sets of permutations\n",
    "    diff_boot_means = (np.mean(permus_control, axis = 1) - np.mean(permus_treatment, axis = 1))\n",
    "    observed_diff = (np.mean(control1) - np.mean(treatment1)) \n",
    "\n",
    "    #Find the p value by counting how many differences in mean were greater than \n",
    "    #or equal to the observed difference in means.\n",
    "    means_below_observed = diff_boot_means[diff_boot_means >= observed_diff].shape[0]\n",
    "    p = means_below_observed / permus\n",
    "\n",
    "    #Get the difference between control and treatment to \n",
    "    #find the confidence interval\n",
    "    lower_bound = np.percentile(diff_boot_means, 2.5)\n",
    "    upper_bound = np.percentile(diff_boot_means, 97.5)\n",
    "    \n",
    "    #Plot the differences in means between the 2 bootstrapped groups with the p value\n",
    "    fig = plt.figure(figsize = (10,5))\n",
    "    ax = plt.hist(diff_boot_means, bins = 30)\n",
    "    plt.axvline(-observed_diff, color = 'red', label = '-p')\n",
    "    plt.axvline(observed_diff, color = 'red', label = 'p')\n",
    "    plt.axvline(lower_bound, color = 'lightgreen', label = 'lower bound')\n",
    "    plt.axvline(upper_bound, color = 'darkgreen', label = 'upper bound')\n",
    "    plt.xlabel('Difference in means')\n",
    "    plt.ylabel('Frequency')\n",
    "    plt.legend()\n",
    "    title = 'Bootstrapped Population (Combined no-discount item quantities & ' + discount + ' discount item quantities)'\n",
    "    plt.title(title)\n",
    "    plt.show()\n",
    "    \n",
    "    #Print summary\n",
    "    print('Observed difference between the means:', observed_diff)\n",
    "    print('P-value:', p)\n",
    "    print('Lower bound:', lower_bound, 'Upper bound:', upper_bound)"
   ]
  },
  {
   "cell_type": "code",
   "execution_count": null,
   "metadata": {},
   "outputs": [],
   "source": [
    "#RESULTS FOR HYPOTHESIS 1 PART 2: Null hypothesis is accepted"
   ]
  },
  {
   "cell_type": "code",
   "execution_count": null,
   "metadata": {},
   "outputs": [],
   "source": []
  },
  {
   "cell_type": "code",
   "execution_count": null,
   "metadata": {},
   "outputs": [],
   "source": []
  },
  {
   "cell_type": "code",
   "execution_count": null,
   "metadata": {},
   "outputs": [],
   "source": []
  },
  {
   "cell_type": "code",
   "execution_count": null,
   "metadata": {},
   "outputs": [],
   "source": []
  },
  {
   "cell_type": "code",
   "execution_count": null,
   "metadata": {},
   "outputs": [],
   "source": []
  },
  {
   "cell_type": "code",
   "execution_count": null,
   "metadata": {},
   "outputs": [],
   "source": []
  },
  {
   "cell_type": "code",
   "execution_count": null,
   "metadata": {},
   "outputs": [],
   "source": []
  },
  {
   "cell_type": "code",
   "execution_count": null,
   "metadata": {},
   "outputs": [],
   "source": [
    "#HYPO 1 PART 1\n",
    "#Sanity check for quantities\n",
    "#w/o discount. ALL GOOD\n",
    "#df_wo_discount = pd.read_sql_query('''SELECT [Order].CustomerId, \n",
    "#                                        SUM(\n",
    "#                                            CASE WHEN OrderDetail.Discount == 0.0\n",
    "#                                            THEN OrderDetail.Quantity ELSE 0 END\n",
    "#                                            ) quants_nodisc\n",
    "#                                        FROM OrderDetail\n",
    "#                                        INNER JOIN [Order] on OrderDetail.OrderId = [Order].Id\n",
    "#                                        GROUP BY [Order].CustomerId\n",
    "#                                        ORDER BY [Order].CustomerId ASC\n",
    "#                                    ''', engine)\n",
    "\n",
    "#w/ discount\n",
    "#df_w_discount = pd.read_sql_query('''SELECT [Order].CustomerId,\n",
    "#                                        SUM(\n",
    "#                                            CASE WHEN OrderDetail.Discount != 0.0\n",
    "#                                            THEN OrderDetail.Quantity ELSE 0 END\n",
    "#                                            ) quants_disc\n",
    "#                                        FROM OrderDetail \n",
    "#                                        INNER JOIN [Order] on OrderDetail.OrderId = [Order].Id\n",
    "#                                        WHERE OrderDetail.Discount != 0.0\n",
    "#                                        GROUP BY [Order].CustomerId\n",
    "#                                        ORDER BY [Order].CustomerId ASC\n",
    "#                                ''', engine)"
   ]
  },
  {
   "cell_type": "code",
   "execution_count": null,
   "metadata": {},
   "outputs": [],
   "source": [
    "#HYPO 1 PART 1\n",
    "#Not sure whether grouping is affecting the quantity sums per order. \n",
    "#i.e. is it adding up the quantities for every record assoc with an order id or just for one?\n",
    "#Look at number of orders per cust id\n",
    "#alfki = pd.read_sql_query(\"\"\"SELECT [Order].CustomerId, OrderDetail.*\n",
    "#                            FROM OrderDetail \n",
    "#                            \n",
    "#                            INNER JOIN [Order] on OrderDetail.OrderId = [Order].Id\n",
    "#                            WHERE [Order].CustomerId == 'ALFKI'\n",
    "#                        \"\"\", engine)\n",
    "#PROVEN: sum is of quantities for every record not the group\n",
    "#alfki['Quantity'].sum()"
   ]
  },
  {
   "cell_type": "code",
   "execution_count": 103,
   "metadata": {},
   "outputs": [
    {
     "data": {
      "text/plain": [
       "(320.30266666666665, 321.3370786516854)"
      ]
     },
     "execution_count": 103,
     "metadata": {},
     "output_type": "execute_result"
    }
   ],
   "source": [
    "#FAILED T DIST METHOD TO BE DELETED\n",
    "#Check for similarity between sampling distribution means\n",
    "#and population means\n",
    "control1.mean(), discs_ords['quant_no_disc'].mean()"
   ]
  },
  {
   "cell_type": "code",
   "execution_count": 104,
   "metadata": {},
   "outputs": [
    {
     "data": {
      "text/plain": [
       "(255.23933333333335, 255.25842696629215)"
      ]
     },
     "execution_count": 104,
     "metadata": {},
     "output_type": "execute_result"
    }
   ],
   "source": [
    "treatment1.mean(), discs_ords['quant_all_discs'].mean()"
   ]
  },
  {
   "cell_type": "code",
   "execution_count": null,
   "metadata": {},
   "outputs": [],
   "source": [
    "#Both are pretty close"
   ]
  },
  {
   "cell_type": "code",
   "execution_count": 34,
   "metadata": {},
   "outputs": [
    {
     "data": {
      "text/plain": [
       "64.24199999999996"
      ]
     },
     "execution_count": 34,
     "metadata": {},
     "output_type": "execute_result"
    }
   ],
   "source": [
    "diff = control1.mean() - treatment1.mean()\n",
    "diff"
   ]
  },
  {
   "cell_type": "code",
   "execution_count": 90,
   "metadata": {},
   "outputs": [
    {
     "name": "stderr",
     "output_type": "stream",
     "text": [
      "C:\\Users\\Stee\\Anaconda3good\\lib\\site-packages\\scipy\\stats\\stats.py:1713: FutureWarning: Using a non-tuple sequence for multidimensional indexing is deprecated; use `arr[tuple(seq)]` instead of `arr[seq]`. In the future this will be interpreted as an array index, `arr[np.array(seq)]`, which will result either in an error or a different result.\n",
      "  return np.add.reduce(sorted[indexer] * weights, axis=axis) / sumval\n"
     ]
    },
    {
     "data": {
      "image/png": "[encoded data removed]",
      "text/plain": [
       "<Figure size 720x576 with 1 Axes>"
      ]
     },
     "metadata": {},
     "output_type": "display_data"
    }
   ],
   "source": [
    "#Compare both sampling distributions with hist and kde\n",
    "sns.set(color_codes = True)\n",
    "sns.set(rc={'figure.figsize':(10,8)})\n",
    "sns.distplot(control1, label = \"Control group (no discount)\")\n",
    "sns.distplot(treatment1, label = \"Treatment group (with discount)\")\n",
    "plt.axvline(control1.mean(), color = 'darkblue', label = 'Control mean')\n",
    "plt.axvline(treatment1.mean(), color = 'darkorange', label = 'Treatment mean')\n",
    "plt.legend()\n",
    "plt.show()"
   ]
  },
  {
   "cell_type": "code",
   "execution_count": 28,
   "metadata": {},
   "outputs": [],
   "source": [
    "#This plot shows that the mean for the control group is higher.\n",
    "#The question is, where on the distribution for the control group\n",
    "#would the value for the mean of the treament group fall? If it is\n",
    "#outside the critical region in the tails, then it will not be statistically\n",
    "#significantly different."
   ]
  },
  {
   "cell_type": "code",
   "execution_count": 108,
   "metadata": {},
   "outputs": [
    {
     "data": {
      "text/plain": [
       "(320.30266666666665, 255.23933333333335)"
      ]
     },
     "execution_count": 108,
     "metadata": {},
     "output_type": "execute_result"
    }
   ],
   "source": [
    "control1.mean(), treatment1.mean()"
   ]
  },
  {
   "cell_type": "code",
   "execution_count": 92,
   "metadata": {},
   "outputs": [
    {
     "data": {
      "text/plain": [
       "(78.659613988939, 74.82993678706107)"
      ]
     },
     "execution_count": 92,
     "metadata": {},
     "output_type": "execute_result"
    }
   ],
   "source": [
    "control1.std(), treatment1.std()"
   ]
  },
  {
   "cell_type": "code",
   "execution_count": 55,
   "metadata": {},
   "outputs": [
    {
     "data": {
      "text/plain": [
       "59.5295672345679"
      ]
     },
     "execution_count": 55,
     "metadata": {},
     "output_type": "execute_result"
    }
   ],
   "source": [
    "#Calculate a two-sample t statistic\n",
    "#First get variance of both samples\n",
    "var = ((control1.std()**2) + (treatment1.std()**2)) / (len(control1) + len(treatment1) - 2)\n",
    "var"
   ]
  },
  {
   "cell_type": "code",
   "execution_count": 59,
   "metadata": {},
   "outputs": [
    {
     "data": {
      "text/plain": [
       "6187.334872888888"
      ]
     },
     "execution_count": 59,
     "metadata": {},
     "output_type": "execute_result"
    }
   ],
   "source": [
    "control1.std()**2"
   ]
  },
  {
   "cell_type": "code",
   "execution_count": 62,
   "metadata": {},
   "outputs": [
    {
     "data": {
      "text/plain": [
       "5599.519439555556"
      ]
     },
     "execution_count": 62,
     "metadata": {},
     "output_type": "execute_result"
    }
   ],
   "source": [
    "treatment1.std()**2"
   ]
  },
  {
   "cell_type": "code",
   "execution_count": 78,
   "metadata": {},
   "outputs": [
    {
     "data": {
      "text/plain": [
       "618733.4872888888"
      ]
     },
     "execution_count": 78,
     "metadata": {},
     "output_type": "execute_result"
    }
   ],
   "source": [
    "control1_var = sum([(i - np.mean(control1))**2 for i in control1])\n",
    "control1_var"
   ]
  },
  {
   "cell_type": "code",
   "execution_count": 79,
   "metadata": {},
   "outputs": [
    {
     "data": {
      "text/plain": [
       "559951.9439555553"
      ]
     },
     "execution_count": 79,
     "metadata": {},
     "output_type": "execute_result"
    }
   ],
   "source": [
    "treatment1_var = sum([(i - np.mean(treatment1))**2 for i in treatment1])\n",
    "treatment1_var"
   ]
  },
  {
   "cell_type": "code",
   "execution_count": 67,
   "metadata": {},
   "outputs": [],
   "source": [
    "#FROM THE LAB ON TWO SAMPLE T TESTS\n",
    "#def variance(sample):\n",
    "#    sample_mean = np.mean(sample)\n",
    "#    return sum([(i - sample_mean)**2 for i in sample])\n",
    "#def sample_variance(sample1, sample2):\n",
    "#    n_1, n_2 = len(sample1), len(sample2)\n",
    "#    var_1, var_2 = variance(sample1), variance(sample2)\n",
    "#    return (var_1 + var_2)/((n_1 + n_2)-2)"
   ]
  },
  {
   "cell_type": "code",
   "execution_count": 80,
   "metadata": {},
   "outputs": [
    {
     "data": {
      "text/plain": [
       "5952.9567234567885"
      ]
     },
     "execution_count": 80,
     "metadata": {},
     "output_type": "execute_result"
    }
   ],
   "source": [
    "vari = (control1_var + treatment1_var) / (len(control1) + len(treatment1) -2)\n",
    "vari"
   ]
  },
  {
   "cell_type": "code",
   "execution_count": 81,
   "metadata": {},
   "outputs": [
    {
     "data": {
      "text/plain": [
       "-5.887591810766747"
      ]
     },
     "execution_count": 81,
     "metadata": {},
     "output_type": "execute_result"
    }
   ],
   "source": [
    "#Build numerator for t statistic\n",
    "numer = np.mean(treatment1) - np.mean(control1)\n",
    "#Build denominator for t statistic\n",
    "denom = np.sqrt(vari * ((1/len(treatment1)) + (1/len(control1))))\n",
    "t = numer / denom\n",
    "t"
   ]
  },
  {
   "cell_type": "code",
   "execution_count": 109,
   "metadata": {},
   "outputs": [
    {
     "data": {
      "text/plain": [
       "(-5.508644149453619, 1.1153214293532252e-07)"
      ]
     },
     "execution_count": 109,
     "metadata": {},
     "output_type": "execute_result"
    }
   ],
   "source": [
    "test_stat, p_value = stats.ttest_ind(treatment1, control1)\n",
    "test_stat, p_value"
   ]
  },
  {
   "cell_type": "code",
   "execution_count": 111,
   "metadata": {},
   "outputs": [
    {
     "data": {
      "text/plain": [
       "1.9720174778338955"
      ]
     },
     "execution_count": 111,
     "metadata": {},
     "output_type": "execute_result"
    }
   ],
   "source": [
    "#Another way to find the t value\n",
    "t_alt = stats.t.ppf(q = 0.975, df = (len(control1) + len(treatment1) -2))\n",
    "t_alt"
   ]
  },
  {
   "cell_type": "code",
   "execution_count": 106,
   "metadata": {},
   "outputs": [
    {
     "data": {
      "image/png": "[encoded data removed]",
      "text/plain": [
       "<Figure size 720x576 with 1 Axes>"
      ]
     },
     "metadata": {},
     "output_type": "display_data"
    }
   ],
   "source": [
    "#Draw a t distribution\n",
    "#A set of points for x\n",
    "xs = np.linspace(-4, 4, 500)\n",
    "#A probability density function for the t-dist\n",
    "ys = stats.t.pdf(xs, (len(control1) + len(treatment1) - 2), 0, 1)\n",
    "\n",
    "#Draw a figure\n",
    "fig = plt.figure(figsize=(10,8))\n",
    "ax = fig.gca()\n",
    "#t dist in red\n",
    "ax.plot(xs, ys, color = 'red')\n",
    "#critical region\n",
    "ax.axvline(t_alt, color = 'darkgreen')\n",
    "#other critical region\n",
    "ax.axvline(-t_alt, color = 'darkgreen')\n",
    "plt.show()"
   ]
  },
  {
   "cell_type": "code",
   "execution_count": 85,
   "metadata": {},
   "outputs": [
    {
     "data": {
      "text/plain": [
       "1.64338928498428e-08"
      ]
     },
     "execution_count": 85,
     "metadata": {},
     "output_type": "execute_result"
    }
   ],
   "source": [
    "stats.t.sf(abs(t), len(control1) + len(treatment1) - 1) * 2"
   ]
  },
  {
   "cell_type": "code",
   "execution_count": null,
   "metadata": {},
   "outputs": [],
   "source": []
  },
  {
   "cell_type": "code",
   "execution_count": 10,
   "metadata": {},
   "outputs": [],
   "source": [
    "#MORE BOOTSTRAPPING CODE FOR HYPO 1. FINDS THE CONFIDENCE INTERVALS\n",
    "#NOT NEEDED FOR HYPO 1, SAVE FOR LATER\n",
    "#control1_boot = [] #10,000 permutations with replacement \n",
    "#for i in range(permus):\n",
    "#    np.random.seed(i)\n",
    "#    control1_boot.append((resample(control1)))\n",
    "\n",
    "#control1_boot = np.mean(control1_boot, axis = 1)\n",
    "#control1_boot #10,000 means\n",
    "\n",
    "#treatment1_boot = [] #10,000 permutations with replacement \n",
    "#for i in range(permus):\n",
    "#    np.random.seed(i)\n",
    "#    treatment1_boot.append((resample(treatment1)))\n",
    "\n",
    "#treatment1_boot = np.mean(treatment1_boot, axis = 1)\n",
    "#treatment1_boot #10,000 means\n",
    "\n",
    "#Get the difference between control and treatment to \n",
    "#find the confidence interval\n",
    "#diffs = control1_boot - treatment1_boot\n",
    "#lower_bound = np.percentile(diffs, 2.5)\n",
    "#upper_bound = np.percentile(diffs, 97.5)\n",
    "\n",
    "#Plot the confidence interval\n",
    "#fig = plt.figure(figsize=(10,3))\n",
    "#ax = plt.hist(diffs, bins=30)\n",
    "\n",
    "#plt.xlabel('Differences between quantities of items ordered, no-discount vs with-discount')\n",
    "#plt.ylabel('Frequency')\n",
    "#plt.axvline(lower_bound, color = 'green')\n",
    "#plt.axvline(upper_bound, color = 'green')\n",
    "#plt.axvline(66.07, color = 'red') #true difference in means\n",
    "#plt.title('Bootstrapped Pop (Differences Between 2 Control 1 & Treatment 1)')\n",
    "#plt.show()\n",
    "\n",
    "#print('95% confidence that true difference between control and treatment groups is between', \n",
    "#      round(lower_bound, 2), 'and', round(upper_bound, 2), ', assuming null hypothesis is correct.')\n",
    "\n",
    "#mu1 = discs_ords['quant_no_disc'].mean() - discs_ords['quant_all_discs'].mean()\n",
    "#print('The true difference in means for control 1 and treatment 1 is', mu1)"
   ]
  },
  {
   "cell_type": "code",
   "execution_count": null,
   "metadata": {},
   "outputs": [],
   "source": []
  },
  {
   "cell_type": "code",
   "execution_count": null,
   "metadata": {},
   "outputs": [],
   "source": [
    "####EDA\n",
    "#Look at how many customers each company has\n",
    "df = pd.read_sql_query(\"\"\"SELECT Customer.Id, Customer.CompanyName\n",
    "                            FROM Customer\n",
    "                            ORDER BY Customer.CompanyName\n",
    "                        \"\"\", engine)"
   ]
  },
  {
   "cell_type": "code",
   "execution_count": null,
   "metadata": {},
   "outputs": [],
   "source": [
    "#Every company has only one customer. Orders can therefore be counted by customer or by company.\n",
    "sum(df['CompanyName'].value_counts() > 1)"
   ]
  },
  {
   "cell_type": "code",
   "execution_count": null,
   "metadata": {},
   "outputs": [],
   "source": [
    "# JUST AN EXAMPLE from the labs\n",
    "#\"\"\"SELECT o.ID, c.CompanyName, Count(*) num_orders \n",
    "#    FROM [Order] o\n",
    "#    INNER JOIN Customer c on o.CustomerID = c.ID \n",
    "#    GROUP BY c.CompanyName \n",
    "#    ORDER BY num_orders DESC\"\"\"\n",
    "\n",
    "#df = pd.read_sql_query(\"\"\"SELECT o.ID, c.CompanyName, Count(*) num_orders FROM [Order] \\\n",
    "#o INNER JOIN Customer c on o.CustomerID = c.ID GROUP BY c.CompanyName ORDER BY num_orders DESC\"\"\", engine)\n",
    "#df.head()"
   ]
  },
  {
   "cell_type": "code",
   "execution_count": null,
   "metadata": {},
   "outputs": [],
   "source": []
  },
  {
   "cell_type": "code",
   "execution_count": null,
   "metadata": {},
   "outputs": [],
   "source": []
  },
  {
   "cell_type": "code",
   "execution_count": null,
   "metadata": {},
   "outputs": [],
   "source": []
  },
  {
   "cell_type": "code",
   "execution_count": null,
   "metadata": {},
   "outputs": [],
   "source": []
  },
  {
   "cell_type": "code",
   "execution_count": null,
   "metadata": {},
   "outputs": [],
   "source": []
  },
  {
   "cell_type": "code",
   "execution_count": null,
   "metadata": {},
   "outputs": [],
   "source": []
  },
  {
   "cell_type": "code",
   "execution_count": null,
   "metadata": {},
   "outputs": [],
   "source": []
  },
  {
   "cell_type": "code",
   "execution_count": null,
   "metadata": {},
   "outputs": [],
   "source": []
  },
  {
   "cell_type": "code",
   "execution_count": null,
   "metadata": {},
   "outputs": [],
   "source": []
  },
  {
   "cell_type": "code",
   "execution_count": 56,
   "metadata": {},
   "outputs": [
    {
     "name": "stdout",
     "output_type": "stream",
     "text": [
      "2019-01-31 20:03:17,912 INFO sqlalchemy.engine.base.Engine SELECT name FROM sqlite_master WHERE type='table' ORDER BY name\n",
      "2019-01-31 20:03:17,913 INFO sqlalchemy.engine.base.Engine ()\n",
      "2019-01-31 20:03:17,916 INFO sqlalchemy.engine.base.Engine PRAGMA table_info(\"Category\")\n",
      "2019-01-31 20:03:17,917 INFO sqlalchemy.engine.base.Engine ()\n",
      "2019-01-31 20:03:17,919 INFO sqlalchemy.engine.base.Engine SELECT sql FROM  (SELECT * FROM sqlite_master UNION ALL   SELECT * FROM sqlite_temp_master) WHERE name = 'Category' AND type = 'table'\n",
      "2019-01-31 20:03:17,920 INFO sqlalchemy.engine.base.Engine ()\n",
      "2019-01-31 20:03:17,921 INFO sqlalchemy.engine.base.Engine PRAGMA foreign_key_list(\"Category\")\n",
      "2019-01-31 20:03:17,922 INFO sqlalchemy.engine.base.Engine ()\n",
      "2019-01-31 20:03:17,923 INFO sqlalchemy.engine.base.Engine SELECT sql FROM  (SELECT * FROM sqlite_master UNION ALL   SELECT * FROM sqlite_temp_master) WHERE name = 'Category' AND type = 'table'\n",
      "2019-01-31 20:03:17,924 INFO sqlalchemy.engine.base.Engine ()\n",
      "2019-01-31 20:03:17,927 INFO sqlalchemy.engine.base.Engine PRAGMA index_list(\"Category\")\n",
      "2019-01-31 20:03:17,928 INFO sqlalchemy.engine.base.Engine ()\n",
      "2019-01-31 20:03:17,929 INFO sqlalchemy.engine.base.Engine PRAGMA index_list(\"Category\")\n",
      "2019-01-31 20:03:17,930 INFO sqlalchemy.engine.base.Engine ()\n",
      "2019-01-31 20:03:17,931 INFO sqlalchemy.engine.base.Engine SELECT sql FROM  (SELECT * FROM sqlite_master UNION ALL   SELECT * FROM sqlite_temp_master) WHERE name = 'Category' AND type = 'table'\n",
      "2019-01-31 20:03:17,932 INFO sqlalchemy.engine.base.Engine ()\n",
      "2019-01-31 20:03:17,935 INFO sqlalchemy.engine.base.Engine PRAGMA table_info(\"Customer\")\n",
      "2019-01-31 20:03:17,936 INFO sqlalchemy.engine.base.Engine ()\n",
      "2019-01-31 20:03:17,939 INFO sqlalchemy.engine.base.Engine SELECT sql FROM  (SELECT * FROM sqlite_master UNION ALL   SELECT * FROM sqlite_temp_master) WHERE name = 'Customer' AND type = 'table'\n",
      "2019-01-31 20:03:17,941 INFO sqlalchemy.engine.base.Engine ()\n",
      "2019-01-31 20:03:17,942 INFO sqlalchemy.engine.base.Engine PRAGMA foreign_key_list(\"Customer\")\n",
      "2019-01-31 20:03:17,943 INFO sqlalchemy.engine.base.Engine ()\n",
      "2019-01-31 20:03:17,944 INFO sqlalchemy.engine.base.Engine SELECT sql FROM  (SELECT * FROM sqlite_master UNION ALL   SELECT * FROM sqlite_temp_master) WHERE name = 'Customer' AND type = 'table'\n",
      "2019-01-31 20:03:17,945 INFO sqlalchemy.engine.base.Engine ()\n",
      "2019-01-31 20:03:17,946 INFO sqlalchemy.engine.base.Engine PRAGMA index_list(\"Customer\")\n",
      "2019-01-31 20:03:17,947 INFO sqlalchemy.engine.base.Engine ()\n",
      "2019-01-31 20:03:17,948 INFO sqlalchemy.engine.base.Engine PRAGMA index_list(\"Customer\")\n",
      "2019-01-31 20:03:17,949 INFO sqlalchemy.engine.base.Engine ()\n",
      "2019-01-31 20:03:17,951 INFO sqlalchemy.engine.base.Engine PRAGMA index_info(\"sqlite_autoindex_Customer_1\")\n",
      "2019-01-31 20:03:17,951 INFO sqlalchemy.engine.base.Engine ()\n",
      "2019-01-31 20:03:17,953 INFO sqlalchemy.engine.base.Engine SELECT sql FROM  (SELECT * FROM sqlite_master UNION ALL   SELECT * FROM sqlite_temp_master) WHERE name = 'Customer' AND type = 'table'\n",
      "2019-01-31 20:03:17,953 INFO sqlalchemy.engine.base.Engine ()\n",
      "2019-01-31 20:03:17,955 INFO sqlalchemy.engine.base.Engine PRAGMA table_info(\"CustomerCustomerDemo\")\n",
      "2019-01-31 20:03:17,956 INFO sqlalchemy.engine.base.Engine ()\n",
      "2019-01-31 20:03:17,957 INFO sqlalchemy.engine.base.Engine SELECT sql FROM  (SELECT * FROM sqlite_master UNION ALL   SELECT * FROM sqlite_temp_master) WHERE name = 'CustomerCustomerDemo' AND type = 'table'\n",
      "2019-01-31 20:03:17,958 INFO sqlalchemy.engine.base.Engine ()\n",
      "2019-01-31 20:03:17,959 INFO sqlalchemy.engine.base.Engine PRAGMA foreign_key_list(\"CustomerCustomerDemo\")\n",
      "2019-01-31 20:03:17,960 INFO sqlalchemy.engine.base.Engine ()\n",
      "2019-01-31 20:03:17,961 INFO sqlalchemy.engine.base.Engine SELECT sql FROM  (SELECT * FROM sqlite_master UNION ALL   SELECT * FROM sqlite_temp_master) WHERE name = 'CustomerCustomerDemo' AND type = 'table'\n",
      "2019-01-31 20:03:17,962 INFO sqlalchemy.engine.base.Engine ()\n",
      "2019-01-31 20:03:17,963 INFO sqlalchemy.engine.base.Engine PRAGMA index_list(\"CustomerCustomerDemo\")\n",
      "2019-01-31 20:03:17,964 INFO sqlalchemy.engine.base.Engine ()\n",
      "2019-01-31 20:03:17,965 INFO sqlalchemy.engine.base.Engine PRAGMA index_list(\"CustomerCustomerDemo\")\n",
      "2019-01-31 20:03:17,966 INFO sqlalchemy.engine.base.Engine ()\n",
      "2019-01-31 20:03:17,967 INFO sqlalchemy.engine.base.Engine PRAGMA index_info(\"sqlite_autoindex_CustomerCustomerDemo_1\")\n",
      "2019-01-31 20:03:17,968 INFO sqlalchemy.engine.base.Engine ()\n",
      "2019-01-31 20:03:17,969 INFO sqlalchemy.engine.base.Engine SELECT sql FROM  (SELECT * FROM sqlite_master UNION ALL   SELECT * FROM sqlite_temp_master) WHERE name = 'CustomerCustomerDemo' AND type = 'table'\n",
      "2019-01-31 20:03:17,969 INFO sqlalchemy.engine.base.Engine ()\n",
      "2019-01-31 20:03:17,970 INFO sqlalchemy.engine.base.Engine PRAGMA table_info(\"CustomerDemographic\")\n",
      "2019-01-31 20:03:17,971 INFO sqlalchemy.engine.base.Engine ()\n",
      "2019-01-31 20:03:17,972 INFO sqlalchemy.engine.base.Engine SELECT sql FROM  (SELECT * FROM sqlite_master UNION ALL   SELECT * FROM sqlite_temp_master) WHERE name = 'CustomerDemographic' AND type = 'table'\n",
      "2019-01-31 20:03:17,973 INFO sqlalchemy.engine.base.Engine ()\n",
      "2019-01-31 20:03:17,976 INFO sqlalchemy.engine.base.Engine PRAGMA foreign_key_list(\"CustomerDemographic\")\n",
      "2019-01-31 20:03:17,977 INFO sqlalchemy.engine.base.Engine ()\n",
      "2019-01-31 20:03:17,977 INFO sqlalchemy.engine.base.Engine SELECT sql FROM  (SELECT * FROM sqlite_master UNION ALL   SELECT * FROM sqlite_temp_master) WHERE name = 'CustomerDemographic' AND type = 'table'\n",
      "2019-01-31 20:03:17,978 INFO sqlalchemy.engine.base.Engine ()\n",
      "2019-01-31 20:03:17,979 INFO sqlalchemy.engine.base.Engine PRAGMA index_list(\"CustomerDemographic\")\n",
      "2019-01-31 20:03:17,980 INFO sqlalchemy.engine.base.Engine ()\n",
      "2019-01-31 20:03:17,981 INFO sqlalchemy.engine.base.Engine PRAGMA index_list(\"CustomerDemographic\")\n",
      "2019-01-31 20:03:17,982 INFO sqlalchemy.engine.base.Engine ()\n",
      "2019-01-31 20:03:17,983 INFO sqlalchemy.engine.base.Engine PRAGMA index_info(\"sqlite_autoindex_CustomerDemographic_1\")\n",
      "2019-01-31 20:03:17,983 INFO sqlalchemy.engine.base.Engine ()\n",
      "2019-01-31 20:03:17,985 INFO sqlalchemy.engine.base.Engine SELECT sql FROM  (SELECT * FROM sqlite_master UNION ALL   SELECT * FROM sqlite_temp_master) WHERE name = 'CustomerDemographic' AND type = 'table'\n",
      "2019-01-31 20:03:17,986 INFO sqlalchemy.engine.base.Engine ()\n",
      "2019-01-31 20:03:17,987 INFO sqlalchemy.engine.base.Engine PRAGMA table_info(\"Employee\")\n",
      "2019-01-31 20:03:17,988 INFO sqlalchemy.engine.base.Engine ()\n",
      "2019-01-31 20:03:17,992 INFO sqlalchemy.engine.base.Engine SELECT sql FROM  (SELECT * FROM sqlite_master UNION ALL   SELECT * FROM sqlite_temp_master) WHERE name = 'Employee' AND type = 'table'\n",
      "2019-01-31 20:03:17,992 INFO sqlalchemy.engine.base.Engine ()\n",
      "2019-01-31 20:03:17,994 INFO sqlalchemy.engine.base.Engine PRAGMA foreign_key_list(\"Employee\")\n",
      "2019-01-31 20:03:17,995 INFO sqlalchemy.engine.base.Engine ()\n",
      "2019-01-31 20:03:17,997 INFO sqlalchemy.engine.base.Engine SELECT sql FROM  (SELECT * FROM sqlite_master UNION ALL   SELECT * FROM sqlite_temp_master) WHERE name = 'Employee' AND type = 'table'\n",
      "2019-01-31 20:03:17,998 INFO sqlalchemy.engine.base.Engine ()\n",
      "2019-01-31 20:03:17,999 INFO sqlalchemy.engine.base.Engine PRAGMA index_list(\"Employee\")\n",
      "2019-01-31 20:03:17,999 INFO sqlalchemy.engine.base.Engine ()\n",
      "2019-01-31 20:03:18,001 INFO sqlalchemy.engine.base.Engine PRAGMA index_list(\"Employee\")\n",
      "2019-01-31 20:03:18,002 INFO sqlalchemy.engine.base.Engine ()\n",
      "2019-01-31 20:03:18,002 INFO sqlalchemy.engine.base.Engine SELECT sql FROM  (SELECT * FROM sqlite_master UNION ALL   SELECT * FROM sqlite_temp_master) WHERE name = 'Employee' AND type = 'table'\n",
      "2019-01-31 20:03:18,003 INFO sqlalchemy.engine.base.Engine ()\n",
      "2019-01-31 20:03:18,005 INFO sqlalchemy.engine.base.Engine PRAGMA table_info(\"EmployeeTerritory\")\n",
      "2019-01-31 20:03:18,005 INFO sqlalchemy.engine.base.Engine ()\n",
      "2019-01-31 20:03:18,007 INFO sqlalchemy.engine.base.Engine SELECT sql FROM  (SELECT * FROM sqlite_master UNION ALL   SELECT * FROM sqlite_temp_master) WHERE name = 'EmployeeTerritory' AND type = 'table'\n",
      "2019-01-31 20:03:18,007 INFO sqlalchemy.engine.base.Engine ()\n"
     ]
    },
    {
     "name": "stdout",
     "output_type": "stream",
     "text": [
      "2019-01-31 20:03:18,009 INFO sqlalchemy.engine.base.Engine PRAGMA foreign_key_list(\"EmployeeTerritory\")\n",
      "2019-01-31 20:03:18,010 INFO sqlalchemy.engine.base.Engine ()\n",
      "2019-01-31 20:03:18,011 INFO sqlalchemy.engine.base.Engine SELECT sql FROM  (SELECT * FROM sqlite_master UNION ALL   SELECT * FROM sqlite_temp_master) WHERE name = 'EmployeeTerritory' AND type = 'table'\n",
      "2019-01-31 20:03:18,011 INFO sqlalchemy.engine.base.Engine ()\n",
      "2019-01-31 20:03:18,012 INFO sqlalchemy.engine.base.Engine PRAGMA index_list(\"EmployeeTerritory\")\n",
      "2019-01-31 20:03:18,013 INFO sqlalchemy.engine.base.Engine ()\n",
      "2019-01-31 20:03:18,014 INFO sqlalchemy.engine.base.Engine PRAGMA index_list(\"EmployeeTerritory\")\n",
      "2019-01-31 20:03:18,014 INFO sqlalchemy.engine.base.Engine ()\n",
      "2019-01-31 20:03:18,016 INFO sqlalchemy.engine.base.Engine PRAGMA index_info(\"sqlite_autoindex_EmployeeTerritory_1\")\n",
      "2019-01-31 20:03:18,016 INFO sqlalchemy.engine.base.Engine ()\n",
      "2019-01-31 20:03:18,017 INFO sqlalchemy.engine.base.Engine SELECT sql FROM  (SELECT * FROM sqlite_master UNION ALL   SELECT * FROM sqlite_temp_master) WHERE name = 'EmployeeTerritory' AND type = 'table'\n",
      "2019-01-31 20:03:18,018 INFO sqlalchemy.engine.base.Engine ()\n",
      "2019-01-31 20:03:18,019 INFO sqlalchemy.engine.base.Engine PRAGMA table_info(\"Order\")\n",
      "2019-01-31 20:03:18,020 INFO sqlalchemy.engine.base.Engine ()\n",
      "2019-01-31 20:03:18,022 INFO sqlalchemy.engine.base.Engine SELECT sql FROM  (SELECT * FROM sqlite_master UNION ALL   SELECT * FROM sqlite_temp_master) WHERE name = 'Order' AND type = 'table'\n",
      "2019-01-31 20:03:18,023 INFO sqlalchemy.engine.base.Engine ()\n",
      "2019-01-31 20:03:18,024 INFO sqlalchemy.engine.base.Engine PRAGMA foreign_key_list(\"Order\")\n",
      "2019-01-31 20:03:18,025 INFO sqlalchemy.engine.base.Engine ()\n",
      "2019-01-31 20:03:18,026 INFO sqlalchemy.engine.base.Engine SELECT sql FROM  (SELECT * FROM sqlite_master UNION ALL   SELECT * FROM sqlite_temp_master) WHERE name = 'Order' AND type = 'table'\n",
      "2019-01-31 20:03:18,026 INFO sqlalchemy.engine.base.Engine ()\n",
      "2019-01-31 20:03:18,027 INFO sqlalchemy.engine.base.Engine PRAGMA index_list(\"Order\")\n",
      "2019-01-31 20:03:18,028 INFO sqlalchemy.engine.base.Engine ()\n",
      "2019-01-31 20:03:18,029 INFO sqlalchemy.engine.base.Engine PRAGMA index_list(\"Order\")\n",
      "2019-01-31 20:03:18,029 INFO sqlalchemy.engine.base.Engine ()\n",
      "2019-01-31 20:03:18,030 INFO sqlalchemy.engine.base.Engine SELECT sql FROM  (SELECT * FROM sqlite_master UNION ALL   SELECT * FROM sqlite_temp_master) WHERE name = 'Order' AND type = 'table'\n",
      "2019-01-31 20:03:18,031 INFO sqlalchemy.engine.base.Engine ()\n",
      "2019-01-31 20:03:18,032 INFO sqlalchemy.engine.base.Engine PRAGMA table_info(\"OrderDetail\")\n",
      "2019-01-31 20:03:18,033 INFO sqlalchemy.engine.base.Engine ()\n",
      "2019-01-31 20:03:18,035 INFO sqlalchemy.engine.base.Engine SELECT sql FROM  (SELECT * FROM sqlite_master UNION ALL   SELECT * FROM sqlite_temp_master) WHERE name = 'OrderDetail' AND type = 'table'\n",
      "2019-01-31 20:03:18,036 INFO sqlalchemy.engine.base.Engine ()\n",
      "2019-01-31 20:03:18,037 INFO sqlalchemy.engine.base.Engine PRAGMA foreign_key_list(\"OrderDetail\")\n",
      "2019-01-31 20:03:18,037 INFO sqlalchemy.engine.base.Engine ()\n",
      "2019-01-31 20:03:18,038 INFO sqlalchemy.engine.base.Engine SELECT sql FROM  (SELECT * FROM sqlite_master UNION ALL   SELECT * FROM sqlite_temp_master) WHERE name = 'OrderDetail' AND type = 'table'\n",
      "2019-01-31 20:03:18,039 INFO sqlalchemy.engine.base.Engine ()\n",
      "2019-01-31 20:03:18,040 INFO sqlalchemy.engine.base.Engine PRAGMA index_list(\"OrderDetail\")\n",
      "2019-01-31 20:03:18,040 INFO sqlalchemy.engine.base.Engine ()\n",
      "2019-01-31 20:03:18,041 INFO sqlalchemy.engine.base.Engine PRAGMA index_list(\"OrderDetail\")\n",
      "2019-01-31 20:03:18,042 INFO sqlalchemy.engine.base.Engine ()\n",
      "2019-01-31 20:03:18,043 INFO sqlalchemy.engine.base.Engine PRAGMA index_info(\"sqlite_autoindex_OrderDetail_1\")\n",
      "2019-01-31 20:03:18,044 INFO sqlalchemy.engine.base.Engine ()\n",
      "2019-01-31 20:03:18,045 INFO sqlalchemy.engine.base.Engine SELECT sql FROM  (SELECT * FROM sqlite_master UNION ALL   SELECT * FROM sqlite_temp_master) WHERE name = 'OrderDetail' AND type = 'table'\n",
      "2019-01-31 20:03:18,046 INFO sqlalchemy.engine.base.Engine ()\n",
      "2019-01-31 20:03:18,047 INFO sqlalchemy.engine.base.Engine PRAGMA table_info(\"Product\")\n",
      "2019-01-31 20:03:18,049 INFO sqlalchemy.engine.base.Engine ()\n",
      "2019-01-31 20:03:18,051 INFO sqlalchemy.engine.base.Engine SELECT sql FROM  (SELECT * FROM sqlite_master UNION ALL   SELECT * FROM sqlite_temp_master) WHERE name = 'Product' AND type = 'table'\n",
      "2019-01-31 20:03:18,052 INFO sqlalchemy.engine.base.Engine ()\n",
      "2019-01-31 20:03:18,053 INFO sqlalchemy.engine.base.Engine PRAGMA foreign_key_list(\"Product\")\n",
      "2019-01-31 20:03:18,054 INFO sqlalchemy.engine.base.Engine ()\n",
      "2019-01-31 20:03:18,055 INFO sqlalchemy.engine.base.Engine SELECT sql FROM  (SELECT * FROM sqlite_master UNION ALL   SELECT * FROM sqlite_temp_master) WHERE name = 'Product' AND type = 'table'\n",
      "2019-01-31 20:03:18,056 INFO sqlalchemy.engine.base.Engine ()\n",
      "2019-01-31 20:03:18,057 INFO sqlalchemy.engine.base.Engine PRAGMA index_list(\"Product\")\n",
      "2019-01-31 20:03:18,058 INFO sqlalchemy.engine.base.Engine ()\n",
      "2019-01-31 20:03:18,059 INFO sqlalchemy.engine.base.Engine PRAGMA index_list(\"Product\")\n",
      "2019-01-31 20:03:18,059 INFO sqlalchemy.engine.base.Engine ()\n",
      "2019-01-31 20:03:18,060 INFO sqlalchemy.engine.base.Engine SELECT sql FROM  (SELECT * FROM sqlite_master UNION ALL   SELECT * FROM sqlite_temp_master) WHERE name = 'Product' AND type = 'table'\n",
      "2019-01-31 20:03:18,061 INFO sqlalchemy.engine.base.Engine ()\n",
      "2019-01-31 20:03:18,063 INFO sqlalchemy.engine.base.Engine PRAGMA table_info(\"Region\")\n",
      "2019-01-31 20:03:18,063 INFO sqlalchemy.engine.base.Engine ()\n",
      "2019-01-31 20:03:18,065 INFO sqlalchemy.engine.base.Engine SELECT sql FROM  (SELECT * FROM sqlite_master UNION ALL   SELECT * FROM sqlite_temp_master) WHERE name = 'Region' AND type = 'table'\n",
      "2019-01-31 20:03:18,066 INFO sqlalchemy.engine.base.Engine ()\n",
      "2019-01-31 20:03:18,068 INFO sqlalchemy.engine.base.Engine PRAGMA foreign_key_list(\"Region\")\n",
      "2019-01-31 20:03:18,069 INFO sqlalchemy.engine.base.Engine ()\n",
      "2019-01-31 20:03:18,070 INFO sqlalchemy.engine.base.Engine SELECT sql FROM  (SELECT * FROM sqlite_master UNION ALL   SELECT * FROM sqlite_temp_master) WHERE name = 'Region' AND type = 'table'\n",
      "2019-01-31 20:03:18,071 INFO sqlalchemy.engine.base.Engine ()\n",
      "2019-01-31 20:03:18,072 INFO sqlalchemy.engine.base.Engine PRAGMA index_list(\"Region\")\n",
      "2019-01-31 20:03:18,073 INFO sqlalchemy.engine.base.Engine ()\n",
      "2019-01-31 20:03:18,074 INFO sqlalchemy.engine.base.Engine PRAGMA index_list(\"Region\")\n",
      "2019-01-31 20:03:18,074 INFO sqlalchemy.engine.base.Engine ()\n",
      "2019-01-31 20:03:18,075 INFO sqlalchemy.engine.base.Engine SELECT sql FROM  (SELECT * FROM sqlite_master UNION ALL   SELECT * FROM sqlite_temp_master) WHERE name = 'Region' AND type = 'table'\n",
      "2019-01-31 20:03:18,076 INFO sqlalchemy.engine.base.Engine ()\n",
      "2019-01-31 20:03:18,077 INFO sqlalchemy.engine.base.Engine PRAGMA table_info(\"Shipper\")\n",
      "2019-01-31 20:03:18,088 INFO sqlalchemy.engine.base.Engine ()\n",
      "2019-01-31 20:03:18,102 INFO sqlalchemy.engine.base.Engine SELECT sql FROM  (SELECT * FROM sqlite_master UNION ALL   SELECT * FROM sqlite_temp_master) WHERE name = 'Shipper' AND type = 'table'\n",
      "2019-01-31 20:03:18,103 INFO sqlalchemy.engine.base.Engine ()\n",
      "2019-01-31 20:03:18,109 INFO sqlalchemy.engine.base.Engine PRAGMA foreign_key_list(\"Shipper\")\n",
      "2019-01-31 20:03:18,120 INFO sqlalchemy.engine.base.Engine ()\n",
      "2019-01-31 20:03:18,121 INFO sqlalchemy.engine.base.Engine SELECT sql FROM  (SELECT * FROM sqlite_master UNION ALL   SELECT * FROM sqlite_temp_master) WHERE name = 'Shipper' AND type = 'table'\n",
      "2019-01-31 20:03:18,127 INFO sqlalchemy.engine.base.Engine ()\n",
      "2019-01-31 20:03:18,128 INFO sqlalchemy.engine.base.Engine PRAGMA index_list(\"Shipper\")\n",
      "2019-01-31 20:03:18,128 INFO sqlalchemy.engine.base.Engine ()\n",
      "2019-01-31 20:03:18,130 INFO sqlalchemy.engine.base.Engine PRAGMA index_list(\"Shipper\")\n",
      "2019-01-31 20:03:18,133 INFO sqlalchemy.engine.base.Engine ()\n",
      "2019-01-31 20:03:18,134 INFO sqlalchemy.engine.base.Engine SELECT sql FROM  (SELECT * FROM sqlite_master UNION ALL   SELECT * FROM sqlite_temp_master) WHERE name = 'Shipper' AND type = 'table'\n",
      "2019-01-31 20:03:18,137 INFO sqlalchemy.engine.base.Engine ()\n"
     ]
    },
    {
     "name": "stdout",
     "output_type": "stream",
     "text": [
      "2019-01-31 20:03:18,141 INFO sqlalchemy.engine.base.Engine PRAGMA table_info(\"Supplier\")\n",
      "2019-01-31 20:03:18,142 INFO sqlalchemy.engine.base.Engine ()\n",
      "2019-01-31 20:03:18,147 INFO sqlalchemy.engine.base.Engine SELECT sql FROM  (SELECT * FROM sqlite_master UNION ALL   SELECT * FROM sqlite_temp_master) WHERE name = 'Supplier' AND type = 'table'\n",
      "2019-01-31 20:03:18,149 INFO sqlalchemy.engine.base.Engine ()\n",
      "2019-01-31 20:03:18,151 INFO sqlalchemy.engine.base.Engine PRAGMA foreign_key_list(\"Supplier\")\n",
      "2019-01-31 20:03:18,152 INFO sqlalchemy.engine.base.Engine ()\n",
      "2019-01-31 20:03:18,154 INFO sqlalchemy.engine.base.Engine SELECT sql FROM  (SELECT * FROM sqlite_master UNION ALL   SELECT * FROM sqlite_temp_master) WHERE name = 'Supplier' AND type = 'table'\n",
      "2019-01-31 20:03:18,155 INFO sqlalchemy.engine.base.Engine ()\n",
      "2019-01-31 20:03:18,157 INFO sqlalchemy.engine.base.Engine PRAGMA index_list(\"Supplier\")\n",
      "2019-01-31 20:03:18,158 INFO sqlalchemy.engine.base.Engine ()\n",
      "2019-01-31 20:03:18,160 INFO sqlalchemy.engine.base.Engine PRAGMA index_list(\"Supplier\")\n",
      "2019-01-31 20:03:18,161 INFO sqlalchemy.engine.base.Engine ()\n",
      "2019-01-31 20:03:18,162 INFO sqlalchemy.engine.base.Engine SELECT sql FROM  (SELECT * FROM sqlite_master UNION ALL   SELECT * FROM sqlite_temp_master) WHERE name = 'Supplier' AND type = 'table'\n",
      "2019-01-31 20:03:18,163 INFO sqlalchemy.engine.base.Engine ()\n",
      "2019-01-31 20:03:18,165 INFO sqlalchemy.engine.base.Engine PRAGMA table_info(\"Territory\")\n",
      "2019-01-31 20:03:18,165 INFO sqlalchemy.engine.base.Engine ()\n",
      "2019-01-31 20:03:18,167 INFO sqlalchemy.engine.base.Engine SELECT sql FROM  (SELECT * FROM sqlite_master UNION ALL   SELECT * FROM sqlite_temp_master) WHERE name = 'Territory' AND type = 'table'\n",
      "2019-01-31 20:03:18,168 INFO sqlalchemy.engine.base.Engine ()\n",
      "2019-01-31 20:03:18,169 INFO sqlalchemy.engine.base.Engine PRAGMA foreign_key_list(\"Territory\")\n",
      "2019-01-31 20:03:18,170 INFO sqlalchemy.engine.base.Engine ()\n",
      "2019-01-31 20:03:18,171 INFO sqlalchemy.engine.base.Engine SELECT sql FROM  (SELECT * FROM sqlite_master UNION ALL   SELECT * FROM sqlite_temp_master) WHERE name = 'Territory' AND type = 'table'\n",
      "2019-01-31 20:03:18,172 INFO sqlalchemy.engine.base.Engine ()\n",
      "2019-01-31 20:03:18,173 INFO sqlalchemy.engine.base.Engine PRAGMA index_list(\"Territory\")\n",
      "2019-01-31 20:03:18,174 INFO sqlalchemy.engine.base.Engine ()\n",
      "2019-01-31 20:03:18,175 INFO sqlalchemy.engine.base.Engine PRAGMA index_list(\"Territory\")\n",
      "2019-01-31 20:03:18,176 INFO sqlalchemy.engine.base.Engine ()\n",
      "2019-01-31 20:03:18,177 INFO sqlalchemy.engine.base.Engine PRAGMA index_info(\"sqlite_autoindex_Territory_1\")\n",
      "2019-01-31 20:03:18,177 INFO sqlalchemy.engine.base.Engine ()\n",
      "2019-01-31 20:03:18,179 INFO sqlalchemy.engine.base.Engine SELECT sql FROM  (SELECT * FROM sqlite_master UNION ALL   SELECT * FROM sqlite_temp_master) WHERE name = 'Territory' AND type = 'table'\n",
      "2019-01-31 20:03:18,179 INFO sqlalchemy.engine.base.Engine ()\n"
     ]
    }
   ],
   "source": [
    "#######################################\n",
    "#AUTOMAPPER BITS\n",
    "#Instantiate metadata to reflect the engine\n",
    "metadata = MetaData()\n",
    "metadata.reflect(engine)"
   ]
  },
  {
   "cell_type": "code",
   "execution_count": 57,
   "metadata": {},
   "outputs": [],
   "source": [
    "#Create mappings to treat the database elements as OOP objects\n",
    "Base = automap_base(metadata=metadata)\n",
    "Base.prepare()"
   ]
  },
  {
   "cell_type": "code",
   "execution_count": null,
   "metadata": {},
   "outputs": [],
   "source": [
    "#['Category', 'Customer', 'CustomerCustomerDemo', 'CustomerDemographic', \n",
    "#'Employee', 'EmployeeTerritory', 'Order', 'OrderDetail', 'Product', 'Region', 'Shipper', 'Supplier', 'Territory']"
   ]
  },
  {
   "cell_type": "code",
   "execution_count": 58,
   "metadata": {
    "scrolled": true
   },
   "outputs": [],
   "source": [
    "#Create an object for each table\n",
    "Category = Base.classes.Category\n",
    "Customer = Base.classes.Customer\n",
    "CustomerCustomerDemo = Base.classes.CustomerCustomerDemo\n",
    "CustomerDemographic = Base.classes.CustomerDemographic\n",
    "Employee = Base.classes.Employee\n",
    "EmployeeTerritory = Base.classes.EmployeeTerritory\n",
    "Order = Base.classes.Order\n",
    "OrderDetail = Base.classes.OrderDetail\n",
    "Product = Base.classes.Product\n",
    "Region = Base.classes.Region\n",
    "Shipper = Base.classes.Shipper\n",
    "Supplier = Base.classes.Supplier\n",
    "Territory = Base.classes.Territory"
   ]
  },
  {
   "cell_type": "code",
   "execution_count": 61,
   "metadata": {
    "scrolled": true
   },
   "outputs": [
    {
     "name": "stdout",
     "output_type": "stream",
     "text": [
      "2019-01-31 20:04:41,962 INFO sqlalchemy.engine.base.Engine SELECT \"Category\".\"Id\" AS \"Category_Id\", \"Category\".\"CategoryName\" AS \"Category_CategoryName\", \"Category\".\"Description\" AS \"Category_Description\" \n",
      "FROM \"Category\"\n",
      "2019-01-31 20:04:41,964 INFO sqlalchemy.engine.base.Engine ()\n",
      "Beverages : Soft drinks, coffees, teas, beers, and ales\n",
      "Condiments : Sweet and savory sauces, relishes, spreads, and seasonings\n",
      "Confections : Desserts, candies, and sweet breads\n",
      "Dairy Products : Cheeses\n",
      "Grains/Cereals : Breads, crackers, pasta, and cereal\n",
      "Meat/Poultry : Prepared meats\n",
      "Produce : Dried fruit and bean curd\n",
      "Seafood : Seaweed and fish\n"
     ]
    }
   ],
   "source": [
    "#Look at descriptions of categories for items sold\n",
    "for instance in session.query(Category):\n",
    "    print(instance.CategoryName, \":\", instance.Description)"
   ]
  },
  {
   "cell_type": "code",
   "execution_count": null,
   "metadata": {},
   "outputs": [],
   "source": [
    "countries = []\n",
    "for instance in session.query(Customer):\n",
    "    countries.append(instance.Country)"
   ]
  },
  {
   "cell_type": "code",
   "execution_count": null,
   "metadata": {},
   "outputs": [],
   "source": [
    "countries_df = pd.DataFrame(countries)\n",
    "countries_df[0].value_counts()"
   ]
  },
  {
   "cell_type": "code",
   "execution_count": 62,
   "metadata": {
    "scrolled": true
   },
   "outputs": [
    {
     "name": "stdout",
     "output_type": "stream",
     "text": [
      "2019-01-31 20:05:44,831 INFO sqlalchemy.engine.base.Engine SELECT \"Customer\".\"Id\" AS \"Customer_Id\", \"Customer\".\"CompanyName\" AS \"Customer_CompanyName\", \"Customer\".\"ContactName\" AS \"Customer_ContactName\", \"Customer\".\"ContactTitle\" AS \"Customer_ContactTitle\", \"Customer\".\"Address\" AS \"Customer_Address\", \"Customer\".\"City\" AS \"Customer_City\", \"Customer\".\"Region\" AS \"Customer_Region\", \"Customer\".\"PostalCode\" AS \"Customer_PostalCode\", \"Customer\".\"Country\" AS \"Customer_Country\", \"Customer\".\"Phone\" AS \"Customer_Phone\", \"Customer\".\"Fax\" AS \"Customer_Fax\" \n",
      "FROM \"Customer\"\n",
      "2019-01-31 20:05:44,832 INFO sqlalchemy.engine.base.Engine ()\n"
     ]
    },
    {
     "data": {
      "text/plain": [
       "Western Europe     28\n",
       "North America      16\n",
       "South America      16\n",
       "Southern Europe    10\n",
       "British Isles       8\n",
       "Central America     5\n",
       "Northern Europe     4\n",
       "Scandinavia         3\n",
       "Eastern Europe      1\n",
       "Name: 0, dtype: int64"
      ]
     },
     "execution_count": 62,
     "metadata": {},
     "output_type": "execute_result"
    }
   ],
   "source": [
    "#How many customers are served in each region?\n",
    "regions = []\n",
    "for instance in session.query(Customer):\n",
    "    regions.append(instance.Region)\n",
    "\n",
    "regions_df = pd.DataFrame(regions)\n",
    "regions_df[0].value_counts()"
   ]
  },
  {
   "cell_type": "code",
   "execution_count": 63,
   "metadata": {},
   "outputs": [
    {
     "data": {
      "text/plain": [
       "['Id',\n",
       " 'CompanyName',\n",
       " 'ContactName',\n",
       " 'ContactTitle',\n",
       " 'Address',\n",
       " 'City',\n",
       " 'Region',\n",
       " 'PostalCode',\n",
       " 'Country',\n",
       " 'Phone',\n",
       " 'Fax']"
      ]
     },
     "execution_count": 63,
     "metadata": {},
     "output_type": "execute_result"
    }
   ],
   "source": [
    "tables_columns['Customer']"
   ]
  },
  {
   "cell_type": "code",
   "execution_count": 67,
   "metadata": {},
   "outputs": [
    {
     "name": "stdout",
     "output_type": "stream",
     "text": [
      "2019-01-31 20:09:24,591 INFO sqlalchemy.engine.base.Engine SELECT \"Customer\".\"Id\" AS \"Customer_Id\", \"Customer\".\"CompanyName\" AS \"Customer_CompanyName\", \"Customer\".\"ContactName\" AS \"Customer_ContactName\", \"Customer\".\"ContactTitle\" AS \"Customer_ContactTitle\", \"Customer\".\"Address\" AS \"Customer_Address\", \"Customer\".\"City\" AS \"Customer_City\", \"Customer\".\"Region\" AS \"Customer_Region\", \"Customer\".\"PostalCode\" AS \"Customer_PostalCode\", \"Customer\".\"Country\" AS \"Customer_Country\", \"Customer\".\"Phone\" AS \"Customer_Phone\", \"Customer\".\"Fax\" AS \"Customer_Fax\" \n",
      "FROM \"Customer\"\n",
      "2019-01-31 20:09:24,592 INFO sqlalchemy.engine.base.Engine ()\n",
      "\n",
      "\n",
      "91 customers served.\n"
     ]
    }
   ],
   "source": [
    "#How many customers ae served?\n",
    "names = []\n",
    "for instance in session.query(Customer):\n",
    "    names.append(instance.ContactName)\n",
    "\n",
    "print('\\n')\n",
    "print(len(set(names)), 'customers served.')"
   ]
  },
  {
   "cell_type": "code",
   "execution_count": null,
   "metadata": {},
   "outputs": [],
   "source": []
  },
  {
   "cell_type": "code",
   "execution_count": null,
   "metadata": {},
   "outputs": [],
   "source": [
    "session.query(Customer).column_descriptions"
   ]
  },
  {
   "cell_type": "code",
   "execution_count": null,
   "metadata": {},
   "outputs": [],
   "source": [
    "result = session.execute('''SELECT *\n",
    "                            FROM Customer\n",
    "                        ;''')"
   ]
  },
  {
   "cell_type": "code",
   "execution_count": null,
   "metadata": {},
   "outputs": [],
   "source": [
    "customer_df = pd.DataFrame(result.fetchall())"
   ]
  },
  {
   "cell_type": "code",
   "execution_count": null,
   "metadata": {},
   "outputs": [],
   "source": [
    "customer_df.shape"
   ]
  },
  {
   "cell_type": "code",
   "execution_count": null,
   "metadata": {},
   "outputs": [],
   "source": []
  },
  {
   "cell_type": "code",
   "execution_count": null,
   "metadata": {},
   "outputs": [],
   "source": []
  },
  {
   "cell_type": "code",
   "execution_count": null,
   "metadata": {},
   "outputs": [],
   "source": []
  },
  {
   "cell_type": "code",
   "execution_count": null,
   "metadata": {},
   "outputs": [],
   "source": []
  },
  {
   "cell_type": "code",
   "execution_count": null,
   "metadata": {},
   "outputs": [],
   "source": []
  },
  {
   "cell_type": "markdown",
   "metadata": {},
   "source": [
    "## Hypothesis 1\n",
    "Do discounts have a statistically significant effect on the number of products customers order? If so, at what level(s) of discount?"
   ]
  },
  {
   "cell_type": "markdown",
   "metadata": {},
   "source": [
    "product (quantity) ordered by customers, no discount\n",
    "\n",
    "product (quantity) order by customers, wiht discount\n",
    "\n",
    "H0: Discount does not have an effect on the number of products ordered by a customer. Control = Treatment\n",
    "\n",
    "H1: Discount has an effect on the number of products ordered by a customer. Control < or > Treament"
   ]
  },
  {
   "cell_type": "code",
   "execution_count": null,
   "metadata": {},
   "outputs": [],
   "source": []
  },
  {
   "cell_type": "code",
   "execution_count": null,
   "metadata": {},
   "outputs": [],
   "source": []
  },
  {
   "cell_type": "code",
   "execution_count": null,
   "metadata": {},
   "outputs": [],
   "source": []
  }
 ],
 "metadata": {
  "kernelspec": {
   "display_name": "learn-env",
   "language": "python",
   "name": "learn-env"
  },
  "language_info": {
   "codemirror_mode": {
    "name": "ipython",
    "version": 3
   },
   "file_extension": ".py",
   "mimetype": "text/x-python",
   "name": "python",
   "nbconvert_exporter": "python",
   "pygments_lexer": "ipython3",
   "version": "3.6.6"
  }
 },
 "nbformat": 4,
 "nbformat_minor": 2
}
