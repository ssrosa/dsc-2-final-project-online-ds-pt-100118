{
 "cells": [
  {
   "cell_type": "markdown",
   "metadata": {},
   "source": [
    "# Final Project Submission\n",
    "Please fill out:\n",
    "\n",
    "-  Student name: Steven Rosa\n",
    "-  Student pace: part time\n",
    "-  Scheduled project review date/time: Mon 4 Feb 2019 2pm EST\n",
    "-  Instructor name: Jeff Herman\n",
    "-  Blog post URL:"
   ]
  },
  {
   "cell_type": "markdown",
   "metadata": {},
   "source": [
    "# Northwind Data Analysis"
   ]
  },
  {
   "cell_type": "code",
   "execution_count": 1,
   "metadata": {},
   "outputs": [],
   "source": [
    "#Import libraries\n",
    "import sqlalchemy #ORM\n",
    "from sqlalchemy import create_engine #To connect to the database\n",
    "from sqlalchemy.orm import Session, sessionmaker #To interact with the database as object\n",
    "from sqlalchemy import inspect #To look at tables and column names\n",
    "from sqlalchemy import MetaData #to reflect the engine object \n",
    "from sqlalchemy.ext.automap import automap_base # to create mappings from the reflection\n",
    "import pandas as pd #To read in parts of the database as DataFrames"
   ]
  },
  {
   "cell_type": "code",
   "execution_count": null,
   "metadata": {},
   "outputs": [],
   "source": []
  },
  {
   "cell_type": "code",
   "execution_count": null,
   "metadata": {},
   "outputs": [],
   "source": [
    "#Write functions"
   ]
  },
  {
   "cell_type": "code",
   "execution_count": 2,
   "metadata": {},
   "outputs": [],
   "source": [
    "#Instantiate a session of the ORM\n",
    "#Connect to the sqlite database file\n",
    "engine = create_engine('sqlite:///Northwind_small.sqlite', echo = True)\n",
    "#Bind a session object to the engine\n",
    "Session = sessionmaker(bind=engine)\n",
    "#Instantiate the session\n",
    "session = Session()"
   ]
  },
  {
   "cell_type": "code",
   "execution_count": 4,
   "metadata": {},
   "outputs": [
    {
     "name": "stdout",
     "output_type": "stream",
     "text": [
      "2019-01-28 19:52:38,657 INFO sqlalchemy.engine.base.Engine SELECT CAST('test plain returns' AS VARCHAR(60)) AS anon_1\n",
      "2019-01-28 19:52:38,658 INFO sqlalchemy.engine.base.Engine ()\n",
      "2019-01-28 19:52:38,659 INFO sqlalchemy.engine.base.Engine SELECT CAST('test unicode returns' AS VARCHAR(60)) AS anon_1\n",
      "2019-01-28 19:52:38,660 INFO sqlalchemy.engine.base.Engine ()\n"
     ]
    }
   ],
   "source": [
    "#An object to get a first look at the database\n",
    "inspector = inspect(engine)"
   ]
  },
  {
   "cell_type": "code",
   "execution_count": 14,
   "metadata": {},
   "outputs": [],
   "source": [
    "#Make a dict of list of names of all the columns in all the tables\n",
    "#for easy reference\n",
    "\n",
    "#Get list of all table names\n",
    "table_names = inspector.get_table_names()\n",
    "\n",
    "tables_columns = dict()\n",
    "#For each table name\n",
    "for table in table_names:\n",
    "    column_names = []\n",
    "    #for each column in the table, get just the name\n",
    "    for column in inspector.get_columns(table):\n",
    "        column_names.append(column['name'])\n",
    "    tables_columns[table] = column_names"
   ]
  },
  {
   "cell_type": "code",
   "execution_count": 16,
   "metadata": {},
   "outputs": [
    {
     "data": {
      "text/plain": [
       "['Id', 'OrderId', 'ProductId', 'UnitPrice', 'Quantity', 'Discount']"
      ]
     },
     "execution_count": 16,
     "metadata": {},
     "output_type": "execute_result"
    }
   ],
   "source": [
    "tables_columns['OrderDetail']"
   ]
  },
  {
   "cell_type": "code",
   "execution_count": null,
   "metadata": {},
   "outputs": [],
   "source": []
  },
  {
   "cell_type": "code",
   "execution_count": 53,
   "metadata": {},
   "outputs": [],
   "source": [
    "#Pull raw results from the database\n",
    "#conn = engine.connect()\n",
    "#results = conn.execute('''SELECT *\n",
    "#                            FROM Category\n",
    "#                        ;''')\n",
    "#print(results.fetchall())"
   ]
  },
  {
   "cell_type": "code",
   "execution_count": 52,
   "metadata": {},
   "outputs": [],
   "source": [
    "###conn = engine.connect()\n",
    "#results = conn.execute(\"SELECT * FROM [Order];\")\n",
    "#df = pd.DataFrame(results.fetchall())\n",
    "#df.head()"
   ]
  },
  {
   "cell_type": "code",
   "execution_count": 54,
   "metadata": {},
   "outputs": [],
   "source": [
    "#results = conn.execute('''SELECT *\n",
    "#                            FROM OrderDetail\n",
    "#                        ;''')\n",
    "#df = pd.DataFrame(results.fetchall())\n",
    "#df.head()"
   ]
  },
  {
   "cell_type": "code",
   "execution_count": 55,
   "metadata": {
    "scrolled": true
   },
   "outputs": [],
   "source": [
    "#df = pd.read_sql_query('''SELECT * \n",
    "#                           FROM [Order]\n",
    "#                       ;''', engine)\n",
    "#df.head()"
   ]
  },
  {
   "cell_type": "code",
   "execution_count": 47,
   "metadata": {
    "scrolled": true
   },
   "outputs": [],
   "source": [
    "#df = pd.read_sql_query(\"SELECT * FROM [Order] WHERE CUSTOMERId = 'VINET'\", engine)\n",
    "#df.head()"
   ]
  },
  {
   "cell_type": "code",
   "execution_count": 56,
   "metadata": {
    "scrolled": true
   },
   "outputs": [
    {
     "name": "stdout",
     "output_type": "stream",
     "text": [
      "2019-01-28 13:38:29,447 INFO sqlalchemy.engine.base.Engine SELECT OrderDetail.*, [Order].CustomerId \n",
      "                            FROM OrderDetail \n",
      "                            INNER JOIN [Order] on OrderDetail.OrderId = [Order].Id\n",
      "                            WHERE OrderDetail.Discount != 0.0\n",
      "                        \n"
     ]
    },
    {
     "name": "stderr",
     "output_type": "stream",
     "text": [
      "INFO:sqlalchemy.engine.base.Engine:SELECT OrderDetail.*, [Order].CustomerId \n",
      "                            FROM OrderDetail \n",
      "                            INNER JOIN [Order] on OrderDetail.OrderId = [Order].Id\n",
      "                            WHERE OrderDetail.Discount != 0.0\n",
      "                        \n"
     ]
    },
    {
     "name": "stdout",
     "output_type": "stream",
     "text": [
      "2019-01-28 13:38:29,449 INFO sqlalchemy.engine.base.Engine ()\n"
     ]
    },
    {
     "name": "stderr",
     "output_type": "stream",
     "text": [
      "INFO:sqlalchemy.engine.base.Engine:()\n"
     ]
    },
    {
     "data": {
      "text/html": [
       "<div>\n",
       "<style scoped>\n",
       "    .dataframe tbody tr th:only-of-type {\n",
       "        vertical-align: middle;\n",
       "    }\n",
       "\n",
       "    .dataframe tbody tr th {\n",
       "        vertical-align: top;\n",
       "    }\n",
       "\n",
       "    .dataframe thead th {\n",
       "        text-align: right;\n",
       "    }\n",
       "</style>\n",
       "<table border=\"1\" class=\"dataframe\">\n",
       "  <thead>\n",
       "    <tr style=\"text-align: right;\">\n",
       "      <th></th>\n",
       "      <th>Id</th>\n",
       "      <th>OrderId</th>\n",
       "      <th>ProductId</th>\n",
       "      <th>UnitPrice</th>\n",
       "      <th>Quantity</th>\n",
       "      <th>Discount</th>\n",
       "      <th>CustomerId</th>\n",
       "    </tr>\n",
       "  </thead>\n",
       "  <tbody>\n",
       "    <tr>\n",
       "      <th>0</th>\n",
       "      <td>10250/51</td>\n",
       "      <td>10250</td>\n",
       "      <td>51</td>\n",
       "      <td>42.4</td>\n",
       "      <td>35</td>\n",
       "      <td>0.15</td>\n",
       "      <td>HANAR</td>\n",
       "    </tr>\n",
       "    <tr>\n",
       "      <th>1</th>\n",
       "      <td>10250/65</td>\n",
       "      <td>10250</td>\n",
       "      <td>65</td>\n",
       "      <td>16.8</td>\n",
       "      <td>15</td>\n",
       "      <td>0.15</td>\n",
       "      <td>HANAR</td>\n",
       "    </tr>\n",
       "    <tr>\n",
       "      <th>2</th>\n",
       "      <td>10251/22</td>\n",
       "      <td>10251</td>\n",
       "      <td>22</td>\n",
       "      <td>16.8</td>\n",
       "      <td>6</td>\n",
       "      <td>0.05</td>\n",
       "      <td>VICTE</td>\n",
       "    </tr>\n",
       "    <tr>\n",
       "      <th>3</th>\n",
       "      <td>10251/57</td>\n",
       "      <td>10251</td>\n",
       "      <td>57</td>\n",
       "      <td>15.6</td>\n",
       "      <td>15</td>\n",
       "      <td>0.05</td>\n",
       "      <td>VICTE</td>\n",
       "    </tr>\n",
       "    <tr>\n",
       "      <th>4</th>\n",
       "      <td>10252/20</td>\n",
       "      <td>10252</td>\n",
       "      <td>20</td>\n",
       "      <td>64.8</td>\n",
       "      <td>40</td>\n",
       "      <td>0.05</td>\n",
       "      <td>SUPRD</td>\n",
       "    </tr>\n",
       "  </tbody>\n",
       "</table>\n",
       "</div>"
      ],
      "text/plain": [
       "         Id  OrderId  ProductId  UnitPrice  Quantity  Discount CustomerId\n",
       "0  10250/51    10250         51       42.4        35      0.15      HANAR\n",
       "1  10250/65    10250         65       16.8        15      0.15      HANAR\n",
       "2  10251/22    10251         22       16.8         6      0.05      VICTE\n",
       "3  10251/57    10251         57       15.6        15      0.05      VICTE\n",
       "4  10252/20    10252         20       64.8        40      0.05      SUPRD"
      ]
     },
     "execution_count": 56,
     "metadata": {},
     "output_type": "execute_result"
    }
   ],
   "source": [
    "df = pd.read_sql_query(\"\"\"SELECT OrderDetail.*, [Order].CustomerId \n",
    "                            FROM OrderDetail \n",
    "                            INNER JOIN [Order] on OrderDetail.OrderId = [Order].Id\n",
    "                            WHERE OrderDetail.Discount != 0.0\n",
    "                        \"\"\", engine)\n",
    "df.head()"
   ]
  },
  {
   "cell_type": "code",
   "execution_count": null,
   "metadata": {},
   "outputs": [],
   "source": [
    "#WHERE OrderDetail.Discount != 0.0"
   ]
  },
  {
   "cell_type": "code",
   "execution_count": 19,
   "metadata": {},
   "outputs": [
    {
     "name": "stdout",
     "output_type": "stream",
     "text": [
      "2019-01-28 20:16:06,172 INFO sqlalchemy.engine.base.Engine SELECT OrderDetail.*, [Order].CustomerId\n",
      "                            FROM OrderDetail \n",
      "                            INNER JOIN [Order] on OrderDetail.OrderId = [Order].Id\n",
      "                            ORDER BY [Order].CustomerId DESC, [Order].Id DESC, OrderDetail.Discount DESC\n",
      "                        \n",
      "2019-01-28 20:16:06,172 INFO sqlalchemy.engine.base.Engine ()\n"
     ]
    }
   ],
   "source": [
    "#Look at all orders with and without discounts\n",
    "df = pd.read_sql_query(\"\"\"SELECT OrderDetail.*, [Order].CustomerId\n",
    "                            FROM OrderDetail \n",
    "                            INNER JOIN [Order] on OrderDetail.OrderId = [Order].Id\n",
    "                            ORDER BY [Order].CustomerId DESC, [Order].Id DESC, OrderDetail.Discount DESC\n",
    "                        \"\"\", engine)\n"
   ]
  },
  {
   "cell_type": "code",
   "execution_count": 20,
   "metadata": {
    "scrolled": false
   },
   "outputs": [
    {
     "data": {
      "text/html": [
       "<div>\n",
       "<style scoped>\n",
       "    .dataframe tbody tr th:only-of-type {\n",
       "        vertical-align: middle;\n",
       "    }\n",
       "\n",
       "    .dataframe tbody tr th {\n",
       "        vertical-align: top;\n",
       "    }\n",
       "\n",
       "    .dataframe thead th {\n",
       "        text-align: right;\n",
       "    }\n",
       "</style>\n",
       "<table border=\"1\" class=\"dataframe\">\n",
       "  <thead>\n",
       "    <tr style=\"text-align: right;\">\n",
       "      <th></th>\n",
       "      <th>Id</th>\n",
       "      <th>OrderId</th>\n",
       "      <th>ProductId</th>\n",
       "      <th>UnitPrice</th>\n",
       "      <th>Quantity</th>\n",
       "      <th>Discount</th>\n",
       "      <th>CustomerId</th>\n",
       "    </tr>\n",
       "  </thead>\n",
       "  <tbody>\n",
       "    <tr>\n",
       "      <th>0</th>\n",
       "      <td>11044/62</td>\n",
       "      <td>11044</td>\n",
       "      <td>62</td>\n",
       "      <td>49.30</td>\n",
       "      <td>12</td>\n",
       "      <td>0.0</td>\n",
       "      <td>WOLZA</td>\n",
       "    </tr>\n",
       "    <tr>\n",
       "      <th>1</th>\n",
       "      <td>10998/24</td>\n",
       "      <td>10998</td>\n",
       "      <td>24</td>\n",
       "      <td>4.50</td>\n",
       "      <td>12</td>\n",
       "      <td>0.0</td>\n",
       "      <td>WOLZA</td>\n",
       "    </tr>\n",
       "    <tr>\n",
       "      <th>2</th>\n",
       "      <td>10998/61</td>\n",
       "      <td>10998</td>\n",
       "      <td>61</td>\n",
       "      <td>28.50</td>\n",
       "      <td>7</td>\n",
       "      <td>0.0</td>\n",
       "      <td>WOLZA</td>\n",
       "    </tr>\n",
       "    <tr>\n",
       "      <th>3</th>\n",
       "      <td>10998/74</td>\n",
       "      <td>10998</td>\n",
       "      <td>74</td>\n",
       "      <td>10.00</td>\n",
       "      <td>20</td>\n",
       "      <td>0.0</td>\n",
       "      <td>WOLZA</td>\n",
       "    </tr>\n",
       "    <tr>\n",
       "      <th>4</th>\n",
       "      <td>10998/75</td>\n",
       "      <td>10998</td>\n",
       "      <td>75</td>\n",
       "      <td>7.75</td>\n",
       "      <td>30</td>\n",
       "      <td>0.0</td>\n",
       "      <td>WOLZA</td>\n",
       "    </tr>\n",
       "  </tbody>\n",
       "</table>\n",
       "</div>"
      ],
      "text/plain": [
       "         Id  OrderId  ProductId  UnitPrice  Quantity  Discount CustomerId\n",
       "0  11044/62    11044         62      49.30        12       0.0      WOLZA\n",
       "1  10998/24    10998         24       4.50        12       0.0      WOLZA\n",
       "2  10998/61    10998         61      28.50         7       0.0      WOLZA\n",
       "3  10998/74    10998         74      10.00        20       0.0      WOLZA\n",
       "4  10998/75    10998         75       7.75        30       0.0      WOLZA"
      ]
     },
     "execution_count": 20,
     "metadata": {},
     "output_type": "execute_result"
    }
   ],
   "source": [
    "#Look at all orders with and without discounts\n",
    "df.head()"
   ]
  },
  {
   "cell_type": "code",
   "execution_count": 17,
   "metadata": {},
   "outputs": [
    {
     "name": "stdout",
     "output_type": "stream",
     "text": [
      "2019-01-28 20:14:11,979 INFO sqlalchemy.engine.base.Engine SELECT [Order].CustomerId, Count(*) orders\n",
      "                            FROM OrderDetail \n",
      "                            INNER JOIN [Order] on OrderDetail.OrderId = [Order].Id\n",
      "                            GROUP BY [Order].CustomerId\n",
      "                            ORDER BY [Order].CustomerId ASC\n",
      "                        \n",
      "2019-01-28 20:14:11,980 INFO sqlalchemy.engine.base.Engine ()\n"
     ]
    }
   ],
   "source": [
    "#Look at number of orders per cust id\n",
    "df = pd.read_sql_query(\"\"\"SELECT [Order].CustomerId, Count(*) orders\n",
    "                            FROM OrderDetail \n",
    "                            INNER JOIN [Order] on OrderDetail.OrderId = [Order].Id\n",
    "                            GROUP BY [Order].CustomerId\n",
    "                            ORDER BY [Order].CustomerId ASC\n",
    "                        \"\"\", engine)"
   ]
  },
  {
   "cell_type": "code",
   "execution_count": 18,
   "metadata": {
    "scrolled": true
   },
   "outputs": [
    {
     "data": {
      "text/html": [
       "<div>\n",
       "<style scoped>\n",
       "    .dataframe tbody tr th:only-of-type {\n",
       "        vertical-align: middle;\n",
       "    }\n",
       "\n",
       "    .dataframe tbody tr th {\n",
       "        vertical-align: top;\n",
       "    }\n",
       "\n",
       "    .dataframe thead th {\n",
       "        text-align: right;\n",
       "    }\n",
       "</style>\n",
       "<table border=\"1\" class=\"dataframe\">\n",
       "  <thead>\n",
       "    <tr style=\"text-align: right;\">\n",
       "      <th></th>\n",
       "      <th>CustomerId</th>\n",
       "      <th>orders</th>\n",
       "    </tr>\n",
       "  </thead>\n",
       "  <tbody>\n",
       "    <tr>\n",
       "      <th>0</th>\n",
       "      <td>ALFKI</td>\n",
       "      <td>12</td>\n",
       "    </tr>\n",
       "    <tr>\n",
       "      <th>1</th>\n",
       "      <td>ANATR</td>\n",
       "      <td>10</td>\n",
       "    </tr>\n",
       "    <tr>\n",
       "      <th>2</th>\n",
       "      <td>ANTO</td>\n",
       "      <td>17</td>\n",
       "    </tr>\n",
       "    <tr>\n",
       "      <th>3</th>\n",
       "      <td>AROUT</td>\n",
       "      <td>30</td>\n",
       "    </tr>\n",
       "    <tr>\n",
       "      <th>4</th>\n",
       "      <td>BERGS</td>\n",
       "      <td>52</td>\n",
       "    </tr>\n",
       "  </tbody>\n",
       "</table>\n",
       "</div>"
      ],
      "text/plain": [
       "  CustomerId  orders\n",
       "0      ALFKI      12\n",
       "1      ANATR      10\n",
       "2       ANTO      17\n",
       "3      AROUT      30\n",
       "4      BERGS      52"
      ]
     },
     "execution_count": 18,
     "metadata": {},
     "output_type": "execute_result"
    }
   ],
   "source": [
    "#Look at number of orders per cust id\n",
    "df.head()"
   ]
  },
  {
   "cell_type": "code",
   "execution_count": 23,
   "metadata": {},
   "outputs": [
    {
     "name": "stdout",
     "output_type": "stream",
     "text": [
      "2019-01-28 20:19:19,662 INFO sqlalchemy.engine.base.Engine SELECT [Order].CustomerId, Count(*) orders\n",
      "                            FROM OrderDetail \n",
      "                            INNER JOIN [Order] on OrderDetail.OrderId = [Order].Id\n",
      "                            WHERE OrderDetail.Discount == 0.0\n",
      "                            GROUP BY [Order].CustomerId\n",
      "                            ORDER BY [Order].CustomerId ASC\n",
      "                        \n",
      "2019-01-28 20:19:19,663 INFO sqlalchemy.engine.base.Engine ()\n",
      "2019-01-28 20:19:19,669 INFO sqlalchemy.engine.base.Engine SELECT [Order].CustomerId, Count(*) orders\n",
      "                            FROM OrderDetail \n",
      "                            INNER JOIN [Order] on OrderDetail.OrderId = [Order].Id\n",
      "                            WHERE OrderDetail.Discount != 0.0\n",
      "                            GROUP BY [Order].CustomerId\n",
      "                            ORDER BY [Order].CustomerId ASC\n",
      "                        \n",
      "2019-01-28 20:19:19,670 INFO sqlalchemy.engine.base.Engine ()\n"
     ]
    }
   ],
   "source": [
    "#Look at number of orders per customer w/o discount\n",
    "df_wo_discount = pd.read_sql_query(\"\"\"SELECT [Order].CustomerId, Count(*) orders\n",
    "                            FROM OrderDetail \n",
    "                            INNER JOIN [Order] on OrderDetail.OrderId = [Order].Id\n",
    "                            WHERE OrderDetail.Discount == 0.0\n",
    "                            GROUP BY [Order].CustomerId\n",
    "                            ORDER BY [Order].CustomerId ASC\n",
    "                        \"\"\", engine)\n",
    "\n",
    "#Look at number of orders per customer w/ discount\n",
    "df_w_discount = pd.read_sql_query(\"\"\"SELECT [Order].CustomerId, Count(*) orders\n",
    "                            FROM OrderDetail \n",
    "                            INNER JOIN [Order] on OrderDetail.OrderId = [Order].Id\n",
    "                            WHERE OrderDetail.Discount != 0.0\n",
    "                            GROUP BY [Order].CustomerId\n",
    "                            ORDER BY [Order].CustomerId ASC\n",
    "                        \"\"\", engine)"
   ]
  },
  {
   "cell_type": "code",
   "execution_count": 24,
   "metadata": {},
   "outputs": [
    {
     "data": {
      "text/html": [
       "<div>\n",
       "<style scoped>\n",
       "    .dataframe tbody tr th:only-of-type {\n",
       "        vertical-align: middle;\n",
       "    }\n",
       "\n",
       "    .dataframe tbody tr th {\n",
       "        vertical-align: top;\n",
       "    }\n",
       "\n",
       "    .dataframe thead th {\n",
       "        text-align: right;\n",
       "    }\n",
       "</style>\n",
       "<table border=\"1\" class=\"dataframe\">\n",
       "  <thead>\n",
       "    <tr style=\"text-align: right;\">\n",
       "      <th></th>\n",
       "      <th>CustomerId</th>\n",
       "      <th>orders</th>\n",
       "    </tr>\n",
       "  </thead>\n",
       "  <tbody>\n",
       "    <tr>\n",
       "      <th>0</th>\n",
       "      <td>ALFKI</td>\n",
       "      <td>6</td>\n",
       "    </tr>\n",
       "    <tr>\n",
       "      <th>1</th>\n",
       "      <td>ANATR</td>\n",
       "      <td>10</td>\n",
       "    </tr>\n",
       "    <tr>\n",
       "      <th>2</th>\n",
       "      <td>ANTO</td>\n",
       "      <td>9</td>\n",
       "    </tr>\n",
       "    <tr>\n",
       "      <th>3</th>\n",
       "      <td>AROUT</td>\n",
       "      <td>23</td>\n",
       "    </tr>\n",
       "    <tr>\n",
       "      <th>4</th>\n",
       "      <td>BERGS</td>\n",
       "      <td>34</td>\n",
       "    </tr>\n",
       "  </tbody>\n",
       "</table>\n",
       "</div>"
      ],
      "text/plain": [
       "  CustomerId  orders\n",
       "0      ALFKI       6\n",
       "1      ANATR      10\n",
       "2       ANTO       9\n",
       "3      AROUT      23\n",
       "4      BERGS      34"
      ]
     },
     "execution_count": 24,
     "metadata": {},
     "output_type": "execute_result"
    }
   ],
   "source": [
    "df_wo_discount.head()"
   ]
  },
  {
   "cell_type": "code",
   "execution_count": 26,
   "metadata": {},
   "outputs": [
    {
     "data": {
      "text/html": [
       "<div>\n",
       "<style scoped>\n",
       "    .dataframe tbody tr th:only-of-type {\n",
       "        vertical-align: middle;\n",
       "    }\n",
       "\n",
       "    .dataframe tbody tr th {\n",
       "        vertical-align: top;\n",
       "    }\n",
       "\n",
       "    .dataframe thead th {\n",
       "        text-align: right;\n",
       "    }\n",
       "</style>\n",
       "<table border=\"1\" class=\"dataframe\">\n",
       "  <thead>\n",
       "    <tr style=\"text-align: right;\">\n",
       "      <th></th>\n",
       "      <th>CustomerId</th>\n",
       "      <th>orders</th>\n",
       "    </tr>\n",
       "  </thead>\n",
       "  <tbody>\n",
       "    <tr>\n",
       "      <th>0</th>\n",
       "      <td>ALFKI</td>\n",
       "      <td>6</td>\n",
       "    </tr>\n",
       "    <tr>\n",
       "      <th>1</th>\n",
       "      <td>ANTO</td>\n",
       "      <td>8</td>\n",
       "    </tr>\n",
       "    <tr>\n",
       "      <th>2</th>\n",
       "      <td>AROUT</td>\n",
       "      <td>7</td>\n",
       "    </tr>\n",
       "    <tr>\n",
       "      <th>3</th>\n",
       "      <td>BERGS</td>\n",
       "      <td>18</td>\n",
       "    </tr>\n",
       "    <tr>\n",
       "      <th>4</th>\n",
       "      <td>BLONP</td>\n",
       "      <td>8</td>\n",
       "    </tr>\n",
       "  </tbody>\n",
       "</table>\n",
       "</div>"
      ],
      "text/plain": [
       "  CustomerId  orders\n",
       "0      ALFKI       6\n",
       "1       ANTO       8\n",
       "2      AROUT       7\n",
       "3      BERGS      18\n",
       "4      BLONP       8"
      ]
     },
     "execution_count": 26,
     "metadata": {},
     "output_type": "execute_result"
    }
   ],
   "source": [
    "df_w_discount.head()"
   ]
  },
  {
   "cell_type": "code",
   "execution_count": 45,
   "metadata": {},
   "outputs": [
    {
     "name": "stdout",
     "output_type": "stream",
     "text": [
      "2019-01-28 20:44:32,243 INFO sqlalchemy.engine.base.Engine SELECT [Order].CustomerId, \n",
      "                                (SELECT Count(*) orders\n",
      "                                    FROM OrderDetail \n",
      "                                    INNER JOIN [Order] on OrderDetail.OrderId = [Order].Id\n",
      "                                    WHERE OrderDetail.Discount == 0.0\n",
      "                                    GROUP BY [Order].CustomerId\n",
      "                                    ORDER BY [Order].CustomerId ASC) no_discount,    \n",
      "                            Count(*) total_orders\n",
      "                            FROM OrderDetail \n",
      "                            INNER JOIN [Order] on OrderDetail.OrderId = [Order].Id\n",
      "                            GROUP BY [Order].CustomerId\n",
      "                            ORDER BY [Order].CustomerId ASC\n",
      "                        \n",
      "2019-01-28 20:44:32,243 INFO sqlalchemy.engine.base.Engine ()\n"
     ]
    }
   ],
   "source": [
    "#SAMPLE CODE\n",
    "#select ( SELECT COUNT(u1.user_id)\n",
    "#           FROM users u1\n",
    "#          WHERE u1.username LIKE '$user' ) as count_u\n",
    "#     , ( SELECT COUNT(u2.user_id)\n",
    "#           FROM users u2\n",
    "#          WHERE u2.user_email LIKE '$email' ) as count_e\n",
    "\n",
    "#Look at number of orders w and wo discount per cust id\n",
    "df = pd.read_sql_query(\"\"\"SELECT [Order].CustomerId, \n",
    "                                (SELECT Count(*) orders\n",
    "                                    FROM OrderDetail \n",
    "                                    INNER JOIN [Order] on OrderDetail.OrderId = [Order].Id\n",
    "                                    WHERE OrderDetail.Discount == 0.0\n",
    "                                    GROUP BY [Order].CustomerId\n",
    "                                    ORDER BY [Order].CustomerId ASC) no_discount,    \n",
    "                            Count(*) total_orders\n",
    "                            FROM OrderDetail \n",
    "                            INNER JOIN [Order] on OrderDetail.OrderId = [Order].Id\n",
    "                            GROUP BY [Order].CustomerId\n",
    "                            ORDER BY [Order].CustomerId ASC\n",
    "                        \"\"\", engine)\n",
    "\n",
    "####RESUME HERE 1/29. Inner query is only showing ALFKI no discount orders."
   ]
  },
  {
   "cell_type": "code",
   "execution_count": 46,
   "metadata": {},
   "outputs": [
    {
     "data": {
      "text/html": [
       "<div>\n",
       "<style scoped>\n",
       "    .dataframe tbody tr th:only-of-type {\n",
       "        vertical-align: middle;\n",
       "    }\n",
       "\n",
       "    .dataframe tbody tr th {\n",
       "        vertical-align: top;\n",
       "    }\n",
       "\n",
       "    .dataframe thead th {\n",
       "        text-align: right;\n",
       "    }\n",
       "</style>\n",
       "<table border=\"1\" class=\"dataframe\">\n",
       "  <thead>\n",
       "    <tr style=\"text-align: right;\">\n",
       "      <th></th>\n",
       "      <th>CustomerId</th>\n",
       "      <th>no_discount</th>\n",
       "      <th>total_orders</th>\n",
       "    </tr>\n",
       "  </thead>\n",
       "  <tbody>\n",
       "    <tr>\n",
       "      <th>0</th>\n",
       "      <td>ALFKI</td>\n",
       "      <td>6</td>\n",
       "      <td>12</td>\n",
       "    </tr>\n",
       "    <tr>\n",
       "      <th>1</th>\n",
       "      <td>ANATR</td>\n",
       "      <td>6</td>\n",
       "      <td>10</td>\n",
       "    </tr>\n",
       "    <tr>\n",
       "      <th>2</th>\n",
       "      <td>ANTO</td>\n",
       "      <td>6</td>\n",
       "      <td>17</td>\n",
       "    </tr>\n",
       "    <tr>\n",
       "      <th>3</th>\n",
       "      <td>AROUT</td>\n",
       "      <td>6</td>\n",
       "      <td>30</td>\n",
       "    </tr>\n",
       "    <tr>\n",
       "      <th>4</th>\n",
       "      <td>BERGS</td>\n",
       "      <td>6</td>\n",
       "      <td>52</td>\n",
       "    </tr>\n",
       "  </tbody>\n",
       "</table>\n",
       "</div>"
      ],
      "text/plain": [
       "  CustomerId  no_discount  total_orders\n",
       "0      ALFKI            6            12\n",
       "1      ANATR            6            10\n",
       "2       ANTO            6            17\n",
       "3      AROUT            6            30\n",
       "4      BERGS            6            52"
      ]
     },
     "execution_count": 46,
     "metadata": {},
     "output_type": "execute_result"
    }
   ],
   "source": [
    "#\tALFKI\t12\n",
    "#1\tANATR\t10\n",
    "#2\tANTO\t17\n",
    "#3\tAROUT\t30\n",
    "#4\tBERGS\t52\n",
    "df.head()"
   ]
  },
  {
   "cell_type": "code",
   "execution_count": 36,
   "metadata": {},
   "outputs": [
    {
     "data": {
      "text/plain": [
       "(89, 3)"
      ]
     },
     "execution_count": 36,
     "metadata": {},
     "output_type": "execute_result"
    }
   ],
   "source": [
    "df.shape"
   ]
  },
  {
   "cell_type": "code",
   "execution_count": null,
   "metadata": {},
   "outputs": [],
   "source": []
  },
  {
   "cell_type": "code",
   "execution_count": null,
   "metadata": {},
   "outputs": [],
   "source": []
  },
  {
   "cell_type": "code",
   "execution_count": null,
   "metadata": {},
   "outputs": [],
   "source": []
  },
  {
   "cell_type": "code",
   "execution_count": 45,
   "metadata": {},
   "outputs": [
    {
     "name": "stdout",
     "output_type": "stream",
     "text": [
      "2019-01-28 11:21:40,070 INFO sqlalchemy.engine.base.Engine SELECT OrderDetail.*\n",
      "                            FROM OrderDetail \n",
      "                        \n"
     ]
    },
    {
     "name": "stderr",
     "output_type": "stream",
     "text": [
      "INFO:sqlalchemy.engine.base.Engine:SELECT OrderDetail.*\n",
      "                            FROM OrderDetail \n",
      "                        \n"
     ]
    },
    {
     "name": "stdout",
     "output_type": "stream",
     "text": [
      "2019-01-28 11:21:40,073 INFO sqlalchemy.engine.base.Engine ()\n"
     ]
    },
    {
     "name": "stderr",
     "output_type": "stream",
     "text": [
      "INFO:sqlalchemy.engine.base.Engine:()\n"
     ]
    },
    {
     "data": {
      "text/plain": [
       "0.00    1317\n",
       "0.05     185\n",
       "0.10     173\n",
       "0.20     161\n",
       "0.15     157\n",
       "0.25     154\n",
       "0.03       3\n",
       "0.02       2\n",
       "0.01       1\n",
       "0.04       1\n",
       "0.06       1\n",
       "Name: Discount, dtype: int64"
      ]
     },
     "execution_count": 45,
     "metadata": {},
     "output_type": "execute_result"
    }
   ],
   "source": [
    "#Look at the levels of discount\n",
    "\n",
    "df = pd.read_sql_query(\"\"\"SELECT OrderDetail.*\n",
    "                            FROM OrderDetail \n",
    "                        \"\"\", engine)\n",
    "df['Discount'].value_counts()"
   ]
  },
  {
   "cell_type": "code",
   "execution_count": 78,
   "metadata": {},
   "outputs": [
    {
     "name": "stdout",
     "output_type": "stream",
     "text": [
      "2019-01-28 14:21:37,040 INFO sqlalchemy.engine.base.Engine SELECT Customer.Id, Customer.CompanyName\n",
      "                            FROM Customer\n",
      "                            ORDER BY Customer.CompanyName\n",
      "                        \n"
     ]
    },
    {
     "name": "stderr",
     "output_type": "stream",
     "text": [
      "INFO:sqlalchemy.engine.base.Engine:SELECT Customer.Id, Customer.CompanyName\n",
      "                            FROM Customer\n",
      "                            ORDER BY Customer.CompanyName\n",
      "                        \n"
     ]
    },
    {
     "name": "stdout",
     "output_type": "stream",
     "text": [
      "2019-01-28 14:21:37,042 INFO sqlalchemy.engine.base.Engine ()\n"
     ]
    },
    {
     "name": "stderr",
     "output_type": "stream",
     "text": [
      "INFO:sqlalchemy.engine.base.Engine:()\n"
     ]
    }
   ],
   "source": [
    "#Look at how many customers each company has\n",
    "df = pd.read_sql_query(\"\"\"SELECT Customer.Id, Customer.CompanyName\n",
    "                            FROM Customer\n",
    "                            ORDER BY Customer.CompanyName\n",
    "                        \"\"\", engine)"
   ]
  },
  {
   "cell_type": "code",
   "execution_count": 83,
   "metadata": {},
   "outputs": [
    {
     "data": {
      "text/plain": [
       "0"
      ]
     },
     "execution_count": 83,
     "metadata": {},
     "output_type": "execute_result"
    }
   ],
   "source": [
    "#Every company has only one customer. Orders can therefore be counted by customer or by company.\n",
    "sum(df['CompanyName'].value_counts() > 1)"
   ]
  },
  {
   "cell_type": "code",
   "execution_count": 4,
   "metadata": {},
   "outputs": [
    {
     "name": "stdout",
     "output_type": "stream",
     "text": [
      "2019-01-28 10:39:55,275 INFO sqlalchemy.engine.base.Engine SELECT o.ID, c.CompanyName, Count(*) num_orders FROM [Order] o INNER JOIN Customer c on o.CustomerID = c.ID GROUP BY c.CompanyName ORDER BY num_orders DESC\n",
      "2019-01-28 10:39:55,276 INFO sqlalchemy.engine.base.Engine ()\n"
     ]
    },
    {
     "data": {
      "text/html": [
       "<div>\n",
       "<style scoped>\n",
       "    .dataframe tbody tr th:only-of-type {\n",
       "        vertical-align: middle;\n",
       "    }\n",
       "\n",
       "    .dataframe tbody tr th {\n",
       "        vertical-align: top;\n",
       "    }\n",
       "\n",
       "    .dataframe thead th {\n",
       "        text-align: right;\n",
       "    }\n",
       "</style>\n",
       "<table border=\"1\" class=\"dataframe\">\n",
       "  <thead>\n",
       "    <tr style=\"text-align: right;\">\n",
       "      <th></th>\n",
       "      <th>Id</th>\n",
       "      <th>CompanyName</th>\n",
       "      <th>num_orders</th>\n",
       "    </tr>\n",
       "  </thead>\n",
       "  <tbody>\n",
       "    <tr>\n",
       "      <th>0</th>\n",
       "      <td>11064</td>\n",
       "      <td>Save-a-lot Markets</td>\n",
       "      <td>31</td>\n",
       "    </tr>\n",
       "    <tr>\n",
       "      <th>1</th>\n",
       "      <td>11072</td>\n",
       "      <td>Ernst Handel</td>\n",
       "      <td>30</td>\n",
       "    </tr>\n",
       "    <tr>\n",
       "      <th>2</th>\n",
       "      <td>11021</td>\n",
       "      <td>QUICK-Stop</td>\n",
       "      <td>28</td>\n",
       "    </tr>\n",
       "    <tr>\n",
       "      <th>3</th>\n",
       "      <td>11050</td>\n",
       "      <td>Folk och fä HB</td>\n",
       "      <td>19</td>\n",
       "    </tr>\n",
       "    <tr>\n",
       "      <th>4</th>\n",
       "      <td>11063</td>\n",
       "      <td>Hungry Owl All-Night Grocers</td>\n",
       "      <td>19</td>\n",
       "    </tr>\n",
       "  </tbody>\n",
       "</table>\n",
       "</div>"
      ],
      "text/plain": [
       "      Id                   CompanyName  num_orders\n",
       "0  11064            Save-a-lot Markets          31\n",
       "1  11072                  Ernst Handel          30\n",
       "2  11021                    QUICK-Stop          28\n",
       "3  11050                Folk och fä HB          19\n",
       "4  11063  Hungry Owl All-Night Grocers          19"
      ]
     },
     "execution_count": 4,
     "metadata": {},
     "output_type": "execute_result"
    }
   ],
   "source": [
    "# JUST AN EXAMPLE\n",
    "\"\"\"SELECT o.ID, c.CompanyName, Count(*) num_orders \n",
    "    FROM [Order] o\n",
    "    INNER JOIN Customer c on o.CustomerID = c.ID \n",
    "    GROUP BY c.CompanyName \n",
    "    ORDER BY num_orders DESC\"\"\"\n",
    "\n",
    "df = pd.read_sql_query(\"\"\"SELECT o.ID, c.CompanyName, Count(*) num_orders FROM [Order] \\\n",
    "o INNER JOIN Customer c on o.CustomerID = c.ID GROUP BY c.CompanyName ORDER BY num_orders DESC\"\"\", engine)\n",
    "df.head()"
   ]
  },
  {
   "cell_type": "code",
   "execution_count": null,
   "metadata": {},
   "outputs": [],
   "source": []
  },
  {
   "cell_type": "code",
   "execution_count": null,
   "metadata": {},
   "outputs": [],
   "source": []
  },
  {
   "cell_type": "code",
   "execution_count": null,
   "metadata": {},
   "outputs": [],
   "source": []
  },
  {
   "cell_type": "code",
   "execution_count": null,
   "metadata": {},
   "outputs": [],
   "source": []
  },
  {
   "cell_type": "code",
   "execution_count": null,
   "metadata": {},
   "outputs": [],
   "source": []
  },
  {
   "cell_type": "code",
   "execution_count": null,
   "metadata": {},
   "outputs": [],
   "source": []
  },
  {
   "cell_type": "code",
   "execution_count": null,
   "metadata": {},
   "outputs": [],
   "source": []
  },
  {
   "cell_type": "code",
   "execution_count": null,
   "metadata": {},
   "outputs": [],
   "source": []
  },
  {
   "cell_type": "code",
   "execution_count": null,
   "metadata": {},
   "outputs": [],
   "source": []
  },
  {
   "cell_type": "code",
   "execution_count": 70,
   "metadata": {},
   "outputs": [],
   "source": [
    "#######################################\n",
    "#AUTOMAPPER BITS\n",
    "#Instantiate metadata to reflect the engine\n",
    "#metadata = MetaData()\n",
    "#metadata.reflect(engine)"
   ]
  },
  {
   "cell_type": "code",
   "execution_count": 4,
   "metadata": {},
   "outputs": [],
   "source": [
    "#Create mappings to treat the database elements as OOP objects\n",
    "Base = automap_base(metadata=metadata)\n",
    "Base.prepare()"
   ]
  },
  {
   "cell_type": "code",
   "execution_count": null,
   "metadata": {},
   "outputs": [],
   "source": [
    "#['Category', 'Customer', 'CustomerCustomerDemo', 'CustomerDemographic', \n",
    "#'Employee', 'EmployeeTerritory', 'Order', 'OrderDetail', 'Product', 'Region', 'Shipper', 'Supplier', 'Territory']"
   ]
  },
  {
   "cell_type": "code",
   "execution_count": 5,
   "metadata": {
    "scrolled": true
   },
   "outputs": [],
   "source": [
    "#Create an object for each table\n",
    "Category = Base.classes.Category\n",
    "Customer = Base.classes.Customer\n",
    "CustomerCustomerDemo = Base.classes.CustomerCustomerDemo\n",
    "CustomerDemographic = Base.classes.CustomerDemographic\n",
    "Employee = Base.classes.Employee\n",
    "EmployeeTerritory = Base.classes.EmployeeTerritory\n",
    "Order = Base.classes.Order\n",
    "OrderDetail = Base.classes.OrderDetail\n",
    "Product = Base.classes.Product\n",
    "Region = Base.classes.Region\n",
    "Shipper = Base.classes.Shipper\n",
    "Supplier = Base.classes.Supplier\n",
    "Territory = Base.classes.Territory"
   ]
  },
  {
   "cell_type": "code",
   "execution_count": 6,
   "metadata": {},
   "outputs": [
    {
     "name": "stdout",
     "output_type": "stream",
     "text": [
      "2019-01-27 15:22:07,052 INFO sqlalchemy.engine.base.Engine BEGIN (implicit)\n",
      "2019-01-27 15:22:07,053 INFO sqlalchemy.engine.base.Engine SELECT \"Category\".\"Id\" AS \"Category_Id\", \"Category\".\"CategoryName\" AS \"Category_CategoryName\", \"Category\".\"Description\" AS \"Category_Description\" \n",
      "FROM \"Category\"\n",
      "2019-01-27 15:22:07,054 INFO sqlalchemy.engine.base.Engine ()\n",
      "Beverages Soft drinks, coffees, teas, beers, and ales\n",
      "Condiments Sweet and savory sauces, relishes, spreads, and seasonings\n",
      "Confections Desserts, candies, and sweet breads\n",
      "Dairy Products Cheeses\n",
      "Grains/Cereals Breads, crackers, pasta, and cereal\n",
      "Meat/Poultry Prepared meats\n",
      "Produce Dried fruit and bean curd\n",
      "Seafood Seaweed and fish\n"
     ]
    }
   ],
   "source": [
    "categories = session.query(Category).all()\n",
    "\n",
    "for cat in categories:\n",
    "    print(cat.CategoryName, cat.Description)"
   ]
  },
  {
   "cell_type": "code",
   "execution_count": 9,
   "metadata": {
    "scrolled": true
   },
   "outputs": [
    {
     "name": "stdout",
     "output_type": "stream",
     "text": [
      "2019-01-27 20:15:03,448 INFO sqlalchemy.engine.base.Engine SELECT \"Category\".\"Id\" AS \"Category_Id\", \"Category\".\"CategoryName\" AS \"Category_CategoryName\", \"Category\".\"Description\" AS \"Category_Description\" \n",
      "FROM \"Category\"\n",
      "2019-01-27 20:15:03,451 INFO sqlalchemy.engine.base.Engine ()\n",
      "Soft drinks, coffees, teas, beers, and ales\n",
      "Sweet and savory sauces, relishes, spreads, and seasonings\n",
      "Desserts, candies, and sweet breads\n",
      "Cheeses\n",
      "Breads, crackers, pasta, and cereal\n",
      "Prepared meats\n",
      "Dried fruit and bean curd\n",
      "Seaweed and fish\n"
     ]
    }
   ],
   "source": [
    "for instance in session.query(Category):\n",
    "    print(instance.Description)"
   ]
  },
  {
   "cell_type": "code",
   "execution_count": 10,
   "metadata": {},
   "outputs": [
    {
     "name": "stdout",
     "output_type": "stream",
     "text": [
      "2019-01-27 20:15:19,574 INFO sqlalchemy.engine.base.Engine SELECT \"Customer\".\"Id\" AS \"Customer_Id\", \"Customer\".\"CompanyName\" AS \"Customer_CompanyName\", \"Customer\".\"ContactName\" AS \"Customer_ContactName\", \"Customer\".\"ContactTitle\" AS \"Customer_ContactTitle\", \"Customer\".\"Address\" AS \"Customer_Address\", \"Customer\".\"City\" AS \"Customer_City\", \"Customer\".\"Region\" AS \"Customer_Region\", \"Customer\".\"PostalCode\" AS \"Customer_PostalCode\", \"Customer\".\"Country\" AS \"Customer_Country\", \"Customer\".\"Phone\" AS \"Customer_Phone\", \"Customer\".\"Fax\" AS \"Customer_Fax\" \n",
      "FROM \"Customer\"\n",
      "2019-01-27 20:15:19,575 INFO sqlalchemy.engine.base.Engine ()\n"
     ]
    }
   ],
   "source": [
    "countries = []\n",
    "for instance in session.query(Customer):\n",
    "    countries.append(instance.Country)"
   ]
  },
  {
   "cell_type": "code",
   "execution_count": 11,
   "metadata": {},
   "outputs": [
    {
     "data": {
      "text/plain": [
       "USA            13\n",
       "France         11\n",
       "Germany        11\n",
       "Brazil          9\n",
       "UK              7\n",
       "Spain           5\n",
       "Mexico          5\n",
       "Venezuela       4\n",
       "Argentina       3\n",
       "Italy           3\n",
       "Canada          3\n",
       "Switzerland     2\n",
       "Denmark         2\n",
       "Austria         2\n",
       "Sweden          2\n",
       "Belgium         2\n",
       "Portugal        2\n",
       "Finland         2\n",
       "Norway          1\n",
       "Ireland         1\n",
       "Poland          1\n",
       "Name: 0, dtype: int64"
      ]
     },
     "execution_count": 11,
     "metadata": {},
     "output_type": "execute_result"
    }
   ],
   "source": [
    "countries_df = pd.DataFrame(countries)\n",
    "countries_df[0].value_counts()"
   ]
  },
  {
   "cell_type": "code",
   "execution_count": 12,
   "metadata": {},
   "outputs": [
    {
     "name": "stdout",
     "output_type": "stream",
     "text": [
      "2019-01-27 20:15:27,313 INFO sqlalchemy.engine.base.Engine SELECT \"Customer\".\"Id\" AS \"Customer_Id\", \"Customer\".\"CompanyName\" AS \"Customer_CompanyName\", \"Customer\".\"ContactName\" AS \"Customer_ContactName\", \"Customer\".\"ContactTitle\" AS \"Customer_ContactTitle\", \"Customer\".\"Address\" AS \"Customer_Address\", \"Customer\".\"City\" AS \"Customer_City\", \"Customer\".\"Region\" AS \"Customer_Region\", \"Customer\".\"PostalCode\" AS \"Customer_PostalCode\", \"Customer\".\"Country\" AS \"Customer_Country\", \"Customer\".\"Phone\" AS \"Customer_Phone\", \"Customer\".\"Fax\" AS \"Customer_Fax\" \n",
      "FROM \"Customer\"\n",
      "2019-01-27 20:15:27,314 INFO sqlalchemy.engine.base.Engine ()\n"
     ]
    },
    {
     "data": {
      "text/plain": [
       "Western Europe     28\n",
       "North America      16\n",
       "South America      16\n",
       "Southern Europe    10\n",
       "British Isles       8\n",
       "Central America     5\n",
       "Northern Europe     4\n",
       "Scandinavia         3\n",
       "Eastern Europe      1\n",
       "Name: 0, dtype: int64"
      ]
     },
     "execution_count": 12,
     "metadata": {},
     "output_type": "execute_result"
    }
   ],
   "source": [
    "regions = []\n",
    "for instance in session.query(Customer):\n",
    "    regions.append(instance.Region)\n",
    "\n",
    "regions_df = pd.DataFrame(regions)\n",
    "regions_df[0].value_counts()"
   ]
  },
  {
   "cell_type": "code",
   "execution_count": null,
   "metadata": {},
   "outputs": [],
   "source": [
    "names = []\n",
    "for instance in session.query(Customer):\n",
    "    names.append(instance.ContactName)\n",
    "    \n",
    "names_df = pd.DataFrame(names)\n",
    "names_df[0].value_counts()"
   ]
  },
  {
   "cell_type": "code",
   "execution_count": null,
   "metadata": {},
   "outputs": [],
   "source": [
    "len(set(names))"
   ]
  },
  {
   "cell_type": "code",
   "execution_count": null,
   "metadata": {},
   "outputs": [],
   "source": []
  },
  {
   "cell_type": "code",
   "execution_count": null,
   "metadata": {},
   "outputs": [],
   "source": [
    "session.query(Customer).column_descriptions"
   ]
  },
  {
   "cell_type": "code",
   "execution_count": 18,
   "metadata": {},
   "outputs": [
    {
     "name": "stdout",
     "output_type": "stream",
     "text": [
      "2019-01-26 15:57:22,647 INFO sqlalchemy.engine.base.Engine SELECT *\n",
      "                            FROM Customer\n",
      "                        ;\n",
      "2019-01-26 15:57:22,650 INFO sqlalchemy.engine.base.Engine ()\n"
     ]
    }
   ],
   "source": [
    "result = session.execute('''SELECT *\n",
    "                            FROM Customer\n",
    "                        ;''')"
   ]
  },
  {
   "cell_type": "code",
   "execution_count": 19,
   "metadata": {},
   "outputs": [],
   "source": [
    "customer_df = pd.DataFrame(result.fetchall())"
   ]
  },
  {
   "cell_type": "code",
   "execution_count": 21,
   "metadata": {},
   "outputs": [
    {
     "data": {
      "text/plain": [
       "(91, 11)"
      ]
     },
     "execution_count": 21,
     "metadata": {},
     "output_type": "execute_result"
    }
   ],
   "source": [
    "customer_df.shape"
   ]
  },
  {
   "cell_type": "code",
   "execution_count": null,
   "metadata": {},
   "outputs": [],
   "source": []
  },
  {
   "cell_type": "code",
   "execution_count": null,
   "metadata": {},
   "outputs": [],
   "source": []
  },
  {
   "cell_type": "code",
   "execution_count": null,
   "metadata": {},
   "outputs": [],
   "source": []
  },
  {
   "cell_type": "code",
   "execution_count": null,
   "metadata": {},
   "outputs": [],
   "source": []
  },
  {
   "cell_type": "code",
   "execution_count": null,
   "metadata": {},
   "outputs": [],
   "source": []
  },
  {
   "cell_type": "markdown",
   "metadata": {},
   "source": [
    "## Hypothesis 1\n",
    "Do discounts have a statistically significant effect on the number of products customers order? If so, at what level(s) of discount?"
   ]
  },
  {
   "cell_type": "markdown",
   "metadata": {},
   "source": [
    "product (quantity) ordered by customers, no discount\n",
    "\n",
    "product (quantity) order by customers, wiht discount\n",
    "\n",
    "H0: Discount does not have an effect on the number of products ordered by a customer. Control = Treatment\n",
    "\n",
    "H1: Discount has an effect on the number of products ordered by a customer. Control < or > Treament"
   ]
  },
  {
   "cell_type": "code",
   "execution_count": null,
   "metadata": {},
   "outputs": [],
   "source": []
  },
  {
   "cell_type": "code",
   "execution_count": null,
   "metadata": {},
   "outputs": [],
   "source": []
  },
  {
   "cell_type": "code",
   "execution_count": null,
   "metadata": {},
   "outputs": [],
   "source": []
  }
 ],
 "metadata": {
  "kernelspec": {
   "display_name": "learn-env",
   "language": "python",
   "name": "learn-env"
  },
  "language_info": {
   "codemirror_mode": {
    "name": "ipython",
    "version": 3
   },
   "file_extension": ".py",
   "mimetype": "text/x-python",
   "name": "python",
   "nbconvert_exporter": "python",
   "pygments_lexer": "ipython3",
   "version": "3.6.6"
  }
 },
 "nbformat": 4,
 "nbformat_minor": 2
}
