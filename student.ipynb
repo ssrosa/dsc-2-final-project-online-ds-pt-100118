{
 "cells": [
  {
   "cell_type": "markdown",
   "metadata": {},
   "source": [
    "# Final Project Submission\n",
    "Please fill out:\n",
    "\n",
    "-  Student name: Steven Rosa\n",
    "-  Student pace: part time\n",
    "-  Scheduled project review date/time: Mon 4 Feb 2019 2pm EST\n",
    "-  Instructor name: Jeff Herman\n",
    "-  Blog post URL:"
   ]
  },
  {
   "cell_type": "markdown",
   "metadata": {},
   "source": [
    "# Northwind Data Analysis"
   ]
  },
  {
   "cell_type": "code",
   "execution_count": 1,
   "metadata": {},
   "outputs": [],
   "source": [
    "#Import libraries\n",
    "import sqlalchemy #ORM\n",
    "from sqlalchemy import create_engine #To connect to the database\n",
    "from sqlalchemy.orm import Session, sessionmaker #To interact with the database as object\n",
    "from sqlalchemy import inspect #To look at tables and column names\n",
    "from sqlalchemy import MetaData #to reflect the engine object \n",
    "from sqlalchemy.ext.automap import automap_base # to create mappings from the reflection\n",
    "import pandas as pd #To read in parts of the database as DataFrames"
   ]
  },
  {
   "cell_type": "code",
   "execution_count": null,
   "metadata": {},
   "outputs": [],
   "source": []
  },
  {
   "cell_type": "code",
   "execution_count": null,
   "metadata": {},
   "outputs": [],
   "source": [
    "#Write functions"
   ]
  },
  {
   "cell_type": "code",
   "execution_count": 2,
   "metadata": {},
   "outputs": [],
   "source": [
    "#Instantiate a session of the ORM\n",
    "#Connect to the sqlite database file\n",
    "engine = create_engine('sqlite:///Northwind_small.sqlite', echo = True)\n",
    "#Bind a session object to the engine\n",
    "Session = sessionmaker(bind=engine)\n",
    "#Instantiate the session\n",
    "session = Session()"
   ]
  },
  {
   "cell_type": "code",
   "execution_count": 8,
   "metadata": {},
   "outputs": [],
   "source": [
    "#An object to get a first look at the database\n",
    "inspector = inspect(engine)"
   ]
  },
  {
   "cell_type": "code",
   "execution_count": 9,
   "metadata": {
    "scrolled": true
   },
   "outputs": [
    {
     "name": "stdout",
     "output_type": "stream",
     "text": [
      "2019-01-28 10:45:24,134 INFO sqlalchemy.engine.base.Engine SELECT name FROM sqlite_master WHERE type='table' ORDER BY name\n"
     ]
    },
    {
     "name": "stderr",
     "output_type": "stream",
     "text": [
      "INFO:sqlalchemy.engine.base.Engine:SELECT name FROM sqlite_master WHERE type='table' ORDER BY name\n"
     ]
    },
    {
     "name": "stdout",
     "output_type": "stream",
     "text": [
      "2019-01-28 10:45:24,136 INFO sqlalchemy.engine.base.Engine ()\n"
     ]
    },
    {
     "name": "stderr",
     "output_type": "stream",
     "text": [
      "INFO:sqlalchemy.engine.base.Engine:()\n"
     ]
    }
   ],
   "source": [
    "table_names = inspector.get_table_names()"
   ]
  },
  {
   "cell_type": "code",
   "execution_count": 10,
   "metadata": {},
   "outputs": [
    {
     "data": {
      "text/plain": [
       "['Category',\n",
       " 'Customer',\n",
       " 'CustomerCustomerDemo',\n",
       " 'CustomerDemographic',\n",
       " 'Employee',\n",
       " 'EmployeeTerritory',\n",
       " 'Order',\n",
       " 'OrderDetail',\n",
       " 'Product',\n",
       " 'Region',\n",
       " 'Shipper',\n",
       " 'Supplier',\n",
       " 'Territory']"
      ]
     },
     "execution_count": 10,
     "metadata": {},
     "output_type": "execute_result"
    }
   ],
   "source": [
    "table_names"
   ]
  },
  {
   "cell_type": "code",
   "execution_count": 23,
   "metadata": {},
   "outputs": [],
   "source": [
    "Order_columns = (inspector.get_columns('Order'))"
   ]
  },
  {
   "cell_type": "code",
   "execution_count": 25,
   "metadata": {},
   "outputs": [
    {
     "name": "stdout",
     "output_type": "stream",
     "text": [
      "Id\n",
      "CustomerId\n",
      "EmployeeId\n",
      "OrderDate\n",
      "RequiredDate\n",
      "ShippedDate\n",
      "ShipVia\n",
      "Freight\n",
      "ShipName\n",
      "ShipAddress\n",
      "ShipCity\n",
      "ShipRegion\n",
      "ShipPostalCode\n",
      "ShipCountry\n"
     ]
    }
   ],
   "source": [
    "for column in Order_columns:\n",
    "    print(column['name'])"
   ]
  },
  {
   "cell_type": "code",
   "execution_count": 53,
   "metadata": {},
   "outputs": [],
   "source": [
    "#Pull raw results from the database\n",
    "#conn = engine.connect()\n",
    "#results = conn.execute('''SELECT *\n",
    "#                            FROM Category\n",
    "#                        ;''')\n",
    "#print(results.fetchall())"
   ]
  },
  {
   "cell_type": "code",
   "execution_count": 52,
   "metadata": {},
   "outputs": [],
   "source": [
    "###conn = engine.connect()\n",
    "#results = conn.execute(\"SELECT * FROM [Order];\")\n",
    "#df = pd.DataFrame(results.fetchall())\n",
    "#df.head()"
   ]
  },
  {
   "cell_type": "code",
   "execution_count": 54,
   "metadata": {},
   "outputs": [],
   "source": [
    "#results = conn.execute('''SELECT *\n",
    "#                            FROM OrderDetail\n",
    "#                        ;''')\n",
    "#df = pd.DataFrame(results.fetchall())\n",
    "#df.head()"
   ]
  },
  {
   "cell_type": "code",
   "execution_count": 55,
   "metadata": {
    "scrolled": true
   },
   "outputs": [],
   "source": [
    "#df = pd.read_sql_query('''SELECT * \n",
    "#                           FROM [Order]\n",
    "#                       ;''', engine)\n",
    "#df.head()"
   ]
  },
  {
   "cell_type": "code",
   "execution_count": 47,
   "metadata": {
    "scrolled": true
   },
   "outputs": [],
   "source": [
    "#df = pd.read_sql_query(\"SELECT * FROM [Order] WHERE CUSTOMERId = 'VINET'\", engine)\n",
    "#df.head()"
   ]
  },
  {
   "cell_type": "code",
   "execution_count": 56,
   "metadata": {
    "scrolled": true
   },
   "outputs": [
    {
     "name": "stdout",
     "output_type": "stream",
     "text": [
      "2019-01-28 13:38:29,447 INFO sqlalchemy.engine.base.Engine SELECT OrderDetail.*, [Order].CustomerId \n",
      "                            FROM OrderDetail \n",
      "                            INNER JOIN [Order] on OrderDetail.OrderId = [Order].Id\n",
      "                            WHERE OrderDetail.Discount != 0.0\n",
      "                        \n"
     ]
    },
    {
     "name": "stderr",
     "output_type": "stream",
     "text": [
      "INFO:sqlalchemy.engine.base.Engine:SELECT OrderDetail.*, [Order].CustomerId \n",
      "                            FROM OrderDetail \n",
      "                            INNER JOIN [Order] on OrderDetail.OrderId = [Order].Id\n",
      "                            WHERE OrderDetail.Discount != 0.0\n",
      "                        \n"
     ]
    },
    {
     "name": "stdout",
     "output_type": "stream",
     "text": [
      "2019-01-28 13:38:29,449 INFO sqlalchemy.engine.base.Engine ()\n"
     ]
    },
    {
     "name": "stderr",
     "output_type": "stream",
     "text": [
      "INFO:sqlalchemy.engine.base.Engine:()\n"
     ]
    },
    {
     "data": {
      "text/html": [
       "<div>\n",
       "<style scoped>\n",
       "    .dataframe tbody tr th:only-of-type {\n",
       "        vertical-align: middle;\n",
       "    }\n",
       "\n",
       "    .dataframe tbody tr th {\n",
       "        vertical-align: top;\n",
       "    }\n",
       "\n",
       "    .dataframe thead th {\n",
       "        text-align: right;\n",
       "    }\n",
       "</style>\n",
       "<table border=\"1\" class=\"dataframe\">\n",
       "  <thead>\n",
       "    <tr style=\"text-align: right;\">\n",
       "      <th></th>\n",
       "      <th>Id</th>\n",
       "      <th>OrderId</th>\n",
       "      <th>ProductId</th>\n",
       "      <th>UnitPrice</th>\n",
       "      <th>Quantity</th>\n",
       "      <th>Discount</th>\n",
       "      <th>CustomerId</th>\n",
       "    </tr>\n",
       "  </thead>\n",
       "  <tbody>\n",
       "    <tr>\n",
       "      <th>0</th>\n",
       "      <td>10250/51</td>\n",
       "      <td>10250</td>\n",
       "      <td>51</td>\n",
       "      <td>42.4</td>\n",
       "      <td>35</td>\n",
       "      <td>0.15</td>\n",
       "      <td>HANAR</td>\n",
       "    </tr>\n",
       "    <tr>\n",
       "      <th>1</th>\n",
       "      <td>10250/65</td>\n",
       "      <td>10250</td>\n",
       "      <td>65</td>\n",
       "      <td>16.8</td>\n",
       "      <td>15</td>\n",
       "      <td>0.15</td>\n",
       "      <td>HANAR</td>\n",
       "    </tr>\n",
       "    <tr>\n",
       "      <th>2</th>\n",
       "      <td>10251/22</td>\n",
       "      <td>10251</td>\n",
       "      <td>22</td>\n",
       "      <td>16.8</td>\n",
       "      <td>6</td>\n",
       "      <td>0.05</td>\n",
       "      <td>VICTE</td>\n",
       "    </tr>\n",
       "    <tr>\n",
       "      <th>3</th>\n",
       "      <td>10251/57</td>\n",
       "      <td>10251</td>\n",
       "      <td>57</td>\n",
       "      <td>15.6</td>\n",
       "      <td>15</td>\n",
       "      <td>0.05</td>\n",
       "      <td>VICTE</td>\n",
       "    </tr>\n",
       "    <tr>\n",
       "      <th>4</th>\n",
       "      <td>10252/20</td>\n",
       "      <td>10252</td>\n",
       "      <td>20</td>\n",
       "      <td>64.8</td>\n",
       "      <td>40</td>\n",
       "      <td>0.05</td>\n",
       "      <td>SUPRD</td>\n",
       "    </tr>\n",
       "  </tbody>\n",
       "</table>\n",
       "</div>"
      ],
      "text/plain": [
       "         Id  OrderId  ProductId  UnitPrice  Quantity  Discount CustomerId\n",
       "0  10250/51    10250         51       42.4        35      0.15      HANAR\n",
       "1  10250/65    10250         65       16.8        15      0.15      HANAR\n",
       "2  10251/22    10251         22       16.8         6      0.05      VICTE\n",
       "3  10251/57    10251         57       15.6        15      0.05      VICTE\n",
       "4  10252/20    10252         20       64.8        40      0.05      SUPRD"
      ]
     },
     "execution_count": 56,
     "metadata": {},
     "output_type": "execute_result"
    }
   ],
   "source": [
    "df = pd.read_sql_query(\"\"\"SELECT OrderDetail.*, [Order].CustomerId \n",
    "                            FROM OrderDetail \n",
    "                            INNER JOIN [Order] on OrderDetail.OrderId = [Order].Id\n",
    "                            WHERE OrderDetail.Discount != 0.0\n",
    "                        \"\"\", engine)\n",
    "df.head()"
   ]
  },
  {
   "cell_type": "code",
   "execution_count": null,
   "metadata": {},
   "outputs": [],
   "source": [
    "#WHERE OrderDetail.Discount != 0.0"
   ]
  },
  {
   "cell_type": "code",
   "execution_count": 65,
   "metadata": {},
   "outputs": [
    {
     "name": "stdout",
     "output_type": "stream",
     "text": [
      "2019-01-28 13:46:45,807 INFO sqlalchemy.engine.base.Engine SELECT OrderDetail.*, [Order].CustomerId\n",
      "                            FROM OrderDetail \n",
      "                            INNER JOIN [Order] on OrderDetail.OrderId = [Order].Id\n",
      "                            ORDER BY [Order].CustomerId DESC, [Order].Id DESC, OrderDetail.Discount DESC\n",
      "                        \n"
     ]
    },
    {
     "name": "stderr",
     "output_type": "stream",
     "text": [
      "INFO:sqlalchemy.engine.base.Engine:SELECT OrderDetail.*, [Order].CustomerId\n",
      "                            FROM OrderDetail \n",
      "                            INNER JOIN [Order] on OrderDetail.OrderId = [Order].Id\n",
      "                            ORDER BY [Order].CustomerId DESC, [Order].Id DESC, OrderDetail.Discount DESC\n",
      "                        \n"
     ]
    },
    {
     "name": "stdout",
     "output_type": "stream",
     "text": [
      "2019-01-28 13:46:45,809 INFO sqlalchemy.engine.base.Engine ()\n"
     ]
    },
    {
     "name": "stderr",
     "output_type": "stream",
     "text": [
      "INFO:sqlalchemy.engine.base.Engine:()\n"
     ]
    }
   ],
   "source": [
    "#Look at all orders with and without discounts\n",
    "df = pd.read_sql_query(\"\"\"SELECT OrderDetail.*, [Order].CustomerId\n",
    "                            FROM OrderDetail \n",
    "                            INNER JOIN [Order] on OrderDetail.OrderId = [Order].Id\n",
    "                            ORDER BY [Order].CustomerId DESC, [Order].Id DESC, OrderDetail.Discount DESC\n",
    "                        \"\"\", engine)\n"
   ]
  },
  {
   "cell_type": "code",
   "execution_count": 66,
   "metadata": {
    "scrolled": false
   },
   "outputs": [
    {
     "data": {
      "text/html": [
       "<div>\n",
       "<style scoped>\n",
       "    .dataframe tbody tr th:only-of-type {\n",
       "        vertical-align: middle;\n",
       "    }\n",
       "\n",
       "    .dataframe tbody tr th {\n",
       "        vertical-align: top;\n",
       "    }\n",
       "\n",
       "    .dataframe thead th {\n",
       "        text-align: right;\n",
       "    }\n",
       "</style>\n",
       "<table border=\"1\" class=\"dataframe\">\n",
       "  <thead>\n",
       "    <tr style=\"text-align: right;\">\n",
       "      <th></th>\n",
       "      <th>Id</th>\n",
       "      <th>OrderId</th>\n",
       "      <th>ProductId</th>\n",
       "      <th>UnitPrice</th>\n",
       "      <th>Quantity</th>\n",
       "      <th>Discount</th>\n",
       "      <th>CustomerId</th>\n",
       "    </tr>\n",
       "  </thead>\n",
       "  <tbody>\n",
       "    <tr>\n",
       "      <th>0</th>\n",
       "      <td>11044/62</td>\n",
       "      <td>11044</td>\n",
       "      <td>62</td>\n",
       "      <td>49.30</td>\n",
       "      <td>12</td>\n",
       "      <td>0.00</td>\n",
       "      <td>WOLZA</td>\n",
       "    </tr>\n",
       "    <tr>\n",
       "      <th>1</th>\n",
       "      <td>10998/24</td>\n",
       "      <td>10998</td>\n",
       "      <td>24</td>\n",
       "      <td>4.50</td>\n",
       "      <td>12</td>\n",
       "      <td>0.00</td>\n",
       "      <td>WOLZA</td>\n",
       "    </tr>\n",
       "    <tr>\n",
       "      <th>2</th>\n",
       "      <td>10998/61</td>\n",
       "      <td>10998</td>\n",
       "      <td>61</td>\n",
       "      <td>28.50</td>\n",
       "      <td>7</td>\n",
       "      <td>0.00</td>\n",
       "      <td>WOLZA</td>\n",
       "    </tr>\n",
       "    <tr>\n",
       "      <th>3</th>\n",
       "      <td>10998/74</td>\n",
       "      <td>10998</td>\n",
       "      <td>74</td>\n",
       "      <td>10.00</td>\n",
       "      <td>20</td>\n",
       "      <td>0.00</td>\n",
       "      <td>WOLZA</td>\n",
       "    </tr>\n",
       "    <tr>\n",
       "      <th>4</th>\n",
       "      <td>10998/75</td>\n",
       "      <td>10998</td>\n",
       "      <td>75</td>\n",
       "      <td>7.75</td>\n",
       "      <td>30</td>\n",
       "      <td>0.00</td>\n",
       "      <td>WOLZA</td>\n",
       "    </tr>\n",
       "    <tr>\n",
       "      <th>5</th>\n",
       "      <td>10906/61</td>\n",
       "      <td>10906</td>\n",
       "      <td>61</td>\n",
       "      <td>28.50</td>\n",
       "      <td>15</td>\n",
       "      <td>0.00</td>\n",
       "      <td>WOLZA</td>\n",
       "    </tr>\n",
       "    <tr>\n",
       "      <th>6</th>\n",
       "      <td>10870/35</td>\n",
       "      <td>10870</td>\n",
       "      <td>35</td>\n",
       "      <td>18.00</td>\n",
       "      <td>3</td>\n",
       "      <td>0.00</td>\n",
       "      <td>WOLZA</td>\n",
       "    </tr>\n",
       "    <tr>\n",
       "      <th>7</th>\n",
       "      <td>10870/51</td>\n",
       "      <td>10870</td>\n",
       "      <td>51</td>\n",
       "      <td>53.00</td>\n",
       "      <td>2</td>\n",
       "      <td>0.00</td>\n",
       "      <td>WOLZA</td>\n",
       "    </tr>\n",
       "    <tr>\n",
       "      <th>8</th>\n",
       "      <td>10792/2</td>\n",
       "      <td>10792</td>\n",
       "      <td>2</td>\n",
       "      <td>19.00</td>\n",
       "      <td>10</td>\n",
       "      <td>0.00</td>\n",
       "      <td>WOLZA</td>\n",
       "    </tr>\n",
       "    <tr>\n",
       "      <th>9</th>\n",
       "      <td>10792/54</td>\n",
       "      <td>10792</td>\n",
       "      <td>54</td>\n",
       "      <td>7.45</td>\n",
       "      <td>3</td>\n",
       "      <td>0.00</td>\n",
       "      <td>WOLZA</td>\n",
       "    </tr>\n",
       "    <tr>\n",
       "      <th>10</th>\n",
       "      <td>10792/68</td>\n",
       "      <td>10792</td>\n",
       "      <td>68</td>\n",
       "      <td>12.50</td>\n",
       "      <td>15</td>\n",
       "      <td>0.00</td>\n",
       "      <td>WOLZA</td>\n",
       "    </tr>\n",
       "    <tr>\n",
       "      <th>11</th>\n",
       "      <td>10611/1</td>\n",
       "      <td>10611</td>\n",
       "      <td>1</td>\n",
       "      <td>18.00</td>\n",
       "      <td>6</td>\n",
       "      <td>0.00</td>\n",
       "      <td>WOLZA</td>\n",
       "    </tr>\n",
       "    <tr>\n",
       "      <th>12</th>\n",
       "      <td>10611/2</td>\n",
       "      <td>10611</td>\n",
       "      <td>2</td>\n",
       "      <td>19.00</td>\n",
       "      <td>10</td>\n",
       "      <td>0.00</td>\n",
       "      <td>WOLZA</td>\n",
       "    </tr>\n",
       "    <tr>\n",
       "      <th>13</th>\n",
       "      <td>10611/60</td>\n",
       "      <td>10611</td>\n",
       "      <td>60</td>\n",
       "      <td>34.00</td>\n",
       "      <td>15</td>\n",
       "      <td>0.00</td>\n",
       "      <td>WOLZA</td>\n",
       "    </tr>\n",
       "    <tr>\n",
       "      <th>14</th>\n",
       "      <td>10374/31</td>\n",
       "      <td>10374</td>\n",
       "      <td>31</td>\n",
       "      <td>10.00</td>\n",
       "      <td>30</td>\n",
       "      <td>0.00</td>\n",
       "      <td>WOLZA</td>\n",
       "    </tr>\n",
       "    <tr>\n",
       "      <th>15</th>\n",
       "      <td>10374/58</td>\n",
       "      <td>10374</td>\n",
       "      <td>58</td>\n",
       "      <td>10.60</td>\n",
       "      <td>15</td>\n",
       "      <td>0.00</td>\n",
       "      <td>WOLZA</td>\n",
       "    </tr>\n",
       "    <tr>\n",
       "      <th>16</th>\n",
       "      <td>11005/1</td>\n",
       "      <td>11005</td>\n",
       "      <td>1</td>\n",
       "      <td>18.00</td>\n",
       "      <td>2</td>\n",
       "      <td>0.00</td>\n",
       "      <td>WILMK</td>\n",
       "    </tr>\n",
       "    <tr>\n",
       "      <th>17</th>\n",
       "      <td>11005/59</td>\n",
       "      <td>11005</td>\n",
       "      <td>59</td>\n",
       "      <td>55.00</td>\n",
       "      <td>10</td>\n",
       "      <td>0.00</td>\n",
       "      <td>WILMK</td>\n",
       "    </tr>\n",
       "    <tr>\n",
       "      <th>18</th>\n",
       "      <td>10910/19</td>\n",
       "      <td>10910</td>\n",
       "      <td>19</td>\n",
       "      <td>9.20</td>\n",
       "      <td>12</td>\n",
       "      <td>0.00</td>\n",
       "      <td>WILMK</td>\n",
       "    </tr>\n",
       "    <tr>\n",
       "      <th>19</th>\n",
       "      <td>10910/49</td>\n",
       "      <td>10910</td>\n",
       "      <td>49</td>\n",
       "      <td>20.00</td>\n",
       "      <td>10</td>\n",
       "      <td>0.00</td>\n",
       "      <td>WILMK</td>\n",
       "    </tr>\n",
       "    <tr>\n",
       "      <th>20</th>\n",
       "      <td>10910/61</td>\n",
       "      <td>10910</td>\n",
       "      <td>61</td>\n",
       "      <td>28.50</td>\n",
       "      <td>5</td>\n",
       "      <td>0.00</td>\n",
       "      <td>WILMK</td>\n",
       "    </tr>\n",
       "    <tr>\n",
       "      <th>21</th>\n",
       "      <td>10879/40</td>\n",
       "      <td>10879</td>\n",
       "      <td>40</td>\n",
       "      <td>18.40</td>\n",
       "      <td>12</td>\n",
       "      <td>0.00</td>\n",
       "      <td>WILMK</td>\n",
       "    </tr>\n",
       "    <tr>\n",
       "      <th>22</th>\n",
       "      <td>10879/65</td>\n",
       "      <td>10879</td>\n",
       "      <td>65</td>\n",
       "      <td>21.05</td>\n",
       "      <td>10</td>\n",
       "      <td>0.00</td>\n",
       "      <td>WILMK</td>\n",
       "    </tr>\n",
       "    <tr>\n",
       "      <th>23</th>\n",
       "      <td>10879/76</td>\n",
       "      <td>10879</td>\n",
       "      <td>76</td>\n",
       "      <td>18.00</td>\n",
       "      <td>10</td>\n",
       "      <td>0.00</td>\n",
       "      <td>WILMK</td>\n",
       "    </tr>\n",
       "    <tr>\n",
       "      <th>24</th>\n",
       "      <td>10873/21</td>\n",
       "      <td>10873</td>\n",
       "      <td>21</td>\n",
       "      <td>10.00</td>\n",
       "      <td>20</td>\n",
       "      <td>0.00</td>\n",
       "      <td>WILMK</td>\n",
       "    </tr>\n",
       "    <tr>\n",
       "      <th>25</th>\n",
       "      <td>10873/28</td>\n",
       "      <td>10873</td>\n",
       "      <td>28</td>\n",
       "      <td>45.60</td>\n",
       "      <td>3</td>\n",
       "      <td>0.00</td>\n",
       "      <td>WILMK</td>\n",
       "    </tr>\n",
       "    <tr>\n",
       "      <th>26</th>\n",
       "      <td>10695/8</td>\n",
       "      <td>10695</td>\n",
       "      <td>8</td>\n",
       "      <td>40.00</td>\n",
       "      <td>10</td>\n",
       "      <td>0.00</td>\n",
       "      <td>WILMK</td>\n",
       "    </tr>\n",
       "    <tr>\n",
       "      <th>27</th>\n",
       "      <td>10695/12</td>\n",
       "      <td>10695</td>\n",
       "      <td>12</td>\n",
       "      <td>38.00</td>\n",
       "      <td>4</td>\n",
       "      <td>0.00</td>\n",
       "      <td>WILMK</td>\n",
       "    </tr>\n",
       "    <tr>\n",
       "      <th>28</th>\n",
       "      <td>10695/24</td>\n",
       "      <td>10695</td>\n",
       "      <td>24</td>\n",
       "      <td>4.50</td>\n",
       "      <td>20</td>\n",
       "      <td>0.00</td>\n",
       "      <td>WILMK</td>\n",
       "    </tr>\n",
       "    <tr>\n",
       "      <th>29</th>\n",
       "      <td>10673/16</td>\n",
       "      <td>10673</td>\n",
       "      <td>16</td>\n",
       "      <td>17.45</td>\n",
       "      <td>3</td>\n",
       "      <td>0.00</td>\n",
       "      <td>WILMK</td>\n",
       "    </tr>\n",
       "    <tr>\n",
       "      <th>...</th>\n",
       "      <td>...</td>\n",
       "      <td>...</td>\n",
       "      <td>...</td>\n",
       "      <td>...</td>\n",
       "      <td>...</td>\n",
       "      <td>...</td>\n",
       "      <td>...</td>\n",
       "    </tr>\n",
       "    <tr>\n",
       "      <th>2125</th>\n",
       "      <td>10573/53</td>\n",
       "      <td>10573</td>\n",
       "      <td>53</td>\n",
       "      <td>32.80</td>\n",
       "      <td>25</td>\n",
       "      <td>0.00</td>\n",
       "      <td>ANTO</td>\n",
       "    </tr>\n",
       "    <tr>\n",
       "      <th>2126</th>\n",
       "      <td>10535/11</td>\n",
       "      <td>10535</td>\n",
       "      <td>11</td>\n",
       "      <td>21.00</td>\n",
       "      <td>50</td>\n",
       "      <td>0.10</td>\n",
       "      <td>ANTO</td>\n",
       "    </tr>\n",
       "    <tr>\n",
       "      <th>2127</th>\n",
       "      <td>10535/40</td>\n",
       "      <td>10535</td>\n",
       "      <td>40</td>\n",
       "      <td>18.40</td>\n",
       "      <td>10</td>\n",
       "      <td>0.10</td>\n",
       "      <td>ANTO</td>\n",
       "    </tr>\n",
       "    <tr>\n",
       "      <th>2128</th>\n",
       "      <td>10535/57</td>\n",
       "      <td>10535</td>\n",
       "      <td>57</td>\n",
       "      <td>19.50</td>\n",
       "      <td>5</td>\n",
       "      <td>0.10</td>\n",
       "      <td>ANTO</td>\n",
       "    </tr>\n",
       "    <tr>\n",
       "      <th>2129</th>\n",
       "      <td>10535/59</td>\n",
       "      <td>10535</td>\n",
       "      <td>59</td>\n",
       "      <td>55.00</td>\n",
       "      <td>15</td>\n",
       "      <td>0.10</td>\n",
       "      <td>ANTO</td>\n",
       "    </tr>\n",
       "    <tr>\n",
       "      <th>2130</th>\n",
       "      <td>10507/43</td>\n",
       "      <td>10507</td>\n",
       "      <td>43</td>\n",
       "      <td>46.00</td>\n",
       "      <td>15</td>\n",
       "      <td>0.15</td>\n",
       "      <td>ANTO</td>\n",
       "    </tr>\n",
       "    <tr>\n",
       "      <th>2131</th>\n",
       "      <td>10507/48</td>\n",
       "      <td>10507</td>\n",
       "      <td>48</td>\n",
       "      <td>12.75</td>\n",
       "      <td>15</td>\n",
       "      <td>0.15</td>\n",
       "      <td>ANTO</td>\n",
       "    </tr>\n",
       "    <tr>\n",
       "      <th>2132</th>\n",
       "      <td>10365/11</td>\n",
       "      <td>10365</td>\n",
       "      <td>11</td>\n",
       "      <td>16.80</td>\n",
       "      <td>24</td>\n",
       "      <td>0.00</td>\n",
       "      <td>ANTO</td>\n",
       "    </tr>\n",
       "    <tr>\n",
       "      <th>2133</th>\n",
       "      <td>10926/11</td>\n",
       "      <td>10926</td>\n",
       "      <td>11</td>\n",
       "      <td>21.00</td>\n",
       "      <td>2</td>\n",
       "      <td>0.00</td>\n",
       "      <td>ANATR</td>\n",
       "    </tr>\n",
       "    <tr>\n",
       "      <th>2134</th>\n",
       "      <td>10926/13</td>\n",
       "      <td>10926</td>\n",
       "      <td>13</td>\n",
       "      <td>6.00</td>\n",
       "      <td>10</td>\n",
       "      <td>0.00</td>\n",
       "      <td>ANATR</td>\n",
       "    </tr>\n",
       "    <tr>\n",
       "      <th>2135</th>\n",
       "      <td>10926/19</td>\n",
       "      <td>10926</td>\n",
       "      <td>19</td>\n",
       "      <td>9.20</td>\n",
       "      <td>7</td>\n",
       "      <td>0.00</td>\n",
       "      <td>ANATR</td>\n",
       "    </tr>\n",
       "    <tr>\n",
       "      <th>2136</th>\n",
       "      <td>10926/72</td>\n",
       "      <td>10926</td>\n",
       "      <td>72</td>\n",
       "      <td>34.80</td>\n",
       "      <td>10</td>\n",
       "      <td>0.00</td>\n",
       "      <td>ANATR</td>\n",
       "    </tr>\n",
       "    <tr>\n",
       "      <th>2137</th>\n",
       "      <td>10759/32</td>\n",
       "      <td>10759</td>\n",
       "      <td>32</td>\n",
       "      <td>32.00</td>\n",
       "      <td>10</td>\n",
       "      <td>0.00</td>\n",
       "      <td>ANATR</td>\n",
       "    </tr>\n",
       "    <tr>\n",
       "      <th>2138</th>\n",
       "      <td>10625/14</td>\n",
       "      <td>10625</td>\n",
       "      <td>14</td>\n",
       "      <td>23.25</td>\n",
       "      <td>3</td>\n",
       "      <td>0.00</td>\n",
       "      <td>ANATR</td>\n",
       "    </tr>\n",
       "    <tr>\n",
       "      <th>2139</th>\n",
       "      <td>10625/42</td>\n",
       "      <td>10625</td>\n",
       "      <td>42</td>\n",
       "      <td>14.00</td>\n",
       "      <td>5</td>\n",
       "      <td>0.00</td>\n",
       "      <td>ANATR</td>\n",
       "    </tr>\n",
       "    <tr>\n",
       "      <th>2140</th>\n",
       "      <td>10625/60</td>\n",
       "      <td>10625</td>\n",
       "      <td>60</td>\n",
       "      <td>34.00</td>\n",
       "      <td>10</td>\n",
       "      <td>0.00</td>\n",
       "      <td>ANATR</td>\n",
       "    </tr>\n",
       "    <tr>\n",
       "      <th>2141</th>\n",
       "      <td>10308/69</td>\n",
       "      <td>10308</td>\n",
       "      <td>69</td>\n",
       "      <td>28.80</td>\n",
       "      <td>1</td>\n",
       "      <td>0.00</td>\n",
       "      <td>ANATR</td>\n",
       "    </tr>\n",
       "    <tr>\n",
       "      <th>2142</th>\n",
       "      <td>10308/70</td>\n",
       "      <td>10308</td>\n",
       "      <td>70</td>\n",
       "      <td>12.00</td>\n",
       "      <td>5</td>\n",
       "      <td>0.00</td>\n",
       "      <td>ANATR</td>\n",
       "    </tr>\n",
       "    <tr>\n",
       "      <th>2143</th>\n",
       "      <td>11011/58</td>\n",
       "      <td>11011</td>\n",
       "      <td>58</td>\n",
       "      <td>13.25</td>\n",
       "      <td>40</td>\n",
       "      <td>0.05</td>\n",
       "      <td>ALFKI</td>\n",
       "    </tr>\n",
       "    <tr>\n",
       "      <th>2144</th>\n",
       "      <td>11011/71</td>\n",
       "      <td>11011</td>\n",
       "      <td>71</td>\n",
       "      <td>21.50</td>\n",
       "      <td>20</td>\n",
       "      <td>0.00</td>\n",
       "      <td>ALFKI</td>\n",
       "    </tr>\n",
       "    <tr>\n",
       "      <th>2145</th>\n",
       "      <td>10952/6</td>\n",
       "      <td>10952</td>\n",
       "      <td>6</td>\n",
       "      <td>25.00</td>\n",
       "      <td>16</td>\n",
       "      <td>0.05</td>\n",
       "      <td>ALFKI</td>\n",
       "    </tr>\n",
       "    <tr>\n",
       "      <th>2146</th>\n",
       "      <td>10952/28</td>\n",
       "      <td>10952</td>\n",
       "      <td>28</td>\n",
       "      <td>45.60</td>\n",
       "      <td>2</td>\n",
       "      <td>0.00</td>\n",
       "      <td>ALFKI</td>\n",
       "    </tr>\n",
       "    <tr>\n",
       "      <th>2147</th>\n",
       "      <td>10835/77</td>\n",
       "      <td>10835</td>\n",
       "      <td>77</td>\n",
       "      <td>13.00</td>\n",
       "      <td>2</td>\n",
       "      <td>0.20</td>\n",
       "      <td>ALFKI</td>\n",
       "    </tr>\n",
       "    <tr>\n",
       "      <th>2148</th>\n",
       "      <td>10835/59</td>\n",
       "      <td>10835</td>\n",
       "      <td>59</td>\n",
       "      <td>55.00</td>\n",
       "      <td>15</td>\n",
       "      <td>0.00</td>\n",
       "      <td>ALFKI</td>\n",
       "    </tr>\n",
       "    <tr>\n",
       "      <th>2149</th>\n",
       "      <td>10702/3</td>\n",
       "      <td>10702</td>\n",
       "      <td>3</td>\n",
       "      <td>10.00</td>\n",
       "      <td>6</td>\n",
       "      <td>0.00</td>\n",
       "      <td>ALFKI</td>\n",
       "    </tr>\n",
       "    <tr>\n",
       "      <th>2150</th>\n",
       "      <td>10702/76</td>\n",
       "      <td>10702</td>\n",
       "      <td>76</td>\n",
       "      <td>18.00</td>\n",
       "      <td>15</td>\n",
       "      <td>0.00</td>\n",
       "      <td>ALFKI</td>\n",
       "    </tr>\n",
       "    <tr>\n",
       "      <th>2151</th>\n",
       "      <td>10692/63</td>\n",
       "      <td>10692</td>\n",
       "      <td>63</td>\n",
       "      <td>43.90</td>\n",
       "      <td>20</td>\n",
       "      <td>0.00</td>\n",
       "      <td>ALFKI</td>\n",
       "    </tr>\n",
       "    <tr>\n",
       "      <th>2152</th>\n",
       "      <td>10643/28</td>\n",
       "      <td>10643</td>\n",
       "      <td>28</td>\n",
       "      <td>45.60</td>\n",
       "      <td>15</td>\n",
       "      <td>0.25</td>\n",
       "      <td>ALFKI</td>\n",
       "    </tr>\n",
       "    <tr>\n",
       "      <th>2153</th>\n",
       "      <td>10643/39</td>\n",
       "      <td>10643</td>\n",
       "      <td>39</td>\n",
       "      <td>18.00</td>\n",
       "      <td>21</td>\n",
       "      <td>0.25</td>\n",
       "      <td>ALFKI</td>\n",
       "    </tr>\n",
       "    <tr>\n",
       "      <th>2154</th>\n",
       "      <td>10643/46</td>\n",
       "      <td>10643</td>\n",
       "      <td>46</td>\n",
       "      <td>12.00</td>\n",
       "      <td>2</td>\n",
       "      <td>0.25</td>\n",
       "      <td>ALFKI</td>\n",
       "    </tr>\n",
       "  </tbody>\n",
       "</table>\n",
       "<p>2155 rows × 7 columns</p>\n",
       "</div>"
      ],
      "text/plain": [
       "            Id  OrderId  ProductId  UnitPrice  Quantity  Discount CustomerId\n",
       "0     11044/62    11044         62      49.30        12      0.00      WOLZA\n",
       "1     10998/24    10998         24       4.50        12      0.00      WOLZA\n",
       "2     10998/61    10998         61      28.50         7      0.00      WOLZA\n",
       "3     10998/74    10998         74      10.00        20      0.00      WOLZA\n",
       "4     10998/75    10998         75       7.75        30      0.00      WOLZA\n",
       "5     10906/61    10906         61      28.50        15      0.00      WOLZA\n",
       "6     10870/35    10870         35      18.00         3      0.00      WOLZA\n",
       "7     10870/51    10870         51      53.00         2      0.00      WOLZA\n",
       "8      10792/2    10792          2      19.00        10      0.00      WOLZA\n",
       "9     10792/54    10792         54       7.45         3      0.00      WOLZA\n",
       "10    10792/68    10792         68      12.50        15      0.00      WOLZA\n",
       "11     10611/1    10611          1      18.00         6      0.00      WOLZA\n",
       "12     10611/2    10611          2      19.00        10      0.00      WOLZA\n",
       "13    10611/60    10611         60      34.00        15      0.00      WOLZA\n",
       "14    10374/31    10374         31      10.00        30      0.00      WOLZA\n",
       "15    10374/58    10374         58      10.60        15      0.00      WOLZA\n",
       "16     11005/1    11005          1      18.00         2      0.00      WILMK\n",
       "17    11005/59    11005         59      55.00        10      0.00      WILMK\n",
       "18    10910/19    10910         19       9.20        12      0.00      WILMK\n",
       "19    10910/49    10910         49      20.00        10      0.00      WILMK\n",
       "20    10910/61    10910         61      28.50         5      0.00      WILMK\n",
       "21    10879/40    10879         40      18.40        12      0.00      WILMK\n",
       "22    10879/65    10879         65      21.05        10      0.00      WILMK\n",
       "23    10879/76    10879         76      18.00        10      0.00      WILMK\n",
       "24    10873/21    10873         21      10.00        20      0.00      WILMK\n",
       "25    10873/28    10873         28      45.60         3      0.00      WILMK\n",
       "26     10695/8    10695          8      40.00        10      0.00      WILMK\n",
       "27    10695/12    10695         12      38.00         4      0.00      WILMK\n",
       "28    10695/24    10695         24       4.50        20      0.00      WILMK\n",
       "29    10673/16    10673         16      17.45         3      0.00      WILMK\n",
       "...        ...      ...        ...        ...       ...       ...        ...\n",
       "2125  10573/53    10573         53      32.80        25      0.00       ANTO\n",
       "2126  10535/11    10535         11      21.00        50      0.10       ANTO\n",
       "2127  10535/40    10535         40      18.40        10      0.10       ANTO\n",
       "2128  10535/57    10535         57      19.50         5      0.10       ANTO\n",
       "2129  10535/59    10535         59      55.00        15      0.10       ANTO\n",
       "2130  10507/43    10507         43      46.00        15      0.15       ANTO\n",
       "2131  10507/48    10507         48      12.75        15      0.15       ANTO\n",
       "2132  10365/11    10365         11      16.80        24      0.00       ANTO\n",
       "2133  10926/11    10926         11      21.00         2      0.00      ANATR\n",
       "2134  10926/13    10926         13       6.00        10      0.00      ANATR\n",
       "2135  10926/19    10926         19       9.20         7      0.00      ANATR\n",
       "2136  10926/72    10926         72      34.80        10      0.00      ANATR\n",
       "2137  10759/32    10759         32      32.00        10      0.00      ANATR\n",
       "2138  10625/14    10625         14      23.25         3      0.00      ANATR\n",
       "2139  10625/42    10625         42      14.00         5      0.00      ANATR\n",
       "2140  10625/60    10625         60      34.00        10      0.00      ANATR\n",
       "2141  10308/69    10308         69      28.80         1      0.00      ANATR\n",
       "2142  10308/70    10308         70      12.00         5      0.00      ANATR\n",
       "2143  11011/58    11011         58      13.25        40      0.05      ALFKI\n",
       "2144  11011/71    11011         71      21.50        20      0.00      ALFKI\n",
       "2145   10952/6    10952          6      25.00        16      0.05      ALFKI\n",
       "2146  10952/28    10952         28      45.60         2      0.00      ALFKI\n",
       "2147  10835/77    10835         77      13.00         2      0.20      ALFKI\n",
       "2148  10835/59    10835         59      55.00        15      0.00      ALFKI\n",
       "2149   10702/3    10702          3      10.00         6      0.00      ALFKI\n",
       "2150  10702/76    10702         76      18.00        15      0.00      ALFKI\n",
       "2151  10692/63    10692         63      43.90        20      0.00      ALFKI\n",
       "2152  10643/28    10643         28      45.60        15      0.25      ALFKI\n",
       "2153  10643/39    10643         39      18.00        21      0.25      ALFKI\n",
       "2154  10643/46    10643         46      12.00         2      0.25      ALFKI\n",
       "\n",
       "[2155 rows x 7 columns]"
      ]
     },
     "execution_count": 66,
     "metadata": {},
     "output_type": "execute_result"
    }
   ],
   "source": [
    "#Look at all orders with and without discounts\n",
    "df"
   ]
  },
  {
   "cell_type": "code",
   "execution_count": 75,
   "metadata": {},
   "outputs": [
    {
     "name": "stdout",
     "output_type": "stream",
     "text": [
      "2019-01-28 14:10:42,126 INFO sqlalchemy.engine.base.Engine SELECT [Order].CustomerId, Count(*) orders\n",
      "                            FROM OrderDetail \n",
      "                            INNER JOIN [Order] on OrderDetail.OrderId = [Order].Id\n",
      "                            GROUP BY [Order].CustomerId\n",
      "                            ORDER BY [Order].CustomerId DESC\n",
      "                        \n"
     ]
    },
    {
     "name": "stderr",
     "output_type": "stream",
     "text": [
      "INFO:sqlalchemy.engine.base.Engine:SELECT [Order].CustomerId, Count(*) orders\n",
      "                            FROM OrderDetail \n",
      "                            INNER JOIN [Order] on OrderDetail.OrderId = [Order].Id\n",
      "                            GROUP BY [Order].CustomerId\n",
      "                            ORDER BY [Order].CustomerId DESC\n",
      "                        \n"
     ]
    },
    {
     "name": "stdout",
     "output_type": "stream",
     "text": [
      "2019-01-28 14:10:42,127 INFO sqlalchemy.engine.base.Engine ()\n"
     ]
    },
    {
     "name": "stderr",
     "output_type": "stream",
     "text": [
      "INFO:sqlalchemy.engine.base.Engine:()\n"
     ]
    }
   ],
   "source": [
    "#Look at number of orders per cust id\n",
    "df = pd.read_sql_query(\"\"\"SELECT [Order].CustomerId, Count(*) orders\n",
    "                            FROM OrderDetail \n",
    "                            INNER JOIN [Order] on OrderDetail.OrderId = [Order].Id\n",
    "                            GROUP BY [Order].CustomerId\n",
    "                            ORDER BY [Order].CustomerId DESC\n",
    "                        \"\"\", engine)"
   ]
  },
  {
   "cell_type": "code",
   "execution_count": 77,
   "metadata": {},
   "outputs": [
    {
     "data": {
      "text/html": [
       "<div>\n",
       "<style scoped>\n",
       "    .dataframe tbody tr th:only-of-type {\n",
       "        vertical-align: middle;\n",
       "    }\n",
       "\n",
       "    .dataframe tbody tr th {\n",
       "        vertical-align: top;\n",
       "    }\n",
       "\n",
       "    .dataframe thead th {\n",
       "        text-align: right;\n",
       "    }\n",
       "</style>\n",
       "<table border=\"1\" class=\"dataframe\">\n",
       "  <thead>\n",
       "    <tr style=\"text-align: right;\">\n",
       "      <th></th>\n",
       "      <th>CustomerId</th>\n",
       "      <th>orders</th>\n",
       "    </tr>\n",
       "  </thead>\n",
       "  <tbody>\n",
       "    <tr>\n",
       "      <th>0</th>\n",
       "      <td>WOLZA</td>\n",
       "      <td>16</td>\n",
       "    </tr>\n",
       "    <tr>\n",
       "      <th>1</th>\n",
       "      <td>WILMK</td>\n",
       "      <td>17</td>\n",
       "    </tr>\n",
       "    <tr>\n",
       "      <th>2</th>\n",
       "      <td>WHITC</td>\n",
       "      <td>40</td>\n",
       "    </tr>\n",
       "    <tr>\n",
       "      <th>3</th>\n",
       "      <td>WELLI</td>\n",
       "      <td>19</td>\n",
       "    </tr>\n",
       "    <tr>\n",
       "      <th>4</th>\n",
       "      <td>WARTH</td>\n",
       "      <td>37</td>\n",
       "    </tr>\n",
       "  </tbody>\n",
       "</table>\n",
       "</div>"
      ],
      "text/plain": [
       "  CustomerId  orders\n",
       "0      WOLZA      16\n",
       "1      WILMK      17\n",
       "2      WHITC      40\n",
       "3      WELLI      19\n",
       "4      WARTH      37"
      ]
     },
     "execution_count": 77,
     "metadata": {},
     "output_type": "execute_result"
    }
   ],
   "source": [
    "#Look at number of orders per cust id\n",
    "df.head()"
   ]
  },
  {
   "cell_type": "code",
   "execution_count": 45,
   "metadata": {},
   "outputs": [
    {
     "name": "stdout",
     "output_type": "stream",
     "text": [
      "2019-01-28 11:21:40,070 INFO sqlalchemy.engine.base.Engine SELECT OrderDetail.*\n",
      "                            FROM OrderDetail \n",
      "                        \n"
     ]
    },
    {
     "name": "stderr",
     "output_type": "stream",
     "text": [
      "INFO:sqlalchemy.engine.base.Engine:SELECT OrderDetail.*\n",
      "                            FROM OrderDetail \n",
      "                        \n"
     ]
    },
    {
     "name": "stdout",
     "output_type": "stream",
     "text": [
      "2019-01-28 11:21:40,073 INFO sqlalchemy.engine.base.Engine ()\n"
     ]
    },
    {
     "name": "stderr",
     "output_type": "stream",
     "text": [
      "INFO:sqlalchemy.engine.base.Engine:()\n"
     ]
    },
    {
     "data": {
      "text/plain": [
       "0.00    1317\n",
       "0.05     185\n",
       "0.10     173\n",
       "0.20     161\n",
       "0.15     157\n",
       "0.25     154\n",
       "0.03       3\n",
       "0.02       2\n",
       "0.01       1\n",
       "0.04       1\n",
       "0.06       1\n",
       "Name: Discount, dtype: int64"
      ]
     },
     "execution_count": 45,
     "metadata": {},
     "output_type": "execute_result"
    }
   ],
   "source": [
    "#Look at the levels of discount\n",
    "\n",
    "df = pd.read_sql_query(\"\"\"SELECT OrderDetail.*\n",
    "                            FROM OrderDetail \n",
    "                        \"\"\", engine)\n",
    "df['Discount'].value_counts()"
   ]
  },
  {
   "cell_type": "code",
   "execution_count": 78,
   "metadata": {},
   "outputs": [
    {
     "name": "stdout",
     "output_type": "stream",
     "text": [
      "2019-01-28 14:21:37,040 INFO sqlalchemy.engine.base.Engine SELECT Customer.Id, Customer.CompanyName\n",
      "                            FROM Customer\n",
      "                            ORDER BY Customer.CompanyName\n",
      "                        \n"
     ]
    },
    {
     "name": "stderr",
     "output_type": "stream",
     "text": [
      "INFO:sqlalchemy.engine.base.Engine:SELECT Customer.Id, Customer.CompanyName\n",
      "                            FROM Customer\n",
      "                            ORDER BY Customer.CompanyName\n",
      "                        \n"
     ]
    },
    {
     "name": "stdout",
     "output_type": "stream",
     "text": [
      "2019-01-28 14:21:37,042 INFO sqlalchemy.engine.base.Engine ()\n"
     ]
    },
    {
     "name": "stderr",
     "output_type": "stream",
     "text": [
      "INFO:sqlalchemy.engine.base.Engine:()\n"
     ]
    }
   ],
   "source": [
    "#Look at how many customers each company has\n",
    "df = pd.read_sql_query(\"\"\"SELECT Customer.Id, Customer.CompanyName\n",
    "                            FROM Customer\n",
    "                            ORDER BY Customer.CompanyName\n",
    "                        \"\"\", engine)"
   ]
  },
  {
   "cell_type": "code",
   "execution_count": 83,
   "metadata": {},
   "outputs": [
    {
     "data": {
      "text/plain": [
       "0"
      ]
     },
     "execution_count": 83,
     "metadata": {},
     "output_type": "execute_result"
    }
   ],
   "source": [
    "#Every company has only one customer. Orders can therefore be counted by customer or by company.\n",
    "sum(df['CompanyName'].value_counts() > 1)"
   ]
  },
  {
   "cell_type": "code",
   "execution_count": 4,
   "metadata": {},
   "outputs": [
    {
     "name": "stdout",
     "output_type": "stream",
     "text": [
      "2019-01-28 10:39:55,275 INFO sqlalchemy.engine.base.Engine SELECT o.ID, c.CompanyName, Count(*) num_orders FROM [Order] o INNER JOIN Customer c on o.CustomerID = c.ID GROUP BY c.CompanyName ORDER BY num_orders DESC\n",
      "2019-01-28 10:39:55,276 INFO sqlalchemy.engine.base.Engine ()\n"
     ]
    },
    {
     "data": {
      "text/html": [
       "<div>\n",
       "<style scoped>\n",
       "    .dataframe tbody tr th:only-of-type {\n",
       "        vertical-align: middle;\n",
       "    }\n",
       "\n",
       "    .dataframe tbody tr th {\n",
       "        vertical-align: top;\n",
       "    }\n",
       "\n",
       "    .dataframe thead th {\n",
       "        text-align: right;\n",
       "    }\n",
       "</style>\n",
       "<table border=\"1\" class=\"dataframe\">\n",
       "  <thead>\n",
       "    <tr style=\"text-align: right;\">\n",
       "      <th></th>\n",
       "      <th>Id</th>\n",
       "      <th>CompanyName</th>\n",
       "      <th>num_orders</th>\n",
       "    </tr>\n",
       "  </thead>\n",
       "  <tbody>\n",
       "    <tr>\n",
       "      <th>0</th>\n",
       "      <td>11064</td>\n",
       "      <td>Save-a-lot Markets</td>\n",
       "      <td>31</td>\n",
       "    </tr>\n",
       "    <tr>\n",
       "      <th>1</th>\n",
       "      <td>11072</td>\n",
       "      <td>Ernst Handel</td>\n",
       "      <td>30</td>\n",
       "    </tr>\n",
       "    <tr>\n",
       "      <th>2</th>\n",
       "      <td>11021</td>\n",
       "      <td>QUICK-Stop</td>\n",
       "      <td>28</td>\n",
       "    </tr>\n",
       "    <tr>\n",
       "      <th>3</th>\n",
       "      <td>11050</td>\n",
       "      <td>Folk och fä HB</td>\n",
       "      <td>19</td>\n",
       "    </tr>\n",
       "    <tr>\n",
       "      <th>4</th>\n",
       "      <td>11063</td>\n",
       "      <td>Hungry Owl All-Night Grocers</td>\n",
       "      <td>19</td>\n",
       "    </tr>\n",
       "  </tbody>\n",
       "</table>\n",
       "</div>"
      ],
      "text/plain": [
       "      Id                   CompanyName  num_orders\n",
       "0  11064            Save-a-lot Markets          31\n",
       "1  11072                  Ernst Handel          30\n",
       "2  11021                    QUICK-Stop          28\n",
       "3  11050                Folk och fä HB          19\n",
       "4  11063  Hungry Owl All-Night Grocers          19"
      ]
     },
     "execution_count": 4,
     "metadata": {},
     "output_type": "execute_result"
    }
   ],
   "source": [
    "# JUST AN EXAMPLE\n",
    "\"\"\"SELECT o.ID, c.CompanyName, Count(*) num_orders \n",
    "    FROM [Order] o\n",
    "    INNER JOIN Customer c on o.CustomerID = c.ID \n",
    "    GROUP BY c.CompanyName \n",
    "    ORDER BY num_orders DESC\"\"\"\n",
    "\n",
    "df = pd.read_sql_query(\"\"\"SELECT o.ID, c.CompanyName, Count(*) num_orders FROM [Order] \\\n",
    "o INNER JOIN Customer c on o.CustomerID = c.ID GROUP BY c.CompanyName ORDER BY num_orders DESC\"\"\", engine)\n",
    "df.head()"
   ]
  },
  {
   "cell_type": "code",
   "execution_count": 70,
   "metadata": {},
   "outputs": [],
   "source": [
    "#Instantiate metadata to reflect the engine\n",
    "#metadata = MetaData()\n",
    "#metadata.reflect(engine)"
   ]
  },
  {
   "cell_type": "code",
   "execution_count": 4,
   "metadata": {},
   "outputs": [],
   "source": [
    "#Create mappings to treat the database elements as OOP objects\n",
    "Base = automap_base(metadata=metadata)\n",
    "Base.prepare()"
   ]
  },
  {
   "cell_type": "code",
   "execution_count": null,
   "metadata": {},
   "outputs": [],
   "source": [
    "#['Category', 'Customer', 'CustomerCustomerDemo', 'CustomerDemographic', \n",
    "#'Employee', 'EmployeeTerritory', 'Order', 'OrderDetail', 'Product', 'Region', 'Shipper', 'Supplier', 'Territory']"
   ]
  },
  {
   "cell_type": "code",
   "execution_count": 5,
   "metadata": {
    "scrolled": true
   },
   "outputs": [],
   "source": [
    "#Create an object for each table\n",
    "Category = Base.classes.Category\n",
    "Customer = Base.classes.Customer\n",
    "CustomerCustomerDemo = Base.classes.CustomerCustomerDemo\n",
    "CustomerDemographic = Base.classes.CustomerDemographic\n",
    "Employee = Base.classes.Employee\n",
    "EmployeeTerritory = Base.classes.EmployeeTerritory\n",
    "Order = Base.classes.Order\n",
    "OrderDetail = Base.classes.OrderDetail\n",
    "Product = Base.classes.Product\n",
    "Region = Base.classes.Region\n",
    "Shipper = Base.classes.Shipper\n",
    "Supplier = Base.classes.Supplier\n",
    "Territory = Base.classes.Territory"
   ]
  },
  {
   "cell_type": "code",
   "execution_count": 6,
   "metadata": {},
   "outputs": [
    {
     "name": "stdout",
     "output_type": "stream",
     "text": [
      "2019-01-27 15:22:07,052 INFO sqlalchemy.engine.base.Engine BEGIN (implicit)\n",
      "2019-01-27 15:22:07,053 INFO sqlalchemy.engine.base.Engine SELECT \"Category\".\"Id\" AS \"Category_Id\", \"Category\".\"CategoryName\" AS \"Category_CategoryName\", \"Category\".\"Description\" AS \"Category_Description\" \n",
      "FROM \"Category\"\n",
      "2019-01-27 15:22:07,054 INFO sqlalchemy.engine.base.Engine ()\n",
      "Beverages Soft drinks, coffees, teas, beers, and ales\n",
      "Condiments Sweet and savory sauces, relishes, spreads, and seasonings\n",
      "Confections Desserts, candies, and sweet breads\n",
      "Dairy Products Cheeses\n",
      "Grains/Cereals Breads, crackers, pasta, and cereal\n",
      "Meat/Poultry Prepared meats\n",
      "Produce Dried fruit and bean curd\n",
      "Seafood Seaweed and fish\n"
     ]
    }
   ],
   "source": [
    "categories = session.query(Category).all()\n",
    "\n",
    "for cat in categories:\n",
    "    print(cat.CategoryName, cat.Description)"
   ]
  },
  {
   "cell_type": "code",
   "execution_count": 7,
   "metadata": {},
   "outputs": [],
   "source": [
    "categories_df = pd.DataFrame(categories)"
   ]
  },
  {
   "cell_type": "code",
   "execution_count": null,
   "metadata": {},
   "outputs": [],
   "source": []
  },
  {
   "cell_type": "code",
   "execution_count": null,
   "metadata": {},
   "outputs": [],
   "source": []
  },
  {
   "cell_type": "code",
   "execution_count": 9,
   "metadata": {
    "scrolled": true
   },
   "outputs": [
    {
     "name": "stdout",
     "output_type": "stream",
     "text": [
      "2019-01-27 20:15:03,448 INFO sqlalchemy.engine.base.Engine SELECT \"Category\".\"Id\" AS \"Category_Id\", \"Category\".\"CategoryName\" AS \"Category_CategoryName\", \"Category\".\"Description\" AS \"Category_Description\" \n",
      "FROM \"Category\"\n",
      "2019-01-27 20:15:03,451 INFO sqlalchemy.engine.base.Engine ()\n",
      "Soft drinks, coffees, teas, beers, and ales\n",
      "Sweet and savory sauces, relishes, spreads, and seasonings\n",
      "Desserts, candies, and sweet breads\n",
      "Cheeses\n",
      "Breads, crackers, pasta, and cereal\n",
      "Prepared meats\n",
      "Dried fruit and bean curd\n",
      "Seaweed and fish\n"
     ]
    }
   ],
   "source": [
    "for instance in session.query(Category):\n",
    "    print(instance.Description)"
   ]
  },
  {
   "cell_type": "code",
   "execution_count": 10,
   "metadata": {},
   "outputs": [
    {
     "name": "stdout",
     "output_type": "stream",
     "text": [
      "2019-01-27 20:15:19,574 INFO sqlalchemy.engine.base.Engine SELECT \"Customer\".\"Id\" AS \"Customer_Id\", \"Customer\".\"CompanyName\" AS \"Customer_CompanyName\", \"Customer\".\"ContactName\" AS \"Customer_ContactName\", \"Customer\".\"ContactTitle\" AS \"Customer_ContactTitle\", \"Customer\".\"Address\" AS \"Customer_Address\", \"Customer\".\"City\" AS \"Customer_City\", \"Customer\".\"Region\" AS \"Customer_Region\", \"Customer\".\"PostalCode\" AS \"Customer_PostalCode\", \"Customer\".\"Country\" AS \"Customer_Country\", \"Customer\".\"Phone\" AS \"Customer_Phone\", \"Customer\".\"Fax\" AS \"Customer_Fax\" \n",
      "FROM \"Customer\"\n",
      "2019-01-27 20:15:19,575 INFO sqlalchemy.engine.base.Engine ()\n"
     ]
    }
   ],
   "source": [
    "countries = []\n",
    "for instance in session.query(Customer):\n",
    "    countries.append(instance.Country)"
   ]
  },
  {
   "cell_type": "code",
   "execution_count": 11,
   "metadata": {},
   "outputs": [
    {
     "data": {
      "text/plain": [
       "USA            13\n",
       "France         11\n",
       "Germany        11\n",
       "Brazil          9\n",
       "UK              7\n",
       "Spain           5\n",
       "Mexico          5\n",
       "Venezuela       4\n",
       "Argentina       3\n",
       "Italy           3\n",
       "Canada          3\n",
       "Switzerland     2\n",
       "Denmark         2\n",
       "Austria         2\n",
       "Sweden          2\n",
       "Belgium         2\n",
       "Portugal        2\n",
       "Finland         2\n",
       "Norway          1\n",
       "Ireland         1\n",
       "Poland          1\n",
       "Name: 0, dtype: int64"
      ]
     },
     "execution_count": 11,
     "metadata": {},
     "output_type": "execute_result"
    }
   ],
   "source": [
    "countries_df = pd.DataFrame(countries)\n",
    "countries_df[0].value_counts()"
   ]
  },
  {
   "cell_type": "code",
   "execution_count": 12,
   "metadata": {},
   "outputs": [
    {
     "name": "stdout",
     "output_type": "stream",
     "text": [
      "2019-01-27 20:15:27,313 INFO sqlalchemy.engine.base.Engine SELECT \"Customer\".\"Id\" AS \"Customer_Id\", \"Customer\".\"CompanyName\" AS \"Customer_CompanyName\", \"Customer\".\"ContactName\" AS \"Customer_ContactName\", \"Customer\".\"ContactTitle\" AS \"Customer_ContactTitle\", \"Customer\".\"Address\" AS \"Customer_Address\", \"Customer\".\"City\" AS \"Customer_City\", \"Customer\".\"Region\" AS \"Customer_Region\", \"Customer\".\"PostalCode\" AS \"Customer_PostalCode\", \"Customer\".\"Country\" AS \"Customer_Country\", \"Customer\".\"Phone\" AS \"Customer_Phone\", \"Customer\".\"Fax\" AS \"Customer_Fax\" \n",
      "FROM \"Customer\"\n",
      "2019-01-27 20:15:27,314 INFO sqlalchemy.engine.base.Engine ()\n"
     ]
    },
    {
     "data": {
      "text/plain": [
       "Western Europe     28\n",
       "North America      16\n",
       "South America      16\n",
       "Southern Europe    10\n",
       "British Isles       8\n",
       "Central America     5\n",
       "Northern Europe     4\n",
       "Scandinavia         3\n",
       "Eastern Europe      1\n",
       "Name: 0, dtype: int64"
      ]
     },
     "execution_count": 12,
     "metadata": {},
     "output_type": "execute_result"
    }
   ],
   "source": [
    "regions = []\n",
    "for instance in session.query(Customer):\n",
    "    regions.append(instance.Region)\n",
    "\n",
    "regions_df = pd.DataFrame(regions)\n",
    "regions_df[0].value_counts()"
   ]
  },
  {
   "cell_type": "code",
   "execution_count": null,
   "metadata": {},
   "outputs": [],
   "source": [
    "names = []\n",
    "for instance in session.query(Customer):\n",
    "    names.append(instance.ContactName)\n",
    "    \n",
    "names_df = pd.DataFrame(names)\n",
    "names_df[0].value_counts()"
   ]
  },
  {
   "cell_type": "code",
   "execution_count": null,
   "metadata": {},
   "outputs": [],
   "source": [
    "len(set(names))"
   ]
  },
  {
   "cell_type": "code",
   "execution_count": null,
   "metadata": {},
   "outputs": [],
   "source": []
  },
  {
   "cell_type": "code",
   "execution_count": 69,
   "metadata": {},
   "outputs": [],
   "source": [
    "#print(session.query(Customer, Order).filter(Customer.Id==Order.CustomerId).all())"
   ]
  },
  {
   "cell_type": "code",
   "execution_count": null,
   "metadata": {},
   "outputs": [],
   "source": [
    "session.query(Customer).column_descriptions"
   ]
  },
  {
   "cell_type": "code",
   "execution_count": 18,
   "metadata": {},
   "outputs": [
    {
     "name": "stdout",
     "output_type": "stream",
     "text": [
      "2019-01-26 15:57:22,647 INFO sqlalchemy.engine.base.Engine SELECT *\n",
      "                            FROM Customer\n",
      "                        ;\n",
      "2019-01-26 15:57:22,650 INFO sqlalchemy.engine.base.Engine ()\n"
     ]
    }
   ],
   "source": [
    "result = session.execute('''SELECT *\n",
    "                            FROM Customer\n",
    "                        ;''')"
   ]
  },
  {
   "cell_type": "code",
   "execution_count": 19,
   "metadata": {},
   "outputs": [],
   "source": [
    "customer_df = pd.DataFrame(result.fetchall())"
   ]
  },
  {
   "cell_type": "code",
   "execution_count": 21,
   "metadata": {},
   "outputs": [
    {
     "data": {
      "text/plain": [
       "(91, 11)"
      ]
     },
     "execution_count": 21,
     "metadata": {},
     "output_type": "execute_result"
    }
   ],
   "source": [
    "customer_df.shape"
   ]
  },
  {
   "cell_type": "code",
   "execution_count": null,
   "metadata": {},
   "outputs": [],
   "source": []
  },
  {
   "cell_type": "code",
   "execution_count": null,
   "metadata": {},
   "outputs": [],
   "source": []
  },
  {
   "cell_type": "code",
   "execution_count": null,
   "metadata": {},
   "outputs": [],
   "source": []
  },
  {
   "cell_type": "code",
   "execution_count": null,
   "metadata": {},
   "outputs": [],
   "source": []
  },
  {
   "cell_type": "code",
   "execution_count": null,
   "metadata": {},
   "outputs": [],
   "source": []
  },
  {
   "cell_type": "markdown",
   "metadata": {},
   "source": [
    "## Hypothesis 1\n",
    "Do discounts have a statistically significant effect on the number of products customers order? If so, at what level(s) of discount?"
   ]
  },
  {
   "cell_type": "markdown",
   "metadata": {},
   "source": [
    "product (quantity) ordered by customers, no discount\n",
    "\n",
    "product (quantity) order by customers, wiht discount\n",
    "\n",
    "H0: Discount does not have an effect on the number of products ordered by a customer. Control = Treatment\n",
    "\n",
    "H1: Discount has an effect on the number of products ordered by a customer. Control < or > Treament"
   ]
  },
  {
   "cell_type": "code",
   "execution_count": null,
   "metadata": {},
   "outputs": [],
   "source": []
  },
  {
   "cell_type": "code",
   "execution_count": null,
   "metadata": {},
   "outputs": [],
   "source": []
  },
  {
   "cell_type": "code",
   "execution_count": null,
   "metadata": {},
   "outputs": [],
   "source": []
  }
 ],
 "metadata": {
  "kernelspec": {
   "display_name": "learn-env",
   "language": "python",
   "name": "learn-env"
  },
  "language_info": {
   "codemirror_mode": {
    "name": "ipython",
    "version": 3
   },
   "file_extension": ".py",
   "mimetype": "text/x-python",
   "name": "python",
   "nbconvert_exporter": "python",
   "pygments_lexer": "ipython3",
   "version": "3.6.6"
  }
 },
 "nbformat": 4,
 "nbformat_minor": 2
}
