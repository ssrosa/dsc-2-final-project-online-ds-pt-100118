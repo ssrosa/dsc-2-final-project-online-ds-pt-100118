{
 "cells": [
  {
   "cell_type": "markdown",
   "metadata": {},
   "source": [
    "# Final Project Submission\n",
    "\n",
    "- Student name: Steven Rosa\n",
    "- Student pace: part time\n",
    "- Scheduled project review date/time: Mon 4 Feb 2019 2pm EST\n",
    "- Instructor name: Jeff Herman\n",
    "- Blog post URL: [\"Real Insights for a Fake Food Distributor\"](http://medium.com/@ssrosa)"
   ]
  },
  {
   "cell_type": "markdown",
   "metadata": {},
   "source": [
    "   "
   ]
  },
  {
   "cell_type": "markdown",
   "metadata": {},
   "source": [
    "# Northwind Data Analysis\n",
    "\n",
    "## The assignment\n",
    "\n",
    "Conduct 4 hypothesis tests on data extracted from the Northwind database. "
   ]
  },
  {
   "cell_type": "markdown",
   "metadata": {},
   "source": [
    "<a id=\"top\"></a>"
   ]
  },
  {
   "cell_type": "markdown",
   "metadata": {},
   "source": [
    "# Contents\n",
    "### - [Import libraries](#importlibraries)\n",
    "### - [Helper functions](#functions)\n",
    "### - [Exploratory data analysis](#eda)\n",
    "### - [Hypothesis test 1](#hypo1): Discounts and orders\n",
    "### - [Hypothesis test 2](#hypo2): Sales by London office versus PNW offices\n",
    "### - [Hypothesis test 3](#hypo3): Sales in 2013 v. 2014\n",
    "### - [Hypothesis test 4](#hypo4): Orders and beverages\n",
    "### - [Conclusions](#conclusions)\n",
    "### - [Future work](#futurework)"
   ]
  },
  {
   "cell_type": "markdown",
   "metadata": {},
   "source": [
    "<a id=\"importlibraries\"></a>"
   ]
  },
  {
   "cell_type": "markdown",
   "metadata": {},
   "source": [
    "# Import libraries"
   ]
  },
  {
   "cell_type": "code",
   "execution_count": 15,
   "metadata": {},
   "outputs": [],
   "source": [
    "#For the ORM:\n",
    "import sqlalchemy \n",
    "from sqlalchemy import create_engine #To connect to the database\n",
    "from sqlalchemy.orm import Session, sessionmaker #To interact with the database as object\n",
    "from sqlalchemy import inspect #To look at tables and column names\n",
    "\n",
    "#For building DataFrames from SQL queries:\n",
    "import pandas as pd #To read in parts of the database as DataFrames\n",
    "\n",
    "#For calculations:\n",
    "import numpy as np #To perform mathematical operations and manipulate arrays\n",
    "\n",
    "#For hypothesis testing:\n",
    "from scipy import stats #To find t and p values with ttest_ind\n",
    "from sklearn.utils import resample #To pull samples from a small distribution (bootstrapping)\n",
    "\n",
    "#For visualizations:\n",
    "import matplotlib.pyplot as plt #For creating visualizations\n",
    "%matplotlib inline\n",
    "import seaborn as sns #For plotting histograms with kdes"
   ]
  },
  {
   "cell_type": "markdown",
   "metadata": {},
   "source": [
    "<a id=\"functions\"></a>"
   ]
  },
  {
   "cell_type": "markdown",
   "metadata": {},
   "source": [
    "[(Back to top)](#top)\n",
    "# Helper functions"
   ]
  },
  {
   "cell_type": "code",
   "execution_count": 3,
   "metadata": {},
   "outputs": [],
   "source": [
    "#Instantiate a session of the ORM\n",
    "#Connect to the sqlite database file\n",
    "engine = create_engine('sqlite:///Northwind_small.sqlite', echo = True)\n",
    "#Bind a session factory to the engine\n",
    "Session = sessionmaker(bind=engine)\n",
    "#Instantiate a session\n",
    "session = Session()"
   ]
  },
  {
   "cell_type": "code",
   "execution_count": 4,
   "metadata": {},
   "outputs": [
    {
     "name": "stdout",
     "output_type": "stream",
     "text": [
      "2019-02-03 08:56:31,293 INFO sqlalchemy.engine.base.Engine SELECT CAST('test plain returns' AS VARCHAR(60)) AS anon_1\n",
      "2019-02-03 08:56:31,297 INFO sqlalchemy.engine.base.Engine ()\n",
      "2019-02-03 08:56:31,298 INFO sqlalchemy.engine.base.Engine SELECT CAST('test unicode returns' AS VARCHAR(60)) AS anon_1\n",
      "2019-02-03 08:56:31,299 INFO sqlalchemy.engine.base.Engine ()\n"
     ]
    }
   ],
   "source": [
    "#An object to get a first look at the database\n",
    "inspector = inspect(engine)"
   ]
  },
  {
   "cell_type": "code",
   "execution_count": 5,
   "metadata": {
    "scrolled": false
   },
   "outputs": [
    {
     "name": "stdout",
     "output_type": "stream",
     "text": [
      "2019-02-03 08:56:32,308 INFO sqlalchemy.engine.base.Engine SELECT name FROM sqlite_master WHERE type='table' ORDER BY name\n",
      "2019-02-03 08:56:32,309 INFO sqlalchemy.engine.base.Engine ()\n",
      "2019-02-03 08:56:32,311 INFO sqlalchemy.engine.base.Engine PRAGMA table_info(\"Category\")\n",
      "2019-02-03 08:56:32,312 INFO sqlalchemy.engine.base.Engine ()\n",
      "2019-02-03 08:56:32,314 INFO sqlalchemy.engine.base.Engine PRAGMA table_info(\"Customer\")\n",
      "2019-02-03 08:56:32,315 INFO sqlalchemy.engine.base.Engine ()\n",
      "2019-02-03 08:56:32,317 INFO sqlalchemy.engine.base.Engine PRAGMA table_info(\"CustomerCustomerDemo\")\n",
      "2019-02-03 08:56:32,318 INFO sqlalchemy.engine.base.Engine ()\n",
      "2019-02-03 08:56:32,320 INFO sqlalchemy.engine.base.Engine PRAGMA table_info(\"CustomerDemographic\")\n",
      "2019-02-03 08:56:32,320 INFO sqlalchemy.engine.base.Engine ()\n",
      "2019-02-03 08:56:32,322 INFO sqlalchemy.engine.base.Engine PRAGMA table_info(\"Employee\")\n",
      "2019-02-03 08:56:32,323 INFO sqlalchemy.engine.base.Engine ()\n",
      "2019-02-03 08:56:32,325 INFO sqlalchemy.engine.base.Engine PRAGMA table_info(\"EmployeeTerritory\")\n",
      "2019-02-03 08:56:32,326 INFO sqlalchemy.engine.base.Engine ()\n",
      "2019-02-03 08:56:32,328 INFO sqlalchemy.engine.base.Engine PRAGMA table_info(\"Order\")\n",
      "2019-02-03 08:56:32,328 INFO sqlalchemy.engine.base.Engine ()\n",
      "2019-02-03 08:56:32,331 INFO sqlalchemy.engine.base.Engine PRAGMA table_info(\"OrderDetail\")\n",
      "2019-02-03 08:56:32,332 INFO sqlalchemy.engine.base.Engine ()\n",
      "2019-02-03 08:56:32,337 INFO sqlalchemy.engine.base.Engine PRAGMA table_info(\"Product\")\n",
      "2019-02-03 08:56:32,339 INFO sqlalchemy.engine.base.Engine ()\n",
      "2019-02-03 08:56:32,341 INFO sqlalchemy.engine.base.Engine PRAGMA table_info(\"Region\")\n",
      "2019-02-03 08:56:32,342 INFO sqlalchemy.engine.base.Engine ()\n",
      "2019-02-03 08:56:32,344 INFO sqlalchemy.engine.base.Engine PRAGMA table_info(\"Shipper\")\n",
      "2019-02-03 08:56:32,345 INFO sqlalchemy.engine.base.Engine ()\n",
      "2019-02-03 08:56:32,347 INFO sqlalchemy.engine.base.Engine PRAGMA table_info(\"Supplier\")\n",
      "2019-02-03 08:56:32,349 INFO sqlalchemy.engine.base.Engine ()\n",
      "2019-02-03 08:56:32,352 INFO sqlalchemy.engine.base.Engine PRAGMA table_info(\"Territory\")\n",
      "2019-02-03 08:56:32,352 INFO sqlalchemy.engine.base.Engine ()\n"
     ]
    }
   ],
   "source": [
    "#Make a dict of list of names of all the columns in all the tables\n",
    "#for easy reference\n",
    "\n",
    "#Get list of all table names\n",
    "table_names = inspector.get_table_names()\n",
    "\n",
    "tables_columns = dict()\n",
    "#For each table name\n",
    "for table in table_names:\n",
    "    column_names = []\n",
    "    #for each column in the table, get just the name\n",
    "    for column in inspector.get_columns(table):\n",
    "        column_names.append(column['name'])\n",
    "    tables_columns[table] = column_names"
   ]
  },
  {
   "cell_type": "code",
   "execution_count": 11,
   "metadata": {
    "scrolled": true
   },
   "outputs": [
    {
     "name": "stdout",
     "output_type": "stream",
     "text": [
      "2019-02-03 09:02:50,684 INFO sqlalchemy.engine.base.Engine SELECT od.OrderId,\n",
      "                            SUM((od.UnitPrice * (1 - od.Discount)) * od.Quantity) Invoice_total\n",
      "                            FROM OrderDetail od\n",
      "                            JOIN [Order] o ON od.OrderId = o.Id\n",
      "                            JOIN Employee e ON o.EmployeeId = e.Id\n",
      "                            GROUP BY od.OrderId\n",
      "                            ORDER BY e.LastName\n",
      "                    \n",
      "2019-02-03 09:02:50,685 INFO sqlalchemy.engine.base.Engine ()\n"
     ]
    }
   ],
   "source": [
    "#Generic Query to show totals from invoices.\n",
    "#Listed by the last name of the sales rep who fulfilled the order.\n",
    "#Use to build specific queries about sales and revenue.\n",
    "invoices = pd.read_sql_query('''SELECT od.OrderId,\n",
    "                            SUM((od.UnitPrice * (1 - od.Discount)) * od.Quantity) Invoice_total\n",
    "                            FROM OrderDetail od\n",
    "                            JOIN [Order] o ON od.OrderId = o.Id\n",
    "                            JOIN Employee e ON o.EmployeeId = e.Id\n",
    "                            GROUP BY od.OrderId\n",
    "                            ORDER BY e.LastName\n",
    "                    ''', engine)"
   ]
  },
  {
   "cell_type": "code",
   "execution_count": 116,
   "metadata": {},
   "outputs": [],
   "source": [
    "#Run a hypothesis using \"bootstrapping\" to resample data\n",
    "#of a small sample size and irregular distribution\n",
    "#via https://codingdisciple.com/bootstrap-hypothesis-testing.html\n",
    "def bootstrap(alpha, control, treatment, title, permus = 10000):\n",
    "    permus = 10000 #number of samples to take\n",
    "\n",
    "    #Step 1: combine the control and treatment groups\n",
    "    combo = np.concatenate((control, treatment), axis = 0) #both dists combined for taking samples\n",
    "\n",
    "    permus_control = []\n",
    "    permus_treatment = []\n",
    "\n",
    "    #Step 2: generate many new control and treatment groups by\n",
    "    #resampling with replacement from the combo group\n",
    "    for i in range(permus): #Generate this many permutations\n",
    "        np.random.seed(i) #seed for consistency\n",
    "        permus_control.append(resample(combo, n_samples = len(control)))\n",
    "        permus_treatment.append(resample(combo, n_samples = len(treatment)))\n",
    "    \n",
    "    #Step 3: Take the difference in means between the two sets of permutations\n",
    "    diff_boot_means = (np.mean(permus_control, axis = 1) - np.mean(permus_treatment, axis = 1))\n",
    "\n",
    "    #Step 4: Calculate the observed difference in mean, meaning the difference\n",
    "    #between the two actual means of the distributions\n",
    "    observed_diff = (np.mean(control) - np.mean(treatment))\n",
    "\n",
    "    #Step 5: Find the p value by counting how many differences in mean were  \n",
    "    #greater than or equal to the observed difference in means.\n",
    "    means_below_observed = diff_boot_means[diff_boot_means >= observed_diff].shape[0]\n",
    "    p = means_below_observed / permus\n",
    "    \n",
    "    #Step 6: Visualize the distribution\n",
    "\n",
    "    #Get the difference between control and treatment to \n",
    "    #find the confidence interval\n",
    "    lower_bound = np.percentile(diff_boot_means, 2.5)\n",
    "    upper_bound = np.percentile(diff_boot_means, 97.5)\n",
    "\n",
    "    #Plot the differences in means between the 2 bootstrapped groups with the p value\n",
    "    fig = plt.figure(figsize = (10,5))\n",
    "    ax = plt.hist(diff_boot_means, bins = 30)\n",
    "    plt.axvline(observed_diff, color = 'red', label = 'p')\n",
    "    plt.axvline(lower_bound, color = 'lightgreen', label = 'lower bound')\n",
    "    plt.axvline(upper_bound, color = 'darkgreen', label = 'upper bound')\n",
    "    plt.xlabel('Difference in means')\n",
    "    plt.ylabel('Frequency')\n",
    "    plt.legend()\n",
    "    plot_title = 'Bootstrapped population: ' + title\n",
    "    plt.title(plot_title)\n",
    "    plt.show()\n",
    "    \n",
    "    #Step 7: Print a summary\n",
    "    print('Observed difference between the means:', observed_diff)\n",
    "    print('The p value is', p, '.')\n",
    "    print('Alpha was', alpha, '.')\n",
    "    print('Cohen\\'s D is', round(cohend(control, treatment), 2))"
   ]
  },
  {
   "cell_type": "code",
   "execution_count": 97,
   "metadata": {},
   "outputs": [],
   "source": [
    "#A way of measuring \"effect\" relative to the parameters of the\n",
    "#control and treatment groups.\n",
    "# 0.2 may be considered a \"small\" effect; 0.5 \"medium\"; 0.8 \"large\"\n",
    "def cohend(control, treatment):\n",
    "    numer = control.mean() - treatment.mean()\n",
    "    var = ((len(control) * control.var()) + (len(treatment) * treatment.var())) / len(control) + len(treatment)\n",
    "    denom = np.sqrt(var)\n",
    "    return numer / denom"
   ]
  },
  {
   "cell_type": "markdown",
   "metadata": {},
   "source": [
    "<a id=\"eda\"></a>"
   ]
  },
  {
   "cell_type": "markdown",
   "metadata": {},
   "source": [
    "[(Back to top)](#top)\n",
    "\n",
    "# Exploratory data analysis: What is Northwind?\n",
    "\n",
    "## Products \n",
    "\n",
    "### What does the company sell?"
   ]
  },
  {
   "cell_type": "code",
   "execution_count": 50,
   "metadata": {
    "scrolled": false
   },
   "outputs": [
    {
     "name": "stdout",
     "output_type": "stream",
     "text": [
      "2019-02-03 11:20:47,192 INFO sqlalchemy.engine.base.Engine SELECT c.CategoryName, c.Description\n",
      "                                    FROM Category c\n",
      "                                \n"
     ]
    },
    {
     "name": "stderr",
     "output_type": "stream",
     "text": [
      "INFO:sqlalchemy.engine.base.Engine:SELECT c.CategoryName, c.Description\n",
      "                                    FROM Category c\n",
      "                                \n"
     ]
    },
    {
     "name": "stdout",
     "output_type": "stream",
     "text": [
      "2019-02-03 11:20:47,194 INFO sqlalchemy.engine.base.Engine ()\n"
     ]
    },
    {
     "name": "stderr",
     "output_type": "stream",
     "text": [
      "INFO:sqlalchemy.engine.base.Engine:()\n"
     ]
    },
    {
     "data": {
      "text/html": [
       "<div>\n",
       "<style scoped>\n",
       "    .dataframe tbody tr th:only-of-type {\n",
       "        vertical-align: middle;\n",
       "    }\n",
       "\n",
       "    .dataframe tbody tr th {\n",
       "        vertical-align: top;\n",
       "    }\n",
       "\n",
       "    .dataframe thead th {\n",
       "        text-align: right;\n",
       "    }\n",
       "</style>\n",
       "<table border=\"1\" class=\"dataframe\">\n",
       "  <thead>\n",
       "    <tr style=\"text-align: right;\">\n",
       "      <th></th>\n",
       "      <th>CategoryName</th>\n",
       "      <th>Description</th>\n",
       "    </tr>\n",
       "  </thead>\n",
       "  <tbody>\n",
       "    <tr>\n",
       "      <th>0</th>\n",
       "      <td>Beverages</td>\n",
       "      <td>Soft drinks, coffees, teas, beers, and ales</td>\n",
       "    </tr>\n",
       "    <tr>\n",
       "      <th>1</th>\n",
       "      <td>Condiments</td>\n",
       "      <td>Sweet and savory sauces, relishes, spreads, an...</td>\n",
       "    </tr>\n",
       "    <tr>\n",
       "      <th>2</th>\n",
       "      <td>Confections</td>\n",
       "      <td>Desserts, candies, and sweet breads</td>\n",
       "    </tr>\n",
       "    <tr>\n",
       "      <th>3</th>\n",
       "      <td>Dairy Products</td>\n",
       "      <td>Cheeses</td>\n",
       "    </tr>\n",
       "    <tr>\n",
       "      <th>4</th>\n",
       "      <td>Grains/Cereals</td>\n",
       "      <td>Breads, crackers, pasta, and cereal</td>\n",
       "    </tr>\n",
       "    <tr>\n",
       "      <th>5</th>\n",
       "      <td>Meat/Poultry</td>\n",
       "      <td>Prepared meats</td>\n",
       "    </tr>\n",
       "    <tr>\n",
       "      <th>6</th>\n",
       "      <td>Produce</td>\n",
       "      <td>Dried fruit and bean curd</td>\n",
       "    </tr>\n",
       "    <tr>\n",
       "      <th>7</th>\n",
       "      <td>Seafood</td>\n",
       "      <td>Seaweed and fish</td>\n",
       "    </tr>\n",
       "  </tbody>\n",
       "</table>\n",
       "</div>"
      ],
      "text/plain": [
       "     CategoryName                                        Description\n",
       "0       Beverages        Soft drinks, coffees, teas, beers, and ales\n",
       "1      Condiments  Sweet and savory sauces, relishes, spreads, an...\n",
       "2     Confections                Desserts, candies, and sweet breads\n",
       "3  Dairy Products                                            Cheeses\n",
       "4  Grains/Cereals                Breads, crackers, pasta, and cereal\n",
       "5    Meat/Poultry                                     Prepared meats\n",
       "6         Produce                          Dried fruit and bean curd\n",
       "7         Seafood                                   Seaweed and fish"
      ]
     },
     "execution_count": 50,
     "metadata": {},
     "output_type": "execute_result"
    }
   ],
   "source": [
    "#What does the company sell?\n",
    "#Look at descriptions of categories for items sold\n",
    "\n",
    "product_categories = pd.read_sql_query('''SELECT c.CategoryName, c.Description\n",
    "                                    FROM Category c\n",
    "                                ''', engine)\n",
    "product_categories"
   ]
  },
  {
   "cell_type": "markdown",
   "metadata": {},
   "source": [
    "It's a food distributor."
   ]
  },
  {
   "cell_type": "markdown",
   "metadata": {},
   "source": [
    "### How are products and revenue distributed by category?"
   ]
  },
  {
   "cell_type": "code",
   "execution_count": 12,
   "metadata": {
    "scrolled": false
   },
   "outputs": [
    {
     "name": "stdout",
     "output_type": "stream",
     "text": [
      "2019-02-03 09:05:22,915 INFO sqlalchemy.engine.base.Engine SELECT ca.CategoryName,\n",
      "                                COUNT(DISTINCT p.ProductName) Products,\n",
      "                                SUM((od.UnitPrice * (1 - od.Discount) * od.Quantity)) Revenue\n",
      "                                FROM OrderDetail od\n",
      "                                JOIN Product p ON od.ProductId = p.Id\n",
      "                                JOIN Category ca ON p.CategoryId = ca.Id\n",
      "                                GROUP BY ca.CategoryName\n",
      "                                ORDER BY Revenue DESC\n",
      "                            \n",
      "2019-02-03 09:05:22,917 INFO sqlalchemy.engine.base.Engine ()\n"
     ]
    },
    {
     "data": {
      "text/html": [
       "<div>\n",
       "<style scoped>\n",
       "    .dataframe tbody tr th:only-of-type {\n",
       "        vertical-align: middle;\n",
       "    }\n",
       "\n",
       "    .dataframe tbody tr th {\n",
       "        vertical-align: top;\n",
       "    }\n",
       "\n",
       "    .dataframe thead th {\n",
       "        text-align: right;\n",
       "    }\n",
       "</style>\n",
       "<table border=\"1\" class=\"dataframe\">\n",
       "  <thead>\n",
       "    <tr style=\"text-align: right;\">\n",
       "      <th></th>\n",
       "      <th>CategoryName</th>\n",
       "      <th>Products</th>\n",
       "      <th>Revenue</th>\n",
       "    </tr>\n",
       "  </thead>\n",
       "  <tbody>\n",
       "    <tr>\n",
       "      <th>0</th>\n",
       "      <td>Beverages</td>\n",
       "      <td>12</td>\n",
       "      <td>267868.1800</td>\n",
       "    </tr>\n",
       "    <tr>\n",
       "      <th>1</th>\n",
       "      <td>Dairy Products</td>\n",
       "      <td>10</td>\n",
       "      <td>234507.2850</td>\n",
       "    </tr>\n",
       "    <tr>\n",
       "      <th>2</th>\n",
       "      <td>Confections</td>\n",
       "      <td>13</td>\n",
       "      <td>167357.2250</td>\n",
       "    </tr>\n",
       "    <tr>\n",
       "      <th>3</th>\n",
       "      <td>Meat/Poultry</td>\n",
       "      <td>6</td>\n",
       "      <td>163022.3595</td>\n",
       "    </tr>\n",
       "    <tr>\n",
       "      <th>4</th>\n",
       "      <td>Seafood</td>\n",
       "      <td>12</td>\n",
       "      <td>131261.7375</td>\n",
       "    </tr>\n",
       "    <tr>\n",
       "      <th>5</th>\n",
       "      <td>Condiments</td>\n",
       "      <td>12</td>\n",
       "      <td>106047.0850</td>\n",
       "    </tr>\n",
       "    <tr>\n",
       "      <th>6</th>\n",
       "      <td>Produce</td>\n",
       "      <td>5</td>\n",
       "      <td>99984.5800</td>\n",
       "    </tr>\n",
       "    <tr>\n",
       "      <th>7</th>\n",
       "      <td>Grains/Cereals</td>\n",
       "      <td>7</td>\n",
       "      <td>95744.5875</td>\n",
       "    </tr>\n",
       "  </tbody>\n",
       "</table>\n",
       "</div>"
      ],
      "text/plain": [
       "     CategoryName  Products      Revenue\n",
       "0       Beverages        12  267868.1800\n",
       "1  Dairy Products        10  234507.2850\n",
       "2     Confections        13  167357.2250\n",
       "3    Meat/Poultry         6  163022.3595\n",
       "4         Seafood        12  131261.7375\n",
       "5      Condiments        12  106047.0850\n",
       "6         Produce         5   99984.5800\n",
       "7  Grains/Cereals         7   95744.5875"
      ]
     },
     "execution_count": 12,
     "metadata": {},
     "output_type": "execute_result"
    }
   ],
   "source": [
    "#How are products and revenue distributed by category?\n",
    "#This includes discontinued products\n",
    "#To  view without, add in   WHERE p.Discontinued == 0\n",
    "cat_rev = pd.read_sql_query('''SELECT ca.CategoryName,\n",
    "                                COUNT(DISTINCT p.ProductName) Products,\n",
    "                                SUM((od.UnitPrice * (1 - od.Discount) * od.Quantity)) Revenue\n",
    "                                FROM OrderDetail od\n",
    "                                JOIN Product p ON od.ProductId = p.Id\n",
    "                                JOIN Category ca ON p.CategoryId = ca.Id\n",
    "                                GROUP BY ca.CategoryName\n",
    "                                ORDER BY Revenue DESC\n",
    "                            ''', engine)\n",
    "cat_rev"
   ]
  },
  {
   "cell_type": "markdown",
   "metadata": {},
   "source": [
    "It looks like the money's in the booze!"
   ]
  },
  {
   "cell_type": "markdown",
   "metadata": {},
   "source": [
    "### How many different products are sold?"
   ]
  },
  {
   "cell_type": "code",
   "execution_count": 51,
   "metadata": {},
   "outputs": [
    {
     "name": "stdout",
     "output_type": "stream",
     "text": [
      "77 different products sold.\n"
     ]
    }
   ],
   "source": [
    "print(cat_rev['Products'].sum(), 'different products sold.')"
   ]
  },
  {
   "cell_type": "markdown",
   "metadata": {},
   "source": [
    "## Customers\n",
    "\n",
    "### How many does Northwind serve?"
   ]
  },
  {
   "cell_type": "code",
   "execution_count": 28,
   "metadata": {},
   "outputs": [
    {
     "name": "stdout",
     "output_type": "stream",
     "text": [
      "2019-02-03 09:34:56,469 INFO sqlalchemy.engine.base.Engine SELECT c.*\n",
      "                                FROM Customer c\n",
      "                                \n"
     ]
    },
    {
     "name": "stderr",
     "output_type": "stream",
     "text": [
      "INFO:sqlalchemy.engine.base.Engine:SELECT c.*\n",
      "                                FROM Customer c\n",
      "                                \n"
     ]
    },
    {
     "name": "stdout",
     "output_type": "stream",
     "text": [
      "2019-02-03 09:34:56,471 INFO sqlalchemy.engine.base.Engine ()\n"
     ]
    },
    {
     "name": "stderr",
     "output_type": "stream",
     "text": [
      "INFO:sqlalchemy.engine.base.Engine:()\n"
     ]
    },
    {
     "name": "stdout",
     "output_type": "stream",
     "text": [
      "91 customers served.\n"
     ]
    }
   ],
   "source": [
    "customers = pd.read_sql_query('''SELECT c.*\n",
    "                                FROM Customer c\n",
    "                                ''', engine)\n",
    "print(customers.shape[0], 'customers served.')"
   ]
  },
  {
   "cell_type": "markdown",
   "metadata": {},
   "source": [
    "If we run experiments related to customers, we may need to use resampling since this population is small."
   ]
  },
  {
   "cell_type": "markdown",
   "metadata": {},
   "source": [
    "### How are customers distributed by region?"
   ]
  },
  {
   "cell_type": "code",
   "execution_count": 35,
   "metadata": {},
   "outputs": [
    {
     "name": "stdout",
     "output_type": "stream",
     "text": [
      "2019-02-03 09:37:42,277 INFO sqlalchemy.engine.base.Engine SELECT c.Region\n",
      "                                            FROM Customer c\n",
      "                                        \n"
     ]
    },
    {
     "name": "stderr",
     "output_type": "stream",
     "text": [
      "INFO:sqlalchemy.engine.base.Engine:SELECT c.Region\n",
      "                                            FROM Customer c\n",
      "                                        \n"
     ]
    },
    {
     "name": "stdout",
     "output_type": "stream",
     "text": [
      "2019-02-03 09:37:42,279 INFO sqlalchemy.engine.base.Engine ()\n"
     ]
    },
    {
     "name": "stderr",
     "output_type": "stream",
     "text": [
      "INFO:sqlalchemy.engine.base.Engine:()\n"
     ]
    },
    {
     "data": {
      "text/plain": [
       "Western Europe     28\n",
       "North America      16\n",
       "South America      16\n",
       "Southern Europe    10\n",
       "British Isles       8\n",
       "Central America     5\n",
       "Northern Europe     4\n",
       "Scandinavia         3\n",
       "Eastern Europe      1\n",
       "Name: Region, dtype: int64"
      ]
     },
     "execution_count": 35,
     "metadata": {},
     "output_type": "execute_result"
    }
   ],
   "source": [
    "#How are customers distributed by region?\n",
    "customer_by_region = pd.read_sql_query('''SELECT c.Region\n",
    "                                            FROM Customer c\n",
    "                                        ''', engine)\n",
    "\n",
    "customer_by_region['Region'].value_counts()"
   ]
  },
  {
   "cell_type": "markdown",
   "metadata": {},
   "source": [
    "For future work, we could look at expanding the customer base into Eastern Europe.\n",
    "\n",
    "### How many customers does each company have?"
   ]
  },
  {
   "cell_type": "code",
   "execution_count": 47,
   "metadata": {
    "scrolled": true
   },
   "outputs": [
    {
     "name": "stdout",
     "output_type": "stream",
     "text": [
      "2019-02-03 10:13:14,980 INFO sqlalchemy.engine.base.Engine SELECT Customer.Id, Customer.CompanyName\n",
      "                            FROM Customer\n",
      "                            ORDER BY Customer.CompanyName\n",
      "                        \n"
     ]
    },
    {
     "name": "stderr",
     "output_type": "stream",
     "text": [
      "INFO:sqlalchemy.engine.base.Engine:SELECT Customer.Id, Customer.CompanyName\n",
      "                            FROM Customer\n",
      "                            ORDER BY Customer.CompanyName\n",
      "                        \n"
     ]
    },
    {
     "name": "stdout",
     "output_type": "stream",
     "text": [
      "2019-02-03 10:13:14,982 INFO sqlalchemy.engine.base.Engine ()\n"
     ]
    },
    {
     "name": "stderr",
     "output_type": "stream",
     "text": [
      "INFO:sqlalchemy.engine.base.Engine:()\n"
     ]
    },
    {
     "data": {
      "text/plain": [
       "0"
      ]
     },
     "execution_count": 47,
     "metadata": {},
     "output_type": "execute_result"
    }
   ],
   "source": [
    "#Look at how many customers each company has\n",
    "df = pd.read_sql_query(\"\"\"SELECT Customer.Id, Customer.CompanyName\n",
    "                            FROM Customer\n",
    "                            ORDER BY Customer.CompanyName\n",
    "                        \"\"\", engine)\n",
    "\n",
    "sum(df['CompanyName'].value_counts() > 1) #How many companies have more than one customer?"
   ]
  },
  {
   "cell_type": "markdown",
   "metadata": {},
   "source": [
    "Each company has only one customer in the database. Orders can therefore be counted by customer or by company."
   ]
  },
  {
   "cell_type": "markdown",
   "metadata": {},
   "source": [
    "## Employees\n",
    "\n",
    "### Who works at Northwind?"
   ]
  },
  {
   "cell_type": "code",
   "execution_count": 22,
   "metadata": {
    "scrolled": false
   },
   "outputs": [
    {
     "name": "stdout",
     "output_type": "stream",
     "text": [
      "2019-02-03 09:21:38,295 INFO sqlalchemy.engine.base.Engine SELECT e.Id, e.LastName, e.FirstName, e.Title, e.City Office, \n",
      "                            COUNT(DISTINCT od.OrderId) Orders_fulfilled,\n",
      "                            SUM(od.Quantity) Unit_quantities_sold\n",
      "                            FROM Employee e\n",
      "                            JOIN [Order] o ON e.Id = o.EmployeeId\n",
      "                            JOIN OrderDetail od ON o.Id = od.OrderId\n",
      "                            JOIN EmployeeTerritory et ON et.EmployeeId = e.Id\n",
      "                            JOIN Territory t on et.Territoryid = t.Id\n",
      "                            JOIN Region r on t.RegionId = r.Id\n",
      "                            GROUP BY e.Id\n",
      "                            ORDER BY e.LastName\n",
      "                        \n"
     ]
    },
    {
     "name": "stderr",
     "output_type": "stream",
     "text": [
      "INFO:sqlalchemy.engine.base.Engine:SELECT e.Id, e.LastName, e.FirstName, e.Title, e.City Office, \n",
      "                            COUNT(DISTINCT od.OrderId) Orders_fulfilled,\n",
      "                            SUM(od.Quantity) Unit_quantities_sold\n",
      "                            FROM Employee e\n",
      "                            JOIN [Order] o ON e.Id = o.EmployeeId\n",
      "                            JOIN OrderDetail od ON o.Id = od.OrderId\n",
      "                            JOIN EmployeeTerritory et ON et.EmployeeId = e.Id\n",
      "                            JOIN Territory t on et.Territoryid = t.Id\n",
      "                            JOIN Region r on t.RegionId = r.Id\n",
      "                            GROUP BY e.Id\n",
      "                            ORDER BY e.LastName\n",
      "                        \n"
     ]
    },
    {
     "name": "stdout",
     "output_type": "stream",
     "text": [
      "2019-02-03 09:21:38,298 INFO sqlalchemy.engine.base.Engine ()\n"
     ]
    },
    {
     "name": "stderr",
     "output_type": "stream",
     "text": [
      "INFO:sqlalchemy.engine.base.Engine:()\n"
     ]
    },
    {
     "data": {
      "text/html": [
       "<div>\n",
       "<style scoped>\n",
       "    .dataframe tbody tr th:only-of-type {\n",
       "        vertical-align: middle;\n",
       "    }\n",
       "\n",
       "    .dataframe tbody tr th {\n",
       "        vertical-align: top;\n",
       "    }\n",
       "\n",
       "    .dataframe thead th {\n",
       "        text-align: right;\n",
       "    }\n",
       "</style>\n",
       "<table border=\"1\" class=\"dataframe\">\n",
       "  <thead>\n",
       "    <tr style=\"text-align: right;\">\n",
       "      <th></th>\n",
       "      <th>Id</th>\n",
       "      <th>LastName</th>\n",
       "      <th>FirstName</th>\n",
       "      <th>Title</th>\n",
       "      <th>Office</th>\n",
       "      <th>Orders_fulfilled</th>\n",
       "      <th>Unit_quantities_sold</th>\n",
       "    </tr>\n",
       "  </thead>\n",
       "  <tbody>\n",
       "    <tr>\n",
       "      <th>0</th>\n",
       "      <td>5</td>\n",
       "      <td>Buchanan</td>\n",
       "      <td>Steven</td>\n",
       "      <td>Sales Manager</td>\n",
       "      <td>London</td>\n",
       "      <td>42</td>\n",
       "      <td>21252</td>\n",
       "    </tr>\n",
       "    <tr>\n",
       "      <th>1</th>\n",
       "      <td>8</td>\n",
       "      <td>Callahan</td>\n",
       "      <td>Laura</td>\n",
       "      <td>Inside Sales Coordinator</td>\n",
       "      <td>Seattle</td>\n",
       "      <td>104</td>\n",
       "      <td>23652</td>\n",
       "    </tr>\n",
       "    <tr>\n",
       "      <th>2</th>\n",
       "      <td>1</td>\n",
       "      <td>Davolio</td>\n",
       "      <td>Nancy</td>\n",
       "      <td>Sales Representative</td>\n",
       "      <td>Seattle</td>\n",
       "      <td>123</td>\n",
       "      <td>15624</td>\n",
       "    </tr>\n",
       "    <tr>\n",
       "      <th>3</th>\n",
       "      <td>9</td>\n",
       "      <td>Dodsworth</td>\n",
       "      <td>Anne</td>\n",
       "      <td>Sales Representative</td>\n",
       "      <td>London</td>\n",
       "      <td>43</td>\n",
       "      <td>18690</td>\n",
       "    </tr>\n",
       "    <tr>\n",
       "      <th>4</th>\n",
       "      <td>2</td>\n",
       "      <td>Fuller</td>\n",
       "      <td>Andrew</td>\n",
       "      <td>Vice President, Sales</td>\n",
       "      <td>Tacoma</td>\n",
       "      <td>96</td>\n",
       "      <td>42385</td>\n",
       "    </tr>\n",
       "    <tr>\n",
       "      <th>5</th>\n",
       "      <td>7</td>\n",
       "      <td>King</td>\n",
       "      <td>Robert</td>\n",
       "      <td>Sales Representative</td>\n",
       "      <td>London</td>\n",
       "      <td>72</td>\n",
       "      <td>46540</td>\n",
       "    </tr>\n",
       "    <tr>\n",
       "      <th>6</th>\n",
       "      <td>3</td>\n",
       "      <td>Leverling</td>\n",
       "      <td>Janet</td>\n",
       "      <td>Sales Representative</td>\n",
       "      <td>Kirkland</td>\n",
       "      <td>127</td>\n",
       "      <td>31408</td>\n",
       "    </tr>\n",
       "    <tr>\n",
       "      <th>7</th>\n",
       "      <td>4</td>\n",
       "      <td>Peacock</td>\n",
       "      <td>Margaret</td>\n",
       "      <td>Sales Representative</td>\n",
       "      <td>Redmond</td>\n",
       "      <td>156</td>\n",
       "      <td>29394</td>\n",
       "    </tr>\n",
       "    <tr>\n",
       "      <th>8</th>\n",
       "      <td>6</td>\n",
       "      <td>Suyama</td>\n",
       "      <td>Michael</td>\n",
       "      <td>Sales Representative</td>\n",
       "      <td>London</td>\n",
       "      <td>67</td>\n",
       "      <td>17635</td>\n",
       "    </tr>\n",
       "  </tbody>\n",
       "</table>\n",
       "</div>"
      ],
      "text/plain": [
       "   Id   LastName FirstName                     Title    Office  \\\n",
       "0   5   Buchanan    Steven             Sales Manager    London   \n",
       "1   8   Callahan     Laura  Inside Sales Coordinator   Seattle   \n",
       "2   1    Davolio     Nancy      Sales Representative   Seattle   \n",
       "3   9  Dodsworth      Anne      Sales Representative    London   \n",
       "4   2     Fuller    Andrew     Vice President, Sales    Tacoma   \n",
       "5   7       King    Robert      Sales Representative    London   \n",
       "6   3  Leverling     Janet      Sales Representative  Kirkland   \n",
       "7   4    Peacock  Margaret      Sales Representative   Redmond   \n",
       "8   6     Suyama   Michael      Sales Representative    London   \n",
       "\n",
       "   Orders_fulfilled  Unit_quantities_sold  \n",
       "0                42                 21252  \n",
       "1               104                 23652  \n",
       "2               123                 15624  \n",
       "3                43                 18690  \n",
       "4                96                 42385  \n",
       "5                72                 46540  \n",
       "6               127                 31408  \n",
       "7               156                 29394  \n",
       "8                67                 17635  "
      ]
     },
     "execution_count": 22,
     "metadata": {},
     "output_type": "execute_result"
    }
   ],
   "source": [
    "#List each employee with name, title, office location, and sales summaries\n",
    "df = pd.read_sql_query('''SELECT e.Id, e.LastName, e.FirstName, e.Title, e.City Office, \n",
    "                            COUNT(DISTINCT od.OrderId) Orders_fulfilled,\n",
    "                            SUM(od.Quantity) Unit_quantities_sold\n",
    "                            FROM Employee e\n",
    "                            JOIN [Order] o ON e.Id = o.EmployeeId\n",
    "                            JOIN OrderDetail od ON o.Id = od.OrderId\n",
    "                            JOIN EmployeeTerritory et ON et.EmployeeId = e.Id\n",
    "                            JOIN Territory t on et.Territoryid = t.Id\n",
    "                            JOIN Region r on t.RegionId = r.Id\n",
    "                            GROUP BY e.Id\n",
    "                            ORDER BY e.LastName\n",
    "                        ''', engine)\n",
    "df"
   ]
  },
  {
   "cell_type": "markdown",
   "metadata": {},
   "source": [
    "9 employees: 4 in London, 5 in the PNW, all working in sales.\n",
    "\n",
    "## Summary of EDA\n",
    "\n",
    "We're looking at a food distributor which sells 77 products in 8 different categories. 9 employees in 2 locations make sales to 91 customers. We can use order details to run experiments on customer preferences. By combining order details into invoices, we'll be able to examine sales by employees and calculate revenue.\n",
    "\n",
    "# Hypothesis Tests\n",
    "\n",
    "Each experiment will be presented with the following headings:\n",
    "\n",
    "- **Question**: Asked by our non-technical stakeholders, based on anecdotal evidence, hunches, &c. Not data-driven.\n",
    "- **Measurement**: How to make the initial question into quantifiable, testable hypotheses.\n",
    "- **Hypotheses**: Null and alternative; to be tested under the scientific method.\n",
    "- **Data**: How the control and treatment groups will be formed.\n",
    "- **Experiment**: Test the null hypothesis by comparing the treatment group to the control group.\n",
    "- **Result**: Rejection or failure to reject the null hypothesis.\n",
    "- **Insights**: Conclusions to be drawn from the experiment; next steps."
   ]
  },
  {
   "cell_type": "markdown",
   "metadata": {},
   "source": [
    "<a id=\"hypo1\"></a>"
   ]
  },
  {
   "cell_type": "markdown",
   "metadata": {},
   "source": [
    "[(Back to top)](#top)\n",
    "\n",
    "# Hypothesis test 1: Discounts and orders\n",
    "\n",
    "## Part 1\n",
    "\n",
    ">**Do discounts have a statistically significant effect on the number of products customers order?** If so, at what level(s) of discount?\n",
    "\n",
    "### What are we measuring?\n",
    "\n",
    "This is a question about customer choice. In order to determine whether discounts affect how many products a customer buys, we must compare the quantities of products bought by the customer, with and without discounts.\n",
    "\n",
    "### The hypotheses\n",
    "\n",
    ">**Null hypothesis**: Discount does not have an effect on the number of products ordered by a customer. \n",
    "\n",
    ">>Control (orders without discount) = Treatment (orders with discount)\n",
    "\n",
    ">**Alternative hypothesis**: Discount has an effect on the number of products ordered by a customer.\n",
    "\n",
    ">>Control (orders without discount) != Treatment (orders with discount)\n",
    "\n",
    "### The data\n",
    "\n",
    "We'll write a query to pull from the database to compare the quantities of products ordered by each customer at each of the various discount levels. (The query will work for Part 1 and Part 2 of the question.)"
   ]
  },
  {
   "attachments": {
    "orderdiscounts.png": {
     "image/png": "[encoded data removed]"
    }
   },
   "cell_type": "markdown",
   "metadata": {},
   "source": [
    "![orderdiscounts.png](attachment:orderdiscounts.png)"
   ]
  },
  {
   "cell_type": "code",
   "execution_count": 54,
   "metadata": {
    "scrolled": false
   },
   "outputs": [
    {
     "name": "stdout",
     "output_type": "stream",
     "text": [
      "2019-02-03 13:59:23,204 INFO sqlalchemy.engine.base.Engine SELECT [Order].CustomerId,\n",
      "                            SUM(\n",
      "                                CASE WHEN OrderDetail.Discount == 0.0 \n",
      "                                THEN 1 ELSE 0 END\n",
      "                                ) no_disc,\n",
      "                            SUM(\n",
      "                                CASE WHEN OrderDetail.Discount == 0.0\n",
      "                                THEN OrderDetail.Quantity ELSE 0 END\n",
      "                                ) quant_no_disc,\n",
      "                            SUM(\n",
      "                                CASE WHEN OrderDetail.Discount != 0.0 \n",
      "                                THEN 1 ELSE 0 END\n",
      "                                ) all_discs,\n",
      "                            SUM(\n",
      "                                CASE WHEN OrderDetail.Discount != 0.0\n",
      "                                THEN OrderDetail.Quantity ELSE 0 END\n",
      "                                ) quant_all_discs,\n",
      "                            SUM(\n",
      "                                CASE WHEN OrderDetail.Discount < 0.06 \n",
      "                                AND OrderDetail.Discount > 0.0\n",
      "                                THEN 1 ELSE 0 END\n",
      "                                ) disc06,                            \n",
      "                            SUM(\n",
      "                                CASE WHEN OrderDetail.Discount < 0.06\n",
      "                                AND OrderDetail.Discount > 0.0\n",
      "                                THEN OrderDetail.Quantity ELSE 0 END\n",
      "                                ) quant_disc06,\n",
      "                            SUM(\n",
      "                                CASE WHEN OrderDetail.Discount == 0.1 \n",
      "                                THEN 1 ELSE 0 END\n",
      "                                ) disc10,\n",
      "                            SUM(\n",
      "                                CASE WHEN OrderDetail.Discount == 0.1\n",
      "                                THEN OrderDetail.Quantity ELSE 0 END\n",
      "                                ) quant_disc10,                            \n",
      "                            SUM(\n",
      "                                CASE WHEN OrderDetail.Discount == 0.15 \n",
      "                                THEN 1 ELSE 0 END\n",
      "                                ) disc15,\n",
      "                            SUM(\n",
      "                                CASE WHEN OrderDetail.Discount == 0.15\n",
      "                                THEN OrderDetail.Quantity ELSE 0 END\n",
      "                                ) quant_disc15,                            \n",
      "                            SUM(\n",
      "                                CASE WHEN OrderDetail.Discount == 0.2 \n",
      "                                THEN 1 ELSE 0 END\n",
      "                                ) disc20,\n",
      "                            SUM(\n",
      "                                CASE WHEN OrderDetail.Discount == 0.2\n",
      "                                THEN OrderDetail.Quantity ELSE 0 END\n",
      "                                ) quant_disc20,                                \n",
      "                            SUM(\n",
      "                                CASE WHEN OrderDetail.Discount == 0.25 \n",
      "                                THEN 1 ELSE 0 END\n",
      "                                ) disc25,\n",
      "                            SUM(\n",
      "                                CASE WHEN OrderDetail.Discount == 0.25\n",
      "                                THEN OrderDetail.Quantity ELSE 0 END\n",
      "                                ) quant_disc25,\n",
      "                            Count(*) total_orders,\n",
      "                            SUM(OrderDetail.Quantity) total_quantities\n",
      "                            FROM OrderDetail \n",
      "                            INNER JOIN [Order] on OrderDetail.OrderId = [Order].Id\n",
      "                            GROUP BY [Order].CustomerId\n",
      "                            ORDER BY [Order].CustomerId ASC\n",
      "                        \n"
     ]
    },
    {
     "name": "stderr",
     "output_type": "stream",
     "text": [
      "INFO:sqlalchemy.engine.base.Engine:SELECT [Order].CustomerId,\n",
      "                            SUM(\n",
      "                                CASE WHEN OrderDetail.Discount == 0.0 \n",
      "                                THEN 1 ELSE 0 END\n",
      "                                ) no_disc,\n",
      "                            SUM(\n",
      "                                CASE WHEN OrderDetail.Discount == 0.0\n",
      "                                THEN OrderDetail.Quantity ELSE 0 END\n",
      "                                ) quant_no_disc,\n",
      "                            SUM(\n",
      "                                CASE WHEN OrderDetail.Discount != 0.0 \n",
      "                                THEN 1 ELSE 0 END\n",
      "                                ) all_discs,\n",
      "                            SUM(\n",
      "                                CASE WHEN OrderDetail.Discount != 0.0\n",
      "                                THEN OrderDetail.Quantity ELSE 0 END\n",
      "                                ) quant_all_discs,\n",
      "                            SUM(\n",
      "                                CASE WHEN OrderDetail.Discount < 0.06 \n",
      "                                AND OrderDetail.Discount > 0.0\n",
      "                                THEN 1 ELSE 0 END\n",
      "                                ) disc06,                            \n",
      "                            SUM(\n",
      "                                CASE WHEN OrderDetail.Discount < 0.06\n",
      "                                AND OrderDetail.Discount > 0.0\n",
      "                                THEN OrderDetail.Quantity ELSE 0 END\n",
      "                                ) quant_disc06,\n",
      "                            SUM(\n",
      "                                CASE WHEN OrderDetail.Discount == 0.1 \n",
      "                                THEN 1 ELSE 0 END\n",
      "                                ) disc10,\n",
      "                            SUM(\n",
      "                                CASE WHEN OrderDetail.Discount == 0.1\n",
      "                                THEN OrderDetail.Quantity ELSE 0 END\n",
      "                                ) quant_disc10,                            \n",
      "                            SUM(\n",
      "                                CASE WHEN OrderDetail.Discount == 0.15 \n",
      "                                THEN 1 ELSE 0 END\n",
      "                                ) disc15,\n",
      "                            SUM(\n",
      "                                CASE WHEN OrderDetail.Discount == 0.15\n",
      "                                THEN OrderDetail.Quantity ELSE 0 END\n",
      "                                ) quant_disc15,                            \n",
      "                            SUM(\n",
      "                                CASE WHEN OrderDetail.Discount == 0.2 \n",
      "                                THEN 1 ELSE 0 END\n",
      "                                ) disc20,\n",
      "                            SUM(\n",
      "                                CASE WHEN OrderDetail.Discount == 0.2\n",
      "                                THEN OrderDetail.Quantity ELSE 0 END\n",
      "                                ) quant_disc20,                                \n",
      "                            SUM(\n",
      "                                CASE WHEN OrderDetail.Discount == 0.25 \n",
      "                                THEN 1 ELSE 0 END\n",
      "                                ) disc25,\n",
      "                            SUM(\n",
      "                                CASE WHEN OrderDetail.Discount == 0.25\n",
      "                                THEN OrderDetail.Quantity ELSE 0 END\n",
      "                                ) quant_disc25,\n",
      "                            Count(*) total_orders,\n",
      "                            SUM(OrderDetail.Quantity) total_quantities\n",
      "                            FROM OrderDetail \n",
      "                            INNER JOIN [Order] on OrderDetail.OrderId = [Order].Id\n",
      "                            GROUP BY [Order].CustomerId\n",
      "                            ORDER BY [Order].CustomerId ASC\n",
      "                        \n"
     ]
    },
    {
     "name": "stdout",
     "output_type": "stream",
     "text": [
      "2019-02-03 13:59:23,205 INFO sqlalchemy.engine.base.Engine ()\n"
     ]
    },
    {
     "name": "stderr",
     "output_type": "stream",
     "text": [
      "INFO:sqlalchemy.engine.base.Engine:()\n"
     ]
    }
   ],
   "source": [
    "#Compare quantities ordered with and without discounts.\n",
    "#Note that discounts of 06 and under are grouped together.\n",
    "orders_discounts = pd.read_sql_query('''SELECT [Order].CustomerId,\n",
    "                            SUM(\n",
    "                                CASE WHEN OrderDetail.Discount == 0.0 \n",
    "                                THEN 1 ELSE 0 END\n",
    "                                ) no_disc,\n",
    "                            SUM(\n",
    "                                CASE WHEN OrderDetail.Discount == 0.0\n",
    "                                THEN OrderDetail.Quantity ELSE 0 END\n",
    "                                ) quant_no_disc,\n",
    "                            SUM(\n",
    "                                CASE WHEN OrderDetail.Discount != 0.0 \n",
    "                                THEN 1 ELSE 0 END\n",
    "                                ) all_discs,\n",
    "                            SUM(\n",
    "                                CASE WHEN OrderDetail.Discount != 0.0\n",
    "                                THEN OrderDetail.Quantity ELSE 0 END\n",
    "                                ) quant_all_discs,\n",
    "                            SUM(\n",
    "                                CASE WHEN OrderDetail.Discount < 0.06 \n",
    "                                AND OrderDetail.Discount > 0.0\n",
    "                                THEN 1 ELSE 0 END\n",
    "                                ) disc06,                            \n",
    "                            SUM(\n",
    "                                CASE WHEN OrderDetail.Discount < 0.06\n",
    "                                AND OrderDetail.Discount > 0.0\n",
    "                                THEN OrderDetail.Quantity ELSE 0 END\n",
    "                                ) quant_disc06,\n",
    "                            SUM(\n",
    "                                CASE WHEN OrderDetail.Discount == 0.1 \n",
    "                                THEN 1 ELSE 0 END\n",
    "                                ) disc10,\n",
    "                            SUM(\n",
    "                                CASE WHEN OrderDetail.Discount == 0.1\n",
    "                                THEN OrderDetail.Quantity ELSE 0 END\n",
    "                                ) quant_disc10,                            \n",
    "                            SUM(\n",
    "                                CASE WHEN OrderDetail.Discount == 0.15 \n",
    "                                THEN 1 ELSE 0 END\n",
    "                                ) disc15,\n",
    "                            SUM(\n",
    "                                CASE WHEN OrderDetail.Discount == 0.15\n",
    "                                THEN OrderDetail.Quantity ELSE 0 END\n",
    "                                ) quant_disc15,                            \n",
    "                            SUM(\n",
    "                                CASE WHEN OrderDetail.Discount == 0.2 \n",
    "                                THEN 1 ELSE 0 END\n",
    "                                ) disc20,\n",
    "                            SUM(\n",
    "                                CASE WHEN OrderDetail.Discount == 0.2\n",
    "                                THEN OrderDetail.Quantity ELSE 0 END\n",
    "                                ) quant_disc20,                                \n",
    "                            SUM(\n",
    "                                CASE WHEN OrderDetail.Discount == 0.25 \n",
    "                                THEN 1 ELSE 0 END\n",
    "                                ) disc25,\n",
    "                            SUM(\n",
    "                                CASE WHEN OrderDetail.Discount == 0.25\n",
    "                                THEN OrderDetail.Quantity ELSE 0 END\n",
    "                                ) quant_disc25,\n",
    "                            Count(*) total_orders,\n",
    "                            SUM(OrderDetail.Quantity) total_quantities\n",
    "                            FROM OrderDetail \n",
    "                            INNER JOIN [Order] on OrderDetail.OrderId = [Order].Id\n",
    "                            GROUP BY [Order].CustomerId\n",
    "                            ORDER BY [Order].CustomerId ASC\n",
    "                        ''', engine)\n"
   ]
  },
  {
   "cell_type": "code",
   "execution_count": 187,
   "metadata": {
    "scrolled": false
   },
   "outputs": [
    {
     "data": {
      "text/html": [
       "<div>\n",
       "<style scoped>\n",
       "    .dataframe tbody tr th:only-of-type {\n",
       "        vertical-align: middle;\n",
       "    }\n",
       "\n",
       "    .dataframe tbody tr th {\n",
       "        vertical-align: top;\n",
       "    }\n",
       "\n",
       "    .dataframe thead th {\n",
       "        text-align: right;\n",
       "    }\n",
       "</style>\n",
       "<table border=\"1\" class=\"dataframe\">\n",
       "  <thead>\n",
       "    <tr style=\"text-align: right;\">\n",
       "      <th></th>\n",
       "      <th>CustomerId</th>\n",
       "      <th>no_disc</th>\n",
       "      <th>quant_no_disc</th>\n",
       "      <th>all_discs</th>\n",
       "      <th>quant_all_discs</th>\n",
       "      <th>disc06</th>\n",
       "      <th>quant_disc06</th>\n",
       "      <th>disc10</th>\n",
       "      <th>quant_disc10</th>\n",
       "      <th>disc15</th>\n",
       "      <th>quant_disc15</th>\n",
       "      <th>disc20</th>\n",
       "      <th>quant_disc20</th>\n",
       "      <th>disc25</th>\n",
       "      <th>quant_disc25</th>\n",
       "      <th>total_orders</th>\n",
       "      <th>total_quantities</th>\n",
       "    </tr>\n",
       "  </thead>\n",
       "  <tbody>\n",
       "    <tr>\n",
       "      <th>0</th>\n",
       "      <td>ALFKI</td>\n",
       "      <td>6</td>\n",
       "      <td>78</td>\n",
       "      <td>6</td>\n",
       "      <td>96</td>\n",
       "      <td>2</td>\n",
       "      <td>56</td>\n",
       "      <td>0</td>\n",
       "      <td>0</td>\n",
       "      <td>0</td>\n",
       "      <td>0</td>\n",
       "      <td>1</td>\n",
       "      <td>2</td>\n",
       "      <td>3</td>\n",
       "      <td>38</td>\n",
       "      <td>12</td>\n",
       "      <td>174</td>\n",
       "    </tr>\n",
       "    <tr>\n",
       "      <th>1</th>\n",
       "      <td>ANATR</td>\n",
       "      <td>10</td>\n",
       "      <td>63</td>\n",
       "      <td>0</td>\n",
       "      <td>0</td>\n",
       "      <td>0</td>\n",
       "      <td>0</td>\n",
       "      <td>0</td>\n",
       "      <td>0</td>\n",
       "      <td>0</td>\n",
       "      <td>0</td>\n",
       "      <td>0</td>\n",
       "      <td>0</td>\n",
       "      <td>0</td>\n",
       "      <td>0</td>\n",
       "      <td>10</td>\n",
       "      <td>63</td>\n",
       "    </tr>\n",
       "    <tr>\n",
       "      <th>2</th>\n",
       "      <td>ANTO</td>\n",
       "      <td>9</td>\n",
       "      <td>211</td>\n",
       "      <td>8</td>\n",
       "      <td>148</td>\n",
       "      <td>0</td>\n",
       "      <td>0</td>\n",
       "      <td>4</td>\n",
       "      <td>80</td>\n",
       "      <td>4</td>\n",
       "      <td>68</td>\n",
       "      <td>0</td>\n",
       "      <td>0</td>\n",
       "      <td>0</td>\n",
       "      <td>0</td>\n",
       "      <td>17</td>\n",
       "      <td>359</td>\n",
       "    </tr>\n",
       "    <tr>\n",
       "      <th>3</th>\n",
       "      <td>AROUT</td>\n",
       "      <td>23</td>\n",
       "      <td>439</td>\n",
       "      <td>7</td>\n",
       "      <td>211</td>\n",
       "      <td>3</td>\n",
       "      <td>128</td>\n",
       "      <td>2</td>\n",
       "      <td>40</td>\n",
       "      <td>1</td>\n",
       "      <td>28</td>\n",
       "      <td>1</td>\n",
       "      <td>15</td>\n",
       "      <td>0</td>\n",
       "      <td>0</td>\n",
       "      <td>30</td>\n",
       "      <td>650</td>\n",
       "    </tr>\n",
       "    <tr>\n",
       "      <th>4</th>\n",
       "      <td>BERGS</td>\n",
       "      <td>34</td>\n",
       "      <td>632</td>\n",
       "      <td>18</td>\n",
       "      <td>369</td>\n",
       "      <td>0</td>\n",
       "      <td>0</td>\n",
       "      <td>10</td>\n",
       "      <td>161</td>\n",
       "      <td>0</td>\n",
       "      <td>0</td>\n",
       "      <td>0</td>\n",
       "      <td>0</td>\n",
       "      <td>8</td>\n",
       "      <td>208</td>\n",
       "      <td>52</td>\n",
       "      <td>1001</td>\n",
       "    </tr>\n",
       "  </tbody>\n",
       "</table>\n",
       "</div>"
      ],
      "text/plain": [
       "  CustomerId  no_disc  quant_no_disc  all_discs  quant_all_discs  disc06  \\\n",
       "0      ALFKI        6             78          6               96       2   \n",
       "1      ANATR       10             63          0                0       0   \n",
       "2       ANTO        9            211          8              148       0   \n",
       "3      AROUT       23            439          7              211       3   \n",
       "4      BERGS       34            632         18              369       0   \n",
       "\n",
       "   quant_disc06  disc10  quant_disc10  disc15  quant_disc15  disc20  \\\n",
       "0            56       0             0       0             0       1   \n",
       "1             0       0             0       0             0       0   \n",
       "2             0       4            80       4            68       0   \n",
       "3           128       2            40       1            28       1   \n",
       "4             0      10           161       0             0       0   \n",
       "\n",
       "   quant_disc20  disc25  quant_disc25  total_orders  total_quantities  \n",
       "0             2       3            38            12               174  \n",
       "1             0       0             0            10                63  \n",
       "2             0       0             0            17               359  \n",
       "3            15       0             0            30               650  \n",
       "4             0       8           208            52              1001  "
      ]
     },
     "execution_count": 187,
     "metadata": {},
     "output_type": "execute_result"
    }
   ],
   "source": [
    "#Take a look at the table resulting from above query\n",
    "#It includes data for Hypothesis Test Part 1 and Part 2\n",
    "orders_discounts.head()"
   ]
  },
  {
   "cell_type": "markdown",
   "metadata": {},
   "source": [
    "### Visualizing the data\n",
    "\n",
    "Let's take a look at how our data for the treatment and control groups are distributed."
   ]
  },
  {
   "cell_type": "code",
   "execution_count": 240,
   "metadata": {
    "scrolled": false
   },
   "outputs": [
    {
     "name": "stderr",
     "output_type": "stream",
     "text": [
      "C:\\Users\\Stee\\Anaconda3good\\lib\\site-packages\\scipy\\stats\\stats.py:1713: FutureWarning: Using a non-tuple sequence for multidimensional indexing is deprecated; use `arr[tuple(seq)]` instead of `arr[seq]`. In the future this will be interpreted as an array index, `arr[np.array(seq)]`, which will result either in an error or a different result.\n",
      "  return np.add.reduce(sorted[indexer] * weights, axis=axis) / sumval\n"
     ]
    },
    {
     "data": {
      "text/plain": [
       "<matplotlib.axes._subplots.AxesSubplot at 0xc539588>"
      ]
     },
     "execution_count": 240,
     "metadata": {},
     "output_type": "execute_result"
    },
    {
     "data": {
      "image/png": "[encoded data removed]",
      "text/plain": [
       "<Figure size 864x432 with 1 Axes>"
      ]
     },
     "metadata": {},
     "output_type": "display_data"
    }
   ],
   "source": [
    "#Show the distribution with a kde to check for normality\n",
    "sns.distplot(orders_discounts['quant_no_disc'], label = 'Quantities ordered without discount')\n",
    "sns.distplot(orders_discounts['quant_all_discs'], label = 'Quantities ordered with discount (at all levels)')"
   ]
  },
  {
   "cell_type": "code",
   "execution_count": 190,
   "metadata": {
    "scrolled": false
   },
   "outputs": [
    {
     "name": "stdout",
     "output_type": "stream",
     "text": [
      "Control group mean: 321.3370786516854\n",
      "Treatment group mean: 255.25842696629215\n",
      "The population distribution has only 89 values.\n"
     ]
    }
   ],
   "source": [
    "print('Control group mean:', orders_discounts['quant_no_disc'].mean())\n",
    "print('Treatment group mean:', orders_discounts['quant_all_discs'].mean())\n",
    "print(\"The population distribution has only\", orders_discounts.shape[0], \"values.\")"
   ]
  },
  {
   "cell_type": "markdown",
   "metadata": {},
   "source": [
    "The means are different, but we don't know if they are different *enough* to be statistically significant. Both groups have a small sample size (89), so we can simulate larger sizes for both by resampling. Then we can plot the resampled distributions and find the p value."
   ]
  },
  {
   "cell_type": "markdown",
   "metadata": {},
   "source": [
    "### The experiment: resampling by bootstrapping"
   ]
  },
  {
   "cell_type": "code",
   "execution_count": 115,
   "metadata": {},
   "outputs": [
    {
     "data": {
      "image/png": "[encoded data removed]",
      "text/plain": [
       "<Figure size 720x360 with 1 Axes>"
      ]
     },
     "metadata": {
      "needs_background": "light"
     },
     "output_type": "display_data"
    },
    {
     "name": "stdout",
     "output_type": "stream",
     "text": [
      "Observed difference between the means: 66.07865168539323\n",
      "The p value is 0.1467 .\n",
      "Alpha was 0.05 .\n",
      "Cohen's D is 0.11\n"
     ]
    }
   ],
   "source": [
    "alpha = 0.05 # The value chosen for comparison with the test statistic.\n",
    "#Test statistic will need to be lower than this in order to reject the null hypothesis.\n",
    "\n",
    "control1 = orders_discounts['quant_no_disc'] #The quantities of items ordered without discount\n",
    "treatment1 = orders_discounts['quant_all_discs'] #The quantitites of items ordered with a discount\n",
    "\n",
    "#Put the two groups of data into arrays to be resampled &c\n",
    "bootstrap(alpha, control1, treatment1, 'No-discount v. Discount')\n",
    "\n",
    "#Results for no-discount v. discount"
   ]
  },
  {
   "cell_type": "markdown",
   "metadata": {},
   "source": [
    "### Part 1 Result:\n",
    "\n",
    "Failure to reject null hypothesis. Discount does not have an effect on the number of products ordered by a customer.\n",
    "\n",
    "*However . . .*\n",
    "\n",
    "This experiment only tested for the presence or absence of a discount. \n",
    "\n",
    "## Part 2: \n",
    "\n",
    ">Do discounts have a statistically significant effect on the number of products customers order? **If so, at what level(s) of discount?**\n",
    "\n",
    "We can run the same experiment again to compare no-discount order quantites to order quantities at each level of discount.\n",
    "\n",
    "### What are we measuring?\n",
    "\n",
    "This time we measure quantities at each level of discount one at a time against quantities ordered without discount. They're still grouped by customer. We'll run the experiment five times, once per discount level.\n",
    "\n",
    "### The hypotheses\n",
    "\n",
    ">**Null hypothesis**: Discount at 06%/10%/15%/20%/25% does not have an effect on the number of products ordered by a customer. \n",
    "\n",
    ">>Control (orders without discount) = Treatment (orders with discount)\n",
    "\n",
    ">**Alternative hypothesis**: Discount at 06%/10%/15%/20%/25% has an effect on the number of products ordered by a customer.\n",
    "\n",
    ">>Control (orders without discount) != Treatment (orders with discount)\n",
    "\n",
    "### The data\n",
    "\n",
    "We can use the data from Part 1 because it includes columns for quantities ordered at each discount level. We'll draw out the relevant columns from the table created above."
   ]
  },
  {
   "cell_type": "code",
   "execution_count": 62,
   "metadata": {},
   "outputs": [],
   "source": [
    "#Treatment groups with only the values associated with each level of discount\n",
    "#Note that .06 discount means all discount levels up to .06\n",
    "disc06 = orders_discounts['quant_disc06'] #quantities of items ordered with 06% discount\n",
    "disc10 = orders_discounts['quant_disc10'] #quantities of items ordered with 10% discount\n",
    "disc15 = orders_discounts['quant_disc15'] #quantities of items ordered with 15% discount\n",
    "disc20 = orders_discounts['quant_disc20'] #quantities of items ordered with 20% discount\n",
    "disc25 = orders_discounts['quant_disc25'] #quantities of items ordered with 25% discount\n",
    "\n",
    "#Drop the zero values from these groups\n",
    "disc06 = disc06[disc06 != 0]\n",
    "disc10 = disc10[disc10 != 0]\n",
    "disc15 = disc15[disc15 != 0]\n",
    "disc20 = disc20[disc20 != 0]\n",
    "disc25 = disc25[disc25 != 0]\n",
    "\n",
    "#list of treatment groups\n",
    "treatments = [disc06, disc10, disc15, disc20, disc25]\n",
    "\n",
    "#List of string values of discounts, for labelling\n",
    "discounts = ['No-discount v. .06 discount', \n",
    "             'No-discount v. .10 discount',\n",
    "             'No-discount v. .15 discount',\n",
    "             'No-discount v. .20 discount',\n",
    "             'No-discount v. .25 discount']\n",
    "\n",
    "#Zip together the above three lists to iterate over them all at once\n",
    "treatments_discounts = list(zip(treatments, discounts))"
   ]
  },
  {
   "cell_type": "markdown",
   "metadata": {},
   "source": [
    "We've clustered the data so that we can iterate over it, running the same experiment on the control group with a different treatment group each time.\n",
    "\n",
    "### The experiment: resampling by bootstrapping (5 iterations)"
   ]
  },
  {
   "cell_type": "code",
   "execution_count": 117,
   "metadata": {
    "scrolled": false
   },
   "outputs": [
    {
     "data": {
      "image/png": "[encoded data removed]",
      "text/plain": [
       "<Figure size 720x360 with 1 Axes>"
      ]
     },
     "metadata": {
      "needs_background": "light"
     },
     "output_type": "display_data"
    },
    {
     "name": "stdout",
     "output_type": "stream",
     "text": [
      "Observed difference between the means: 194.65415182241708\n",
      "The p value is 0.001 .\n",
      "Alpha was 0.05 .\n",
      "Cohen's D is 0.46\n"
     ]
    },
    {
     "data": {
      "image/png": "[encoded data removed]",
      "text/plain": [
       "<Figure size 720x360 with 1 Axes>"
      ]
     },
     "metadata": {
      "needs_background": "light"
     },
     "output_type": "display_data"
    },
    {
     "name": "stdout",
     "output_type": "stream",
     "text": [
      "Observed difference between the means: 206.4423418095801\n",
      "The p value is 0.0005 .\n",
      "Alpha was 0.05 .\n",
      "Cohen's D is 0.5\n"
     ]
    },
    {
     "data": {
      "image/png": "[encoded data removed]",
      "text/plain": [
       "<Figure size 720x360 with 1 Axes>"
      ]
     },
     "metadata": {
      "needs_background": "light"
     },
     "output_type": "display_data"
    },
    {
     "name": "stdout",
     "output_type": "stream",
     "text": [
      "Observed difference between the means: 204.07392075694855\n",
      "The p value is 0.0008 .\n",
      "Alpha was 0.05 .\n",
      "Cohen's D is 0.49\n"
     ]
    },
    {
     "data": {
      "image/png": "[encoded data removed]",
      "text/plain": [
       "<Figure size 720x360 with 1 Axes>"
      ]
     },
     "metadata": {
      "needs_background": "light"
     },
     "output_type": "display_data"
    },
    {
     "name": "stdout",
     "output_type": "stream",
     "text": [
      "Observed difference between the means: 209.7729760875828\n",
      "The p value is 0.0006 .\n",
      "Alpha was 0.05 .\n",
      "Cohen's D is 0.5\n"
     ]
    },
    {
     "data": {
      "image/png": "[encoded data removed]",
      "text/plain": [
       "<Figure size 720x360 with 1 Axes>"
      ]
     },
     "metadata": {
      "needs_background": "light"
     },
     "output_type": "display_data"
    },
    {
     "name": "stdout",
     "output_type": "stream",
     "text": [
      "Observed difference between the means: 206.88971023063274\n",
      "The p value is 0.0004 .\n",
      "Alpha was 0.05 .\n",
      "Cohen's D is 0.49\n"
     ]
    }
   ],
   "source": [
    "#Resampling by bootstrapping\n",
    "\n",
    "alpha = 0.05 # The value chosen for comparison with the test statistic.\n",
    "#Test statistic will need to be lower than this in order to reject the null hypothesis.\n",
    "\n",
    "permus = 10000 #number of samples to take\n",
    "\n",
    "#Iterate over the three lists:\n",
    "#Build permutations of sample distributions,\n",
    "#Find and print p values,\n",
    "#Plot each distribution\n",
    "for treatment, discount in treatments_discounts:\n",
    "    bootstrap(alpha, control1, treatment, discount)"
   ]
  },
  {
   "cell_type": "markdown",
   "metadata": {},
   "source": [
    "### Result\n",
    "\n",
    "Null hypothesis is rejected; alternative hypothesis is accepted.\n",
    "\n",
    "Discount at 06%/10%/15%/20%/25% has an effect on the number of products ordered by a customer. (At all five levels!)\n",
    "\n",
    "By comparing the means we can tell that customers seem to order *more* of each product without a discount than with a discount, but strictly speaking, our experiment does not tell us this. We'd have to run another experiment using a one-tailed test in order to reach a greater-than or less-than result."
   ]
  },
  {
   "cell_type": "code",
   "execution_count": 92,
   "metadata": {
    "scrolled": true
   },
   "outputs": [],
   "source": [
    "#Optional discussion: Why did we remove the 0 values?\n",
    "def optional_discussion_zeros():\n",
    "    print('Control mean:', control1.mean())\n",
    "    print('Discount 06 mean without zero values:', disc06.mean())\n",
    "    print('Discount 06 mean with zero values:', orders_discounts['quant_disc06'].mean())\n",
    "    print('\\n')\n",
    "    print('Non-zero values in the control group:')\n",
    "    print(len(orders_discounts[orders_discounts['quant_no_disc'] != 0]), 'out of', len(orders_discounts['quant_no_disc']))\n",
    "    print('Non-zero values in the treatment groups:')\n",
    "    print(len(orders_discounts[orders_discounts['quant_disc06'] != 0]), 'out of', len(orders_discounts['quant_disc06']))\n",
    "    print(len(orders_discounts[orders_discounts['quant_disc10'] != 0]), 'out of', len(orders_discounts['quant_disc10']))\n",
    "    print(len(orders_discounts[orders_discounts['quant_disc15'] != 0]), 'out of', len(orders_discounts['quant_disc15']))\n",
    "    print(len(orders_discounts[orders_discounts['quant_disc20'] != 0]), 'out of', len(orders_discounts['quant_disc20']))\n",
    "    print(len(orders_discounts[orders_discounts['quant_disc25'] != 0]), 'out of', len(orders_discounts['quant_disc25']))\n",
    "    print('\\n')\n",
    "    print('When left in, the zero values caused the observed difference in means to be even higher than it was in this run of the experiment. The p-value was even more infinitesimally low. The level of significance was similar but the visualizations and statistics were much less readable.')\n"
   ]
  },
  {
   "cell_type": "code",
   "execution_count": 95,
   "metadata": {
    "scrolled": true
   },
   "outputs": [],
   "source": [
    "#Uncomment to view\n",
    "#optional_discussion_zeros()"
   ]
  },
  {
   "cell_type": "markdown",
   "metadata": {},
   "source": [
    "## Insights\n",
    "\n",
    "What accounts for the different result between the two experiments? The first experiment tells us that, **broadly speaking, discounts do not have an effect** on quantities of products that customers choose to buy. This suggests that **marketing efforts** to push discounts or to stop offering them **won't have a meangingful effect** on orders.\n",
    "\n",
    "The second experiment tells us that customers order **different quantities of items without discount** than at each individual level of discount, and **this makes sense**. Discounts at any given level may only be offered some of the time for some of the products, not all the time for all prodcuts, so it would be odd if customers were ordering the same quantity of products at each discount level and without any discount. In other words, we  can reasonably expect to reject that null hypothesis.\n",
    "\n",
    "A specific scenario in which a customer always orders the same quantity of a product regardless of the discount might be this: they have a standing order with Northwind for a certain quantity of a product, an order which gets placed on a regular schedule, and they get billed for the order at whatever level of discount is available each time.\n",
    "\n",
    "In order to answer more questions about customer behavior toward discounts, **we will need to collect more data** that measures this. if the customers are interacting with an order form on a website, for example, we could track the quantities they order when a discount is displayed v. when it isn't. For sales by phone, sales reps could record what discounts they offered for which products.\n",
    "\n",
    "For further questions and answers on discounts, see [Future Work](#futurework)."
   ]
  },
  {
   "cell_type": "markdown",
   "metadata": {},
   "source": [
    "<a id=\"hypo2\"></a>"
   ]
  },
  {
   "cell_type": "markdown",
   "metadata": {},
   "source": [
    "[(Back to top)](#top)\n",
    "\n",
    "# Hypothesis 2\n",
    "\n",
    ">Do the employees in the PNW offices get higher invoice totals on average than employees in the London office?\n",
    "\n",
    "### What are we measuring?\n",
    "\n",
    "Our nine sales reps work out of two offices; four out of the London office, and five out of the offices in greater Seattle area (the Pacific Northwest, PNW.) We will compare the average invoice total for all the employees in the London office to those of the PNW offices.\n",
    "\n",
    "### The hypotheses\n",
    "\n",
    ">**Null hypothesis**: Invoice totals from the London office are, on average, the same or higher than the invoice totals from the PNW offices.\n",
    "\n",
    ">>Control 2 (London invoices) >= Treatment 2 (PNW invoices)\n",
    "\n",
    ">**Alternative hypothesis**: Invoice totals from the London office are, on average, lower than the invoice totals from the PNW offices.\n",
    "\n",
    ">>London invoices (Control 2) < PNW invoices (Treatment 2)\n",
    "\n",
    "### The data\n",
    "\n",
    "Each sales rep draws up an invoice for every order they fulfill; each invoice has subtitles for items ordered, quantities, discounts, and unit prices, and a total at the bottom. The totals indicate how much revenue each sales rep is bringing in. Using the data will calculate an invoice total here by the sum of subtotals per order, where each subtotal on an order is unit price * (1 - discount) * quantity."
   ]
  },
  {
   "attachments": {
    "invoice.png": {
     "image/png": "[encoded data removed]"
    }
   },
   "cell_type": "markdown",
   "metadata": {},
   "source": [
    "![invoice.png](attachment:invoice.png)           "
   ]
  },
  {
   "cell_type": "code",
   "execution_count": 120,
   "metadata": {
    "scrolled": false
   },
   "outputs": [
    {
     "name": "stdout",
     "output_type": "stream",
     "text": [
      "2019-02-03 15:35:46,261 INFO sqlalchemy.engine.base.Engine SELECT od.OrderId,\n",
      "                            SUM((od.UnitPrice * (1 - od.Discount)) * od.Quantity) Invoice_total\n",
      "                            FROM OrderDetail od\n",
      "                            JOIN [Order] o ON od.OrderId = o.Id\n",
      "                            JOIN Employee e ON o.EmployeeId = e.Id\n",
      "                            WHERE e.City = \"London\"\n",
      "                            GROUP BY od.OrderId\n",
      "                            ORDER BY e.LastName\n",
      "                    \n"
     ]
    },
    {
     "name": "stderr",
     "output_type": "stream",
     "text": [
      "INFO:sqlalchemy.engine.base.Engine:SELECT od.OrderId,\n",
      "                            SUM((od.UnitPrice * (1 - od.Discount)) * od.Quantity) Invoice_total\n",
      "                            FROM OrderDetail od\n",
      "                            JOIN [Order] o ON od.OrderId = o.Id\n",
      "                            JOIN Employee e ON o.EmployeeId = e.Id\n",
      "                            WHERE e.City = \"London\"\n",
      "                            GROUP BY od.OrderId\n",
      "                            ORDER BY e.LastName\n",
      "                    \n"
     ]
    },
    {
     "name": "stdout",
     "output_type": "stream",
     "text": [
      "2019-02-03 15:35:46,263 INFO sqlalchemy.engine.base.Engine ()\n"
     ]
    },
    {
     "name": "stderr",
     "output_type": "stream",
     "text": [
      "INFO:sqlalchemy.engine.base.Engine:()\n"
     ]
    },
    {
     "name": "stdout",
     "output_type": "stream",
     "text": [
      "2019-02-03 15:35:46,271 INFO sqlalchemy.engine.base.Engine SELECT od.OrderId,\n",
      "                            SUM((od.UnitPrice * (1 - od.Discount)) * od.Quantity) Invoice_total\n",
      "                            FROM OrderDetail od\n",
      "                            JOIN [Order] o ON od.OrderId = o.Id\n",
      "                            JOIN Employee e ON o.EmployeeId = e.Id\n",
      "                            WHERE e.City != \"London\"\n",
      "                            GROUP BY od.OrderId\n",
      "                            ORDER BY e.LastName\n",
      "                    \n"
     ]
    },
    {
     "name": "stderr",
     "output_type": "stream",
     "text": [
      "INFO:sqlalchemy.engine.base.Engine:SELECT od.OrderId,\n",
      "                            SUM((od.UnitPrice * (1 - od.Discount)) * od.Quantity) Invoice_total\n",
      "                            FROM OrderDetail od\n",
      "                            JOIN [Order] o ON od.OrderId = o.Id\n",
      "                            JOIN Employee e ON o.EmployeeId = e.Id\n",
      "                            WHERE e.City != \"London\"\n",
      "                            GROUP BY od.OrderId\n",
      "                            ORDER BY e.LastName\n",
      "                    \n"
     ]
    },
    {
     "name": "stdout",
     "output_type": "stream",
     "text": [
      "2019-02-03 15:35:46,272 INFO sqlalchemy.engine.base.Engine ()\n"
     ]
    },
    {
     "name": "stderr",
     "output_type": "stream",
     "text": [
      "INFO:sqlalchemy.engine.base.Engine:()\n"
     ]
    }
   ],
   "source": [
    "#Get invoice totals for employees in the London office\n",
    "london_invoices = pd.read_sql_query('''SELECT od.OrderId,\n",
    "                            SUM((od.UnitPrice * (1 - od.Discount)) * od.Quantity) Invoice_total\n",
    "                            FROM OrderDetail od\n",
    "                            JOIN [Order] o ON od.OrderId = o.Id\n",
    "                            JOIN Employee e ON o.EmployeeId = e.Id\n",
    "                            WHERE e.City = \"London\"\n",
    "                            GROUP BY od.OrderId\n",
    "                            ORDER BY e.LastName\n",
    "                    ''', engine)\n",
    "\n",
    "#Get invoice totals for employees in the PNW offices\n",
    "pnw_invoices = pd.read_sql_query('''SELECT od.OrderId,\n",
    "                            SUM((od.UnitPrice * (1 - od.Discount)) * od.Quantity) Invoice_total\n",
    "                            FROM OrderDetail od\n",
    "                            JOIN [Order] o ON od.OrderId = o.Id\n",
    "                            JOIN Employee e ON o.EmployeeId = e.Id\n",
    "                            WHERE e.City != \"London\"\n",
    "                            GROUP BY od.OrderId\n",
    "                            ORDER BY e.LastName\n",
    "                    ''', engine)"
   ]
  },
  {
   "cell_type": "code",
   "execution_count": 255,
   "metadata": {},
   "outputs": [
    {
     "data": {
      "text/html": [
       "<div>\n",
       "<style scoped>\n",
       "    .dataframe tbody tr th:only-of-type {\n",
       "        vertical-align: middle;\n",
       "    }\n",
       "\n",
       "    .dataframe tbody tr th {\n",
       "        vertical-align: top;\n",
       "    }\n",
       "\n",
       "    .dataframe thead th {\n",
       "        text-align: right;\n",
       "    }\n",
       "</style>\n",
       "<table border=\"1\" class=\"dataframe\">\n",
       "  <thead>\n",
       "    <tr style=\"text-align: right;\">\n",
       "      <th></th>\n",
       "      <th>OrderId</th>\n",
       "      <th>Invoice_total</th>\n",
       "    </tr>\n",
       "  </thead>\n",
       "  <tbody>\n",
       "    <tr>\n",
       "      <th>0</th>\n",
       "      <td>10248</td>\n",
       "      <td>440.00</td>\n",
       "    </tr>\n",
       "    <tr>\n",
       "      <th>1</th>\n",
       "      <td>10254</td>\n",
       "      <td>556.62</td>\n",
       "    </tr>\n",
       "    <tr>\n",
       "      <th>2</th>\n",
       "      <td>10269</td>\n",
       "      <td>642.20</td>\n",
       "    </tr>\n",
       "    <tr>\n",
       "      <th>3</th>\n",
       "      <td>10297</td>\n",
       "      <td>1420.00</td>\n",
       "    </tr>\n",
       "    <tr>\n",
       "      <th>4</th>\n",
       "      <td>10320</td>\n",
       "      <td>516.00</td>\n",
       "    </tr>\n",
       "  </tbody>\n",
       "</table>\n",
       "</div>"
      ],
      "text/plain": [
       "   OrderId  Invoice_total\n",
       "0    10248         440.00\n",
       "1    10254         556.62\n",
       "2    10269         642.20\n",
       "3    10297        1420.00\n",
       "4    10320         516.00"
      ]
     },
     "execution_count": 255,
     "metadata": {},
     "output_type": "execute_result"
    }
   ],
   "source": [
    "#Taking a look at the data\n",
    "london_invoices.head()"
   ]
  },
  {
   "cell_type": "code",
   "execution_count": 256,
   "metadata": {},
   "outputs": [
    {
     "data": {
      "text/html": [
       "<div>\n",
       "<style scoped>\n",
       "    .dataframe tbody tr th:only-of-type {\n",
       "        vertical-align: middle;\n",
       "    }\n",
       "\n",
       "    .dataframe tbody tr th {\n",
       "        vertical-align: top;\n",
       "    }\n",
       "\n",
       "    .dataframe thead th {\n",
       "        text-align: right;\n",
       "    }\n",
       "</style>\n",
       "<table border=\"1\" class=\"dataframe\">\n",
       "  <thead>\n",
       "    <tr style=\"text-align: right;\">\n",
       "      <th></th>\n",
       "      <th>OrderId</th>\n",
       "      <th>Invoice_total</th>\n",
       "    </tr>\n",
       "  </thead>\n",
       "  <tbody>\n",
       "    <tr>\n",
       "      <th>0</th>\n",
       "      <td>10262</td>\n",
       "      <td>584.0</td>\n",
       "    </tr>\n",
       "    <tr>\n",
       "      <th>1</th>\n",
       "      <td>10268</td>\n",
       "      <td>1101.2</td>\n",
       "    </tr>\n",
       "    <tr>\n",
       "      <th>2</th>\n",
       "      <td>10276</td>\n",
       "      <td>420.0</td>\n",
       "    </tr>\n",
       "    <tr>\n",
       "      <th>3</th>\n",
       "      <td>10278</td>\n",
       "      <td>1488.8</td>\n",
       "    </tr>\n",
       "    <tr>\n",
       "      <th>4</th>\n",
       "      <td>10279</td>\n",
       "      <td>351.0</td>\n",
       "    </tr>\n",
       "  </tbody>\n",
       "</table>\n",
       "</div>"
      ],
      "text/plain": [
       "   OrderId  Invoice_total\n",
       "0    10262          584.0\n",
       "1    10268         1101.2\n",
       "2    10276          420.0\n",
       "3    10278         1488.8\n",
       "4    10279          351.0"
      ]
     },
     "execution_count": 256,
     "metadata": {},
     "output_type": "execute_result"
    }
   ],
   "source": [
    "pnw_invoices.head()"
   ]
  },
  {
   "cell_type": "code",
   "execution_count": 253,
   "metadata": {},
   "outputs": [
    {
     "data": {
      "text/plain": [
       "(224, 606)"
      ]
     },
     "execution_count": 253,
     "metadata": {},
     "output_type": "execute_result"
    }
   ],
   "source": [
    "london_invoices.shape[0], pnw_invoices.shape[0]"
   ]
  },
  {
   "cell_type": "markdown",
   "metadata": {},
   "source": [
    "We can compare these two populations directly. We won't take samples from them. And since we want to know whether one was greater than/less than the other, we'll use a one-tailed test."
   ]
  },
  {
   "cell_type": "markdown",
   "metadata": {},
   "source": [
    "## The experiment: a one-tailed t-test"
   ]
  },
  {
   "cell_type": "code",
   "execution_count": 121,
   "metadata": {},
   "outputs": [],
   "source": [
    "#Value to compare to p-value\n",
    "alpha = 0.05\n",
    "\n",
    "#A control group from the London invoices\n",
    "#A treatment group from the PNW invoices\n",
    "control2 = london_invoices['Invoice_total']\n",
    "treatment2 = pnw_invoices['Invoice_total']"
   ]
  },
  {
   "cell_type": "markdown",
   "metadata": {},
   "source": [
    "We'll use a t-statistic calculated in a SciPy module to find a p-value to compare to the alpha value here."
   ]
  },
  {
   "cell_type": "code",
   "execution_count": 122,
   "metadata": {},
   "outputs": [
    {
     "name": "stderr",
     "output_type": "stream",
     "text": [
      "C:\\Users\\Stee\\Anaconda3good\\lib\\site-packages\\scipy\\stats\\stats.py:1713: FutureWarning: Using a non-tuple sequence for multidimensional indexing is deprecated; use `arr[tuple(seq)]` instead of `arr[seq]`. In the future this will be interpreted as an array index, `arr[np.array(seq)]`, which will result either in an error or a different result.\n",
      "  return np.add.reduce(sorted[indexer] * weights, axis=axis) / sumval\n"
     ]
    },
    {
     "data": {
      "image/png": "[encoded data removed]",
      "text/plain": [
       "<Figure size 864x432 with 1 Axes>"
      ]
     },
     "metadata": {},
     "output_type": "display_data"
    }
   ],
   "source": [
    "#Plot both distributions\n",
    "\n",
    "sns.set(color_codes = True)\n",
    "sns.set(rc={'figure.figsize':(12,6)})\n",
    "sns.distplot(control2, label = \"control group (London)\")\n",
    "sns.distplot(treatment2, label = \"treatment group (PNW)\")\n",
    "plt.axvline(control2.mean(), color = 'darkblue', label = 'control mean')\n",
    "plt.axvline(treatment2.mean(), color = 'darkorange', label = 'treatment mean')\n",
    "plt.title('Averages revenue per invoice, London office vs PNW offices')\n",
    "plt.legend()\n",
    "plt.show()"
   ]
  },
  {
   "cell_type": "code",
   "execution_count": 123,
   "metadata": {},
   "outputs": [
    {
     "name": "stdout",
     "output_type": "stream",
     "text": [
      "London office invoice mean: 1538.311220982143\n",
      "Number of London offices invoices: 224\n",
      "\n",
      "\n",
      "PNW office invoice mean: 1520.1507029702975\n",
      "Number of PNW office invoices: 606\n"
     ]
    }
   ],
   "source": [
    "print('London office invoice mean:', control2.mean())\n",
    "print('Number of London offices invoices:', len(control2))\n",
    "print('\\n')\n",
    "print('PNW office invoice mean:', treatment2.mean())\n",
    "print('Number of PNW office invoices:', len(treatment2))"
   ]
  },
  {
   "cell_type": "code",
   "execution_count": 125,
   "metadata": {},
   "outputs": [
    {
     "name": "stdout",
     "output_type": "stream",
     "text": [
      "T stat is 0.12383782386231988\n",
      "P-value is 0.9015080381474158\n",
      "P-value is too high to reject null hypothesis.\n",
      "Cohen's D is 0.005109731621819946\n"
     ]
    }
   ],
   "source": [
    "t2, p2 = stats.ttest_ind(control2,treatment2, equal_var = False)\n",
    "print('T stat is', t2)\n",
    "print('P-value is', p2)\n",
    "if p2 > alpha:\n",
    "    print('P-value is too high to reject null hypothesis.')\n",
    "print('Cohen\\'s D is', cohend(control2, treatment2))"
   ]
  },
  {
   "cell_type": "markdown",
   "metadata": {},
   "source": [
    "### Result\n",
    "\n",
    "Failure to reject null hypothesis. Invoice totals from the London office are, on average, the same or higher than the invoice totals from the PNW offices.\n",
    "\n",
    "*However . . .*\n",
    "\n",
    "There's a different way of looking at this issue. London sales reps may be getting the same amount of revenue from their invoices as the PNW sales reps, but what if they are getting fewer invoices overall? They may be generating less revenue for Northwind if they are fulfilling few orders."
   ]
  },
  {
   "cell_type": "code",
   "execution_count": 126,
   "metadata": {
    "scrolled": false
   },
   "outputs": [
    {
     "name": "stdout",
     "output_type": "stream",
     "text": [
      "2019-02-03 15:37:55,458 INFO sqlalchemy.engine.base.Engine SELECT e.LastName, e.City, e.HireDate,\n",
      "                            SUM((od.UnitPrice * (1 - od.Discount)) * od.Quantity) Revenue\n",
      "                            FROM OrderDetail od\n",
      "                            JOIN [Order] o ON od.OrderId = o.Id\n",
      "                            JOIN Employee e ON o.EmployeeId = e.Id\n",
      "                            GROUP BY e.LastName\n",
      "                            ORDER BY Revenue DESC\n",
      "                    \n"
     ]
    },
    {
     "name": "stderr",
     "output_type": "stream",
     "text": [
      "INFO:sqlalchemy.engine.base.Engine:SELECT e.LastName, e.City, e.HireDate,\n",
      "                            SUM((od.UnitPrice * (1 - od.Discount)) * od.Quantity) Revenue\n",
      "                            FROM OrderDetail od\n",
      "                            JOIN [Order] o ON od.OrderId = o.Id\n",
      "                            JOIN Employee e ON o.EmployeeId = e.Id\n",
      "                            GROUP BY e.LastName\n",
      "                            ORDER BY Revenue DESC\n",
      "                    \n"
     ]
    },
    {
     "name": "stdout",
     "output_type": "stream",
     "text": [
      "2019-02-03 15:37:55,460 INFO sqlalchemy.engine.base.Engine ()\n"
     ]
    },
    {
     "name": "stderr",
     "output_type": "stream",
     "text": [
      "INFO:sqlalchemy.engine.base.Engine:()\n"
     ]
    },
    {
     "data": {
      "text/html": [
       "<div>\n",
       "<style scoped>\n",
       "    .dataframe tbody tr th:only-of-type {\n",
       "        vertical-align: middle;\n",
       "    }\n",
       "\n",
       "    .dataframe tbody tr th {\n",
       "        vertical-align: top;\n",
       "    }\n",
       "\n",
       "    .dataframe thead th {\n",
       "        text-align: right;\n",
       "    }\n",
       "</style>\n",
       "<table border=\"1\" class=\"dataframe\">\n",
       "  <thead>\n",
       "    <tr style=\"text-align: right;\">\n",
       "      <th></th>\n",
       "      <th>LastName</th>\n",
       "      <th>City</th>\n",
       "      <th>HireDate</th>\n",
       "      <th>Revenue</th>\n",
       "    </tr>\n",
       "  </thead>\n",
       "  <tbody>\n",
       "    <tr>\n",
       "      <th>0</th>\n",
       "      <td>Peacock</td>\n",
       "      <td>Redmond</td>\n",
       "      <td>2025-05-03</td>\n",
       "      <td>232890.8460</td>\n",
       "    </tr>\n",
       "    <tr>\n",
       "      <th>1</th>\n",
       "      <td>Leverling</td>\n",
       "      <td>Kirkland</td>\n",
       "      <td>2024-04-01</td>\n",
       "      <td>202812.8430</td>\n",
       "    </tr>\n",
       "    <tr>\n",
       "      <th>2</th>\n",
       "      <td>Davolio</td>\n",
       "      <td>Seattle</td>\n",
       "      <td>2024-05-01</td>\n",
       "      <td>192107.6045</td>\n",
       "    </tr>\n",
       "    <tr>\n",
       "      <th>3</th>\n",
       "      <td>Fuller</td>\n",
       "      <td>Tacoma</td>\n",
       "      <td>2024-08-14</td>\n",
       "      <td>166537.7550</td>\n",
       "    </tr>\n",
       "    <tr>\n",
       "      <th>4</th>\n",
       "      <td>Callahan</td>\n",
       "      <td>Seattle</td>\n",
       "      <td>2026-03-05</td>\n",
       "      <td>126862.2775</td>\n",
       "    </tr>\n",
       "    <tr>\n",
       "      <th>5</th>\n",
       "      <td>King</td>\n",
       "      <td>London</td>\n",
       "      <td>2026-01-02</td>\n",
       "      <td>124568.2350</td>\n",
       "    </tr>\n",
       "    <tr>\n",
       "      <th>6</th>\n",
       "      <td>Dodsworth</td>\n",
       "      <td>London</td>\n",
       "      <td>2026-11-15</td>\n",
       "      <td>77308.0665</td>\n",
       "    </tr>\n",
       "    <tr>\n",
       "      <th>7</th>\n",
       "      <td>Suyama</td>\n",
       "      <td>London</td>\n",
       "      <td>2025-10-17</td>\n",
       "      <td>73913.1295</td>\n",
       "    </tr>\n",
       "    <tr>\n",
       "      <th>8</th>\n",
       "      <td>Buchanan</td>\n",
       "      <td>London</td>\n",
       "      <td>2025-10-17</td>\n",
       "      <td>68792.2825</td>\n",
       "    </tr>\n",
       "  </tbody>\n",
       "</table>\n",
       "</div>"
      ],
      "text/plain": [
       "    LastName      City    HireDate      Revenue\n",
       "0    Peacock   Redmond  2025-05-03  232890.8460\n",
       "1  Leverling  Kirkland  2024-04-01  202812.8430\n",
       "2    Davolio   Seattle  2024-05-01  192107.6045\n",
       "3     Fuller    Tacoma  2024-08-14  166537.7550\n",
       "4   Callahan   Seattle  2026-03-05  126862.2775\n",
       "5       King    London  2026-01-02  124568.2350\n",
       "6  Dodsworth    London  2026-11-15   77308.0665\n",
       "7     Suyama    London  2025-10-17   73913.1295\n",
       "8   Buchanan    London  2025-10-17   68792.2825"
      ]
     },
     "execution_count": 126,
     "metadata": {},
     "output_type": "execute_result"
    }
   ],
   "source": [
    "#How much revenue is generated by each employee?\n",
    "#Revenue per employee\n",
    "emp_rev = pd.read_sql_query('''SELECT e.LastName, e.City, e.HireDate,\n",
    "                            SUM((od.UnitPrice * (1 - od.Discount)) * od.Quantity) Revenue\n",
    "                            FROM OrderDetail od\n",
    "                            JOIN [Order] o ON od.OrderId = o.Id\n",
    "                            JOIN Employee e ON o.EmployeeId = e.Id\n",
    "                            GROUP BY e.LastName\n",
    "                            ORDER BY Revenue DESC\n",
    "                    ''', engine)\n",
    "emp_rev"
   ]
  },
  {
   "cell_type": "markdown",
   "metadata": {},
   "source": [
    "The employees in the London office are generating less revenue than the employees in the PNW office. Hire date doesn't appear to directly correlate to revenue."
   ]
  },
  {
   "cell_type": "markdown",
   "metadata": {},
   "source": [
    "## Insights\n",
    "\n",
    "Our experiment showed that invoice totals from the London sales reps are not, in fact, lower than those of the PNW office. However, the 4 **London employees generate less overall revenue.** In order to match the PNW employees, the London employees would need to fulfill more orders.\n",
    "\n",
    "But can they? **We don't know why** they aren't fulfilling as many orders: do they have more bureaucratic hurdles to overcome? Are their customers more difficult? **Are they just lazy?** In order to come up with next steps for the London office, we will **need to collect more data**."
   ]
  },
  {
   "cell_type": "markdown",
   "metadata": {},
   "source": [
    "<a id=\"hypo3\"></a>"
   ]
  },
  {
   "cell_type": "markdown",
   "metadata": {},
   "source": [
    "[(Back to top)](#top)\n",
    "\n",
    "# Hypothesis Test 3: Sales in 2013 v. 2014\n",
    "\n",
    ">Did average sales decline in 2014 compared to 2013?\n",
    "\n",
    "### What are we measuring?\n",
    "\n",
    "There is more than one way of measuring sales. We could calculate total revenue in each year, but that would depend on our having records of all sales in both years. We will use the average of invoice totals because they are an intuitive unit for those making the sales, our employees, and for those making payment, our customers.\n",
    "\n",
    "### The hypotheses\n",
    "\n",
    ">**Null hypothesis**: Average sales in 2013 were less than or equal to average sales in 2014.\n",
    "\n",
    ">>Control3 (2013 sales) <= Treatment3 (2014 sales)\n",
    "\n",
    ">**Alternative hypothesis**: Average sales in 2013  were greater than average sales in 2014.\n",
    "\n",
    ">>Control3 (2013 sales) > Treatment3 (2014 sales)\n",
    "\n",
    "### The data\n",
    "\n",
    "Average sales will be measured by taking the mean of invoice totals associated with each year. Each invoice total will be the sum of subtotals per order, where each subtotal on an order is unit price * (1 - discount) * quantity."
   ]
  },
  {
   "cell_type": "code",
   "execution_count": 128,
   "metadata": {
    "scrolled": false
   },
   "outputs": [
    {
     "name": "stdout",
     "output_type": "stream",
     "text": [
      "2019-02-03 15:40:18,699 INFO sqlalchemy.engine.base.Engine SELECT od.OrderId,\n",
      "                            SUM((od.UnitPrice * (1 - od.Discount)) * od.Quantity) Invoice_total\n",
      "                            FROM OrderDetail od\n",
      "                            JOIN [Order] o ON od.OrderId = o.Id\n",
      "                            WHERE o.OrderDate LIKE \"2013%\"\n",
      "                            GROUP BY od.OrderId\n",
      "                    \n"
     ]
    },
    {
     "name": "stderr",
     "output_type": "stream",
     "text": [
      "INFO:sqlalchemy.engine.base.Engine:SELECT od.OrderId,\n",
      "                            SUM((od.UnitPrice * (1 - od.Discount)) * od.Quantity) Invoice_total\n",
      "                            FROM OrderDetail od\n",
      "                            JOIN [Order] o ON od.OrderId = o.Id\n",
      "                            WHERE o.OrderDate LIKE \"2013%\"\n",
      "                            GROUP BY od.OrderId\n",
      "                    \n"
     ]
    },
    {
     "name": "stdout",
     "output_type": "stream",
     "text": [
      "2019-02-03 15:40:18,700 INFO sqlalchemy.engine.base.Engine ()\n"
     ]
    },
    {
     "name": "stderr",
     "output_type": "stream",
     "text": [
      "INFO:sqlalchemy.engine.base.Engine:()\n"
     ]
    },
    {
     "name": "stdout",
     "output_type": "stream",
     "text": [
      "2019-02-03 15:40:18,708 INFO sqlalchemy.engine.base.Engine SELECT od.OrderId,\n",
      "                            SUM((od.UnitPrice * (1 - od.Discount)) * od.Quantity) Invoice_total\n",
      "                            FROM OrderDetail od\n",
      "                            JOIN [Order] o ON od.OrderId = o.Id\n",
      "                            WHERE o.OrderDate LIKE \"2014%\"\n",
      "                            GROUP BY od.OrderId\n",
      "                    \n"
     ]
    },
    {
     "name": "stderr",
     "output_type": "stream",
     "text": [
      "INFO:sqlalchemy.engine.base.Engine:SELECT od.OrderId,\n",
      "                            SUM((od.UnitPrice * (1 - od.Discount)) * od.Quantity) Invoice_total\n",
      "                            FROM OrderDetail od\n",
      "                            JOIN [Order] o ON od.OrderId = o.Id\n",
      "                            WHERE o.OrderDate LIKE \"2014%\"\n",
      "                            GROUP BY od.OrderId\n",
      "                    \n"
     ]
    },
    {
     "name": "stdout",
     "output_type": "stream",
     "text": [
      "2019-02-03 15:40:18,709 INFO sqlalchemy.engine.base.Engine ()\n"
     ]
    },
    {
     "name": "stderr",
     "output_type": "stream",
     "text": [
      "INFO:sqlalchemy.engine.base.Engine:()\n"
     ]
    }
   ],
   "source": [
    "#Get invoices for 2013\n",
    "invoices_2013 = pd.read_sql_query('''SELECT od.OrderId,\n",
    "                            SUM((od.UnitPrice * (1 - od.Discount)) * od.Quantity) Invoice_total\n",
    "                            FROM OrderDetail od\n",
    "                            JOIN [Order] o ON od.OrderId = o.Id\n",
    "                            WHERE o.OrderDate LIKE \"2013%\"\n",
    "                            GROUP BY od.OrderId\n",
    "                    ''', engine)\n",
    "#Get invoices for 2013\n",
    "invoices_2014 = pd.read_sql_query('''SELECT od.OrderId,\n",
    "                            SUM((od.UnitPrice * (1 - od.Discount)) * od.Quantity) Invoice_total\n",
    "                            FROM OrderDetail od\n",
    "                            JOIN [Order] o ON od.OrderId = o.Id\n",
    "                            WHERE o.OrderDate LIKE \"2014%\"\n",
    "                            GROUP BY od.OrderId\n",
    "                    ''', engine)"
   ]
  },
  {
   "cell_type": "code",
   "execution_count": 259,
   "metadata": {},
   "outputs": [
    {
     "data": {
      "text/html": [
       "<div>\n",
       "<style scoped>\n",
       "    .dataframe tbody tr th:only-of-type {\n",
       "        vertical-align: middle;\n",
       "    }\n",
       "\n",
       "    .dataframe tbody tr th {\n",
       "        vertical-align: top;\n",
       "    }\n",
       "\n",
       "    .dataframe thead th {\n",
       "        text-align: right;\n",
       "    }\n",
       "</style>\n",
       "<table border=\"1\" class=\"dataframe\">\n",
       "  <thead>\n",
       "    <tr style=\"text-align: right;\">\n",
       "      <th></th>\n",
       "      <th>OrderId</th>\n",
       "      <th>Invoice_total</th>\n",
       "    </tr>\n",
       "  </thead>\n",
       "  <tbody>\n",
       "    <tr>\n",
       "      <th>0</th>\n",
       "      <td>10400</td>\n",
       "      <td>3063.000</td>\n",
       "    </tr>\n",
       "    <tr>\n",
       "      <th>1</th>\n",
       "      <td>10401</td>\n",
       "      <td>3868.600</td>\n",
       "    </tr>\n",
       "    <tr>\n",
       "      <th>2</th>\n",
       "      <td>10402</td>\n",
       "      <td>2713.500</td>\n",
       "    </tr>\n",
       "    <tr>\n",
       "      <th>3</th>\n",
       "      <td>10403</td>\n",
       "      <td>855.015</td>\n",
       "    </tr>\n",
       "    <tr>\n",
       "      <th>4</th>\n",
       "      <td>10404</td>\n",
       "      <td>1591.250</td>\n",
       "    </tr>\n",
       "  </tbody>\n",
       "</table>\n",
       "</div>"
      ],
      "text/plain": [
       "   OrderId  Invoice_total\n",
       "0    10400       3063.000\n",
       "1    10401       3868.600\n",
       "2    10402       2713.500\n",
       "3    10403        855.015\n",
       "4    10404       1591.250"
      ]
     },
     "execution_count": 259,
     "metadata": {},
     "output_type": "execute_result"
    }
   ],
   "source": [
    "#Take a look at the data\n",
    "invoices_2013.head()"
   ]
  },
  {
   "cell_type": "code",
   "execution_count": 260,
   "metadata": {},
   "outputs": [
    {
     "data": {
      "text/plain": [
       "(408, 270)"
      ]
     },
     "execution_count": 260,
     "metadata": {},
     "output_type": "execute_result"
    }
   ],
   "source": [
    "invoices_2013.shape[0], invoices_2014.shape[0]"
   ]
  },
  {
   "cell_type": "markdown",
   "metadata": {},
   "source": [
    "We can use both these populations without sampling from them."
   ]
  },
  {
   "cell_type": "markdown",
   "metadata": {},
   "source": [
    "### The experiment: a one-tailed t-test"
   ]
  },
  {
   "cell_type": "code",
   "execution_count": 129,
   "metadata": {},
   "outputs": [],
   "source": [
    "alpha = 0.05\n",
    "\n",
    "#Control group from 2013 invoices\n",
    "#Treatment group from 2014 invoices\n",
    "control3 = invoices_2013['Invoice_total']\n",
    "treatment3 = invoices_2014['Invoice_total']"
   ]
  },
  {
   "cell_type": "code",
   "execution_count": 130,
   "metadata": {},
   "outputs": [
    {
     "name": "stderr",
     "output_type": "stream",
     "text": [
      "C:\\Users\\Stee\\Anaconda3good\\lib\\site-packages\\scipy\\stats\\stats.py:1713: FutureWarning: Using a non-tuple sequence for multidimensional indexing is deprecated; use `arr[tuple(seq)]` instead of `arr[seq]`. In the future this will be interpreted as an array index, `arr[np.array(seq)]`, which will result either in an error or a different result.\n",
      "  return np.add.reduce(sorted[indexer] * weights, axis=axis) / sumval\n"
     ]
    },
    {
     "data": {
      "image/png": "[encoded data removed]",
      "text/plain": [
       "<Figure size 864x432 with 1 Axes>"
      ]
     },
     "metadata": {},
     "output_type": "display_data"
    }
   ],
   "source": [
    "#Plot the distributions\n",
    "sns.set(color_codes = True)\n",
    "sns.set(rc={'figure.figsize':(12,6)})\n",
    "sns.distplot(control3, label = \"control group (2013)\")\n",
    "sns.distplot(treatment3, label = \"treatment group (2014)\")\n",
    "plt.axvline(control3.mean(), color = 'darkblue', label = 'control mean (2013)')\n",
    "plt.axvline(treatment3.mean(), color = 'darkorange', label = 'treatment mean (2014)')\n",
    "plt.title('Averages sales, 2013 vs 2014')\n",
    "plt.legend()\n",
    "plt.show()"
   ]
  },
  {
   "cell_type": "code",
   "execution_count": 131,
   "metadata": {
    "scrolled": true
   },
   "outputs": [
    {
     "name": "stdout",
     "output_type": "stream",
     "text": [
      "T stat is -0.7448729960407308\n",
      "P-value is 0.4567315145182581\n",
      "P-value is too high to reject null hypothesis.\n",
      "Cohen's D is -0.04818078173435724\n"
     ]
    }
   ],
   "source": [
    "t3, p3 = stats.ttest_ind(control3, treatment3, equal_var = False)\n",
    "print('T stat is', t3)\n",
    "print('P-value is', p3)\n",
    "if p3 > alpha:\n",
    "    print('P-value is too high to reject null hypothesis.')\n",
    "print('Cohen\\'s D is', cohend(control3, treatment3))"
   ]
  },
  {
   "cell_type": "markdown",
   "metadata": {},
   "source": [
    "### Result\n",
    "\n",
    "Failure to reject null hypothesis.  Average sales in 2013 were less than or equal to average sales in 2014.\n",
    "\n",
    "*But what if . . .*\n",
    "\n",
    "What if lower revenue taken in by Northwind was lower in 2013 than in 2014? This is easy to calculate from the tables we've already created."
   ]
  },
  {
   "cell_type": "code",
   "execution_count": 266,
   "metadata": {
    "scrolled": true
   },
   "outputs": [
    {
     "name": "stdout",
     "output_type": "stream",
     "text": [
      "Revenue in 2013: 617085.2\n",
      "Revenue in 2014: 440623.87\n"
     ]
    }
   ],
   "source": [
    "print('Revenue in 2013:', round(invoices_2013['Invoice_total'].sum(), 2))\n",
    "print('Revenue in 2014:', round(invoices_2014['Invoice_total'].sum(), 2))"
   ]
  },
  {
   "cell_type": "markdown",
   "metadata": {},
   "source": [
    "Revenue was lower in 2014! As a sanity check, we should make sure that orders were fulfilled throughout the full calendar year."
   ]
  },
  {
   "cell_type": "code",
   "execution_count": 49,
   "metadata": {
    "scrolled": true
   },
   "outputs": [
    {
     "name": "stdout",
     "output_type": "stream",
     "text": [
      "2019-02-03 10:35:27,980 INFO sqlalchemy.engine.base.Engine SELECT od.OrderId, o.OrderDate,\n",
      "                            SUM((od.UnitPrice * (1 - od.Discount)) * od.Quantity) Invoice_total\n",
      "                            FROM OrderDetail od\n",
      "                            JOIN [Order] o ON od.OrderId = o.Id\n",
      "                            WHERE o.OrderDate LIKE \"2014%\"\n",
      "                            GROUP BY od.OrderId\n",
      "                            ORDER BY o.OrderDate DESC\n",
      "                    \n"
     ]
    },
    {
     "name": "stderr",
     "output_type": "stream",
     "text": [
      "INFO:sqlalchemy.engine.base.Engine:SELECT od.OrderId, o.OrderDate,\n",
      "                            SUM((od.UnitPrice * (1 - od.Discount)) * od.Quantity) Invoice_total\n",
      "                            FROM OrderDetail od\n",
      "                            JOIN [Order] o ON od.OrderId = o.Id\n",
      "                            WHERE o.OrderDate LIKE \"2014%\"\n",
      "                            GROUP BY od.OrderId\n",
      "                            ORDER BY o.OrderDate DESC\n",
      "                    \n"
     ]
    },
    {
     "name": "stdout",
     "output_type": "stream",
     "text": [
      "2019-02-03 10:35:27,981 INFO sqlalchemy.engine.base.Engine ()\n"
     ]
    },
    {
     "name": "stderr",
     "output_type": "stream",
     "text": [
      "INFO:sqlalchemy.engine.base.Engine:()\n"
     ]
    },
    {
     "data": {
      "text/html": [
       "<div>\n",
       "<style scoped>\n",
       "    .dataframe tbody tr th:only-of-type {\n",
       "        vertical-align: middle;\n",
       "    }\n",
       "\n",
       "    .dataframe tbody tr th {\n",
       "        vertical-align: top;\n",
       "    }\n",
       "\n",
       "    .dataframe thead th {\n",
       "        text-align: right;\n",
       "    }\n",
       "</style>\n",
       "<table border=\"1\" class=\"dataframe\">\n",
       "  <thead>\n",
       "    <tr style=\"text-align: right;\">\n",
       "      <th></th>\n",
       "      <th>OrderId</th>\n",
       "      <th>OrderDate</th>\n",
       "      <th>Invoice_total</th>\n",
       "    </tr>\n",
       "  </thead>\n",
       "  <tbody>\n",
       "    <tr>\n",
       "      <th>0</th>\n",
       "      <td>11074</td>\n",
       "      <td>2014-05-06</td>\n",
       "      <td>232.0850</td>\n",
       "    </tr>\n",
       "    <tr>\n",
       "      <th>1</th>\n",
       "      <td>11075</td>\n",
       "      <td>2014-05-06</td>\n",
       "      <td>498.1000</td>\n",
       "    </tr>\n",
       "    <tr>\n",
       "      <th>2</th>\n",
       "      <td>11076</td>\n",
       "      <td>2014-05-06</td>\n",
       "      <td>792.7500</td>\n",
       "    </tr>\n",
       "    <tr>\n",
       "      <th>3</th>\n",
       "      <td>11077</td>\n",
       "      <td>2014-05-06</td>\n",
       "      <td>1255.7205</td>\n",
       "    </tr>\n",
       "    <tr>\n",
       "      <th>4</th>\n",
       "      <td>11070</td>\n",
       "      <td>2014-05-05</td>\n",
       "      <td>1629.9750</td>\n",
       "    </tr>\n",
       "  </tbody>\n",
       "</table>\n",
       "</div>"
      ],
      "text/plain": [
       "   OrderId   OrderDate  Invoice_total\n",
       "0    11074  2014-05-06       232.0850\n",
       "1    11075  2014-05-06       498.1000\n",
       "2    11076  2014-05-06       792.7500\n",
       "3    11077  2014-05-06      1255.7205\n",
       "4    11070  2014-05-05      1629.9750"
      ]
     },
     "execution_count": 49,
     "metadata": {},
     "output_type": "execute_result"
    }
   ],
   "source": [
    "#Modified query to show and order by datetime in descending order (most recent date first)\n",
    "invoices_2014_by_date = pd.read_sql_query('''SELECT od.OrderId, o.OrderDate,\n",
    "                            SUM((od.UnitPrice * (1 - od.Discount)) * od.Quantity) Invoice_total\n",
    "                            FROM OrderDetail od\n",
    "                            JOIN [Order] o ON od.OrderId = o.Id\n",
    "                            WHERE o.OrderDate LIKE \"2014%\"\n",
    "                            GROUP BY od.OrderId\n",
    "                            ORDER BY o.OrderDate DESC\n",
    "                    ''', engine)\n",
    "invoices_2014_by_date.head()"
   ]
  },
  {
   "cell_type": "markdown",
   "metadata": {},
   "source": [
    "So the last order from 2014 was placed in May. \n",
    "\n",
    "## Insights\n",
    "\n",
    "Whoever made the original complaint about declining revenue has not been vindicated--yet. **Revenue per sale did not fall** from 2013 to 2014, and we **don't know for sure if overall revenue fell** because the records aren't complete.\n",
    "\n",
    "It wasn't the case that sales reps \"pushed harder\" on each sale in 2013; nor was it the case that they started slacking in 2014. \n",
    "\n",
    "If we can get our hands on the invoices for the rest of the year 2014, we'll be able to make comparisons about overall revenue."
   ]
  },
  {
   "cell_type": "markdown",
   "metadata": {},
   "source": [
    "<a id=\"hypo4\"></a>"
   ]
  },
  {
   "cell_type": "markdown",
   "metadata": {},
   "source": [
    "[(Back to top)](#top)\n",
    "\n",
    "# Hypothesis test 4: Orders and beverages\n",
    "\n",
    ">Do orders containing beverages bring in more revenue on average than orders without beverages?\n",
    "\n",
    "### What are we measuring?\n",
    "\n",
    "In an effort to boost revenue, sales reps are often asked to try to push the customer to add cases of beverages onto an order before it gets fulfilled. We will measure whether this works: we will compare the invoice totals for orders that contained any beverages versus those that didn't.\n",
    "\n",
    "### The hypotheses\n",
    "\n",
    ">**Null hypothesis**: Invoice totals for orders not containing beverages are greater than or equal to totals for orders containing beverages.\n",
    "\n",
    ">>Control4 (orders without beverages) >= Treatment4 (orders with beverages)\n",
    "\n",
    ">**Alternative hypothesis**: Invoice totals for orders not containing beverages are less than invoice totals for orders containing beverages.\n",
    "\n",
    ">>Control4 (orders without beverages) < Treatment4 (orders with beverages)\n",
    "\n",
    "### The data\n",
    "\n",
    "An invoice total will be the sum of subtotals per order, where each subtotal on an order is unit price * (1 - discount) * quantity. \n",
    "\n",
    "The control group will exclude invoices containing order details matching the \"Beverage\" product category. \n",
    "\n",
    "The treatment group exclude invoices without order details matching the \"Beverage\" product category."
   ]
  },
  {
   "cell_type": "code",
   "execution_count": 133,
   "metadata": {
    "scrolled": false
   },
   "outputs": [
    {
     "name": "stdout",
     "output_type": "stream",
     "text": [
      "2019-02-03 15:51:20,444 INFO sqlalchemy.engine.base.Engine SELECT od.OrderId, e.LastName,\n",
      "                            SUM(CASE WHEN c.CategoryName == 'Beverages'\n",
      "                                THEN (od.UnitPrice * (1 - od.Discount)) * od.Quantity\n",
      "                                ELSE 0 END\n",
      "                                ) Bev_rev,\n",
      "                            SUM(CASE WHEN c.CategoryName == 'Dairy Products'\n",
      "                                THEN (od.UnitPrice * (1 - od.Discount)) * od.Quantity\n",
      "                                ELSE 0 END\n",
      "                                ) Dairy_rev,\n",
      "                            SUM(CASE WHEN c.CategoryName == 'Confections'\n",
      "                                THEN (od.UnitPrice * (1 - od.Discount)) * od.Quantity\n",
      "                                ELSE 0 END\n",
      "                                ) Confe_rev,\n",
      "                            SUM(CASE WHEN c.CategoryName == 'Meat/Poultry'\n",
      "                                THEN (od.UnitPrice * (1 - od.Discount)) * od.Quantity\n",
      "                                ELSE 0 END\n",
      "                                ) Meat_rev,\n",
      "                            SUM(CASE WHEN c.CategoryName == 'Seafood'\n",
      "                                THEN (od.UnitPrice * (1 - od.Discount)) * od.Quantity\n",
      "                                ELSE 0 END\n",
      "                                ) Seaf_rev,\n",
      "                            SUM(CASE WHEN c.CategoryName == 'Condiments'\n",
      "                                THEN (od.UnitPrice * (1 - od.Discount)) * od.Quantity\n",
      "                                ELSE 0 END\n",
      "                                ) Condi_rev,\n",
      "                            SUM(CASE WHEN c.CategoryName == 'Produce'\n",
      "                                THEN (od.UnitPrice * (1 - od.Discount)) * od.Quantity\n",
      "                                ELSE 0 END\n",
      "                                ) Veg_rev,\n",
      "                            SUM(CASE WHEN c.CategoryName == 'Grains/Cereals'\n",
      "                                THEN (od.UnitPrice * (1 - od.Discount)) * od.Quantity\n",
      "                                ELSE 0 END\n",
      "                                ) Grain_rev,\n",
      "                            SUM((od.UnitPrice * (1 - od.Discount)) * od.Quantity) Invoice_total\n",
      "                            FROM OrderDetail od\n",
      "                            JOIN [Order] o ON od.OrderId = o.Id\n",
      "                            JOIN Product p ON od.ProductId = p.Id\n",
      "                            JOIN Category c ON p.CategoryId = c.Id\n",
      "                            JOIN Employee e ON o.EmployeeId = e.Id\n",
      "                            GROUP BY od.OrderId\n",
      "                            ORDER BY od.OrderId\n",
      "                    \n"
     ]
    },
    {
     "name": "stderr",
     "output_type": "stream",
     "text": [
      "INFO:sqlalchemy.engine.base.Engine:SELECT od.OrderId, e.LastName,\n",
      "                            SUM(CASE WHEN c.CategoryName == 'Beverages'\n",
      "                                THEN (od.UnitPrice * (1 - od.Discount)) * od.Quantity\n",
      "                                ELSE 0 END\n",
      "                                ) Bev_rev,\n",
      "                            SUM(CASE WHEN c.CategoryName == 'Dairy Products'\n",
      "                                THEN (od.UnitPrice * (1 - od.Discount)) * od.Quantity\n",
      "                                ELSE 0 END\n",
      "                                ) Dairy_rev,\n",
      "                            SUM(CASE WHEN c.CategoryName == 'Confections'\n",
      "                                THEN (od.UnitPrice * (1 - od.Discount)) * od.Quantity\n",
      "                                ELSE 0 END\n",
      "                                ) Confe_rev,\n",
      "                            SUM(CASE WHEN c.CategoryName == 'Meat/Poultry'\n",
      "                                THEN (od.UnitPrice * (1 - od.Discount)) * od.Quantity\n",
      "                                ELSE 0 END\n",
      "                                ) Meat_rev,\n",
      "                            SUM(CASE WHEN c.CategoryName == 'Seafood'\n",
      "                                THEN (od.UnitPrice * (1 - od.Discount)) * od.Quantity\n",
      "                                ELSE 0 END\n",
      "                                ) Seaf_rev,\n",
      "                            SUM(CASE WHEN c.CategoryName == 'Condiments'\n",
      "                                THEN (od.UnitPrice * (1 - od.Discount)) * od.Quantity\n",
      "                                ELSE 0 END\n",
      "                                ) Condi_rev,\n",
      "                            SUM(CASE WHEN c.CategoryName == 'Produce'\n",
      "                                THEN (od.UnitPrice * (1 - od.Discount)) * od.Quantity\n",
      "                                ELSE 0 END\n",
      "                                ) Veg_rev,\n",
      "                            SUM(CASE WHEN c.CategoryName == 'Grains/Cereals'\n",
      "                                THEN (od.UnitPrice * (1 - od.Discount)) * od.Quantity\n",
      "                                ELSE 0 END\n",
      "                                ) Grain_rev,\n",
      "                            SUM((od.UnitPrice * (1 - od.Discount)) * od.Quantity) Invoice_total\n",
      "                            FROM OrderDetail od\n",
      "                            JOIN [Order] o ON od.OrderId = o.Id\n",
      "                            JOIN Product p ON od.ProductId = p.Id\n",
      "                            JOIN Category c ON p.CategoryId = c.Id\n",
      "                            JOIN Employee e ON o.EmployeeId = e.Id\n",
      "                            GROUP BY od.OrderId\n",
      "                            ORDER BY od.OrderId\n",
      "                    \n"
     ]
    },
    {
     "name": "stdout",
     "output_type": "stream",
     "text": [
      "2019-02-03 15:51:20,446 INFO sqlalchemy.engine.base.Engine ()\n"
     ]
    },
    {
     "name": "stderr",
     "output_type": "stream",
     "text": [
      "INFO:sqlalchemy.engine.base.Engine:()\n"
     ]
    }
   ],
   "source": [
    "#Get invoice subtotals by product category\n",
    "cat_subtotals = pd.read_sql_query('''SELECT od.OrderId, e.LastName,\n",
    "                            SUM(CASE WHEN c.CategoryName == 'Beverages'\n",
    "                                THEN (od.UnitPrice * (1 - od.Discount)) * od.Quantity\n",
    "                                ELSE 0 END\n",
    "                                ) Bev_rev,\n",
    "                            SUM(CASE WHEN c.CategoryName == 'Dairy Products'\n",
    "                                THEN (od.UnitPrice * (1 - od.Discount)) * od.Quantity\n",
    "                                ELSE 0 END\n",
    "                                ) Dairy_rev,\n",
    "                            SUM(CASE WHEN c.CategoryName == 'Confections'\n",
    "                                THEN (od.UnitPrice * (1 - od.Discount)) * od.Quantity\n",
    "                                ELSE 0 END\n",
    "                                ) Confe_rev,\n",
    "                            SUM(CASE WHEN c.CategoryName == 'Meat/Poultry'\n",
    "                                THEN (od.UnitPrice * (1 - od.Discount)) * od.Quantity\n",
    "                                ELSE 0 END\n",
    "                                ) Meat_rev,\n",
    "                            SUM(CASE WHEN c.CategoryName == 'Seafood'\n",
    "                                THEN (od.UnitPrice * (1 - od.Discount)) * od.Quantity\n",
    "                                ELSE 0 END\n",
    "                                ) Seaf_rev,\n",
    "                            SUM(CASE WHEN c.CategoryName == 'Condiments'\n",
    "                                THEN (od.UnitPrice * (1 - od.Discount)) * od.Quantity\n",
    "                                ELSE 0 END\n",
    "                                ) Condi_rev,\n",
    "                            SUM(CASE WHEN c.CategoryName == 'Produce'\n",
    "                                THEN (od.UnitPrice * (1 - od.Discount)) * od.Quantity\n",
    "                                ELSE 0 END\n",
    "                                ) Veg_rev,\n",
    "                            SUM(CASE WHEN c.CategoryName == 'Grains/Cereals'\n",
    "                                THEN (od.UnitPrice * (1 - od.Discount)) * od.Quantity\n",
    "                                ELSE 0 END\n",
    "                                ) Grain_rev,\n",
    "                            SUM((od.UnitPrice * (1 - od.Discount)) * od.Quantity) Invoice_total\n",
    "                            FROM OrderDetail od\n",
    "                            JOIN [Order] o ON od.OrderId = o.Id\n",
    "                            JOIN Product p ON od.ProductId = p.Id\n",
    "                            JOIN Category c ON p.CategoryId = c.Id\n",
    "                            JOIN Employee e ON o.EmployeeId = e.Id\n",
    "                            GROUP BY od.OrderId\n",
    "                            ORDER BY od.OrderId\n",
    "                    ''', engine)"
   ]
  },
  {
   "cell_type": "code",
   "execution_count": 284,
   "metadata": {},
   "outputs": [
    {
     "data": {
      "text/html": [
       "<div>\n",
       "<style scoped>\n",
       "    .dataframe tbody tr th:only-of-type {\n",
       "        vertical-align: middle;\n",
       "    }\n",
       "\n",
       "    .dataframe tbody tr th {\n",
       "        vertical-align: top;\n",
       "    }\n",
       "\n",
       "    .dataframe thead th {\n",
       "        text-align: right;\n",
       "    }\n",
       "</style>\n",
       "<table border=\"1\" class=\"dataframe\">\n",
       "  <thead>\n",
       "    <tr style=\"text-align: right;\">\n",
       "      <th></th>\n",
       "      <th>OrderId</th>\n",
       "      <th>LastName</th>\n",
       "      <th>Bev_rev</th>\n",
       "      <th>Dairy_rev</th>\n",
       "      <th>Confe_rev</th>\n",
       "      <th>Meat_rev</th>\n",
       "      <th>Seaf_rev</th>\n",
       "      <th>Condi_rev</th>\n",
       "      <th>Veg_rev</th>\n",
       "      <th>Grain_rev</th>\n",
       "      <th>Invoice_total</th>\n",
       "    </tr>\n",
       "  </thead>\n",
       "  <tbody>\n",
       "    <tr>\n",
       "      <th>0</th>\n",
       "      <td>10248</td>\n",
       "      <td>Buchanan</td>\n",
       "      <td>0.0</td>\n",
       "      <td>342.0</td>\n",
       "      <td>0.0</td>\n",
       "      <td>0.00</td>\n",
       "      <td>0.0</td>\n",
       "      <td>0.0</td>\n",
       "      <td>0.0</td>\n",
       "      <td>98.00</td>\n",
       "      <td>440.00</td>\n",
       "    </tr>\n",
       "    <tr>\n",
       "      <th>1</th>\n",
       "      <td>10249</td>\n",
       "      <td>Suyama</td>\n",
       "      <td>0.0</td>\n",
       "      <td>0.0</td>\n",
       "      <td>0.0</td>\n",
       "      <td>0.00</td>\n",
       "      <td>0.0</td>\n",
       "      <td>0.0</td>\n",
       "      <td>1863.4</td>\n",
       "      <td>0.00</td>\n",
       "      <td>1863.40</td>\n",
       "    </tr>\n",
       "    <tr>\n",
       "      <th>2</th>\n",
       "      <td>10250</td>\n",
       "      <td>Peacock</td>\n",
       "      <td>0.0</td>\n",
       "      <td>0.0</td>\n",
       "      <td>0.0</td>\n",
       "      <td>0.00</td>\n",
       "      <td>77.0</td>\n",
       "      <td>214.2</td>\n",
       "      <td>1261.4</td>\n",
       "      <td>0.00</td>\n",
       "      <td>1552.60</td>\n",
       "    </tr>\n",
       "    <tr>\n",
       "      <th>3</th>\n",
       "      <td>10251</td>\n",
       "      <td>Leverling</td>\n",
       "      <td>0.0</td>\n",
       "      <td>0.0</td>\n",
       "      <td>0.0</td>\n",
       "      <td>0.00</td>\n",
       "      <td>0.0</td>\n",
       "      <td>336.0</td>\n",
       "      <td>0.0</td>\n",
       "      <td>318.06</td>\n",
       "      <td>654.06</td>\n",
       "    </tr>\n",
       "    <tr>\n",
       "      <th>4</th>\n",
       "      <td>10252</td>\n",
       "      <td>Peacock</td>\n",
       "      <td>0.0</td>\n",
       "      <td>1135.5</td>\n",
       "      <td>2462.4</td>\n",
       "      <td>0.00</td>\n",
       "      <td>0.0</td>\n",
       "      <td>0.0</td>\n",
       "      <td>0.0</td>\n",
       "      <td>0.00</td>\n",
       "      <td>3597.90</td>\n",
       "    </tr>\n",
       "    <tr>\n",
       "      <th>5</th>\n",
       "      <td>10253</td>\n",
       "      <td>Leverling</td>\n",
       "      <td>604.8</td>\n",
       "      <td>200.0</td>\n",
       "      <td>640.0</td>\n",
       "      <td>0.00</td>\n",
       "      <td>0.0</td>\n",
       "      <td>0.0</td>\n",
       "      <td>0.0</td>\n",
       "      <td>0.00</td>\n",
       "      <td>1444.80</td>\n",
       "    </tr>\n",
       "    <tr>\n",
       "      <th>6</th>\n",
       "      <td>10254</td>\n",
       "      <td>Buchanan</td>\n",
       "      <td>45.9</td>\n",
       "      <td>0.0</td>\n",
       "      <td>0.0</td>\n",
       "      <td>342.72</td>\n",
       "      <td>0.0</td>\n",
       "      <td>0.0</td>\n",
       "      <td>168.0</td>\n",
       "      <td>0.00</td>\n",
       "      <td>556.62</td>\n",
       "    </tr>\n",
       "    <tr>\n",
       "      <th>7</th>\n",
       "      <td>10255</td>\n",
       "      <td>Dodsworth</td>\n",
       "      <td>304.0</td>\n",
       "      <td>1320.0</td>\n",
       "      <td>486.5</td>\n",
       "      <td>0.00</td>\n",
       "      <td>380.0</td>\n",
       "      <td>0.0</td>\n",
       "      <td>0.0</td>\n",
       "      <td>0.00</td>\n",
       "      <td>2490.50</td>\n",
       "    </tr>\n",
       "    <tr>\n",
       "      <th>8</th>\n",
       "      <td>10256</td>\n",
       "      <td>Leverling</td>\n",
       "      <td>0.0</td>\n",
       "      <td>0.0</td>\n",
       "      <td>0.0</td>\n",
       "      <td>393.00</td>\n",
       "      <td>0.0</td>\n",
       "      <td>124.8</td>\n",
       "      <td>0.0</td>\n",
       "      <td>0.00</td>\n",
       "      <td>517.80</td>\n",
       "    </tr>\n",
       "    <tr>\n",
       "      <th>9</th>\n",
       "      <td>10257</td>\n",
       "      <td>Peacock</td>\n",
       "      <td>86.4</td>\n",
       "      <td>0.0</td>\n",
       "      <td>877.5</td>\n",
       "      <td>0.00</td>\n",
       "      <td>0.0</td>\n",
       "      <td>156.0</td>\n",
       "      <td>0.0</td>\n",
       "      <td>0.00</td>\n",
       "      <td>1119.90</td>\n",
       "    </tr>\n",
       "  </tbody>\n",
       "</table>\n",
       "</div>"
      ],
      "text/plain": [
       "   OrderId   LastName  Bev_rev  Dairy_rev  Confe_rev  Meat_rev  Seaf_rev  \\\n",
       "0    10248   Buchanan      0.0      342.0        0.0      0.00       0.0   \n",
       "1    10249     Suyama      0.0        0.0        0.0      0.00       0.0   \n",
       "2    10250    Peacock      0.0        0.0        0.0      0.00      77.0   \n",
       "3    10251  Leverling      0.0        0.0        0.0      0.00       0.0   \n",
       "4    10252    Peacock      0.0     1135.5     2462.4      0.00       0.0   \n",
       "5    10253  Leverling    604.8      200.0      640.0      0.00       0.0   \n",
       "6    10254   Buchanan     45.9        0.0        0.0    342.72       0.0   \n",
       "7    10255  Dodsworth    304.0     1320.0      486.5      0.00     380.0   \n",
       "8    10256  Leverling      0.0        0.0        0.0    393.00       0.0   \n",
       "9    10257    Peacock     86.4        0.0      877.5      0.00       0.0   \n",
       "\n",
       "   Condi_rev  Veg_rev  Grain_rev  Invoice_total  \n",
       "0        0.0      0.0      98.00         440.00  \n",
       "1        0.0   1863.4       0.00        1863.40  \n",
       "2      214.2   1261.4       0.00        1552.60  \n",
       "3      336.0      0.0     318.06         654.06  \n",
       "4        0.0      0.0       0.00        3597.90  \n",
       "5        0.0      0.0       0.00        1444.80  \n",
       "6        0.0    168.0       0.00         556.62  \n",
       "7        0.0      0.0       0.00        2490.50  \n",
       "8      124.8      0.0       0.00         517.80  \n",
       "9      156.0      0.0       0.00        1119.90  "
      ]
     },
     "execution_count": 284,
     "metadata": {},
     "output_type": "execute_result"
    }
   ],
   "source": [
    "#Take a look at the data\n",
    "cat_subtotals.head(10)"
   ]
  },
  {
   "cell_type": "code",
   "execution_count": 131,
   "metadata": {},
   "outputs": [
    {
     "data": {
      "text/plain": [
       "(476, 354)"
      ]
     },
     "execution_count": 131,
     "metadata": {},
     "output_type": "execute_result"
    }
   ],
   "source": [
    "control4.shape[0], treatment4.shape[0]"
   ]
  },
  {
   "cell_type": "markdown",
   "metadata": {},
   "source": [
    "We can compare these populations directly, without sampling."
   ]
  },
  {
   "cell_type": "markdown",
   "metadata": {},
   "source": [
    "### The experiment:  a one-tailed t-test"
   ]
  },
  {
   "cell_type": "code",
   "execution_count": 134,
   "metadata": {},
   "outputs": [],
   "source": [
    "#A control group for invoice totals without beverages\n",
    "control4 = cat_subtotals[cat_subtotals['Bev_rev'] == 0.0]['Invoice_total']\n",
    "#A control group for invoice totals with beverages\n",
    "treatment4 = cat_subtotals[cat_subtotals['Bev_rev'] != 0.0]['Invoice_total']"
   ]
  },
  {
   "cell_type": "code",
   "execution_count": 135,
   "metadata": {
    "scrolled": false
   },
   "outputs": [
    {
     "name": "stderr",
     "output_type": "stream",
     "text": [
      "C:\\Users\\Stee\\Anaconda3good\\lib\\site-packages\\scipy\\stats\\stats.py:1713: FutureWarning: Using a non-tuple sequence for multidimensional indexing is deprecated; use `arr[tuple(seq)]` instead of `arr[seq]`. In the future this will be interpreted as an array index, `arr[np.array(seq)]`, which will result either in an error or a different result.\n",
      "  return np.add.reduce(sorted[indexer] * weights, axis=axis) / sumval\n"
     ]
    },
    {
     "data": {
      "image/png": "[encoded data removed]",
      "text/plain": [
       "<Figure size 864x432 with 1 Axes>"
      ]
     },
     "metadata": {},
     "output_type": "display_data"
    }
   ],
   "source": [
    "alpha = 0.05\n",
    "\n",
    "#Plot the distribution\n",
    "sns.set(color_codes = True)\n",
    "sns.set(rc={'figure.figsize':(12,6)})\n",
    "sns.distplot(control4, label = \"control group (orders w/o bev)\")\n",
    "sns.distplot(treatment4, label = \"treatment group (orders w/ bev)\")\n",
    "plt.axvline(control4.mean(), color = 'darkblue', label = 'control mean (orders w/o bev)')\n",
    "plt.axvline(treatment4.mean(), color = 'darkorange', label = 'treatment mean (orders w/ bev)')\n",
    "plt.title('Averages invoice total, with beverages vs without beverages')\n",
    "plt.legend()\n",
    "plt.show()"
   ]
  },
  {
   "cell_type": "code",
   "execution_count": 136,
   "metadata": {},
   "outputs": [
    {
     "name": "stdout",
     "output_type": "stream",
     "text": [
      "T stat is -4.266735540401764\n",
      "P-value is 2.3665448470393296e-05\n",
      "P-value is low enough to reject null hypothesis.\n",
      "Cohen's D is -0.24558713312953565\n"
     ]
    }
   ],
   "source": [
    "t4, p4 = stats.ttest_ind(control4, treatment4, equal_var = False)\n",
    "print('T stat is', t4)\n",
    "print('P-value is', p4)\n",
    "if p4 > alpha:\n",
    "    print('P-value is too high to reject null hypothesis.')\n",
    "elif p4 < alpha:\n",
    "    print('P-value is low enough to reject null hypothesis.')\n",
    "print('Cohen\\'s D is', cohend(control4, treatment4))"
   ]
  },
  {
   "cell_type": "markdown",
   "metadata": {},
   "source": [
    "### Result\n",
    "\n",
    "Null hypothesis rejected. Invoice totals for orders not containing beverages are less than invoice totals for orders containing beverages.\n",
    "\n",
    "## Insights\n",
    "\n",
    "It's a common trope in the food service world that adding on drinks to food orders will boost revenue. Here it is borne out: the **orders with beverages have higher totals**. We recommend **formalizing the \"drink push\"** as part of every sale made by a rep to a customer.\n",
    "\n",
    "It would be interesting to investigate which other categories boost revenue, and we've got the table set up for it already. But what adding something special from the confections category onto an order of cheap bulk grains? What about adding seafood to an order that already has meat? (e.g. \"While you're buying proteins...)"
   ]
  },
  {
   "cell_type": "markdown",
   "metadata": {},
   "source": [
    "<a id = \"conclusions\"></a>"
   ]
  },
  {
   "cell_type": "markdown",
   "metadata": {},
   "source": [
    "[(Back to top)](#top)\n",
    "\n",
    "# Conclusions\n",
    "\n",
    "### Test 1: Presence of discount does not have an overall effect on the number of products ordered by a customer; at the individual discount level, it does\n",
    "\n",
    "- Marketing department should neither push discounts nor stop offering them\n",
    "- Collect more data on customer behavior when offered discounts: e.g. their interaction with the website order form\n",
    "\n",
    "\n",
    "### Test 2: London sales reps do not sell less on average than PNW reps; they do sell less overall\n",
    "\n",
    "- Do not (yet) push London sales reps to match revenue taken in by PNW reps\n",
    "- Collect more data on the workflow of the London sales reps: e.g. bureaucratic hurdles\n",
    "\n",
    "### Test 3: Sales in 2013 were not higher on average than sales in 2014; data on an overall sales comparison is inconclusive.\n",
    "\n",
    "- Do not (yet) scold sales reps for not having \"pushed harder\" for each sale in 2014\n",
    "- Gather remaining invoices for 2014 to calculate overall revenue\n",
    "\n",
    "\n",
    "### Test 4: Orders without beverages bring in less revenue on average than orders with beverages\n",
    "\n",
    "- Formalize the \"drink push\" as part of every sale made by a rep to a customer\n",
    "- Collect data on the boost to revenue of other categories: e.g. confections added to bulk grains, seafood added to meat"
   ]
  },
  {
   "cell_type": "markdown",
   "metadata": {},
   "source": [
    "<a id = \"futurework\"></a>"
   ]
  },
  {
   "cell_type": "markdown",
   "metadata": {},
   "source": [
    "[(Back to top)](#top)\n",
    "\n",
    "# Future Work\n",
    "\n",
    "A starting point for more experiments in the future.\n",
    "\n",
    "## Discounts\n",
    "\n",
    "### Sales per product with and without discount"
   ]
  },
  {
   "cell_type": "code",
   "execution_count": 36,
   "metadata": {},
   "outputs": [
    {
     "name": "stdout",
     "output_type": "stream",
     "text": [
      "2019-02-03 09:44:41,314 INFO sqlalchemy.engine.base.Engine SELECT p.ProductName, od.UnitPrice,\n",
      "                            COUNT(od.Id) Times_ordered,\n",
      "                            SUM(\n",
      "                                CASE WHEN od.Discount == 0.0 \n",
      "                                THEN 1 ELSE 0 END\n",
      "                                ) not_discounted,\n",
      "                            SUM(\n",
      "                                CASE WHEN od.Discount != 0.0 \n",
      "                                THEN 1 ELSE 0 END\n",
      "                                ) discounted\n",
      "                            FROM Product p\n",
      "                            JOIN OrderDetail od on p.Id = od.ProductId\n",
      "                            GROUP BY p.ProductName\n",
      "                        \n"
     ]
    },
    {
     "name": "stderr",
     "output_type": "stream",
     "text": [
      "INFO:sqlalchemy.engine.base.Engine:SELECT p.ProductName, od.UnitPrice,\n",
      "                            COUNT(od.Id) Times_ordered,\n",
      "                            SUM(\n",
      "                                CASE WHEN od.Discount == 0.0 \n",
      "                                THEN 1 ELSE 0 END\n",
      "                                ) not_discounted,\n",
      "                            SUM(\n",
      "                                CASE WHEN od.Discount != 0.0 \n",
      "                                THEN 1 ELSE 0 END\n",
      "                                ) discounted\n",
      "                            FROM Product p\n",
      "                            JOIN OrderDetail od on p.Id = od.ProductId\n",
      "                            GROUP BY p.ProductName\n",
      "                        \n"
     ]
    },
    {
     "name": "stdout",
     "output_type": "stream",
     "text": [
      "2019-02-03 09:44:41,317 INFO sqlalchemy.engine.base.Engine ()\n"
     ]
    },
    {
     "name": "stderr",
     "output_type": "stream",
     "text": [
      "INFO:sqlalchemy.engine.base.Engine:()\n"
     ]
    },
    {
     "data": {
      "text/html": [
       "<div>\n",
       "<style scoped>\n",
       "    .dataframe tbody tr th:only-of-type {\n",
       "        vertical-align: middle;\n",
       "    }\n",
       "\n",
       "    .dataframe tbody tr th {\n",
       "        vertical-align: top;\n",
       "    }\n",
       "\n",
       "    .dataframe thead th {\n",
       "        text-align: right;\n",
       "    }\n",
       "</style>\n",
       "<table border=\"1\" class=\"dataframe\">\n",
       "  <thead>\n",
       "    <tr style=\"text-align: right;\">\n",
       "      <th></th>\n",
       "      <th>ProductName</th>\n",
       "      <th>UnitPrice</th>\n",
       "      <th>Times_ordered</th>\n",
       "      <th>not_discounted</th>\n",
       "      <th>discounted</th>\n",
       "    </tr>\n",
       "  </thead>\n",
       "  <tbody>\n",
       "    <tr>\n",
       "      <th>0</th>\n",
       "      <td>Alice Mutton</td>\n",
       "      <td>39.00</td>\n",
       "      <td>37</td>\n",
       "      <td>21</td>\n",
       "      <td>16</td>\n",
       "    </tr>\n",
       "    <tr>\n",
       "      <th>1</th>\n",
       "      <td>Aniseed Syrup</td>\n",
       "      <td>10.00</td>\n",
       "      <td>12</td>\n",
       "      <td>10</td>\n",
       "      <td>2</td>\n",
       "    </tr>\n",
       "    <tr>\n",
       "      <th>2</th>\n",
       "      <td>Boston Crab Meat</td>\n",
       "      <td>18.40</td>\n",
       "      <td>41</td>\n",
       "      <td>25</td>\n",
       "      <td>16</td>\n",
       "    </tr>\n",
       "    <tr>\n",
       "      <th>3</th>\n",
       "      <td>Camembert Pierrot</td>\n",
       "      <td>34.00</td>\n",
       "      <td>51</td>\n",
       "      <td>28</td>\n",
       "      <td>23</td>\n",
       "    </tr>\n",
       "    <tr>\n",
       "      <th>4</th>\n",
       "      <td>Carnarvon Tigers</td>\n",
       "      <td>62.50</td>\n",
       "      <td>27</td>\n",
       "      <td>14</td>\n",
       "      <td>13</td>\n",
       "    </tr>\n",
       "    <tr>\n",
       "      <th>5</th>\n",
       "      <td>Chai</td>\n",
       "      <td>18.00</td>\n",
       "      <td>38</td>\n",
       "      <td>22</td>\n",
       "      <td>16</td>\n",
       "    </tr>\n",
       "    <tr>\n",
       "      <th>6</th>\n",
       "      <td>Chang</td>\n",
       "      <td>19.00</td>\n",
       "      <td>44</td>\n",
       "      <td>19</td>\n",
       "      <td>25</td>\n",
       "    </tr>\n",
       "    <tr>\n",
       "      <th>7</th>\n",
       "      <td>Chartreuse verte</td>\n",
       "      <td>18.00</td>\n",
       "      <td>30</td>\n",
       "      <td>16</td>\n",
       "      <td>14</td>\n",
       "    </tr>\n",
       "    <tr>\n",
       "      <th>8</th>\n",
       "      <td>Chef Anton's Cajun Seasoning</td>\n",
       "      <td>22.00</td>\n",
       "      <td>20</td>\n",
       "      <td>10</td>\n",
       "      <td>10</td>\n",
       "    </tr>\n",
       "    <tr>\n",
       "      <th>9</th>\n",
       "      <td>Chef Anton's Gumbo Mix</td>\n",
       "      <td>21.35</td>\n",
       "      <td>10</td>\n",
       "      <td>6</td>\n",
       "      <td>4</td>\n",
       "    </tr>\n",
       "  </tbody>\n",
       "</table>\n",
       "</div>"
      ],
      "text/plain": [
       "                    ProductName  UnitPrice  Times_ordered  not_discounted  \\\n",
       "0                  Alice Mutton      39.00             37              21   \n",
       "1                 Aniseed Syrup      10.00             12              10   \n",
       "2              Boston Crab Meat      18.40             41              25   \n",
       "3             Camembert Pierrot      34.00             51              28   \n",
       "4              Carnarvon Tigers      62.50             27              14   \n",
       "5                          Chai      18.00             38              22   \n",
       "6                         Chang      19.00             44              19   \n",
       "7              Chartreuse verte      18.00             30              16   \n",
       "8  Chef Anton's Cajun Seasoning      22.00             20              10   \n",
       "9        Chef Anton's Gumbo Mix      21.35             10               6   \n",
       "\n",
       "   discounted  \n",
       "0          16  \n",
       "1           2  \n",
       "2          16  \n",
       "3          23  \n",
       "4          13  \n",
       "5          16  \n",
       "6          25  \n",
       "7          14  \n",
       "8          10  \n",
       "9           4  "
      ]
     },
     "execution_count": 36,
     "metadata": {},
     "output_type": "execute_result"
    }
   ],
   "source": [
    "#Examine how often each product is sold with/without discountbb\n",
    "product_discs = pd.read_sql_query('''SELECT p.ProductName, od.UnitPrice,\n",
    "                            COUNT(od.Id) Times_ordered,\n",
    "                            SUM(\n",
    "                                CASE WHEN od.Discount == 0.0 \n",
    "                                THEN 1 ELSE 0 END\n",
    "                                ) not_discounted,\n",
    "                            SUM(\n",
    "                                CASE WHEN od.Discount != 0.0 \n",
    "                                THEN 1 ELSE 0 END\n",
    "                                ) discounted\n",
    "                            FROM Product p\n",
    "                            JOIN OrderDetail od on p.Id = od.ProductId\n",
    "                            GROUP BY p.ProductName\n",
    "                        ''', engine)\n",
    "\n",
    "product_discs.head(10)"
   ]
  },
  {
   "cell_type": "code",
   "execution_count": 39,
   "metadata": {},
   "outputs": [
    {
     "name": "stdout",
     "output_type": "stream",
     "text": [
      "Products with higher sales when not discounted: 64\n",
      "Products with higher sales when discounted: 9\n",
      "More products had higher sales without discounts than with discounts.\n"
     ]
    }
   ],
   "source": [
    "#Did more products have higher sales with or without discounts?\n",
    "total_products = product_discs.shape[0]\n",
    "more_without_discs = product_discs[product_discs['not_discounted'] > product_discs['discounted']]\n",
    "more_with_discs = product_discs[product_discs['not_discounted'] < product_discs['discounted']]\n",
    "\n",
    "print('Products with higher sales when not discounted:', more_without_discs.shape[0])\n",
    "print('Products with higher sales when discounted:', more_with_discs.shape[0])\n",
    "if more_without_discs.shape[0] > more_with_discs.shape[0]:\n",
    "    print(\"More products had higher sales without discounts than with discounts.\")"
   ]
  },
  {
   "cell_type": "markdown",
   "metadata": {},
   "source": [
    "### Mean unit prices for products with and without discounts"
   ]
  },
  {
   "cell_type": "code",
   "execution_count": 41,
   "metadata": {},
   "outputs": [
    {
     "name": "stdout",
     "output_type": "stream",
     "text": [
      "Mean unit price for products which had higher sales when not discounted: 29.53453125\n",
      "Mean unit price for products which had higher sales when discounted: 26.883333333333333\n"
     ]
    }
   ],
   "source": [
    "#Did the products which had higher sales when discounted have a higher unit price on average?\n",
    "mean_without = more_without_discs['UnitPrice'].mean()\n",
    "mean_with = more_with_discs['UnitPrice'].mean()\n",
    "\n",
    "print('Mean unit price for products which had higher sales when not discounted:',\n",
    "      mean_without)\n",
    "print('Mean unit price for products which had higher sales when discounted:',\n",
    "     mean_with)"
   ]
  },
  {
   "cell_type": "markdown",
   "metadata": {},
   "source": [
    "### Revenue taken in on products with and without discounts"
   ]
  },
  {
   "cell_type": "code",
   "execution_count": 43,
   "metadata": {},
   "outputs": [
    {
     "name": "stdout",
     "output_type": "stream",
     "text": [
      "2019-02-03 09:48:35,511 INFO sqlalchemy.engine.base.Engine SELECT od.Id, od.OrderId, p.ProductName, od.UnitPrice, \n",
      "                            od.Quantity, od.Discount,\n",
      "                            ((od.UnitPrice * (1 - od.Discount)) * od.Quantity) Total_price\n",
      "                            FROM OrderDetail od\n",
      "                            JOIN Product p ON od.ProductId = p.Id\n",
      "                        \n"
     ]
    },
    {
     "name": "stderr",
     "output_type": "stream",
     "text": [
      "INFO:sqlalchemy.engine.base.Engine:SELECT od.Id, od.OrderId, p.ProductName, od.UnitPrice, \n",
      "                            od.Quantity, od.Discount,\n",
      "                            ((od.UnitPrice * (1 - od.Discount)) * od.Quantity) Total_price\n",
      "                            FROM OrderDetail od\n",
      "                            JOIN Product p ON od.ProductId = p.Id\n",
      "                        \n"
     ]
    },
    {
     "name": "stdout",
     "output_type": "stream",
     "text": [
      "2019-02-03 09:48:35,513 INFO sqlalchemy.engine.base.Engine ()\n"
     ]
    },
    {
     "name": "stderr",
     "output_type": "stream",
     "text": [
      "INFO:sqlalchemy.engine.base.Engine:()\n"
     ]
    },
    {
     "data": {
      "text/html": [
       "<div>\n",
       "<style scoped>\n",
       "    .dataframe tbody tr th:only-of-type {\n",
       "        vertical-align: middle;\n",
       "    }\n",
       "\n",
       "    .dataframe tbody tr th {\n",
       "        vertical-align: top;\n",
       "    }\n",
       "\n",
       "    .dataframe thead th {\n",
       "        text-align: right;\n",
       "    }\n",
       "</style>\n",
       "<table border=\"1\" class=\"dataframe\">\n",
       "  <thead>\n",
       "    <tr style=\"text-align: right;\">\n",
       "      <th></th>\n",
       "      <th>Id</th>\n",
       "      <th>OrderId</th>\n",
       "      <th>ProductName</th>\n",
       "      <th>UnitPrice</th>\n",
       "      <th>Quantity</th>\n",
       "      <th>Discount</th>\n",
       "      <th>Total_price</th>\n",
       "    </tr>\n",
       "  </thead>\n",
       "  <tbody>\n",
       "    <tr>\n",
       "      <th>0</th>\n",
       "      <td>10248/11</td>\n",
       "      <td>10248</td>\n",
       "      <td>Queso Cabrales</td>\n",
       "      <td>14.0</td>\n",
       "      <td>12</td>\n",
       "      <td>0.0</td>\n",
       "      <td>168.0</td>\n",
       "    </tr>\n",
       "    <tr>\n",
       "      <th>1</th>\n",
       "      <td>10248/42</td>\n",
       "      <td>10248</td>\n",
       "      <td>Singaporean Hokkien Fried Mee</td>\n",
       "      <td>9.8</td>\n",
       "      <td>10</td>\n",
       "      <td>0.0</td>\n",
       "      <td>98.0</td>\n",
       "    </tr>\n",
       "    <tr>\n",
       "      <th>2</th>\n",
       "      <td>10248/72</td>\n",
       "      <td>10248</td>\n",
       "      <td>Mozzarella di Giovanni</td>\n",
       "      <td>34.8</td>\n",
       "      <td>5</td>\n",
       "      <td>0.0</td>\n",
       "      <td>174.0</td>\n",
       "    </tr>\n",
       "    <tr>\n",
       "      <th>3</th>\n",
       "      <td>10249/14</td>\n",
       "      <td>10249</td>\n",
       "      <td>Tofu</td>\n",
       "      <td>18.6</td>\n",
       "      <td>9</td>\n",
       "      <td>0.0</td>\n",
       "      <td>167.4</td>\n",
       "    </tr>\n",
       "    <tr>\n",
       "      <th>4</th>\n",
       "      <td>10249/51</td>\n",
       "      <td>10249</td>\n",
       "      <td>Manjimup Dried Apples</td>\n",
       "      <td>42.4</td>\n",
       "      <td>40</td>\n",
       "      <td>0.0</td>\n",
       "      <td>1696.0</td>\n",
       "    </tr>\n",
       "  </tbody>\n",
       "</table>\n",
       "</div>"
      ],
      "text/plain": [
       "         Id  OrderId                    ProductName  UnitPrice  Quantity  \\\n",
       "0  10248/11    10248                 Queso Cabrales       14.0        12   \n",
       "1  10248/42    10248  Singaporean Hokkien Fried Mee        9.8        10   \n",
       "2  10248/72    10248         Mozzarella di Giovanni       34.8         5   \n",
       "3  10249/14    10249                           Tofu       18.6         9   \n",
       "4  10249/51    10249          Manjimup Dried Apples       42.4        40   \n",
       "\n",
       "   Discount  Total_price  \n",
       "0       0.0        168.0  \n",
       "1       0.0         98.0  \n",
       "2       0.0        174.0  \n",
       "3       0.0        167.4  \n",
       "4       0.0       1696.0  "
      ]
     },
     "execution_count": 43,
     "metadata": {},
     "output_type": "execute_result"
    }
   ],
   "source": [
    "#Itemized Revenue by OrderDetail\n",
    "itemized = pd.read_sql_query('''SELECT od.Id, od.OrderId, p.ProductName, od.UnitPrice, \n",
    "                            od.Quantity, od.Discount,\n",
    "                            ((od.UnitPrice * (1 - od.Discount)) * od.Quantity) Total_price\n",
    "                            FROM OrderDetail od\n",
    "                            JOIN Product p ON od.ProductId = p.Id\n",
    "                        ''', engine)\n",
    "itemized.head()"
   ]
  },
  {
   "cell_type": "code",
   "execution_count": 44,
   "metadata": {},
   "outputs": [
    {
     "name": "stdout",
     "output_type": "stream",
     "text": [
      "Revenue from undiscounted items: 750698.61\n",
      "Revenue from discounted items: 515094.42949999997\n",
      "Revenue was higher from undiscounted items.\n"
     ]
    }
   ],
   "source": [
    "#Has higher revenue been taken in on products with or without discounts?\n",
    "\n",
    "#Get invoice subtotals from only items that weren't discounted\n",
    "subtotals_without_disc = itemized['Total_price'][itemized['Discount'] == 0.0]\n",
    "#Get invoice subttoals from only items that were discounted\n",
    "subtotals_with_disc = itemized['Total_price'][itemized['Discount'] != 0.0]\n",
    "\n",
    "#Add up subtotals for all undiscounted items\n",
    "revenue_without_disc = subtotals_without_disc.sum()\n",
    "#Add up subtotals for all discounted items\n",
    "revenue_with_disc = subtotals_with_disc.sum()\n",
    "\n",
    "print('Revenue from undiscounted items:', revenue_without_disc)\n",
    "print('Revenue from discounted items:', revenue_with_disc)\n",
    "if revenue_without_disc > revenue_with_disc:\n",
    "    print('Revenue was higher from undiscounted items.')"
   ]
  },
  {
   "cell_type": "markdown",
   "metadata": {},
   "source": [
    "## Discrepancies in unit prices\n",
    "\n",
    "### How many products have different unit prices in the product table v. the order detail table?"
   ]
  },
  {
   "cell_type": "code",
   "execution_count": 45,
   "metadata": {},
   "outputs": [
    {
     "name": "stdout",
     "output_type": "stream",
     "text": [
      "2019-02-03 09:58:07,411 INFO sqlalchemy.engine.base.Engine SELECT od.Id, od.OrderId, p.ProductName, p.UnitPrice UnitPriceP, \n",
      "                            od.UnitPrice UnitPriceOd, od.Quantity, od.Discount,\n",
      "                            ((p.UnitPrice * (1 - od.Discount)) * od.Quantity) Total_price_with_P,\n",
      "                            ((od.UnitPrice * (1 - od.Discount)) * od.Quantity) Total_price_withOd\n",
      "                            FROM OrderDetail od\n",
      "                            JOIN Product p ON od.ProductId = p.Id\n",
      "                        \n"
     ]
    },
    {
     "name": "stderr",
     "output_type": "stream",
     "text": [
      "INFO:sqlalchemy.engine.base.Engine:SELECT od.Id, od.OrderId, p.ProductName, p.UnitPrice UnitPriceP, \n",
      "                            od.UnitPrice UnitPriceOd, od.Quantity, od.Discount,\n",
      "                            ((p.UnitPrice * (1 - od.Discount)) * od.Quantity) Total_price_with_P,\n",
      "                            ((od.UnitPrice * (1 - od.Discount)) * od.Quantity) Total_price_withOd\n",
      "                            FROM OrderDetail od\n",
      "                            JOIN Product p ON od.ProductId = p.Id\n",
      "                        \n"
     ]
    },
    {
     "name": "stdout",
     "output_type": "stream",
     "text": [
      "2019-02-03 09:58:07,413 INFO sqlalchemy.engine.base.Engine ()\n"
     ]
    },
    {
     "name": "stderr",
     "output_type": "stream",
     "text": [
      "INFO:sqlalchemy.engine.base.Engine:()\n"
     ]
    },
    {
     "data": {
      "text/html": [
       "<div>\n",
       "<style scoped>\n",
       "    .dataframe tbody tr th:only-of-type {\n",
       "        vertical-align: middle;\n",
       "    }\n",
       "\n",
       "    .dataframe tbody tr th {\n",
       "        vertical-align: top;\n",
       "    }\n",
       "\n",
       "    .dataframe thead th {\n",
       "        text-align: right;\n",
       "    }\n",
       "</style>\n",
       "<table border=\"1\" class=\"dataframe\">\n",
       "  <thead>\n",
       "    <tr style=\"text-align: right;\">\n",
       "      <th></th>\n",
       "      <th>Id</th>\n",
       "      <th>OrderId</th>\n",
       "      <th>ProductName</th>\n",
       "      <th>UnitPriceP</th>\n",
       "      <th>UnitPriceOd</th>\n",
       "      <th>Quantity</th>\n",
       "      <th>Discount</th>\n",
       "      <th>Total_price_with_P</th>\n",
       "      <th>Total_price_withOd</th>\n",
       "    </tr>\n",
       "  </thead>\n",
       "  <tbody>\n",
       "    <tr>\n",
       "      <th>0</th>\n",
       "      <td>10248/11</td>\n",
       "      <td>10248</td>\n",
       "      <td>Queso Cabrales</td>\n",
       "      <td>21.00</td>\n",
       "      <td>14.0</td>\n",
       "      <td>12</td>\n",
       "      <td>0.00</td>\n",
       "      <td>252.0000</td>\n",
       "      <td>168.00</td>\n",
       "    </tr>\n",
       "    <tr>\n",
       "      <th>1</th>\n",
       "      <td>10248/42</td>\n",
       "      <td>10248</td>\n",
       "      <td>Singaporean Hokkien Fried Mee</td>\n",
       "      <td>14.00</td>\n",
       "      <td>9.8</td>\n",
       "      <td>10</td>\n",
       "      <td>0.00</td>\n",
       "      <td>140.0000</td>\n",
       "      <td>98.00</td>\n",
       "    </tr>\n",
       "    <tr>\n",
       "      <th>2</th>\n",
       "      <td>10248/72</td>\n",
       "      <td>10248</td>\n",
       "      <td>Mozzarella di Giovanni</td>\n",
       "      <td>34.80</td>\n",
       "      <td>34.8</td>\n",
       "      <td>5</td>\n",
       "      <td>0.00</td>\n",
       "      <td>174.0000</td>\n",
       "      <td>174.00</td>\n",
       "    </tr>\n",
       "    <tr>\n",
       "      <th>3</th>\n",
       "      <td>10249/14</td>\n",
       "      <td>10249</td>\n",
       "      <td>Tofu</td>\n",
       "      <td>23.25</td>\n",
       "      <td>18.6</td>\n",
       "      <td>9</td>\n",
       "      <td>0.00</td>\n",
       "      <td>209.2500</td>\n",
       "      <td>167.40</td>\n",
       "    </tr>\n",
       "    <tr>\n",
       "      <th>4</th>\n",
       "      <td>10249/51</td>\n",
       "      <td>10249</td>\n",
       "      <td>Manjimup Dried Apples</td>\n",
       "      <td>53.00</td>\n",
       "      <td>42.4</td>\n",
       "      <td>40</td>\n",
       "      <td>0.00</td>\n",
       "      <td>2120.0000</td>\n",
       "      <td>1696.00</td>\n",
       "    </tr>\n",
       "    <tr>\n",
       "      <th>5</th>\n",
       "      <td>10250/41</td>\n",
       "      <td>10250</td>\n",
       "      <td>Jack's New England Clam Chowder</td>\n",
       "      <td>9.65</td>\n",
       "      <td>7.7</td>\n",
       "      <td>10</td>\n",
       "      <td>0.00</td>\n",
       "      <td>96.5000</td>\n",
       "      <td>77.00</td>\n",
       "    </tr>\n",
       "    <tr>\n",
       "      <th>6</th>\n",
       "      <td>10250/51</td>\n",
       "      <td>10250</td>\n",
       "      <td>Manjimup Dried Apples</td>\n",
       "      <td>53.00</td>\n",
       "      <td>42.4</td>\n",
       "      <td>35</td>\n",
       "      <td>0.15</td>\n",
       "      <td>1576.7500</td>\n",
       "      <td>1261.40</td>\n",
       "    </tr>\n",
       "    <tr>\n",
       "      <th>7</th>\n",
       "      <td>10250/65</td>\n",
       "      <td>10250</td>\n",
       "      <td>Louisiana Fiery Hot Pepper Sauce</td>\n",
       "      <td>21.05</td>\n",
       "      <td>16.8</td>\n",
       "      <td>15</td>\n",
       "      <td>0.15</td>\n",
       "      <td>268.3875</td>\n",
       "      <td>214.20</td>\n",
       "    </tr>\n",
       "    <tr>\n",
       "      <th>8</th>\n",
       "      <td>10251/22</td>\n",
       "      <td>10251</td>\n",
       "      <td>Gustaf's Knäckebröd</td>\n",
       "      <td>21.00</td>\n",
       "      <td>16.8</td>\n",
       "      <td>6</td>\n",
       "      <td>0.05</td>\n",
       "      <td>119.7000</td>\n",
       "      <td>95.76</td>\n",
       "    </tr>\n",
       "    <tr>\n",
       "      <th>9</th>\n",
       "      <td>10251/57</td>\n",
       "      <td>10251</td>\n",
       "      <td>Ravioli Angelo</td>\n",
       "      <td>19.50</td>\n",
       "      <td>15.6</td>\n",
       "      <td>15</td>\n",
       "      <td>0.05</td>\n",
       "      <td>277.8750</td>\n",
       "      <td>222.30</td>\n",
       "    </tr>\n",
       "  </tbody>\n",
       "</table>\n",
       "</div>"
      ],
      "text/plain": [
       "         Id  OrderId                       ProductName  UnitPriceP  \\\n",
       "0  10248/11    10248                    Queso Cabrales       21.00   \n",
       "1  10248/42    10248     Singaporean Hokkien Fried Mee       14.00   \n",
       "2  10248/72    10248            Mozzarella di Giovanni       34.80   \n",
       "3  10249/14    10249                              Tofu       23.25   \n",
       "4  10249/51    10249             Manjimup Dried Apples       53.00   \n",
       "5  10250/41    10250   Jack's New England Clam Chowder        9.65   \n",
       "6  10250/51    10250             Manjimup Dried Apples       53.00   \n",
       "7  10250/65    10250  Louisiana Fiery Hot Pepper Sauce       21.05   \n",
       "8  10251/22    10251               Gustaf's Knäckebröd       21.00   \n",
       "9  10251/57    10251                    Ravioli Angelo       19.50   \n",
       "\n",
       "   UnitPriceOd  Quantity  Discount  Total_price_with_P  Total_price_withOd  \n",
       "0         14.0        12      0.00            252.0000              168.00  \n",
       "1          9.8        10      0.00            140.0000               98.00  \n",
       "2         34.8         5      0.00            174.0000              174.00  \n",
       "3         18.6         9      0.00            209.2500              167.40  \n",
       "4         42.4        40      0.00           2120.0000             1696.00  \n",
       "5          7.7        10      0.00             96.5000               77.00  \n",
       "6         42.4        35      0.15           1576.7500             1261.40  \n",
       "7         16.8        15      0.15            268.3875              214.20  \n",
       "8         16.8         6      0.05            119.7000               95.76  \n",
       "9         15.6        15      0.05            277.8750              222.30  "
      ]
     },
     "execution_count": 45,
     "metadata": {},
     "output_type": "execute_result"
    }
   ],
   "source": [
    "#Discrepancies in unit prices between Product table and OrderDetail table\n",
    "invoices_testing = pd.read_sql_query('''SELECT od.Id, od.OrderId, p.ProductName, p.UnitPrice UnitPriceP, \n",
    "                            od.UnitPrice UnitPriceOd, od.Quantity, od.Discount,\n",
    "                            ((p.UnitPrice * (1 - od.Discount)) * od.Quantity) Total_price_with_P,\n",
    "                            ((od.UnitPrice * (1 - od.Discount)) * od.Quantity) Total_price_withOd\n",
    "                            FROM OrderDetail od\n",
    "                            JOIN Product p ON od.ProductId = p.Id\n",
    "                        ''', engine)\n",
    "invoices_testing.head(10)"
   ]
  },
  {
   "cell_type": "code",
   "execution_count": 46,
   "metadata": {},
   "outputs": [
    {
     "data": {
      "text/plain": [
       "(2155, 658)"
      ]
     },
     "execution_count": 46,
     "metadata": {},
     "output_type": "execute_result"
    }
   ],
   "source": [
    "#How often is the Product unit price different from the OrderDetail unit price?\n",
    "different_unit_prices = invoices_testing[invoices_testing['UnitPriceP'] != invoices_testing['UnitPriceOd']]\n",
    "invoices_testing.shape[0], different_unit_prices.shape[0]"
   ]
  }
 ],
 "metadata": {
  "kernelspec": {
   "display_name": "learn-env",
   "language": "python",
   "name": "learn-env"
  },
  "language_info": {
   "codemirror_mode": {
    "name": "ipython",
    "version": 3
   },
   "file_extension": ".py",
   "mimetype": "text/x-python",
   "name": "python",
   "nbconvert_exporter": "python",
   "pygments_lexer": "ipython3",
   "version": "3.7.0"
  }
 },
 "nbformat": 4,
 "nbformat_minor": 2
}
