{
 "cells": [
  {
   "cell_type": "markdown",
   "metadata": {},
   "source": [
    "# Final Project Submission\n",
    "Please fill out:\n",
    "\n",
    "-  Student name: Steven Rosa\n",
    "-  Student pace: part time\n",
    "-  Scheduled project review date/time: Mon 4 Feb 2019 2pm EST\n",
    "-  Instructor name: Jeff Herman\n",
    "-  Blog post URL:"
   ]
  },
  {
   "cell_type": "markdown",
   "metadata": {},
   "source": [
    "# Northwind Data Analysis"
   ]
  },
  {
   "cell_type": "markdown",
   "metadata": {},
   "source": [
    "<a id=\"top\"></a>"
   ]
  },
  {
   "cell_type": "markdown",
   "metadata": {},
   "source": [
    "# Contents\n",
    "- [Import libraries](#importlibraries)\n",
    "- [Write functions](#writefunctions)\n",
    "- [Exploratory data analysis](#eda)"
   ]
  },
  {
   "cell_type": "code",
   "execution_count": null,
   "metadata": {},
   "outputs": [],
   "source": []
  },
  {
   "cell_type": "code",
   "execution_count": null,
   "metadata": {},
   "outputs": [],
   "source": []
  },
  {
   "cell_type": "code",
   "execution_count": null,
   "metadata": {},
   "outputs": [],
   "source": []
  },
  {
   "cell_type": "markdown",
   "metadata": {},
   "source": [
    "<a id=\"importlibraries\"></a>"
   ]
  },
  {
   "cell_type": "markdown",
   "metadata": {},
   "source": [
    "# Import libraries\n",
    "[(Back to top)](#top)"
   ]
  },
  {
   "cell_type": "code",
   "execution_count": 1,
   "metadata": {},
   "outputs": [],
   "source": [
    "#Import libraries\n",
    "import sqlalchemy #ORM\n",
    "from sqlalchemy import create_engine #To connect to the database\n",
    "from sqlalchemy.orm import Session, sessionmaker #To interact with the database as object\n",
    "from sqlalchemy import inspect #To look at tables and column names\n",
    "from sqlalchemy import MetaData #To reflect the engine object \n",
    "from sqlalchemy.ext.automap import automap_base # To create mappings from the reflection\n",
    "import pandas as pd #To read in parts of the database as DataFrames\n",
    "\n",
    "import matplotlib.pyplot as plt #For creating visualizations\n",
    "from scipy.stats import norm #For plotting probablity density functions\n",
    "import seaborn as sns #For plotting pdfs over histograms\n",
    "import numpy as np #For mathematical operations and arrays"
   ]
  },
  {
   "cell_type": "code",
   "execution_count": 37,
   "metadata": {},
   "outputs": [],
   "source": [
    "from scipy import stats"
   ]
  },
  {
   "cell_type": "markdown",
   "metadata": {},
   "source": [
    "<a id=\"writefunctions\"></a>"
   ]
  },
  {
   "cell_type": "markdown",
   "metadata": {},
   "source": [
    "# Write functions\n",
    "[(Back to top)](#top)"
   ]
  },
  {
   "cell_type": "code",
   "execution_count": 2,
   "metadata": {},
   "outputs": [],
   "source": [
    "#Build a sampling distribution of the data \n",
    "#in order to get it more \"normal\"\n",
    "def sampling_dist(data, dist=50, n=30):\n",
    "\n",
    "    sample_dist = []\n",
    "   \n",
    "    while len(sample_dist) != dist: #Build a sample distribution\n",
    "        sample = []\n",
    "        while len(sample) != n:\n",
    "            x = np.random.choice(data) #Get a value from the data with replacement\n",
    "            sample.append(x) #Add the value to the sample\n",
    "        sample_mean = sum(sample) / len(sample) #Get the mean of the sample\n",
    "        sample_dist.append(sample_mean) #Add the mean to the sampling distribution\n",
    "    \n",
    "    return sample_dist"
   ]
  },
  {
   "cell_type": "code",
   "execution_count": null,
   "metadata": {},
   "outputs": [],
   "source": []
  },
  {
   "cell_type": "markdown",
   "metadata": {},
   "source": [
    "<a id=\"eda\"></a>"
   ]
  },
  {
   "cell_type": "markdown",
   "metadata": {},
   "source": [
    "# Exploratory data analysis\n",
    "[(Back to top)](#top)"
   ]
  },
  {
   "cell_type": "code",
   "execution_count": null,
   "metadata": {},
   "outputs": [],
   "source": []
  },
  {
   "cell_type": "code",
   "execution_count": null,
   "metadata": {},
   "outputs": [],
   "source": []
  },
  {
   "cell_type": "code",
   "execution_count": null,
   "metadata": {},
   "outputs": [],
   "source": []
  },
  {
   "cell_type": "code",
   "execution_count": null,
   "metadata": {},
   "outputs": [],
   "source": []
  },
  {
   "cell_type": "code",
   "execution_count": 3,
   "metadata": {},
   "outputs": [],
   "source": [
    "#Instantiate a session of the ORM\n",
    "#Connect to the sqlite database file\n",
    "engine = create_engine('sqlite:///Northwind_small.sqlite', echo = True)\n",
    "#Bind a session factory to the engine\n",
    "Session = sessionmaker(bind=engine)\n",
    "#Instantiate a session\n",
    "session = Session()"
   ]
  },
  {
   "cell_type": "code",
   "execution_count": null,
   "metadata": {},
   "outputs": [],
   "source": [
    "#An object to get a first look at the database\n",
    "inspector = inspect(engine)"
   ]
  },
  {
   "cell_type": "code",
   "execution_count": null,
   "metadata": {},
   "outputs": [],
   "source": [
    "#Make a dict of list of names of all the columns in all the tables\n",
    "#for easy reference\n",
    "\n",
    "#Get list of all table names\n",
    "table_names = inspector.get_table_names()\n",
    "\n",
    "tables_columns = dict()\n",
    "#For each table name\n",
    "for table in table_names:\n",
    "    column_names = []\n",
    "    #for each column in the table, get just the name\n",
    "    for column in inspector.get_columns(table):\n",
    "        column_names.append(column['name'])\n",
    "    tables_columns[table] = column_names"
   ]
  },
  {
   "cell_type": "code",
   "execution_count": null,
   "metadata": {},
   "outputs": [],
   "source": [
    "tables_columns['OrderDetail']"
   ]
  },
  {
   "cell_type": "code",
   "execution_count": null,
   "metadata": {},
   "outputs": [],
   "source": []
  },
  {
   "cell_type": "code",
   "execution_count": null,
   "metadata": {},
   "outputs": [],
   "source": [
    "#Pull raw results from the database\n",
    "#conn = engine.connect()\n",
    "#results = conn.execute('''SELECT *\n",
    "#                            FROM Category\n",
    "#                        ;''')\n",
    "#print(results.fetchall())"
   ]
  },
  {
   "cell_type": "code",
   "execution_count": null,
   "metadata": {},
   "outputs": [],
   "source": [
    "###conn = engine.connect()\n",
    "#results = conn.execute(\"SELECT * FROM [Order];\")\n",
    "#df = pd.DataFrame(results.fetchall())\n",
    "#df.head()"
   ]
  },
  {
   "cell_type": "code",
   "execution_count": null,
   "metadata": {},
   "outputs": [],
   "source": [
    "#results = conn.execute('''SELECT *\n",
    "#                            FROM OrderDetail\n",
    "#                        ;''')\n",
    "#df = pd.DataFrame(results.fetchall())\n",
    "#df.head()"
   ]
  },
  {
   "cell_type": "code",
   "execution_count": null,
   "metadata": {
    "scrolled": true
   },
   "outputs": [],
   "source": [
    "#df = pd.read_sql_query('''SELECT * \n",
    "#                           FROM [Order]\n",
    "#                       ;''', engine)\n",
    "#df.head()"
   ]
  },
  {
   "cell_type": "code",
   "execution_count": null,
   "metadata": {
    "scrolled": true
   },
   "outputs": [],
   "source": [
    "#df = pd.read_sql_query(\"SELECT * FROM [Order] WHERE CUSTOMERId = 'VINET'\", engine)\n",
    "#df.head()"
   ]
  },
  {
   "cell_type": "code",
   "execution_count": null,
   "metadata": {
    "scrolled": true
   },
   "outputs": [],
   "source": [
    "df = pd.read_sql_query(\"\"\"SELECT OrderDetail.*, [Order].CustomerId \n",
    "                            FROM OrderDetail \n",
    "                            INNER JOIN [Order] on OrderDetail.OrderId = [Order].Id\n",
    "                            WHERE OrderDetail.Discount != 0.0\n",
    "                        \"\"\", engine)\n",
    "df.head()"
   ]
  },
  {
   "cell_type": "code",
   "execution_count": null,
   "metadata": {},
   "outputs": [],
   "source": [
    "#WHERE OrderDetail.Discount != 0.0"
   ]
  },
  {
   "cell_type": "code",
   "execution_count": null,
   "metadata": {},
   "outputs": [],
   "source": [
    "#Look at all orders with and without discounts\n",
    "df = pd.read_sql_query(\"\"\"SELECT OrderDetail.*, [Order].CustomerId\n",
    "                            FROM OrderDetail \n",
    "                            INNER JOIN [Order] on OrderDetail.OrderId = [Order].Id\n",
    "                            ORDER BY [Order].CustomerId DESC, [Order].Id DESC, OrderDetail.Discount DESC\n",
    "                        \"\"\", engine)\n"
   ]
  },
  {
   "cell_type": "code",
   "execution_count": null,
   "metadata": {
    "scrolled": false
   },
   "outputs": [],
   "source": [
    "#Look at all orders with and without discounts\n",
    "df.head()"
   ]
  },
  {
   "cell_type": "code",
   "execution_count": null,
   "metadata": {},
   "outputs": [],
   "source": [
    "#Look at number of orders per cust id\n",
    "df = pd.read_sql_query(\"\"\"SELECT [Order].CustomerId, Count(*) orders\n",
    "                            FROM OrderDetail \n",
    "                            INNER JOIN [Order] on OrderDetail.OrderId = [Order].Id\n",
    "                            GROUP BY [Order].CustomerId\n",
    "                            ORDER BY [Order].CustomerId ASC\n",
    "                        \"\"\", engine)"
   ]
  },
  {
   "cell_type": "code",
   "execution_count": null,
   "metadata": {
    "scrolled": true
   },
   "outputs": [],
   "source": [
    "#Look at number of orders per cust id\n",
    "df.head()"
   ]
  },
  {
   "cell_type": "code",
   "execution_count": null,
   "metadata": {},
   "outputs": [],
   "source": [
    "#Look at number of orders per customer w/o discount\n",
    "df_wo_discount = pd.read_sql_query(\"\"\"SELECT [Order].CustomerId, Count(*) orders\n",
    "                            FROM OrderDetail \n",
    "                            INNER JOIN [Order] on OrderDetail.OrderId = [Order].Id\n",
    "                            WHERE OrderDetail.Discount == 0.0\n",
    "                            GROUP BY [Order].CustomerId\n",
    "                            ORDER BY [Order].CustomerId ASC\n",
    "                        \"\"\", engine)\n",
    "\n",
    "#Look at number of orders per customer w/ discount\n",
    "df_w_discount = pd.read_sql_query(\"\"\"SELECT [Order].CustomerId, Count(*) orders\n",
    "                            FROM OrderDetail \n",
    "                            INNER JOIN [Order] on OrderDetail.OrderId = [Order].Id\n",
    "                            WHERE OrderDetail.Discount != 0.0\n",
    "                            GROUP BY [Order].CustomerId\n",
    "                            ORDER BY [Order].CustomerId ASC\n",
    "                        \"\"\", engine)"
   ]
  },
  {
   "cell_type": "code",
   "execution_count": null,
   "metadata": {},
   "outputs": [],
   "source": [
    "df_wo_discount.head()"
   ]
  },
  {
   "cell_type": "code",
   "execution_count": null,
   "metadata": {
    "scrolled": true
   },
   "outputs": [],
   "source": [
    "df_w_discount.head()"
   ]
  },
  {
   "cell_type": "code",
   "execution_count": null,
   "metadata": {},
   "outputs": [],
   "source": [
    "#Look at the levels of discount\n",
    "\n",
    "df = pd.read_sql_query(\"\"\"SELECT OrderDetail.*\n",
    "                            FROM OrderDetail \n",
    "                        \"\"\", engine)\n",
    "df['Discount'].value_counts()"
   ]
  },
  {
   "cell_type": "code",
   "execution_count": null,
   "metadata": {},
   "outputs": [],
   "source": [
    "#Look at number of orders w and wo discount per cust id\n",
    "###Insert soup for Emily with no bacon\n",
    "df = pd.read_sql_query('''SELECT [Order].CustomerId,\n",
    "                            SUM(\n",
    "                                CASE WHEN OrderDetail.Discount == 0.0 \n",
    "                                THEN 1 ELSE 0 END\n",
    "                                ) no_disc,\n",
    "                            SUM(\n",
    "                                CASE WHEN OrderDetail.Discount != 0.0 \n",
    "                                THEN 1 ELSE 0 END\n",
    "                                ) all_discs,\n",
    "                            SUM(\n",
    "                                CASE WHEN OrderDetail.Discount < 0.06 \n",
    "                                AND OrderDetail.Discount > 0.0\n",
    "                                THEN 1 ELSE 0 END\n",
    "                                ) disc06,\n",
    "                            SUM(\n",
    "                                CASE WHEN OrderDetail.Discount == 0.1 \n",
    "                                THEN 1 ELSE 0 END\n",
    "                                ) disc10,\n",
    "                            SUM(\n",
    "                                CASE WHEN OrderDetail.Discount == 0.15 \n",
    "                                THEN 1 ELSE 0 END\n",
    "                                ) disc15,\n",
    "                            SUM(\n",
    "                                CASE WHEN OrderDetail.Discount == 0.2 \n",
    "                                THEN 1 ELSE 0 END\n",
    "                                ) disc20,\n",
    "                            SUM(\n",
    "                                CASE WHEN OrderDetail.Discount == 0.25 \n",
    "                                THEN 1 ELSE 0 END\n",
    "                                ) disc25,\n",
    "                            Count(*) total_orders\n",
    "                            FROM OrderDetail \n",
    "                            INNER JOIN [Order] on OrderDetail.OrderId = [Order].Id\n",
    "                            GROUP BY [Order].CustomerId\n",
    "                            ORDER BY [Order].CustomerId ASC\n",
    "                        ''', engine)\n",
    "\n"
   ]
  },
  {
   "cell_type": "code",
   "execution_count": null,
   "metadata": {},
   "outputs": [],
   "source": [
    "df.head()"
   ]
  },
  {
   "cell_type": "code",
   "execution_count": null,
   "metadata": {},
   "outputs": [],
   "source": [
    "#See what one order looks like \n",
    "df = pd.read_sql_query('''SELECT *\n",
    "                            FROM OrderDetail\n",
    "                            LIMIT 1\n",
    "                        ''', engine)"
   ]
  },
  {
   "cell_type": "code",
   "execution_count": null,
   "metadata": {},
   "outputs": [],
   "source": [
    "#See what one order looks like\n",
    "df"
   ]
  },
  {
   "cell_type": "code",
   "execution_count": null,
   "metadata": {},
   "outputs": [],
   "source": [
    "#See what orders look like with total money spent\n",
    "df = pd.read_sql_query('''SELECT *,\n",
    "                                (od.UnitPrice * od.Quantity) total_price\n",
    "                            FROM OrderDetail od\n",
    "                        ''', engine)"
   ]
  },
  {
   "cell_type": "code",
   "execution_count": null,
   "metadata": {},
   "outputs": [],
   "source": [
    "df.head()\n"
   ]
  },
  {
   "cell_type": "code",
   "execution_count": 4,
   "metadata": {},
   "outputs": [
    {
     "name": "stdout",
     "output_type": "stream",
     "text": [
      "2019-01-31 08:27:18,990 INFO sqlalchemy.engine.base.Engine SELECT CAST('test plain returns' AS VARCHAR(60)) AS anon_1\n",
      "2019-01-31 08:27:18,990 INFO sqlalchemy.engine.base.Engine ()\n",
      "2019-01-31 08:27:18,990 INFO sqlalchemy.engine.base.Engine SELECT CAST('test unicode returns' AS VARCHAR(60)) AS anon_1\n",
      "2019-01-31 08:27:18,990 INFO sqlalchemy.engine.base.Engine ()\n",
      "2019-01-31 08:27:19,000 INFO sqlalchemy.engine.base.Engine SELECT [Order].CustomerId,\n",
      "                            SUM(\n",
      "                                CASE WHEN OrderDetail.Discount == 0.0 \n",
      "                                THEN 1 ELSE 0 END\n",
      "                                ) no_disc,\n",
      "                            SUM(\n",
      "                                CASE WHEN OrderDetail.Discount == 0.0\n",
      "                                THEN OrderDetail.Quantity ELSE 0 END\n",
      "                                ) quant_no_disc,\n",
      "                            SUM(\n",
      "                                CASE WHEN OrderDetail.Discount != 0.0 \n",
      "                                THEN 1 ELSE 0 END\n",
      "                                ) all_discs,\n",
      "                            SUM(\n",
      "                                CASE WHEN OrderDetail.Discount != 0.0\n",
      "                                THEN OrderDetail.Quantity ELSE 0 END\n",
      "                                ) quant_all_discs,\n",
      "                            SUM(\n",
      "                                CASE WHEN OrderDetail.Discount < 0.06 \n",
      "                                AND OrderDetail.Discount > 0.0\n",
      "                                THEN 1 ELSE 0 END\n",
      "                                ) disc06,                            \n",
      "                            SUM(\n",
      "                                CASE WHEN OrderDetail.Discount < 0.06\n",
      "                                AND OrderDetail.Discount > 0.0\n",
      "                                THEN OrderDetail.Quantity ELSE 0 END\n",
      "                                ) quant_disc06,\n",
      "                            SUM(\n",
      "                                CASE WHEN OrderDetail.Discount == 0.1 \n",
      "                                THEN 1 ELSE 0 END\n",
      "                                ) disc10,\n",
      "                            SUM(\n",
      "                                CASE WHEN OrderDetail.Discount == 0.1\n",
      "                                THEN OrderDetail.Quantity ELSE 0 END\n",
      "                                ) quant_disc10,                            \n",
      "                            SUM(\n",
      "                                CASE WHEN OrderDetail.Discount == 0.15 \n",
      "                                THEN 1 ELSE 0 END\n",
      "                                ) disc15,\n",
      "                            SUM(\n",
      "                                CASE WHEN OrderDetail.Discount == 0.15\n",
      "                                THEN OrderDetail.Quantity ELSE 0 END\n",
      "                                ) quant_disc15,                            \n",
      "                            SUM(\n",
      "                                CASE WHEN OrderDetail.Discount == 0.2 \n",
      "                                THEN 1 ELSE 0 END\n",
      "                                ) disc20,\n",
      "                            SUM(\n",
      "                                CASE WHEN OrderDetail.Discount == 0.2\n",
      "                                THEN OrderDetail.Quantity ELSE 0 END\n",
      "                                ) quant_disc20,                                \n",
      "                            SUM(\n",
      "                                CASE WHEN OrderDetail.Discount == 0.25 \n",
      "                                THEN 1 ELSE 0 END\n",
      "                                ) disc25,\n",
      "                            SUM(\n",
      "                                CASE WHEN OrderDetail.Discount == 0.25\n",
      "                                THEN OrderDetail.Quantity ELSE 0 END\n",
      "                                ) quant_disc25,\n",
      "                            Count(*) total_orders,\n",
      "                            SUM(OrderDetail.Quantity) total_quantities\n",
      "                            FROM OrderDetail \n",
      "                            INNER JOIN [Order] on OrderDetail.OrderId = [Order].Id\n",
      "                            GROUP BY [Order].CustomerId\n",
      "                            ORDER BY [Order].CustomerId ASC\n",
      "                        \n",
      "2019-01-31 08:27:19,000 INFO sqlalchemy.engine.base.Engine ()\n"
     ]
    }
   ],
   "source": [
    "#Compare quantities ordered with and without discounts\n",
    "\n",
    "discs_ords = pd.read_sql_query('''SELECT [Order].CustomerId,\n",
    "                            SUM(\n",
    "                                CASE WHEN OrderDetail.Discount == 0.0 \n",
    "                                THEN 1 ELSE 0 END\n",
    "                                ) no_disc,\n",
    "                            SUM(\n",
    "                                CASE WHEN OrderDetail.Discount == 0.0\n",
    "                                THEN OrderDetail.Quantity ELSE 0 END\n",
    "                                ) quant_no_disc,\n",
    "                            SUM(\n",
    "                                CASE WHEN OrderDetail.Discount != 0.0 \n",
    "                                THEN 1 ELSE 0 END\n",
    "                                ) all_discs,\n",
    "                            SUM(\n",
    "                                CASE WHEN OrderDetail.Discount != 0.0\n",
    "                                THEN OrderDetail.Quantity ELSE 0 END\n",
    "                                ) quant_all_discs,\n",
    "                            SUM(\n",
    "                                CASE WHEN OrderDetail.Discount < 0.06 \n",
    "                                AND OrderDetail.Discount > 0.0\n",
    "                                THEN 1 ELSE 0 END\n",
    "                                ) disc06,                            \n",
    "                            SUM(\n",
    "                                CASE WHEN OrderDetail.Discount < 0.06\n",
    "                                AND OrderDetail.Discount > 0.0\n",
    "                                THEN OrderDetail.Quantity ELSE 0 END\n",
    "                                ) quant_disc06,\n",
    "                            SUM(\n",
    "                                CASE WHEN OrderDetail.Discount == 0.1 \n",
    "                                THEN 1 ELSE 0 END\n",
    "                                ) disc10,\n",
    "                            SUM(\n",
    "                                CASE WHEN OrderDetail.Discount == 0.1\n",
    "                                THEN OrderDetail.Quantity ELSE 0 END\n",
    "                                ) quant_disc10,                            \n",
    "                            SUM(\n",
    "                                CASE WHEN OrderDetail.Discount == 0.15 \n",
    "                                THEN 1 ELSE 0 END\n",
    "                                ) disc15,\n",
    "                            SUM(\n",
    "                                CASE WHEN OrderDetail.Discount == 0.15\n",
    "                                THEN OrderDetail.Quantity ELSE 0 END\n",
    "                                ) quant_disc15,                            \n",
    "                            SUM(\n",
    "                                CASE WHEN OrderDetail.Discount == 0.2 \n",
    "                                THEN 1 ELSE 0 END\n",
    "                                ) disc20,\n",
    "                            SUM(\n",
    "                                CASE WHEN OrderDetail.Discount == 0.2\n",
    "                                THEN OrderDetail.Quantity ELSE 0 END\n",
    "                                ) quant_disc20,                                \n",
    "                            SUM(\n",
    "                                CASE WHEN OrderDetail.Discount == 0.25 \n",
    "                                THEN 1 ELSE 0 END\n",
    "                                ) disc25,\n",
    "                            SUM(\n",
    "                                CASE WHEN OrderDetail.Discount == 0.25\n",
    "                                THEN OrderDetail.Quantity ELSE 0 END\n",
    "                                ) quant_disc25,\n",
    "                            Count(*) total_orders,\n",
    "                            SUM(OrderDetail.Quantity) total_quantities\n",
    "                            FROM OrderDetail \n",
    "                            INNER JOIN [Order] on OrderDetail.OrderId = [Order].Id\n",
    "                            GROUP BY [Order].CustomerId\n",
    "                            ORDER BY [Order].CustomerId ASC\n",
    "                        ''', engine)\n"
   ]
  },
  {
   "cell_type": "code",
   "execution_count": 5,
   "metadata": {},
   "outputs": [
    {
     "data": {
      "text/html": [
       "<div>\n",
       "<style scoped>\n",
       "    .dataframe tbody tr th:only-of-type {\n",
       "        vertical-align: middle;\n",
       "    }\n",
       "\n",
       "    .dataframe tbody tr th {\n",
       "        vertical-align: top;\n",
       "    }\n",
       "\n",
       "    .dataframe thead th {\n",
       "        text-align: right;\n",
       "    }\n",
       "</style>\n",
       "<table border=\"1\" class=\"dataframe\">\n",
       "  <thead>\n",
       "    <tr style=\"text-align: right;\">\n",
       "      <th></th>\n",
       "      <th>CustomerId</th>\n",
       "      <th>no_disc</th>\n",
       "      <th>quant_no_disc</th>\n",
       "      <th>all_discs</th>\n",
       "      <th>quant_all_discs</th>\n",
       "      <th>disc06</th>\n",
       "      <th>quant_disc06</th>\n",
       "      <th>disc10</th>\n",
       "      <th>quant_disc10</th>\n",
       "      <th>disc15</th>\n",
       "      <th>quant_disc15</th>\n",
       "      <th>disc20</th>\n",
       "      <th>quant_disc20</th>\n",
       "      <th>disc25</th>\n",
       "      <th>quant_disc25</th>\n",
       "      <th>total_orders</th>\n",
       "      <th>total_quantities</th>\n",
       "    </tr>\n",
       "  </thead>\n",
       "  <tbody>\n",
       "    <tr>\n",
       "      <th>0</th>\n",
       "      <td>ALFKI</td>\n",
       "      <td>6</td>\n",
       "      <td>78</td>\n",
       "      <td>6</td>\n",
       "      <td>96</td>\n",
       "      <td>2</td>\n",
       "      <td>56</td>\n",
       "      <td>0</td>\n",
       "      <td>0</td>\n",
       "      <td>0</td>\n",
       "      <td>0</td>\n",
       "      <td>1</td>\n",
       "      <td>2</td>\n",
       "      <td>3</td>\n",
       "      <td>38</td>\n",
       "      <td>12</td>\n",
       "      <td>174</td>\n",
       "    </tr>\n",
       "    <tr>\n",
       "      <th>1</th>\n",
       "      <td>ANATR</td>\n",
       "      <td>10</td>\n",
       "      <td>63</td>\n",
       "      <td>0</td>\n",
       "      <td>0</td>\n",
       "      <td>0</td>\n",
       "      <td>0</td>\n",
       "      <td>0</td>\n",
       "      <td>0</td>\n",
       "      <td>0</td>\n",
       "      <td>0</td>\n",
       "      <td>0</td>\n",
       "      <td>0</td>\n",
       "      <td>0</td>\n",
       "      <td>0</td>\n",
       "      <td>10</td>\n",
       "      <td>63</td>\n",
       "    </tr>\n",
       "    <tr>\n",
       "      <th>2</th>\n",
       "      <td>ANTO</td>\n",
       "      <td>9</td>\n",
       "      <td>211</td>\n",
       "      <td>8</td>\n",
       "      <td>148</td>\n",
       "      <td>0</td>\n",
       "      <td>0</td>\n",
       "      <td>4</td>\n",
       "      <td>80</td>\n",
       "      <td>4</td>\n",
       "      <td>68</td>\n",
       "      <td>0</td>\n",
       "      <td>0</td>\n",
       "      <td>0</td>\n",
       "      <td>0</td>\n",
       "      <td>17</td>\n",
       "      <td>359</td>\n",
       "    </tr>\n",
       "    <tr>\n",
       "      <th>3</th>\n",
       "      <td>AROUT</td>\n",
       "      <td>23</td>\n",
       "      <td>439</td>\n",
       "      <td>7</td>\n",
       "      <td>211</td>\n",
       "      <td>3</td>\n",
       "      <td>128</td>\n",
       "      <td>2</td>\n",
       "      <td>40</td>\n",
       "      <td>1</td>\n",
       "      <td>28</td>\n",
       "      <td>1</td>\n",
       "      <td>15</td>\n",
       "      <td>0</td>\n",
       "      <td>0</td>\n",
       "      <td>30</td>\n",
       "      <td>650</td>\n",
       "    </tr>\n",
       "    <tr>\n",
       "      <th>4</th>\n",
       "      <td>BERGS</td>\n",
       "      <td>34</td>\n",
       "      <td>632</td>\n",
       "      <td>18</td>\n",
       "      <td>369</td>\n",
       "      <td>0</td>\n",
       "      <td>0</td>\n",
       "      <td>10</td>\n",
       "      <td>161</td>\n",
       "      <td>0</td>\n",
       "      <td>0</td>\n",
       "      <td>0</td>\n",
       "      <td>0</td>\n",
       "      <td>8</td>\n",
       "      <td>208</td>\n",
       "      <td>52</td>\n",
       "      <td>1001</td>\n",
       "    </tr>\n",
       "  </tbody>\n",
       "</table>\n",
       "</div>"
      ],
      "text/plain": [
       "  CustomerId  no_disc  quant_no_disc  all_discs  quant_all_discs  disc06  \\\n",
       "0      ALFKI        6             78          6               96       2   \n",
       "1      ANATR       10             63          0                0       0   \n",
       "2       ANTO        9            211          8              148       0   \n",
       "3      AROUT       23            439          7              211       3   \n",
       "4      BERGS       34            632         18              369       0   \n",
       "\n",
       "   quant_disc06  disc10  quant_disc10  disc15  quant_disc15  disc20  \\\n",
       "0            56       0             0       0             0       1   \n",
       "1             0       0             0       0             0       0   \n",
       "2             0       4            80       4            68       0   \n",
       "3           128       2            40       1            28       1   \n",
       "4             0      10           161       0             0       0   \n",
       "\n",
       "   quant_disc20  disc25  quant_disc25  total_orders  total_quantities  \n",
       "0             2       3            38            12               174  \n",
       "1             0       0             0            10                63  \n",
       "2             0       0             0            17               359  \n",
       "3            15       0             0            30               650  \n",
       "4             0       8           208            52              1001  "
      ]
     },
     "execution_count": 5,
     "metadata": {},
     "output_type": "execute_result"
    }
   ],
   "source": [
    "#Compare quantities ordered with and without discounts\n",
    "discs_ords.head()"
   ]
  },
  {
   "cell_type": "code",
   "execution_count": null,
   "metadata": {},
   "outputs": [],
   "source": [
    "#Sanity check for quantities\n",
    "#w/o discount. ALL GOOD\n",
    "#df_wo_discount = pd.read_sql_query('''SELECT [Order].CustomerId, \n",
    "#                                        SUM(\n",
    "#                                            CASE WHEN OrderDetail.Discount == 0.0\n",
    "#                                            THEN OrderDetail.Quantity ELSE 0 END\n",
    "#                                            ) quants_nodisc\n",
    "#                                        FROM OrderDetail\n",
    "#                                        INNER JOIN [Order] on OrderDetail.OrderId = [Order].Id\n",
    "#                                        GROUP BY [Order].CustomerId\n",
    "#                                        ORDER BY [Order].CustomerId ASC\n",
    "#                                    ''', engine)\n",
    "\n",
    "#w/ discount\n",
    "#df_w_discount = pd.read_sql_query('''SELECT [Order].CustomerId,\n",
    "#                                        SUM(\n",
    "#                                            CASE WHEN OrderDetail.Discount != 0.0\n",
    "#                                            THEN OrderDetail.Quantity ELSE 0 END\n",
    "#                                            ) quants_disc\n",
    "#                                        FROM OrderDetail \n",
    "#                                        INNER JOIN [Order] on OrderDetail.OrderId = [Order].Id\n",
    "#                                        WHERE OrderDetail.Discount != 0.0\n",
    "#                                        GROUP BY [Order].CustomerId\n",
    "#                                        ORDER BY [Order].CustomerId ASC\n",
    "#                                ''', engine)"
   ]
  },
  {
   "cell_type": "code",
   "execution_count": null,
   "metadata": {},
   "outputs": [],
   "source": [
    "#df_wo_discount.head()"
   ]
  },
  {
   "cell_type": "code",
   "execution_count": null,
   "metadata": {},
   "outputs": [],
   "source": [
    "#df_w_discount.head()"
   ]
  },
  {
   "cell_type": "code",
   "execution_count": null,
   "metadata": {},
   "outputs": [],
   "source": [
    "discs_ords.shape"
   ]
  },
  {
   "cell_type": "code",
   "execution_count": null,
   "metadata": {},
   "outputs": [],
   "source": [
    "discs_ords['quant_no_disc'].mean()"
   ]
  },
  {
   "cell_type": "code",
   "execution_count": null,
   "metadata": {},
   "outputs": [],
   "source": [
    "discs_ords['quant_all_discs'].mean()"
   ]
  },
  {
   "cell_type": "code",
   "execution_count": null,
   "metadata": {},
   "outputs": [],
   "source": [
    "discs_ords['quant_no_disc'].sum()"
   ]
  },
  {
   "cell_type": "code",
   "execution_count": null,
   "metadata": {},
   "outputs": [],
   "source": [
    "discs_ords['quant_all_discs'].sum()"
   ]
  },
  {
   "cell_type": "code",
   "execution_count": null,
   "metadata": {},
   "outputs": [],
   "source": [
    "#Not sure whether grouping is affecting the quantity sums per order. \n",
    "#i.e. is it adding up the quantities for every record assoc with an order id or just for one?\n",
    "#Look at number of orders per cust id\n",
    "\n",
    "#alfki = pd.read_sql_query(\"\"\"SELECT [Order].CustomerId, OrderDetail.*\n",
    "#                            FROM OrderDetail \n",
    "#                            \n",
    "#                            INNER JOIN [Order] on OrderDetail.OrderId = [Order].Id\n",
    "#                            WHERE [Order].CustomerId == 'ALFKI'\n",
    "#                        \"\"\", engine)"
   ]
  },
  {
   "cell_type": "code",
   "execution_count": null,
   "metadata": {},
   "outputs": [],
   "source": [
    "#PROVEN: sum is of quantities for every record not the group\n",
    "#alfki['Quantity'].sum()"
   ]
  },
  {
   "cell_type": "code",
   "execution_count": null,
   "metadata": {},
   "outputs": [],
   "source": [
    "len(discs_ords['quant_no_disc'])"
   ]
  },
  {
   "cell_type": "code",
   "execution_count": 6,
   "metadata": {
    "scrolled": false
   },
   "outputs": [
    {
     "data": {
      "text/plain": [
       "<matplotlib.collections.PathCollection at 0x5240e10>"
      ]
     },
     "execution_count": 6,
     "metadata": {},
     "output_type": "execute_result"
    },
    {
     "data": {
      "image/png": "[encoded data removed]",
      "text/plain": [
       "<Figure size 576x432 with 1 Axes>"
      ]
     },
     "metadata": {
      "needs_background": "light"
     },
     "output_type": "display_data"
    }
   ],
   "source": [
    "#Compare quantitites ordered per customer w and wo discount\n",
    "fig = plt.figure(figsize=(8,6))\n",
    "plt.scatter(range(len(discs_ords['quant_all_discs'])), discs_ords['quant_all_discs'], color='red')\n",
    "plt.scatter(range(len(discs_ords['quant_no_disc'])), discs_ords['quant_no_disc'], color='blue')"
   ]
  },
  {
   "cell_type": "code",
   "execution_count": null,
   "metadata": {},
   "outputs": [],
   "source": [
    "#Spread of raw data looks extremely close between the two. Shoudl look at hists and pdfs of each"
   ]
  },
  {
   "cell_type": "code",
   "execution_count": 7,
   "metadata": {
    "scrolled": false
   },
   "outputs": [
    {
     "data": {
      "text/plain": [
       "(array([41., 21.,  9.,  6.,  4.,  3.,  1.,  0.,  0.,  1.,  0.,  0.,  0.,\n",
       "         0.,  0.,  0.,  0.,  0.,  2.,  1.]),\n",
       " array([   0.  ,  122.85,  245.7 ,  368.55,  491.4 ,  614.25,  737.1 ,\n",
       "         859.95,  982.8 , 1105.65, 1228.5 , 1351.35, 1474.2 , 1597.05,\n",
       "        1719.9 , 1842.75, 1965.6 , 2088.45, 2211.3 , 2334.15, 2457.  ]),\n",
       " <a list of 20 Patch objects>)"
      ]
     },
     "execution_count": 7,
     "metadata": {},
     "output_type": "execute_result"
    },
    {
     "data": {
      "image/png": "[encoded data removed]",
      "text/plain": [
       "<Figure size 432x288 with 1 Axes>"
      ]
     },
     "metadata": {
      "needs_background": "light"
     },
     "output_type": "display_data"
    }
   ],
   "source": [
    "plt.hist(discs_ords['quant_all_discs'], bins=20)"
   ]
  },
  {
   "cell_type": "code",
   "execution_count": 8,
   "metadata": {},
   "outputs": [
    {
     "data": {
      "text/plain": [
       "(array([34., 20., 11.,  7., 10.,  0.,  3.,  1.,  0.,  0.,  0.,  0.,  0.,\n",
       "         1.,  0.,  0.,  0.,  0.,  1.,  1.]),\n",
       " array([  11. ,  135.5,  260. ,  384.5,  509. ,  633.5,  758. ,  882.5,\n",
       "        1007. , 1131.5, 1256. , 1380.5, 1505. , 1629.5, 1754. , 1878.5,\n",
       "        2003. , 2127.5, 2252. , 2376.5, 2501. ]),\n",
       " <a list of 20 Patch objects>)"
      ]
     },
     "execution_count": 8,
     "metadata": {},
     "output_type": "execute_result"
    },
    {
     "data": {
      "image/png": "[encoded data removed]",
      "text/plain": [
       "<Figure size 432x288 with 1 Axes>"
      ]
     },
     "metadata": {
      "needs_background": "light"
     },
     "output_type": "display_data"
    }
   ],
   "source": [
    "plt.hist(discs_ords['quant_no_disc'], bins=20)"
   ]
  },
  {
   "cell_type": "code",
   "execution_count": null,
   "metadata": {},
   "outputs": [],
   "source": [
    "#Again, the two distributions look very close, both with greatest density around the lower values\n",
    "#At this point I can predict that there won't be a significant difference between the two"
   ]
  },
  {
   "cell_type": "code",
   "execution_count": null,
   "metadata": {},
   "outputs": [],
   "source": [
    "plt.hist(discs_ords['quant_no_disc'], normed=True, bins=20)"
   ]
  },
  {
   "cell_type": "code",
   "execution_count": 9,
   "metadata": {
    "scrolled": true
   },
   "outputs": [
    {
     "name": "stderr",
     "output_type": "stream",
     "text": [
      "C:\\Users\\Stee\\Anaconda3good\\lib\\site-packages\\scipy\\stats\\stats.py:1713: FutureWarning: Using a non-tuple sequence for multidimensional indexing is deprecated; use `arr[tuple(seq)]` instead of `arr[seq]`. In the future this will be interpreted as an array index, `arr[np.array(seq)]`, which will result either in an error or a different result.\n",
      "  return np.add.reduce(sorted[indexer] * weights, axis=axis) / sumval\n"
     ]
    },
    {
     "data": {
      "text/plain": [
       "<matplotlib.axes._subplots.AxesSubplot at 0xaf6e390>"
      ]
     },
     "execution_count": 9,
     "metadata": {},
     "output_type": "execute_result"
    },
    {
     "data": {
      "image/png": "[encoded data removed]",
      "text/plain": [
       "<Figure size 432x288 with 1 Axes>"
      ]
     },
     "metadata": {
      "needs_background": "light"
     },
     "output_type": "display_data"
    }
   ],
   "source": [
    "#Show the distribution with a pdf to check for normality\n",
    "sns.distplot(discs_ords['quant_no_disc'])"
   ]
  },
  {
   "cell_type": "code",
   "execution_count": 32,
   "metadata": {},
   "outputs": [
    {
     "name": "stdout",
     "output_type": "stream",
     "text": [
      "The population distribution has only 89 values.\n"
     ]
    }
   ],
   "source": [
    "print(\"The population distribution has only\", discs_ords.shape[0], \"values.\")"
   ]
  },
  {
   "cell_type": "code",
   "execution_count": null,
   "metadata": {},
   "outputs": [],
   "source": [
    "#OFFICE HOURS QUESTION: Is it acceptable to make a sampling distribution \n",
    "#out of this? CHECKPOINT FOR JEFF"
   ]
  },
  {
   "cell_type": "code",
   "execution_count": 102,
   "metadata": {},
   "outputs": [],
   "source": [
    "#Get the data to look more \"normal\" by \n",
    "#turning it into sample distributions\n",
    "#\"Control\" is the no-discount group\n",
    "#\"Treatment\" is the discount group\n",
    "control1 = np.array(sampling_dist(np.array(discs_ords['quant_no_disc']), 100))\n",
    "treatment1 = np.array(sampling_dist(np.array(discs_ords['quant_all_discs']), 100))"
   ]
  },
  {
   "cell_type": "code",
   "execution_count": 103,
   "metadata": {},
   "outputs": [
    {
     "data": {
      "text/plain": [
       "(320.30266666666665, 321.3370786516854)"
      ]
     },
     "execution_count": 103,
     "metadata": {},
     "output_type": "execute_result"
    }
   ],
   "source": [
    "#Check for similarity between sampling distribution means\n",
    "#and population means\n",
    "control1.mean(), discs_ords['quant_no_disc'].mean()"
   ]
  },
  {
   "cell_type": "code",
   "execution_count": 104,
   "metadata": {},
   "outputs": [
    {
     "data": {
      "text/plain": [
       "(255.23933333333335, 255.25842696629215)"
      ]
     },
     "execution_count": 104,
     "metadata": {},
     "output_type": "execute_result"
    }
   ],
   "source": [
    "treatment1.mean(), discs_ords['quant_all_discs'].mean()"
   ]
  },
  {
   "cell_type": "code",
   "execution_count": null,
   "metadata": {},
   "outputs": [],
   "source": [
    "#Both are pretty close"
   ]
  },
  {
   "cell_type": "code",
   "execution_count": 34,
   "metadata": {},
   "outputs": [
    {
     "data": {
      "text/plain": [
       "64.24199999999996"
      ]
     },
     "execution_count": 34,
     "metadata": {},
     "output_type": "execute_result"
    }
   ],
   "source": [
    "diff = control1.mean() - treatment1.mean()\n",
    "diff"
   ]
  },
  {
   "cell_type": "code",
   "execution_count": 90,
   "metadata": {},
   "outputs": [
    {
     "name": "stderr",
     "output_type": "stream",
     "text": [
      "C:\\Users\\Stee\\Anaconda3good\\lib\\site-packages\\scipy\\stats\\stats.py:1713: FutureWarning: Using a non-tuple sequence for multidimensional indexing is deprecated; use `arr[tuple(seq)]` instead of `arr[seq]`. In the future this will be interpreted as an array index, `arr[np.array(seq)]`, which will result either in an error or a different result.\n",
      "  return np.add.reduce(sorted[indexer] * weights, axis=axis) / sumval\n"
     ]
    },
    {
     "data": {
      "image/png": "[encoded data removed]",
      "text/plain": [
       "<Figure size 720x576 with 1 Axes>"
      ]
     },
     "metadata": {},
     "output_type": "display_data"
    }
   ],
   "source": [
    "#Compare both sampling distributions with hist and kde\n",
    "sns.set(color_codes = True)\n",
    "sns.set(rc={'figure.figsize':(10,8)})\n",
    "sns.distplot(control1, label = \"Control group (no discount)\")\n",
    "sns.distplot(treatment1, label = \"Treatment group (with discount)\")\n",
    "plt.axvline(control1.mean(), color = 'darkblue', label = 'Control mean')\n",
    "plt.axvline(treatment1.mean(), color = 'darkorange', label = 'Treatment mean')\n",
    "plt.legend()\n",
    "plt.show()"
   ]
  },
  {
   "cell_type": "code",
   "execution_count": 28,
   "metadata": {},
   "outputs": [],
   "source": [
    "#This plot shows that the mean for the control group is higher.\n",
    "#The question is, where on the distribution for the control group\n",
    "#would the value for the mean of the treament group fall? If it is\n",
    "#outside the critical region in the tails, then it will not be statistically\n",
    "#significantly different."
   ]
  },
  {
   "cell_type": "code",
   "execution_count": 108,
   "metadata": {},
   "outputs": [
    {
     "data": {
      "text/plain": [
       "(320.30266666666665, 255.23933333333335)"
      ]
     },
     "execution_count": 108,
     "metadata": {},
     "output_type": "execute_result"
    }
   ],
   "source": [
    "control1.mean(), treatment1.mean()"
   ]
  },
  {
   "cell_type": "code",
   "execution_count": 92,
   "metadata": {},
   "outputs": [
    {
     "data": {
      "text/plain": [
       "(78.659613988939, 74.82993678706107)"
      ]
     },
     "execution_count": 92,
     "metadata": {},
     "output_type": "execute_result"
    }
   ],
   "source": [
    "control1.std(), treatment1.std()"
   ]
  },
  {
   "cell_type": "code",
   "execution_count": 55,
   "metadata": {},
   "outputs": [
    {
     "data": {
      "text/plain": [
       "59.5295672345679"
      ]
     },
     "execution_count": 55,
     "metadata": {},
     "output_type": "execute_result"
    }
   ],
   "source": [
    "#Calculate a two-sample t statistic\n",
    "#First get variance of both samples\n",
    "var = ((control1.std()**2) + (treatment1.std()**2)) / (len(control1) + len(treatment1) - 2)\n",
    "var"
   ]
  },
  {
   "cell_type": "code",
   "execution_count": 59,
   "metadata": {},
   "outputs": [
    {
     "data": {
      "text/plain": [
       "6187.334872888888"
      ]
     },
     "execution_count": 59,
     "metadata": {},
     "output_type": "execute_result"
    }
   ],
   "source": [
    "control1.std()**2"
   ]
  },
  {
   "cell_type": "code",
   "execution_count": 62,
   "metadata": {},
   "outputs": [
    {
     "data": {
      "text/plain": [
       "5599.519439555556"
      ]
     },
     "execution_count": 62,
     "metadata": {},
     "output_type": "execute_result"
    }
   ],
   "source": [
    "treatment1.std()**2"
   ]
  },
  {
   "cell_type": "code",
   "execution_count": 78,
   "metadata": {},
   "outputs": [
    {
     "data": {
      "text/plain": [
       "618733.4872888888"
      ]
     },
     "execution_count": 78,
     "metadata": {},
     "output_type": "execute_result"
    }
   ],
   "source": [
    "control1_var = sum([(i - np.mean(control1))**2 for i in control1])\n",
    "control1_var"
   ]
  },
  {
   "cell_type": "code",
   "execution_count": 79,
   "metadata": {},
   "outputs": [
    {
     "data": {
      "text/plain": [
       "559951.9439555553"
      ]
     },
     "execution_count": 79,
     "metadata": {},
     "output_type": "execute_result"
    }
   ],
   "source": [
    "treatment1_var = sum([(i - np.mean(treatment1))**2 for i in treatment1])\n",
    "treatment1_var"
   ]
  },
  {
   "cell_type": "code",
   "execution_count": 67,
   "metadata": {},
   "outputs": [],
   "source": [
    "#FROM THE LAB ON TWO SAMPLE T TESTS\n",
    "#def variance(sample):\n",
    "#    sample_mean = np.mean(sample)\n",
    "#    return sum([(i - sample_mean)**2 for i in sample])\n",
    "#def sample_variance(sample1, sample2):\n",
    "#    n_1, n_2 = len(sample1), len(sample2)\n",
    "#    var_1, var_2 = variance(sample1), variance(sample2)\n",
    "#    return (var_1 + var_2)/((n_1 + n_2)-2)"
   ]
  },
  {
   "cell_type": "code",
   "execution_count": 80,
   "metadata": {},
   "outputs": [
    {
     "data": {
      "text/plain": [
       "5952.9567234567885"
      ]
     },
     "execution_count": 80,
     "metadata": {},
     "output_type": "execute_result"
    }
   ],
   "source": [
    "vari = (control1_var + treatment1_var) / (len(control1) + len(treatment1) -2)\n",
    "vari"
   ]
  },
  {
   "cell_type": "code",
   "execution_count": 81,
   "metadata": {},
   "outputs": [
    {
     "data": {
      "text/plain": [
       "-5.887591810766747"
      ]
     },
     "execution_count": 81,
     "metadata": {},
     "output_type": "execute_result"
    }
   ],
   "source": [
    "#Build numerator for t statistic\n",
    "numer = np.mean(treatment1) - np.mean(control1)\n",
    "#Build denominator for t statistic\n",
    "denom = np.sqrt(vari * ((1/len(treatment1)) + (1/len(control1))))\n",
    "t = numer / denom\n",
    "t"
   ]
  },
  {
   "cell_type": "code",
   "execution_count": 109,
   "metadata": {},
   "outputs": [
    {
     "data": {
      "text/plain": [
       "(-5.508644149453619, 1.1153214293532252e-07)"
      ]
     },
     "execution_count": 109,
     "metadata": {},
     "output_type": "execute_result"
    }
   ],
   "source": [
    "test_stat, p_value = stats.ttest_ind(treatment1, control1)\n",
    "test_stat, p_value"
   ]
  },
  {
   "cell_type": "code",
   "execution_count": 111,
   "metadata": {},
   "outputs": [
    {
     "data": {
      "text/plain": [
       "1.9720174778338955"
      ]
     },
     "execution_count": 111,
     "metadata": {},
     "output_type": "execute_result"
    }
   ],
   "source": [
    "#Another way to find the t value\n",
    "t_alt = stats.t.ppf(q = 0.975, df = (len(control1) + len(treatment1) -2))\n",
    "t_alt"
   ]
  },
  {
   "cell_type": "code",
   "execution_count": 106,
   "metadata": {},
   "outputs": [
    {
     "data": {
      "image/png": "[encoded data removed]",
      "text/plain": [
       "<Figure size 720x576 with 1 Axes>"
      ]
     },
     "metadata": {},
     "output_type": "display_data"
    }
   ],
   "source": [
    "#Draw a t distribution\n",
    "#A set of points for x\n",
    "xs = np.linspace(-4, 4, 500)\n",
    "#A probability density function for the t-dist\n",
    "ys = stats.t.pdf(xs, (len(control1) + len(treatment1) - 2), 0, 1)\n",
    "\n",
    "#Draw a figure\n",
    "fig = plt.figure(figsize=(10,8))\n",
    "ax = fig.gca()\n",
    "#t dist in red\n",
    "ax.plot(xs, ys, color = 'red')\n",
    "#critical region\n",
    "ax.axvline(t_alt, color = 'darkgreen')\n",
    "#other critical region\n",
    "ax.axvline(-t_alt, color = 'darkgreen')\n",
    "plt.show()"
   ]
  },
  {
   "cell_type": "code",
   "execution_count": 85,
   "metadata": {},
   "outputs": [
    {
     "data": {
      "text/plain": [
       "1.64338928498428e-08"
      ]
     },
     "execution_count": 85,
     "metadata": {},
     "output_type": "execute_result"
    }
   ],
   "source": [
    "stats.t.sf(abs(t), len(control1) + len(treatment1) - 1) * 2"
   ]
  },
  {
   "cell_type": "code",
   "execution_count": null,
   "metadata": {},
   "outputs": [],
   "source": []
  },
  {
   "cell_type": "code",
   "execution_count": 107,
   "metadata": {},
   "outputs": [
    {
     "data": {
      "text/plain": [
       "(-5.508644149453619, 1.1153214293532252e-07)"
      ]
     },
     "execution_count": 107,
     "metadata": {},
     "output_type": "execute_result"
    }
   ],
   "source": []
  },
  {
   "cell_type": "code",
   "execution_count": 46,
   "metadata": {},
   "outputs": [
    {
     "data": {
      "text/plain": [
       "-5.887591810766746"
      ]
     },
     "execution_count": 46,
     "metadata": {},
     "output_type": "execute_result"
    }
   ],
   "source": []
  },
  {
   "cell_type": "code",
   "execution_count": null,
   "metadata": {},
   "outputs": [],
   "source": [
    "####EDA\n",
    "#Look at how many customers each company has\n",
    "df = pd.read_sql_query(\"\"\"SELECT Customer.Id, Customer.CompanyName\n",
    "                            FROM Customer\n",
    "                            ORDER BY Customer.CompanyName\n",
    "                        \"\"\", engine)"
   ]
  },
  {
   "cell_type": "code",
   "execution_count": null,
   "metadata": {},
   "outputs": [],
   "source": [
    "#Every company has only one customer. Orders can therefore be counted by customer or by company.\n",
    "sum(df['CompanyName'].value_counts() > 1)"
   ]
  },
  {
   "cell_type": "code",
   "execution_count": null,
   "metadata": {},
   "outputs": [],
   "source": [
    "# JUST AN EXAMPLE from the labs\n",
    "#\"\"\"SELECT o.ID, c.CompanyName, Count(*) num_orders \n",
    "#    FROM [Order] o\n",
    "#    INNER JOIN Customer c on o.CustomerID = c.ID \n",
    "#    GROUP BY c.CompanyName \n",
    "#    ORDER BY num_orders DESC\"\"\"\n",
    "\n",
    "#df = pd.read_sql_query(\"\"\"SELECT o.ID, c.CompanyName, Count(*) num_orders FROM [Order] \\\n",
    "#o INNER JOIN Customer c on o.CustomerID = c.ID GROUP BY c.CompanyName ORDER BY num_orders DESC\"\"\", engine)\n",
    "#df.head()"
   ]
  },
  {
   "cell_type": "code",
   "execution_count": null,
   "metadata": {},
   "outputs": [],
   "source": []
  },
  {
   "cell_type": "code",
   "execution_count": null,
   "metadata": {},
   "outputs": [],
   "source": []
  },
  {
   "cell_type": "code",
   "execution_count": null,
   "metadata": {},
   "outputs": [],
   "source": []
  },
  {
   "cell_type": "code",
   "execution_count": null,
   "metadata": {},
   "outputs": [],
   "source": []
  },
  {
   "cell_type": "code",
   "execution_count": null,
   "metadata": {},
   "outputs": [],
   "source": []
  },
  {
   "cell_type": "code",
   "execution_count": null,
   "metadata": {},
   "outputs": [],
   "source": []
  },
  {
   "cell_type": "code",
   "execution_count": null,
   "metadata": {},
   "outputs": [],
   "source": []
  },
  {
   "cell_type": "code",
   "execution_count": null,
   "metadata": {},
   "outputs": [],
   "source": []
  },
  {
   "cell_type": "code",
   "execution_count": null,
   "metadata": {},
   "outputs": [],
   "source": []
  },
  {
   "cell_type": "code",
   "execution_count": null,
   "metadata": {},
   "outputs": [],
   "source": [
    "#######################################\n",
    "#AUTOMAPPER BITS\n",
    "#Instantiate metadata to reflect the engine\n",
    "#metadata = MetaData()\n",
    "#metadata.reflect(engine)"
   ]
  },
  {
   "cell_type": "code",
   "execution_count": null,
   "metadata": {},
   "outputs": [],
   "source": [
    "#Create mappings to treat the database elements as OOP objects\n",
    "Base = automap_base(metadata=metadata)\n",
    "Base.prepare()"
   ]
  },
  {
   "cell_type": "code",
   "execution_count": null,
   "metadata": {},
   "outputs": [],
   "source": [
    "#['Category', 'Customer', 'CustomerCustomerDemo', 'CustomerDemographic', \n",
    "#'Employee', 'EmployeeTerritory', 'Order', 'OrderDetail', 'Product', 'Region', 'Shipper', 'Supplier', 'Territory']"
   ]
  },
  {
   "cell_type": "code",
   "execution_count": null,
   "metadata": {
    "scrolled": true
   },
   "outputs": [],
   "source": [
    "#Create an object for each table\n",
    "Category = Base.classes.Category\n",
    "Customer = Base.classes.Customer\n",
    "CustomerCustomerDemo = Base.classes.CustomerCustomerDemo\n",
    "CustomerDemographic = Base.classes.CustomerDemographic\n",
    "Employee = Base.classes.Employee\n",
    "EmployeeTerritory = Base.classes.EmployeeTerritory\n",
    "Order = Base.classes.Order\n",
    "OrderDetail = Base.classes.OrderDetail\n",
    "Product = Base.classes.Product\n",
    "Region = Base.classes.Region\n",
    "Shipper = Base.classes.Shipper\n",
    "Supplier = Base.classes.Supplier\n",
    "Territory = Base.classes.Territory"
   ]
  },
  {
   "cell_type": "code",
   "execution_count": null,
   "metadata": {},
   "outputs": [],
   "source": [
    "categories = session.query(Category).all()\n",
    "\n",
    "for cat in categories:\n",
    "    print(cat.CategoryName, cat.Description)"
   ]
  },
  {
   "cell_type": "code",
   "execution_count": null,
   "metadata": {
    "scrolled": true
   },
   "outputs": [],
   "source": [
    "for instance in session.query(Category):\n",
    "    print(instance.Description)"
   ]
  },
  {
   "cell_type": "code",
   "execution_count": null,
   "metadata": {},
   "outputs": [],
   "source": [
    "countries = []\n",
    "for instance in session.query(Customer):\n",
    "    countries.append(instance.Country)"
   ]
  },
  {
   "cell_type": "code",
   "execution_count": null,
   "metadata": {},
   "outputs": [],
   "source": [
    "countries_df = pd.DataFrame(countries)\n",
    "countries_df[0].value_counts()"
   ]
  },
  {
   "cell_type": "code",
   "execution_count": null,
   "metadata": {},
   "outputs": [],
   "source": [
    "regions = []\n",
    "for instance in session.query(Customer):\n",
    "    regions.append(instance.Region)\n",
    "\n",
    "regions_df = pd.DataFrame(regions)\n",
    "regions_df[0].value_counts()"
   ]
  },
  {
   "cell_type": "code",
   "execution_count": null,
   "metadata": {},
   "outputs": [],
   "source": [
    "names = []\n",
    "for instance in session.query(Customer):\n",
    "    names.append(instance.ContactName)\n",
    "    \n",
    "names_df = pd.DataFrame(names)\n",
    "names_df[0].value_counts()"
   ]
  },
  {
   "cell_type": "code",
   "execution_count": null,
   "metadata": {},
   "outputs": [],
   "source": [
    "len(set(names))"
   ]
  },
  {
   "cell_type": "code",
   "execution_count": null,
   "metadata": {},
   "outputs": [],
   "source": []
  },
  {
   "cell_type": "code",
   "execution_count": null,
   "metadata": {},
   "outputs": [],
   "source": [
    "session.query(Customer).column_descriptions"
   ]
  },
  {
   "cell_type": "code",
   "execution_count": null,
   "metadata": {},
   "outputs": [],
   "source": [
    "result = session.execute('''SELECT *\n",
    "                            FROM Customer\n",
    "                        ;''')"
   ]
  },
  {
   "cell_type": "code",
   "execution_count": null,
   "metadata": {},
   "outputs": [],
   "source": [
    "customer_df = pd.DataFrame(result.fetchall())"
   ]
  },
  {
   "cell_type": "code",
   "execution_count": null,
   "metadata": {},
   "outputs": [],
   "source": [
    "customer_df.shape"
   ]
  },
  {
   "cell_type": "code",
   "execution_count": null,
   "metadata": {},
   "outputs": [],
   "source": []
  },
  {
   "cell_type": "code",
   "execution_count": null,
   "metadata": {},
   "outputs": [],
   "source": []
  },
  {
   "cell_type": "code",
   "execution_count": null,
   "metadata": {},
   "outputs": [],
   "source": []
  },
  {
   "cell_type": "code",
   "execution_count": null,
   "metadata": {},
   "outputs": [],
   "source": []
  },
  {
   "cell_type": "code",
   "execution_count": null,
   "metadata": {},
   "outputs": [],
   "source": []
  },
  {
   "cell_type": "markdown",
   "metadata": {},
   "source": [
    "## Hypothesis 1\n",
    "Do discounts have a statistically significant effect on the number of products customers order? If so, at what level(s) of discount?"
   ]
  },
  {
   "cell_type": "markdown",
   "metadata": {},
   "source": [
    "product (quantity) ordered by customers, no discount\n",
    "\n",
    "product (quantity) order by customers, wiht discount\n",
    "\n",
    "H0: Discount does not have an effect on the number of products ordered by a customer. Control = Treatment\n",
    "\n",
    "H1: Discount has an effect on the number of products ordered by a customer. Control < or > Treament"
   ]
  },
  {
   "cell_type": "code",
   "execution_count": null,
   "metadata": {},
   "outputs": [],
   "source": []
  },
  {
   "cell_type": "code",
   "execution_count": null,
   "metadata": {},
   "outputs": [],
   "source": []
  },
  {
   "cell_type": "code",
   "execution_count": null,
   "metadata": {},
   "outputs": [],
   "source": []
  }
 ],
 "metadata": {
  "kernelspec": {
   "display_name": "learn-env",
   "language": "python",
   "name": "learn-env"
  },
  "language_info": {
   "codemirror_mode": {
    "name": "ipython",
    "version": 3
   },
   "file_extension": ".py",
   "mimetype": "text/x-python",
   "name": "python",
   "nbconvert_exporter": "python",
   "pygments_lexer": "ipython3",
   "version": "3.7.0"
  }
 },
 "nbformat": 4,
 "nbformat_minor": 2
}
