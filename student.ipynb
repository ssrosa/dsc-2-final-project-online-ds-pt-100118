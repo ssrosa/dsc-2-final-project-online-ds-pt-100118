{
 "cells": [
  {
   "cell_type": "markdown",
   "metadata": {},
   "source": [
    "# Final Project Submission\n",
    "Please fill out:\n",
    "\n",
    "-  Student name: Steven Rosa\n",
    "-  Student pace: part time\n",
    "-  Scheduled project review date/time: Mon 4 Feb 2019 2pm EST\n",
    "-  Instructor name: Jeff Herman\n",
    "-  Blog post URL:"
   ]
  },
  {
   "cell_type": "markdown",
   "metadata": {},
   "source": [
    "# Northwind Data Analysis"
   ]
  },
  {
   "cell_type": "code",
   "execution_count": 11,
   "metadata": {},
   "outputs": [],
   "source": [
    "#Import libraries\n",
    "import sqlalchemy #ORM\n",
    "from sqlalchemy import create_engine #To connect to the database\n",
    "from sqlalchemy.orm import Session, sessionmaker #To interact with the database as object\n",
    "from sqlalchemy import inspect #To look at tables and column names\n",
    "\n",
    "import pandas as pd #To read in parts of the database as DataFrames"
   ]
  },
  {
   "cell_type": "code",
   "execution_count": 16,
   "metadata": {},
   "outputs": [],
   "source": [
    "from sqlalchemy import MetaData #to reflect the engine object \n",
    "from sqlalchemy.ext.automap import automap_base # to create mappings from the reflection"
   ]
  },
  {
   "cell_type": "code",
   "execution_count": null,
   "metadata": {},
   "outputs": [],
   "source": [
    "#Write functions"
   ]
  },
  {
   "cell_type": "code",
   "execution_count": 5,
   "metadata": {},
   "outputs": [],
   "source": [
    "#Instantiate a session of the ORM\n",
    "#Connect to the sqlite database file\n",
    "engine = create_engine('sqlite:///Northwind_small.sqlite', echo = True)\n",
    "#Bind a session object to the engine\n",
    "Session = sessionmaker(bind=engine)\n",
    "#Instantiate the session\n",
    "session = Session()"
   ]
  },
  {
   "cell_type": "code",
   "execution_count": 6,
   "metadata": {},
   "outputs": [
    {
     "name": "stdout",
     "output_type": "stream",
     "text": [
      "2019-01-24 20:34:46,986 INFO sqlalchemy.engine.base.Engine SELECT CAST('test plain returns' AS VARCHAR(60)) AS anon_1\n",
      "2019-01-24 20:34:46,989 INFO sqlalchemy.engine.base.Engine ()\n",
      "2019-01-24 20:34:46,991 INFO sqlalchemy.engine.base.Engine SELECT CAST('test unicode returns' AS VARCHAR(60)) AS anon_1\n",
      "2019-01-24 20:34:46,992 INFO sqlalchemy.engine.base.Engine ()\n"
     ]
    }
   ],
   "source": [
    "#An object to get a first look at the database\n",
    "inspector = inspect(engine)"
   ]
  },
  {
   "cell_type": "code",
   "execution_count": 20,
   "metadata": {},
   "outputs": [],
   "source": [
    "table_names = inspector.get_table_names()"
   ]
  },
  {
   "cell_type": "code",
   "execution_count": 8,
   "metadata": {},
   "outputs": [
    {
     "name": "stdout",
     "output_type": "stream",
     "text": [
      "2019-01-24 20:35:17,679 INFO sqlalchemy.engine.base.Engine PRAGMA table_info(\"Category\")\n",
      "2019-01-24 20:35:17,680 INFO sqlalchemy.engine.base.Engine ()\n",
      "[{'name': 'Id', 'type': INTEGER(), 'nullable': True, 'default': None, 'autoincrement': 'auto', 'primary_key': 1}, {'name': 'CategoryName', 'type': VARCHAR(length=8000), 'nullable': True, 'default': None, 'autoincrement': 'auto', 'primary_key': 0}, {'name': 'Description', 'type': VARCHAR(length=8000), 'nullable': True, 'default': None, 'autoincrement': 'auto', 'primary_key': 0}]\n"
     ]
    }
   ],
   "source": [
    "print(inspector.get_columns('Category'))"
   ]
  },
  {
   "cell_type": "code",
   "execution_count": 10,
   "metadata": {},
   "outputs": [
    {
     "name": "stdout",
     "output_type": "stream",
     "text": [
      "2019-01-24 20:37:14,230 INFO sqlalchemy.engine.base.Engine SELECT *\n",
      "                            FROM Category\n",
      "                        ;\n",
      "2019-01-24 20:37:14,232 INFO sqlalchemy.engine.base.Engine ()\n",
      "[(1, 'Beverages', 'Soft drinks, coffees, teas, beers, and ales'), (2, 'Condiments', 'Sweet and savory sauces, relishes, spreads, and seasonings'), (3, 'Confections', 'Desserts, candies, and sweet breads'), (4, 'Dairy Products', 'Cheeses'), (5, 'Grains/Cereals', 'Breads, crackers, pasta, and cereal'), (6, 'Meat/Poultry', 'Prepared meats'), (7, 'Produce', 'Dried fruit and bean curd'), (8, 'Seafood', 'Seaweed and fish')]\n"
     ]
    }
   ],
   "source": [
    "#Pull raw results from the database\n",
    "conn = engine.connect()\n",
    "results = conn.execute('''SELECT *\n",
    "                            FROM Category\n",
    "                        ;''')\n",
    "print(results.fetchall())"
   ]
  },
  {
   "cell_type": "code",
   "execution_count": 13,
   "metadata": {},
   "outputs": [
    {
     "name": "stdout",
     "output_type": "stream",
     "text": [
      "2019-01-24 20:39:56,719 INFO sqlalchemy.engine.base.Engine SELECT *\n",
      "                            FROM Category\n",
      "                        ;\n",
      "2019-01-24 20:39:56,720 INFO sqlalchemy.engine.base.Engine ()\n"
     ]
    },
    {
     "data": {
      "text/html": [
       "<div>\n",
       "<style scoped>\n",
       "    .dataframe tbody tr th:only-of-type {\n",
       "        vertical-align: middle;\n",
       "    }\n",
       "\n",
       "    .dataframe tbody tr th {\n",
       "        vertical-align: top;\n",
       "    }\n",
       "\n",
       "    .dataframe thead th {\n",
       "        text-align: right;\n",
       "    }\n",
       "</style>\n",
       "<table border=\"1\" class=\"dataframe\">\n",
       "  <thead>\n",
       "    <tr style=\"text-align: right;\">\n",
       "      <th></th>\n",
       "      <th>0</th>\n",
       "      <th>1</th>\n",
       "      <th>2</th>\n",
       "    </tr>\n",
       "  </thead>\n",
       "  <tbody>\n",
       "    <tr>\n",
       "      <th>0</th>\n",
       "      <td>1</td>\n",
       "      <td>Beverages</td>\n",
       "      <td>Soft drinks, coffees, teas, beers, and ales</td>\n",
       "    </tr>\n",
       "    <tr>\n",
       "      <th>1</th>\n",
       "      <td>2</td>\n",
       "      <td>Condiments</td>\n",
       "      <td>Sweet and savory sauces, relishes, spreads, an...</td>\n",
       "    </tr>\n",
       "    <tr>\n",
       "      <th>2</th>\n",
       "      <td>3</td>\n",
       "      <td>Confections</td>\n",
       "      <td>Desserts, candies, and sweet breads</td>\n",
       "    </tr>\n",
       "    <tr>\n",
       "      <th>3</th>\n",
       "      <td>4</td>\n",
       "      <td>Dairy Products</td>\n",
       "      <td>Cheeses</td>\n",
       "    </tr>\n",
       "    <tr>\n",
       "      <th>4</th>\n",
       "      <td>5</td>\n",
       "      <td>Grains/Cereals</td>\n",
       "      <td>Breads, crackers, pasta, and cereal</td>\n",
       "    </tr>\n",
       "  </tbody>\n",
       "</table>\n",
       "</div>"
      ],
      "text/plain": [
       "   0               1                                                  2\n",
       "0  1       Beverages        Soft drinks, coffees, teas, beers, and ales\n",
       "1  2      Condiments  Sweet and savory sauces, relishes, spreads, an...\n",
       "2  3     Confections                Desserts, candies, and sweet breads\n",
       "3  4  Dairy Products                                            Cheeses\n",
       "4  5  Grains/Cereals                Breads, crackers, pasta, and cereal"
      ]
     },
     "execution_count": 13,
     "metadata": {},
     "output_type": "execute_result"
    }
   ],
   "source": [
    "results = conn.execute('''SELECT *\n",
    "                            FROM Category\n",
    "                        ;''')\n",
    "df = pd.DataFrame(results.fetchall())\n",
    "df.head()"
   ]
  },
  {
   "cell_type": "code",
   "execution_count": 14,
   "metadata": {},
   "outputs": [
    {
     "name": "stdout",
     "output_type": "stream",
     "text": [
      "2019-01-24 20:41:26,710 INFO sqlalchemy.engine.base.Engine SELECT * \n",
      "                           FROM Category\n",
      "                       ;\n",
      "2019-01-24 20:41:26,710 INFO sqlalchemy.engine.base.Engine ()\n"
     ]
    },
    {
     "data": {
      "text/html": [
       "<div>\n",
       "<style scoped>\n",
       "    .dataframe tbody tr th:only-of-type {\n",
       "        vertical-align: middle;\n",
       "    }\n",
       "\n",
       "    .dataframe tbody tr th {\n",
       "        vertical-align: top;\n",
       "    }\n",
       "\n",
       "    .dataframe thead th {\n",
       "        text-align: right;\n",
       "    }\n",
       "</style>\n",
       "<table border=\"1\" class=\"dataframe\">\n",
       "  <thead>\n",
       "    <tr style=\"text-align: right;\">\n",
       "      <th></th>\n",
       "      <th>Id</th>\n",
       "      <th>CategoryName</th>\n",
       "      <th>Description</th>\n",
       "    </tr>\n",
       "  </thead>\n",
       "  <tbody>\n",
       "    <tr>\n",
       "      <th>0</th>\n",
       "      <td>1</td>\n",
       "      <td>Beverages</td>\n",
       "      <td>Soft drinks, coffees, teas, beers, and ales</td>\n",
       "    </tr>\n",
       "    <tr>\n",
       "      <th>1</th>\n",
       "      <td>2</td>\n",
       "      <td>Condiments</td>\n",
       "      <td>Sweet and savory sauces, relishes, spreads, an...</td>\n",
       "    </tr>\n",
       "    <tr>\n",
       "      <th>2</th>\n",
       "      <td>3</td>\n",
       "      <td>Confections</td>\n",
       "      <td>Desserts, candies, and sweet breads</td>\n",
       "    </tr>\n",
       "    <tr>\n",
       "      <th>3</th>\n",
       "      <td>4</td>\n",
       "      <td>Dairy Products</td>\n",
       "      <td>Cheeses</td>\n",
       "    </tr>\n",
       "    <tr>\n",
       "      <th>4</th>\n",
       "      <td>5</td>\n",
       "      <td>Grains/Cereals</td>\n",
       "      <td>Breads, crackers, pasta, and cereal</td>\n",
       "    </tr>\n",
       "  </tbody>\n",
       "</table>\n",
       "</div>"
      ],
      "text/plain": [
       "   Id    CategoryName                                        Description\n",
       "0   1       Beverages        Soft drinks, coffees, teas, beers, and ales\n",
       "1   2      Condiments  Sweet and savory sauces, relishes, spreads, an...\n",
       "2   3     Confections                Desserts, candies, and sweet breads\n",
       "3   4  Dairy Products                                            Cheeses\n",
       "4   5  Grains/Cereals                Breads, crackers, pasta, and cereal"
      ]
     },
     "execution_count": 14,
     "metadata": {},
     "output_type": "execute_result"
    }
   ],
   "source": [
    "df = pd.read_sql_query('''SELECT * \n",
    "                           FROM Category\n",
    "                       ;''', engine)\n",
    "df.head()"
   ]
  },
  {
   "cell_type": "code",
   "execution_count": 17,
   "metadata": {},
   "outputs": [
    {
     "name": "stdout",
     "output_type": "stream",
     "text": [
      "2019-01-24 20:46:40,380 INFO sqlalchemy.engine.base.Engine SELECT name FROM sqlite_master WHERE type='table' ORDER BY name\n",
      "2019-01-24 20:46:40,380 INFO sqlalchemy.engine.base.Engine ()\n",
      "2019-01-24 20:46:40,382 INFO sqlalchemy.engine.base.Engine PRAGMA table_info(\"Category\")\n",
      "2019-01-24 20:46:40,383 INFO sqlalchemy.engine.base.Engine ()\n",
      "2019-01-24 20:46:40,384 INFO sqlalchemy.engine.base.Engine SELECT sql FROM  (SELECT * FROM sqlite_master UNION ALL   SELECT * FROM sqlite_temp_master) WHERE name = 'Category' AND type = 'table'\n",
      "2019-01-24 20:46:40,385 INFO sqlalchemy.engine.base.Engine ()\n",
      "2019-01-24 20:46:40,418 INFO sqlalchemy.engine.base.Engine PRAGMA foreign_key_list(\"Category\")\n",
      "2019-01-24 20:46:40,419 INFO sqlalchemy.engine.base.Engine ()\n",
      "2019-01-24 20:46:40,420 INFO sqlalchemy.engine.base.Engine SELECT sql FROM  (SELECT * FROM sqlite_master UNION ALL   SELECT * FROM sqlite_temp_master) WHERE name = 'Category' AND type = 'table'\n",
      "2019-01-24 20:46:40,421 INFO sqlalchemy.engine.base.Engine ()\n",
      "2019-01-24 20:46:40,423 INFO sqlalchemy.engine.base.Engine PRAGMA index_list(\"Category\")\n",
      "2019-01-24 20:46:40,425 INFO sqlalchemy.engine.base.Engine ()\n",
      "2019-01-24 20:46:40,426 INFO sqlalchemy.engine.base.Engine PRAGMA index_list(\"Category\")\n",
      "2019-01-24 20:46:40,429 INFO sqlalchemy.engine.base.Engine ()\n",
      "2019-01-24 20:46:40,431 INFO sqlalchemy.engine.base.Engine SELECT sql FROM  (SELECT * FROM sqlite_master UNION ALL   SELECT * FROM sqlite_temp_master) WHERE name = 'Category' AND type = 'table'\n",
      "2019-01-24 20:46:40,432 INFO sqlalchemy.engine.base.Engine ()\n",
      "2019-01-24 20:46:40,435 INFO sqlalchemy.engine.base.Engine PRAGMA table_info(\"Customer\")\n",
      "2019-01-24 20:46:40,436 INFO sqlalchemy.engine.base.Engine ()\n",
      "2019-01-24 20:46:40,438 INFO sqlalchemy.engine.base.Engine SELECT sql FROM  (SELECT * FROM sqlite_master UNION ALL   SELECT * FROM sqlite_temp_master) WHERE name = 'Customer' AND type = 'table'\n",
      "2019-01-24 20:46:40,439 INFO sqlalchemy.engine.base.Engine ()\n",
      "2019-01-24 20:46:40,440 INFO sqlalchemy.engine.base.Engine PRAGMA foreign_key_list(\"Customer\")\n",
      "2019-01-24 20:46:40,441 INFO sqlalchemy.engine.base.Engine ()\n",
      "2019-01-24 20:46:40,442 INFO sqlalchemy.engine.base.Engine SELECT sql FROM  (SELECT * FROM sqlite_master UNION ALL   SELECT * FROM sqlite_temp_master) WHERE name = 'Customer' AND type = 'table'\n",
      "2019-01-24 20:46:40,442 INFO sqlalchemy.engine.base.Engine ()\n",
      "2019-01-24 20:46:40,443 INFO sqlalchemy.engine.base.Engine PRAGMA index_list(\"Customer\")\n",
      "2019-01-24 20:46:40,444 INFO sqlalchemy.engine.base.Engine ()\n",
      "2019-01-24 20:46:40,445 INFO sqlalchemy.engine.base.Engine PRAGMA index_list(\"Customer\")\n",
      "2019-01-24 20:46:40,449 INFO sqlalchemy.engine.base.Engine ()\n",
      "2019-01-24 20:46:40,455 INFO sqlalchemy.engine.base.Engine PRAGMA index_info(\"sqlite_autoindex_Customer_1\")\n",
      "2019-01-24 20:46:40,456 INFO sqlalchemy.engine.base.Engine ()\n",
      "2019-01-24 20:46:40,457 INFO sqlalchemy.engine.base.Engine SELECT sql FROM  (SELECT * FROM sqlite_master UNION ALL   SELECT * FROM sqlite_temp_master) WHERE name = 'Customer' AND type = 'table'\n",
      "2019-01-24 20:46:40,458 INFO sqlalchemy.engine.base.Engine ()\n",
      "2019-01-24 20:46:40,459 INFO sqlalchemy.engine.base.Engine PRAGMA table_info(\"CustomerCustomerDemo\")\n",
      "2019-01-24 20:46:40,460 INFO sqlalchemy.engine.base.Engine ()\n",
      "2019-01-24 20:46:40,461 INFO sqlalchemy.engine.base.Engine SELECT sql FROM  (SELECT * FROM sqlite_master UNION ALL   SELECT * FROM sqlite_temp_master) WHERE name = 'CustomerCustomerDemo' AND type = 'table'\n",
      "2019-01-24 20:46:40,462 INFO sqlalchemy.engine.base.Engine ()\n",
      "2019-01-24 20:46:40,463 INFO sqlalchemy.engine.base.Engine PRAGMA foreign_key_list(\"CustomerCustomerDemo\")\n",
      "2019-01-24 20:46:40,464 INFO sqlalchemy.engine.base.Engine ()\n",
      "2019-01-24 20:46:40,466 INFO sqlalchemy.engine.base.Engine SELECT sql FROM  (SELECT * FROM sqlite_master UNION ALL   SELECT * FROM sqlite_temp_master) WHERE name = 'CustomerCustomerDemo' AND type = 'table'\n",
      "2019-01-24 20:46:40,467 INFO sqlalchemy.engine.base.Engine ()\n",
      "2019-01-24 20:46:40,468 INFO sqlalchemy.engine.base.Engine PRAGMA index_list(\"CustomerCustomerDemo\")\n",
      "2019-01-24 20:46:40,468 INFO sqlalchemy.engine.base.Engine ()\n",
      "2019-01-24 20:46:40,469 INFO sqlalchemy.engine.base.Engine PRAGMA index_list(\"CustomerCustomerDemo\")\n",
      "2019-01-24 20:46:40,470 INFO sqlalchemy.engine.base.Engine ()\n",
      "2019-01-24 20:46:40,471 INFO sqlalchemy.engine.base.Engine PRAGMA index_info(\"sqlite_autoindex_CustomerCustomerDemo_1\")\n",
      "2019-01-24 20:46:40,471 INFO sqlalchemy.engine.base.Engine ()\n",
      "2019-01-24 20:46:40,472 INFO sqlalchemy.engine.base.Engine SELECT sql FROM  (SELECT * FROM sqlite_master UNION ALL   SELECT * FROM sqlite_temp_master) WHERE name = 'CustomerCustomerDemo' AND type = 'table'\n",
      "2019-01-24 20:46:40,472 INFO sqlalchemy.engine.base.Engine ()\n",
      "2019-01-24 20:46:40,473 INFO sqlalchemy.engine.base.Engine PRAGMA table_info(\"CustomerDemographic\")\n",
      "2019-01-24 20:46:40,474 INFO sqlalchemy.engine.base.Engine ()\n",
      "2019-01-24 20:46:40,475 INFO sqlalchemy.engine.base.Engine SELECT sql FROM  (SELECT * FROM sqlite_master UNION ALL   SELECT * FROM sqlite_temp_master) WHERE name = 'CustomerDemographic' AND type = 'table'\n",
      "2019-01-24 20:46:40,476 INFO sqlalchemy.engine.base.Engine ()\n",
      "2019-01-24 20:46:40,477 INFO sqlalchemy.engine.base.Engine PRAGMA foreign_key_list(\"CustomerDemographic\")\n",
      "2019-01-24 20:46:40,477 INFO sqlalchemy.engine.base.Engine ()\n",
      "2019-01-24 20:46:40,478 INFO sqlalchemy.engine.base.Engine SELECT sql FROM  (SELECT * FROM sqlite_master UNION ALL   SELECT * FROM sqlite_temp_master) WHERE name = 'CustomerDemographic' AND type = 'table'\n",
      "2019-01-24 20:46:40,479 INFO sqlalchemy.engine.base.Engine ()\n",
      "2019-01-24 20:46:40,480 INFO sqlalchemy.engine.base.Engine PRAGMA index_list(\"CustomerDemographic\")\n",
      "2019-01-24 20:46:40,480 INFO sqlalchemy.engine.base.Engine ()\n",
      "2019-01-24 20:46:40,481 INFO sqlalchemy.engine.base.Engine PRAGMA index_list(\"CustomerDemographic\")\n",
      "2019-01-24 20:46:40,481 INFO sqlalchemy.engine.base.Engine ()\n",
      "2019-01-24 20:46:40,482 INFO sqlalchemy.engine.base.Engine PRAGMA index_info(\"sqlite_autoindex_CustomerDemographic_1\")\n",
      "2019-01-24 20:46:40,483 INFO sqlalchemy.engine.base.Engine ()\n",
      "2019-01-24 20:46:40,484 INFO sqlalchemy.engine.base.Engine SELECT sql FROM  (SELECT * FROM sqlite_master UNION ALL   SELECT * FROM sqlite_temp_master) WHERE name = 'CustomerDemographic' AND type = 'table'\n",
      "2019-01-24 20:46:40,484 INFO sqlalchemy.engine.base.Engine ()\n",
      "2019-01-24 20:46:40,485 INFO sqlalchemy.engine.base.Engine PRAGMA table_info(\"Employee\")\n",
      "2019-01-24 20:46:40,486 INFO sqlalchemy.engine.base.Engine ()\n",
      "2019-01-24 20:46:40,488 INFO sqlalchemy.engine.base.Engine SELECT sql FROM  (SELECT * FROM sqlite_master UNION ALL   SELECT * FROM sqlite_temp_master) WHERE name = 'Employee' AND type = 'table'\n",
      "2019-01-24 20:46:40,488 INFO sqlalchemy.engine.base.Engine ()\n",
      "2019-01-24 20:46:40,489 INFO sqlalchemy.engine.base.Engine PRAGMA foreign_key_list(\"Employee\")\n",
      "2019-01-24 20:46:40,490 INFO sqlalchemy.engine.base.Engine ()\n",
      "2019-01-24 20:46:40,491 INFO sqlalchemy.engine.base.Engine SELECT sql FROM  (SELECT * FROM sqlite_master UNION ALL   SELECT * FROM sqlite_temp_master) WHERE name = 'Employee' AND type = 'table'\n",
      "2019-01-24 20:46:40,491 INFO sqlalchemy.engine.base.Engine ()\n",
      "2019-01-24 20:46:40,492 INFO sqlalchemy.engine.base.Engine PRAGMA index_list(\"Employee\")\n",
      "2019-01-24 20:46:40,493 INFO sqlalchemy.engine.base.Engine ()\n",
      "2019-01-24 20:46:40,493 INFO sqlalchemy.engine.base.Engine PRAGMA index_list(\"Employee\")\n",
      "2019-01-24 20:46:40,494 INFO sqlalchemy.engine.base.Engine ()\n",
      "2019-01-24 20:46:40,495 INFO sqlalchemy.engine.base.Engine SELECT sql FROM  (SELECT * FROM sqlite_master UNION ALL   SELECT * FROM sqlite_temp_master) WHERE name = 'Employee' AND type = 'table'\n",
      "2019-01-24 20:46:40,495 INFO sqlalchemy.engine.base.Engine ()\n",
      "2019-01-24 20:46:40,497 INFO sqlalchemy.engine.base.Engine PRAGMA table_info(\"EmployeeTerritory\")\n",
      "2019-01-24 20:46:40,497 INFO sqlalchemy.engine.base.Engine ()\n",
      "2019-01-24 20:46:40,498 INFO sqlalchemy.engine.base.Engine SELECT sql FROM  (SELECT * FROM sqlite_master UNION ALL   SELECT * FROM sqlite_temp_master) WHERE name = 'EmployeeTerritory' AND type = 'table'\n",
      "2019-01-24 20:46:40,499 INFO sqlalchemy.engine.base.Engine ()\n"
     ]
    },
    {
     "name": "stdout",
     "output_type": "stream",
     "text": [
      "2019-01-24 20:46:40,500 INFO sqlalchemy.engine.base.Engine PRAGMA foreign_key_list(\"EmployeeTerritory\")\n",
      "2019-01-24 20:46:40,500 INFO sqlalchemy.engine.base.Engine ()\n",
      "2019-01-24 20:46:40,501 INFO sqlalchemy.engine.base.Engine SELECT sql FROM  (SELECT * FROM sqlite_master UNION ALL   SELECT * FROM sqlite_temp_master) WHERE name = 'EmployeeTerritory' AND type = 'table'\n",
      "2019-01-24 20:46:40,501 INFO sqlalchemy.engine.base.Engine ()\n",
      "2019-01-24 20:46:40,502 INFO sqlalchemy.engine.base.Engine PRAGMA index_list(\"EmployeeTerritory\")\n",
      "2019-01-24 20:46:40,503 INFO sqlalchemy.engine.base.Engine ()\n",
      "2019-01-24 20:46:40,504 INFO sqlalchemy.engine.base.Engine PRAGMA index_list(\"EmployeeTerritory\")\n",
      "2019-01-24 20:46:40,504 INFO sqlalchemy.engine.base.Engine ()\n",
      "2019-01-24 20:46:40,505 INFO sqlalchemy.engine.base.Engine PRAGMA index_info(\"sqlite_autoindex_EmployeeTerritory_1\")\n",
      "2019-01-24 20:46:40,505 INFO sqlalchemy.engine.base.Engine ()\n",
      "2019-01-24 20:46:40,507 INFO sqlalchemy.engine.base.Engine SELECT sql FROM  (SELECT * FROM sqlite_master UNION ALL   SELECT * FROM sqlite_temp_master) WHERE name = 'EmployeeTerritory' AND type = 'table'\n",
      "2019-01-24 20:46:40,508 INFO sqlalchemy.engine.base.Engine ()\n",
      "2019-01-24 20:46:40,509 INFO sqlalchemy.engine.base.Engine PRAGMA table_info(\"Order\")\n",
      "2019-01-24 20:46:40,509 INFO sqlalchemy.engine.base.Engine ()\n",
      "2019-01-24 20:46:40,511 INFO sqlalchemy.engine.base.Engine SELECT sql FROM  (SELECT * FROM sqlite_master UNION ALL   SELECT * FROM sqlite_temp_master) WHERE name = 'Order' AND type = 'table'\n",
      "2019-01-24 20:46:40,512 INFO sqlalchemy.engine.base.Engine ()\n",
      "2019-01-24 20:46:40,513 INFO sqlalchemy.engine.base.Engine PRAGMA foreign_key_list(\"Order\")\n",
      "2019-01-24 20:46:40,513 INFO sqlalchemy.engine.base.Engine ()\n",
      "2019-01-24 20:46:40,514 INFO sqlalchemy.engine.base.Engine SELECT sql FROM  (SELECT * FROM sqlite_master UNION ALL   SELECT * FROM sqlite_temp_master) WHERE name = 'Order' AND type = 'table'\n",
      "2019-01-24 20:46:40,515 INFO sqlalchemy.engine.base.Engine ()\n",
      "2019-01-24 20:46:40,515 INFO sqlalchemy.engine.base.Engine PRAGMA index_list(\"Order\")\n",
      "2019-01-24 20:46:40,516 INFO sqlalchemy.engine.base.Engine ()\n",
      "2019-01-24 20:46:40,517 INFO sqlalchemy.engine.base.Engine PRAGMA index_list(\"Order\")\n",
      "2019-01-24 20:46:40,518 INFO sqlalchemy.engine.base.Engine ()\n",
      "2019-01-24 20:46:40,518 INFO sqlalchemy.engine.base.Engine SELECT sql FROM  (SELECT * FROM sqlite_master UNION ALL   SELECT * FROM sqlite_temp_master) WHERE name = 'Order' AND type = 'table'\n",
      "2019-01-24 20:46:40,519 INFO sqlalchemy.engine.base.Engine ()\n",
      "2019-01-24 20:46:40,520 INFO sqlalchemy.engine.base.Engine PRAGMA table_info(\"OrderDetail\")\n",
      "2019-01-24 20:46:40,521 INFO sqlalchemy.engine.base.Engine ()\n",
      "2019-01-24 20:46:40,522 INFO sqlalchemy.engine.base.Engine SELECT sql FROM  (SELECT * FROM sqlite_master UNION ALL   SELECT * FROM sqlite_temp_master) WHERE name = 'OrderDetail' AND type = 'table'\n",
      "2019-01-24 20:46:40,523 INFO sqlalchemy.engine.base.Engine ()\n",
      "2019-01-24 20:46:40,524 INFO sqlalchemy.engine.base.Engine PRAGMA foreign_key_list(\"OrderDetail\")\n",
      "2019-01-24 20:46:40,524 INFO sqlalchemy.engine.base.Engine ()\n",
      "2019-01-24 20:46:40,525 INFO sqlalchemy.engine.base.Engine SELECT sql FROM  (SELECT * FROM sqlite_master UNION ALL   SELECT * FROM sqlite_temp_master) WHERE name = 'OrderDetail' AND type = 'table'\n",
      "2019-01-24 20:46:40,525 INFO sqlalchemy.engine.base.Engine ()\n",
      "2019-01-24 20:46:40,526 INFO sqlalchemy.engine.base.Engine PRAGMA index_list(\"OrderDetail\")\n",
      "2019-01-24 20:46:40,527 INFO sqlalchemy.engine.base.Engine ()\n",
      "2019-01-24 20:46:40,528 INFO sqlalchemy.engine.base.Engine PRAGMA index_list(\"OrderDetail\")\n",
      "2019-01-24 20:46:40,528 INFO sqlalchemy.engine.base.Engine ()\n",
      "2019-01-24 20:46:40,529 INFO sqlalchemy.engine.base.Engine PRAGMA index_info(\"sqlite_autoindex_OrderDetail_1\")\n",
      "2019-01-24 20:46:40,530 INFO sqlalchemy.engine.base.Engine ()\n",
      "2019-01-24 20:46:40,531 INFO sqlalchemy.engine.base.Engine SELECT sql FROM  (SELECT * FROM sqlite_master UNION ALL   SELECT * FROM sqlite_temp_master) WHERE name = 'OrderDetail' AND type = 'table'\n",
      "2019-01-24 20:46:40,532 INFO sqlalchemy.engine.base.Engine ()\n",
      "2019-01-24 20:46:40,533 INFO sqlalchemy.engine.base.Engine PRAGMA table_info(\"Product\")\n",
      "2019-01-24 20:46:40,534 INFO sqlalchemy.engine.base.Engine ()\n",
      "2019-01-24 20:46:40,536 INFO sqlalchemy.engine.base.Engine SELECT sql FROM  (SELECT * FROM sqlite_master UNION ALL   SELECT * FROM sqlite_temp_master) WHERE name = 'Product' AND type = 'table'\n",
      "2019-01-24 20:46:40,536 INFO sqlalchemy.engine.base.Engine ()\n",
      "2019-01-24 20:46:40,537 INFO sqlalchemy.engine.base.Engine PRAGMA foreign_key_list(\"Product\")\n",
      "2019-01-24 20:46:40,538 INFO sqlalchemy.engine.base.Engine ()\n",
      "2019-01-24 20:46:40,539 INFO sqlalchemy.engine.base.Engine SELECT sql FROM  (SELECT * FROM sqlite_master UNION ALL   SELECT * FROM sqlite_temp_master) WHERE name = 'Product' AND type = 'table'\n",
      "2019-01-24 20:46:40,539 INFO sqlalchemy.engine.base.Engine ()\n",
      "2019-01-24 20:46:40,540 INFO sqlalchemy.engine.base.Engine PRAGMA index_list(\"Product\")\n",
      "2019-01-24 20:46:40,541 INFO sqlalchemy.engine.base.Engine ()\n",
      "2019-01-24 20:46:40,541 INFO sqlalchemy.engine.base.Engine PRAGMA index_list(\"Product\")\n",
      "2019-01-24 20:46:40,542 INFO sqlalchemy.engine.base.Engine ()\n",
      "2019-01-24 20:46:40,543 INFO sqlalchemy.engine.base.Engine SELECT sql FROM  (SELECT * FROM sqlite_master UNION ALL   SELECT * FROM sqlite_temp_master) WHERE name = 'Product' AND type = 'table'\n",
      "2019-01-24 20:46:40,543 INFO sqlalchemy.engine.base.Engine ()\n",
      "2019-01-24 20:46:40,544 INFO sqlalchemy.engine.base.Engine PRAGMA table_info(\"Region\")\n",
      "2019-01-24 20:46:40,545 INFO sqlalchemy.engine.base.Engine ()\n",
      "2019-01-24 20:46:40,546 INFO sqlalchemy.engine.base.Engine SELECT sql FROM  (SELECT * FROM sqlite_master UNION ALL   SELECT * FROM sqlite_temp_master) WHERE name = 'Region' AND type = 'table'\n",
      "2019-01-24 20:46:40,546 INFO sqlalchemy.engine.base.Engine ()\n",
      "2019-01-24 20:46:40,547 INFO sqlalchemy.engine.base.Engine PRAGMA foreign_key_list(\"Region\")\n",
      "2019-01-24 20:46:40,548 INFO sqlalchemy.engine.base.Engine ()\n",
      "2019-01-24 20:46:40,548 INFO sqlalchemy.engine.base.Engine SELECT sql FROM  (SELECT * FROM sqlite_master UNION ALL   SELECT * FROM sqlite_temp_master) WHERE name = 'Region' AND type = 'table'\n",
      "2019-01-24 20:46:40,549 INFO sqlalchemy.engine.base.Engine ()\n",
      "2019-01-24 20:46:40,550 INFO sqlalchemy.engine.base.Engine PRAGMA index_list(\"Region\")\n",
      "2019-01-24 20:46:40,550 INFO sqlalchemy.engine.base.Engine ()\n",
      "2019-01-24 20:46:40,551 INFO sqlalchemy.engine.base.Engine PRAGMA index_list(\"Region\")\n",
      "2019-01-24 20:46:40,552 INFO sqlalchemy.engine.base.Engine ()\n",
      "2019-01-24 20:46:40,553 INFO sqlalchemy.engine.base.Engine SELECT sql FROM  (SELECT * FROM sqlite_master UNION ALL   SELECT * FROM sqlite_temp_master) WHERE name = 'Region' AND type = 'table'\n",
      "2019-01-24 20:46:40,553 INFO sqlalchemy.engine.base.Engine ()\n",
      "2019-01-24 20:46:40,554 INFO sqlalchemy.engine.base.Engine PRAGMA table_info(\"Shipper\")\n",
      "2019-01-24 20:46:40,555 INFO sqlalchemy.engine.base.Engine ()\n",
      "2019-01-24 20:46:40,556 INFO sqlalchemy.engine.base.Engine SELECT sql FROM  (SELECT * FROM sqlite_master UNION ALL   SELECT * FROM sqlite_temp_master) WHERE name = 'Shipper' AND type = 'table'\n",
      "2019-01-24 20:46:40,562 INFO sqlalchemy.engine.base.Engine ()\n",
      "2019-01-24 20:46:40,565 INFO sqlalchemy.engine.base.Engine PRAGMA foreign_key_list(\"Shipper\")\n",
      "2019-01-24 20:46:40,566 INFO sqlalchemy.engine.base.Engine ()\n",
      "2019-01-24 20:46:40,567 INFO sqlalchemy.engine.base.Engine SELECT sql FROM  (SELECT * FROM sqlite_master UNION ALL   SELECT * FROM sqlite_temp_master) WHERE name = 'Shipper' AND type = 'table'\n",
      "2019-01-24 20:46:40,567 INFO sqlalchemy.engine.base.Engine ()\n",
      "2019-01-24 20:46:40,568 INFO sqlalchemy.engine.base.Engine PRAGMA index_list(\"Shipper\")\n",
      "2019-01-24 20:46:40,568 INFO sqlalchemy.engine.base.Engine ()\n",
      "2019-01-24 20:46:40,569 INFO sqlalchemy.engine.base.Engine PRAGMA index_list(\"Shipper\")\n",
      "2019-01-24 20:46:40,570 INFO sqlalchemy.engine.base.Engine ()\n",
      "2019-01-24 20:46:40,571 INFO sqlalchemy.engine.base.Engine SELECT sql FROM  (SELECT * FROM sqlite_master UNION ALL   SELECT * FROM sqlite_temp_master) WHERE name = 'Shipper' AND type = 'table'\n",
      "2019-01-24 20:46:40,571 INFO sqlalchemy.engine.base.Engine ()\n"
     ]
    },
    {
     "name": "stdout",
     "output_type": "stream",
     "text": [
      "2019-01-24 20:46:40,572 INFO sqlalchemy.engine.base.Engine PRAGMA table_info(\"Supplier\")\n",
      "2019-01-24 20:46:40,573 INFO sqlalchemy.engine.base.Engine ()\n",
      "2019-01-24 20:46:40,574 INFO sqlalchemy.engine.base.Engine SELECT sql FROM  (SELECT * FROM sqlite_master UNION ALL   SELECT * FROM sqlite_temp_master) WHERE name = 'Supplier' AND type = 'table'\n",
      "2019-01-24 20:46:40,575 INFO sqlalchemy.engine.base.Engine ()\n",
      "2019-01-24 20:46:40,576 INFO sqlalchemy.engine.base.Engine PRAGMA foreign_key_list(\"Supplier\")\n",
      "2019-01-24 20:46:40,577 INFO sqlalchemy.engine.base.Engine ()\n",
      "2019-01-24 20:46:40,577 INFO sqlalchemy.engine.base.Engine SELECT sql FROM  (SELECT * FROM sqlite_master UNION ALL   SELECT * FROM sqlite_temp_master) WHERE name = 'Supplier' AND type = 'table'\n",
      "2019-01-24 20:46:40,578 INFO sqlalchemy.engine.base.Engine ()\n",
      "2019-01-24 20:46:40,579 INFO sqlalchemy.engine.base.Engine PRAGMA index_list(\"Supplier\")\n",
      "2019-01-24 20:46:40,579 INFO sqlalchemy.engine.base.Engine ()\n",
      "2019-01-24 20:46:40,580 INFO sqlalchemy.engine.base.Engine PRAGMA index_list(\"Supplier\")\n",
      "2019-01-24 20:46:40,583 INFO sqlalchemy.engine.base.Engine ()\n",
      "2019-01-24 20:46:40,584 INFO sqlalchemy.engine.base.Engine SELECT sql FROM  (SELECT * FROM sqlite_master UNION ALL   SELECT * FROM sqlite_temp_master) WHERE name = 'Supplier' AND type = 'table'\n",
      "2019-01-24 20:46:40,584 INFO sqlalchemy.engine.base.Engine ()\n",
      "2019-01-24 20:46:40,586 INFO sqlalchemy.engine.base.Engine PRAGMA table_info(\"Territory\")\n",
      "2019-01-24 20:46:40,586 INFO sqlalchemy.engine.base.Engine ()\n",
      "2019-01-24 20:46:40,588 INFO sqlalchemy.engine.base.Engine SELECT sql FROM  (SELECT * FROM sqlite_master UNION ALL   SELECT * FROM sqlite_temp_master) WHERE name = 'Territory' AND type = 'table'\n",
      "2019-01-24 20:46:40,588 INFO sqlalchemy.engine.base.Engine ()\n",
      "2019-01-24 20:46:40,590 INFO sqlalchemy.engine.base.Engine PRAGMA foreign_key_list(\"Territory\")\n",
      "2019-01-24 20:46:40,590 INFO sqlalchemy.engine.base.Engine ()\n",
      "2019-01-24 20:46:40,591 INFO sqlalchemy.engine.base.Engine SELECT sql FROM  (SELECT * FROM sqlite_master UNION ALL   SELECT * FROM sqlite_temp_master) WHERE name = 'Territory' AND type = 'table'\n",
      "2019-01-24 20:46:40,591 INFO sqlalchemy.engine.base.Engine ()\n",
      "2019-01-24 20:46:40,592 INFO sqlalchemy.engine.base.Engine PRAGMA index_list(\"Territory\")\n",
      "2019-01-24 20:46:40,593 INFO sqlalchemy.engine.base.Engine ()\n",
      "2019-01-24 20:46:40,594 INFO sqlalchemy.engine.base.Engine PRAGMA index_list(\"Territory\")\n",
      "2019-01-24 20:46:40,594 INFO sqlalchemy.engine.base.Engine ()\n",
      "2019-01-24 20:46:40,595 INFO sqlalchemy.engine.base.Engine PRAGMA index_info(\"sqlite_autoindex_Territory_1\")\n",
      "2019-01-24 20:46:40,596 INFO sqlalchemy.engine.base.Engine ()\n",
      "2019-01-24 20:46:40,597 INFO sqlalchemy.engine.base.Engine SELECT sql FROM  (SELECT * FROM sqlite_master UNION ALL   SELECT * FROM sqlite_temp_master) WHERE name = 'Territory' AND type = 'table'\n",
      "2019-01-24 20:46:40,597 INFO sqlalchemy.engine.base.Engine ()\n"
     ]
    }
   ],
   "source": [
    "#Instantiate metadata reflect the engine\n",
    "metadata = MetaData()\n",
    "metadata.reflect(engine)"
   ]
  },
  {
   "cell_type": "code",
   "execution_count": 19,
   "metadata": {},
   "outputs": [],
   "source": [
    "#Create mappings to treat the database elements as OOP objects\n",
    "Base = automap_base(metadata=metadata)\n",
    "Base.prepare()"
   ]
  },
  {
   "cell_type": "code",
   "execution_count": null,
   "metadata": {},
   "outputs": [],
   "source": [
    "#['Category', 'Customer', 'CustomerCustomerDemo', 'CustomerDemographic', \n",
    "#'Employee', 'EmployeeTerritory', 'Order', 'OrderDetail', 'Product', 'Region', 'Shipper', 'Supplier', 'Territory']"
   ]
  },
  {
   "cell_type": "code",
   "execution_count": 26,
   "metadata": {
    "scrolled": true
   },
   "outputs": [],
   "source": [
    "#Create an object for each table\n",
    "Category = Base.classes.Category\n",
    "Customer = Base.classes.Customer\n",
    "CustomerCustomerDemo = Base.classes.CustomerCustomerDemo\n",
    "CustomerDemographic = Base.classes.CustomerDemographic\n",
    "Employee = Base.classes.Employee\n",
    "EmployeeTerritory = Base.classes.EmployeeTerritory\n",
    "Order = Base.classes.Order\n",
    "OrderDetail = Base.classes.OrderDetail\n",
    "Product = Base.classes.Product\n",
    "Region = Base.classes.Region\n",
    "Shipper = Base.classes.Shipper\n",
    "Supplier = Base.classes.Supplier\n",
    "Territory = Base.classes.Territory"
   ]
  },
  {
   "cell_type": "code",
   "execution_count": 28,
   "metadata": {},
   "outputs": [
    {
     "name": "stdout",
     "output_type": "stream",
     "text": [
      "2019-01-24 20:58:25,671 INFO sqlalchemy.engine.base.Engine BEGIN (implicit)\n",
      "2019-01-24 20:58:25,673 INFO sqlalchemy.engine.base.Engine SELECT \"Category\".\"Id\" AS \"Category_Id\", \"Category\".\"CategoryName\" AS \"Category_CategoryName\", \"Category\".\"Description\" AS \"Category_Description\" \n",
      "FROM \"Category\"\n",
      "2019-01-24 20:58:25,673 INFO sqlalchemy.engine.base.Engine ()\n",
      "<sqlalchemy.ext.automap.Category object at 0x00000000089C5630>\n",
      "<sqlalchemy.ext.automap.Category object at 0x00000000089C56A0>\n",
      "<sqlalchemy.ext.automap.Category object at 0x00000000089C5710>\n",
      "<sqlalchemy.ext.automap.Category object at 0x00000000089C5780>\n",
      "<sqlalchemy.ext.automap.Category object at 0x00000000089C57F0>\n",
      "<sqlalchemy.ext.automap.Category object at 0x00000000089C5860>\n",
      "<sqlalchemy.ext.automap.Category object at 0x00000000089C58D0>\n",
      "<sqlalchemy.ext.automap.Category object at 0x00000000089C5940>\n"
     ]
    }
   ],
   "source": [
    "for instance in session.query(Category):\n",
    "    print(instance)"
   ]
  },
  {
   "cell_type": "code",
   "execution_count": null,
   "metadata": {},
   "outputs": [],
   "source": []
  },
  {
   "cell_type": "code",
   "execution_count": null,
   "metadata": {},
   "outputs": [],
   "source": []
  },
  {
   "cell_type": "code",
   "execution_count": null,
   "metadata": {},
   "outputs": [],
   "source": []
  },
  {
   "cell_type": "code",
   "execution_count": null,
   "metadata": {},
   "outputs": [],
   "source": []
  },
  {
   "cell_type": "code",
   "execution_count": null,
   "metadata": {},
   "outputs": [],
   "source": []
  },
  {
   "cell_type": "code",
   "execution_count": null,
   "metadata": {},
   "outputs": [],
   "source": []
  },
  {
   "cell_type": "code",
   "execution_count": null,
   "metadata": {},
   "outputs": [],
   "source": []
  },
  {
   "cell_type": "code",
   "execution_count": null,
   "metadata": {},
   "outputs": [],
   "source": []
  },
  {
   "cell_type": "code",
   "execution_count": null,
   "metadata": {},
   "outputs": [],
   "source": []
  },
  {
   "cell_type": "code",
   "execution_count": null,
   "metadata": {},
   "outputs": [],
   "source": []
  },
  {
   "cell_type": "code",
   "execution_count": null,
   "metadata": {},
   "outputs": [],
   "source": []
  }
 ],
 "metadata": {
  "kernelspec": {
   "display_name": "learn-env",
   "language": "python",
   "name": "learn-env"
  },
  "language_info": {
   "codemirror_mode": {
    "name": "ipython",
    "version": 3
   },
   "file_extension": ".py",
   "mimetype": "text/x-python",
   "name": "python",
   "nbconvert_exporter": "python",
   "pygments_lexer": "ipython3",
   "version": "3.7.0"
  }
 },
 "nbformat": 4,
 "nbformat_minor": 2
}
