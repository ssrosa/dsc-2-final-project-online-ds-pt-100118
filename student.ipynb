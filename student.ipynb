{
 "cells": [
  {
   "cell_type": "markdown",
   "metadata": {},
   "source": [
    "# Final Project Submission\n",
    "Please fill out:\n",
    "\n",
    "-  Student name: Steven Rosa\n",
    "-  Student pace: part time\n",
    "-  Scheduled project review date/time: Mon 4 Feb 2019 2pm EST\n",
    "-  Instructor name: Jeff Herman\n",
    "-  Blog post URL:"
   ]
  },
  {
   "cell_type": "markdown",
   "metadata": {},
   "source": [
    "# Northwind Data Analysis"
   ]
  },
  {
   "cell_type": "markdown",
   "metadata": {},
   "source": [
    "<a id=\"top\"></a>"
   ]
  },
  {
   "cell_type": "markdown",
   "metadata": {},
   "source": [
    "# Contents\n",
    "- [Import libraries](#importlibraries)\n",
    "- [Write functions](#writefunctions)\n",
    "- [Exploratory data analysis](#eda)\n",
    "- [Hypothesis test 1](#hypo1): Products ordered with and without discounts\n",
    "- [Hypothesis test 2](#hypo2): Sales by London office versus PNW offices\n",
    "- [Hypothesis test 3](#hypo3)\n",
    "- [Hypothesis test 4](#hypo4)"
   ]
  },
  {
   "cell_type": "code",
   "execution_count": null,
   "metadata": {},
   "outputs": [],
   "source": []
  },
  {
   "cell_type": "code",
   "execution_count": null,
   "metadata": {},
   "outputs": [],
   "source": []
  },
  {
   "cell_type": "code",
   "execution_count": null,
   "metadata": {},
   "outputs": [],
   "source": []
  },
  {
   "cell_type": "markdown",
   "metadata": {},
   "source": [
    "<a id=\"importlibraries\"></a>"
   ]
  },
  {
   "cell_type": "markdown",
   "metadata": {},
   "source": [
    "# Import libraries\n",
    "[(Back to top)](#top)"
   ]
  },
  {
   "cell_type": "code",
   "execution_count": 1,
   "metadata": {},
   "outputs": [],
   "source": [
    "#Import libraries\n",
    "import sqlalchemy #ORM\n",
    "from sqlalchemy import create_engine #To connect to the database\n",
    "from sqlalchemy.orm import Session, sessionmaker #To interact with the database as object\n",
    "from sqlalchemy import inspect #To look at tables and column names\n",
    "from sqlalchemy import MetaData #To reflect the engine object \n",
    "from sqlalchemy.ext.automap import automap_base # To create mappings from the reflection\n",
    "import pandas as pd #To read in parts of the database as DataFrames\n",
    "import matplotlib.pyplot as plt #For creating visualizations\n",
    "%matplotlib inline\n",
    "from scipy import stats #For pulling t values\n",
    "from scipy.stats import norm #For plotting probablity density functions\n",
    "import seaborn as sns #For plotting pdfs over histograms\n",
    "import numpy as np #For mathematical operations and arrays\n",
    "from sklearn.utils import resample #To pull samples from a small distribution (bootstrapping)"
   ]
  },
  {
   "cell_type": "code",
   "execution_count": 37,
   "metadata": {},
   "outputs": [],
   "source": []
  },
  {
   "cell_type": "markdown",
   "metadata": {},
   "source": [
    "<a id=\"writefunctions\"></a>"
   ]
  },
  {
   "cell_type": "markdown",
   "metadata": {},
   "source": [
    "# Write functions\n",
    "[(Back to top)](#top)"
   ]
  },
  {
   "cell_type": "code",
   "execution_count": 2,
   "metadata": {},
   "outputs": [],
   "source": [
    "#Build a sampling distribution of the data \n",
    "#in order to get it more \"normal\"\n",
    "#NOT IN USE, REPLACED BY BOOTSTRAPPING\n",
    "def sampling_dist(data, dist=50, n=30):\n",
    "\n",
    "    sample_dist = []\n",
    "   \n",
    "    while len(sample_dist) != dist: #Build a sample distribution\n",
    "        sample = []\n",
    "        while len(sample) != n:\n",
    "            x = np.random.choice(data) #Get a value from the data with replacement\n",
    "            sample.append(x) #Add the value to the sample\n",
    "        sample_mean = sum(sample) / len(sample) #Get the mean of the sample\n",
    "        sample_dist.append(sample_mean) #Add the mean to the sampling distribution\n",
    "    \n",
    "    return sample_dist"
   ]
  },
  {
   "cell_type": "code",
   "execution_count": null,
   "metadata": {},
   "outputs": [],
   "source": []
  },
  {
   "cell_type": "markdown",
   "metadata": {},
   "source": [
    "<a id=\"eda\"></a>"
   ]
  },
  {
   "cell_type": "markdown",
   "metadata": {},
   "source": [
    "# Exploratory data analysis\n",
    "[(Back to top)](#top)"
   ]
  },
  {
   "cell_type": "code",
   "execution_count": null,
   "metadata": {},
   "outputs": [],
   "source": []
  },
  {
   "cell_type": "code",
   "execution_count": null,
   "metadata": {},
   "outputs": [],
   "source": []
  },
  {
   "cell_type": "code",
   "execution_count": null,
   "metadata": {},
   "outputs": [],
   "source": []
  },
  {
   "cell_type": "code",
   "execution_count": null,
   "metadata": {},
   "outputs": [],
   "source": []
  },
  {
   "cell_type": "code",
   "execution_count": 4,
   "metadata": {},
   "outputs": [],
   "source": [
    "#Instantiate a session of the ORM\n",
    "#Connect to the sqlite database file\n",
    "engine = create_engine('sqlite:///Northwind_small.sqlite', echo = True)\n",
    "#Bind a session factory to the engine\n",
    "Session = sessionmaker(bind=engine)\n",
    "#Instantiate a session\n",
    "session = Session()"
   ]
  },
  {
   "cell_type": "code",
   "execution_count": 5,
   "metadata": {},
   "outputs": [
    {
     "name": "stdout",
     "output_type": "stream",
     "text": [
      "2019-02-01 20:19:08,960 INFO sqlalchemy.engine.base.Engine SELECT CAST('test plain returns' AS VARCHAR(60)) AS anon_1\n",
      "2019-02-01 20:19:08,960 INFO sqlalchemy.engine.base.Engine ()\n",
      "2019-02-01 20:19:08,960 INFO sqlalchemy.engine.base.Engine SELECT CAST('test unicode returns' AS VARCHAR(60)) AS anon_1\n",
      "2019-02-01 20:19:08,960 INFO sqlalchemy.engine.base.Engine ()\n"
     ]
    }
   ],
   "source": [
    "#An object to get a first look at the database\n",
    "inspector = inspect(engine)"
   ]
  },
  {
   "cell_type": "code",
   "execution_count": 6,
   "metadata": {
    "scrolled": true
   },
   "outputs": [
    {
     "name": "stdout",
     "output_type": "stream",
     "text": [
      "2019-02-01 20:19:10,718 INFO sqlalchemy.engine.base.Engine SELECT name FROM sqlite_master WHERE type='table' ORDER BY name\n",
      "2019-02-01 20:19:10,718 INFO sqlalchemy.engine.base.Engine ()\n",
      "2019-02-01 20:19:10,733 INFO sqlalchemy.engine.base.Engine PRAGMA table_info(\"Category\")\n",
      "2019-02-01 20:19:10,733 INFO sqlalchemy.engine.base.Engine ()\n",
      "2019-02-01 20:19:10,733 INFO sqlalchemy.engine.base.Engine PRAGMA table_info(\"Customer\")\n",
      "2019-02-01 20:19:10,733 INFO sqlalchemy.engine.base.Engine ()\n",
      "2019-02-01 20:19:10,733 INFO sqlalchemy.engine.base.Engine PRAGMA table_info(\"CustomerCustomerDemo\")\n",
      "2019-02-01 20:19:10,733 INFO sqlalchemy.engine.base.Engine ()\n",
      "2019-02-01 20:19:10,733 INFO sqlalchemy.engine.base.Engine PRAGMA table_info(\"CustomerDemographic\")\n",
      "2019-02-01 20:19:10,733 INFO sqlalchemy.engine.base.Engine ()\n",
      "2019-02-01 20:19:10,733 INFO sqlalchemy.engine.base.Engine PRAGMA table_info(\"Employee\")\n",
      "2019-02-01 20:19:10,733 INFO sqlalchemy.engine.base.Engine ()\n",
      "2019-02-01 20:19:10,749 INFO sqlalchemy.engine.base.Engine PRAGMA table_info(\"EmployeeTerritory\")\n",
      "2019-02-01 20:19:10,750 INFO sqlalchemy.engine.base.Engine ()\n",
      "2019-02-01 20:19:10,752 INFO sqlalchemy.engine.base.Engine PRAGMA table_info(\"Order\")\n",
      "2019-02-01 20:19:10,753 INFO sqlalchemy.engine.base.Engine ()\n",
      "2019-02-01 20:19:10,755 INFO sqlalchemy.engine.base.Engine PRAGMA table_info(\"OrderDetail\")\n",
      "2019-02-01 20:19:10,756 INFO sqlalchemy.engine.base.Engine ()\n",
      "2019-02-01 20:19:10,758 INFO sqlalchemy.engine.base.Engine PRAGMA table_info(\"Product\")\n",
      "2019-02-01 20:19:10,759 INFO sqlalchemy.engine.base.Engine ()\n",
      "2019-02-01 20:19:10,761 INFO sqlalchemy.engine.base.Engine PRAGMA table_info(\"Region\")\n",
      "2019-02-01 20:19:10,762 INFO sqlalchemy.engine.base.Engine ()\n",
      "2019-02-01 20:19:10,764 INFO sqlalchemy.engine.base.Engine PRAGMA table_info(\"Shipper\")\n",
      "2019-02-01 20:19:10,765 INFO sqlalchemy.engine.base.Engine ()\n",
      "2019-02-01 20:19:10,766 INFO sqlalchemy.engine.base.Engine PRAGMA table_info(\"Supplier\")\n",
      "2019-02-01 20:19:10,768 INFO sqlalchemy.engine.base.Engine ()\n",
      "2019-02-01 20:19:10,770 INFO sqlalchemy.engine.base.Engine PRAGMA table_info(\"Territory\")\n",
      "2019-02-01 20:19:10,771 INFO sqlalchemy.engine.base.Engine ()\n"
     ]
    }
   ],
   "source": [
    "#Make a dict of list of names of all the columns in all the tables\n",
    "#for easy reference\n",
    "\n",
    "#Get list of all table names\n",
    "table_names = inspector.get_table_names()\n",
    "\n",
    "tables_columns = dict()\n",
    "#For each table name\n",
    "for table in table_names:\n",
    "    column_names = []\n",
    "    #for each column in the table, get just the name\n",
    "    for column in inspector.get_columns(table):\n",
    "        column_names.append(column['name'])\n",
    "    tables_columns[table] = column_names"
   ]
  },
  {
   "cell_type": "code",
   "execution_count": 8,
   "metadata": {},
   "outputs": [
    {
     "name": "stdout",
     "output_type": "stream",
     "text": [
      "2019-02-01 20:19:56,458 INFO sqlalchemy.engine.base.Engine SELECT name FROM sqlite_master WHERE type='table' ORDER BY name\n",
      "2019-02-01 20:19:56,459 INFO sqlalchemy.engine.base.Engine ()\n",
      "2019-02-01 20:19:56,461 INFO sqlalchemy.engine.base.Engine PRAGMA table_info(\"Category\")\n",
      "2019-02-01 20:19:56,462 INFO sqlalchemy.engine.base.Engine ()\n",
      "2019-02-01 20:19:56,464 INFO sqlalchemy.engine.base.Engine SELECT sql FROM  (SELECT * FROM sqlite_master UNION ALL   SELECT * FROM sqlite_temp_master) WHERE name = 'Category' AND type = 'table'\n",
      "2019-02-01 20:19:56,464 INFO sqlalchemy.engine.base.Engine ()\n",
      "2019-02-01 20:19:56,466 INFO sqlalchemy.engine.base.Engine PRAGMA foreign_key_list(\"Category\")\n",
      "2019-02-01 20:19:56,467 INFO sqlalchemy.engine.base.Engine ()\n",
      "2019-02-01 20:19:56,468 INFO sqlalchemy.engine.base.Engine SELECT sql FROM  (SELECT * FROM sqlite_master UNION ALL   SELECT * FROM sqlite_temp_master) WHERE name = 'Category' AND type = 'table'\n",
      "2019-02-01 20:19:56,470 INFO sqlalchemy.engine.base.Engine ()\n",
      "2019-02-01 20:19:56,472 INFO sqlalchemy.engine.base.Engine PRAGMA index_list(\"Category\")\n",
      "2019-02-01 20:19:56,474 INFO sqlalchemy.engine.base.Engine ()\n",
      "2019-02-01 20:19:56,476 INFO sqlalchemy.engine.base.Engine PRAGMA index_list(\"Category\")\n",
      "2019-02-01 20:19:56,476 INFO sqlalchemy.engine.base.Engine ()\n",
      "2019-02-01 20:19:56,477 INFO sqlalchemy.engine.base.Engine SELECT sql FROM  (SELECT * FROM sqlite_master UNION ALL   SELECT * FROM sqlite_temp_master) WHERE name = 'Category' AND type = 'table'\n",
      "2019-02-01 20:19:56,478 INFO sqlalchemy.engine.base.Engine ()\n",
      "2019-02-01 20:19:56,481 INFO sqlalchemy.engine.base.Engine PRAGMA table_info(\"Customer\")\n",
      "2019-02-01 20:19:56,481 INFO sqlalchemy.engine.base.Engine ()\n",
      "2019-02-01 20:19:56,484 INFO sqlalchemy.engine.base.Engine SELECT sql FROM  (SELECT * FROM sqlite_master UNION ALL   SELECT * FROM sqlite_temp_master) WHERE name = 'Customer' AND type = 'table'\n",
      "2019-02-01 20:19:56,485 INFO sqlalchemy.engine.base.Engine ()\n",
      "2019-02-01 20:19:56,486 INFO sqlalchemy.engine.base.Engine PRAGMA foreign_key_list(\"Customer\")\n",
      "2019-02-01 20:19:56,487 INFO sqlalchemy.engine.base.Engine ()\n",
      "2019-02-01 20:19:56,488 INFO sqlalchemy.engine.base.Engine SELECT sql FROM  (SELECT * FROM sqlite_master UNION ALL   SELECT * FROM sqlite_temp_master) WHERE name = 'Customer' AND type = 'table'\n",
      "2019-02-01 20:19:56,489 INFO sqlalchemy.engine.base.Engine ()\n",
      "2019-02-01 20:19:56,490 INFO sqlalchemy.engine.base.Engine PRAGMA index_list(\"Customer\")\n",
      "2019-02-01 20:19:56,490 INFO sqlalchemy.engine.base.Engine ()\n",
      "2019-02-01 20:19:56,491 INFO sqlalchemy.engine.base.Engine PRAGMA index_list(\"Customer\")\n",
      "2019-02-01 20:19:56,492 INFO sqlalchemy.engine.base.Engine ()\n",
      "2019-02-01 20:19:56,492 INFO sqlalchemy.engine.base.Engine PRAGMA index_info(\"sqlite_autoindex_Customer_1\")\n",
      "2019-02-01 20:19:56,493 INFO sqlalchemy.engine.base.Engine ()\n",
      "2019-02-01 20:19:56,494 INFO sqlalchemy.engine.base.Engine SELECT sql FROM  (SELECT * FROM sqlite_master UNION ALL   SELECT * FROM sqlite_temp_master) WHERE name = 'Customer' AND type = 'table'\n",
      "2019-02-01 20:19:56,494 INFO sqlalchemy.engine.base.Engine ()\n",
      "2019-02-01 20:19:56,496 INFO sqlalchemy.engine.base.Engine PRAGMA table_info(\"CustomerCustomerDemo\")\n",
      "2019-02-01 20:19:56,496 INFO sqlalchemy.engine.base.Engine ()\n",
      "2019-02-01 20:19:56,497 INFO sqlalchemy.engine.base.Engine SELECT sql FROM  (SELECT * FROM sqlite_master UNION ALL   SELECT * FROM sqlite_temp_master) WHERE name = 'CustomerCustomerDemo' AND type = 'table'\n",
      "2019-02-01 20:19:56,498 INFO sqlalchemy.engine.base.Engine ()\n",
      "2019-02-01 20:19:56,499 INFO sqlalchemy.engine.base.Engine PRAGMA foreign_key_list(\"CustomerCustomerDemo\")\n",
      "2019-02-01 20:19:56,499 INFO sqlalchemy.engine.base.Engine ()\n",
      "2019-02-01 20:19:56,500 INFO sqlalchemy.engine.base.Engine SELECT sql FROM  (SELECT * FROM sqlite_master UNION ALL   SELECT * FROM sqlite_temp_master) WHERE name = 'CustomerCustomerDemo' AND type = 'table'\n",
      "2019-02-01 20:19:56,501 INFO sqlalchemy.engine.base.Engine ()\n",
      "2019-02-01 20:19:56,501 INFO sqlalchemy.engine.base.Engine PRAGMA index_list(\"CustomerCustomerDemo\")\n",
      "2019-02-01 20:19:56,502 INFO sqlalchemy.engine.base.Engine ()\n",
      "2019-02-01 20:19:56,503 INFO sqlalchemy.engine.base.Engine PRAGMA index_list(\"CustomerCustomerDemo\")\n",
      "2019-02-01 20:19:56,503 INFO sqlalchemy.engine.base.Engine ()\n",
      "2019-02-01 20:19:56,504 INFO sqlalchemy.engine.base.Engine PRAGMA index_info(\"sqlite_autoindex_CustomerCustomerDemo_1\")\n",
      "2019-02-01 20:19:56,505 INFO sqlalchemy.engine.base.Engine ()\n",
      "2019-02-01 20:19:56,506 INFO sqlalchemy.engine.base.Engine SELECT sql FROM  (SELECT * FROM sqlite_master UNION ALL   SELECT * FROM sqlite_temp_master) WHERE name = 'CustomerCustomerDemo' AND type = 'table'\n",
      "2019-02-01 20:19:56,506 INFO sqlalchemy.engine.base.Engine ()\n",
      "2019-02-01 20:19:56,507 INFO sqlalchemy.engine.base.Engine PRAGMA table_info(\"CustomerDemographic\")\n",
      "2019-02-01 20:19:56,508 INFO sqlalchemy.engine.base.Engine ()\n",
      "2019-02-01 20:19:56,509 INFO sqlalchemy.engine.base.Engine SELECT sql FROM  (SELECT * FROM sqlite_master UNION ALL   SELECT * FROM sqlite_temp_master) WHERE name = 'CustomerDemographic' AND type = 'table'\n",
      "2019-02-01 20:19:56,510 INFO sqlalchemy.engine.base.Engine ()\n",
      "2019-02-01 20:19:56,511 INFO sqlalchemy.engine.base.Engine PRAGMA foreign_key_list(\"CustomerDemographic\")\n",
      "2019-02-01 20:19:56,512 INFO sqlalchemy.engine.base.Engine ()\n",
      "2019-02-01 20:19:56,513 INFO sqlalchemy.engine.base.Engine SELECT sql FROM  (SELECT * FROM sqlite_master UNION ALL   SELECT * FROM sqlite_temp_master) WHERE name = 'CustomerDemographic' AND type = 'table'\n",
      "2019-02-01 20:19:56,513 INFO sqlalchemy.engine.base.Engine ()\n",
      "2019-02-01 20:19:56,514 INFO sqlalchemy.engine.base.Engine PRAGMA index_list(\"CustomerDemographic\")\n",
      "2019-02-01 20:19:56,514 INFO sqlalchemy.engine.base.Engine ()\n",
      "2019-02-01 20:19:56,515 INFO sqlalchemy.engine.base.Engine PRAGMA index_list(\"CustomerDemographic\")\n",
      "2019-02-01 20:19:56,516 INFO sqlalchemy.engine.base.Engine ()\n",
      "2019-02-01 20:19:56,517 INFO sqlalchemy.engine.base.Engine PRAGMA index_info(\"sqlite_autoindex_CustomerDemographic_1\")\n",
      "2019-02-01 20:19:56,517 INFO sqlalchemy.engine.base.Engine ()\n",
      "2019-02-01 20:19:56,518 INFO sqlalchemy.engine.base.Engine SELECT sql FROM  (SELECT * FROM sqlite_master UNION ALL   SELECT * FROM sqlite_temp_master) WHERE name = 'CustomerDemographic' AND type = 'table'\n",
      "2019-02-01 20:19:56,518 INFO sqlalchemy.engine.base.Engine ()\n",
      "2019-02-01 20:19:56,520 INFO sqlalchemy.engine.base.Engine PRAGMA table_info(\"Employee\")\n",
      "2019-02-01 20:19:56,520 INFO sqlalchemy.engine.base.Engine ()\n",
      "2019-02-01 20:19:56,522 INFO sqlalchemy.engine.base.Engine SELECT sql FROM  (SELECT * FROM sqlite_master UNION ALL   SELECT * FROM sqlite_temp_master) WHERE name = 'Employee' AND type = 'table'\n",
      "2019-02-01 20:19:56,523 INFO sqlalchemy.engine.base.Engine ()\n",
      "2019-02-01 20:19:56,525 INFO sqlalchemy.engine.base.Engine PRAGMA foreign_key_list(\"Employee\")\n",
      "2019-02-01 20:19:56,526 INFO sqlalchemy.engine.base.Engine ()\n",
      "2019-02-01 20:19:56,526 INFO sqlalchemy.engine.base.Engine SELECT sql FROM  (SELECT * FROM sqlite_master UNION ALL   SELECT * FROM sqlite_temp_master) WHERE name = 'Employee' AND type = 'table'\n",
      "2019-02-01 20:19:56,527 INFO sqlalchemy.engine.base.Engine ()\n",
      "2019-02-01 20:19:56,528 INFO sqlalchemy.engine.base.Engine PRAGMA index_list(\"Employee\")\n",
      "2019-02-01 20:19:56,528 INFO sqlalchemy.engine.base.Engine ()\n",
      "2019-02-01 20:19:56,529 INFO sqlalchemy.engine.base.Engine PRAGMA index_list(\"Employee\")\n",
      "2019-02-01 20:19:56,532 INFO sqlalchemy.engine.base.Engine ()\n",
      "2019-02-01 20:19:56,533 INFO sqlalchemy.engine.base.Engine SELECT sql FROM  (SELECT * FROM sqlite_master UNION ALL   SELECT * FROM sqlite_temp_master) WHERE name = 'Employee' AND type = 'table'\n",
      "2019-02-01 20:19:56,533 INFO sqlalchemy.engine.base.Engine ()\n",
      "2019-02-01 20:19:56,535 INFO sqlalchemy.engine.base.Engine PRAGMA table_info(\"EmployeeTerritory\")\n",
      "2019-02-01 20:19:56,536 INFO sqlalchemy.engine.base.Engine ()\n",
      "2019-02-01 20:19:56,538 INFO sqlalchemy.engine.base.Engine SELECT sql FROM  (SELECT * FROM sqlite_master UNION ALL   SELECT * FROM sqlite_temp_master) WHERE name = 'EmployeeTerritory' AND type = 'table'\n",
      "2019-02-01 20:19:56,538 INFO sqlalchemy.engine.base.Engine ()\n"
     ]
    },
    {
     "name": "stdout",
     "output_type": "stream",
     "text": [
      "2019-02-01 20:19:56,539 INFO sqlalchemy.engine.base.Engine PRAGMA foreign_key_list(\"EmployeeTerritory\")\n",
      "2019-02-01 20:19:56,540 INFO sqlalchemy.engine.base.Engine ()\n",
      "2019-02-01 20:19:56,540 INFO sqlalchemy.engine.base.Engine SELECT sql FROM  (SELECT * FROM sqlite_master UNION ALL   SELECT * FROM sqlite_temp_master) WHERE name = 'EmployeeTerritory' AND type = 'table'\n",
      "2019-02-01 20:19:56,541 INFO sqlalchemy.engine.base.Engine ()\n",
      "2019-02-01 20:19:56,542 INFO sqlalchemy.engine.base.Engine PRAGMA index_list(\"EmployeeTerritory\")\n",
      "2019-02-01 20:19:56,543 INFO sqlalchemy.engine.base.Engine ()\n",
      "2019-02-01 20:19:56,544 INFO sqlalchemy.engine.base.Engine PRAGMA index_list(\"EmployeeTerritory\")\n",
      "2019-02-01 20:19:56,545 INFO sqlalchemy.engine.base.Engine ()\n",
      "2019-02-01 20:19:56,546 INFO sqlalchemy.engine.base.Engine PRAGMA index_info(\"sqlite_autoindex_EmployeeTerritory_1\")\n",
      "2019-02-01 20:19:56,547 INFO sqlalchemy.engine.base.Engine ()\n",
      "2019-02-01 20:19:56,548 INFO sqlalchemy.engine.base.Engine SELECT sql FROM  (SELECT * FROM sqlite_master UNION ALL   SELECT * FROM sqlite_temp_master) WHERE name = 'EmployeeTerritory' AND type = 'table'\n",
      "2019-02-01 20:19:56,551 INFO sqlalchemy.engine.base.Engine ()\n",
      "2019-02-01 20:19:56,552 INFO sqlalchemy.engine.base.Engine PRAGMA table_info(\"Order\")\n",
      "2019-02-01 20:19:56,552 INFO sqlalchemy.engine.base.Engine ()\n",
      "2019-02-01 20:19:56,554 INFO sqlalchemy.engine.base.Engine SELECT sql FROM  (SELECT * FROM sqlite_master UNION ALL   SELECT * FROM sqlite_temp_master) WHERE name = 'Order' AND type = 'table'\n",
      "2019-02-01 20:19:56,557 INFO sqlalchemy.engine.base.Engine ()\n",
      "2019-02-01 20:19:56,558 INFO sqlalchemy.engine.base.Engine PRAGMA foreign_key_list(\"Order\")\n",
      "2019-02-01 20:19:56,561 INFO sqlalchemy.engine.base.Engine ()\n",
      "2019-02-01 20:19:56,561 INFO sqlalchemy.engine.base.Engine SELECT sql FROM  (SELECT * FROM sqlite_master UNION ALL   SELECT * FROM sqlite_temp_master) WHERE name = 'Order' AND type = 'table'\n",
      "2019-02-01 20:19:56,564 INFO sqlalchemy.engine.base.Engine ()\n",
      "2019-02-01 20:19:56,565 INFO sqlalchemy.engine.base.Engine PRAGMA index_list(\"Order\")\n",
      "2019-02-01 20:19:56,566 INFO sqlalchemy.engine.base.Engine ()\n",
      "2019-02-01 20:19:56,568 INFO sqlalchemy.engine.base.Engine PRAGMA index_list(\"Order\")\n",
      "2019-02-01 20:19:56,568 INFO sqlalchemy.engine.base.Engine ()\n",
      "2019-02-01 20:19:56,569 INFO sqlalchemy.engine.base.Engine SELECT sql FROM  (SELECT * FROM sqlite_master UNION ALL   SELECT * FROM sqlite_temp_master) WHERE name = 'Order' AND type = 'table'\n",
      "2019-02-01 20:19:56,570 INFO sqlalchemy.engine.base.Engine ()\n",
      "2019-02-01 20:19:56,571 INFO sqlalchemy.engine.base.Engine PRAGMA table_info(\"OrderDetail\")\n",
      "2019-02-01 20:19:56,572 INFO sqlalchemy.engine.base.Engine ()\n",
      "2019-02-01 20:19:56,573 INFO sqlalchemy.engine.base.Engine SELECT sql FROM  (SELECT * FROM sqlite_master UNION ALL   SELECT * FROM sqlite_temp_master) WHERE name = 'OrderDetail' AND type = 'table'\n",
      "2019-02-01 20:19:56,574 INFO sqlalchemy.engine.base.Engine ()\n",
      "2019-02-01 20:19:56,575 INFO sqlalchemy.engine.base.Engine PRAGMA foreign_key_list(\"OrderDetail\")\n",
      "2019-02-01 20:19:56,575 INFO sqlalchemy.engine.base.Engine ()\n",
      "2019-02-01 20:19:56,576 INFO sqlalchemy.engine.base.Engine SELECT sql FROM  (SELECT * FROM sqlite_master UNION ALL   SELECT * FROM sqlite_temp_master) WHERE name = 'OrderDetail' AND type = 'table'\n",
      "2019-02-01 20:19:56,577 INFO sqlalchemy.engine.base.Engine ()\n",
      "2019-02-01 20:19:56,578 INFO sqlalchemy.engine.base.Engine PRAGMA index_list(\"OrderDetail\")\n",
      "2019-02-01 20:19:56,578 INFO sqlalchemy.engine.base.Engine ()\n",
      "2019-02-01 20:19:56,579 INFO sqlalchemy.engine.base.Engine PRAGMA index_list(\"OrderDetail\")\n",
      "2019-02-01 20:19:56,579 INFO sqlalchemy.engine.base.Engine ()\n",
      "2019-02-01 20:19:56,580 INFO sqlalchemy.engine.base.Engine PRAGMA index_info(\"sqlite_autoindex_OrderDetail_1\")\n",
      "2019-02-01 20:19:56,581 INFO sqlalchemy.engine.base.Engine ()\n",
      "2019-02-01 20:19:56,582 INFO sqlalchemy.engine.base.Engine SELECT sql FROM  (SELECT * FROM sqlite_master UNION ALL   SELECT * FROM sqlite_temp_master) WHERE name = 'OrderDetail' AND type = 'table'\n",
      "2019-02-01 20:19:56,582 INFO sqlalchemy.engine.base.Engine ()\n",
      "2019-02-01 20:19:56,583 INFO sqlalchemy.engine.base.Engine PRAGMA table_info(\"Product\")\n",
      "2019-02-01 20:19:56,584 INFO sqlalchemy.engine.base.Engine ()\n",
      "2019-02-01 20:19:56,586 INFO sqlalchemy.engine.base.Engine SELECT sql FROM  (SELECT * FROM sqlite_master UNION ALL   SELECT * FROM sqlite_temp_master) WHERE name = 'Product' AND type = 'table'\n",
      "2019-02-01 20:19:56,586 INFO sqlalchemy.engine.base.Engine ()\n",
      "2019-02-01 20:19:56,587 INFO sqlalchemy.engine.base.Engine PRAGMA foreign_key_list(\"Product\")\n",
      "2019-02-01 20:19:56,588 INFO sqlalchemy.engine.base.Engine ()\n",
      "2019-02-01 20:19:56,588 INFO sqlalchemy.engine.base.Engine SELECT sql FROM  (SELECT * FROM sqlite_master UNION ALL   SELECT * FROM sqlite_temp_master) WHERE name = 'Product' AND type = 'table'\n",
      "2019-02-01 20:19:56,589 INFO sqlalchemy.engine.base.Engine ()\n",
      "2019-02-01 20:19:56,589 INFO sqlalchemy.engine.base.Engine PRAGMA index_list(\"Product\")\n",
      "2019-02-01 20:19:56,590 INFO sqlalchemy.engine.base.Engine ()\n",
      "2019-02-01 20:19:56,591 INFO sqlalchemy.engine.base.Engine PRAGMA index_list(\"Product\")\n",
      "2019-02-01 20:19:56,591 INFO sqlalchemy.engine.base.Engine ()\n",
      "2019-02-01 20:19:56,592 INFO sqlalchemy.engine.base.Engine SELECT sql FROM  (SELECT * FROM sqlite_master UNION ALL   SELECT * FROM sqlite_temp_master) WHERE name = 'Product' AND type = 'table'\n",
      "2019-02-01 20:19:56,592 INFO sqlalchemy.engine.base.Engine ()\n",
      "2019-02-01 20:19:56,594 INFO sqlalchemy.engine.base.Engine PRAGMA table_info(\"Region\")\n",
      "2019-02-01 20:19:56,594 INFO sqlalchemy.engine.base.Engine ()\n",
      "2019-02-01 20:19:56,595 INFO sqlalchemy.engine.base.Engine SELECT sql FROM  (SELECT * FROM sqlite_master UNION ALL   SELECT * FROM sqlite_temp_master) WHERE name = 'Region' AND type = 'table'\n",
      "2019-02-01 20:19:56,596 INFO sqlalchemy.engine.base.Engine ()\n",
      "2019-02-01 20:19:56,597 INFO sqlalchemy.engine.base.Engine PRAGMA foreign_key_list(\"Region\")\n",
      "2019-02-01 20:19:56,597 INFO sqlalchemy.engine.base.Engine ()\n",
      "2019-02-01 20:19:56,598 INFO sqlalchemy.engine.base.Engine SELECT sql FROM  (SELECT * FROM sqlite_master UNION ALL   SELECT * FROM sqlite_temp_master) WHERE name = 'Region' AND type = 'table'\n",
      "2019-02-01 20:19:56,598 INFO sqlalchemy.engine.base.Engine ()\n",
      "2019-02-01 20:19:56,599 INFO sqlalchemy.engine.base.Engine PRAGMA index_list(\"Region\")\n",
      "2019-02-01 20:19:56,600 INFO sqlalchemy.engine.base.Engine ()\n",
      "2019-02-01 20:19:56,600 INFO sqlalchemy.engine.base.Engine PRAGMA index_list(\"Region\")\n",
      "2019-02-01 20:19:56,601 INFO sqlalchemy.engine.base.Engine ()\n",
      "2019-02-01 20:19:56,602 INFO sqlalchemy.engine.base.Engine SELECT sql FROM  (SELECT * FROM sqlite_master UNION ALL   SELECT * FROM sqlite_temp_master) WHERE name = 'Region' AND type = 'table'\n",
      "2019-02-01 20:19:56,602 INFO sqlalchemy.engine.base.Engine ()\n",
      "2019-02-01 20:19:56,604 INFO sqlalchemy.engine.base.Engine PRAGMA table_info(\"Shipper\")\n",
      "2019-02-01 20:19:56,604 INFO sqlalchemy.engine.base.Engine ()\n",
      "2019-02-01 20:19:56,605 INFO sqlalchemy.engine.base.Engine SELECT sql FROM  (SELECT * FROM sqlite_master UNION ALL   SELECT * FROM sqlite_temp_master) WHERE name = 'Shipper' AND type = 'table'\n",
      "2019-02-01 20:19:56,606 INFO sqlalchemy.engine.base.Engine ()\n",
      "2019-02-01 20:19:56,607 INFO sqlalchemy.engine.base.Engine PRAGMA foreign_key_list(\"Shipper\")\n",
      "2019-02-01 20:19:56,607 INFO sqlalchemy.engine.base.Engine ()\n",
      "2019-02-01 20:19:56,608 INFO sqlalchemy.engine.base.Engine SELECT sql FROM  (SELECT * FROM sqlite_master UNION ALL   SELECT * FROM sqlite_temp_master) WHERE name = 'Shipper' AND type = 'table'\n",
      "2019-02-01 20:19:56,608 INFO sqlalchemy.engine.base.Engine ()\n",
      "2019-02-01 20:19:56,609 INFO sqlalchemy.engine.base.Engine PRAGMA index_list(\"Shipper\")\n",
      "2019-02-01 20:19:56,609 INFO sqlalchemy.engine.base.Engine ()\n",
      "2019-02-01 20:19:56,610 INFO sqlalchemy.engine.base.Engine PRAGMA index_list(\"Shipper\")\n",
      "2019-02-01 20:19:56,611 INFO sqlalchemy.engine.base.Engine ()\n",
      "2019-02-01 20:19:56,612 INFO sqlalchemy.engine.base.Engine SELECT sql FROM  (SELECT * FROM sqlite_master UNION ALL   SELECT * FROM sqlite_temp_master) WHERE name = 'Shipper' AND type = 'table'\n",
      "2019-02-01 20:19:56,612 INFO sqlalchemy.engine.base.Engine ()\n"
     ]
    },
    {
     "name": "stdout",
     "output_type": "stream",
     "text": [
      "2019-02-01 20:19:56,614 INFO sqlalchemy.engine.base.Engine PRAGMA table_info(\"Supplier\")\n",
      "2019-02-01 20:19:56,616 INFO sqlalchemy.engine.base.Engine ()\n",
      "2019-02-01 20:19:56,619 INFO sqlalchemy.engine.base.Engine SELECT sql FROM  (SELECT * FROM sqlite_master UNION ALL   SELECT * FROM sqlite_temp_master) WHERE name = 'Supplier' AND type = 'table'\n",
      "2019-02-01 20:19:56,625 INFO sqlalchemy.engine.base.Engine ()\n",
      "2019-02-01 20:19:56,627 INFO sqlalchemy.engine.base.Engine PRAGMA foreign_key_list(\"Supplier\")\n",
      "2019-02-01 20:19:56,628 INFO sqlalchemy.engine.base.Engine ()\n",
      "2019-02-01 20:19:56,637 INFO sqlalchemy.engine.base.Engine SELECT sql FROM  (SELECT * FROM sqlite_master UNION ALL   SELECT * FROM sqlite_temp_master) WHERE name = 'Supplier' AND type = 'table'\n",
      "2019-02-01 20:19:56,638 INFO sqlalchemy.engine.base.Engine ()\n",
      "2019-02-01 20:19:56,640 INFO sqlalchemy.engine.base.Engine PRAGMA index_list(\"Supplier\")\n",
      "2019-02-01 20:19:56,640 INFO sqlalchemy.engine.base.Engine ()\n",
      "2019-02-01 20:19:56,641 INFO sqlalchemy.engine.base.Engine PRAGMA index_list(\"Supplier\")\n",
      "2019-02-01 20:19:56,641 INFO sqlalchemy.engine.base.Engine ()\n",
      "2019-02-01 20:19:56,642 INFO sqlalchemy.engine.base.Engine SELECT sql FROM  (SELECT * FROM sqlite_master UNION ALL   SELECT * FROM sqlite_temp_master) WHERE name = 'Supplier' AND type = 'table'\n",
      "2019-02-01 20:19:56,644 INFO sqlalchemy.engine.base.Engine ()\n",
      "2019-02-01 20:19:56,650 INFO sqlalchemy.engine.base.Engine PRAGMA table_info(\"Territory\")\n",
      "2019-02-01 20:19:56,651 INFO sqlalchemy.engine.base.Engine ()\n",
      "2019-02-01 20:19:56,652 INFO sqlalchemy.engine.base.Engine SELECT sql FROM  (SELECT * FROM sqlite_master UNION ALL   SELECT * FROM sqlite_temp_master) WHERE name = 'Territory' AND type = 'table'\n",
      "2019-02-01 20:19:56,653 INFO sqlalchemy.engine.base.Engine ()\n",
      "2019-02-01 20:19:56,654 INFO sqlalchemy.engine.base.Engine PRAGMA foreign_key_list(\"Territory\")\n",
      "2019-02-01 20:19:56,654 INFO sqlalchemy.engine.base.Engine ()\n",
      "2019-02-01 20:19:56,655 INFO sqlalchemy.engine.base.Engine SELECT sql FROM  (SELECT * FROM sqlite_master UNION ALL   SELECT * FROM sqlite_temp_master) WHERE name = 'Territory' AND type = 'table'\n",
      "2019-02-01 20:19:56,656 INFO sqlalchemy.engine.base.Engine ()\n",
      "2019-02-01 20:19:56,656 INFO sqlalchemy.engine.base.Engine PRAGMA index_list(\"Territory\")\n",
      "2019-02-01 20:19:56,657 INFO sqlalchemy.engine.base.Engine ()\n",
      "2019-02-01 20:19:56,658 INFO sqlalchemy.engine.base.Engine PRAGMA index_list(\"Territory\")\n",
      "2019-02-01 20:19:56,658 INFO sqlalchemy.engine.base.Engine ()\n",
      "2019-02-01 20:19:56,659 INFO sqlalchemy.engine.base.Engine PRAGMA index_info(\"sqlite_autoindex_Territory_1\")\n",
      "2019-02-01 20:19:56,660 INFO sqlalchemy.engine.base.Engine ()\n",
      "2019-02-01 20:19:56,661 INFO sqlalchemy.engine.base.Engine SELECT sql FROM  (SELECT * FROM sqlite_master UNION ALL   SELECT * FROM sqlite_temp_master) WHERE name = 'Territory' AND type = 'table'\n",
      "2019-02-01 20:19:56,661 INFO sqlalchemy.engine.base.Engine ()\n"
     ]
    }
   ],
   "source": [
    "#######################################\n",
    "#AUTOMAPPER BITS\n",
    "#Instantiate metadata to reflect the engine\n",
    "metadata = MetaData()\n",
    "\n",
    "metadata.reflect(engine)\n",
    "\n",
    "#Create mappings to treat the database elements as OOP objects\n",
    "Base = automap_base(metadata=metadata)\n",
    "Base.prepare()"
   ]
  },
  {
   "cell_type": "code",
   "execution_count": 9,
   "metadata": {},
   "outputs": [],
   "source": [
    "#Create an object for each table\n",
    "Category = Base.classes.Category\n",
    "Customer = Base.classes.Customer\n",
    "CustomerCustomerDemo = Base.classes.CustomerCustomerDemo\n",
    "CustomerDemographic = Base.classes.CustomerDemographic\n",
    "Employee = Base.classes.Employee\n",
    "EmployeeTerritory = Base.classes.EmployeeTerritory\n",
    "Order = Base.classes.Order\n",
    "OrderDetail = Base.classes.OrderDetail\n",
    "Product = Base.classes.Product\n",
    "Region = Base.classes.Region\n",
    "Shipper = Base.classes.Shipper\n",
    "Supplier = Base.classes.Supplier\n",
    "Territory = Base.classes.Territory"
   ]
  },
  {
   "cell_type": "code",
   "execution_count": 10,
   "metadata": {},
   "outputs": [
    {
     "name": "stdout",
     "output_type": "stream",
     "text": [
      "2019-02-01 20:20:03,279 INFO sqlalchemy.engine.base.Engine BEGIN (implicit)\n",
      "2019-02-01 20:20:03,281 INFO sqlalchemy.engine.base.Engine SELECT \"Category\".\"Id\" AS \"Category_Id\", \"Category\".\"CategoryName\" AS \"Category_CategoryName\", \"Category\".\"Description\" AS \"Category_Description\" \n",
      "FROM \"Category\"\n",
      "2019-02-01 20:20:03,281 INFO sqlalchemy.engine.base.Engine ()\n",
      "Beverages : Soft drinks, coffees, teas, beers, and ales\n",
      "Condiments : Sweet and savory sauces, relishes, spreads, and seasonings\n",
      "Confections : Desserts, candies, and sweet breads\n",
      "Dairy Products : Cheeses\n",
      "Grains/Cereals : Breads, crackers, pasta, and cereal\n",
      "Meat/Poultry : Prepared meats\n",
      "Produce : Dried fruit and bean curd\n",
      "Seafood : Seaweed and fish\n"
     ]
    }
   ],
   "source": [
    "#What does the company sell?\n",
    "#Look at descriptions of categories for items sold\n",
    "for instance in session.query(Category):\n",
    "    print(instance.CategoryName, \":\", instance.Description)"
   ]
  },
  {
   "cell_type": "code",
   "execution_count": 11,
   "metadata": {},
   "outputs": [
    {
     "name": "stdout",
     "output_type": "stream",
     "text": [
      "2019-02-01 20:20:07,794 INFO sqlalchemy.engine.base.Engine SELECT \"Customer\".\"Id\" AS \"Customer_Id\", \"Customer\".\"CompanyName\" AS \"Customer_CompanyName\", \"Customer\".\"ContactName\" AS \"Customer_ContactName\", \"Customer\".\"ContactTitle\" AS \"Customer_ContactTitle\", \"Customer\".\"Address\" AS \"Customer_Address\", \"Customer\".\"City\" AS \"Customer_City\", \"Customer\".\"Region\" AS \"Customer_Region\", \"Customer\".\"PostalCode\" AS \"Customer_PostalCode\", \"Customer\".\"Country\" AS \"Customer_Country\", \"Customer\".\"Phone\" AS \"Customer_Phone\", \"Customer\".\"Fax\" AS \"Customer_Fax\" \n",
      "FROM \"Customer\"\n",
      "2019-02-01 20:20:07,795 INFO sqlalchemy.engine.base.Engine ()\n",
      "\n",
      "\n",
      "91 customers served.\n"
     ]
    }
   ],
   "source": [
    "#How many customers ae served?\n",
    "names = []\n",
    "for instance in session.query(Customer):\n",
    "    names.append(instance.ContactName)\n",
    "\n",
    "print('\\n')\n",
    "print(len(set(names)), 'customers served.')"
   ]
  },
  {
   "cell_type": "code",
   "execution_count": 12,
   "metadata": {
    "scrolled": true
   },
   "outputs": [
    {
     "name": "stdout",
     "output_type": "stream",
     "text": [
      "2019-02-01 20:20:10,738 INFO sqlalchemy.engine.base.Engine SELECT \"Customer\".\"Id\" AS \"Customer_Id\", \"Customer\".\"CompanyName\" AS \"Customer_CompanyName\", \"Customer\".\"ContactName\" AS \"Customer_ContactName\", \"Customer\".\"ContactTitle\" AS \"Customer_ContactTitle\", \"Customer\".\"Address\" AS \"Customer_Address\", \"Customer\".\"City\" AS \"Customer_City\", \"Customer\".\"Region\" AS \"Customer_Region\", \"Customer\".\"PostalCode\" AS \"Customer_PostalCode\", \"Customer\".\"Country\" AS \"Customer_Country\", \"Customer\".\"Phone\" AS \"Customer_Phone\", \"Customer\".\"Fax\" AS \"Customer_Fax\" \n",
      "FROM \"Customer\"\n",
      "2019-02-01 20:20:10,739 INFO sqlalchemy.engine.base.Engine ()\n"
     ]
    },
    {
     "data": {
      "text/plain": [
       "Western Europe     28\n",
       "North America      16\n",
       "South America      16\n",
       "Southern Europe    10\n",
       "British Isles       8\n",
       "Central America     5\n",
       "Northern Europe     4\n",
       "Scandinavia         3\n",
       "Eastern Europe      1\n",
       "Name: 0, dtype: int64"
      ]
     },
     "execution_count": 12,
     "metadata": {},
     "output_type": "execute_result"
    }
   ],
   "source": [
    "#How many customers are served in each region?\n",
    "regions = []\n",
    "for instance in session.query(Customer):\n",
    "    regions.append(instance.Region)\n",
    "\n",
    "regions_df = pd.DataFrame(regions)\n",
    "regions_df[0].value_counts()"
   ]
  },
  {
   "cell_type": "code",
   "execution_count": 198,
   "metadata": {
    "scrolled": false
   },
   "outputs": [
    {
     "name": "stdout",
     "output_type": "stream",
     "text": [
      "2019-02-01 17:42:32,485 INFO sqlalchemy.engine.base.Engine SELECT ca.Id, ca.CategoryName,\n",
      "                                COUNT(p.ProductName) Products\n",
      "                                FROM Product p\n",
      "                                JOIN Category ca ON p.CategoryId = ca.Id\n",
      "                                WHERE p.Discontinued = 0\n",
      "                                GROUP BY ca.Id\n",
      "                            \n"
     ]
    },
    {
     "name": "stderr",
     "output_type": "stream",
     "text": [
      "INFO:sqlalchemy.engine.base.Engine:SELECT ca.Id, ca.CategoryName,\n",
      "                                COUNT(p.ProductName) Products\n",
      "                                FROM Product p\n",
      "                                JOIN Category ca ON p.CategoryId = ca.Id\n",
      "                                WHERE p.Discontinued = 0\n",
      "                                GROUP BY ca.Id\n",
      "                            \n"
     ]
    },
    {
     "name": "stdout",
     "output_type": "stream",
     "text": [
      "2019-02-01 17:42:32,487 INFO sqlalchemy.engine.base.Engine ()\n"
     ]
    },
    {
     "name": "stderr",
     "output_type": "stream",
     "text": [
      "INFO:sqlalchemy.engine.base.Engine:()\n"
     ]
    },
    {
     "data": {
      "text/html": [
       "<div>\n",
       "<style scoped>\n",
       "    .dataframe tbody tr th:only-of-type {\n",
       "        vertical-align: middle;\n",
       "    }\n",
       "\n",
       "    .dataframe tbody tr th {\n",
       "        vertical-align: top;\n",
       "    }\n",
       "\n",
       "    .dataframe thead th {\n",
       "        text-align: right;\n",
       "    }\n",
       "</style>\n",
       "<table border=\"1\" class=\"dataframe\">\n",
       "  <thead>\n",
       "    <tr style=\"text-align: right;\">\n",
       "      <th></th>\n",
       "      <th>Id</th>\n",
       "      <th>CategoryName</th>\n",
       "      <th>Products</th>\n",
       "    </tr>\n",
       "  </thead>\n",
       "  <tbody>\n",
       "    <tr>\n",
       "      <th>0</th>\n",
       "      <td>1</td>\n",
       "      <td>Beverages</td>\n",
       "      <td>11</td>\n",
       "    </tr>\n",
       "    <tr>\n",
       "      <th>1</th>\n",
       "      <td>2</td>\n",
       "      <td>Condiments</td>\n",
       "      <td>11</td>\n",
       "    </tr>\n",
       "    <tr>\n",
       "      <th>2</th>\n",
       "      <td>3</td>\n",
       "      <td>Confections</td>\n",
       "      <td>13</td>\n",
       "    </tr>\n",
       "    <tr>\n",
       "      <th>3</th>\n",
       "      <td>4</td>\n",
       "      <td>Dairy Products</td>\n",
       "      <td>10</td>\n",
       "    </tr>\n",
       "    <tr>\n",
       "      <th>4</th>\n",
       "      <td>5</td>\n",
       "      <td>Grains/Cereals</td>\n",
       "      <td>6</td>\n",
       "    </tr>\n",
       "    <tr>\n",
       "      <th>5</th>\n",
       "      <td>6</td>\n",
       "      <td>Meat/Poultry</td>\n",
       "      <td>2</td>\n",
       "    </tr>\n",
       "    <tr>\n",
       "      <th>6</th>\n",
       "      <td>7</td>\n",
       "      <td>Produce</td>\n",
       "      <td>4</td>\n",
       "    </tr>\n",
       "    <tr>\n",
       "      <th>7</th>\n",
       "      <td>8</td>\n",
       "      <td>Seafood</td>\n",
       "      <td>12</td>\n",
       "    </tr>\n",
       "  </tbody>\n",
       "</table>\n",
       "</div>"
      ],
      "text/plain": [
       "   Id    CategoryName  Products\n",
       "0   1       Beverages        11\n",
       "1   2      Condiments        11\n",
       "2   3     Confections        13\n",
       "3   4  Dairy Products        10\n",
       "4   5  Grains/Cereals         6\n",
       "5   6    Meat/Poultry         2\n",
       "6   7         Produce         4\n",
       "7   8         Seafood        12"
      ]
     },
     "execution_count": 198,
     "metadata": {},
     "output_type": "execute_result"
    }
   ],
   "source": [
    "#How many products are in each category?\n",
    "#Some products have been discontinued. Must exclude these from query\n",
    "prod_cats = pd.read_sql_query('''SELECT ca.Id, ca.CategoryName,\n",
    "                                COUNT(p.ProductName) Products\n",
    "                                FROM Product p\n",
    "                                JOIN Category ca ON p.CategoryId = ca.Id\n",
    "                                WHERE p.Discontinued = 0\n",
    "                                GROUP BY ca.Id\n",
    "                            ''', engine)\n",
    "prod_cats"
   ]
  },
  {
   "cell_type": "code",
   "execution_count": null,
   "metadata": {},
   "outputs": [],
   "source": [
    "#How much revenue is earned from each category?"
   ]
  },
  {
   "cell_type": "code",
   "execution_count": null,
   "metadata": {},
   "outputs": [],
   "source": []
  },
  {
   "cell_type": "code",
   "execution_count": 202,
   "metadata": {},
   "outputs": [
    {
     "data": {
      "text/plain": [
       "69"
      ]
     },
     "execution_count": 202,
     "metadata": {},
     "output_type": "execute_result"
    }
   ],
   "source": [
    "prod_cats['Products'].sum()"
   ]
  },
  {
   "cell_type": "code",
   "execution_count": 199,
   "metadata": {
    "scrolled": true
   },
   "outputs": [
    {
     "name": "stdout",
     "output_type": "stream",
     "text": [
      "2019-02-01 17:46:28,554 INFO sqlalchemy.engine.base.Engine SELECT p.*\n",
      "                                FROM Product p\n",
      "                                WHERE p.Discontinued != 1\n",
      "                            \n"
     ]
    },
    {
     "name": "stderr",
     "output_type": "stream",
     "text": [
      "INFO:sqlalchemy.engine.base.Engine:SELECT p.*\n",
      "                                FROM Product p\n",
      "                                WHERE p.Discontinued != 1\n",
      "                            \n"
     ]
    },
    {
     "name": "stdout",
     "output_type": "stream",
     "text": [
      "2019-02-01 17:46:28,556 INFO sqlalchemy.engine.base.Engine ()\n"
     ]
    },
    {
     "name": "stderr",
     "output_type": "stream",
     "text": [
      "INFO:sqlalchemy.engine.base.Engine:()\n"
     ]
    }
   ],
   "source": [
    "#Checking out all products\n",
    "products = pd.read_sql_query('''SELECT p.*\n",
    "                                FROM Product p\n",
    "                                WHERE p.Discontinued != 1\n",
    "                            ''', engine)\n",
    "#products"
   ]
  },
  {
   "cell_type": "code",
   "execution_count": 214,
   "metadata": {},
   "outputs": [
    {
     "name": "stdout",
     "output_type": "stream",
     "text": [
      "2019-02-01 18:12:56,433 INFO sqlalchemy.engine.base.Engine SELECT\n",
      "                                    SUM(\n",
      "                                        CASE WHEN p.UnitsInStock <= p.ReorderLevel \n",
      "                                            AND p.Discontinued != 1\n",
      "                                        THEN 1 ELSE 0 END\n",
      "                                        ) below_par,\n",
      "                                    SUM(\n",
      "                                        CASE WHEN p.UnitsInStock > p.ReorderLevel \n",
      "                                            AND p.Discontinued != 1\n",
      "                                        THEN 1 ELSE 0 END\n",
      "                                        ) all_above_par,\n",
      "                                    SUM(\n",
      "                                        CASE WHEN p.UnitsInStock > p.ReorderLevel\n",
      "                                            AND p.UnitsInStock < (2 * p.ReorderLevel)\n",
      "                                            AND p.Discontinued != 1\n",
      "                                        THEN 1 ELSE 0 END\n",
      "                                        ) less_2x_par,\n",
      "                                    SUM(\n",
      "                                        CASE WHEN p.UnitsInStock > (2 * p.ReorderLevel)\n",
      "                                            AND p.UnitsInStock < (3 * p.ReorderLevel)\n",
      "                                            AND p.Discontinued != 1\n",
      "                                        THEN 1 ELSE 0 END\n",
      "                                        ) x2_par,\n",
      "                                    SUM(\n",
      "                                        CASE WHEN p.UnitsInStock > (3 * p.ReorderLevel)\n",
      "                                            AND p.UnitsInStock < (4 * p.ReorderLevel)\n",
      "                                            AND p.Discontinued != 1\n",
      "                                        THEN 1 ELSE 0 END\n",
      "                                        ) x3_par,\n",
      "                                    SUM(\n",
      "                                        CASE WHEN p.UnitsInStock > (4 * p.ReorderLevel)\n",
      "                                            AND p.UnitsInStock < (5 * p.ReorderLevel)\n",
      "                                            AND p.Discontinued != 1\n",
      "                                        THEN 1 ELSE 0 END\n",
      "                                        ) x4_par,\n",
      "                                    SUM(\n",
      "                                        CASE WHEN p.UnitsInStock > (5 * p.ReorderLevel)\n",
      "                                            AND p.UnitsInStock < (6 * p.ReorderLevel)\n",
      "                                            AND p.Discontinued != 1\n",
      "                                        THEN 1 ELSE 0 END\n",
      "                                        ) x5_par,\n",
      "                                    SUM(\n",
      "                                        CASE WHEN p.UnitsInStock > (6 * p.ReorderLevel)\n",
      "                                            AND p.UnitsInStock < (7 * p.ReorderLevel)\n",
      "                                            AND p.Discontinued != 1\n",
      "                                        THEN 1 ELSE 0 END\n",
      "                                        ) x6_par,\n",
      "                                    SUM(\n",
      "                                        CASE WHEN p.UnitsInStock > (7 * p.ReorderLevel)\n",
      "                                            AND p.UnitsInStock < (8 * p.ReorderLevel)\n",
      "                                            AND p.Discontinued != 1\n",
      "                                        THEN 1 ELSE 0 END\n",
      "                                        ) x7_par,\n",
      "                                    SUM(\n",
      "                                        CASE WHEN p.UnitsInStock > (8 * p.ReorderLevel)\n",
      "                                            AND p.UnitsInStock < (9 * p.ReorderLevel)\n",
      "                                            AND p.Discontinued != 1\n",
      "                                        THEN 1 ELSE 0 END\n",
      "                                        ) x8_par,\n",
      "                                    SUM(\n",
      "                                        CASE WHEN p.UnitsInStock > (9 * p.ReorderLevel)\n",
      "                                            AND p.UnitsInStock < (10 * p.ReorderLevel)\n",
      "                                            AND p.Discontinued != 1\n",
      "                                        THEN 1 ELSE 0 END\n",
      "                                        ) x9_par,\n",
      "                                    SUM(\n",
      "                                        CASE WHEN p.UnitsInStock > (10 * p.ReorderLevel)\n",
      "                                            AND p.Discontinued != 1\n",
      "                                        THEN 1 ELSE 0 END\n",
      "                                        ) x10_par\n",
      "                                FROM Product p\n",
      "                            \n"
     ]
    },
    {
     "name": "stderr",
     "output_type": "stream",
     "text": [
      "INFO:sqlalchemy.engine.base.Engine:SELECT\n",
      "                                    SUM(\n",
      "                                        CASE WHEN p.UnitsInStock <= p.ReorderLevel \n",
      "                                            AND p.Discontinued != 1\n",
      "                                        THEN 1 ELSE 0 END\n",
      "                                        ) below_par,\n",
      "                                    SUM(\n",
      "                                        CASE WHEN p.UnitsInStock > p.ReorderLevel \n",
      "                                            AND p.Discontinued != 1\n",
      "                                        THEN 1 ELSE 0 END\n",
      "                                        ) all_above_par,\n",
      "                                    SUM(\n",
      "                                        CASE WHEN p.UnitsInStock > p.ReorderLevel\n",
      "                                            AND p.UnitsInStock < (2 * p.ReorderLevel)\n",
      "                                            AND p.Discontinued != 1\n",
      "                                        THEN 1 ELSE 0 END\n",
      "                                        ) less_2x_par,\n",
      "                                    SUM(\n",
      "                                        CASE WHEN p.UnitsInStock > (2 * p.ReorderLevel)\n",
      "                                            AND p.UnitsInStock < (3 * p.ReorderLevel)\n",
      "                                            AND p.Discontinued != 1\n",
      "                                        THEN 1 ELSE 0 END\n",
      "                                        ) x2_par,\n",
      "                                    SUM(\n",
      "                                        CASE WHEN p.UnitsInStock > (3 * p.ReorderLevel)\n",
      "                                            AND p.UnitsInStock < (4 * p.ReorderLevel)\n",
      "                                            AND p.Discontinued != 1\n",
      "                                        THEN 1 ELSE 0 END\n",
      "                                        ) x3_par,\n",
      "                                    SUM(\n",
      "                                        CASE WHEN p.UnitsInStock > (4 * p.ReorderLevel)\n",
      "                                            AND p.UnitsInStock < (5 * p.ReorderLevel)\n",
      "                                            AND p.Discontinued != 1\n",
      "                                        THEN 1 ELSE 0 END\n",
      "                                        ) x4_par,\n",
      "                                    SUM(\n",
      "                                        CASE WHEN p.UnitsInStock > (5 * p.ReorderLevel)\n",
      "                                            AND p.UnitsInStock < (6 * p.ReorderLevel)\n",
      "                                            AND p.Discontinued != 1\n",
      "                                        THEN 1 ELSE 0 END\n",
      "                                        ) x5_par,\n",
      "                                    SUM(\n",
      "                                        CASE WHEN p.UnitsInStock > (6 * p.ReorderLevel)\n",
      "                                            AND p.UnitsInStock < (7 * p.ReorderLevel)\n",
      "                                            AND p.Discontinued != 1\n",
      "                                        THEN 1 ELSE 0 END\n",
      "                                        ) x6_par,\n",
      "                                    SUM(\n",
      "                                        CASE WHEN p.UnitsInStock > (7 * p.ReorderLevel)\n",
      "                                            AND p.UnitsInStock < (8 * p.ReorderLevel)\n",
      "                                            AND p.Discontinued != 1\n",
      "                                        THEN 1 ELSE 0 END\n",
      "                                        ) x7_par,\n",
      "                                    SUM(\n",
      "                                        CASE WHEN p.UnitsInStock > (8 * p.ReorderLevel)\n",
      "                                            AND p.UnitsInStock < (9 * p.ReorderLevel)\n",
      "                                            AND p.Discontinued != 1\n",
      "                                        THEN 1 ELSE 0 END\n",
      "                                        ) x8_par,\n",
      "                                    SUM(\n",
      "                                        CASE WHEN p.UnitsInStock > (9 * p.ReorderLevel)\n",
      "                                            AND p.UnitsInStock < (10 * p.ReorderLevel)\n",
      "                                            AND p.Discontinued != 1\n",
      "                                        THEN 1 ELSE 0 END\n",
      "                                        ) x9_par,\n",
      "                                    SUM(\n",
      "                                        CASE WHEN p.UnitsInStock > (10 * p.ReorderLevel)\n",
      "                                            AND p.Discontinued != 1\n",
      "                                        THEN 1 ELSE 0 END\n",
      "                                        ) x10_par\n",
      "                                FROM Product p\n",
      "                            \n"
     ]
    },
    {
     "name": "stdout",
     "output_type": "stream",
     "text": [
      "2019-02-01 18:12:56,434 INFO sqlalchemy.engine.base.Engine ()\n"
     ]
    },
    {
     "name": "stderr",
     "output_type": "stream",
     "text": [
      "INFO:sqlalchemy.engine.base.Engine:()\n"
     ]
    },
    {
     "data": {
      "text/html": [
       "<div>\n",
       "<style scoped>\n",
       "    .dataframe tbody tr th:only-of-type {\n",
       "        vertical-align: middle;\n",
       "    }\n",
       "\n",
       "    .dataframe tbody tr th {\n",
       "        vertical-align: top;\n",
       "    }\n",
       "\n",
       "    .dataframe thead th {\n",
       "        text-align: right;\n",
       "    }\n",
       "</style>\n",
       "<table border=\"1\" class=\"dataframe\">\n",
       "  <thead>\n",
       "    <tr style=\"text-align: right;\">\n",
       "      <th></th>\n",
       "      <th>below_par</th>\n",
       "      <th>all_above_par</th>\n",
       "      <th>less_2x_par</th>\n",
       "      <th>x2_par</th>\n",
       "      <th>x3_par</th>\n",
       "      <th>x4_par</th>\n",
       "      <th>x5_par</th>\n",
       "      <th>x6_par</th>\n",
       "      <th>x7_par</th>\n",
       "      <th>x8_par</th>\n",
       "      <th>x9_par</th>\n",
       "      <th>x10_par</th>\n",
       "    </tr>\n",
       "  </thead>\n",
       "  <tbody>\n",
       "    <tr>\n",
       "      <th>0</th>\n",
       "      <td>18</td>\n",
       "      <td>51</td>\n",
       "      <td>8</td>\n",
       "      <td>7</td>\n",
       "      <td>2</td>\n",
       "      <td>6</td>\n",
       "      <td>4</td>\n",
       "      <td>0</td>\n",
       "      <td>2</td>\n",
       "      <td>1</td>\n",
       "      <td>0</td>\n",
       "      <td>18</td>\n",
       "    </tr>\n",
       "  </tbody>\n",
       "</table>\n",
       "</div>"
      ],
      "text/plain": [
       "   below_par  all_above_par  less_2x_par  x2_par  x3_par  x4_par  x5_par  \\\n",
       "0         18             51            8       7       2       6       4   \n",
       "\n",
       "   x6_par  x7_par  x8_par  x9_par  x10_par  \n",
       "0       0       2       1       0       18  "
      ]
     },
     "execution_count": 214,
     "metadata": {},
     "output_type": "execute_result"
    }
   ],
   "source": [
    "#How many products are in stock above par? \n",
    "products = pd.read_sql_query('''SELECT\n",
    "                                    SUM(\n",
    "                                        CASE WHEN p.UnitsInStock <= p.ReorderLevel \n",
    "                                            AND p.Discontinued != 1\n",
    "                                        THEN 1 ELSE 0 END\n",
    "                                        ) below_par,\n",
    "                                    SUM(\n",
    "                                        CASE WHEN p.UnitsInStock > p.ReorderLevel \n",
    "                                            AND p.Discontinued != 1\n",
    "                                        THEN 1 ELSE 0 END\n",
    "                                        ) all_above_par,\n",
    "                                    SUM(\n",
    "                                        CASE WHEN p.UnitsInStock > p.ReorderLevel\n",
    "                                            AND p.UnitsInStock < (2 * p.ReorderLevel)\n",
    "                                            AND p.Discontinued != 1\n",
    "                                        THEN 1 ELSE 0 END\n",
    "                                        ) less_2x_par,\n",
    "                                    SUM(\n",
    "                                        CASE WHEN p.UnitsInStock > (2 * p.ReorderLevel)\n",
    "                                            AND p.UnitsInStock < (3 * p.ReorderLevel)\n",
    "                                            AND p.Discontinued != 1\n",
    "                                        THEN 1 ELSE 0 END\n",
    "                                        ) x2_par,\n",
    "                                    SUM(\n",
    "                                        CASE WHEN p.UnitsInStock > (3 * p.ReorderLevel)\n",
    "                                            AND p.UnitsInStock < (4 * p.ReorderLevel)\n",
    "                                            AND p.Discontinued != 1\n",
    "                                        THEN 1 ELSE 0 END\n",
    "                                        ) x3_par,\n",
    "                                    SUM(\n",
    "                                        CASE WHEN p.UnitsInStock > (4 * p.ReorderLevel)\n",
    "                                            AND p.UnitsInStock < (5 * p.ReorderLevel)\n",
    "                                            AND p.Discontinued != 1\n",
    "                                        THEN 1 ELSE 0 END\n",
    "                                        ) x4_par,\n",
    "                                    SUM(\n",
    "                                        CASE WHEN p.UnitsInStock > (5 * p.ReorderLevel)\n",
    "                                            AND p.UnitsInStock < (6 * p.ReorderLevel)\n",
    "                                            AND p.Discontinued != 1\n",
    "                                        THEN 1 ELSE 0 END\n",
    "                                        ) x5_par,\n",
    "                                    SUM(\n",
    "                                        CASE WHEN p.UnitsInStock > (6 * p.ReorderLevel)\n",
    "                                            AND p.UnitsInStock < (7 * p.ReorderLevel)\n",
    "                                            AND p.Discontinued != 1\n",
    "                                        THEN 1 ELSE 0 END\n",
    "                                        ) x6_par,\n",
    "                                    SUM(\n",
    "                                        CASE WHEN p.UnitsInStock > (7 * p.ReorderLevel)\n",
    "                                            AND p.UnitsInStock < (8 * p.ReorderLevel)\n",
    "                                            AND p.Discontinued != 1\n",
    "                                        THEN 1 ELSE 0 END\n",
    "                                        ) x7_par,\n",
    "                                    SUM(\n",
    "                                        CASE WHEN p.UnitsInStock > (8 * p.ReorderLevel)\n",
    "                                            AND p.UnitsInStock < (9 * p.ReorderLevel)\n",
    "                                            AND p.Discontinued != 1\n",
    "                                        THEN 1 ELSE 0 END\n",
    "                                        ) x8_par,\n",
    "                                    SUM(\n",
    "                                        CASE WHEN p.UnitsInStock > (9 * p.ReorderLevel)\n",
    "                                            AND p.UnitsInStock < (10 * p.ReorderLevel)\n",
    "                                            AND p.Discontinued != 1\n",
    "                                        THEN 1 ELSE 0 END\n",
    "                                        ) x9_par,\n",
    "                                    SUM(\n",
    "                                        CASE WHEN p.UnitsInStock > (10 * p.ReorderLevel)\n",
    "                                            AND p.Discontinued != 1\n",
    "                                        THEN 1 ELSE 0 END\n",
    "                                        ) x10_par\n",
    "                                FROM Product p\n",
    "                            ''', engine)\n",
    "products "
   ]
  },
  {
   "cell_type": "code",
   "execution_count": null,
   "metadata": {},
   "outputs": [],
   "source": [
    "#49 products out of 69 are above par"
   ]
  },
  {
   "cell_type": "code",
   "execution_count": 13,
   "metadata": {},
   "outputs": [
    {
     "name": "stdout",
     "output_type": "stream",
     "text": [
      "2019-02-01 20:22:58,464 INFO sqlalchemy.engine.base.Engine SELECT p.*\n",
      "                                FROM Product p\n",
      "                                WHERE p.UnitsInStock > (10 * p.ReorderLevel)\n",
      "                                    AND p.Discontinued != 1\n",
      "                                \n",
      "2019-02-01 20:22:58,464 INFO sqlalchemy.engine.base.Engine ()\n"
     ]
    },
    {
     "data": {
      "text/html": [
       "<div>\n",
       "<style scoped>\n",
       "    .dataframe tbody tr th:only-of-type {\n",
       "        vertical-align: middle;\n",
       "    }\n",
       "\n",
       "    .dataframe tbody tr th {\n",
       "        vertical-align: top;\n",
       "    }\n",
       "\n",
       "    .dataframe thead th {\n",
       "        text-align: right;\n",
       "    }\n",
       "</style>\n",
       "<table border=\"1\" class=\"dataframe\">\n",
       "  <thead>\n",
       "    <tr style=\"text-align: right;\">\n",
       "      <th></th>\n",
       "      <th>Id</th>\n",
       "      <th>ProductName</th>\n",
       "      <th>SupplierId</th>\n",
       "      <th>CategoryId</th>\n",
       "      <th>QuantityPerUnit</th>\n",
       "      <th>UnitPrice</th>\n",
       "      <th>UnitsInStock</th>\n",
       "      <th>UnitsOnOrder</th>\n",
       "      <th>ReorderLevel</th>\n",
       "      <th>Discontinued</th>\n",
       "    </tr>\n",
       "  </thead>\n",
       "  <tbody>\n",
       "    <tr>\n",
       "      <th>0</th>\n",
       "      <td>4</td>\n",
       "      <td>Chef Anton's Cajun Seasoning</td>\n",
       "      <td>2</td>\n",
       "      <td>2</td>\n",
       "      <td>48 - 6 oz jars</td>\n",
       "      <td>22.00</td>\n",
       "      <td>53</td>\n",
       "      <td>0</td>\n",
       "      <td>0</td>\n",
       "      <td>0</td>\n",
       "    </tr>\n",
       "    <tr>\n",
       "      <th>1</th>\n",
       "      <td>8</td>\n",
       "      <td>Northwoods Cranberry Sauce</td>\n",
       "      <td>3</td>\n",
       "      <td>2</td>\n",
       "      <td>12 - 12 oz jars</td>\n",
       "      <td>40.00</td>\n",
       "      <td>6</td>\n",
       "      <td>0</td>\n",
       "      <td>0</td>\n",
       "      <td>0</td>\n",
       "    </tr>\n",
       "    <tr>\n",
       "      <th>2</th>\n",
       "      <td>10</td>\n",
       "      <td>Ikura</td>\n",
       "      <td>4</td>\n",
       "      <td>8</td>\n",
       "      <td>12 - 200 ml jars</td>\n",
       "      <td>31.00</td>\n",
       "      <td>31</td>\n",
       "      <td>0</td>\n",
       "      <td>0</td>\n",
       "      <td>0</td>\n",
       "    </tr>\n",
       "    <tr>\n",
       "      <th>3</th>\n",
       "      <td>12</td>\n",
       "      <td>Queso Manchego La Pastora</td>\n",
       "      <td>5</td>\n",
       "      <td>4</td>\n",
       "      <td>10 - 500 g pkgs.</td>\n",
       "      <td>38.00</td>\n",
       "      <td>86</td>\n",
       "      <td>0</td>\n",
       "      <td>0</td>\n",
       "      <td>0</td>\n",
       "    </tr>\n",
       "    <tr>\n",
       "      <th>4</th>\n",
       "      <td>14</td>\n",
       "      <td>Tofu</td>\n",
       "      <td>6</td>\n",
       "      <td>7</td>\n",
       "      <td>40 - 100 g pkgs.</td>\n",
       "      <td>23.25</td>\n",
       "      <td>35</td>\n",
       "      <td>0</td>\n",
       "      <td>0</td>\n",
       "      <td>0</td>\n",
       "    </tr>\n",
       "  </tbody>\n",
       "</table>\n",
       "</div>"
      ],
      "text/plain": [
       "   Id                   ProductName  SupplierId  CategoryId   QuantityPerUnit  \\\n",
       "0   4  Chef Anton's Cajun Seasoning           2           2    48 - 6 oz jars   \n",
       "1   8    Northwoods Cranberry Sauce           3           2   12 - 12 oz jars   \n",
       "2  10                         Ikura           4           8  12 - 200 ml jars   \n",
       "3  12     Queso Manchego La Pastora           5           4  10 - 500 g pkgs.   \n",
       "4  14                          Tofu           6           7  40 - 100 g pkgs.   \n",
       "\n",
       "   UnitPrice  UnitsInStock  UnitsOnOrder  ReorderLevel  Discontinued  \n",
       "0      22.00            53             0             0             0  \n",
       "1      40.00             6             0             0             0  \n",
       "2      31.00            31             0             0             0  \n",
       "3      38.00            86             0             0             0  \n",
       "4      23.25            35             0             0             0  "
      ]
     },
     "execution_count": 13,
     "metadata": {},
     "output_type": "execute_result"
    }
   ],
   "source": [
    "overstock = pd.read_sql_query('''SELECT p.*\n",
    "                                FROM Product p\n",
    "                                WHERE p.UnitsInStock > (10 * p.ReorderLevel)\n",
    "                                    AND p.Discontinued != 1\n",
    "                                ''', engine)\n",
    "overstock.head()"
   ]
  },
  {
   "cell_type": "code",
   "execution_count": null,
   "metadata": {},
   "outputs": [],
   "source": []
  },
  {
   "cell_type": "code",
   "execution_count": null,
   "metadata": {},
   "outputs": [],
   "source": []
  },
  {
   "cell_type": "code",
   "execution_count": 188,
   "metadata": {},
   "outputs": [
    {
     "data": {
      "text/plain": [
       "['Id',\n",
       " 'ProductName',\n",
       " 'SupplierId',\n",
       " 'CategoryId',\n",
       " 'QuantityPerUnit',\n",
       " 'UnitPrice',\n",
       " 'UnitsInStock',\n",
       " 'UnitsOnOrder',\n",
       " 'ReorderLevel',\n",
       " 'Discontinued']"
      ]
     },
     "execution_count": 188,
     "metadata": {},
     "output_type": "execute_result"
    }
   ],
   "source": [
    "tables_columns['Product']"
   ]
  },
  {
   "cell_type": "code",
   "execution_count": null,
   "metadata": {},
   "outputs": [],
   "source": []
  },
  {
   "cell_type": "code",
   "execution_count": 33,
   "metadata": {
    "scrolled": true
   },
   "outputs": [
    {
     "name": "stdout",
     "output_type": "stream",
     "text": [
      "2019-02-01 08:29:40,062 INFO sqlalchemy.engine.base.Engine SELECT e.Id, e.LastName, e.FirstName, e.Title, e.HireDate, e.City, \n",
      "                            count(et.TerritoryId) Territories\n",
      "                            FROM Employee e\n",
      "                            JOIN EmployeeTerritory et ON et.EmployeeId = e.Id\n",
      "                            GROUP BY e.Id\n",
      "                        \n"
     ]
    },
    {
     "name": "stderr",
     "output_type": "stream",
     "text": [
      "INFO:sqlalchemy.engine.base.Engine:SELECT e.Id, e.LastName, e.FirstName, e.Title, e.HireDate, e.City, \n",
      "                            count(et.TerritoryId) Territories\n",
      "                            FROM Employee e\n",
      "                            JOIN EmployeeTerritory et ON et.EmployeeId = e.Id\n",
      "                            GROUP BY e.Id\n",
      "                        \n"
     ]
    },
    {
     "name": "stdout",
     "output_type": "stream",
     "text": [
      "2019-02-01 08:29:40,063 INFO sqlalchemy.engine.base.Engine ()\n"
     ]
    },
    {
     "name": "stderr",
     "output_type": "stream",
     "text": [
      "INFO:sqlalchemy.engine.base.Engine:()\n"
     ]
    },
    {
     "data": {
      "text/html": [
       "<div>\n",
       "<style scoped>\n",
       "    .dataframe tbody tr th:only-of-type {\n",
       "        vertical-align: middle;\n",
       "    }\n",
       "\n",
       "    .dataframe tbody tr th {\n",
       "        vertical-align: top;\n",
       "    }\n",
       "\n",
       "    .dataframe thead th {\n",
       "        text-align: right;\n",
       "    }\n",
       "</style>\n",
       "<table border=\"1\" class=\"dataframe\">\n",
       "  <thead>\n",
       "    <tr style=\"text-align: right;\">\n",
       "      <th></th>\n",
       "      <th>Id</th>\n",
       "      <th>LastName</th>\n",
       "      <th>FirstName</th>\n",
       "      <th>Title</th>\n",
       "      <th>HireDate</th>\n",
       "      <th>City</th>\n",
       "      <th>Territories</th>\n",
       "    </tr>\n",
       "  </thead>\n",
       "  <tbody>\n",
       "    <tr>\n",
       "      <th>0</th>\n",
       "      <td>1</td>\n",
       "      <td>Davolio</td>\n",
       "      <td>Nancy</td>\n",
       "      <td>Sales Representative</td>\n",
       "      <td>2024-05-01</td>\n",
       "      <td>Seattle</td>\n",
       "      <td>2</td>\n",
       "    </tr>\n",
       "    <tr>\n",
       "      <th>1</th>\n",
       "      <td>2</td>\n",
       "      <td>Fuller</td>\n",
       "      <td>Andrew</td>\n",
       "      <td>Vice President, Sales</td>\n",
       "      <td>2024-08-14</td>\n",
       "      <td>Tacoma</td>\n",
       "      <td>7</td>\n",
       "    </tr>\n",
       "    <tr>\n",
       "      <th>2</th>\n",
       "      <td>3</td>\n",
       "      <td>Leverling</td>\n",
       "      <td>Janet</td>\n",
       "      <td>Sales Representative</td>\n",
       "      <td>2024-04-01</td>\n",
       "      <td>Kirkland</td>\n",
       "      <td>4</td>\n",
       "    </tr>\n",
       "    <tr>\n",
       "      <th>3</th>\n",
       "      <td>4</td>\n",
       "      <td>Peacock</td>\n",
       "      <td>Margaret</td>\n",
       "      <td>Sales Representative</td>\n",
       "      <td>2025-05-03</td>\n",
       "      <td>Redmond</td>\n",
       "      <td>3</td>\n",
       "    </tr>\n",
       "    <tr>\n",
       "      <th>4</th>\n",
       "      <td>5</td>\n",
       "      <td>Buchanan</td>\n",
       "      <td>Steven</td>\n",
       "      <td>Sales Manager</td>\n",
       "      <td>2025-10-17</td>\n",
       "      <td>London</td>\n",
       "      <td>7</td>\n",
       "    </tr>\n",
       "    <tr>\n",
       "      <th>5</th>\n",
       "      <td>6</td>\n",
       "      <td>Suyama</td>\n",
       "      <td>Michael</td>\n",
       "      <td>Sales Representative</td>\n",
       "      <td>2025-10-17</td>\n",
       "      <td>London</td>\n",
       "      <td>5</td>\n",
       "    </tr>\n",
       "    <tr>\n",
       "      <th>6</th>\n",
       "      <td>7</td>\n",
       "      <td>King</td>\n",
       "      <td>Robert</td>\n",
       "      <td>Sales Representative</td>\n",
       "      <td>2026-01-02</td>\n",
       "      <td>London</td>\n",
       "      <td>10</td>\n",
       "    </tr>\n",
       "    <tr>\n",
       "      <th>7</th>\n",
       "      <td>8</td>\n",
       "      <td>Callahan</td>\n",
       "      <td>Laura</td>\n",
       "      <td>Inside Sales Coordinator</td>\n",
       "      <td>2026-03-05</td>\n",
       "      <td>Seattle</td>\n",
       "      <td>4</td>\n",
       "    </tr>\n",
       "    <tr>\n",
       "      <th>8</th>\n",
       "      <td>9</td>\n",
       "      <td>Dodsworth</td>\n",
       "      <td>Anne</td>\n",
       "      <td>Sales Representative</td>\n",
       "      <td>2026-11-15</td>\n",
       "      <td>London</td>\n",
       "      <td>7</td>\n",
       "    </tr>\n",
       "  </tbody>\n",
       "</table>\n",
       "</div>"
      ],
      "text/plain": [
       "   Id   LastName FirstName                     Title    HireDate      City  \\\n",
       "0   1    Davolio     Nancy      Sales Representative  2024-05-01   Seattle   \n",
       "1   2     Fuller    Andrew     Vice President, Sales  2024-08-14    Tacoma   \n",
       "2   3  Leverling     Janet      Sales Representative  2024-04-01  Kirkland   \n",
       "3   4    Peacock  Margaret      Sales Representative  2025-05-03   Redmond   \n",
       "4   5   Buchanan    Steven             Sales Manager  2025-10-17    London   \n",
       "5   6     Suyama   Michael      Sales Representative  2025-10-17    London   \n",
       "6   7       King    Robert      Sales Representative  2026-01-02    London   \n",
       "7   8   Callahan     Laura  Inside Sales Coordinator  2026-03-05   Seattle   \n",
       "8   9  Dodsworth      Anne      Sales Representative  2026-11-15    London   \n",
       "\n",
       "   Territories  \n",
       "0            2  \n",
       "1            7  \n",
       "2            4  \n",
       "3            3  \n",
       "4            7  \n",
       "5            5  \n",
       "6           10  \n",
       "7            4  \n",
       "8            7  "
      ]
     },
     "execution_count": 33,
     "metadata": {},
     "output_type": "execute_result"
    }
   ],
   "source": [
    "#Look at how many territories are assigned to each employee\n",
    "df = pd.read_sql_query('''SELECT e.Id, e.LastName, e.FirstName, e.Title, e.HireDate, e.City, \n",
    "                            count(et.TerritoryId) Territories\n",
    "                            FROM Employee e\n",
    "                            JOIN EmployeeTerritory et ON et.EmployeeId = e.Id\n",
    "                            GROUP BY e.Id\n",
    "                        ''', engine)\n",
    "df"
   ]
  },
  {
   "cell_type": "code",
   "execution_count": null,
   "metadata": {},
   "outputs": [],
   "source": [
    "#5 employees in the PNW USA and 4 in London. Each employee has several territories assigned"
   ]
  },
  {
   "cell_type": "code",
   "execution_count": 142,
   "metadata": {},
   "outputs": [
    {
     "name": "stdout",
     "output_type": "stream",
     "text": [
      "2019-02-01 16:29:29,209 INFO sqlalchemy.engine.base.Engine SELECT e.Id, e.LastName, e.FirstName, e.City, e.HireDate,\n",
      "                            r.RegionDescription,\n",
      "                            COUNT(DISTINCT od.OrderId) Orders,\n",
      "                            SUM(od.Quantity) Quantities\n",
      "                            FROM Employee e\n",
      "                            JOIN [Order] o ON e.Id = o.EmployeeId\n",
      "                            JOIN OrderDetail od ON o.Id = od.OrderId\n",
      "                            JOIN EmployeeTerritory et ON et.EmployeeId = e.Id\n",
      "                            JOIN Territory t on et.Territoryid = t.Id\n",
      "                            JOIN Region r on t.RegionId = r.Id\n",
      "                            GROUP BY e.Id\n",
      "                            ORDER BY e.HireDate\n",
      "                        \n"
     ]
    },
    {
     "name": "stderr",
     "output_type": "stream",
     "text": [
      "INFO:sqlalchemy.engine.base.Engine:SELECT e.Id, e.LastName, e.FirstName, e.City, e.HireDate,\n",
      "                            r.RegionDescription,\n",
      "                            COUNT(DISTINCT od.OrderId) Orders,\n",
      "                            SUM(od.Quantity) Quantities\n",
      "                            FROM Employee e\n",
      "                            JOIN [Order] o ON e.Id = o.EmployeeId\n",
      "                            JOIN OrderDetail od ON o.Id = od.OrderId\n",
      "                            JOIN EmployeeTerritory et ON et.EmployeeId = e.Id\n",
      "                            JOIN Territory t on et.Territoryid = t.Id\n",
      "                            JOIN Region r on t.RegionId = r.Id\n",
      "                            GROUP BY e.Id\n",
      "                            ORDER BY e.HireDate\n",
      "                        \n"
     ]
    },
    {
     "name": "stdout",
     "output_type": "stream",
     "text": [
      "2019-02-01 16:29:29,211 INFO sqlalchemy.engine.base.Engine ()\n"
     ]
    },
    {
     "name": "stderr",
     "output_type": "stream",
     "text": [
      "INFO:sqlalchemy.engine.base.Engine:()\n"
     ]
    },
    {
     "data": {
      "text/html": [
       "<div>\n",
       "<style scoped>\n",
       "    .dataframe tbody tr th:only-of-type {\n",
       "        vertical-align: middle;\n",
       "    }\n",
       "\n",
       "    .dataframe tbody tr th {\n",
       "        vertical-align: top;\n",
       "    }\n",
       "\n",
       "    .dataframe thead th {\n",
       "        text-align: right;\n",
       "    }\n",
       "</style>\n",
       "<table border=\"1\" class=\"dataframe\">\n",
       "  <thead>\n",
       "    <tr style=\"text-align: right;\">\n",
       "      <th></th>\n",
       "      <th>Id</th>\n",
       "      <th>LastName</th>\n",
       "      <th>FirstName</th>\n",
       "      <th>City</th>\n",
       "      <th>HireDate</th>\n",
       "      <th>RegionDescription</th>\n",
       "      <th>Orders</th>\n",
       "      <th>Quantities</th>\n",
       "    </tr>\n",
       "  </thead>\n",
       "  <tbody>\n",
       "    <tr>\n",
       "      <th>0</th>\n",
       "      <td>3</td>\n",
       "      <td>Leverling</td>\n",
       "      <td>Janet</td>\n",
       "      <td>Kirkland</td>\n",
       "      <td>2024-04-01</td>\n",
       "      <td>Southern</td>\n",
       "      <td>127</td>\n",
       "      <td>31408</td>\n",
       "    </tr>\n",
       "    <tr>\n",
       "      <th>1</th>\n",
       "      <td>1</td>\n",
       "      <td>Davolio</td>\n",
       "      <td>Nancy</td>\n",
       "      <td>Seattle</td>\n",
       "      <td>2024-05-01</td>\n",
       "      <td>Eastern</td>\n",
       "      <td>123</td>\n",
       "      <td>15624</td>\n",
       "    </tr>\n",
       "    <tr>\n",
       "      <th>2</th>\n",
       "      <td>2</td>\n",
       "      <td>Fuller</td>\n",
       "      <td>Andrew</td>\n",
       "      <td>Tacoma</td>\n",
       "      <td>2024-08-14</td>\n",
       "      <td>Eastern</td>\n",
       "      <td>96</td>\n",
       "      <td>42385</td>\n",
       "    </tr>\n",
       "    <tr>\n",
       "      <th>3</th>\n",
       "      <td>4</td>\n",
       "      <td>Peacock</td>\n",
       "      <td>Margaret</td>\n",
       "      <td>Redmond</td>\n",
       "      <td>2025-05-03</td>\n",
       "      <td>Eastern</td>\n",
       "      <td>156</td>\n",
       "      <td>29394</td>\n",
       "    </tr>\n",
       "    <tr>\n",
       "      <th>4</th>\n",
       "      <td>5</td>\n",
       "      <td>Buchanan</td>\n",
       "      <td>Steven</td>\n",
       "      <td>London</td>\n",
       "      <td>2025-10-17</td>\n",
       "      <td>Eastern</td>\n",
       "      <td>42</td>\n",
       "      <td>21252</td>\n",
       "    </tr>\n",
       "    <tr>\n",
       "      <th>5</th>\n",
       "      <td>6</td>\n",
       "      <td>Suyama</td>\n",
       "      <td>Michael</td>\n",
       "      <td>London</td>\n",
       "      <td>2025-10-17</td>\n",
       "      <td>Western</td>\n",
       "      <td>67</td>\n",
       "      <td>17635</td>\n",
       "    </tr>\n",
       "    <tr>\n",
       "      <th>6</th>\n",
       "      <td>7</td>\n",
       "      <td>King</td>\n",
       "      <td>Robert</td>\n",
       "      <td>London</td>\n",
       "      <td>2026-01-02</td>\n",
       "      <td>Western</td>\n",
       "      <td>72</td>\n",
       "      <td>46540</td>\n",
       "    </tr>\n",
       "    <tr>\n",
       "      <th>7</th>\n",
       "      <td>8</td>\n",
       "      <td>Callahan</td>\n",
       "      <td>Laura</td>\n",
       "      <td>Seattle</td>\n",
       "      <td>2026-03-05</td>\n",
       "      <td>Northern</td>\n",
       "      <td>104</td>\n",
       "      <td>23652</td>\n",
       "    </tr>\n",
       "    <tr>\n",
       "      <th>8</th>\n",
       "      <td>9</td>\n",
       "      <td>Dodsworth</td>\n",
       "      <td>Anne</td>\n",
       "      <td>London</td>\n",
       "      <td>2026-11-15</td>\n",
       "      <td>Northern</td>\n",
       "      <td>43</td>\n",
       "      <td>18690</td>\n",
       "    </tr>\n",
       "  </tbody>\n",
       "</table>\n",
       "</div>"
      ],
      "text/plain": [
       "   Id   LastName FirstName      City    HireDate RegionDescription  Orders  \\\n",
       "0   3  Leverling     Janet  Kirkland  2024-04-01          Southern     127   \n",
       "1   1    Davolio     Nancy   Seattle  2024-05-01           Eastern     123   \n",
       "2   2     Fuller    Andrew    Tacoma  2024-08-14           Eastern      96   \n",
       "3   4    Peacock  Margaret   Redmond  2025-05-03           Eastern     156   \n",
       "4   5   Buchanan    Steven    London  2025-10-17           Eastern      42   \n",
       "5   6     Suyama   Michael    London  2025-10-17           Western      67   \n",
       "6   7       King    Robert    London  2026-01-02           Western      72   \n",
       "7   8   Callahan     Laura   Seattle  2026-03-05          Northern     104   \n",
       "8   9  Dodsworth      Anne    London  2026-11-15          Northern      43   \n",
       "\n",
       "   Quantities  \n",
       "0       31408  \n",
       "1       15624  \n",
       "2       42385  \n",
       "3       29394  \n",
       "4       21252  \n",
       "5       17635  \n",
       "6       46540  \n",
       "7       23652  \n",
       "8       18690  "
      ]
     },
     "execution_count": 142,
     "metadata": {},
     "output_type": "execute_result"
    }
   ],
   "source": [
    "df = pd.read_sql_query('''SELECT e.Id, e.LastName, e.FirstName, e.City, e.HireDate,\n",
    "                            r.RegionDescription,\n",
    "                            COUNT(DISTINCT od.OrderId) Orders,\n",
    "                            SUM(od.Quantity) Quantities\n",
    "                            FROM Employee e\n",
    "                            JOIN [Order] o ON e.Id = o.EmployeeId\n",
    "                            JOIN OrderDetail od ON o.Id = od.OrderId\n",
    "                            JOIN EmployeeTerritory et ON et.EmployeeId = e.Id\n",
    "                            JOIN Territory t on et.Territoryid = t.Id\n",
    "                            JOIN Region r on t.RegionId = r.Id\n",
    "                            GROUP BY e.Id\n",
    "                            ORDER BY e.HireDate\n",
    "                        ''', engine)\n",
    "df"
   ]
  },
  {
   "cell_type": "code",
   "execution_count": null,
   "metadata": {},
   "outputs": [],
   "source": [
    "#Earlier hire date doesn't indicate higher sales per employee"
   ]
  },
  {
   "cell_type": "code",
   "execution_count": null,
   "metadata": {},
   "outputs": [],
   "source": []
  },
  {
   "cell_type": "code",
   "execution_count": 43,
   "metadata": {
    "scrolled": false
   },
   "outputs": [
    {
     "name": "stdout",
     "output_type": "stream",
     "text": [
      "2019-02-01 21:35:14,245 INFO sqlalchemy.engine.base.Engine SELECT p.ProductName, od.UnitPrice,\n",
      "                            COUNT(od.Id) Times_ordered,\n",
      "                            SUM(\n",
      "                                CASE WHEN od.Discount == 0.0 \n",
      "                                THEN 1 ELSE 0 END\n",
      "                                ) not_discounted,\n",
      "                            SUM(\n",
      "                                CASE WHEN od.Discount != 0.0 \n",
      "                                THEN 1 ELSE 0 END\n",
      "                                ) discounted\n",
      "                            FROM Product p\n",
      "                            JOIN OrderDetail od on p.Id = od.ProductId\n",
      "                            GROUP BY p.ProductName\n",
      "                        \n"
     ]
    },
    {
     "name": "stderr",
     "output_type": "stream",
     "text": [
      "INFO:sqlalchemy.engine.base.Engine:SELECT p.ProductName, od.UnitPrice,\n",
      "                            COUNT(od.Id) Times_ordered,\n",
      "                            SUM(\n",
      "                                CASE WHEN od.Discount == 0.0 \n",
      "                                THEN 1 ELSE 0 END\n",
      "                                ) not_discounted,\n",
      "                            SUM(\n",
      "                                CASE WHEN od.Discount != 0.0 \n",
      "                                THEN 1 ELSE 0 END\n",
      "                                ) discounted\n",
      "                            FROM Product p\n",
      "                            JOIN OrderDetail od on p.Id = od.ProductId\n",
      "                            GROUP BY p.ProductName\n",
      "                        \n"
     ]
    },
    {
     "name": "stdout",
     "output_type": "stream",
     "text": [
      "2019-02-01 21:35:14,261 INFO sqlalchemy.engine.base.Engine ()\n"
     ]
    },
    {
     "name": "stderr",
     "output_type": "stream",
     "text": [
      "INFO:sqlalchemy.engine.base.Engine:()\n"
     ]
    },
    {
     "data": {
      "text/html": [
       "<div>\n",
       "<style scoped>\n",
       "    .dataframe tbody tr th:only-of-type {\n",
       "        vertical-align: middle;\n",
       "    }\n",
       "\n",
       "    .dataframe tbody tr th {\n",
       "        vertical-align: top;\n",
       "    }\n",
       "\n",
       "    .dataframe thead th {\n",
       "        text-align: right;\n",
       "    }\n",
       "</style>\n",
       "<table border=\"1\" class=\"dataframe\">\n",
       "  <thead>\n",
       "    <tr style=\"text-align: right;\">\n",
       "      <th></th>\n",
       "      <th>ProductName</th>\n",
       "      <th>UnitPrice</th>\n",
       "      <th>Times_ordered</th>\n",
       "      <th>not_discounted</th>\n",
       "      <th>discounted</th>\n",
       "    </tr>\n",
       "  </thead>\n",
       "  <tbody>\n",
       "    <tr>\n",
       "      <th>0</th>\n",
       "      <td>Alice Mutton</td>\n",
       "      <td>39.00</td>\n",
       "      <td>37</td>\n",
       "      <td>21</td>\n",
       "      <td>16</td>\n",
       "    </tr>\n",
       "    <tr>\n",
       "      <th>1</th>\n",
       "      <td>Aniseed Syrup</td>\n",
       "      <td>10.00</td>\n",
       "      <td>12</td>\n",
       "      <td>10</td>\n",
       "      <td>2</td>\n",
       "    </tr>\n",
       "    <tr>\n",
       "      <th>2</th>\n",
       "      <td>Boston Crab Meat</td>\n",
       "      <td>18.40</td>\n",
       "      <td>41</td>\n",
       "      <td>25</td>\n",
       "      <td>16</td>\n",
       "    </tr>\n",
       "    <tr>\n",
       "      <th>3</th>\n",
       "      <td>Camembert Pierrot</td>\n",
       "      <td>34.00</td>\n",
       "      <td>51</td>\n",
       "      <td>28</td>\n",
       "      <td>23</td>\n",
       "    </tr>\n",
       "    <tr>\n",
       "      <th>4</th>\n",
       "      <td>Carnarvon Tigers</td>\n",
       "      <td>62.50</td>\n",
       "      <td>27</td>\n",
       "      <td>14</td>\n",
       "      <td>13</td>\n",
       "    </tr>\n",
       "    <tr>\n",
       "      <th>5</th>\n",
       "      <td>Chai</td>\n",
       "      <td>18.00</td>\n",
       "      <td>38</td>\n",
       "      <td>22</td>\n",
       "      <td>16</td>\n",
       "    </tr>\n",
       "    <tr>\n",
       "      <th>6</th>\n",
       "      <td>Chang</td>\n",
       "      <td>19.00</td>\n",
       "      <td>44</td>\n",
       "      <td>19</td>\n",
       "      <td>25</td>\n",
       "    </tr>\n",
       "    <tr>\n",
       "      <th>7</th>\n",
       "      <td>Chartreuse verte</td>\n",
       "      <td>18.00</td>\n",
       "      <td>30</td>\n",
       "      <td>16</td>\n",
       "      <td>14</td>\n",
       "    </tr>\n",
       "    <tr>\n",
       "      <th>8</th>\n",
       "      <td>Chef Anton's Cajun Seasoning</td>\n",
       "      <td>22.00</td>\n",
       "      <td>20</td>\n",
       "      <td>10</td>\n",
       "      <td>10</td>\n",
       "    </tr>\n",
       "    <tr>\n",
       "      <th>9</th>\n",
       "      <td>Chef Anton's Gumbo Mix</td>\n",
       "      <td>21.35</td>\n",
       "      <td>10</td>\n",
       "      <td>6</td>\n",
       "      <td>4</td>\n",
       "    </tr>\n",
       "  </tbody>\n",
       "</table>\n",
       "</div>"
      ],
      "text/plain": [
       "                    ProductName  UnitPrice  Times_ordered  not_discounted  \\\n",
       "0                  Alice Mutton      39.00             37              21   \n",
       "1                 Aniseed Syrup      10.00             12              10   \n",
       "2              Boston Crab Meat      18.40             41              25   \n",
       "3             Camembert Pierrot      34.00             51              28   \n",
       "4              Carnarvon Tigers      62.50             27              14   \n",
       "5                          Chai      18.00             38              22   \n",
       "6                         Chang      19.00             44              19   \n",
       "7              Chartreuse verte      18.00             30              16   \n",
       "8  Chef Anton's Cajun Seasoning      22.00             20              10   \n",
       "9        Chef Anton's Gumbo Mix      21.35             10               6   \n",
       "\n",
       "   discounted  \n",
       "0          16  \n",
       "1           2  \n",
       "2          16  \n",
       "3          23  \n",
       "4          13  \n",
       "5          16  \n",
       "6          25  \n",
       "7          14  \n",
       "8          10  \n",
       "9           4  "
      ]
     },
     "execution_count": 43,
     "metadata": {},
     "output_type": "execute_result"
    }
   ],
   "source": [
    "#Examine how often each product is sold with/without discount\n",
    "\n",
    "product_discs = pd.read_sql_query('''SELECT p.ProductName, od.UnitPrice,\n",
    "                            COUNT(od.Id) Times_ordered,\n",
    "                            SUM(\n",
    "                                CASE WHEN od.Discount == 0.0 \n",
    "                                THEN 1 ELSE 0 END\n",
    "                                ) not_discounted,\n",
    "                            SUM(\n",
    "                                CASE WHEN od.Discount != 0.0 \n",
    "                                THEN 1 ELSE 0 END\n",
    "                                ) discounted\n",
    "                            FROM Product p\n",
    "                            JOIN OrderDetail od on p.Id = od.ProductId\n",
    "                            GROUP BY p.ProductName\n",
    "                        ''', engine)\n",
    "\n",
    "product_discs.head(10)"
   ]
  },
  {
   "cell_type": "code",
   "execution_count": 83,
   "metadata": {},
   "outputs": [
    {
     "name": "stdout",
     "output_type": "stream",
     "text": [
      "Products with higher sales when not discounted: 64\n",
      "Products with higher sales when discounted: 9\n",
      "More products had higher sales without discounts than with discounts.\n"
     ]
    }
   ],
   "source": [
    "#\n",
    "#\n",
    "#Did more products have higher sales with or without discounts?\n",
    "total_products = products_discs.shape[0]\n",
    "more_without_discs = products_discs[products_discs['not_discounted'] > products_discs['discounted']]\n",
    "more_with_discs = products_discs[products_discs['not_discounted'] < products_discs['discounted']]\n",
    "\n",
    "print('Products with higher sales when not discounted:', more_without_discs.shape[0])\n",
    "print('Products with higher sales when discounted:', more_with_discs.shape[0])\n",
    "if more_without_discs.shape[0] > more_with_discs.shape[0]:\n",
    "    print(\"More products had higher sales without discounts than with discounts.\")"
   ]
  },
  {
   "cell_type": "code",
   "execution_count": 47,
   "metadata": {},
   "outputs": [
    {
     "name": "stdout",
     "output_type": "stream",
     "text": [
      "Mean unit price for products which had higher sales when not discounted: 29.53453125\n",
      "Mean unit price for products which had higher sales when discounted: 26.883333333333333\n",
      "Products with sales when discounted did not have a higher unit price on average.\n"
     ]
    }
   ],
   "source": [
    "#\n",
    "#\n",
    "#Did the products which had higher sales when discounted have a higher unit price on average?\n",
    "mean_without = more_without_discs['UnitPrice'].mean()\n",
    "mean_with = more_with_discs['UnitPrice'].mean()\n",
    "\n",
    "print('Mean unit price for products which had higher sales when not discounted:',\n",
    "      mean_without)\n",
    "print('Mean unit price for products which had higher sales when discounted:',\n",
    "     mean_with)\n",
    "if mean_without > mean_with:\n",
    "    print('Products with sales when discounted did not have a higher unit price on average.')"
   ]
  },
  {
   "cell_type": "code",
   "execution_count": 80,
   "metadata": {
    "scrolled": true
   },
   "outputs": [
    {
     "name": "stdout",
     "output_type": "stream",
     "text": [
      "2019-02-01 13:22:10,694 INFO sqlalchemy.engine.base.Engine SELECT od.Id, od.OrderId, p.ProductName, od.UnitPrice, \n",
      "                            od.Quantity, od.Discount,\n",
      "                            ((od.UnitPrice * (1 - od.Discount)) * od.Quantity) Total_price\n",
      "                            FROM OrderDetail od\n",
      "                            JOIN Product p ON od.ProductId = p.Id\n",
      "                        \n"
     ]
    },
    {
     "name": "stderr",
     "output_type": "stream",
     "text": [
      "INFO:sqlalchemy.engine.base.Engine:SELECT od.Id, od.OrderId, p.ProductName, od.UnitPrice, \n",
      "                            od.Quantity, od.Discount,\n",
      "                            ((od.UnitPrice * (1 - od.Discount)) * od.Quantity) Total_price\n",
      "                            FROM OrderDetail od\n",
      "                            JOIN Product p ON od.ProductId = p.Id\n",
      "                        \n"
     ]
    },
    {
     "name": "stdout",
     "output_type": "stream",
     "text": [
      "2019-02-01 13:22:10,695 INFO sqlalchemy.engine.base.Engine ()\n"
     ]
    },
    {
     "name": "stderr",
     "output_type": "stream",
     "text": [
      "INFO:sqlalchemy.engine.base.Engine:()\n"
     ]
    },
    {
     "data": {
      "text/html": [
       "<div>\n",
       "<style scoped>\n",
       "    .dataframe tbody tr th:only-of-type {\n",
       "        vertical-align: middle;\n",
       "    }\n",
       "\n",
       "    .dataframe tbody tr th {\n",
       "        vertical-align: top;\n",
       "    }\n",
       "\n",
       "    .dataframe thead th {\n",
       "        text-align: right;\n",
       "    }\n",
       "</style>\n",
       "<table border=\"1\" class=\"dataframe\">\n",
       "  <thead>\n",
       "    <tr style=\"text-align: right;\">\n",
       "      <th></th>\n",
       "      <th>Id</th>\n",
       "      <th>OrderId</th>\n",
       "      <th>ProductName</th>\n",
       "      <th>UnitPrice</th>\n",
       "      <th>Quantity</th>\n",
       "      <th>Discount</th>\n",
       "      <th>Total_price</th>\n",
       "    </tr>\n",
       "  </thead>\n",
       "  <tbody>\n",
       "    <tr>\n",
       "      <th>0</th>\n",
       "      <td>10248/11</td>\n",
       "      <td>10248</td>\n",
       "      <td>Queso Cabrales</td>\n",
       "      <td>14.0</td>\n",
       "      <td>12</td>\n",
       "      <td>0.00</td>\n",
       "      <td>168.00</td>\n",
       "    </tr>\n",
       "    <tr>\n",
       "      <th>1</th>\n",
       "      <td>10248/42</td>\n",
       "      <td>10248</td>\n",
       "      <td>Singaporean Hokkien Fried Mee</td>\n",
       "      <td>9.8</td>\n",
       "      <td>10</td>\n",
       "      <td>0.00</td>\n",
       "      <td>98.00</td>\n",
       "    </tr>\n",
       "    <tr>\n",
       "      <th>2</th>\n",
       "      <td>10248/72</td>\n",
       "      <td>10248</td>\n",
       "      <td>Mozzarella di Giovanni</td>\n",
       "      <td>34.8</td>\n",
       "      <td>5</td>\n",
       "      <td>0.00</td>\n",
       "      <td>174.00</td>\n",
       "    </tr>\n",
       "    <tr>\n",
       "      <th>3</th>\n",
       "      <td>10249/14</td>\n",
       "      <td>10249</td>\n",
       "      <td>Tofu</td>\n",
       "      <td>18.6</td>\n",
       "      <td>9</td>\n",
       "      <td>0.00</td>\n",
       "      <td>167.40</td>\n",
       "    </tr>\n",
       "    <tr>\n",
       "      <th>4</th>\n",
       "      <td>10249/51</td>\n",
       "      <td>10249</td>\n",
       "      <td>Manjimup Dried Apples</td>\n",
       "      <td>42.4</td>\n",
       "      <td>40</td>\n",
       "      <td>0.00</td>\n",
       "      <td>1696.00</td>\n",
       "    </tr>\n",
       "    <tr>\n",
       "      <th>5</th>\n",
       "      <td>10250/41</td>\n",
       "      <td>10250</td>\n",
       "      <td>Jack's New England Clam Chowder</td>\n",
       "      <td>7.7</td>\n",
       "      <td>10</td>\n",
       "      <td>0.00</td>\n",
       "      <td>77.00</td>\n",
       "    </tr>\n",
       "    <tr>\n",
       "      <th>6</th>\n",
       "      <td>10250/51</td>\n",
       "      <td>10250</td>\n",
       "      <td>Manjimup Dried Apples</td>\n",
       "      <td>42.4</td>\n",
       "      <td>35</td>\n",
       "      <td>0.15</td>\n",
       "      <td>1261.40</td>\n",
       "    </tr>\n",
       "    <tr>\n",
       "      <th>7</th>\n",
       "      <td>10250/65</td>\n",
       "      <td>10250</td>\n",
       "      <td>Louisiana Fiery Hot Pepper Sauce</td>\n",
       "      <td>16.8</td>\n",
       "      <td>15</td>\n",
       "      <td>0.15</td>\n",
       "      <td>214.20</td>\n",
       "    </tr>\n",
       "    <tr>\n",
       "      <th>8</th>\n",
       "      <td>10251/22</td>\n",
       "      <td>10251</td>\n",
       "      <td>Gustaf's Knäckebröd</td>\n",
       "      <td>16.8</td>\n",
       "      <td>6</td>\n",
       "      <td>0.05</td>\n",
       "      <td>95.76</td>\n",
       "    </tr>\n",
       "    <tr>\n",
       "      <th>9</th>\n",
       "      <td>10251/57</td>\n",
       "      <td>10251</td>\n",
       "      <td>Ravioli Angelo</td>\n",
       "      <td>15.6</td>\n",
       "      <td>15</td>\n",
       "      <td>0.05</td>\n",
       "      <td>222.30</td>\n",
       "    </tr>\n",
       "  </tbody>\n",
       "</table>\n",
       "</div>"
      ],
      "text/plain": [
       "         Id  OrderId                       ProductName  UnitPrice  Quantity  \\\n",
       "0  10248/11    10248                    Queso Cabrales       14.0        12   \n",
       "1  10248/42    10248     Singaporean Hokkien Fried Mee        9.8        10   \n",
       "2  10248/72    10248            Mozzarella di Giovanni       34.8         5   \n",
       "3  10249/14    10249                              Tofu       18.6         9   \n",
       "4  10249/51    10249             Manjimup Dried Apples       42.4        40   \n",
       "5  10250/41    10250   Jack's New England Clam Chowder        7.7        10   \n",
       "6  10250/51    10250             Manjimup Dried Apples       42.4        35   \n",
       "7  10250/65    10250  Louisiana Fiery Hot Pepper Sauce       16.8        15   \n",
       "8  10251/22    10251               Gustaf's Knäckebröd       16.8         6   \n",
       "9  10251/57    10251                    Ravioli Angelo       15.6        15   \n",
       "\n",
       "   Discount  Total_price  \n",
       "0      0.00       168.00  \n",
       "1      0.00        98.00  \n",
       "2      0.00       174.00  \n",
       "3      0.00       167.40  \n",
       "4      0.00      1696.00  \n",
       "5      0.00        77.00  \n",
       "6      0.15      1261.40  \n",
       "7      0.15       214.20  \n",
       "8      0.05        95.76  \n",
       "9      0.05       222.30  "
      ]
     },
     "execution_count": 80,
     "metadata": {},
     "output_type": "execute_result"
    }
   ],
   "source": [
    "#\n",
    "#\n",
    "#Has higher revenue been taken in on products with or without discounts?\n",
    "invoices = pd.read_sql_query('''SELECT od.Id, od.OrderId, p.ProductName, od.UnitPrice, \n",
    "                            od.Quantity, od.Discount,\n",
    "                            ((od.UnitPrice * (1 - od.Discount)) * od.Quantity) Total_price\n",
    "                            FROM OrderDetail od\n",
    "                            JOIN Product p ON od.ProductId = p.Id\n",
    "                        ''', engine)\n",
    "invoices.head(10)\n"
   ]
  },
  {
   "cell_type": "code",
   "execution_count": 81,
   "metadata": {},
   "outputs": [
    {
     "name": "stdout",
     "output_type": "stream",
     "text": [
      "Revenue from undiscounted items: 750698.61\n",
      "Revenue from discounted items: 515094.42949999997\n",
      "Revenue was higher from undiscounted items.\n"
     ]
    }
   ],
   "source": [
    "#Get invoice subtotals from only items that weren't discounted\n",
    "subtotals_without_disc = invoices['Total_price'][invoices['Discount'] == 0.0]\n",
    "#Get invoice subttoals from only items that were discounted\n",
    "subtotals_with_disc = invoices['Total_price'][invoices['Discount'] != 0.0]\n",
    "\n",
    "#Add up subtotals for all undiscounted items\n",
    "revenue_without_disc = subtotals_without_disc.sum()\n",
    "#Add up subtotals for all discounted items\n",
    "revenue_with_disc = subtotals_with_disc.sum()\n",
    "\n",
    "print('Revenue from undiscounted items:', revenue_without_disc)\n",
    "print('Revenue from discounted items:', revenue_with_disc)\n",
    "if revenue_without_disc > revenue_with_disc:\n",
    "    print('Revenue was higher from undiscounted items.')"
   ]
  },
  {
   "cell_type": "code",
   "execution_count": null,
   "metadata": {},
   "outputs": [],
   "source": []
  },
  {
   "cell_type": "code",
   "execution_count": null,
   "metadata": {},
   "outputs": [],
   "source": []
  },
  {
   "cell_type": "code",
   "execution_count": 77,
   "metadata": {
    "scrolled": true
   },
   "outputs": [
    {
     "name": "stdout",
     "output_type": "stream",
     "text": [
      "2019-02-01 12:51:13,076 INFO sqlalchemy.engine.base.Engine SELECT od.Id, od.OrderId, p.ProductName, p.UnitPrice UnitPriceP, \n",
      "                            od.UnitPrice UnitPriceOd, od.Quantity, od.Discount,\n",
      "                            ((p.UnitPrice * (1 - od.Discount)) * od.Quantity) Total_price_with_P,\n",
      "                            ((od.UnitPrice * (1 - od.Discount)) * od.Quantity) Total_price_withOd\n",
      "                            FROM OrderDetail od\n",
      "                            JOIN Product p ON od.ProductId = p.Id\n",
      "                        \n"
     ]
    },
    {
     "name": "stderr",
     "output_type": "stream",
     "text": [
      "INFO:sqlalchemy.engine.base.Engine:SELECT od.Id, od.OrderId, p.ProductName, p.UnitPrice UnitPriceP, \n",
      "                            od.UnitPrice UnitPriceOd, od.Quantity, od.Discount,\n",
      "                            ((p.UnitPrice * (1 - od.Discount)) * od.Quantity) Total_price_with_P,\n",
      "                            ((od.UnitPrice * (1 - od.Discount)) * od.Quantity) Total_price_withOd\n",
      "                            FROM OrderDetail od\n",
      "                            JOIN Product p ON od.ProductId = p.Id\n",
      "                        \n"
     ]
    },
    {
     "name": "stdout",
     "output_type": "stream",
     "text": [
      "2019-02-01 12:51:13,077 INFO sqlalchemy.engine.base.Engine ()\n"
     ]
    },
    {
     "name": "stderr",
     "output_type": "stream",
     "text": [
      "INFO:sqlalchemy.engine.base.Engine:()\n"
     ]
    },
    {
     "data": {
      "text/html": [
       "<div>\n",
       "<style scoped>\n",
       "    .dataframe tbody tr th:only-of-type {\n",
       "        vertical-align: middle;\n",
       "    }\n",
       "\n",
       "    .dataframe tbody tr th {\n",
       "        vertical-align: top;\n",
       "    }\n",
       "\n",
       "    .dataframe thead th {\n",
       "        text-align: right;\n",
       "    }\n",
       "</style>\n",
       "<table border=\"1\" class=\"dataframe\">\n",
       "  <thead>\n",
       "    <tr style=\"text-align: right;\">\n",
       "      <th></th>\n",
       "      <th>Id</th>\n",
       "      <th>OrderId</th>\n",
       "      <th>ProductName</th>\n",
       "      <th>UnitPriceP</th>\n",
       "      <th>UnitPriceOd</th>\n",
       "      <th>Quantity</th>\n",
       "      <th>Discount</th>\n",
       "      <th>Total_price_with_P</th>\n",
       "      <th>Total_price_withOd</th>\n",
       "    </tr>\n",
       "  </thead>\n",
       "  <tbody>\n",
       "    <tr>\n",
       "      <th>0</th>\n",
       "      <td>10248/11</td>\n",
       "      <td>10248</td>\n",
       "      <td>Queso Cabrales</td>\n",
       "      <td>21.00</td>\n",
       "      <td>14.0</td>\n",
       "      <td>12</td>\n",
       "      <td>0.00</td>\n",
       "      <td>252.0000</td>\n",
       "      <td>168.00</td>\n",
       "    </tr>\n",
       "    <tr>\n",
       "      <th>1</th>\n",
       "      <td>10248/42</td>\n",
       "      <td>10248</td>\n",
       "      <td>Singaporean Hokkien Fried Mee</td>\n",
       "      <td>14.00</td>\n",
       "      <td>9.8</td>\n",
       "      <td>10</td>\n",
       "      <td>0.00</td>\n",
       "      <td>140.0000</td>\n",
       "      <td>98.00</td>\n",
       "    </tr>\n",
       "    <tr>\n",
       "      <th>2</th>\n",
       "      <td>10248/72</td>\n",
       "      <td>10248</td>\n",
       "      <td>Mozzarella di Giovanni</td>\n",
       "      <td>34.80</td>\n",
       "      <td>34.8</td>\n",
       "      <td>5</td>\n",
       "      <td>0.00</td>\n",
       "      <td>174.0000</td>\n",
       "      <td>174.00</td>\n",
       "    </tr>\n",
       "    <tr>\n",
       "      <th>3</th>\n",
       "      <td>10249/14</td>\n",
       "      <td>10249</td>\n",
       "      <td>Tofu</td>\n",
       "      <td>23.25</td>\n",
       "      <td>18.6</td>\n",
       "      <td>9</td>\n",
       "      <td>0.00</td>\n",
       "      <td>209.2500</td>\n",
       "      <td>167.40</td>\n",
       "    </tr>\n",
       "    <tr>\n",
       "      <th>4</th>\n",
       "      <td>10249/51</td>\n",
       "      <td>10249</td>\n",
       "      <td>Manjimup Dried Apples</td>\n",
       "      <td>53.00</td>\n",
       "      <td>42.4</td>\n",
       "      <td>40</td>\n",
       "      <td>0.00</td>\n",
       "      <td>2120.0000</td>\n",
       "      <td>1696.00</td>\n",
       "    </tr>\n",
       "    <tr>\n",
       "      <th>5</th>\n",
       "      <td>10250/41</td>\n",
       "      <td>10250</td>\n",
       "      <td>Jack's New England Clam Chowder</td>\n",
       "      <td>9.65</td>\n",
       "      <td>7.7</td>\n",
       "      <td>10</td>\n",
       "      <td>0.00</td>\n",
       "      <td>96.5000</td>\n",
       "      <td>77.00</td>\n",
       "    </tr>\n",
       "    <tr>\n",
       "      <th>6</th>\n",
       "      <td>10250/51</td>\n",
       "      <td>10250</td>\n",
       "      <td>Manjimup Dried Apples</td>\n",
       "      <td>53.00</td>\n",
       "      <td>42.4</td>\n",
       "      <td>35</td>\n",
       "      <td>0.15</td>\n",
       "      <td>1576.7500</td>\n",
       "      <td>1261.40</td>\n",
       "    </tr>\n",
       "    <tr>\n",
       "      <th>7</th>\n",
       "      <td>10250/65</td>\n",
       "      <td>10250</td>\n",
       "      <td>Louisiana Fiery Hot Pepper Sauce</td>\n",
       "      <td>21.05</td>\n",
       "      <td>16.8</td>\n",
       "      <td>15</td>\n",
       "      <td>0.15</td>\n",
       "      <td>268.3875</td>\n",
       "      <td>214.20</td>\n",
       "    </tr>\n",
       "    <tr>\n",
       "      <th>8</th>\n",
       "      <td>10251/22</td>\n",
       "      <td>10251</td>\n",
       "      <td>Gustaf's Knäckebröd</td>\n",
       "      <td>21.00</td>\n",
       "      <td>16.8</td>\n",
       "      <td>6</td>\n",
       "      <td>0.05</td>\n",
       "      <td>119.7000</td>\n",
       "      <td>95.76</td>\n",
       "    </tr>\n",
       "    <tr>\n",
       "      <th>9</th>\n",
       "      <td>10251/57</td>\n",
       "      <td>10251</td>\n",
       "      <td>Ravioli Angelo</td>\n",
       "      <td>19.50</td>\n",
       "      <td>15.6</td>\n",
       "      <td>15</td>\n",
       "      <td>0.05</td>\n",
       "      <td>277.8750</td>\n",
       "      <td>222.30</td>\n",
       "    </tr>\n",
       "  </tbody>\n",
       "</table>\n",
       "</div>"
      ],
      "text/plain": [
       "         Id  OrderId                       ProductName  UnitPriceP  \\\n",
       "0  10248/11    10248                    Queso Cabrales       21.00   \n",
       "1  10248/42    10248     Singaporean Hokkien Fried Mee       14.00   \n",
       "2  10248/72    10248            Mozzarella di Giovanni       34.80   \n",
       "3  10249/14    10249                              Tofu       23.25   \n",
       "4  10249/51    10249             Manjimup Dried Apples       53.00   \n",
       "5  10250/41    10250   Jack's New England Clam Chowder        9.65   \n",
       "6  10250/51    10250             Manjimup Dried Apples       53.00   \n",
       "7  10250/65    10250  Louisiana Fiery Hot Pepper Sauce       21.05   \n",
       "8  10251/22    10251               Gustaf's Knäckebröd       21.00   \n",
       "9  10251/57    10251                    Ravioli Angelo       19.50   \n",
       "\n",
       "   UnitPriceOd  Quantity  Discount  Total_price_with_P  Total_price_withOd  \n",
       "0         14.0        12      0.00            252.0000              168.00  \n",
       "1          9.8        10      0.00            140.0000               98.00  \n",
       "2         34.8         5      0.00            174.0000              174.00  \n",
       "3         18.6         9      0.00            209.2500              167.40  \n",
       "4         42.4        40      0.00           2120.0000             1696.00  \n",
       "5          7.7        10      0.00             96.5000               77.00  \n",
       "6         42.4        35      0.15           1576.7500             1261.40  \n",
       "7         16.8        15      0.15            268.3875              214.20  \n",
       "8         16.8         6      0.05            119.7000               95.76  \n",
       "9         15.6        15      0.05            277.8750              222.30  "
      ]
     },
     "execution_count": 77,
     "metadata": {},
     "output_type": "execute_result"
    }
   ],
   "source": [
    "#Discrepancies in unit prices between Product table and OrderDetail table\n",
    "\n",
    "invoices_testing = pd.read_sql_query('''SELECT od.Id, od.OrderId, p.ProductName, p.UnitPrice UnitPriceP, \n",
    "                            od.UnitPrice UnitPriceOd, od.Quantity, od.Discount,\n",
    "                            ((p.UnitPrice * (1 - od.Discount)) * od.Quantity) Total_price_with_P,\n",
    "                            ((od.UnitPrice * (1 - od.Discount)) * od.Quantity) Total_price_withOd\n",
    "                            FROM OrderDetail od\n",
    "                            JOIN Product p ON od.ProductId = p.Id\n",
    "                        ''', engine)\n",
    "invoices_testing.head(10)"
   ]
  },
  {
   "cell_type": "code",
   "execution_count": 79,
   "metadata": {},
   "outputs": [
    {
     "data": {
      "text/plain": [
       "(2155, 658)"
      ]
     },
     "execution_count": 79,
     "metadata": {},
     "output_type": "execute_result"
    }
   ],
   "source": [
    "#How often is the Product unit price different from the OrderDetail unit price?\n",
    "different_unit_prices = invoices_testing[invoices_testing['UnitPriceP'] != invoices_testing['UnitPriceOd']]\n",
    "invoices_testing.shape[0], different_unit_prices.shape[0]"
   ]
  },
  {
   "cell_type": "code",
   "execution_count": null,
   "metadata": {},
   "outputs": [],
   "source": []
  },
  {
   "cell_type": "code",
   "execution_count": 45,
   "metadata": {},
   "outputs": [
    {
     "name": "stdout",
     "output_type": "stream",
     "text": [
      "2019-02-01 21:35:33,709 INFO sqlalchemy.engine.base.Engine SELECT s.CompanyName, s.Region, COUNT(p.ProductName) Products\n",
      "                                    FROM Product p\n",
      "                                    JOIN Supplier s ON p.SupplierId = s.Id\n",
      "                                    GROUP BY s.CompanyName\n",
      "                                \n"
     ]
    },
    {
     "name": "stderr",
     "output_type": "stream",
     "text": [
      "INFO:sqlalchemy.engine.base.Engine:SELECT s.CompanyName, s.Region, COUNT(p.ProductName) Products\n",
      "                                    FROM Product p\n",
      "                                    JOIN Supplier s ON p.SupplierId = s.Id\n",
      "                                    GROUP BY s.CompanyName\n",
      "                                \n"
     ]
    },
    {
     "name": "stdout",
     "output_type": "stream",
     "text": [
      "2019-02-01 21:35:33,709 INFO sqlalchemy.engine.base.Engine ()\n"
     ]
    },
    {
     "name": "stderr",
     "output_type": "stream",
     "text": [
      "INFO:sqlalchemy.engine.base.Engine:()\n"
     ]
    },
    {
     "data": {
      "text/html": [
       "<div>\n",
       "<style scoped>\n",
       "    .dataframe tbody tr th:only-of-type {\n",
       "        vertical-align: middle;\n",
       "    }\n",
       "\n",
       "    .dataframe tbody tr th {\n",
       "        vertical-align: top;\n",
       "    }\n",
       "\n",
       "    .dataframe thead th {\n",
       "        text-align: right;\n",
       "    }\n",
       "</style>\n",
       "<table border=\"1\" class=\"dataframe\">\n",
       "  <thead>\n",
       "    <tr style=\"text-align: right;\">\n",
       "      <th></th>\n",
       "      <th>CompanyName</th>\n",
       "      <th>Region</th>\n",
       "      <th>Products</th>\n",
       "    </tr>\n",
       "  </thead>\n",
       "  <tbody>\n",
       "    <tr>\n",
       "      <th>0</th>\n",
       "      <td>Aux joyeux ecclésiastiques</td>\n",
       "      <td>Western Europe</td>\n",
       "      <td>2</td>\n",
       "    </tr>\n",
       "    <tr>\n",
       "      <th>1</th>\n",
       "      <td>Bigfoot Breweries</td>\n",
       "      <td>North America</td>\n",
       "      <td>3</td>\n",
       "    </tr>\n",
       "    <tr>\n",
       "      <th>2</th>\n",
       "      <td>Cooperativa de Quesos 'Las Cabras'</td>\n",
       "      <td>Southern Europe</td>\n",
       "      <td>2</td>\n",
       "    </tr>\n",
       "    <tr>\n",
       "      <th>3</th>\n",
       "      <td>Escargots Nouveaux</td>\n",
       "      <td>Western Europe</td>\n",
       "      <td>1</td>\n",
       "    </tr>\n",
       "    <tr>\n",
       "      <th>4</th>\n",
       "      <td>Exotic Liquids</td>\n",
       "      <td>British Isles</td>\n",
       "      <td>3</td>\n",
       "    </tr>\n",
       "  </tbody>\n",
       "</table>\n",
       "</div>"
      ],
      "text/plain": [
       "                          CompanyName           Region  Products\n",
       "0          Aux joyeux ecclésiastiques   Western Europe         2\n",
       "1                   Bigfoot Breweries    North America         3\n",
       "2  Cooperativa de Quesos 'Las Cabras'  Southern Europe         2\n",
       "3                  Escargots Nouveaux   Western Europe         1\n",
       "4                      Exotic Liquids    British Isles         3"
      ]
     },
     "execution_count": 45,
     "metadata": {},
     "output_type": "execute_result"
    }
   ],
   "source": [
    "#\n",
    "#\n",
    "#How many products per supplier?\n",
    "prod_supp = pd.read_sql_query('''SELECT s.CompanyName, s.Region, COUNT(p.ProductName) Products\n",
    "                                    FROM Product p\n",
    "                                    JOIN Supplier s ON p.SupplierId = s.Id\n",
    "                                    GROUP BY s.CompanyName\n",
    "                                ''', engine)\n",
    "prod_supp.head()"
   ]
  },
  {
   "cell_type": "code",
   "execution_count": null,
   "metadata": {},
   "outputs": [],
   "source": []
  },
  {
   "cell_type": "code",
   "execution_count": null,
   "metadata": {},
   "outputs": [],
   "source": []
  },
  {
   "cell_type": "code",
   "execution_count": null,
   "metadata": {},
   "outputs": [],
   "source": []
  },
  {
   "cell_type": "code",
   "execution_count": null,
   "metadata": {},
   "outputs": [],
   "source": []
  },
  {
   "cell_type": "code",
   "execution_count": null,
   "metadata": {},
   "outputs": [],
   "source": [
    "\n",
    "#####FOR EDA\n",
    "#Pull raw results from the database\n",
    "#conn = engine.connect()\n",
    "#results = conn.execute('''SELECT *\n",
    "#                            FROM Category\n",
    "#                        ;''')\n",
    "#print(results.fetchall())\n",
    "\n",
    "###conn = engine.connect()\n",
    "#results = conn.execute(\"SELECT * FROM [Order];\")\n",
    "#df = pd.DataFrame(results.fetchall())\n",
    "#df.head()\n",
    "\n",
    "#results = conn.execute('''SELECT *\n",
    "#                            FROM OrderDetail\n",
    "#                        ;''')\n",
    "#df = pd.DataFrame(results.fetchall())\n",
    "#df.head()\n",
    "\n",
    "#df = pd.read_sql_query('''SELECT * \n",
    "#                           FROM [Order]\n",
    "#                       ;''', engine)\n",
    "#df.head()"
   ]
  },
  {
   "cell_type": "markdown",
   "metadata": {},
   "source": [
    "<a id=\"hypo1\"></a>"
   ]
  },
  {
   "cell_type": "markdown",
   "metadata": {},
   "source": [
    "# Hypothesis test 1\n",
    "[(Back to top)](#top)"
   ]
  },
  {
   "cell_type": "markdown",
   "metadata": {
    "scrolled": true
   },
   "source": [
    "## Hypothesis 1, Part 1\n",
    "Do discounts have a statistically significant effect on the number of products customers order? If so, at what level(s) of discount?\n",
    "\n",
    "product (quantity) ordered by customers, no discount\n",
    "\n",
    "product (quantity) order by customers, wiht discount\n",
    "\n",
    "H0: Discount does not have an effect on the number of products ordered by a customer. Control = Treatment\n",
    "\n",
    "H1: Discount has an effect on the number of products ordered by a customer. Control != Treament"
   ]
  },
  {
   "cell_type": "code",
   "execution_count": null,
   "metadata": {},
   "outputs": [],
   "source": [
    "#Look at number of orders per customer w/o discount\n",
    "df_wo_discount = pd.read_sql_query(\"\"\"SELECT [Order].CustomerId, Count(*) orders\n",
    "                            FROM OrderDetail \n",
    "                            INNER JOIN [Order] on OrderDetail.OrderId = [Order].Id\n",
    "                            WHERE OrderDetail.Discount == 0.0\n",
    "                            GROUP BY [Order].CustomerId\n",
    "                            ORDER BY [Order].CustomerId ASC\n",
    "                        \"\"\", engine)\n",
    "\n",
    "#Look at number of orders per customer w/ discount\n",
    "df_w_discount = pd.read_sql_query(\"\"\"SELECT [Order].CustomerId, Count(*) orders\n",
    "                            FROM OrderDetail \n",
    "                            INNER JOIN [Order] on OrderDetail.OrderId = [Order].Id\n",
    "                            WHERE OrderDetail.Discount != 0.0\n",
    "                            GROUP BY [Order].CustomerId\n",
    "                            ORDER BY [Order].CustomerId ASC\n",
    "                        \"\"\", engine)"
   ]
  },
  {
   "cell_type": "code",
   "execution_count": null,
   "metadata": {},
   "outputs": [],
   "source": [
    "df_wo_discount.head()"
   ]
  },
  {
   "cell_type": "code",
   "execution_count": null,
   "metadata": {
    "scrolled": true
   },
   "outputs": [],
   "source": [
    "df_w_discount.head()"
   ]
  },
  {
   "cell_type": "code",
   "execution_count": null,
   "metadata": {},
   "outputs": [],
   "source": [
    "#Look at the levels of discount\n",
    "\n",
    "df = pd.read_sql_query(\"\"\"SELECT OrderDetail.*\n",
    "                            FROM OrderDetail \n",
    "                        \"\"\", engine)\n",
    "df['Discount'].value_counts()"
   ]
  },
  {
   "cell_type": "code",
   "execution_count": null,
   "metadata": {},
   "outputs": [],
   "source": [
    "#See what one order looks like \n",
    "df = pd.read_sql_query('''SELECT *\n",
    "                            FROM OrderDetail\n",
    "                            LIMIT 1\n",
    "                        ''', engine)"
   ]
  },
  {
   "cell_type": "code",
   "execution_count": null,
   "metadata": {},
   "outputs": [],
   "source": [
    "#See what one order looks like\n",
    "df"
   ]
  },
  {
   "cell_type": "code",
   "execution_count": null,
   "metadata": {},
   "outputs": [],
   "source": [
    "#See what orders look like with total money spent\n",
    "df = pd.read_sql_query('''SELECT *,\n",
    "                                (od.UnitPrice * od.Quantity) total_price\n",
    "                            FROM OrderDetail od\n",
    "                        ''', engine)"
   ]
  },
  {
   "cell_type": "code",
   "execution_count": null,
   "metadata": {},
   "outputs": [],
   "source": [
    "df.head()\n"
   ]
  },
  {
   "cell_type": "code",
   "execution_count": 51,
   "metadata": {
    "scrolled": false
   },
   "outputs": [
    {
     "name": "stdout",
     "output_type": "stream",
     "text": [
      "2019-02-01 12:19:14,693 INFO sqlalchemy.engine.base.Engine SELECT [Order].CustomerId,\n",
      "                            SUM(\n",
      "                                CASE WHEN OrderDetail.Discount == 0.0 \n",
      "                                THEN 1 ELSE 0 END\n",
      "                                ) no_disc,\n",
      "                            SUM(\n",
      "                                CASE WHEN OrderDetail.Discount == 0.0\n",
      "                                THEN OrderDetail.Quantity ELSE 0 END\n",
      "                                ) quant_no_disc,\n",
      "                            SUM(\n",
      "                                CASE WHEN OrderDetail.Discount != 0.0 \n",
      "                                THEN 1 ELSE 0 END\n",
      "                                ) all_discs,\n",
      "                            SUM(\n",
      "                                CASE WHEN OrderDetail.Discount != 0.0\n",
      "                                THEN OrderDetail.Quantity ELSE 0 END\n",
      "                                ) quant_all_discs,\n",
      "                            SUM(\n",
      "                                CASE WHEN OrderDetail.Discount < 0.06 \n",
      "                                AND OrderDetail.Discount > 0.0\n",
      "                                THEN 1 ELSE 0 END\n",
      "                                ) disc06,                            \n",
      "                            SUM(\n",
      "                                CASE WHEN OrderDetail.Discount < 0.06\n",
      "                                AND OrderDetail.Discount > 0.0\n",
      "                                THEN OrderDetail.Quantity ELSE 0 END\n",
      "                                ) quant_disc06,\n",
      "                            SUM(\n",
      "                                CASE WHEN OrderDetail.Discount == 0.1 \n",
      "                                THEN 1 ELSE 0 END\n",
      "                                ) disc10,\n",
      "                            SUM(\n",
      "                                CASE WHEN OrderDetail.Discount == 0.1\n",
      "                                THEN OrderDetail.Quantity ELSE 0 END\n",
      "                                ) quant_disc10,                            \n",
      "                            SUM(\n",
      "                                CASE WHEN OrderDetail.Discount == 0.15 \n",
      "                                THEN 1 ELSE 0 END\n",
      "                                ) disc15,\n",
      "                            SUM(\n",
      "                                CASE WHEN OrderDetail.Discount == 0.15\n",
      "                                THEN OrderDetail.Quantity ELSE 0 END\n",
      "                                ) quant_disc15,                            \n",
      "                            SUM(\n",
      "                                CASE WHEN OrderDetail.Discount == 0.2 \n",
      "                                THEN 1 ELSE 0 END\n",
      "                                ) disc20,\n",
      "                            SUM(\n",
      "                                CASE WHEN OrderDetail.Discount == 0.2\n",
      "                                THEN OrderDetail.Quantity ELSE 0 END\n",
      "                                ) quant_disc20,                                \n",
      "                            SUM(\n",
      "                                CASE WHEN OrderDetail.Discount == 0.25 \n",
      "                                THEN 1 ELSE 0 END\n",
      "                                ) disc25,\n",
      "                            SUM(\n",
      "                                CASE WHEN OrderDetail.Discount == 0.25\n",
      "                                THEN OrderDetail.Quantity ELSE 0 END\n",
      "                                ) quant_disc25,\n",
      "                            Count(*) total_orders,\n",
      "                            SUM(OrderDetail.Quantity) total_quantities\n",
      "                            FROM OrderDetail \n",
      "                            INNER JOIN [Order] on OrderDetail.OrderId = [Order].Id\n",
      "                            GROUP BY [Order].CustomerId\n",
      "                            ORDER BY [Order].CustomerId ASC\n",
      "                        \n"
     ]
    },
    {
     "name": "stderr",
     "output_type": "stream",
     "text": [
      "INFO:sqlalchemy.engine.base.Engine:SELECT [Order].CustomerId,\n",
      "                            SUM(\n",
      "                                CASE WHEN OrderDetail.Discount == 0.0 \n",
      "                                THEN 1 ELSE 0 END\n",
      "                                ) no_disc,\n",
      "                            SUM(\n",
      "                                CASE WHEN OrderDetail.Discount == 0.0\n",
      "                                THEN OrderDetail.Quantity ELSE 0 END\n",
      "                                ) quant_no_disc,\n",
      "                            SUM(\n",
      "                                CASE WHEN OrderDetail.Discount != 0.0 \n",
      "                                THEN 1 ELSE 0 END\n",
      "                                ) all_discs,\n",
      "                            SUM(\n",
      "                                CASE WHEN OrderDetail.Discount != 0.0\n",
      "                                THEN OrderDetail.Quantity ELSE 0 END\n",
      "                                ) quant_all_discs,\n",
      "                            SUM(\n",
      "                                CASE WHEN OrderDetail.Discount < 0.06 \n",
      "                                AND OrderDetail.Discount > 0.0\n",
      "                                THEN 1 ELSE 0 END\n",
      "                                ) disc06,                            \n",
      "                            SUM(\n",
      "                                CASE WHEN OrderDetail.Discount < 0.06\n",
      "                                AND OrderDetail.Discount > 0.0\n",
      "                                THEN OrderDetail.Quantity ELSE 0 END\n",
      "                                ) quant_disc06,\n",
      "                            SUM(\n",
      "                                CASE WHEN OrderDetail.Discount == 0.1 \n",
      "                                THEN 1 ELSE 0 END\n",
      "                                ) disc10,\n",
      "                            SUM(\n",
      "                                CASE WHEN OrderDetail.Discount == 0.1\n",
      "                                THEN OrderDetail.Quantity ELSE 0 END\n",
      "                                ) quant_disc10,                            \n",
      "                            SUM(\n",
      "                                CASE WHEN OrderDetail.Discount == 0.15 \n",
      "                                THEN 1 ELSE 0 END\n",
      "                                ) disc15,\n",
      "                            SUM(\n",
      "                                CASE WHEN OrderDetail.Discount == 0.15\n",
      "                                THEN OrderDetail.Quantity ELSE 0 END\n",
      "                                ) quant_disc15,                            \n",
      "                            SUM(\n",
      "                                CASE WHEN OrderDetail.Discount == 0.2 \n",
      "                                THEN 1 ELSE 0 END\n",
      "                                ) disc20,\n",
      "                            SUM(\n",
      "                                CASE WHEN OrderDetail.Discount == 0.2\n",
      "                                THEN OrderDetail.Quantity ELSE 0 END\n",
      "                                ) quant_disc20,                                \n",
      "                            SUM(\n",
      "                                CASE WHEN OrderDetail.Discount == 0.25 \n",
      "                                THEN 1 ELSE 0 END\n",
      "                                ) disc25,\n",
      "                            SUM(\n",
      "                                CASE WHEN OrderDetail.Discount == 0.25\n",
      "                                THEN OrderDetail.Quantity ELSE 0 END\n",
      "                                ) quant_disc25,\n",
      "                            Count(*) total_orders,\n",
      "                            SUM(OrderDetail.Quantity) total_quantities\n",
      "                            FROM OrderDetail \n",
      "                            INNER JOIN [Order] on OrderDetail.OrderId = [Order].Id\n",
      "                            GROUP BY [Order].CustomerId\n",
      "                            ORDER BY [Order].CustomerId ASC\n",
      "                        \n"
     ]
    },
    {
     "name": "stdout",
     "output_type": "stream",
     "text": [
      "2019-02-01 12:19:14,694 INFO sqlalchemy.engine.base.Engine ()\n"
     ]
    },
    {
     "name": "stderr",
     "output_type": "stream",
     "text": [
      "INFO:sqlalchemy.engine.base.Engine:()\n"
     ]
    }
   ],
   "source": [
    "#Compare quantities ordered with and without discounts\n",
    "\n",
    "discs_ords = pd.read_sql_query('''SELECT [Order].CustomerId,\n",
    "                            SUM(\n",
    "                                CASE WHEN OrderDetail.Discount == 0.0 \n",
    "                                THEN 1 ELSE 0 END\n",
    "                                ) no_disc,\n",
    "                            SUM(\n",
    "                                CASE WHEN OrderDetail.Discount == 0.0\n",
    "                                THEN OrderDetail.Quantity ELSE 0 END\n",
    "                                ) quant_no_disc,\n",
    "                            SUM(\n",
    "                                CASE WHEN OrderDetail.Discount != 0.0 \n",
    "                                THEN 1 ELSE 0 END\n",
    "                                ) all_discs,\n",
    "                            SUM(\n",
    "                                CASE WHEN OrderDetail.Discount != 0.0\n",
    "                                THEN OrderDetail.Quantity ELSE 0 END\n",
    "                                ) quant_all_discs,\n",
    "                            SUM(\n",
    "                                CASE WHEN OrderDetail.Discount < 0.06 \n",
    "                                AND OrderDetail.Discount > 0.0\n",
    "                                THEN 1 ELSE 0 END\n",
    "                                ) disc06,                            \n",
    "                            SUM(\n",
    "                                CASE WHEN OrderDetail.Discount < 0.06\n",
    "                                AND OrderDetail.Discount > 0.0\n",
    "                                THEN OrderDetail.Quantity ELSE 0 END\n",
    "                                ) quant_disc06,\n",
    "                            SUM(\n",
    "                                CASE WHEN OrderDetail.Discount == 0.1 \n",
    "                                THEN 1 ELSE 0 END\n",
    "                                ) disc10,\n",
    "                            SUM(\n",
    "                                CASE WHEN OrderDetail.Discount == 0.1\n",
    "                                THEN OrderDetail.Quantity ELSE 0 END\n",
    "                                ) quant_disc10,                            \n",
    "                            SUM(\n",
    "                                CASE WHEN OrderDetail.Discount == 0.15 \n",
    "                                THEN 1 ELSE 0 END\n",
    "                                ) disc15,\n",
    "                            SUM(\n",
    "                                CASE WHEN OrderDetail.Discount == 0.15\n",
    "                                THEN OrderDetail.Quantity ELSE 0 END\n",
    "                                ) quant_disc15,                            \n",
    "                            SUM(\n",
    "                                CASE WHEN OrderDetail.Discount == 0.2 \n",
    "                                THEN 1 ELSE 0 END\n",
    "                                ) disc20,\n",
    "                            SUM(\n",
    "                                CASE WHEN OrderDetail.Discount == 0.2\n",
    "                                THEN OrderDetail.Quantity ELSE 0 END\n",
    "                                ) quant_disc20,                                \n",
    "                            SUM(\n",
    "                                CASE WHEN OrderDetail.Discount == 0.25 \n",
    "                                THEN 1 ELSE 0 END\n",
    "                                ) disc25,\n",
    "                            SUM(\n",
    "                                CASE WHEN OrderDetail.Discount == 0.25\n",
    "                                THEN OrderDetail.Quantity ELSE 0 END\n",
    "                                ) quant_disc25,\n",
    "                            Count(*) total_orders,\n",
    "                            SUM(OrderDetail.Quantity) total_quantities\n",
    "                            FROM OrderDetail \n",
    "                            INNER JOIN [Order] on OrderDetail.OrderId = [Order].Id\n",
    "                            GROUP BY [Order].CustomerId\n",
    "                            ORDER BY [Order].CustomerId ASC\n",
    "                        ''', engine)\n"
   ]
  },
  {
   "cell_type": "code",
   "execution_count": 5,
   "metadata": {
    "scrolled": true
   },
   "outputs": [
    {
     "data": {
      "text/html": [
       "<div>\n",
       "<style scoped>\n",
       "    .dataframe tbody tr th:only-of-type {\n",
       "        vertical-align: middle;\n",
       "    }\n",
       "\n",
       "    .dataframe tbody tr th {\n",
       "        vertical-align: top;\n",
       "    }\n",
       "\n",
       "    .dataframe thead th {\n",
       "        text-align: right;\n",
       "    }\n",
       "</style>\n",
       "<table border=\"1\" class=\"dataframe\">\n",
       "  <thead>\n",
       "    <tr style=\"text-align: right;\">\n",
       "      <th></th>\n",
       "      <th>CustomerId</th>\n",
       "      <th>no_disc</th>\n",
       "      <th>quant_no_disc</th>\n",
       "      <th>all_discs</th>\n",
       "      <th>quant_all_discs</th>\n",
       "      <th>disc06</th>\n",
       "      <th>quant_disc06</th>\n",
       "      <th>disc10</th>\n",
       "      <th>quant_disc10</th>\n",
       "      <th>disc15</th>\n",
       "      <th>quant_disc15</th>\n",
       "      <th>disc20</th>\n",
       "      <th>quant_disc20</th>\n",
       "      <th>disc25</th>\n",
       "      <th>quant_disc25</th>\n",
       "      <th>total_orders</th>\n",
       "      <th>total_quantities</th>\n",
       "    </tr>\n",
       "  </thead>\n",
       "  <tbody>\n",
       "    <tr>\n",
       "      <th>0</th>\n",
       "      <td>ALFKI</td>\n",
       "      <td>6</td>\n",
       "      <td>78</td>\n",
       "      <td>6</td>\n",
       "      <td>96</td>\n",
       "      <td>2</td>\n",
       "      <td>56</td>\n",
       "      <td>0</td>\n",
       "      <td>0</td>\n",
       "      <td>0</td>\n",
       "      <td>0</td>\n",
       "      <td>1</td>\n",
       "      <td>2</td>\n",
       "      <td>3</td>\n",
       "      <td>38</td>\n",
       "      <td>12</td>\n",
       "      <td>174</td>\n",
       "    </tr>\n",
       "    <tr>\n",
       "      <th>1</th>\n",
       "      <td>ANATR</td>\n",
       "      <td>10</td>\n",
       "      <td>63</td>\n",
       "      <td>0</td>\n",
       "      <td>0</td>\n",
       "      <td>0</td>\n",
       "      <td>0</td>\n",
       "      <td>0</td>\n",
       "      <td>0</td>\n",
       "      <td>0</td>\n",
       "      <td>0</td>\n",
       "      <td>0</td>\n",
       "      <td>0</td>\n",
       "      <td>0</td>\n",
       "      <td>0</td>\n",
       "      <td>10</td>\n",
       "      <td>63</td>\n",
       "    </tr>\n",
       "    <tr>\n",
       "      <th>2</th>\n",
       "      <td>ANTO</td>\n",
       "      <td>9</td>\n",
       "      <td>211</td>\n",
       "      <td>8</td>\n",
       "      <td>148</td>\n",
       "      <td>0</td>\n",
       "      <td>0</td>\n",
       "      <td>4</td>\n",
       "      <td>80</td>\n",
       "      <td>4</td>\n",
       "      <td>68</td>\n",
       "      <td>0</td>\n",
       "      <td>0</td>\n",
       "      <td>0</td>\n",
       "      <td>0</td>\n",
       "      <td>17</td>\n",
       "      <td>359</td>\n",
       "    </tr>\n",
       "    <tr>\n",
       "      <th>3</th>\n",
       "      <td>AROUT</td>\n",
       "      <td>23</td>\n",
       "      <td>439</td>\n",
       "      <td>7</td>\n",
       "      <td>211</td>\n",
       "      <td>3</td>\n",
       "      <td>128</td>\n",
       "      <td>2</td>\n",
       "      <td>40</td>\n",
       "      <td>1</td>\n",
       "      <td>28</td>\n",
       "      <td>1</td>\n",
       "      <td>15</td>\n",
       "      <td>0</td>\n",
       "      <td>0</td>\n",
       "      <td>30</td>\n",
       "      <td>650</td>\n",
       "    </tr>\n",
       "    <tr>\n",
       "      <th>4</th>\n",
       "      <td>BERGS</td>\n",
       "      <td>34</td>\n",
       "      <td>632</td>\n",
       "      <td>18</td>\n",
       "      <td>369</td>\n",
       "      <td>0</td>\n",
       "      <td>0</td>\n",
       "      <td>10</td>\n",
       "      <td>161</td>\n",
       "      <td>0</td>\n",
       "      <td>0</td>\n",
       "      <td>0</td>\n",
       "      <td>0</td>\n",
       "      <td>8</td>\n",
       "      <td>208</td>\n",
       "      <td>52</td>\n",
       "      <td>1001</td>\n",
       "    </tr>\n",
       "  </tbody>\n",
       "</table>\n",
       "</div>"
      ],
      "text/plain": [
       "  CustomerId  no_disc  quant_no_disc  all_discs  quant_all_discs  disc06  \\\n",
       "0      ALFKI        6             78          6               96       2   \n",
       "1      ANATR       10             63          0                0       0   \n",
       "2       ANTO        9            211          8              148       0   \n",
       "3      AROUT       23            439          7              211       3   \n",
       "4      BERGS       34            632         18              369       0   \n",
       "\n",
       "   quant_disc06  disc10  quant_disc10  disc15  quant_disc15  disc20  \\\n",
       "0            56       0             0       0             0       1   \n",
       "1             0       0             0       0             0       0   \n",
       "2             0       4            80       4            68       0   \n",
       "3           128       2            40       1            28       1   \n",
       "4             0      10           161       0             0       0   \n",
       "\n",
       "   quant_disc20  disc25  quant_disc25  total_orders  total_quantities  \n",
       "0             2       3            38            12               174  \n",
       "1             0       0             0            10                63  \n",
       "2             0       0             0            17               359  \n",
       "3            15       0             0            30               650  \n",
       "4             0       8           208            52              1001  "
      ]
     },
     "execution_count": 5,
     "metadata": {},
     "output_type": "execute_result"
    }
   ],
   "source": [
    "#Compare quantities ordered with and without discounts\n",
    "discs_ords.head()"
   ]
  },
  {
   "cell_type": "code",
   "execution_count": null,
   "metadata": {},
   "outputs": [],
   "source": [
    "discs_ords.shape"
   ]
  },
  {
   "cell_type": "code",
   "execution_count": 19,
   "metadata": {},
   "outputs": [
    {
     "name": "stdout",
     "output_type": "stream",
     "text": [
      "Control group mean: 321.3370786516854\n",
      "Control group sum: 28599\n",
      "Treatment group mean: 255.25842696629215\n",
      "Treatment group sum: 22718\n"
     ]
    }
   ],
   "source": [
    "print('Control group mean:', discs_ords['quant_no_disc'].mean())\n",
    "print('Control group sum:', discs_ords['quant_no_disc'].sum())\n",
    "print('Treatment group mean:', discs_ords['quant_all_discs'].mean())\n",
    "print('Treatment group sum:', discs_ords['quant_all_discs'].sum())"
   ]
  },
  {
   "cell_type": "code",
   "execution_count": 15,
   "metadata": {
    "scrolled": false
   },
   "outputs": [
    {
     "data": {
      "text/plain": [
       "(array([41., 21.,  9.,  6.,  4.,  3.,  1.,  0.,  0.,  1.,  0.,  0.,  0.,\n",
       "         0.,  0.,  0.,  0.,  0.,  2.,  1.]),\n",
       " array([   0.  ,  122.85,  245.7 ,  368.55,  491.4 ,  614.25,  737.1 ,\n",
       "         859.95,  982.8 , 1105.65, 1228.5 , 1351.35, 1474.2 , 1597.05,\n",
       "        1719.9 , 1842.75, 1965.6 , 2088.45, 2211.3 , 2334.15, 2457.  ]),\n",
       " <a list of 20 Patch objects>)"
      ]
     },
     "execution_count": 15,
     "metadata": {},
     "output_type": "execute_result"
    },
    {
     "data": {
      "image/png": "[encoded data removed]",
      "text/plain": [
       "<Figure size 432x288 with 1 Axes>"
      ]
     },
     "metadata": {
      "needs_background": "light"
     },
     "output_type": "display_data"
    }
   ],
   "source": [
    "plt.hist(discs_ords['quant_all_discs'], bins=20)"
   ]
  },
  {
   "cell_type": "code",
   "execution_count": 16,
   "metadata": {},
   "outputs": [
    {
     "data": {
      "text/plain": [
       "(array([34., 20., 11.,  7., 10.,  0.,  3.,  1.,  0.,  0.,  0.,  0.,  0.,\n",
       "         1.,  0.,  0.,  0.,  0.,  1.,  1.]),\n",
       " array([  11. ,  135.5,  260. ,  384.5,  509. ,  633.5,  758. ,  882.5,\n",
       "        1007. , 1131.5, 1256. , 1380.5, 1505. , 1629.5, 1754. , 1878.5,\n",
       "        2003. , 2127.5, 2252. , 2376.5, 2501. ]),\n",
       " <a list of 20 Patch objects>)"
      ]
     },
     "execution_count": 16,
     "metadata": {},
     "output_type": "execute_result"
    },
    {
     "data": {
      "image/png": "[encoded data removed]",
      "text/plain": [
       "<Figure size 432x288 with 1 Axes>"
      ]
     },
     "metadata": {
      "needs_background": "light"
     },
     "output_type": "display_data"
    }
   ],
   "source": [
    "plt.hist(discs_ords['quant_no_disc'], bins=20)"
   ]
  },
  {
   "cell_type": "code",
   "execution_count": null,
   "metadata": {},
   "outputs": [],
   "source": [
    "#Again, the two distributions look very close, both with greatest density around the lower values\n",
    "#At this point I can predict that there won't be a significant difference between the two"
   ]
  },
  {
   "cell_type": "code",
   "execution_count": 18,
   "metadata": {
    "scrolled": true
   },
   "outputs": [
    {
     "name": "stderr",
     "output_type": "stream",
     "text": [
      "C:\\Users\\Stee\\Anaconda3good\\lib\\site-packages\\scipy\\stats\\stats.py:1713: FutureWarning: Using a non-tuple sequence for multidimensional indexing is deprecated; use `arr[tuple(seq)]` instead of `arr[seq]`. In the future this will be interpreted as an array index, `arr[np.array(seq)]`, which will result either in an error or a different result.\n",
      "  return np.add.reduce(sorted[indexer] * weights, axis=axis) / sumval\n"
     ]
    },
    {
     "data": {
      "text/plain": [
       "<matplotlib.axes._subplots.AxesSubplot at 0xb4cf8d0>"
      ]
     },
     "execution_count": 18,
     "metadata": {},
     "output_type": "execute_result"
    },
    {
     "data": {
      "image/png": "[encoded data removed]",
      "text/plain": [
       "<Figure size 432x288 with 1 Axes>"
      ]
     },
     "metadata": {
      "needs_background": "light"
     },
     "output_type": "display_data"
    }
   ],
   "source": [
    "#Show the distribution with a kde to check for normality\n",
    "sns.distplot(discs_ords['quant_no_disc'])"
   ]
  },
  {
   "cell_type": "code",
   "execution_count": 19,
   "metadata": {
    "scrolled": true
   },
   "outputs": [
    {
     "name": "stdout",
     "output_type": "stream",
     "text": [
      "The population distribution has only 89 values.\n"
     ]
    }
   ],
   "source": [
    "print(\"The population distribution has only\", discs_ords.shape[0], \"values.\")"
   ]
  },
  {
   "cell_type": "markdown",
   "metadata": {},
   "source": [
    "### Hypothesis 1: Resampling by bootstrapping"
   ]
  },
  {
   "cell_type": "code",
   "execution_count": 65,
   "metadata": {},
   "outputs": [],
   "source": []
  },
  {
   "cell_type": "code",
   "execution_count": 13,
   "metadata": {},
   "outputs": [],
   "source": [
    "#Bootstrap method via https://codingdisciple.com/bootstrap-hypothesis-testing.html\n",
    "#Get the data to look more \"normal\" with bootstrapping\n",
    "#\"Control\" is the no-discount group\n",
    "#\"Treatment\" is the discount group"
   ]
  },
  {
   "cell_type": "code",
   "execution_count": 48,
   "metadata": {},
   "outputs": [],
   "source": [
    "alpha = 0.05 # The value chosen for comparison with the test statistic.\n",
    "#Test statistic will need to be lower than this in order to reject the null hypothesis."
   ]
  },
  {
   "cell_type": "code",
   "execution_count": 49,
   "metadata": {},
   "outputs": [],
   "source": [
    "p = None #The value chosen for the test statistic. \n",
    "#In this case, it will be the number of differences in mean greater than\n",
    "#or equal to the observed difference in mean between the no-discount dist\n",
    "# (control group) and the with-discount dist (treatment group.)"
   ]
  },
  {
   "cell_type": "code",
   "execution_count": 52,
   "metadata": {},
   "outputs": [
    {
     "name": "stdout",
     "output_type": "stream",
     "text": [
      "Observed difference between the means: 66.07865168539323\n"
     ]
    }
   ],
   "source": [
    "#Put the two groups of data into arrays to be resampled &c\n",
    "control1 = discs_ords['quant_no_disc'] #The quantities of items ordered without discount\n",
    "treatment1 = discs_ords['quant_all_discs'] #The quantitites of items ordered with a discount\n",
    "\n",
    "permus = 10000 #number of samples to take\n",
    "\n",
    "combo = np.concatenate((control1, treatment1), axis = 0) #both dists combined for taking samples\n",
    "\n",
    "permus_control1 = []\n",
    "permus_treatment1 = []\n",
    "\n",
    "for i in range(permus): #Generate this many permutations\n",
    "    np.random.seed(i) #seed for consistency\n",
    "    permus_control1.append(resample(combo, n_samples = len(control1)))\n",
    "    permus_treatment1.append(resample(combo, n_samples = len(treatment1)))\n",
    "    \n",
    "#Take the difference in means between the two sets of permutations\n",
    "diff_boot_means = (np.mean(permus_control1, axis = 1) - np.mean(permus_treatment1, axis = 1))\n",
    "\n",
    "observed_diff = (np.mean(control1) - np.mean(treatment1))\n",
    "print('Observed difference between the means:', observed_diff)"
   ]
  },
  {
   "cell_type": "code",
   "execution_count": 53,
   "metadata": {},
   "outputs": [
    {
     "name": "stdout",
     "output_type": "stream",
     "text": [
      "The p value is. 0.1467\n"
     ]
    }
   ],
   "source": [
    "#Find the p value by counting how many differences in mean were greater than \n",
    "#or equal to the observed difference in means.\n",
    "means_below_observed = diff_boot_means[diff_boot_means >= observed_diff].shape[0]\n",
    "p = means_below_observed / permus\n",
    "print('The p value is.', p)"
   ]
  },
  {
   "cell_type": "code",
   "execution_count": 54,
   "metadata": {},
   "outputs": [],
   "source": [
    "#Get the difference between control and treatment to \n",
    "#find the confidence interval\n",
    "lower_bound = np.percentile(diff_boot_means, 2.5)\n",
    "upper_bound = np.percentile(diff_boot_means, 97.5)"
   ]
  },
  {
   "cell_type": "code",
   "execution_count": 55,
   "metadata": {},
   "outputs": [
    {
     "data": {
      "image/png": "[encoded data removed]",
      "text/plain": [
       "<Figure size 720x360 with 1 Axes>"
      ]
     },
     "metadata": {
      "needs_background": "light"
     },
     "output_type": "display_data"
    }
   ],
   "source": [
    "#Plot the differences in means between the 2 bootstrapped groups with the p value\n",
    "fig = plt.figure(figsize = (10,5))\n",
    "ax = plt.hist(diff_boot_means, bins = 30)\n",
    "plt.axvline(-observed_diff, color = 'red', label = '-p')\n",
    "plt.axvline(observed_diff, color = 'red', label = 'p')\n",
    "plt.axvline(lower_bound, color = 'lightgreen', label = 'lower bound')\n",
    "plt.axvline(upper_bound, color = 'darkgreen', label = 'upper bound')\n",
    "plt.xlabel('Difference in means')\n",
    "plt.ylabel('Frequency')\n",
    "plt.legend()\n",
    "plt.title('Bootstrapped Population (Combined data from with-discount and without-discount)')\n",
    "plt.show()"
   ]
  },
  {
   "cell_type": "code",
   "execution_count": 56,
   "metadata": {},
   "outputs": [
    {
     "name": "stdout",
     "output_type": "stream",
     "text": [
      "1467 out of 10000 samples had a difference in means of 66.08 or higher.\n"
     ]
    }
   ],
   "source": [
    "#The p-value falls outside of both rejection regions. \n",
    "print(means_below_observed, 'out of', permus, 'samples had a difference in means of', \n",
    "      round(observed_diff, 2), 'or higher.')"
   ]
  },
  {
   "cell_type": "markdown",
   "metadata": {},
   "source": [
    "### Conclusion:"
   ]
  },
  {
   "cell_type": "code",
   "execution_count": null,
   "metadata": {},
   "outputs": [],
   "source": []
  },
  {
   "cell_type": "markdown",
   "metadata": {},
   "source": [
    "### Hypothesis 1, Part 2: At what level of discount?"
   ]
  },
  {
   "cell_type": "code",
   "execution_count": 20,
   "metadata": {},
   "outputs": [],
   "source": [
    "disc06 = discs_ords['quant_disc06'] #quantities of items ordered with 06% discount\n",
    "disc10 = discs_ords['quant_disc10'] #quantities of items ordered with 10% discount\n",
    "disc15 = discs_ords['quant_disc15'] #quantities of items ordered with 15% discount\n",
    "disc20 = discs_ords['quant_disc20'] #quantities of items ordered with 20% discount\n",
    "disc25 = discs_ords['quant_disc25'] #quantities of items ordered with 25% discount"
   ]
  },
  {
   "cell_type": "code",
   "execution_count": 21,
   "metadata": {},
   "outputs": [],
   "source": [
    "disc_levels = [disc06, disc10, disc15, disc20, disc25]"
   ]
  },
  {
   "cell_type": "code",
   "execution_count": 28,
   "metadata": {},
   "outputs": [
    {
     "name": "stdout",
     "output_type": "stream",
     "text": [
      "255.25842696629215 22718\n",
      "58.359550561797754 5194 41\n",
      "49.056179775280896 4366 38\n",
      "50.06741573033708 4456 38\n",
      "48.8876404494382 4351 39\n",
      "48.86516853932584 4349 38\n"
     ]
    }
   ],
   "source": [
    "print(treatment1.mean(), treatment1.sum())\n",
    "for level in disc_levels:\n",
    "    print(level.mean(), level.sum(), level[level > 0].shape[0])"
   ]
  },
  {
   "cell_type": "code",
   "execution_count": 29,
   "metadata": {},
   "outputs": [],
   "source": [
    "#HISTS TO BE PUT IN LINE LATER\n",
    "#for level in disc_levels:\n",
    "#    plt.hist(level, bins=20)\n",
    "#    plt.show()\n",
    "#Hists show that these dists are all non-normal too."
   ]
  },
  {
   "cell_type": "code",
   "execution_count": 40,
   "metadata": {},
   "outputs": [],
   "source": [
    "#More bootstrapping\n",
    "#Put the two groups of data into arrays to be resampled &c\n",
    "permus = 10000 #number of samples to take\n",
    "\n",
    "combo06 = []\n",
    "combo10 = []\n",
    "combo15 = []\n",
    "combo20 = []\n",
    "combo25 = []\n",
    "combos = [combo06, combo10, combo15, combo20, combo25]\n",
    "discounts = ['.06', '.10', '.15', '.20', '.25']\n",
    "levels_combos = list(zip(disc_levels, combos, discounts))"
   ]
  },
  {
   "cell_type": "code",
   "execution_count": 44,
   "metadata": {
    "scrolled": false
   },
   "outputs": [
    {
     "data": {
      "image/png": "[encoded data removed]",
      "text/plain": [
       "<Figure size 720x360 with 1 Axes>"
      ]
     },
     "metadata": {
      "needs_background": "light"
     },
     "output_type": "display_data"
    },
    {
     "name": "stdout",
     "output_type": "stream",
     "text": [
      "Observed difference between the means: 66.07865168539323\n",
      "P-value: 0.0857\n",
      "Lower bound: -95.8202247191011 Upper bound: 96.16348314606732\n"
     ]
    },
    {
     "data": {
      "image/png": "[encoded data removed]",
      "text/plain": [
       "<Figure size 720x360 with 1 Axes>"
      ]
     },
     "metadata": {
      "needs_background": "light"
     },
     "output_type": "display_data"
    },
    {
     "name": "stdout",
     "output_type": "stream",
     "text": [
      "Observed difference between the means: 66.07865168539323\n",
      "P-value: 0.0862\n",
      "Lower bound: -94.83258426966292 Upper bound: 97.001404494382\n"
     ]
    },
    {
     "data": {
      "image/png": "[encoded data removed]",
      "text/plain": [
       "<Figure size 720x360 with 1 Axes>"
      ]
     },
     "metadata": {
      "needs_background": "light"
     },
     "output_type": "display_data"
    },
    {
     "name": "stdout",
     "output_type": "stream",
     "text": [
      "Observed difference between the means: 66.07865168539323\n",
      "P-value: 0.0879\n",
      "Lower bound: -96.1137640449438 Upper bound: 96.97780898876404\n"
     ]
    },
    {
     "data": {
      "image/png": "[encoded data removed]",
      "text/plain": [
       "<Figure size 720x360 with 1 Axes>"
      ]
     },
     "metadata": {
      "needs_background": "light"
     },
     "output_type": "display_data"
    },
    {
     "name": "stdout",
     "output_type": "stream",
     "text": [
      "Observed difference between the means: 66.07865168539323\n",
      "P-value: 0.0867\n",
      "Lower bound: -95.39353932584267 Upper bound: 96.80898876404494\n"
     ]
    },
    {
     "data": {
      "image/png": "[encoded data removed]",
      "text/plain": [
       "<Figure size 720x360 with 1 Axes>"
      ]
     },
     "metadata": {
      "needs_background": "light"
     },
     "output_type": "display_data"
    },
    {
     "name": "stdout",
     "output_type": "stream",
     "text": [
      "Observed difference between the means: 66.07865168539323\n",
      "P-value: 0.0879\n",
      "Lower bound: -96.56264044943818 Upper bound: 98.48398876404494\n"
     ]
    }
   ],
   "source": [
    "control = control1\n",
    "\n",
    "for treatment, combo, discount in levels_combos:\n",
    "    combo = np.concatenate((control1, treatment), axis = 0) #both dists combined for taking samples\n",
    "\n",
    "    permus_control = []\n",
    "    permus_treatment = []\n",
    "\n",
    "    for i in range(permus): #Generate this many permutations\n",
    "        np.random.seed(i) #seed for consistency\n",
    "        permus_control.append(resample(combo, n_samples = len(control)))\n",
    "        permus_treatment.append(resample(combo, n_samples = len(treatment)))\n",
    "    \n",
    "    #Take the difference in means between the two sets of permutations\n",
    "    diff_boot_means = (np.mean(permus_control, axis = 1) - np.mean(permus_treatment, axis = 1))\n",
    "    observed_diff = (np.mean(control1) - np.mean(treatment1)) \n",
    "\n",
    "    #Find the p value by counting how many differences in mean were greater than \n",
    "    #or equal to the observed difference in means.\n",
    "    means_below_observed = diff_boot_means[diff_boot_means >= observed_diff].shape[0]\n",
    "    p = means_below_observed / permus\n",
    "\n",
    "    #Get the difference between control and treatment to \n",
    "    #find the confidence interval\n",
    "    lower_bound = np.percentile(diff_boot_means, 2.5)\n",
    "    upper_bound = np.percentile(diff_boot_means, 97.5)\n",
    "    \n",
    "    #Plot the differences in means between the 2 bootstrapped groups with the p value\n",
    "    fig = plt.figure(figsize = (10,5))\n",
    "    ax = plt.hist(diff_boot_means, bins = 30)\n",
    "    plt.axvline(-observed_diff, color = 'red', label = '-p')\n",
    "    plt.axvline(observed_diff, color = 'red', label = 'p')\n",
    "    plt.axvline(lower_bound, color = 'lightgreen', label = 'lower bound')\n",
    "    plt.axvline(upper_bound, color = 'darkgreen', label = 'upper bound')\n",
    "    plt.xlabel('Difference in means')\n",
    "    plt.ylabel('Frequency')\n",
    "    plt.legend()\n",
    "    title = 'Bootstrapped Population (Combined no-discount item quantities & ' + discount + ' discount item quantities)'\n",
    "    plt.title(title)\n",
    "    plt.show()\n",
    "    \n",
    "    #Print summary\n",
    "    print('Observed difference between the means:', observed_diff)\n",
    "    print('P-value:', p)\n",
    "    print('Lower bound:', lower_bound, 'Upper bound:', upper_bound)"
   ]
  },
  {
   "cell_type": "code",
   "execution_count": null,
   "metadata": {},
   "outputs": [],
   "source": [
    "#RESULTS FOR HYPOTHESIS 1 PART 2: Null hypothesis is not rejected"
   ]
  },
  {
   "cell_type": "code",
   "execution_count": null,
   "metadata": {},
   "outputs": [],
   "source": []
  },
  {
   "cell_type": "markdown",
   "metadata": {},
   "source": [
    "<a id=\"hypo2\"></a>"
   ]
  },
  {
   "cell_type": "markdown",
   "metadata": {},
   "source": [
    "# Hypothesis 2\n",
    "[(Back to top)](#top)"
   ]
  },
  {
   "cell_type": "markdown",
   "metadata": {},
   "source": [
    "Do the employees in the PNW offices get higher invoice totals on average than employees in the London office?\n",
    "\n",
    "Null hypothesis: average invoice total for London office (Control2) is >= average invoice total for PNW offices (Treatment2)\n",
    "\n",
    "Alternative hypothesis: average invoice total for London office (Control2) is < average invoice total for PNW office (Treatment2)\n",
    "\n",
    "An \"invoice total\" will be the sum of subtotals per order, where each subtotal on an order is unit price * (1 - discount) * quantity."
   ]
  },
  {
   "attachments": {
    "invoice.png": {
     "image/png": "[encoded data removed]"
    }
   },
   "cell_type": "markdown",
   "metadata": {},
   "source": [
    "![invoice.png](attachment:invoice.png)"
   ]
  },
  {
   "cell_type": "code",
   "execution_count": 98,
   "metadata": {
    "scrolled": false
   },
   "outputs": [
    {
     "name": "stdout",
     "output_type": "stream",
     "text": [
      "2019-02-01 13:42:40,383 INFO sqlalchemy.engine.base.Engine SELECT od.OrderId,\n",
      "                            SUM((od.UnitPrice * (1 - od.Discount)) * od.Quantity) Invoice_total\n",
      "                            FROM OrderDetail od\n",
      "                            JOIN [Order] o ON od.OrderId = o.Id\n",
      "                            JOIN Employee e ON o.EmployeeId = e.Id\n",
      "                            WHERE e.City = \"London\"\n",
      "                            GROUP BY od.OrderId\n",
      "                            ORDER BY e.LastName\n",
      "                    \n"
     ]
    },
    {
     "name": "stderr",
     "output_type": "stream",
     "text": [
      "INFO:sqlalchemy.engine.base.Engine:SELECT od.OrderId,\n",
      "                            SUM((od.UnitPrice * (1 - od.Discount)) * od.Quantity) Invoice_total\n",
      "                            FROM OrderDetail od\n",
      "                            JOIN [Order] o ON od.OrderId = o.Id\n",
      "                            JOIN Employee e ON o.EmployeeId = e.Id\n",
      "                            WHERE e.City = \"London\"\n",
      "                            GROUP BY od.OrderId\n",
      "                            ORDER BY e.LastName\n",
      "                    \n"
     ]
    },
    {
     "name": "stdout",
     "output_type": "stream",
     "text": [
      "2019-02-01 13:42:40,384 INFO sqlalchemy.engine.base.Engine ()\n"
     ]
    },
    {
     "name": "stderr",
     "output_type": "stream",
     "text": [
      "INFO:sqlalchemy.engine.base.Engine:()\n"
     ]
    },
    {
     "name": "stdout",
     "output_type": "stream",
     "text": [
      "2019-02-01 13:42:40,392 INFO sqlalchemy.engine.base.Engine SELECT od.OrderId, e.City,\n",
      "                            SUM((od.UnitPrice * (1 - od.Discount)) * od.Quantity) Invoice_total\n",
      "                            FROM OrderDetail od\n",
      "                            JOIN [Order] o ON od.OrderId = o.Id\n",
      "                            JOIN Employee e ON o.EmployeeId = e.Id\n",
      "                            WHERE e.City != \"London\"\n",
      "                            GROUP BY od.OrderId\n",
      "                            ORDER BY e.LastName\n",
      "                    \n"
     ]
    },
    {
     "name": "stderr",
     "output_type": "stream",
     "text": [
      "INFO:sqlalchemy.engine.base.Engine:SELECT od.OrderId, e.City,\n",
      "                            SUM((od.UnitPrice * (1 - od.Discount)) * od.Quantity) Invoice_total\n",
      "                            FROM OrderDetail od\n",
      "                            JOIN [Order] o ON od.OrderId = o.Id\n",
      "                            JOIN Employee e ON o.EmployeeId = e.Id\n",
      "                            WHERE e.City != \"London\"\n",
      "                            GROUP BY od.OrderId\n",
      "                            ORDER BY e.LastName\n",
      "                    \n"
     ]
    },
    {
     "name": "stdout",
     "output_type": "stream",
     "text": [
      "2019-02-01 13:42:40,393 INFO sqlalchemy.engine.base.Engine ()\n"
     ]
    },
    {
     "name": "stderr",
     "output_type": "stream",
     "text": [
      "INFO:sqlalchemy.engine.base.Engine:()\n"
     ]
    }
   ],
   "source": [
    "#Get invoice totals for employees in the London office\n",
    "london_invoices = pd.read_sql_query('''SELECT od.OrderId,\n",
    "                            SUM((od.UnitPrice * (1 - od.Discount)) * od.Quantity) Invoice_total\n",
    "                            FROM OrderDetail od\n",
    "                            JOIN [Order] o ON od.OrderId = o.Id\n",
    "                            JOIN Employee e ON o.EmployeeId = e.Id\n",
    "                            WHERE e.City = \"London\"\n",
    "                            GROUP BY od.OrderId\n",
    "                            ORDER BY e.LastName\n",
    "                    ''', engine)\n",
    "\n",
    "#Get invoice totals for employees in the PNW offices\n",
    "pnw_invoices = pd.read_sql_query('''SELECT od.OrderId, e.City,\n",
    "                            SUM((od.UnitPrice * (1 - od.Discount)) * od.Quantity) Invoice_total\n",
    "                            FROM OrderDetail od\n",
    "                            JOIN [Order] o ON od.OrderId = o.Id\n",
    "                            JOIN Employee e ON o.EmployeeId = e.Id\n",
    "                            WHERE e.City != \"London\"\n",
    "                            GROUP BY od.OrderId\n",
    "                            ORDER BY e.LastName\n",
    "                    ''', engine)"
   ]
  },
  {
   "cell_type": "code",
   "execution_count": 102,
   "metadata": {},
   "outputs": [],
   "source": [
    "#A control group from the London invoices\n",
    "#A treatment group from the PNW invoices\n",
    "control2 = london_invoices['Invoice_total']\n",
    "treatment2 = pnw_invoices['Invoice_total']"
   ]
  },
  {
   "cell_type": "code",
   "execution_count": 138,
   "metadata": {},
   "outputs": [],
   "source": [
    "#Value to compare to p-value\n",
    "alpha = 0.5"
   ]
  },
  {
   "cell_type": "code",
   "execution_count": 137,
   "metadata": {},
   "outputs": [
    {
     "name": "stderr",
     "output_type": "stream",
     "text": [
      "/Users/ssrosa/anaconda3/envs/learn-env/lib/python3.6/site-packages/scipy/stats/stats.py:1713: FutureWarning: Using a non-tuple sequence for multidimensional indexing is deprecated; use `arr[tuple(seq)]` instead of `arr[seq]`. In the future this will be interpreted as an array index, `arr[np.array(seq)]`, which will result either in an error or a different result.\n",
      "  return np.add.reduce(sorted[indexer] * weights, axis=axis) / sumval\n"
     ]
    },
    {
     "data": {
      "image/png": "[encoded data removed]",
      "text/plain": [
       "<Figure size 864x432 with 1 Axes>"
      ]
     },
     "metadata": {},
     "output_type": "display_data"
    }
   ],
   "source": [
    "#Plot both distributions\n",
    "upper_bound = np.percentile(control2, 95)\n",
    "\n",
    "sns.set(color_codes = True)\n",
    "sns.set(rc={'figure.figsize':(12,6)})\n",
    "sns.distplot(control2, label = \"control group (London)\")\n",
    "sns.distplot(treatment2, label = \"treatment group (PNW)\")\n",
    "plt.axvline(control2.mean(), color = 'darkblue', label = 'control mean')\n",
    "plt.axvline(treatment2.mean(), color = 'darkorange', label = 'treatment mean')\n",
    "plt.axvline(upper_bound, color = 'darkgreen', label = 'upper bound')\n",
    "plt.title('Averages revenue per invoice, London office vs PNW offices')\n",
    "plt.legend()\n",
    "plt.show()"
   ]
  },
  {
   "cell_type": "code",
   "execution_count": 107,
   "metadata": {},
   "outputs": [
    {
     "name": "stdout",
     "output_type": "stream",
     "text": [
      "London office invoice mean: 1538.3112209821427\n",
      "Number of London offices invoices: 224\n",
      "\n",
      "\n",
      "PNW office invoice mean: 1520.150702970297\n",
      "Number of PNW office invoices: 606\n"
     ]
    }
   ],
   "source": [
    "print('London office invoice mean:', control2.mean())\n",
    "print('Number of London offices invoices:', len(control2))\n",
    "print('\\n')\n",
    "print('PNW office invoice mean:', treatment2.mean())\n",
    "print('Number of PNW office invoices:', len(treatment2))"
   ]
  },
  {
   "cell_type": "code",
   "execution_count": 139,
   "metadata": {},
   "outputs": [
    {
     "name": "stdout",
     "output_type": "stream",
     "text": [
      "T stat: 0.1257920376990175\n",
      "P-value: 0.8999270811672762\n",
      "P-value is too high to reject null hypothesis.\n"
     ]
    }
   ],
   "source": [
    "t2, p2 = stats.ttest_ind(control2,treatment2)\n",
    "print('T stat:', t2)\n",
    "print('P-value:', p2)\n",
    "if p2 > alpha:\n",
    "    print('P-value is too high to reject null hypothesis.')"
   ]
  },
  {
   "cell_type": "markdown",
   "metadata": {},
   "source": [
    "Conclusion: Failure to reject null hypothesis. Average invoice total for London office (Control2) is >= average invoice total for PNW offices (Treatment2)"
   ]
  },
  {
   "cell_type": "code",
   "execution_count": 170,
   "metadata": {},
   "outputs": [
    {
     "name": "stdout",
     "output_type": "stream",
     "text": [
      "2019-02-01 16:49:06,444 INFO sqlalchemy.engine.base.Engine SELECT e.LastName, e.City,\n",
      "                            SUM((od.UnitPrice * (1 - od.Discount)) * od.Quantity) Revenue\n",
      "                            FROM OrderDetail od\n",
      "                            JOIN [Order] o ON od.OrderId = o.Id\n",
      "                            JOIN Employee e ON o.EmployeeId = e.Id\n",
      "                            GROUP BY e.LastName\n",
      "                            ORDER BY Revenue DESC\n",
      "                    \n"
     ]
    },
    {
     "name": "stderr",
     "output_type": "stream",
     "text": [
      "INFO:sqlalchemy.engine.base.Engine:SELECT e.LastName, e.City,\n",
      "                            SUM((od.UnitPrice * (1 - od.Discount)) * od.Quantity) Revenue\n",
      "                            FROM OrderDetail od\n",
      "                            JOIN [Order] o ON od.OrderId = o.Id\n",
      "                            JOIN Employee e ON o.EmployeeId = e.Id\n",
      "                            GROUP BY e.LastName\n",
      "                            ORDER BY Revenue DESC\n",
      "                    \n"
     ]
    },
    {
     "name": "stdout",
     "output_type": "stream",
     "text": [
      "2019-02-01 16:49:06,446 INFO sqlalchemy.engine.base.Engine ()\n"
     ]
    },
    {
     "name": "stderr",
     "output_type": "stream",
     "text": [
      "INFO:sqlalchemy.engine.base.Engine:()\n"
     ]
    },
    {
     "data": {
      "text/html": [
       "<div>\n",
       "<style scoped>\n",
       "    .dataframe tbody tr th:only-of-type {\n",
       "        vertical-align: middle;\n",
       "    }\n",
       "\n",
       "    .dataframe tbody tr th {\n",
       "        vertical-align: top;\n",
       "    }\n",
       "\n",
       "    .dataframe thead th {\n",
       "        text-align: right;\n",
       "    }\n",
       "</style>\n",
       "<table border=\"1\" class=\"dataframe\">\n",
       "  <thead>\n",
       "    <tr style=\"text-align: right;\">\n",
       "      <th></th>\n",
       "      <th>LastName</th>\n",
       "      <th>City</th>\n",
       "      <th>Revenue</th>\n",
       "    </tr>\n",
       "  </thead>\n",
       "  <tbody>\n",
       "    <tr>\n",
       "      <th>0</th>\n",
       "      <td>Peacock</td>\n",
       "      <td>Redmond</td>\n",
       "      <td>232890.8460</td>\n",
       "    </tr>\n",
       "    <tr>\n",
       "      <th>1</th>\n",
       "      <td>Leverling</td>\n",
       "      <td>Kirkland</td>\n",
       "      <td>202812.8430</td>\n",
       "    </tr>\n",
       "    <tr>\n",
       "      <th>2</th>\n",
       "      <td>Davolio</td>\n",
       "      <td>Seattle</td>\n",
       "      <td>192107.6045</td>\n",
       "    </tr>\n",
       "    <tr>\n",
       "      <th>3</th>\n",
       "      <td>Fuller</td>\n",
       "      <td>Tacoma</td>\n",
       "      <td>166537.7550</td>\n",
       "    </tr>\n",
       "    <tr>\n",
       "      <th>4</th>\n",
       "      <td>Callahan</td>\n",
       "      <td>Seattle</td>\n",
       "      <td>126862.2775</td>\n",
       "    </tr>\n",
       "    <tr>\n",
       "      <th>5</th>\n",
       "      <td>King</td>\n",
       "      <td>London</td>\n",
       "      <td>124568.2350</td>\n",
       "    </tr>\n",
       "    <tr>\n",
       "      <th>6</th>\n",
       "      <td>Dodsworth</td>\n",
       "      <td>London</td>\n",
       "      <td>77308.0665</td>\n",
       "    </tr>\n",
       "    <tr>\n",
       "      <th>7</th>\n",
       "      <td>Suyama</td>\n",
       "      <td>London</td>\n",
       "      <td>73913.1295</td>\n",
       "    </tr>\n",
       "    <tr>\n",
       "      <th>8</th>\n",
       "      <td>Buchanan</td>\n",
       "      <td>London</td>\n",
       "      <td>68792.2825</td>\n",
       "    </tr>\n",
       "  </tbody>\n",
       "</table>\n",
       "</div>"
      ],
      "text/plain": [
       "    LastName      City      Revenue\n",
       "0    Peacock   Redmond  232890.8460\n",
       "1  Leverling  Kirkland  202812.8430\n",
       "2    Davolio   Seattle  192107.6045\n",
       "3     Fuller    Tacoma  166537.7550\n",
       "4   Callahan   Seattle  126862.2775\n",
       "5       King    London  124568.2350\n",
       "6  Dodsworth    London   77308.0665\n",
       "7     Suyama    London   73913.1295\n",
       "8   Buchanan    London   68792.2825"
      ]
     },
     "execution_count": 170,
     "metadata": {},
     "output_type": "execute_result"
    }
   ],
   "source": [
    "#How much revenue is generated by each employee?\n",
    "#Revenue per employee\n",
    "revenue = pd.read_sql_query('''SELECT e.LastName, e.City,\n",
    "                            SUM((od.UnitPrice * (1 - od.Discount)) * od.Quantity) Revenue\n",
    "                            FROM OrderDetail od\n",
    "                            JOIN [Order] o ON od.OrderId = o.Id\n",
    "                            JOIN Employee e ON o.EmployeeId = e.Id\n",
    "                            GROUP BY e.LastName\n",
    "                            ORDER BY Revenue DESC\n",
    "                    ''', engine)\n",
    "revenue"
   ]
  },
  {
   "cell_type": "markdown",
   "metadata": {},
   "source": [
    "The 4 London employees generate less overall revenue even though their revenue per order is on average not lower than the revenue per order in the PNW offices. In order to match the PNW employees, the London employees can try to fulfill more orders."
   ]
  },
  {
   "cell_type": "markdown",
   "metadata": {},
   "source": [
    "<a id=\"hypo3\"></a>"
   ]
  },
  {
   "cell_type": "markdown",
   "metadata": {},
   "source": [
    "# Hypothesis 3\n",
    "[(Back to top)](#top)"
   ]
  },
  {
   "cell_type": "markdown",
   "metadata": {},
   "source": [
    "Did average sales decline in 2014 compared to 2013?\n",
    "\n",
    "Null hypothesis: Average sales in 2014 (treatment3) were equal to or greater than average sales in 2013 (control3). \n",
    "\n",
    "treatment3 >= control3\n",
    "\n",
    "Alternative hypothesis: Average sales in 2014 (treatment3) were less than average sales in 2013 (control3.)\n",
    "\n",
    "treatment3 < control3"
   ]
  },
  {
   "cell_type": "code",
   "execution_count": 74,
   "metadata": {},
   "outputs": [
    {
     "name": "stdout",
     "output_type": "stream",
     "text": [
      "2019-02-01 22:04:50,456 INFO sqlalchemy.engine.base.Engine SELECT od.OrderId,\n",
      "                            SUM((od.UnitPrice * (1 - od.Discount)) * od.Quantity) Invoice_total\n",
      "                            FROM OrderDetail od\n",
      "                            JOIN [Order] o ON od.OrderId = o.Id\n",
      "                            WHERE o.OrderDate LIKE \"2013%\"\n",
      "                            GROUP BY od.OrderId\n",
      "                    \n"
     ]
    },
    {
     "name": "stderr",
     "output_type": "stream",
     "text": [
      "INFO:sqlalchemy.engine.base.Engine:SELECT od.OrderId,\n",
      "                            SUM((od.UnitPrice * (1 - od.Discount)) * od.Quantity) Invoice_total\n",
      "                            FROM OrderDetail od\n",
      "                            JOIN [Order] o ON od.OrderId = o.Id\n",
      "                            WHERE o.OrderDate LIKE \"2013%\"\n",
      "                            GROUP BY od.OrderId\n",
      "                    \n"
     ]
    },
    {
     "name": "stdout",
     "output_type": "stream",
     "text": [
      "2019-02-01 22:04:50,458 INFO sqlalchemy.engine.base.Engine ()\n"
     ]
    },
    {
     "name": "stderr",
     "output_type": "stream",
     "text": [
      "INFO:sqlalchemy.engine.base.Engine:()\n"
     ]
    },
    {
     "name": "stdout",
     "output_type": "stream",
     "text": [
      "2019-02-01 22:04:50,464 INFO sqlalchemy.engine.base.Engine SELECT od.OrderId,\n",
      "                            SUM((od.UnitPrice * (1 - od.Discount)) * od.Quantity) Invoice_total\n",
      "                            FROM OrderDetail od\n",
      "                            JOIN [Order] o ON od.OrderId = o.Id\n",
      "                            WHERE o.OrderDate LIKE \"2014%\"\n",
      "                            GROUP BY od.OrderId\n",
      "                    \n"
     ]
    },
    {
     "name": "stderr",
     "output_type": "stream",
     "text": [
      "INFO:sqlalchemy.engine.base.Engine:SELECT od.OrderId,\n",
      "                            SUM((od.UnitPrice * (1 - od.Discount)) * od.Quantity) Invoice_total\n",
      "                            FROM OrderDetail od\n",
      "                            JOIN [Order] o ON od.OrderId = o.Id\n",
      "                            WHERE o.OrderDate LIKE \"2014%\"\n",
      "                            GROUP BY od.OrderId\n",
      "                    \n"
     ]
    },
    {
     "name": "stdout",
     "output_type": "stream",
     "text": [
      "2019-02-01 22:04:50,465 INFO sqlalchemy.engine.base.Engine ()\n"
     ]
    },
    {
     "name": "stderr",
     "output_type": "stream",
     "text": [
      "INFO:sqlalchemy.engine.base.Engine:()\n"
     ]
    }
   ],
   "source": [
    "#Get invoices for 2013\n",
    "invoices_2013 = pd.read_sql_query('''SELECT od.OrderId,\n",
    "                            SUM((od.UnitPrice * (1 - od.Discount)) * od.Quantity) Invoice_total\n",
    "                            FROM OrderDetail od\n",
    "                            JOIN [Order] o ON od.OrderId = o.Id\n",
    "                            WHERE o.OrderDate LIKE \"2013%\"\n",
    "                            GROUP BY od.OrderId\n",
    "                    ''', engine)\n",
    "#Get invoices for 2013\n",
    "invoices_2014 = pd.read_sql_query('''SELECT od.OrderId,\n",
    "                            SUM((od.UnitPrice * (1 - od.Discount)) * od.Quantity) Invoice_total\n",
    "                            FROM OrderDetail od\n",
    "                            JOIN [Order] o ON od.OrderId = o.Id\n",
    "                            WHERE o.OrderDate LIKE \"2014%\"\n",
    "                            GROUP BY od.OrderId\n",
    "                    ''', engine)"
   ]
  },
  {
   "cell_type": "code",
   "execution_count": 78,
   "metadata": {},
   "outputs": [],
   "source": [
    "#Control group from 2013 invoices\n",
    "#Treatment group from 2014 invoices\n",
    "control3 = invoices_2013['Invoice_total']\n",
    "treatment3 = invoices_2014['Invoice_total']"
   ]
  },
  {
   "cell_type": "code",
   "execution_count": 83,
   "metadata": {},
   "outputs": [
    {
     "name": "stderr",
     "output_type": "stream",
     "text": [
      "C:\\Users\\Stee\\Anaconda3good\\lib\\site-packages\\scipy\\stats\\stats.py:1713: FutureWarning: Using a non-tuple sequence for multidimensional indexing is deprecated; use `arr[tuple(seq)]` instead of `arr[seq]`. In the future this will be interpreted as an array index, `arr[np.array(seq)]`, which will result either in an error or a different result.\n",
      "  return np.add.reduce(sorted[indexer] * weights, axis=axis) / sumval\n"
     ]
    },
    {
     "data": {
      "image/png": "[encoded data removed]",
      "text/plain": [
       "<Figure size 864x432 with 1 Axes>"
      ]
     },
     "metadata": {},
     "output_type": "display_data"
    }
   ],
   "source": [
    "alpha = 0.05\n",
    "lower_bound = np.percentile(control3, 5)\n",
    "\n",
    "sns.set(color_codes = True)\n",
    "sns.set(rc={'figure.figsize':(12,6)})\n",
    "sns.distplot(control3, label = \"control group (2013)\")\n",
    "sns.distplot(treatment3, label = \"treatment group (2014)\")\n",
    "plt.axvline(control3.mean(), color = 'darkblue', label = 'control mean (2013)')\n",
    "plt.axvline(treatment3.mean(), color = 'darkorange', label = 'treatment mean (2014)')\n",
    "plt.axvline(lower_bound, color = 'darkgreen', label = 'lower bound')\n",
    "plt.title('Averages sales, 2013 vs 2014')\n",
    "plt.legend()\n",
    "plt.show()"
   ]
  },
  {
   "cell_type": "code",
   "execution_count": 84,
   "metadata": {
    "scrolled": true
   },
   "outputs": [
    {
     "name": "stdout",
     "output_type": "stream",
     "text": [
      "T stat: -0.791784376818693\n",
      "P-value: 0.42876415354731034\n",
      "P-value is too high to reject null hypothesis.\n"
     ]
    }
   ],
   "source": [
    "t3, p3 = stats.ttest_ind(control3, treatment3)\n",
    "print('T stat:', t3)\n",
    "print('P-value:', p3)\n",
    "if p3 > alpha:\n",
    "    print('P-value is too high to reject null hypothesis.')"
   ]
  },
  {
   "cell_type": "markdown",
   "metadata": {},
   "source": [
    "Conclusion: Failure to reject null hypothesis. Averages sales in 2014 were greater than or equal to average sales in 2013."
   ]
  },
  {
   "cell_type": "code",
   "execution_count": null,
   "metadata": {},
   "outputs": [],
   "source": []
  },
  {
   "cell_type": "code",
   "execution_count": null,
   "metadata": {},
   "outputs": [],
   "source": []
  },
  {
   "cell_type": "code",
   "execution_count": null,
   "metadata": {},
   "outputs": [],
   "source": []
  },
  {
   "cell_type": "code",
   "execution_count": null,
   "metadata": {},
   "outputs": [],
   "source": [
    "#SANITY CHECK for years of orders\n",
    "#orders = pd.read_sql_query('''SELECT o.OrderDate, o.RequiredDate, o.ShippedDate\n",
    "#                                FROM [Order] o\n",
    "#                               ORDER BY o.OrderDate ASC\n",
    "#                            ''', engine)\n",
    "#orders.head()"
   ]
  },
  {
   "cell_type": "code",
   "execution_count": null,
   "metadata": {},
   "outputs": [],
   "source": [
    "# REVENUE PER EMPLOYEE SANITY CHECK\n",
    "#Working toward revenue per employee\n",
    "#revenue_test = pd.read_sql_query('''SELECT e.LastName, od.OrderId,\n",
    "#                            SUM((od.UnitPrice * (1 - od.Discount)) * od.Quantity) Invoice_total\n",
    "#                            FROM OrderDetail od\n",
    "#                            JOIN [Order] o ON od.OrderId = o.Id\n",
    "#                            JOIN Employee e ON o.EmployeeId = e.Id\n",
    "#                            GROUP BY od.OrderId\n",
    "#                            ORDER BY e.LastName\n",
    "#                    ''', engine)\n",
    "\n",
    "#proof for revenue per employee via df\n",
    "#revenue_test[revenue_test['LastName'] == 'Buchanan']['Invoice_total'].sum()\n",
    "#Buchanan did 68792.2825 in sales"
   ]
  },
  {
   "cell_type": "code",
   "execution_count": null,
   "metadata": {},
   "outputs": [],
   "source": [
    "\n",
    "#HYPO 2 SANITY CHECK CODE\n",
    "\n",
    "\n",
    "#Working towards getting invoice totals\n",
    "#df = pd.read_sql_query('''SELECT od.*,\n",
    "#                            ((od.UnitPrice * (1 - od.Discount)) * od.Quantity) Subtotal\n",
    "#                            FROM OrderDetail od\n",
    "#                    ''', engine)\n",
    "\n",
    "#Get total revenue per invoice (sum of subtotals from all order details per order)\n",
    "#df = pd.read_sql_query('''SELECT od.OrderId,\n",
    "#                            SUM((od.UnitPrice * (1 - od.Discount)) * od.Quantity) Invoice_total\n",
    "#                            FROM OrderDetail od\n",
    "#                            GROUP BY od.OrderId\n",
    "#                    ''', engine)\n",
    "\n",
    "#Get total revenue per invoice and employee\n",
    "#df = pd.read_sql_query('''SELECT od.OrderId, e.LastName, e.City,\n",
    "#                            SUM((od.UnitPrice * (1 - od.Discount)) * od.Quantity) Invoice_total\n",
    "#                            FROM OrderDetail od\n",
    "#                            JOIN [Order] o ON od.OrderId = o.Id\n",
    "#                            JOIN Employee e ON o.EmployeeId = e.Id\n",
    "#                            GROUP BY od.OrderId\n",
    "#                            ORDER BY e.LastName\n",
    "#                    ''', engine)"
   ]
  },
  {
   "cell_type": "code",
   "execution_count": null,
   "metadata": {},
   "outputs": [],
   "source": [
    "#HYPO 1 PART 1\n",
    "#Sanity check for quantities\n",
    "#w/o discount. ALL GOOD\n",
    "#df_wo_discount = pd.read_sql_query('''SELECT [Order].CustomerId, \n",
    "#                                        SUM(\n",
    "#                                            CASE WHEN OrderDetail.Discount == 0.0\n",
    "#                                            THEN OrderDetail.Quantity ELSE 0 END\n",
    "#                                            ) quants_nodisc\n",
    "#                                        FROM OrderDetail\n",
    "#                                        INNER JOIN [Order] on OrderDetail.OrderId = [Order].Id\n",
    "#                                        GROUP BY [Order].CustomerId\n",
    "#                                        ORDER BY [Order].CustomerId ASC\n",
    "#                                    ''', engine)\n",
    "\n",
    "#w/ discount\n",
    "#df_w_discount = pd.read_sql_query('''SELECT [Order].CustomerId,\n",
    "#                                        SUM(\n",
    "#                                            CASE WHEN OrderDetail.Discount != 0.0\n",
    "#                                            THEN OrderDetail.Quantity ELSE 0 END\n",
    "#                                            ) quants_disc\n",
    "#                                        FROM OrderDetail \n",
    "#                                        INNER JOIN [Order] on OrderDetail.OrderId = [Order].Id\n",
    "#                                        WHERE OrderDetail.Discount != 0.0\n",
    "#                                        GROUP BY [Order].CustomerId\n",
    "#                                        ORDER BY [Order].CustomerId ASC\n",
    "#                                ''', engine)"
   ]
  },
  {
   "cell_type": "code",
   "execution_count": null,
   "metadata": {},
   "outputs": [],
   "source": [
    "#HYPO 1 PART 1\n",
    "#Not sure whether grouping is affecting the quantity sums per order. \n",
    "#i.e. is it adding up the quantities for every record assoc with an order id or just for one?\n",
    "#Look at number of orders per cust id\n",
    "#alfki = pd.read_sql_query(\"\"\"SELECT [Order].CustomerId, OrderDetail.*\n",
    "#                            FROM OrderDetail \n",
    "#                            \n",
    "#                            INNER JOIN [Order] on OrderDetail.OrderId = [Order].Id\n",
    "#                            WHERE [Order].CustomerId == 'ALFKI'\n",
    "#                        \"\"\", engine)\n",
    "#PROVEN: sum is of quantities for every record not the group\n",
    "#alfki['Quantity'].sum()"
   ]
  },
  {
   "cell_type": "code",
   "execution_count": 103,
   "metadata": {},
   "outputs": [
    {
     "data": {
      "text/plain": [
       "(320.30266666666665, 321.3370786516854)"
      ]
     },
     "execution_count": 103,
     "metadata": {},
     "output_type": "execute_result"
    }
   ],
   "source": [
    "#FAILED T DIST METHOD TO BE DELETED\n",
    "#Check for similarity between sampling distribution means\n",
    "#and population means\n",
    "control1.mean(), discs_ords['quant_no_disc'].mean()"
   ]
  },
  {
   "cell_type": "code",
   "execution_count": 104,
   "metadata": {},
   "outputs": [
    {
     "data": {
      "text/plain": [
       "(255.23933333333335, 255.25842696629215)"
      ]
     },
     "execution_count": 104,
     "metadata": {},
     "output_type": "execute_result"
    }
   ],
   "source": [
    "treatment1.mean(), discs_ords['quant_all_discs'].mean()"
   ]
  },
  {
   "cell_type": "code",
   "execution_count": null,
   "metadata": {},
   "outputs": [],
   "source": [
    "#Both are pretty close"
   ]
  },
  {
   "cell_type": "code",
   "execution_count": 34,
   "metadata": {},
   "outputs": [
    {
     "data": {
      "text/plain": [
       "64.24199999999996"
      ]
     },
     "execution_count": 34,
     "metadata": {},
     "output_type": "execute_result"
    }
   ],
   "source": [
    "diff = control1.mean() - treatment1.mean()\n",
    "diff"
   ]
  },
  {
   "cell_type": "code",
   "execution_count": 90,
   "metadata": {},
   "outputs": [
    {
     "name": "stderr",
     "output_type": "stream",
     "text": [
      "C:\\Users\\Stee\\Anaconda3good\\lib\\site-packages\\scipy\\stats\\stats.py:1713: FutureWarning: Using a non-tuple sequence for multidimensional indexing is deprecated; use `arr[tuple(seq)]` instead of `arr[seq]`. In the future this will be interpreted as an array index, `arr[np.array(seq)]`, which will result either in an error or a different result.\n",
      "  return np.add.reduce(sorted[indexer] * weights, axis=axis) / sumval\n"
     ]
    },
    {
     "data": {
      "image/png": "[encoded data removed]",
      "text/plain": [
       "<Figure size 720x576 with 1 Axes>"
      ]
     },
     "metadata": {},
     "output_type": "display_data"
    }
   ],
   "source": [
    "#Compare both sampling distributions with hist and kde\n",
    "sns.set(color_codes = True)\n",
    "sns.set(rc={'figure.figsize':(10,8)})\n",
    "sns.distplot(control1, label = \"Control group (no discount)\")\n",
    "sns.distplot(treatment1, label = \"Treatment group (with discount)\")\n",
    "plt.axvline(control1.mean(), color = 'darkblue', label = 'Control mean')\n",
    "plt.axvline(treatment1.mean(), color = 'darkorange', label = 'Treatment mean')\n",
    "plt.legend()\n",
    "plt.show()"
   ]
  },
  {
   "cell_type": "code",
   "execution_count": 28,
   "metadata": {},
   "outputs": [],
   "source": [
    "#This plot shows that the mean for the control group is higher.\n",
    "#The question is, where on the distribution for the control group\n",
    "#would the value for the mean of the treament group fall? If it is\n",
    "#outside the critical region in the tails, then it will not be statistically\n",
    "#significantly different."
   ]
  },
  {
   "cell_type": "code",
   "execution_count": 108,
   "metadata": {},
   "outputs": [
    {
     "data": {
      "text/plain": [
       "(320.30266666666665, 255.23933333333335)"
      ]
     },
     "execution_count": 108,
     "metadata": {},
     "output_type": "execute_result"
    }
   ],
   "source": [
    "control1.mean(), treatment1.mean()"
   ]
  },
  {
   "cell_type": "code",
   "execution_count": 92,
   "metadata": {},
   "outputs": [
    {
     "data": {
      "text/plain": [
       "(78.659613988939, 74.82993678706107)"
      ]
     },
     "execution_count": 92,
     "metadata": {},
     "output_type": "execute_result"
    }
   ],
   "source": [
    "control1.std(), treatment1.std()"
   ]
  },
  {
   "cell_type": "code",
   "execution_count": 55,
   "metadata": {},
   "outputs": [
    {
     "data": {
      "text/plain": [
       "59.5295672345679"
      ]
     },
     "execution_count": 55,
     "metadata": {},
     "output_type": "execute_result"
    }
   ],
   "source": [
    "#Calculate a two-sample t statistic\n",
    "#First get variance of both samples\n",
    "var = ((control1.std()**2) + (treatment1.std()**2)) / (len(control1) + len(treatment1) - 2)\n",
    "var"
   ]
  },
  {
   "cell_type": "code",
   "execution_count": 59,
   "metadata": {},
   "outputs": [
    {
     "data": {
      "text/plain": [
       "6187.334872888888"
      ]
     },
     "execution_count": 59,
     "metadata": {},
     "output_type": "execute_result"
    }
   ],
   "source": [
    "control1.std()**2"
   ]
  },
  {
   "cell_type": "code",
   "execution_count": 62,
   "metadata": {},
   "outputs": [
    {
     "data": {
      "text/plain": [
       "5599.519439555556"
      ]
     },
     "execution_count": 62,
     "metadata": {},
     "output_type": "execute_result"
    }
   ],
   "source": [
    "treatment1.std()**2"
   ]
  },
  {
   "cell_type": "code",
   "execution_count": 78,
   "metadata": {},
   "outputs": [
    {
     "data": {
      "text/plain": [
       "618733.4872888888"
      ]
     },
     "execution_count": 78,
     "metadata": {},
     "output_type": "execute_result"
    }
   ],
   "source": [
    "control1_var = sum([(i - np.mean(control1))**2 for i in control1])\n",
    "control1_var"
   ]
  },
  {
   "cell_type": "code",
   "execution_count": 79,
   "metadata": {},
   "outputs": [
    {
     "data": {
      "text/plain": [
       "559951.9439555553"
      ]
     },
     "execution_count": 79,
     "metadata": {},
     "output_type": "execute_result"
    }
   ],
   "source": [
    "treatment1_var = sum([(i - np.mean(treatment1))**2 for i in treatment1])\n",
    "treatment1_var"
   ]
  },
  {
   "cell_type": "code",
   "execution_count": 67,
   "metadata": {},
   "outputs": [],
   "source": [
    "#FROM THE LAB ON TWO SAMPLE T TESTS\n",
    "#def variance(sample):\n",
    "#    sample_mean = np.mean(sample)\n",
    "#    return sum([(i - sample_mean)**2 for i in sample])\n",
    "#def sample_variance(sample1, sample2):\n",
    "#    n_1, n_2 = len(sample1), len(sample2)\n",
    "#    var_1, var_2 = variance(sample1), variance(sample2)\n",
    "#    return (var_1 + var_2)/((n_1 + n_2)-2)"
   ]
  },
  {
   "cell_type": "code",
   "execution_count": 80,
   "metadata": {},
   "outputs": [
    {
     "data": {
      "text/plain": [
       "5952.9567234567885"
      ]
     },
     "execution_count": 80,
     "metadata": {},
     "output_type": "execute_result"
    }
   ],
   "source": [
    "vari = (control1_var + treatment1_var) / (len(control1) + len(treatment1) -2)\n",
    "vari"
   ]
  },
  {
   "cell_type": "code",
   "execution_count": 81,
   "metadata": {},
   "outputs": [
    {
     "data": {
      "text/plain": [
       "-5.887591810766747"
      ]
     },
     "execution_count": 81,
     "metadata": {},
     "output_type": "execute_result"
    }
   ],
   "source": [
    "#Build numerator for t statistic\n",
    "numer = np.mean(treatment1) - np.mean(control1)\n",
    "#Build denominator for t statistic\n",
    "denom = np.sqrt(vari * ((1/len(treatment1)) + (1/len(control1))))\n",
    "t = numer / denom\n",
    "t"
   ]
  },
  {
   "cell_type": "code",
   "execution_count": 109,
   "metadata": {},
   "outputs": [
    {
     "data": {
      "text/plain": [
       "(-5.508644149453619, 1.1153214293532252e-07)"
      ]
     },
     "execution_count": 109,
     "metadata": {},
     "output_type": "execute_result"
    }
   ],
   "source": [
    "test_stat, p_value = stats.ttest_ind(treatment1, control1)\n",
    "test_stat, p_value"
   ]
  },
  {
   "cell_type": "code",
   "execution_count": 111,
   "metadata": {},
   "outputs": [
    {
     "data": {
      "text/plain": [
       "1.9720174778338955"
      ]
     },
     "execution_count": 111,
     "metadata": {},
     "output_type": "execute_result"
    }
   ],
   "source": [
    "#Another way to find the t value\n",
    "t_alt = stats.t.ppf(q = 0.975, df = (len(control1) + len(treatment1) -2))\n",
    "t_alt"
   ]
  },
  {
   "cell_type": "code",
   "execution_count": 106,
   "metadata": {},
   "outputs": [
    {
     "data": {
      "image/png": "[encoded data removed]",
      "text/plain": [
       "<Figure size 720x576 with 1 Axes>"
      ]
     },
     "metadata": {},
     "output_type": "display_data"
    }
   ],
   "source": [
    "#Draw a t distribution\n",
    "#A set of points for x\n",
    "xs = np.linspace(-4, 4, 500)\n",
    "#A probability density function for the t-dist\n",
    "ys = stats.t.pdf(xs, (len(control1) + len(treatment1) - 2), 0, 1)\n",
    "\n",
    "#Draw a figure\n",
    "fig = plt.figure(figsize=(10,8))\n",
    "ax = fig.gca()\n",
    "#t dist in red\n",
    "ax.plot(xs, ys, color = 'red')\n",
    "#critical region\n",
    "ax.axvline(t_alt, color = 'darkgreen')\n",
    "#other critical region\n",
    "ax.axvline(-t_alt, color = 'darkgreen')\n",
    "plt.show()"
   ]
  },
  {
   "cell_type": "code",
   "execution_count": 85,
   "metadata": {},
   "outputs": [
    {
     "data": {
      "text/plain": [
       "1.64338928498428e-08"
      ]
     },
     "execution_count": 85,
     "metadata": {},
     "output_type": "execute_result"
    }
   ],
   "source": [
    "stats.t.sf(abs(t), len(control1) + len(treatment1) - 1) * 2"
   ]
  },
  {
   "cell_type": "code",
   "execution_count": null,
   "metadata": {},
   "outputs": [],
   "source": []
  },
  {
   "cell_type": "code",
   "execution_count": 10,
   "metadata": {},
   "outputs": [],
   "source": [
    "#MORE BOOTSTRAPPING CODE FOR HYPO 1. FINDS THE CONFIDENCE INTERVALS\n",
    "#NOT NEEDED FOR HYPO 1, SAVE FOR LATER\n",
    "#control1_boot = [] #10,000 permutations with replacement \n",
    "#for i in range(permus):\n",
    "#    np.random.seed(i)\n",
    "#    control1_boot.append((resample(control1)))\n",
    "\n",
    "#control1_boot = np.mean(control1_boot, axis = 1)\n",
    "#control1_boot #10,000 means\n",
    "\n",
    "#treatment1_boot = [] #10,000 permutations with replacement \n",
    "#for i in range(permus):\n",
    "#    np.random.seed(i)\n",
    "#    treatment1_boot.append((resample(treatment1)))\n",
    "\n",
    "#treatment1_boot = np.mean(treatment1_boot, axis = 1)\n",
    "#treatment1_boot #10,000 means\n",
    "\n",
    "#Get the difference between control and treatment to \n",
    "#find the confidence interval\n",
    "#diffs = control1_boot - treatment1_boot\n",
    "#lower_bound = np.percentile(diffs, 2.5)\n",
    "#upper_bound = np.percentile(diffs, 97.5)\n",
    "\n",
    "#Plot the confidence interval\n",
    "#fig = plt.figure(figsize=(10,3))\n",
    "#ax = plt.hist(diffs, bins=30)\n",
    "\n",
    "#plt.xlabel('Differences between quantities of items ordered, no-discount vs with-discount')\n",
    "#plt.ylabel('Frequency')\n",
    "#plt.axvline(lower_bound, color = 'green')\n",
    "#plt.axvline(upper_bound, color = 'green')\n",
    "#plt.axvline(66.07, color = 'red') #true difference in means\n",
    "#plt.title('Bootstrapped Pop (Differences Between 2 Control 1 & Treatment 1)')\n",
    "#plt.show()\n",
    "\n",
    "#print('95% confidence that true difference between control and treatment groups is between', \n",
    "#      round(lower_bound, 2), 'and', round(upper_bound, 2), ', assuming null hypothesis is correct.')\n",
    "\n",
    "#mu1 = discs_ords['quant_no_disc'].mean() - discs_ords['quant_all_discs'].mean()\n",
    "#print('The true difference in means for control 1 and treatment 1 is', mu1)"
   ]
  },
  {
   "cell_type": "code",
   "execution_count": null,
   "metadata": {},
   "outputs": [],
   "source": []
  },
  {
   "cell_type": "code",
   "execution_count": null,
   "metadata": {},
   "outputs": [],
   "source": [
    "####EDA\n",
    "#Look at how many customers each company has\n",
    "df = pd.read_sql_query(\"\"\"SELECT Customer.Id, Customer.CompanyName\n",
    "                            FROM Customer\n",
    "                            ORDER BY Customer.CompanyName\n",
    "                        \"\"\", engine)"
   ]
  },
  {
   "cell_type": "code",
   "execution_count": null,
   "metadata": {},
   "outputs": [],
   "source": [
    "#Every company has only one customer. Orders can therefore be counted by customer or by company.\n",
    "sum(df['CompanyName'].value_counts() > 1)"
   ]
  },
  {
   "cell_type": "code",
   "execution_count": null,
   "metadata": {},
   "outputs": [],
   "source": [
    "# JUST AN EXAMPLE from the labs\n",
    "#\"\"\"SELECT o.ID, c.CompanyName, Count(*) num_orders \n",
    "#    FROM [Order] o\n",
    "#    INNER JOIN Customer c on o.CustomerID = c.ID \n",
    "#    GROUP BY c.CompanyName \n",
    "#    ORDER BY num_orders DESC\"\"\"\n",
    "\n",
    "#df = pd.read_sql_query(\"\"\"SELECT o.ID, c.CompanyName, Count(*) num_orders FROM [Order] \\\n",
    "#o INNER JOIN Customer c on o.CustomerID = c.ID GROUP BY c.CompanyName ORDER BY num_orders DESC\"\"\", engine)\n",
    "#df.head()"
   ]
  },
  {
   "cell_type": "code",
   "execution_count": null,
   "metadata": {},
   "outputs": [],
   "source": []
  },
  {
   "cell_type": "code",
   "execution_count": null,
   "metadata": {},
   "outputs": [],
   "source": []
  },
  {
   "cell_type": "code",
   "execution_count": null,
   "metadata": {},
   "outputs": [],
   "source": []
  },
  {
   "cell_type": "code",
   "execution_count": null,
   "metadata": {},
   "outputs": [],
   "source": []
  },
  {
   "cell_type": "code",
   "execution_count": null,
   "metadata": {},
   "outputs": [],
   "source": []
  },
  {
   "cell_type": "code",
   "execution_count": null,
   "metadata": {},
   "outputs": [],
   "source": []
  },
  {
   "cell_type": "code",
   "execution_count": null,
   "metadata": {},
   "outputs": [],
   "source": []
  },
  {
   "cell_type": "code",
   "execution_count": null,
   "metadata": {},
   "outputs": [],
   "source": []
  },
  {
   "cell_type": "code",
   "execution_count": null,
   "metadata": {},
   "outputs": [],
   "source": []
  },
  {
   "cell_type": "code",
   "execution_count": 57,
   "metadata": {},
   "outputs": [],
   "source": []
  }
 ],
 "metadata": {
  "kernelspec": {
   "display_name": "learn-env",
   "language": "python",
   "name": "learn-env"
  },
  "language_info": {
   "codemirror_mode": {
    "name": "ipython",
    "version": 3
   },
   "file_extension": ".py",
   "mimetype": "text/x-python",
   "name": "python",
   "nbconvert_exporter": "python",
   "pygments_lexer": "ipython3",
   "version": "3.7.0"
  }
 },
 "nbformat": 4,
 "nbformat_minor": 2
}
