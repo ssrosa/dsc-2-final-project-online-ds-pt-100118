{
 "cells": [
  {
   "cell_type": "markdown",
   "metadata": {},
   "source": [
    "# Final Project Submission\n",
    "Please fill out:\n",
    "\n",
    "-  Student name: Steven Rosa\n",
    "-  Student pace: part time\n",
    "-  Scheduled project review date/time: Mon 4 Feb 2019 2pm EST\n",
    "-  Instructor name: Jeff Herman\n",
    "-  Blog post URL:"
   ]
  },
  {
   "cell_type": "markdown",
   "metadata": {},
   "source": [
    "# Northwind Data Analysis"
   ]
  },
  {
   "cell_type": "code",
   "execution_count": 1,
   "metadata": {},
   "outputs": [],
   "source": [
    "#Import libraries\n",
    "import sqlalchemy #ORM\n",
    "from sqlalchemy import create_engine #To connect to the database\n",
    "from sqlalchemy.orm import Session, sessionmaker #To interact with the database as object\n",
    "from sqlalchemy import inspect #To look at tables and column names\n",
    "from sqlalchemy import MetaData #to reflect the engine object \n",
    "from sqlalchemy.ext.automap import automap_base # to create mappings from the reflection\n",
    "import pandas as pd #To read in parts of the database as DataFrames"
   ]
  },
  {
   "cell_type": "code",
   "execution_count": null,
   "metadata": {},
   "outputs": [],
   "source": []
  },
  {
   "cell_type": "code",
   "execution_count": null,
   "metadata": {},
   "outputs": [],
   "source": [
    "#Write functions"
   ]
  },
  {
   "cell_type": "code",
   "execution_count": 2,
   "metadata": {},
   "outputs": [],
   "source": [
    "#Instantiate a session of the ORM\n",
    "#Connect to the sqlite database file\n",
    "engine = create_engine('sqlite:///Northwind_small.sqlite', echo = True)\n",
    "#Bind a session object to the engine\n",
    "Session = sessionmaker(bind=engine)\n",
    "#Instantiate the session\n",
    "session = Session()"
   ]
  },
  {
   "cell_type": "code",
   "execution_count": 3,
   "metadata": {},
   "outputs": [
    {
     "name": "stdout",
     "output_type": "stream",
     "text": [
      "2019-01-26 15:46:31,643 INFO sqlalchemy.engine.base.Engine SELECT CAST('test plain returns' AS VARCHAR(60)) AS anon_1\n",
      "2019-01-26 15:46:31,645 INFO sqlalchemy.engine.base.Engine ()\n",
      "2019-01-26 15:46:31,647 INFO sqlalchemy.engine.base.Engine SELECT CAST('test unicode returns' AS VARCHAR(60)) AS anon_1\n",
      "2019-01-26 15:46:31,648 INFO sqlalchemy.engine.base.Engine ()\n"
     ]
    }
   ],
   "source": [
    "#An object to get a first look at the database\n",
    "inspector = inspect(engine)"
   ]
  },
  {
   "cell_type": "code",
   "execution_count": 4,
   "metadata": {},
   "outputs": [
    {
     "name": "stdout",
     "output_type": "stream",
     "text": [
      "2019-01-26 15:46:37,977 INFO sqlalchemy.engine.base.Engine SELECT name FROM sqlite_master WHERE type='table' ORDER BY name\n",
      "2019-01-26 15:46:37,979 INFO sqlalchemy.engine.base.Engine ()\n"
     ]
    }
   ],
   "source": [
    "table_names = inspector.get_table_names()"
   ]
  },
  {
   "cell_type": "code",
   "execution_count": 5,
   "metadata": {},
   "outputs": [
    {
     "name": "stdout",
     "output_type": "stream",
     "text": [
      "2019-01-26 15:46:39,348 INFO sqlalchemy.engine.base.Engine PRAGMA table_info(\"Category\")\n",
      "2019-01-26 15:46:39,349 INFO sqlalchemy.engine.base.Engine ()\n",
      "[{'name': 'Id', 'type': INTEGER(), 'nullable': True, 'default': None, 'autoincrement': 'auto', 'primary_key': 1}, {'name': 'CategoryName', 'type': VARCHAR(length=8000), 'nullable': True, 'default': None, 'autoincrement': 'auto', 'primary_key': 0}, {'name': 'Description', 'type': VARCHAR(length=8000), 'nullable': True, 'default': None, 'autoincrement': 'auto', 'primary_key': 0}]\n"
     ]
    }
   ],
   "source": [
    "print(inspector.get_columns('Category'))"
   ]
  },
  {
   "cell_type": "code",
   "execution_count": 6,
   "metadata": {},
   "outputs": [
    {
     "name": "stdout",
     "output_type": "stream",
     "text": [
      "2019-01-26 15:47:06,474 INFO sqlalchemy.engine.base.Engine SELECT *\n",
      "                            FROM Category\n",
      "                        ;\n",
      "2019-01-26 15:47:06,475 INFO sqlalchemy.engine.base.Engine ()\n",
      "[(1, 'Beverages', 'Soft drinks, coffees, teas, beers, and ales'), (2, 'Condiments', 'Sweet and savory sauces, relishes, spreads, and seasonings'), (3, 'Confections', 'Desserts, candies, and sweet breads'), (4, 'Dairy Products', 'Cheeses'), (5, 'Grains/Cereals', 'Breads, crackers, pasta, and cereal'), (6, 'Meat/Poultry', 'Prepared meats'), (7, 'Produce', 'Dried fruit and bean curd'), (8, 'Seafood', 'Seaweed and fish')]\n"
     ]
    }
   ],
   "source": [
    "#Pull raw results from the database\n",
    "conn = engine.connect()\n",
    "results = conn.execute('''SELECT *\n",
    "                            FROM Category\n",
    "                        ;''')\n",
    "print(results.fetchall())"
   ]
  },
  {
   "cell_type": "code",
   "execution_count": 7,
   "metadata": {},
   "outputs": [
    {
     "name": "stdout",
     "output_type": "stream",
     "text": [
      "2019-01-26 15:47:11,653 INFO sqlalchemy.engine.base.Engine SELECT *\n",
      "                            FROM Category\n",
      "                        ;\n",
      "2019-01-26 15:47:11,654 INFO sqlalchemy.engine.base.Engine ()\n"
     ]
    },
    {
     "data": {
      "text/html": [
       "<div>\n",
       "<style scoped>\n",
       "    .dataframe tbody tr th:only-of-type {\n",
       "        vertical-align: middle;\n",
       "    }\n",
       "\n",
       "    .dataframe tbody tr th {\n",
       "        vertical-align: top;\n",
       "    }\n",
       "\n",
       "    .dataframe thead th {\n",
       "        text-align: right;\n",
       "    }\n",
       "</style>\n",
       "<table border=\"1\" class=\"dataframe\">\n",
       "  <thead>\n",
       "    <tr style=\"text-align: right;\">\n",
       "      <th></th>\n",
       "      <th>0</th>\n",
       "      <th>1</th>\n",
       "      <th>2</th>\n",
       "    </tr>\n",
       "  </thead>\n",
       "  <tbody>\n",
       "    <tr>\n",
       "      <th>0</th>\n",
       "      <td>1</td>\n",
       "      <td>Beverages</td>\n",
       "      <td>Soft drinks, coffees, teas, beers, and ales</td>\n",
       "    </tr>\n",
       "    <tr>\n",
       "      <th>1</th>\n",
       "      <td>2</td>\n",
       "      <td>Condiments</td>\n",
       "      <td>Sweet and savory sauces, relishes, spreads, an...</td>\n",
       "    </tr>\n",
       "    <tr>\n",
       "      <th>2</th>\n",
       "      <td>3</td>\n",
       "      <td>Confections</td>\n",
       "      <td>Desserts, candies, and sweet breads</td>\n",
       "    </tr>\n",
       "    <tr>\n",
       "      <th>3</th>\n",
       "      <td>4</td>\n",
       "      <td>Dairy Products</td>\n",
       "      <td>Cheeses</td>\n",
       "    </tr>\n",
       "    <tr>\n",
       "      <th>4</th>\n",
       "      <td>5</td>\n",
       "      <td>Grains/Cereals</td>\n",
       "      <td>Breads, crackers, pasta, and cereal</td>\n",
       "    </tr>\n",
       "  </tbody>\n",
       "</table>\n",
       "</div>"
      ],
      "text/plain": [
       "   0               1                                                  2\n",
       "0  1       Beverages        Soft drinks, coffees, teas, beers, and ales\n",
       "1  2      Condiments  Sweet and savory sauces, relishes, spreads, an...\n",
       "2  3     Confections                Desserts, candies, and sweet breads\n",
       "3  4  Dairy Products                                            Cheeses\n",
       "4  5  Grains/Cereals                Breads, crackers, pasta, and cereal"
      ]
     },
     "execution_count": 7,
     "metadata": {},
     "output_type": "execute_result"
    }
   ],
   "source": [
    "results = conn.execute('''SELECT *\n",
    "                            FROM Category\n",
    "                        ;''')\n",
    "df = pd.DataFrame(results.fetchall())\n",
    "df.head()"
   ]
  },
  {
   "cell_type": "code",
   "execution_count": 8,
   "metadata": {},
   "outputs": [
    {
     "name": "stdout",
     "output_type": "stream",
     "text": [
      "2019-01-26 15:47:16,951 INFO sqlalchemy.engine.base.Engine SELECT * \n",
      "                           FROM Category\n",
      "                       ;\n",
      "2019-01-26 15:47:16,952 INFO sqlalchemy.engine.base.Engine ()\n"
     ]
    },
    {
     "data": {
      "text/html": [
       "<div>\n",
       "<style scoped>\n",
       "    .dataframe tbody tr th:only-of-type {\n",
       "        vertical-align: middle;\n",
       "    }\n",
       "\n",
       "    .dataframe tbody tr th {\n",
       "        vertical-align: top;\n",
       "    }\n",
       "\n",
       "    .dataframe thead th {\n",
       "        text-align: right;\n",
       "    }\n",
       "</style>\n",
       "<table border=\"1\" class=\"dataframe\">\n",
       "  <thead>\n",
       "    <tr style=\"text-align: right;\">\n",
       "      <th></th>\n",
       "      <th>Id</th>\n",
       "      <th>CategoryName</th>\n",
       "      <th>Description</th>\n",
       "    </tr>\n",
       "  </thead>\n",
       "  <tbody>\n",
       "    <tr>\n",
       "      <th>0</th>\n",
       "      <td>1</td>\n",
       "      <td>Beverages</td>\n",
       "      <td>Soft drinks, coffees, teas, beers, and ales</td>\n",
       "    </tr>\n",
       "    <tr>\n",
       "      <th>1</th>\n",
       "      <td>2</td>\n",
       "      <td>Condiments</td>\n",
       "      <td>Sweet and savory sauces, relishes, spreads, an...</td>\n",
       "    </tr>\n",
       "    <tr>\n",
       "      <th>2</th>\n",
       "      <td>3</td>\n",
       "      <td>Confections</td>\n",
       "      <td>Desserts, candies, and sweet breads</td>\n",
       "    </tr>\n",
       "    <tr>\n",
       "      <th>3</th>\n",
       "      <td>4</td>\n",
       "      <td>Dairy Products</td>\n",
       "      <td>Cheeses</td>\n",
       "    </tr>\n",
       "    <tr>\n",
       "      <th>4</th>\n",
       "      <td>5</td>\n",
       "      <td>Grains/Cereals</td>\n",
       "      <td>Breads, crackers, pasta, and cereal</td>\n",
       "    </tr>\n",
       "  </tbody>\n",
       "</table>\n",
       "</div>"
      ],
      "text/plain": [
       "   Id    CategoryName                                        Description\n",
       "0   1       Beverages        Soft drinks, coffees, teas, beers, and ales\n",
       "1   2      Condiments  Sweet and savory sauces, relishes, spreads, an...\n",
       "2   3     Confections                Desserts, candies, and sweet breads\n",
       "3   4  Dairy Products                                            Cheeses\n",
       "4   5  Grains/Cereals                Breads, crackers, pasta, and cereal"
      ]
     },
     "execution_count": 8,
     "metadata": {},
     "output_type": "execute_result"
    }
   ],
   "source": [
    "df = pd.read_sql_query('''SELECT * \n",
    "                           FROM Category\n",
    "                       ;''', engine)\n",
    "df.head()"
   ]
  },
  {
   "cell_type": "code",
   "execution_count": 3,
   "metadata": {},
   "outputs": [
    {
     "name": "stdout",
     "output_type": "stream",
     "text": [
      "2019-01-27 15:00:19,601 INFO sqlalchemy.engine.base.Engine SELECT CAST('test plain returns' AS VARCHAR(60)) AS anon_1\n",
      "2019-01-27 15:00:19,602 INFO sqlalchemy.engine.base.Engine ()\n",
      "2019-01-27 15:00:19,603 INFO sqlalchemy.engine.base.Engine SELECT CAST('test unicode returns' AS VARCHAR(60)) AS anon_1\n",
      "2019-01-27 15:00:19,604 INFO sqlalchemy.engine.base.Engine ()\n",
      "2019-01-27 15:00:19,605 INFO sqlalchemy.engine.base.Engine SELECT name FROM sqlite_master WHERE type='table' ORDER BY name\n",
      "2019-01-27 15:00:19,606 INFO sqlalchemy.engine.base.Engine ()\n",
      "2019-01-27 15:00:19,610 INFO sqlalchemy.engine.base.Engine PRAGMA table_info(\"Category\")\n",
      "2019-01-27 15:00:19,611 INFO sqlalchemy.engine.base.Engine ()\n",
      "2019-01-27 15:00:19,613 INFO sqlalchemy.engine.base.Engine SELECT sql FROM  (SELECT * FROM sqlite_master UNION ALL   SELECT * FROM sqlite_temp_master) WHERE name = 'Category' AND type = 'table'\n",
      "2019-01-27 15:00:19,614 INFO sqlalchemy.engine.base.Engine ()\n",
      "2019-01-27 15:00:19,615 INFO sqlalchemy.engine.base.Engine PRAGMA foreign_key_list(\"Category\")\n",
      "2019-01-27 15:00:19,616 INFO sqlalchemy.engine.base.Engine ()\n",
      "2019-01-27 15:00:19,617 INFO sqlalchemy.engine.base.Engine SELECT sql FROM  (SELECT * FROM sqlite_master UNION ALL   SELECT * FROM sqlite_temp_master) WHERE name = 'Category' AND type = 'table'\n",
      "2019-01-27 15:00:19,619 INFO sqlalchemy.engine.base.Engine ()\n",
      "2019-01-27 15:00:19,622 INFO sqlalchemy.engine.base.Engine PRAGMA index_list(\"Category\")\n",
      "2019-01-27 15:00:19,623 INFO sqlalchemy.engine.base.Engine ()\n",
      "2019-01-27 15:00:19,624 INFO sqlalchemy.engine.base.Engine PRAGMA index_list(\"Category\")\n",
      "2019-01-27 15:00:19,625 INFO sqlalchemy.engine.base.Engine ()\n",
      "2019-01-27 15:00:19,627 INFO sqlalchemy.engine.base.Engine SELECT sql FROM  (SELECT * FROM sqlite_master UNION ALL   SELECT * FROM sqlite_temp_master) WHERE name = 'Category' AND type = 'table'\n",
      "2019-01-27 15:00:19,628 INFO sqlalchemy.engine.base.Engine ()\n",
      "2019-01-27 15:00:19,632 INFO sqlalchemy.engine.base.Engine PRAGMA table_info(\"Customer\")\n",
      "2019-01-27 15:00:19,632 INFO sqlalchemy.engine.base.Engine ()\n",
      "2019-01-27 15:00:19,634 INFO sqlalchemy.engine.base.Engine SELECT sql FROM  (SELECT * FROM sqlite_master UNION ALL   SELECT * FROM sqlite_temp_master) WHERE name = 'Customer' AND type = 'table'\n",
      "2019-01-27 15:00:19,635 INFO sqlalchemy.engine.base.Engine ()\n",
      "2019-01-27 15:00:19,636 INFO sqlalchemy.engine.base.Engine PRAGMA foreign_key_list(\"Customer\")\n",
      "2019-01-27 15:00:19,637 INFO sqlalchemy.engine.base.Engine ()\n",
      "2019-01-27 15:00:19,638 INFO sqlalchemy.engine.base.Engine SELECT sql FROM  (SELECT * FROM sqlite_master UNION ALL   SELECT * FROM sqlite_temp_master) WHERE name = 'Customer' AND type = 'table'\n",
      "2019-01-27 15:00:19,639 INFO sqlalchemy.engine.base.Engine ()\n",
      "2019-01-27 15:00:19,640 INFO sqlalchemy.engine.base.Engine PRAGMA index_list(\"Customer\")\n",
      "2019-01-27 15:00:19,640 INFO sqlalchemy.engine.base.Engine ()\n",
      "2019-01-27 15:00:19,643 INFO sqlalchemy.engine.base.Engine PRAGMA index_list(\"Customer\")\n",
      "2019-01-27 15:00:19,644 INFO sqlalchemy.engine.base.Engine ()\n",
      "2019-01-27 15:00:19,645 INFO sqlalchemy.engine.base.Engine PRAGMA index_info(\"sqlite_autoindex_Customer_1\")\n",
      "2019-01-27 15:00:19,646 INFO sqlalchemy.engine.base.Engine ()\n",
      "2019-01-27 15:00:19,647 INFO sqlalchemy.engine.base.Engine SELECT sql FROM  (SELECT * FROM sqlite_master UNION ALL   SELECT * FROM sqlite_temp_master) WHERE name = 'Customer' AND type = 'table'\n",
      "2019-01-27 15:00:19,647 INFO sqlalchemy.engine.base.Engine ()\n",
      "2019-01-27 15:00:19,648 INFO sqlalchemy.engine.base.Engine PRAGMA table_info(\"CustomerCustomerDemo\")\n",
      "2019-01-27 15:00:19,649 INFO sqlalchemy.engine.base.Engine ()\n",
      "2019-01-27 15:00:19,651 INFO sqlalchemy.engine.base.Engine SELECT sql FROM  (SELECT * FROM sqlite_master UNION ALL   SELECT * FROM sqlite_temp_master) WHERE name = 'CustomerCustomerDemo' AND type = 'table'\n",
      "2019-01-27 15:00:19,652 INFO sqlalchemy.engine.base.Engine ()\n",
      "2019-01-27 15:00:19,653 INFO sqlalchemy.engine.base.Engine PRAGMA foreign_key_list(\"CustomerCustomerDemo\")\n",
      "2019-01-27 15:00:19,654 INFO sqlalchemy.engine.base.Engine ()\n",
      "2019-01-27 15:00:19,655 INFO sqlalchemy.engine.base.Engine SELECT sql FROM  (SELECT * FROM sqlite_master UNION ALL   SELECT * FROM sqlite_temp_master) WHERE name = 'CustomerCustomerDemo' AND type = 'table'\n",
      "2019-01-27 15:00:19,656 INFO sqlalchemy.engine.base.Engine ()\n",
      "2019-01-27 15:00:19,657 INFO sqlalchemy.engine.base.Engine PRAGMA index_list(\"CustomerCustomerDemo\")\n",
      "2019-01-27 15:00:19,657 INFO sqlalchemy.engine.base.Engine ()\n",
      "2019-01-27 15:00:19,658 INFO sqlalchemy.engine.base.Engine PRAGMA index_list(\"CustomerCustomerDemo\")\n",
      "2019-01-27 15:00:19,659 INFO sqlalchemy.engine.base.Engine ()\n",
      "2019-01-27 15:00:19,660 INFO sqlalchemy.engine.base.Engine PRAGMA index_info(\"sqlite_autoindex_CustomerCustomerDemo_1\")\n",
      "2019-01-27 15:00:19,661 INFO sqlalchemy.engine.base.Engine ()\n",
      "2019-01-27 15:00:19,663 INFO sqlalchemy.engine.base.Engine SELECT sql FROM  (SELECT * FROM sqlite_master UNION ALL   SELECT * FROM sqlite_temp_master) WHERE name = 'CustomerCustomerDemo' AND type = 'table'\n",
      "2019-01-27 15:00:19,663 INFO sqlalchemy.engine.base.Engine ()\n",
      "2019-01-27 15:00:19,665 INFO sqlalchemy.engine.base.Engine PRAGMA table_info(\"CustomerDemographic\")\n",
      "2019-01-27 15:00:19,665 INFO sqlalchemy.engine.base.Engine ()\n",
      "2019-01-27 15:00:19,667 INFO sqlalchemy.engine.base.Engine SELECT sql FROM  (SELECT * FROM sqlite_master UNION ALL   SELECT * FROM sqlite_temp_master) WHERE name = 'CustomerDemographic' AND type = 'table'\n",
      "2019-01-27 15:00:19,667 INFO sqlalchemy.engine.base.Engine ()\n",
      "2019-01-27 15:00:19,668 INFO sqlalchemy.engine.base.Engine PRAGMA foreign_key_list(\"CustomerDemographic\")\n",
      "2019-01-27 15:00:19,669 INFO sqlalchemy.engine.base.Engine ()\n",
      "2019-01-27 15:00:19,670 INFO sqlalchemy.engine.base.Engine SELECT sql FROM  (SELECT * FROM sqlite_master UNION ALL   SELECT * FROM sqlite_temp_master) WHERE name = 'CustomerDemographic' AND type = 'table'\n",
      "2019-01-27 15:00:19,670 INFO sqlalchemy.engine.base.Engine ()\n",
      "2019-01-27 15:00:19,671 INFO sqlalchemy.engine.base.Engine PRAGMA index_list(\"CustomerDemographic\")\n",
      "2019-01-27 15:00:19,672 INFO sqlalchemy.engine.base.Engine ()\n",
      "2019-01-27 15:00:19,673 INFO sqlalchemy.engine.base.Engine PRAGMA index_list(\"CustomerDemographic\")\n",
      "2019-01-27 15:00:19,694 INFO sqlalchemy.engine.base.Engine ()\n",
      "2019-01-27 15:00:19,696 INFO sqlalchemy.engine.base.Engine PRAGMA index_info(\"sqlite_autoindex_CustomerDemographic_1\")\n",
      "2019-01-27 15:00:19,698 INFO sqlalchemy.engine.base.Engine ()\n",
      "2019-01-27 15:00:19,700 INFO sqlalchemy.engine.base.Engine SELECT sql FROM  (SELECT * FROM sqlite_master UNION ALL   SELECT * FROM sqlite_temp_master) WHERE name = 'CustomerDemographic' AND type = 'table'\n",
      "2019-01-27 15:00:19,702 INFO sqlalchemy.engine.base.Engine ()\n",
      "2019-01-27 15:00:19,706 INFO sqlalchemy.engine.base.Engine PRAGMA table_info(\"Employee\")\n",
      "2019-01-27 15:00:19,708 INFO sqlalchemy.engine.base.Engine ()\n",
      "2019-01-27 15:00:19,713 INFO sqlalchemy.engine.base.Engine SELECT sql FROM  (SELECT * FROM sqlite_master UNION ALL   SELECT * FROM sqlite_temp_master) WHERE name = 'Employee' AND type = 'table'\n",
      "2019-01-27 15:00:19,715 INFO sqlalchemy.engine.base.Engine ()\n",
      "2019-01-27 15:00:19,718 INFO sqlalchemy.engine.base.Engine PRAGMA foreign_key_list(\"Employee\")\n",
      "2019-01-27 15:00:19,721 INFO sqlalchemy.engine.base.Engine ()\n",
      "2019-01-27 15:00:19,722 INFO sqlalchemy.engine.base.Engine SELECT sql FROM  (SELECT * FROM sqlite_master UNION ALL   SELECT * FROM sqlite_temp_master) WHERE name = 'Employee' AND type = 'table'\n",
      "2019-01-27 15:00:19,724 INFO sqlalchemy.engine.base.Engine ()\n",
      "2019-01-27 15:00:19,726 INFO sqlalchemy.engine.base.Engine PRAGMA index_list(\"Employee\")\n",
      "2019-01-27 15:00:19,727 INFO sqlalchemy.engine.base.Engine ()\n",
      "2019-01-27 15:00:19,729 INFO sqlalchemy.engine.base.Engine PRAGMA index_list(\"Employee\")\n",
      "2019-01-27 15:00:19,731 INFO sqlalchemy.engine.base.Engine ()\n",
      "2019-01-27 15:00:19,733 INFO sqlalchemy.engine.base.Engine SELECT sql FROM  (SELECT * FROM sqlite_master UNION ALL   SELECT * FROM sqlite_temp_master) WHERE name = 'Employee' AND type = 'table'\n",
      "2019-01-27 15:00:19,736 INFO sqlalchemy.engine.base.Engine ()\n",
      "2019-01-27 15:00:19,739 INFO sqlalchemy.engine.base.Engine PRAGMA table_info(\"EmployeeTerritory\")\n"
     ]
    },
    {
     "name": "stdout",
     "output_type": "stream",
     "text": [
      "2019-01-27 15:00:19,740 INFO sqlalchemy.engine.base.Engine ()\n",
      "2019-01-27 15:00:19,742 INFO sqlalchemy.engine.base.Engine SELECT sql FROM  (SELECT * FROM sqlite_master UNION ALL   SELECT * FROM sqlite_temp_master) WHERE name = 'EmployeeTerritory' AND type = 'table'\n",
      "2019-01-27 15:00:19,743 INFO sqlalchemy.engine.base.Engine ()\n",
      "2019-01-27 15:00:19,744 INFO sqlalchemy.engine.base.Engine PRAGMA foreign_key_list(\"EmployeeTerritory\")\n",
      "2019-01-27 15:00:19,745 INFO sqlalchemy.engine.base.Engine ()\n",
      "2019-01-27 15:00:19,746 INFO sqlalchemy.engine.base.Engine SELECT sql FROM  (SELECT * FROM sqlite_master UNION ALL   SELECT * FROM sqlite_temp_master) WHERE name = 'EmployeeTerritory' AND type = 'table'\n",
      "2019-01-27 15:00:19,746 INFO sqlalchemy.engine.base.Engine ()\n",
      "2019-01-27 15:00:19,747 INFO sqlalchemy.engine.base.Engine PRAGMA index_list(\"EmployeeTerritory\")\n",
      "2019-01-27 15:00:19,748 INFO sqlalchemy.engine.base.Engine ()\n",
      "2019-01-27 15:00:19,753 INFO sqlalchemy.engine.base.Engine PRAGMA index_list(\"EmployeeTerritory\")\n",
      "2019-01-27 15:00:19,754 INFO sqlalchemy.engine.base.Engine ()\n",
      "2019-01-27 15:00:19,755 INFO sqlalchemy.engine.base.Engine PRAGMA index_info(\"sqlite_autoindex_EmployeeTerritory_1\")\n",
      "2019-01-27 15:00:19,757 INFO sqlalchemy.engine.base.Engine ()\n",
      "2019-01-27 15:00:19,759 INFO sqlalchemy.engine.base.Engine SELECT sql FROM  (SELECT * FROM sqlite_master UNION ALL   SELECT * FROM sqlite_temp_master) WHERE name = 'EmployeeTerritory' AND type = 'table'\n",
      "2019-01-27 15:00:19,759 INFO sqlalchemy.engine.base.Engine ()\n",
      "2019-01-27 15:00:19,761 INFO sqlalchemy.engine.base.Engine PRAGMA table_info(\"Order\")\n",
      "2019-01-27 15:00:19,761 INFO sqlalchemy.engine.base.Engine ()\n",
      "2019-01-27 15:00:19,765 INFO sqlalchemy.engine.base.Engine SELECT sql FROM  (SELECT * FROM sqlite_master UNION ALL   SELECT * FROM sqlite_temp_master) WHERE name = 'Order' AND type = 'table'\n",
      "2019-01-27 15:00:19,765 INFO sqlalchemy.engine.base.Engine ()\n",
      "2019-01-27 15:00:19,767 INFO sqlalchemy.engine.base.Engine PRAGMA foreign_key_list(\"Order\")\n",
      "2019-01-27 15:00:19,767 INFO sqlalchemy.engine.base.Engine ()\n",
      "2019-01-27 15:00:19,769 INFO sqlalchemy.engine.base.Engine SELECT sql FROM  (SELECT * FROM sqlite_master UNION ALL   SELECT * FROM sqlite_temp_master) WHERE name = 'Order' AND type = 'table'\n",
      "2019-01-27 15:00:19,769 INFO sqlalchemy.engine.base.Engine ()\n",
      "2019-01-27 15:00:19,770 INFO sqlalchemy.engine.base.Engine PRAGMA index_list(\"Order\")\n",
      "2019-01-27 15:00:19,771 INFO sqlalchemy.engine.base.Engine ()\n",
      "2019-01-27 15:00:19,772 INFO sqlalchemy.engine.base.Engine PRAGMA index_list(\"Order\")\n",
      "2019-01-27 15:00:19,772 INFO sqlalchemy.engine.base.Engine ()\n",
      "2019-01-27 15:00:19,773 INFO sqlalchemy.engine.base.Engine SELECT sql FROM  (SELECT * FROM sqlite_master UNION ALL   SELECT * FROM sqlite_temp_master) WHERE name = 'Order' AND type = 'table'\n",
      "2019-01-27 15:00:19,774 INFO sqlalchemy.engine.base.Engine ()\n",
      "2019-01-27 15:00:19,775 INFO sqlalchemy.engine.base.Engine PRAGMA table_info(\"OrderDetail\")\n",
      "2019-01-27 15:00:19,776 INFO sqlalchemy.engine.base.Engine ()\n",
      "2019-01-27 15:00:19,778 INFO sqlalchemy.engine.base.Engine SELECT sql FROM  (SELECT * FROM sqlite_master UNION ALL   SELECT * FROM sqlite_temp_master) WHERE name = 'OrderDetail' AND type = 'table'\n",
      "2019-01-27 15:00:19,779 INFO sqlalchemy.engine.base.Engine ()\n",
      "2019-01-27 15:00:19,780 INFO sqlalchemy.engine.base.Engine PRAGMA foreign_key_list(\"OrderDetail\")\n",
      "2019-01-27 15:00:19,781 INFO sqlalchemy.engine.base.Engine ()\n",
      "2019-01-27 15:00:19,782 INFO sqlalchemy.engine.base.Engine SELECT sql FROM  (SELECT * FROM sqlite_master UNION ALL   SELECT * FROM sqlite_temp_master) WHERE name = 'OrderDetail' AND type = 'table'\n",
      "2019-01-27 15:00:19,783 INFO sqlalchemy.engine.base.Engine ()\n",
      "2019-01-27 15:00:19,784 INFO sqlalchemy.engine.base.Engine PRAGMA index_list(\"OrderDetail\")\n",
      "2019-01-27 15:00:19,784 INFO sqlalchemy.engine.base.Engine ()\n",
      "2019-01-27 15:00:19,785 INFO sqlalchemy.engine.base.Engine PRAGMA index_list(\"OrderDetail\")\n",
      "2019-01-27 15:00:19,786 INFO sqlalchemy.engine.base.Engine ()\n",
      "2019-01-27 15:00:19,787 INFO sqlalchemy.engine.base.Engine PRAGMA index_info(\"sqlite_autoindex_OrderDetail_1\")\n",
      "2019-01-27 15:00:19,787 INFO sqlalchemy.engine.base.Engine ()\n",
      "2019-01-27 15:00:19,788 INFO sqlalchemy.engine.base.Engine SELECT sql FROM  (SELECT * FROM sqlite_master UNION ALL   SELECT * FROM sqlite_temp_master) WHERE name = 'OrderDetail' AND type = 'table'\n",
      "2019-01-27 15:00:19,789 INFO sqlalchemy.engine.base.Engine ()\n",
      "2019-01-27 15:00:19,790 INFO sqlalchemy.engine.base.Engine PRAGMA table_info(\"Product\")\n",
      "2019-01-27 15:00:19,790 INFO sqlalchemy.engine.base.Engine ()\n",
      "2019-01-27 15:00:19,792 INFO sqlalchemy.engine.base.Engine SELECT sql FROM  (SELECT * FROM sqlite_master UNION ALL   SELECT * FROM sqlite_temp_master) WHERE name = 'Product' AND type = 'table'\n",
      "2019-01-27 15:00:19,793 INFO sqlalchemy.engine.base.Engine ()\n",
      "2019-01-27 15:00:19,795 INFO sqlalchemy.engine.base.Engine PRAGMA foreign_key_list(\"Product\")\n",
      "2019-01-27 15:00:19,795 INFO sqlalchemy.engine.base.Engine ()\n",
      "2019-01-27 15:00:19,796 INFO sqlalchemy.engine.base.Engine SELECT sql FROM  (SELECT * FROM sqlite_master UNION ALL   SELECT * FROM sqlite_temp_master) WHERE name = 'Product' AND type = 'table'\n",
      "2019-01-27 15:00:19,797 INFO sqlalchemy.engine.base.Engine ()\n",
      "2019-01-27 15:00:19,798 INFO sqlalchemy.engine.base.Engine PRAGMA index_list(\"Product\")\n",
      "2019-01-27 15:00:19,799 INFO sqlalchemy.engine.base.Engine ()\n",
      "2019-01-27 15:00:19,800 INFO sqlalchemy.engine.base.Engine PRAGMA index_list(\"Product\")\n",
      "2019-01-27 15:00:19,800 INFO sqlalchemy.engine.base.Engine ()\n",
      "2019-01-27 15:00:19,801 INFO sqlalchemy.engine.base.Engine SELECT sql FROM  (SELECT * FROM sqlite_master UNION ALL   SELECT * FROM sqlite_temp_master) WHERE name = 'Product' AND type = 'table'\n",
      "2019-01-27 15:00:19,802 INFO sqlalchemy.engine.base.Engine ()\n",
      "2019-01-27 15:00:19,804 INFO sqlalchemy.engine.base.Engine PRAGMA table_info(\"Region\")\n",
      "2019-01-27 15:00:19,805 INFO sqlalchemy.engine.base.Engine ()\n",
      "2019-01-27 15:00:19,806 INFO sqlalchemy.engine.base.Engine SELECT sql FROM  (SELECT * FROM sqlite_master UNION ALL   SELECT * FROM sqlite_temp_master) WHERE name = 'Region' AND type = 'table'\n",
      "2019-01-27 15:00:19,807 INFO sqlalchemy.engine.base.Engine ()\n",
      "2019-01-27 15:00:19,808 INFO sqlalchemy.engine.base.Engine PRAGMA foreign_key_list(\"Region\")\n",
      "2019-01-27 15:00:19,808 INFO sqlalchemy.engine.base.Engine ()\n",
      "2019-01-27 15:00:19,809 INFO sqlalchemy.engine.base.Engine SELECT sql FROM  (SELECT * FROM sqlite_master UNION ALL   SELECT * FROM sqlite_temp_master) WHERE name = 'Region' AND type = 'table'\n",
      "2019-01-27 15:00:19,810 INFO sqlalchemy.engine.base.Engine ()\n",
      "2019-01-27 15:00:19,811 INFO sqlalchemy.engine.base.Engine PRAGMA index_list(\"Region\")\n",
      "2019-01-27 15:00:19,812 INFO sqlalchemy.engine.base.Engine ()\n",
      "2019-01-27 15:00:19,825 INFO sqlalchemy.engine.base.Engine PRAGMA index_list(\"Region\")\n",
      "2019-01-27 15:00:19,831 INFO sqlalchemy.engine.base.Engine ()\n",
      "2019-01-27 15:00:19,834 INFO sqlalchemy.engine.base.Engine SELECT sql FROM  (SELECT * FROM sqlite_master UNION ALL   SELECT * FROM sqlite_temp_master) WHERE name = 'Region' AND type = 'table'\n",
      "2019-01-27 15:00:19,835 INFO sqlalchemy.engine.base.Engine ()\n",
      "2019-01-27 15:00:19,837 INFO sqlalchemy.engine.base.Engine PRAGMA table_info(\"Shipper\")\n",
      "2019-01-27 15:00:19,839 INFO sqlalchemy.engine.base.Engine ()\n",
      "2019-01-27 15:00:19,841 INFO sqlalchemy.engine.base.Engine SELECT sql FROM  (SELECT * FROM sqlite_master UNION ALL   SELECT * FROM sqlite_temp_master) WHERE name = 'Shipper' AND type = 'table'\n",
      "2019-01-27 15:00:19,843 INFO sqlalchemy.engine.base.Engine ()\n",
      "2019-01-27 15:00:19,844 INFO sqlalchemy.engine.base.Engine PRAGMA foreign_key_list(\"Shipper\")\n",
      "2019-01-27 15:00:19,845 INFO sqlalchemy.engine.base.Engine ()\n",
      "2019-01-27 15:00:19,846 INFO sqlalchemy.engine.base.Engine SELECT sql FROM  (SELECT * FROM sqlite_master UNION ALL   SELECT * FROM sqlite_temp_master) WHERE name = 'Shipper' AND type = 'table'\n",
      "2019-01-27 15:00:19,847 INFO sqlalchemy.engine.base.Engine ()\n",
      "2019-01-27 15:00:19,848 INFO sqlalchemy.engine.base.Engine PRAGMA index_list(\"Shipper\")\n",
      "2019-01-27 15:00:19,848 INFO sqlalchemy.engine.base.Engine ()\n",
      "2019-01-27 15:00:19,853 INFO sqlalchemy.engine.base.Engine PRAGMA index_list(\"Shipper\")\n"
     ]
    },
    {
     "name": "stdout",
     "output_type": "stream",
     "text": [
      "2019-01-27 15:00:19,854 INFO sqlalchemy.engine.base.Engine ()\n",
      "2019-01-27 15:00:19,856 INFO sqlalchemy.engine.base.Engine SELECT sql FROM  (SELECT * FROM sqlite_master UNION ALL   SELECT * FROM sqlite_temp_master) WHERE name = 'Shipper' AND type = 'table'\n",
      "2019-01-27 15:00:19,857 INFO sqlalchemy.engine.base.Engine ()\n",
      "2019-01-27 15:00:19,858 INFO sqlalchemy.engine.base.Engine PRAGMA table_info(\"Supplier\")\n",
      "2019-01-27 15:00:19,859 INFO sqlalchemy.engine.base.Engine ()\n",
      "2019-01-27 15:00:19,862 INFO sqlalchemy.engine.base.Engine SELECT sql FROM  (SELECT * FROM sqlite_master UNION ALL   SELECT * FROM sqlite_temp_master) WHERE name = 'Supplier' AND type = 'table'\n",
      "2019-01-27 15:00:19,863 INFO sqlalchemy.engine.base.Engine ()\n",
      "2019-01-27 15:00:19,864 INFO sqlalchemy.engine.base.Engine PRAGMA foreign_key_list(\"Supplier\")\n",
      "2019-01-27 15:00:19,864 INFO sqlalchemy.engine.base.Engine ()\n",
      "2019-01-27 15:00:19,865 INFO sqlalchemy.engine.base.Engine SELECT sql FROM  (SELECT * FROM sqlite_master UNION ALL   SELECT * FROM sqlite_temp_master) WHERE name = 'Supplier' AND type = 'table'\n",
      "2019-01-27 15:00:19,866 INFO sqlalchemy.engine.base.Engine ()\n",
      "2019-01-27 15:00:19,867 INFO sqlalchemy.engine.base.Engine PRAGMA index_list(\"Supplier\")\n",
      "2019-01-27 15:00:19,868 INFO sqlalchemy.engine.base.Engine ()\n",
      "2019-01-27 15:00:19,869 INFO sqlalchemy.engine.base.Engine PRAGMA index_list(\"Supplier\")\n",
      "2019-01-27 15:00:19,870 INFO sqlalchemy.engine.base.Engine ()\n",
      "2019-01-27 15:00:19,871 INFO sqlalchemy.engine.base.Engine SELECT sql FROM  (SELECT * FROM sqlite_master UNION ALL   SELECT * FROM sqlite_temp_master) WHERE name = 'Supplier' AND type = 'table'\n",
      "2019-01-27 15:00:19,872 INFO sqlalchemy.engine.base.Engine ()\n",
      "2019-01-27 15:00:19,873 INFO sqlalchemy.engine.base.Engine PRAGMA table_info(\"Territory\")\n",
      "2019-01-27 15:00:19,874 INFO sqlalchemy.engine.base.Engine ()\n",
      "2019-01-27 15:00:19,876 INFO sqlalchemy.engine.base.Engine SELECT sql FROM  (SELECT * FROM sqlite_master UNION ALL   SELECT * FROM sqlite_temp_master) WHERE name = 'Territory' AND type = 'table'\n",
      "2019-01-27 15:00:19,877 INFO sqlalchemy.engine.base.Engine ()\n",
      "2019-01-27 15:00:19,878 INFO sqlalchemy.engine.base.Engine PRAGMA foreign_key_list(\"Territory\")\n",
      "2019-01-27 15:00:19,879 INFO sqlalchemy.engine.base.Engine ()\n",
      "2019-01-27 15:00:19,880 INFO sqlalchemy.engine.base.Engine SELECT sql FROM  (SELECT * FROM sqlite_master UNION ALL   SELECT * FROM sqlite_temp_master) WHERE name = 'Territory' AND type = 'table'\n",
      "2019-01-27 15:00:19,880 INFO sqlalchemy.engine.base.Engine ()\n",
      "2019-01-27 15:00:19,881 INFO sqlalchemy.engine.base.Engine PRAGMA index_list(\"Territory\")\n",
      "2019-01-27 15:00:19,882 INFO sqlalchemy.engine.base.Engine ()\n",
      "2019-01-27 15:00:19,883 INFO sqlalchemy.engine.base.Engine PRAGMA index_list(\"Territory\")\n",
      "2019-01-27 15:00:19,884 INFO sqlalchemy.engine.base.Engine ()\n",
      "2019-01-27 15:00:19,885 INFO sqlalchemy.engine.base.Engine PRAGMA index_info(\"sqlite_autoindex_Territory_1\")\n",
      "2019-01-27 15:00:19,886 INFO sqlalchemy.engine.base.Engine ()\n",
      "2019-01-27 15:00:19,887 INFO sqlalchemy.engine.base.Engine SELECT sql FROM  (SELECT * FROM sqlite_master UNION ALL   SELECT * FROM sqlite_temp_master) WHERE name = 'Territory' AND type = 'table'\n",
      "2019-01-27 15:00:19,887 INFO sqlalchemy.engine.base.Engine ()\n"
     ]
    }
   ],
   "source": [
    "#Instantiate metadata to reflect the engine\n",
    "metadata = MetaData()\n",
    "metadata.reflect(engine)"
   ]
  },
  {
   "cell_type": "code",
   "execution_count": 4,
   "metadata": {},
   "outputs": [],
   "source": [
    "#Create mappings to treat the database elements as OOP objects\n",
    "Base = automap_base(metadata=metadata)\n",
    "Base.prepare()"
   ]
  },
  {
   "cell_type": "code",
   "execution_count": null,
   "metadata": {},
   "outputs": [],
   "source": [
    "#['Category', 'Customer', 'CustomerCustomerDemo', 'CustomerDemographic', \n",
    "#'Employee', 'EmployeeTerritory', 'Order', 'OrderDetail', 'Product', 'Region', 'Shipper', 'Supplier', 'Territory']"
   ]
  },
  {
   "cell_type": "code",
   "execution_count": 5,
   "metadata": {
    "scrolled": true
   },
   "outputs": [],
   "source": [
    "#Create an object for each table\n",
    "Category = Base.classes.Category\n",
    "Customer = Base.classes.Customer\n",
    "CustomerCustomerDemo = Base.classes.CustomerCustomerDemo\n",
    "CustomerDemographic = Base.classes.CustomerDemographic\n",
    "Employee = Base.classes.Employee\n",
    "EmployeeTerritory = Base.classes.EmployeeTerritory\n",
    "Order = Base.classes.Order\n",
    "OrderDetail = Base.classes.OrderDetail\n",
    "Product = Base.classes.Product\n",
    "Region = Base.classes.Region\n",
    "Shipper = Base.classes.Shipper\n",
    "Supplier = Base.classes.Supplier\n",
    "Territory = Base.classes.Territory"
   ]
  },
  {
   "cell_type": "code",
   "execution_count": 6,
   "metadata": {},
   "outputs": [
    {
     "name": "stdout",
     "output_type": "stream",
     "text": [
      "2019-01-27 15:22:07,052 INFO sqlalchemy.engine.base.Engine BEGIN (implicit)\n",
      "2019-01-27 15:22:07,053 INFO sqlalchemy.engine.base.Engine SELECT \"Category\".\"Id\" AS \"Category_Id\", \"Category\".\"CategoryName\" AS \"Category_CategoryName\", \"Category\".\"Description\" AS \"Category_Description\" \n",
      "FROM \"Category\"\n",
      "2019-01-27 15:22:07,054 INFO sqlalchemy.engine.base.Engine ()\n",
      "Beverages Soft drinks, coffees, teas, beers, and ales\n",
      "Condiments Sweet and savory sauces, relishes, spreads, and seasonings\n",
      "Confections Desserts, candies, and sweet breads\n",
      "Dairy Products Cheeses\n",
      "Grains/Cereals Breads, crackers, pasta, and cereal\n",
      "Meat/Poultry Prepared meats\n",
      "Produce Dried fruit and bean curd\n",
      "Seafood Seaweed and fish\n"
     ]
    }
   ],
   "source": [
    "categories = session.query(Category).all()\n",
    "\n",
    "for cat in categories:\n",
    "    print(cat.CategoryName, cat.Description)"
   ]
  },
  {
   "cell_type": "code",
   "execution_count": 7,
   "metadata": {},
   "outputs": [],
   "source": [
    "categories_df = pd.DataFrame(categories)"
   ]
  },
  {
   "cell_type": "code",
   "execution_count": null,
   "metadata": {},
   "outputs": [],
   "source": []
  },
  {
   "cell_type": "code",
   "execution_count": null,
   "metadata": {},
   "outputs": [],
   "source": []
  },
  {
   "cell_type": "code",
   "execution_count": 9,
   "metadata": {
    "scrolled": true
   },
   "outputs": [
    {
     "name": "stdout",
     "output_type": "stream",
     "text": [
      "2019-01-27 20:15:03,448 INFO sqlalchemy.engine.base.Engine SELECT \"Category\".\"Id\" AS \"Category_Id\", \"Category\".\"CategoryName\" AS \"Category_CategoryName\", \"Category\".\"Description\" AS \"Category_Description\" \n",
      "FROM \"Category\"\n",
      "2019-01-27 20:15:03,451 INFO sqlalchemy.engine.base.Engine ()\n",
      "Soft drinks, coffees, teas, beers, and ales\n",
      "Sweet and savory sauces, relishes, spreads, and seasonings\n",
      "Desserts, candies, and sweet breads\n",
      "Cheeses\n",
      "Breads, crackers, pasta, and cereal\n",
      "Prepared meats\n",
      "Dried fruit and bean curd\n",
      "Seaweed and fish\n"
     ]
    }
   ],
   "source": [
    "for instance in session.query(Category):\n",
    "    print(instance.Description)"
   ]
  },
  {
   "cell_type": "code",
   "execution_count": 10,
   "metadata": {},
   "outputs": [
    {
     "name": "stdout",
     "output_type": "stream",
     "text": [
      "2019-01-27 20:15:19,574 INFO sqlalchemy.engine.base.Engine SELECT \"Customer\".\"Id\" AS \"Customer_Id\", \"Customer\".\"CompanyName\" AS \"Customer_CompanyName\", \"Customer\".\"ContactName\" AS \"Customer_ContactName\", \"Customer\".\"ContactTitle\" AS \"Customer_ContactTitle\", \"Customer\".\"Address\" AS \"Customer_Address\", \"Customer\".\"City\" AS \"Customer_City\", \"Customer\".\"Region\" AS \"Customer_Region\", \"Customer\".\"PostalCode\" AS \"Customer_PostalCode\", \"Customer\".\"Country\" AS \"Customer_Country\", \"Customer\".\"Phone\" AS \"Customer_Phone\", \"Customer\".\"Fax\" AS \"Customer_Fax\" \n",
      "FROM \"Customer\"\n",
      "2019-01-27 20:15:19,575 INFO sqlalchemy.engine.base.Engine ()\n"
     ]
    }
   ],
   "source": [
    "countries = []\n",
    "for instance in session.query(Customer):\n",
    "    countries.append(instance.Country)"
   ]
  },
  {
   "cell_type": "code",
   "execution_count": 11,
   "metadata": {},
   "outputs": [
    {
     "data": {
      "text/plain": [
       "USA            13\n",
       "France         11\n",
       "Germany        11\n",
       "Brazil          9\n",
       "UK              7\n",
       "Spain           5\n",
       "Mexico          5\n",
       "Venezuela       4\n",
       "Argentina       3\n",
       "Italy           3\n",
       "Canada          3\n",
       "Switzerland     2\n",
       "Denmark         2\n",
       "Austria         2\n",
       "Sweden          2\n",
       "Belgium         2\n",
       "Portugal        2\n",
       "Finland         2\n",
       "Norway          1\n",
       "Ireland         1\n",
       "Poland          1\n",
       "Name: 0, dtype: int64"
      ]
     },
     "execution_count": 11,
     "metadata": {},
     "output_type": "execute_result"
    }
   ],
   "source": [
    "countries_df = pd.DataFrame(countries)\n",
    "countries_df[0].value_counts()"
   ]
  },
  {
   "cell_type": "code",
   "execution_count": 12,
   "metadata": {},
   "outputs": [
    {
     "name": "stdout",
     "output_type": "stream",
     "text": [
      "2019-01-27 20:15:27,313 INFO sqlalchemy.engine.base.Engine SELECT \"Customer\".\"Id\" AS \"Customer_Id\", \"Customer\".\"CompanyName\" AS \"Customer_CompanyName\", \"Customer\".\"ContactName\" AS \"Customer_ContactName\", \"Customer\".\"ContactTitle\" AS \"Customer_ContactTitle\", \"Customer\".\"Address\" AS \"Customer_Address\", \"Customer\".\"City\" AS \"Customer_City\", \"Customer\".\"Region\" AS \"Customer_Region\", \"Customer\".\"PostalCode\" AS \"Customer_PostalCode\", \"Customer\".\"Country\" AS \"Customer_Country\", \"Customer\".\"Phone\" AS \"Customer_Phone\", \"Customer\".\"Fax\" AS \"Customer_Fax\" \n",
      "FROM \"Customer\"\n",
      "2019-01-27 20:15:27,314 INFO sqlalchemy.engine.base.Engine ()\n"
     ]
    },
    {
     "data": {
      "text/plain": [
       "Western Europe     28\n",
       "North America      16\n",
       "South America      16\n",
       "Southern Europe    10\n",
       "British Isles       8\n",
       "Central America     5\n",
       "Northern Europe     4\n",
       "Scandinavia         3\n",
       "Eastern Europe      1\n",
       "Name: 0, dtype: int64"
      ]
     },
     "execution_count": 12,
     "metadata": {},
     "output_type": "execute_result"
    }
   ],
   "source": [
    "regions = []\n",
    "for instance in session.query(Customer):\n",
    "    regions.append(instance.Region)\n",
    "\n",
    "regions_df = pd.DataFrame(regions)\n",
    "regions_df[0].value_counts()"
   ]
  },
  {
   "cell_type": "code",
   "execution_count": null,
   "metadata": {},
   "outputs": [],
   "source": [
    "names = []\n",
    "for instance in session.query(Customer):\n",
    "    names.append(instance.ContactName)\n",
    "    \n",
    "names_df = pd.DataFrame(names)\n",
    "names_df[0].value_counts()"
   ]
  },
  {
   "cell_type": "code",
   "execution_count": null,
   "metadata": {},
   "outputs": [],
   "source": [
    "len(set(names))"
   ]
  },
  {
   "cell_type": "code",
   "execution_count": null,
   "metadata": {},
   "outputs": [],
   "source": []
  },
  {
   "cell_type": "code",
   "execution_count": null,
   "metadata": {},
   "outputs": [],
   "source": [
    "c_o = []\n",
    "for c, o in session.query(Customer, Order).filter(Customer.Id==Order.CustomerId).all():\n",
    "                     #filter(Address.email_address=='jack@google.com').\\\n",
    "                     \n",
    "    c_o.append([c, o])"
   ]
  },
  {
   "cell_type": "code",
   "execution_count": 15,
   "metadata": {},
   "outputs": [
    {
     "name": "stdout",
     "output_type": "stream",
     "text": [
      "2019-01-26 15:51:41,433 INFO sqlalchemy.engine.base.Engine SELECT \"Customer\".\"Id\" AS \"Customer_Id\", \"Customer\".\"CompanyName\" AS \"Customer_CompanyName\", \"Customer\".\"ContactName\" AS \"Customer_ContactName\", \"Customer\".\"ContactTitle\" AS \"Customer_ContactTitle\", \"Customer\".\"Address\" AS \"Customer_Address\", \"Customer\".\"City\" AS \"Customer_City\", \"Customer\".\"Region\" AS \"Customer_Region\", \"Customer\".\"PostalCode\" AS \"Customer_PostalCode\", \"Customer\".\"Country\" AS \"Customer_Country\", \"Customer\".\"Phone\" AS \"Customer_Phone\", \"Customer\".\"Fax\" AS \"Customer_Fax\", \"Order\".\"Id\" AS \"Order_Id\", \"Order\".\"CustomerId\" AS \"Order_CustomerId\", \"Order\".\"EmployeeId\" AS \"Order_EmployeeId\", \"Order\".\"OrderDate\" AS \"Order_OrderDate\", \"Order\".\"RequiredDate\" AS \"Order_RequiredDate\", \"Order\".\"ShippedDate\" AS \"Order_ShippedDate\", \"Order\".\"ShipVia\" AS \"Order_ShipVia\", \"Order\".\"Freight\" AS \"Order_Freight\", \"Order\".\"ShipName\" AS \"Order_ShipName\", \"Order\".\"ShipAddress\" AS \"Order_ShipAddress\", \"Order\".\"ShipCity\" AS \"Order_ShipCity\", \"Order\".\"ShipRegion\" AS \"Order_ShipRegion\", \"Order\".\"ShipPostalCode\" AS \"Order_ShipPostalCode\", \"Order\".\"ShipCountry\" AS \"Order_ShipCountry\" \n",
      "FROM \"Customer\", \"Order\" \n",
      "WHERE \"Customer\".\"Id\" = \"Order\".\"CustomerId\"\n",
      "2019-01-26 15:51:41,434 INFO sqlalchemy.engine.base.Engine ()\n",
      "[(<sqlalchemy.ext.automap.Customer object at 0x1216a5588>, <sqlalchemy.ext.automap.Order object at 0x1216a55f8>), (<sqlalchemy.ext.automap.Customer object at 0x1216a5668>, <sqlalchemy.ext.automap.Order object at 0x1216a56d8>), (<sqlalchemy.ext.automap.Customer object at 0x1216a5748>, <sqlalchemy.ext.automap.Order object at 0x1216a57b8>), (<sqlalchemy.ext.automap.Customer object at 0x1216a5828>, <sqlalchemy.ext.automap.Order object at 0x1216a5908>), (<sqlalchemy.ext.automap.Customer object at 0x1216a5978>, <sqlalchemy.ext.automap.Order object at 0x1216a5a58>), (<sqlalchemy.ext.automap.Customer object at 0x1216a5748>, <sqlalchemy.ext.automap.Order object at 0x1216a5ac8>), (<sqlalchemy.ext.automap.Customer object at 0x1216a5ba8>, <sqlalchemy.ext.automap.Order object at 0x1216a5c50>), (<sqlalchemy.ext.automap.Customer object at 0x1216a5cc0>, <sqlalchemy.ext.automap.Order object at 0x1216a5da0>), (<sqlalchemy.ext.automap.Customer object at 0x1216a5e10>, <sqlalchemy.ext.automap.Order object at 0x1216a5ef0>), (<sqlalchemy.ext.automap.Customer object at 0x1216a5f60>, <sqlalchemy.ext.automap.Order object at 0x1216bb080>), (<sqlalchemy.ext.automap.Customer object at 0x1216bb0f0>, <sqlalchemy.ext.automap.Order object at 0x1216bb1d0>), (<sqlalchemy.ext.automap.Customer object at 0x1216bb240>, <sqlalchemy.ext.automap.Order object at 0x1216bb320>), (<sqlalchemy.ext.automap.Customer object at 0x1216bb390>, <sqlalchemy.ext.automap.Order object at 0x1216bb470>), (<sqlalchemy.ext.automap.Customer object at 0x1216bb4e0>, <sqlalchemy.ext.automap.Order object at 0x1216bb5c0>), (<sqlalchemy.ext.automap.Customer object at 0x1216bb630>, <sqlalchemy.ext.automap.Order object at 0x1216bb710>), (<sqlalchemy.ext.automap.Customer object at 0x1216bb0f0>, <sqlalchemy.ext.automap.Order object at 0x1216bb780>), (<sqlalchemy.ext.automap.Customer object at 0x1216bb860>, <sqlalchemy.ext.automap.Order object at 0x1216bb908>), (<sqlalchemy.ext.automap.Customer object at 0x1216bb978>, <sqlalchemy.ext.automap.Order object at 0x1216bba58>), (<sqlalchemy.ext.automap.Customer object at 0x1216bbac8>, <sqlalchemy.ext.automap.Order object at 0x1216bbba8>), (<sqlalchemy.ext.automap.Customer object at 0x1216bbc18>, <sqlalchemy.ext.automap.Order object at 0x1216bbcf8>), (<sqlalchemy.ext.automap.Customer object at 0x1216bbd68>, <sqlalchemy.ext.automap.Order object at 0x1216bbe48>), (<sqlalchemy.ext.automap.Customer object at 0x1216bbeb8>, <sqlalchemy.ext.automap.Order object at 0x1216bbf98>), (<sqlalchemy.ext.automap.Customer object at 0x1216bbac8>, <sqlalchemy.ext.automap.Order object at 0x1216c3048>), (<sqlalchemy.ext.automap.Customer object at 0x1216c3128>, <sqlalchemy.ext.automap.Order object at 0x1216c31d0>), (<sqlalchemy.ext.automap.Customer object at 0x1216bb630>, <sqlalchemy.ext.automap.Order object at 0x1216c3240>), (<sqlalchemy.ext.automap.Customer object at 0x1216c3320>, <sqlalchemy.ext.automap.Order object at 0x1216c33c8>), (<sqlalchemy.ext.automap.Customer object at 0x1216a5588>, <sqlalchemy.ext.automap.Order object at 0x1216c3438>), (<sqlalchemy.ext.automap.Customer object at 0x1216c3518>, <sqlalchemy.ext.automap.Order object at 0x1216c35c0>), (<sqlalchemy.ext.automap.Customer object at 0x1216c3630>, <sqlalchemy.ext.automap.Order object at 0x1216c3710>), (<sqlalchemy.ext.automap.Customer object at 0x1216c3780>, <sqlalchemy.ext.automap.Order object at 0x1216c3860>), (<sqlalchemy.ext.automap.Customer object at 0x1216c38d0>, <sqlalchemy.ext.automap.Order object at 0x1216c39b0>), (<sqlalchemy.ext.automap.Customer object at 0x1216c3a20>, <sqlalchemy.ext.automap.Order object at 0x1216c3b00>), (<sqlalchemy.ext.automap.Customer object at 0x1216c38d0>, <sqlalchemy.ext.automap.Order object at 0x1216c3b70>), (<sqlalchemy.ext.automap.Customer object at 0x1216c3c50>, <sqlalchemy.ext.automap.Order object at 0x1216c3cf8>), (<sqlalchemy.ext.automap.Customer object at 0x1216c3c50>, <sqlalchemy.ext.automap.Order object at 0x1216c3d68>), (<sqlalchemy.ext.automap.Customer object at 0x1216c3e48>, <sqlalchemy.ext.automap.Order object at 0x1216c3ef0>), (<sqlalchemy.ext.automap.Customer object at 0x1216c3a20>, <sqlalchemy.ext.automap.Order object at 0x1216c3f60>), (<sqlalchemy.ext.automap.Customer object at 0x1216c3320>, <sqlalchemy.ext.automap.Order object at 0x1216c9080>), (<sqlalchemy.ext.automap.Customer object at 0x1216c3320>, <sqlalchemy.ext.automap.Order object at 0x1216c9128>), (<sqlalchemy.ext.automap.Customer object at 0x1216c91d0>, <sqlalchemy.ext.automap.Order object at 0x1216c9278>), (<sqlalchemy.ext.automap.Customer object at 0x1216c92e8>, <sqlalchemy.ext.automap.Order object at 0x1216c93c8>), (<sqlalchemy.ext.automap.Customer object at 0x1216c9438>, <sqlalchemy.ext.automap.Order object at 0x1216c9518>), (<sqlalchemy.ext.automap.Customer object at 0x1216c9588>, <sqlalchemy.ext.automap.Order object at 0x1216c9668>), (<sqlalchemy.ext.automap.Customer object at 0x1216bb4e0>, <sqlalchemy.ext.automap.Order object at 0x1216c96d8>), (<sqlalchemy.ext.automap.Customer object at 0x1216c97b8>, <sqlalchemy.ext.automap.Order object at 0x1216c9860>), (<sqlalchemy.ext.automap.Customer object at 0x1216c3630>, <sqlalchemy.ext.automap.Order object at 0x1216c98d0>), (<sqlalchemy.ext.automap.Customer object at 0x1216bb630>, <sqlalchemy.ext.automap.Order object at 0x1216c99b0>), (<sqlalchemy.ext.automap.Customer object at 0x1216a5588>, <sqlalchemy.ext.automap.Order object at 0x1216c9a58>), (<sqlalchemy.ext.automap.Customer object at 0x1216c3e48>, <sqlalchemy.ext.automap.Order object at 0x1216c9b00>), (<sqlalchemy.ext.automap.Customer object at 0x1216bb978>, <sqlalchemy.ext.automap.Order object at 0x1216c9ba8>), (<sqlalchemy.ext.automap.Customer object at 0x1216c9c50>, <sqlalchemy.ext.automap.Order object at 0x1216c9cf8>), (<sqlalchemy.ext.automap.Customer object at 0x1216c91d0>, <sqlalchemy.ext.automap.Order object at 0x1216c9d68>), (<sqlalchemy.ext.automap.Customer object at 0x1216c3518>, <sqlalchemy.ext.automap.Order object at 0x1216c9e48>), (<sqlalchemy.ext.automap.Customer object at 0x1216c9ef0>, <sqlalchemy.ext.automap.Order object at 0x1216c9f98>), (<sqlalchemy.ext.automap.Customer object at 0x1216a5978>, <sqlalchemy.ext.automap.Order object at 0x1216d1048>), (<sqlalchemy.ext.automap.Customer object at 0x1216d1128>, <sqlalchemy.ext.automap.Order object at 0x1216d11d0>), (<sqlalchemy.ext.automap.Customer object at 0x1216c3630>, <sqlalchemy.ext.automap.Order object at 0x1216d1240>), (<sqlalchemy.ext.automap.Customer object at 0x1216d1320>, <sqlalchemy.ext.automap.Order object at 0x1216d13c8>), (<sqlalchemy.ext.automap.Customer object at 0x1216c3c50>, <sqlalchemy.ext.automap.Order object at 0x1216d1438>), (<sqlalchemy.ext.automap.Customer object at 0x1216d1518>, <sqlalchemy.ext.automap.Order object at 0x1216d15c0>), (<sqlalchemy.ext.automap.Customer object at 0x1216d1630>, <sqlalchemy.ext.automap.Order object at 0x1216d1710>), (<sqlalchemy.ext.automap.Customer object at 0x1216c9c50>, <sqlalchemy.ext.automap.Order object at 0x1216d1780>), (<sqlalchemy.ext.automap.Customer object at 0x1216d1860>, <sqlalchemy.ext.automap.Order object at 0x1216d1908>), (<sqlalchemy.ext.automap.Customer object at 0x1216c9ef0>, <sqlalchemy.ext.automap.Order object at 0x1216d1978>), (<sqlalchemy.ext.automap.Customer object at 0x1216c3320>, <sqlalchemy.ext.automap.Order object at 0x1216d1a58>), (<sqlalchemy.ext.automap.Customer object at 0x1216bb630>, <sqlalchemy.ext.automap.Order object at 0x1216d1b00>), (<sqlalchemy.ext.automap.Customer object at 0x1216d1ba8>, <sqlalchemy.ext.automap.Order object at 0x1216d1c50>), (<sqlalchemy.ext.automap.Customer object at 0x1216bb630>, <sqlalchemy.ext.automap.Order object at 0x1216d1cc0>), (<sqlalchemy.ext.automap.Customer object at 0x1216d1518>, <sqlalchemy.ext.automap.Order object at 0x1216d1da0>), (<sqlalchemy.ext.automap.Customer object at 0x1216d1ba8>, <sqlalchemy.ext.automap.Order object at 0x1216d1e48>), (<sqlalchemy.ext.automap.Customer object at 0x1216c3630>, <sqlalchemy.ext.automap.Order object at 0x1216d1ef0>), (<sqlalchemy.ext.automap.Customer object at 0x1216bbac8>, <sqlalchemy.ext.automap.Order object at 0x1216d1f98>), (<sqlalchemy.ext.automap.Customer object at 0x1216d1ba8>, <sqlalchemy.ext.automap.Order object at 0x1216d8080>), (<sqlalchemy.ext.automap.Customer object at 0x1216d8128>, <sqlalchemy.ext.automap.Order object at 0x1216d81d0>), (<sqlalchemy.ext.automap.Customer object at 0x1216d8240>, <sqlalchemy.ext.automap.Order object at 0x1216d8320>), (<sqlalchemy.ext.automap.Customer object at 0x1216d8390>, <sqlalchemy.ext.automap.Order object at 0x1216d8470>), (<sqlalchemy.ext.automap.Customer object at 0x1216d8240>, <sqlalchemy.ext.automap.Order object at 0x1216d84e0>), (<sqlalchemy.ext.automap.Customer object at 0x1216d85c0>, <sqlalchemy.ext.automap.Order object at 0x1216d8668>), (<sqlalchemy.ext.automap.Customer object at 0x1216bb860>, <sqlalchemy.ext.automap.Order object at 0x1216d86d8>), (<sqlalchemy.ext.automap.Customer object at 0x1216d87b8>, <sqlalchemy.ext.automap.Order object at 0x1216d8860>), (<sqlalchemy.ext.automap.Customer object at 0x1216c3128>, <sqlalchemy.ext.automap.Order object at 0x1216d88d0>), (<sqlalchemy.ext.automap.Customer object at 0x1216c3e48>, <sqlalchemy.ext.automap.Order object at 0x1216d89b0>), (<sqlalchemy.ext.automap.Customer object at 0x1216d8a58>, <sqlalchemy.ext.automap.Order object at 0x1216d8b00>), (<sqlalchemy.ext.automap.Customer object at 0x1216d8b70>, <sqlalchemy.ext.automap.Order object at 0x1216d8c50>), (<sqlalchemy.ext.automap.Customer object at 0x1216bbac8>, <sqlalchemy.ext.automap.Order object at 0x1216d8cc0>), (<sqlalchemy.ext.automap.Customer object at 0x1216a5828>, <sqlalchemy.ext.automap.Order object at 0x1216d8da0>), (<sqlalchemy.ext.automap.Customer object at 0x1216c9c50>, <sqlalchemy.ext.automap.Order object at 0x1216d8e48>), (<sqlalchemy.ext.automap.Customer object at 0x1216d8ef0>, <sqlalchemy.ext.automap.Order object at 0x1216d8f98>), (<sqlalchemy.ext.automap.Customer object at 0x1216bbc18>, <sqlalchemy.ext.automap.Order object at 0x1216e0048>), (<sqlalchemy.ext.automap.Customer object at 0x1216d1320>, <sqlalchemy.ext.automap.Order object at 0x1216e0128>), (<sqlalchemy.ext.automap.Customer object at 0x1216d8b70>, <sqlalchemy.ext.automap.Order object at 0x1216e01d0>), (<sqlalchemy.ext.automap.Customer object at 0x1216d8a58>, <sqlalchemy.ext.automap.Order object at 0x1216e0278>), (<sqlalchemy.ext.automap.Customer object at 0x1216e0320>, <sqlalchemy.ext.automap.Order object at 0x1216e03c8>), (<sqlalchemy.ext.automap.Customer object at 0x1216bbc18>, <sqlalchemy.ext.automap.Order object at 0x1216e0438>), (<sqlalchemy.ext.automap.Customer object at 0x1216c3a20>, <sqlalchemy.ext.automap.Order object at 0x1216e0518>), (<sqlalchemy.ext.automap.Customer object at 0x1216bbeb8>, <sqlalchemy.ext.automap.Order object at 0x1216e05c0>), (<sqlalchemy.ext.automap.Customer object at 0x1216c3320>, <sqlalchemy.ext.automap.Order object at 0x1216e0668>), (<sqlalchemy.ext.automap.Customer object at 0x1216bb630>, <sqlalchemy.ext.automap.Order object at 0x1216e0710>), (<sqlalchemy.ext.automap.Customer object at 0x1216e07b8>, <sqlalchemy.ext.automap.Order object at 0x1216e0860>), (<sqlalchemy.ext.automap.Customer object at 0x1216c9ef0>, <sqlalchemy.ext.automap.Order object at 0x1216e08d0>), (<sqlalchemy.ext.automap.Customer object at 0x1216c3128>, <sqlalchemy.ext.automap.Order object at 0x1216e09b0>), (<sqlalchemy.ext.automap.Customer object at 0x1216e0a58>, <sqlalchemy.ext.automap.Order object at 0x1216e0b00>), (<sqlalchemy.ext.automap.Customer object at 0x1216bb0f0>, <sqlalchemy.ext.automap.Order object at 0x1216e0b70>), (<sqlalchemy.ext.automap.Customer object at 0x1216d87b8>, <sqlalchemy.ext.automap.Order object at 0x1216e0c50>), (<sqlalchemy.ext.automap.Customer object at 0x1216e0cf8>, <sqlalchemy.ext.automap.Order object at 0x1216e0da0>), (<sqlalchemy.ext.automap.Customer object at 0x1216d8128>, <sqlalchemy.ext.automap.Order object at 0x1216e0e10>), (<sqlalchemy.ext.automap.Customer object at 0x1216e0ef0>, <sqlalchemy.ext.automap.Order object at 0x1216e0f98>), (<sqlalchemy.ext.automap.Customer object at 0x1216c9ef0>, <sqlalchemy.ext.automap.Order object at 0x1216e8048>), (<sqlalchemy.ext.automap.Customer object at 0x1216c3e48>, <sqlalchemy.ext.automap.Order object at 0x1216e8128>), (<sqlalchemy.ext.automap.Customer object at 0x1216e0a58>, <sqlalchemy.ext.automap.Order object at 0x1216e81d0>), (<sqlalchemy.ext.automap.Customer object at 0x1216e8278>, <sqlalchemy.ext.automap.Order object at 0x1216e8320>), (<sqlalchemy.ext.automap.Customer object at 0x1216bb978>, <sqlalchemy.ext.automap.Order object at 0x1216e8390>), (<sqlalchemy.ext.automap.Customer object at 0x1216c3320>, <sqlalchemy.ext.automap.Order object at 0x1216e8470>), (<sqlalchemy.ext.automap.Customer object at 0x1216d8a58>, <sqlalchemy.ext.automap.Order object at 0x1216e8518>), (<sqlalchemy.ext.automap.Customer object at 0x1216e85c0>, <sqlalchemy.ext.automap.Order object at 0x1216e8668>), (<sqlalchemy.ext.automap.Customer object at 0x1216e86d8>, <sqlalchemy.ext.automap.Order object at 0x1216e87b8>), (<sqlalchemy.ext.automap.Customer object at 0x1216e8828>, <sqlalchemy.ext.automap.Order object at 0x1216e8908>), (<sqlalchemy.ext.automap.Customer object at 0x1216e8978>, <sqlalchemy.ext.automap.Order object at 0x1216e8a58>), (<sqlalchemy.ext.automap.Customer object at 0x1216bb0f0>, <sqlalchemy.ext.automap.Order object at 0x1216e8ac8>), (<sqlalchemy.ext.automap.Customer object at 0x1216c3128>, <sqlalchemy.ext.automap.Order object at 0x1216e8ba8>), (<sqlalchemy.ext.automap.Customer object at 0x1216a5ba8>, <sqlalchemy.ext.automap.Order object at 0x1216e8c50>), (<sqlalchemy.ext.automap.Customer object at 0x1216e0a58>, <sqlalchemy.ext.automap.Order object at 0x1216e8cf8>), (<sqlalchemy.ext.automap.Customer object at 0x1216c9c50>, <sqlalchemy.ext.automap.Order object at 0x1216e8da0>), (<sqlalchemy.ext.automap.Customer object at 0x1216e8e48>, <sqlalchemy.ext.automap.Order object at 0x1216e8ef0>), (<sqlalchemy.ext.automap.Customer object at 0x1216e8f60>, <sqlalchemy.ext.automap.Order object at 0x1216ef080>), (<sqlalchemy.ext.automap.Customer object at 0x1216d8b70>, <sqlalchemy.ext.automap.Order object at 0x1216ef0f0>), (<sqlalchemy.ext.automap.Customer object at 0x1216e8278>, <sqlalchemy.ext.automap.Order object at 0x1216ef1d0>), (<sqlalchemy.ext.automap.Customer object at 0x1216bb860>, <sqlalchemy.ext.automap.Order object at 0x1216ef278>), (<sqlalchemy.ext.automap.Customer object at 0x1216bb4e0>, <sqlalchemy.ext.automap.Order object at 0x1216ef320>), (<sqlalchemy.ext.automap.Customer object at 0x1216c9c50>, <sqlalchemy.ext.automap.Order object at 0x1216ef3c8>), (<sqlalchemy.ext.automap.Customer object at 0x1216c3e48>, <sqlalchemy.ext.automap.Order object at 0x1216ef470>), (<sqlalchemy.ext.automap.Customer object at 0x1216bb0f0>, <sqlalchemy.ext.automap.Order object at 0x1216ef518>), (<sqlalchemy.ext.automap.Customer object at 0x1216e0ef0>, <sqlalchemy.ext.automap.Order object at 0x1216ef5c0>), (<sqlalchemy.ext.automap.Customer object at 0x1216c38d0>, <sqlalchemy.ext.automap.Order object at 0x1216ef668>), (<sqlalchemy.ext.automap.Customer object at 0x1216c3128>, <sqlalchemy.ext.automap.Order object at 0x1216ef710>), (<sqlalchemy.ext.automap.Customer object at 0x1216e07b8>, <sqlalchemy.ext.automap.Order object at 0x1216ef7b8>), (<sqlalchemy.ext.automap.Customer object at 0x1216ef860>, <sqlalchemy.ext.automap.Order object at 0x1216ef908>), (<sqlalchemy.ext.automap.Customer object at 0x1216e8278>, <sqlalchemy.ext.automap.Order object at 0x1216ef978>), (<sqlalchemy.ext.automap.Customer object at 0x1216efa58>, <sqlalchemy.ext.automap.Order object at 0x1216efb00>), (<sqlalchemy.ext.automap.Customer object at 0x1216bb0f0>, <sqlalchemy.ext.automap.Order object at 0x1216efb70>), (<sqlalchemy.ext.automap.Customer object at 0x1216e85c0>, <sqlalchemy.ext.automap.Order object at 0x1216efc50>), (<sqlalchemy.ext.automap.Customer object at 0x1216e0cf8>, <sqlalchemy.ext.automap.Order object at 0x1216efcf8>), (<sqlalchemy.ext.automap.Customer object at 0x1216d8390>, <sqlalchemy.ext.automap.Order object at 0x1216efda0>), (<sqlalchemy.ext.automap.Customer object at 0x1216e8f60>, <sqlalchemy.ext.automap.Order object at 0x1216efe48>), (<sqlalchemy.ext.automap.Customer object at 0x1216a5f60>, <sqlalchemy.ext.automap.Order object at 0x1216efef0>), (<sqlalchemy.ext.automap.Customer object at 0x1216bbc18>, <sqlalchemy.ext.automap.Order object at 0x1216eff98>), (<sqlalchemy.ext.automap.Customer object at 0x1216d8ef0>, <sqlalchemy.ext.automap.Order object at 0x1216f7080>), (<sqlalchemy.ext.automap.Customer object at 0x1216d8390>, <sqlalchemy.ext.automap.Order object at 0x1216f7128>), (<sqlalchemy.ext.automap.Customer object at 0x1216e8978>, <sqlalchemy.ext.automap.Order object at 0x1216f71d0>), (<sqlalchemy.ext.automap.Customer object at 0x1216e86d8>, <sqlalchemy.ext.automap.Order object at 0x1216f7278>), (<sqlalchemy.ext.automap.Customer object at 0x1216bb630>, <sqlalchemy.ext.automap.Order object at 0x1216f7320>), (<sqlalchemy.ext.automap.Customer object at 0x1216bb0f0>, <sqlalchemy.ext.automap.Order object at 0x1216f73c8>), (<sqlalchemy.ext.automap.Customer object at 0x1216bb0f0>, <sqlalchemy.ext.automap.Order object at 0x1216f7470>), (<sqlalchemy.ext.automap.Customer object at 0x1216c3518>, <sqlalchemy.ext.automap.Order object at 0x1216f7518>), (<sqlalchemy.ext.automap.Customer object at 0x1216f75c0>, <sqlalchemy.ext.automap.Order object at 0x1216f7668>), (<sqlalchemy.ext.automap.Customer object at 0x1216bb390>, <sqlalchemy.ext.automap.Order object at 0x1216f76d8>), (<sqlalchemy.ext.automap.Customer object at 0x1216f77b8>, <sqlalchemy.ext.automap.Order object at 0x1216f7860>), (<sqlalchemy.ext.automap.Customer object at 0x1216efa58>, <sqlalchemy.ext.automap.Order object at 0x1216f78d0>), (<sqlalchemy.ext.automap.Customer object at 0x1216efa58>, <sqlalchemy.ext.automap.Order object at 0x1216f79b0>), (<sqlalchemy.ext.automap.Customer object at 0x1216bbac8>, <sqlalchemy.ext.automap.Order object at 0x1216f7a58>), (<sqlalchemy.ext.automap.Customer object at 0x1216e0a58>, <sqlalchemy.ext.automap.Order object at 0x1216f7b00>), (<sqlalchemy.ext.automap.Customer object at 0x1216e07b8>, <sqlalchemy.ext.automap.Order object at 0x1216f7ba8>), (<sqlalchemy.ext.automap.Customer object at 0x1216e8f60>, <sqlalchemy.ext.automap.Order object at 0x1216f7c50>), (<sqlalchemy.ext.automap.Customer object at 0x1216bbac8>, <sqlalchemy.ext.automap.Order object at 0x1216f7cf8>), (<sqlalchemy.ext.automap.Customer object at 0x1216e0320>, <sqlalchemy.ext.automap.Order object at 0x1216f7da0>), (<sqlalchemy.ext.automap.Customer object at 0x1216c3320>, <sqlalchemy.ext.automap.Order object at 0x1216f7e48>), (<sqlalchemy.ext.automap.Customer object at 0x1216a5cc0>, <sqlalchemy.ext.automap.Order object at 0x1216f7ef0>), (<sqlalchemy.ext.automap.Customer object at 0x1216a5e10>, <sqlalchemy.ext.automap.Order object at 0x1216f7f98>), (<sqlalchemy.ext.automap.Customer object at 0x1216bb4e0>, <sqlalchemy.ext.automap.Order object at 0x1216ff080>), (<sqlalchemy.ext.automap.Customer object at 0x1216ff128>, <sqlalchemy.ext.automap.Order object at 0x1216ff1d0>), (<sqlalchemy.ext.automap.Customer object at 0x1216ff240>, <sqlalchemy.ext.automap.Order object at 0x1216ff320>), (<sqlalchemy.ext.automap.Customer object at 0x1216d8b70>, <sqlalchemy.ext.automap.Order object at 0x1216ff390>), (<sqlalchemy.ext.automap.Customer object at 0x1216e0a58>, <sqlalchemy.ext.automap.Order object at 0x1216ff470>), (<sqlalchemy.ext.automap.Customer object at 0x1216e8828>, <sqlalchemy.ext.automap.Order object at 0x1216ff518>), (<sqlalchemy.ext.automap.Customer object at 0x1216e0cf8>, <sqlalchemy.ext.automap.Order object at 0x1216ff5c0>), (<sqlalchemy.ext.automap.Customer object at 0x1216c92e8>, <sqlalchemy.ext.automap.Order object at 0x1216ff668>), (<sqlalchemy.ext.automap.Customer object at 0x1216c9c50>, <sqlalchemy.ext.automap.Order object at 0x1216ff710>), (<sqlalchemy.ext.automap.Customer object at 0x1216bb0f0>, <sqlalchemy.ext.automap.Order object at 0x1216ff7b8>), (<sqlalchemy.ext.automap.Customer object at 0x1216efa58>, <sqlalchemy.ext.automap.Order object at 0x1216ff860>), (<sqlalchemy.ext.automap.Customer object at 0x1216c3128>, <sqlalchemy.ext.automap.Order object at 0x1216ff908>), (<sqlalchemy.ext.automap.Customer object at 0x1216d8ef0>, <sqlalchemy.ext.automap.Order object at 0x1214dab70>), (<sqlalchemy.ext.automap.Customer object at 0x1216bb860>, <sqlalchemy.ext.automap.Order object at 0x1216ffa20>), (<sqlalchemy.ext.automap.Customer object at 0x1216ffac8>, <sqlalchemy.ext.automap.Order object at 0x1216ffb70>), (<sqlalchemy.ext.automap.Customer object at 0x1216bb978>, <sqlalchemy.ext.automap.Order object at 0x1216ffbe0>), (<sqlalchemy.ext.automap.Customer object at 0x1216bbac8>, <sqlalchemy.ext.automap.Order object at 0x1216ffcc0>), (<sqlalchemy.ext.automap.Customer object at 0x1216a5668>, <sqlalchemy.ext.automap.Order object at 0x1216ffd68>), (<sqlalchemy.ext.automap.Customer object at 0x1216d8b70>, <sqlalchemy.ext.automap.Order object at 0x1216ffe10>), (<sqlalchemy.ext.automap.Customer object at 0x1216d8390>, <sqlalchemy.ext.automap.Order object at 0x1216ffeb8>), (<sqlalchemy.ext.automap.Customer object at 0x1216d1320>, <sqlalchemy.ext.automap.Order object at 0x1216fff60>), (<sqlalchemy.ext.automap.Customer object at 0x1216bb0f0>, <sqlalchemy.ext.automap.Order object at 0x121706048>), (<sqlalchemy.ext.automap.Customer object at 0x1216c92e8>, <sqlalchemy.ext.automap.Order object at 0x1217060f0>), (<sqlalchemy.ext.automap.Customer object at 0x1216c38d0>, <sqlalchemy.ext.automap.Order object at 0x121706198>), (<sqlalchemy.ext.automap.Customer object at 0x1216c38d0>, <sqlalchemy.ext.automap.Order object at 0x121706240>), (<sqlalchemy.ext.automap.Customer object at 0x1216a5668>, <sqlalchemy.ext.automap.Order object at 0x1217062e8>), (<sqlalchemy.ext.automap.Customer object at 0x1216c91d0>, <sqlalchemy.ext.automap.Order object at 0x121706390>), (<sqlalchemy.ext.automap.Customer object at 0x121706438>, <sqlalchemy.ext.automap.Order object at 0x1217064e0>), (<sqlalchemy.ext.automap.Customer object at 0x1216bb978>, <sqlalchemy.ext.automap.Order object at 0x121706550>), (<sqlalchemy.ext.automap.Customer object at 0x1216a5828>, <sqlalchemy.ext.automap.Order object at 0x121706630>), (<sqlalchemy.ext.automap.Customer object at 0x1216c3320>, <sqlalchemy.ext.automap.Order object at 0x1217066d8>), (<sqlalchemy.ext.automap.Customer object at 0x1216d8390>, <sqlalchemy.ext.automap.Order object at 0x121706780>), (<sqlalchemy.ext.automap.Customer object at 0x1216e0ef0>, <sqlalchemy.ext.automap.Order object at 0x121706828>), (<sqlalchemy.ext.automap.Customer object at 0x1216e0a58>, <sqlalchemy.ext.automap.Order object at 0x1217068d0>), (<sqlalchemy.ext.automap.Customer object at 0x1216bbac8>, <sqlalchemy.ext.automap.Order object at 0x121706978>), (<sqlalchemy.ext.automap.Customer object at 0x1216d8240>, <sqlalchemy.ext.automap.Order object at 0x121706a20>), (<sqlalchemy.ext.automap.Customer object at 0x1216d8240>, <sqlalchemy.ext.automap.Order object at 0x121706ac8>), (<sqlalchemy.ext.automap.Customer object at 0x1216a5978>, <sqlalchemy.ext.automap.Order object at 0x121706b70>), (<sqlalchemy.ext.automap.Customer object at 0x1216a5828>, <sqlalchemy.ext.automap.Order object at 0x121706c18>), (<sqlalchemy.ext.automap.Customer object at 0x1216bb860>, <sqlalchemy.ext.automap.Order object at 0x121706cc0>), (<sqlalchemy.ext.automap.Customer object at 0x1216c3e48>, <sqlalchemy.ext.automap.Order object at 0x121706d68>), (<sqlalchemy.ext.automap.Customer object at 0x1216ffac8>, <sqlalchemy.ext.automap.Order object at 0x121706e10>), (<sqlalchemy.ext.automap.Customer object at 0x1216a5978>, <sqlalchemy.ext.automap.Order object at 0x121706eb8>), (<sqlalchemy.ext.automap.Customer object at 0x1216d87b8>, <sqlalchemy.ext.automap.Order object at 0x121706f60>), (<sqlalchemy.ext.automap.Customer object at 0x1216e8978>, <sqlalchemy.ext.automap.Order object at 0x12170f048>), (<sqlalchemy.ext.automap.Customer object at 0x1216c9588>, <sqlalchemy.ext.automap.Order object at 0x12170f0f0>), (<sqlalchemy.ext.automap.Customer object at 0x1216c3518>, <sqlalchemy.ext.automap.Order object at 0x12170f198>), (<sqlalchemy.ext.automap.Customer object at 0x1216d8240>, <sqlalchemy.ext.automap.Order object at 0x12170f240>), (<sqlalchemy.ext.automap.Customer object at 0x1216bbeb8>, <sqlalchemy.ext.automap.Order object at 0x12170f2e8>), (<sqlalchemy.ext.automap.Customer object at 0x1216d8a58>, <sqlalchemy.ext.automap.Order object at 0x12170f390>), (<sqlalchemy.ext.automap.Customer object at 0x1216c9438>, <sqlalchemy.ext.automap.Order object at 0x12170f438>), (<sqlalchemy.ext.automap.Customer object at 0x1216e8278>, <sqlalchemy.ext.automap.Order object at 0x12170f4e0>), (<sqlalchemy.ext.automap.Customer object at 0x1216d1ba8>, <sqlalchemy.ext.automap.Order object at 0x12170f588>), (<sqlalchemy.ext.automap.Customer object at 0x1216d8128>, <sqlalchemy.ext.automap.Order object at 0x12170f630>), (<sqlalchemy.ext.automap.Customer object at 0x1216a5978>, <sqlalchemy.ext.automap.Order object at 0x12170f6d8>), (<sqlalchemy.ext.automap.Customer object at 0x1216a5f60>, <sqlalchemy.ext.automap.Order object at 0x12170f780>), (<sqlalchemy.ext.automap.Customer object at 0x1216d8ef0>, <sqlalchemy.ext.automap.Order object at 0x12170f828>), (<sqlalchemy.ext.automap.Customer object at 0x1216a5828>, <sqlalchemy.ext.automap.Order object at 0x12170f8d0>), (<sqlalchemy.ext.automap.Customer object at 0x1216bb630>, <sqlalchemy.ext.automap.Order object at 0x12170f978>), (<sqlalchemy.ext.automap.Customer object at 0x1216f77b8>, <sqlalchemy.ext.automap.Order object at 0x12170fa20>), (<sqlalchemy.ext.automap.Customer object at 0x1216c91d0>, <sqlalchemy.ext.automap.Order object at 0x12170fac8>), (<sqlalchemy.ext.automap.Customer object at 0x12170fb70>, <sqlalchemy.ext.automap.Order object at 0x12170fc18>), (<sqlalchemy.ext.automap.Customer object at 0x1216bbeb8>, <sqlalchemy.ext.automap.Order object at 0x12170fc88>), (<sqlalchemy.ext.automap.Customer object at 0x1216c9438>, <sqlalchemy.ext.automap.Order object at 0x12170fd68>), (<sqlalchemy.ext.automap.Customer object at 0x1216f75c0>, <sqlalchemy.ext.automap.Order object at 0x12170fe10>), (<sqlalchemy.ext.automap.Customer object at 0x1216a5f60>, <sqlalchemy.ext.automap.Order object at 0x12170feb8>), (<sqlalchemy.ext.automap.Customer object at 0x1216bbc18>, <sqlalchemy.ext.automap.Order object at 0x12170ff60>), (<sqlalchemy.ext.automap.Customer object at 0x1216e0cf8>, <sqlalchemy.ext.automap.Order object at 0x121717048>), (<sqlalchemy.ext.automap.Customer object at 0x1216a5f60>, <sqlalchemy.ext.automap.Order object at 0x1217170f0>), (<sqlalchemy.ext.automap.Customer object at 0x1216d87b8>, <sqlalchemy.ext.automap.Order object at 0x121717198>), (<sqlalchemy.ext.automap.Customer object at 0x1216efa58>, <sqlalchemy.ext.automap.Order object at 0x121717240>), (<sqlalchemy.ext.automap.Customer object at 0x1216e0a58>, <sqlalchemy.ext.automap.Order object at 0x1217172e8>), (<sqlalchemy.ext.automap.Customer object at 0x1216c9588>, <sqlalchemy.ext.automap.Order object at 0x121717390>), (<sqlalchemy.ext.automap.Customer object at 0x121717438>, <sqlalchemy.ext.automap.Order object at 0x1217174e0>), (<sqlalchemy.ext.automap.Customer object at 0x1216c97b8>, <sqlalchemy.ext.automap.Order object at 0x121717550>), (<sqlalchemy.ext.automap.Customer object at 0x1216c3a20>, <sqlalchemy.ext.automap.Order object at 0x121717630>), (<sqlalchemy.ext.automap.Customer object at 0x1216a5f60>, <sqlalchemy.ext.automap.Order object at 0x1217176d8>), (<sqlalchemy.ext.automap.Customer object at 0x1216c3e48>, <sqlalchemy.ext.automap.Order object at 0x121717780>), (<sqlalchemy.ext.automap.Customer object at 0x1216e0a58>, <sqlalchemy.ext.automap.Order object at 0x121717828>), (<sqlalchemy.ext.automap.Customer object at 0x1217178d0>, <sqlalchemy.ext.automap.Order object at 0x121717978>), (<sqlalchemy.ext.automap.Customer object at 0x1216d8128>, <sqlalchemy.ext.automap.Order object at 0x1217179e8>), (<sqlalchemy.ext.automap.Customer object at 0x1216c9c50>, <sqlalchemy.ext.automap.Order object at 0x121717ac8>), (<sqlalchemy.ext.automap.Customer object at 0x1216bbeb8>, <sqlalchemy.ext.automap.Order object at 0x121717b70>), (<sqlalchemy.ext.automap.Customer object at 0x1216d8b70>, <sqlalchemy.ext.automap.Order object at 0x121717c18>), (<sqlalchemy.ext.automap.Customer object at 0x1216d8240>, <sqlalchemy.ext.automap.Order object at 0x121717cc0>), (<sqlalchemy.ext.automap.Customer object at 0x1216bb390>, <sqlalchemy.ext.automap.Order object at 0x121717d68>), (<sqlalchemy.ext.automap.Customer object at 0x1217178d0>, <sqlalchemy.ext.automap.Order object at 0x121717e10>), (<sqlalchemy.ext.automap.Customer object at 0x1216d8390>, <sqlalchemy.ext.automap.Order object at 0x121717eb8>), (<sqlalchemy.ext.automap.Customer object at 0x1216d8a58>, <sqlalchemy.ext.automap.Order object at 0x121717f60>), (<sqlalchemy.ext.automap.Customer object at 0x1216e07b8>, <sqlalchemy.ext.automap.Order object at 0x121720048>), (<sqlalchemy.ext.automap.Customer object at 0x1216c9ef0>, <sqlalchemy.ext.automap.Order object at 0x1217200f0>), (<sqlalchemy.ext.automap.Customer object at 0x1216bb0f0>, <sqlalchemy.ext.automap.Order object at 0x121720198>), (<sqlalchemy.ext.automap.Customer object at 0x1216c3320>, <sqlalchemy.ext.automap.Order object at 0x121720240>), (<sqlalchemy.ext.automap.Customer object at 0x1216c9c50>, <sqlalchemy.ext.automap.Order object at 0x1217202e8>), (<sqlalchemy.ext.automap.Customer object at 0x121720390>, <sqlalchemy.ext.automap.Order object at 0x121720438>), (<sqlalchemy.ext.automap.Customer object at 0x1216c3630>, <sqlalchemy.ext.automap.Order object at 0x1217204a8>), (<sqlalchemy.ext.automap.Customer object at 0x1216a5ba8>, <sqlalchemy.ext.automap.Order object at 0x121720588>), (<sqlalchemy.ext.automap.Customer object at 0x1216ef860>, <sqlalchemy.ext.automap.Order object at 0x121720630>), (<sqlalchemy.ext.automap.Customer object at 0x1217206d8>, <sqlalchemy.ext.automap.Order object at 0x121720780>), (<sqlalchemy.ext.automap.Customer object at 0x1216c3a20>, <sqlalchemy.ext.automap.Order object at 0x1217207f0>), (<sqlalchemy.ext.automap.Customer object at 0x1216e8278>, <sqlalchemy.ext.automap.Order object at 0x1217208d0>), (<sqlalchemy.ext.automap.Customer object at 0x1216c38d0>, <sqlalchemy.ext.automap.Order object at 0x121720978>), (<sqlalchemy.ext.automap.Customer object at 0x1216d8a58>, <sqlalchemy.ext.automap.Order object at 0x121720a20>), (<sqlalchemy.ext.automap.Customer object at 0x1216bbac8>, <sqlalchemy.ext.automap.Order object at 0x121720ac8>), (<sqlalchemy.ext.automap.Customer object at 0x1216c3320>, <sqlalchemy.ext.automap.Order object at 0x121720b70>), (<sqlalchemy.ext.automap.Customer object at 0x121720c18>, <sqlalchemy.ext.automap.Order object at 0x121720cc0>), (<sqlalchemy.ext.automap.Customer object at 0x121720d30>, <sqlalchemy.ext.automap.Order object at 0x121720e10>), (<sqlalchemy.ext.automap.Customer object at 0x1216e0cf8>, <sqlalchemy.ext.automap.Order object at 0x121720e80>), (<sqlalchemy.ext.automap.Customer object at 0x1216e86d8>, <sqlalchemy.ext.automap.Order object at 0x121720f60>), (<sqlalchemy.ext.automap.Customer object at 0x1216bb860>, <sqlalchemy.ext.automap.Order object at 0x121726048>), (<sqlalchemy.ext.automap.Customer object at 0x1216c3a20>, <sqlalchemy.ext.automap.Order object at 0x1217260f0>), (<sqlalchemy.ext.automap.Customer object at 0x1216c3a20>, <sqlalchemy.ext.automap.Order object at 0x121726198>), (<sqlalchemy.ext.automap.Customer object at 0x1216a5cc0>, <sqlalchemy.ext.automap.Order object at 0x121726240>), (<sqlalchemy.ext.automap.Customer object at 0x1216c9438>, <sqlalchemy.ext.automap.Order object at 0x1217262e8>), (<sqlalchemy.ext.automap.Customer object at 0x1216c9438>, <sqlalchemy.ext.automap.Order object at 0x121726390>), (<sqlalchemy.ext.automap.Customer object at 0x1216c3320>, <sqlalchemy.ext.automap.Order object at 0x121726438>), (<sqlalchemy.ext.automap.Customer object at 0x1216a5748>, <sqlalchemy.ext.automap.Order object at 0x1217264e0>), (<sqlalchemy.ext.automap.Customer object at 0x1216d8240>, <sqlalchemy.ext.automap.Order object at 0x121726588>), (<sqlalchemy.ext.automap.Customer object at 0x1216c3e48>, <sqlalchemy.ext.automap.Order object at 0x121726630>), (<sqlalchemy.ext.automap.Customer object at 0x1216d1518>, <sqlalchemy.ext.automap.Order object at 0x1217266d8>), (<sqlalchemy.ext.automap.Customer object at 0x12170fb70>, <sqlalchemy.ext.automap.Order object at 0x121726780>), (<sqlalchemy.ext.automap.Customer object at 0x1216a5828>, <sqlalchemy.ext.automap.Order object at 0x121726828>), (<sqlalchemy.ext.automap.Customer object at 0x1216e8278>, <sqlalchemy.ext.automap.Order object at 0x1217268d0>), (<sqlalchemy.ext.automap.Customer object at 0x1216a5668>, <sqlalchemy.ext.automap.Order object at 0x121726978>), (<sqlalchemy.ext.automap.Customer object at 0x1216c3320>, <sqlalchemy.ext.automap.Order object at 0x121726a20>), (<sqlalchemy.ext.automap.Customer object at 0x1216d1128>, <sqlalchemy.ext.automap.Order object at 0x121726ac8>), (<sqlalchemy.ext.automap.Customer object at 0x1216d87b8>, <sqlalchemy.ext.automap.Order object at 0x121726b70>), (<sqlalchemy.ext.automap.Customer object at 0x1216a5f60>, <sqlalchemy.ext.automap.Order object at 0x121726c18>), (<sqlalchemy.ext.automap.Customer object at 0x1216bbac8>, <sqlalchemy.ext.automap.Order object at 0x121726cc0>), (<sqlalchemy.ext.automap.Customer object at 0x1216bb390>, <sqlalchemy.ext.automap.Order object at 0x121726d68>), (<sqlalchemy.ext.automap.Customer object at 0x1216d8390>, <sqlalchemy.ext.automap.Order object at 0x121726e10>), (<sqlalchemy.ext.automap.Customer object at 0x1216e0320>, <sqlalchemy.ext.automap.Order object at 0x121726eb8>), (<sqlalchemy.ext.automap.Customer object at 0x1216c3a20>, <sqlalchemy.ext.automap.Order object at 0x121726f60>), (<sqlalchemy.ext.automap.Customer object at 0x1216e0ef0>, <sqlalchemy.ext.automap.Order object at 0x12172f048>), (<sqlalchemy.ext.automap.Customer object at 0x1216bb978>, <sqlalchemy.ext.automap.Order object at 0x12172f0f0>), (<sqlalchemy.ext.automap.Customer object at 0x1216bbc18>, <sqlalchemy.ext.automap.Order object at 0x12172f198>), (<sqlalchemy.ext.automap.Customer object at 0x1216bb860>, <sqlalchemy.ext.automap.Order object at 0x12172f240>), (<sqlalchemy.ext.automap.Customer object at 0x1216c92e8>, <sqlalchemy.ext.automap.Order object at 0x12172f2e8>), (<sqlalchemy.ext.automap.Customer object at 0x1216c91d0>, <sqlalchemy.ext.automap.Order object at 0x12172f390>), (<sqlalchemy.ext.automap.Customer object at 0x1216bb630>, <sqlalchemy.ext.automap.Order object at 0x12172f438>), (<sqlalchemy.ext.automap.Customer object at 0x1216d8b70>, <sqlalchemy.ext.automap.Order object at 0x12172f4e0>), (<sqlalchemy.ext.automap.Customer object at 0x1216bb978>, <sqlalchemy.ext.automap.Order object at 0x12172f588>), (<sqlalchemy.ext.automap.Customer object at 0x1216c9c50>, <sqlalchemy.ext.automap.Order object at 0x12172f630>), (<sqlalchemy.ext.automap.Customer object at 0x1216e8828>, <sqlalchemy.ext.automap.Order object at 0x12172f6d8>), (<sqlalchemy.ext.automap.Customer object at 0x1216bb630>, <sqlalchemy.ext.automap.Order object at 0x12172f780>), (<sqlalchemy.ext.automap.Customer object at 0x1216d8b70>, <sqlalchemy.ext.automap.Order object at 0x12172f828>), (<sqlalchemy.ext.automap.Customer object at 0x1216bb0f0>, <sqlalchemy.ext.automap.Order object at 0x12172f8d0>), (<sqlalchemy.ext.automap.Customer object at 0x1216c38d0>, <sqlalchemy.ext.automap.Order object at 0x12172f978>), (<sqlalchemy.ext.automap.Customer object at 0x12172fa20>, <sqlalchemy.ext.automap.Order object at 0x12172fac8>), (<sqlalchemy.ext.automap.Customer object at 0x1216c3780>, <sqlalchemy.ext.automap.Order object at 0x12172fb38>), (<sqlalchemy.ext.automap.Customer object at 0x1216c3630>, <sqlalchemy.ext.automap.Order object at 0x12172fc18>), (<sqlalchemy.ext.automap.Customer object at 0x12172fa20>, <sqlalchemy.ext.automap.Order object at 0x12172fcc0>), (<sqlalchemy.ext.automap.Customer object at 0x1216c9438>, <sqlalchemy.ext.automap.Order object at 0x12172fd68>), (<sqlalchemy.ext.automap.Customer object at 0x12172fe10>, <sqlalchemy.ext.automap.Order object at 0x12172feb8>), (<sqlalchemy.ext.automap.Customer object at 0x1216bb390>, <sqlalchemy.ext.automap.Order object at 0x12172ff28>), (<sqlalchemy.ext.automap.Customer object at 0x1216e07b8>, <sqlalchemy.ext.automap.Order object at 0x121737048>), (<sqlalchemy.ext.automap.Customer object at 0x1217178d0>, <sqlalchemy.ext.automap.Order object at 0x1217370f0>), (<sqlalchemy.ext.automap.Customer object at 0x1216bbac8>, <sqlalchemy.ext.automap.Order object at 0x121737198>), (<sqlalchemy.ext.automap.Customer object at 0x1216bb978>, <sqlalchemy.ext.automap.Order object at 0x121737240>), (<sqlalchemy.ext.automap.Customer object at 0x1216a5e10>, <sqlalchemy.ext.automap.Order object at 0x1217372e8>), (<sqlalchemy.ext.automap.Customer object at 0x1216c92e8>, <sqlalchemy.ext.automap.Order object at 0x121737390>), (<sqlalchemy.ext.automap.Customer object at 0x1216bb4e0>, <sqlalchemy.ext.automap.Order object at 0x121737438>), (<sqlalchemy.ext.automap.Customer object at 0x1216c3320>, <sqlalchemy.ext.automap.Order object at 0x1217374e0>), (<sqlalchemy.ext.automap.Customer object at 0x121720c18>, <sqlalchemy.ext.automap.Order object at 0x121737588>), (<sqlalchemy.ext.automap.Customer object at 0x1216d8b70>, <sqlalchemy.ext.automap.Order object at 0x121737630>), (<sqlalchemy.ext.automap.Customer object at 0x1216e8978>, <sqlalchemy.ext.automap.Order object at 0x1217376d8>), (<sqlalchemy.ext.automap.Customer object at 0x1216c3a20>, <sqlalchemy.ext.automap.Order object at 0x121737780>), (<sqlalchemy.ext.automap.Customer object at 0x1216c3a20>, <sqlalchemy.ext.automap.Order object at 0x121737828>), (<sqlalchemy.ext.automap.Customer object at 0x1216d1320>, <sqlalchemy.ext.automap.Order object at 0x1217378d0>), (<sqlalchemy.ext.automap.Customer object at 0x1216bb0f0>, <sqlalchemy.ext.automap.Order object at 0x121737978>), (<sqlalchemy.ext.automap.Customer object at 0x1216bbeb8>, <sqlalchemy.ext.automap.Order object at 0x121737a20>), (<sqlalchemy.ext.automap.Customer object at 0x1216e0cf8>, <sqlalchemy.ext.automap.Order object at 0x121737ac8>), (<sqlalchemy.ext.automap.Customer object at 0x1216bb630>, <sqlalchemy.ext.automap.Order object at 0x121737b70>), (<sqlalchemy.ext.automap.Customer object at 0x1216c9438>, <sqlalchemy.ext.automap.Order object at 0x121737c18>), (<sqlalchemy.ext.automap.Customer object at 0x1216e8f60>, <sqlalchemy.ext.automap.Order object at 0x121737cc0>), (<sqlalchemy.ext.automap.Customer object at 0x1216a5f60>, <sqlalchemy.ext.automap.Order object at 0x121737d68>), (<sqlalchemy.ext.automap.Customer object at 0x1216e8978>, <sqlalchemy.ext.automap.Order object at 0x121737e10>), (<sqlalchemy.ext.automap.Customer object at 0x1216d8390>, <sqlalchemy.ext.automap.Order object at 0x121737eb8>), (<sqlalchemy.ext.automap.Customer object at 0x1216d87b8>, <sqlalchemy.ext.automap.Order object at 0x121737f60>), (<sqlalchemy.ext.automap.Customer object at 0x1216d8b70>, <sqlalchemy.ext.automap.Order object at 0x12173e048>), (<sqlalchemy.ext.automap.Customer object at 0x1216c97b8>, <sqlalchemy.ext.automap.Order object at 0x12173e0f0>), (<sqlalchemy.ext.automap.Customer object at 0x1216d8390>, <sqlalchemy.ext.automap.Order object at 0x12173e198>), (<sqlalchemy.ext.automap.Customer object at 0x1216a5668>, <sqlalchemy.ext.automap.Order object at 0x12173e240>), (<sqlalchemy.ext.automap.Customer object at 0x1216e0a58>, <sqlalchemy.ext.automap.Order object at 0x12173e2e8>), (<sqlalchemy.ext.automap.Customer object at 0x1216e8e48>, <sqlalchemy.ext.automap.Order object at 0x12173e390>), (<sqlalchemy.ext.automap.Customer object at 0x1216d8390>, <sqlalchemy.ext.automap.Order object at 0x12173e438>), (<sqlalchemy.ext.automap.Customer object at 0x1216a5f60>, <sqlalchemy.ext.automap.Order object at 0x12173e4e0>), (<sqlalchemy.ext.automap.Customer object at 0x1217178d0>, <sqlalchemy.ext.automap.Order object at 0x12173e588>), (<sqlalchemy.ext.automap.Customer object at 0x12173e630>, <sqlalchemy.ext.automap.Order object at 0x12173e6d8>), (<sqlalchemy.ext.automap.Customer object at 0x121720c18>, <sqlalchemy.ext.automap.Order object at 0x12173e748>), (<sqlalchemy.ext.automap.Customer object at 0x121720c18>, <sqlalchemy.ext.automap.Order object at 0x12173e828>), (<sqlalchemy.ext.automap.Customer object at 0x1216d8b70>, <sqlalchemy.ext.automap.Order object at 0x12173e8d0>), (<sqlalchemy.ext.automap.Customer object at 0x1216d8b70>, <sqlalchemy.ext.automap.Order object at 0x12173e978>), (<sqlalchemy.ext.automap.Customer object at 0x121717438>, <sqlalchemy.ext.automap.Order object at 0x12173ea20>), (<sqlalchemy.ext.automap.Customer object at 0x1216d1ba8>, <sqlalchemy.ext.automap.Order object at 0x12173eac8>), (<sqlalchemy.ext.automap.Customer object at 0x1216c91d0>, <sqlalchemy.ext.automap.Order object at 0x12173eb70>), (<sqlalchemy.ext.automap.Customer object at 0x1216bbc18>, <sqlalchemy.ext.automap.Order object at 0x12173ec18>), (<sqlalchemy.ext.automap.Customer object at 0x12173ecc0>, <sqlalchemy.ext.automap.Order object at 0x12173ed68>), (<sqlalchemy.ext.automap.Customer object at 0x1216d1630>, <sqlalchemy.ext.automap.Order object at 0x12173edd8>), (<sqlalchemy.ext.automap.Customer object at 0x1216c38d0>, <sqlalchemy.ext.automap.Order object at 0x12173eeb8>), (<sqlalchemy.ext.automap.Customer object at 0x1216d8390>, <sqlalchemy.ext.automap.Order object at 0x12173ef60>), (<sqlalchemy.ext.automap.Customer object at 0x1216bb978>, <sqlalchemy.ext.automap.Order object at 0x121747048>), (<sqlalchemy.ext.automap.Customer object at 0x1216d1128>, <sqlalchemy.ext.automap.Order object at 0x1217470f0>), (<sqlalchemy.ext.automap.Customer object at 0x1216d8240>, <sqlalchemy.ext.automap.Order object at 0x121747198>), (<sqlalchemy.ext.automap.Customer object at 0x1216e0a58>, <sqlalchemy.ext.automap.Order object at 0x121747240>), (<sqlalchemy.ext.automap.Customer object at 0x1216c9ef0>, <sqlalchemy.ext.automap.Order object at 0x1217472e8>), (<sqlalchemy.ext.automap.Customer object at 0x1216bb0f0>, <sqlalchemy.ext.automap.Order object at 0x121747390>), (<sqlalchemy.ext.automap.Customer object at 0x1216f77b8>, <sqlalchemy.ext.automap.Order object at 0x121747438>), (<sqlalchemy.ext.automap.Customer object at 0x1216c3518>, <sqlalchemy.ext.automap.Order object at 0x1217474e0>), (<sqlalchemy.ext.automap.Customer object at 0x1216bbac8>, <sqlalchemy.ext.automap.Order object at 0x121747588>), (<sqlalchemy.ext.automap.Customer object at 0x1216f75c0>, <sqlalchemy.ext.automap.Order object at 0x121747630>), (<sqlalchemy.ext.automap.Customer object at 0x1216ef860>, <sqlalchemy.ext.automap.Order object at 0x1217476d8>), (<sqlalchemy.ext.automap.Customer object at 0x1216c9ef0>, <sqlalchemy.ext.automap.Order object at 0x121747780>), (<sqlalchemy.ext.automap.Customer object at 0x1216a5f60>, <sqlalchemy.ext.automap.Order object at 0x121747828>), (<sqlalchemy.ext.automap.Customer object at 0x1216e0320>, <sqlalchemy.ext.automap.Order object at 0x1217478d0>), (<sqlalchemy.ext.automap.Customer object at 0x121747978>, <sqlalchemy.ext.automap.Order object at 0x121747a20>), (<sqlalchemy.ext.automap.Customer object at 0x1216a5e10>, <sqlalchemy.ext.automap.Order object at 0x121747a90>), (<sqlalchemy.ext.automap.Customer object at 0x1216a5748>, <sqlalchemy.ext.automap.Order object at 0x121747b70>), (<sqlalchemy.ext.automap.Customer object at 0x1216c9c50>, <sqlalchemy.ext.automap.Order object at 0x121747c18>), (<sqlalchemy.ext.automap.Customer object at 0x1216bb4e0>, <sqlalchemy.ext.automap.Order object at 0x121747cc0>), (<sqlalchemy.ext.automap.Customer object at 0x1216c91d0>, <sqlalchemy.ext.automap.Order object at 0x121747d68>), (<sqlalchemy.ext.automap.Customer object at 0x121720d30>, <sqlalchemy.ext.automap.Order object at 0x121747e10>), (<sqlalchemy.ext.automap.Customer object at 0x1216e07b8>, <sqlalchemy.ext.automap.Order object at 0x121747eb8>), (<sqlalchemy.ext.automap.Customer object at 0x1216c9ef0>, <sqlalchemy.ext.automap.Order object at 0x121747f60>), (<sqlalchemy.ext.automap.Customer object at 0x1216ff240>, <sqlalchemy.ext.automap.Order object at 0x12174e048>), (<sqlalchemy.ext.automap.Customer object at 0x1216bbc18>, <sqlalchemy.ext.automap.Order object at 0x12174e0f0>), (<sqlalchemy.ext.automap.Customer object at 0x1216c38d0>, <sqlalchemy.ext.automap.Order object at 0x12174e198>), (<sqlalchemy.ext.automap.Customer object at 0x1216c92e8>, <sqlalchemy.ext.automap.Order object at 0x12174e240>), (<sqlalchemy.ext.automap.Customer object at 0x121720c18>, <sqlalchemy.ext.automap.Order object at 0x12174e2e8>), (<sqlalchemy.ext.automap.Customer object at 0x1216d8390>, <sqlalchemy.ext.automap.Order object at 0x12174e390>), (<sqlalchemy.ext.automap.Customer object at 0x1216c3320>, <sqlalchemy.ext.automap.Order object at 0x12174e438>), (<sqlalchemy.ext.automap.Customer object at 0x1216e8f60>, <sqlalchemy.ext.automap.Order object at 0x12174e4e0>), (<sqlalchemy.ext.automap.Customer object at 0x1216c9c50>, <sqlalchemy.ext.automap.Order object at 0x12174e588>), (<sqlalchemy.ext.automap.Customer object at 0x1216d1518>, <sqlalchemy.ext.automap.Order object at 0x12174e630>), (<sqlalchemy.ext.automap.Customer object at 0x1216d8a58>, <sqlalchemy.ext.automap.Order object at 0x12174e6d8>), (<sqlalchemy.ext.automap.Customer object at 0x1216d87b8>, <sqlalchemy.ext.automap.Order object at 0x12174e780>), (<sqlalchemy.ext.automap.Customer object at 0x1216d1518>, <sqlalchemy.ext.automap.Order object at 0x12174e828>), (<sqlalchemy.ext.automap.Customer object at 0x1216a5cc0>, <sqlalchemy.ext.automap.Order object at 0x12174e8d0>), (<sqlalchemy.ext.automap.Customer object at 0x1216bb0f0>, <sqlalchemy.ext.automap.Order object at 0x12174e978>), (<sqlalchemy.ext.automap.Customer object at 0x1216c9ef0>, <sqlalchemy.ext.automap.Order object at 0x12174ea20>), (<sqlalchemy.ext.automap.Customer object at 0x1216e0320>, <sqlalchemy.ext.automap.Order object at 0x12174eac8>), (<sqlalchemy.ext.automap.Customer object at 0x1216bbc18>, <sqlalchemy.ext.automap.Order object at 0x12174eb70>), (<sqlalchemy.ext.automap.Customer object at 0x12174ec18>, <sqlalchemy.ext.automap.Order object at 0x12174ecc0>), (<sqlalchemy.ext.automap.Customer object at 0x1216c38d0>, <sqlalchemy.ext.automap.Order object at 0x12174ed30>), (<sqlalchemy.ext.automap.Customer object at 0x12173e630>, <sqlalchemy.ext.automap.Order object at 0x12174ee10>), (<sqlalchemy.ext.automap.Customer object at 0x1216d1ba8>, <sqlalchemy.ext.automap.Order object at 0x12174eeb8>), (<sqlalchemy.ext.automap.Customer object at 0x1216bbc18>, <sqlalchemy.ext.automap.Order object at 0x12174ef60>), (<sqlalchemy.ext.automap.Customer object at 0x1216c3630>, <sqlalchemy.ext.automap.Order object at 0x121755048>), (<sqlalchemy.ext.automap.Customer object at 0x1216d8390>, <sqlalchemy.ext.automap.Order object at 0x1217550f0>), (<sqlalchemy.ext.automap.Customer object at 0x1216bb978>, <sqlalchemy.ext.automap.Order object at 0x121755198>), (<sqlalchemy.ext.automap.Customer object at 0x1216d1320>, <sqlalchemy.ext.automap.Order object at 0x121755240>), (<sqlalchemy.ext.automap.Customer object at 0x121720c18>, <sqlalchemy.ext.automap.Order object at 0x1217552e8>), (<sqlalchemy.ext.automap.Customer object at 0x1216bb390>, <sqlalchemy.ext.automap.Order object at 0x121755390>), (<sqlalchemy.ext.automap.Customer object at 0x1216ff240>, <sqlalchemy.ext.automap.Order object at 0x121755438>), (<sqlalchemy.ext.automap.Customer object at 0x1216e0cf8>, <sqlalchemy.ext.automap.Order object at 0x1217554e0>), (<sqlalchemy.ext.automap.Customer object at 0x1216c9c50>, <sqlalchemy.ext.automap.Order object at 0x121755588>), (<sqlalchemy.ext.automap.Customer object at 0x1216e8978>, <sqlalchemy.ext.automap.Order object at 0x121755630>), (<sqlalchemy.ext.automap.Customer object at 0x1216c38d0>, <sqlalchemy.ext.automap.Order object at 0x1217556d8>), (<sqlalchemy.ext.automap.Customer object at 0x1216a5748>, <sqlalchemy.ext.automap.Order object at 0x121755780>), (<sqlalchemy.ext.automap.Customer object at 0x1216c3320>, <sqlalchemy.ext.automap.Order object at 0x121755828>), (<sqlalchemy.ext.automap.Customer object at 0x121747978>, <sqlalchemy.ext.automap.Order object at 0x1217558d0>), (<sqlalchemy.ext.automap.Customer object at 0x1216bbeb8>, <sqlalchemy.ext.automap.Order object at 0x121755978>), (<sqlalchemy.ext.automap.Customer object at 0x1216c3320>, <sqlalchemy.ext.automap.Order object at 0x121755a20>), (<sqlalchemy.ext.automap.Customer object at 0x12173e630>, <sqlalchemy.ext.automap.Order object at 0x121755ac8>), (<sqlalchemy.ext.automap.Customer object at 0x1216bbeb8>, <sqlalchemy.ext.automap.Order object at 0x121755b70>), (<sqlalchemy.ext.automap.Customer object at 0x1216f75c0>, <sqlalchemy.ext.automap.Order object at 0x121755c18>), (<sqlalchemy.ext.automap.Customer object at 0x1216bb0f0>, <sqlalchemy.ext.automap.Order object at 0x121755cc0>), (<sqlalchemy.ext.automap.Customer object at 0x1216c3780>, <sqlalchemy.ext.automap.Order object at 0x121755d68>), (<sqlalchemy.ext.automap.Customer object at 0x1216d8390>, <sqlalchemy.ext.automap.Order object at 0x121755e10>), (<sqlalchemy.ext.automap.Customer object at 0x1216c9c50>, <sqlalchemy.ext.automap.Order object at 0x121755eb8>), (<sqlalchemy.ext.automap.Customer object at 0x121747978>, <sqlalchemy.ext.automap.Order object at 0x121755f60>), (<sqlalchemy.ext.automap.Customer object at 0x1216bb860>, <sqlalchemy.ext.automap.Order object at 0x12175f048>), (<sqlalchemy.ext.automap.Customer object at 0x1216a5f60>, <sqlalchemy.ext.automap.Order object at 0x12175f0f0>), (<sqlalchemy.ext.automap.Customer object at 0x1216d1320>, <sqlalchemy.ext.automap.Order object at 0x12175f198>), (<sqlalchemy.ext.automap.Customer object at 0x1216e0ef0>, <sqlalchemy.ext.automap.Order object at 0x12175f240>), (<sqlalchemy.ext.automap.Customer object at 0x1216d1860>, <sqlalchemy.ext.automap.Order object at 0x12175f2e8>), (<sqlalchemy.ext.automap.Customer object at 0x1216ff240>, <sqlalchemy.ext.automap.Order object at 0x12175f390>), (<sqlalchemy.ext.automap.Customer object at 0x1216ff128>, <sqlalchemy.ext.automap.Order object at 0x12175f438>), (<sqlalchemy.ext.automap.Customer object at 0x1216d8390>, <sqlalchemy.ext.automap.Order object at 0x12175f4e0>), (<sqlalchemy.ext.automap.Customer object at 0x1216c9c50>, <sqlalchemy.ext.automap.Order object at 0x12175f588>), (<sqlalchemy.ext.automap.Customer object at 0x1216d8390>, <sqlalchemy.ext.automap.Order object at 0x12175f630>), (<sqlalchemy.ext.automap.Customer object at 0x1216d8390>, <sqlalchemy.ext.automap.Order object at 0x12175f6d8>), (<sqlalchemy.ext.automap.Customer object at 0x1216d8a58>, <sqlalchemy.ext.automap.Order object at 0x12175f780>), (<sqlalchemy.ext.automap.Customer object at 0x121706438>, <sqlalchemy.ext.automap.Order object at 0x12175f828>), (<sqlalchemy.ext.automap.Customer object at 0x1216bbc18>, <sqlalchemy.ext.automap.Order object at 0x12175f8d0>), (<sqlalchemy.ext.automap.Customer object at 0x1216d8240>, <sqlalchemy.ext.automap.Order object at 0x12175f978>), (<sqlalchemy.ext.automap.Customer object at 0x12172fe10>, <sqlalchemy.ext.automap.Order object at 0x12175fa20>), (<sqlalchemy.ext.automap.Customer object at 0x1216bb4e0>, <sqlalchemy.ext.automap.Order object at 0x12175fac8>), (<sqlalchemy.ext.automap.Customer object at 0x1216c3320>, <sqlalchemy.ext.automap.Order object at 0x12175fb70>), (<sqlalchemy.ext.automap.Customer object at 0x1216d8390>, <sqlalchemy.ext.automap.Order object at 0x12175fc18>), (<sqlalchemy.ext.automap.Customer object at 0x1216bbeb8>, <sqlalchemy.ext.automap.Order object at 0x12175fcc0>), (<sqlalchemy.ext.automap.Customer object at 0x1216d8b70>, <sqlalchemy.ext.automap.Order object at 0x12175fd68>), (<sqlalchemy.ext.automap.Customer object at 0x1216e07b8>, <sqlalchemy.ext.automap.Order object at 0x12175fe10>), (<sqlalchemy.ext.automap.Customer object at 0x1216e86d8>, <sqlalchemy.ext.automap.Order object at 0x12175feb8>), (<sqlalchemy.ext.automap.Customer object at 0x1216c92e8>, <sqlalchemy.ext.automap.Order object at 0x12175ff60>), (<sqlalchemy.ext.automap.Customer object at 0x1216f75c0>, <sqlalchemy.ext.automap.Order object at 0x121766048>), (<sqlalchemy.ext.automap.Customer object at 0x1216d8a58>, <sqlalchemy.ext.automap.Order object at 0x1217660f0>), (<sqlalchemy.ext.automap.Customer object at 0x1216a5ba8>, <sqlalchemy.ext.automap.Order object at 0x121766198>), (<sqlalchemy.ext.automap.Customer object at 0x1216d8a58>, <sqlalchemy.ext.automap.Order object at 0x121766240>), (<sqlalchemy.ext.automap.Customer object at 0x1216c38d0>, <sqlalchemy.ext.automap.Order object at 0x1217662e8>), (<sqlalchemy.ext.automap.Customer object at 0x1216ff240>, <sqlalchemy.ext.automap.Order object at 0x121766390>), (<sqlalchemy.ext.automap.Customer object at 0x12172fe10>, <sqlalchemy.ext.automap.Order object at 0x121766438>), (<sqlalchemy.ext.automap.Customer object at 0x1216c9c50>, <sqlalchemy.ext.automap.Order object at 0x1217664e0>), (<sqlalchemy.ext.automap.Customer object at 0x1216a5588>, <sqlalchemy.ext.automap.Order object at 0x121766588>), (<sqlalchemy.ext.automap.Customer object at 0x121766630>, <sqlalchemy.ext.automap.Order object at 0x1217666d8>), (<sqlalchemy.ext.automap.Customer object at 0x1216a5588>, <sqlalchemy.ext.automap.Order object at 0x121766748>), (<sqlalchemy.ext.automap.Customer object at 0x1216bbeb8>, <sqlalchemy.ext.automap.Order object at 0x121766828>), (<sqlalchemy.ext.automap.Customer object at 0x1216e0ef0>, <sqlalchemy.ext.automap.Order object at 0x1217668d0>), (<sqlalchemy.ext.automap.Customer object at 0x1216efa58>, <sqlalchemy.ext.automap.Order object at 0x121766978>), (<sqlalchemy.ext.automap.Customer object at 0x1216e0ef0>, <sqlalchemy.ext.automap.Order object at 0x121766a20>), (<sqlalchemy.ext.automap.Customer object at 0x1216e8978>, <sqlalchemy.ext.automap.Order object at 0x121766ac8>), (<sqlalchemy.ext.automap.Customer object at 0x1216c3320>, <sqlalchemy.ext.automap.Order object at 0x121766b70>), (<sqlalchemy.ext.automap.Customer object at 0x1216a5ba8>, <sqlalchemy.ext.automap.Order object at 0x121766c18>), (<sqlalchemy.ext.automap.Customer object at 0x1216e0cf8>, <sqlalchemy.ext.automap.Order object at 0x121766cc0>), (<sqlalchemy.ext.automap.Customer object at 0x1216d8390>, <sqlalchemy.ext.automap.Order object at 0x121766d68>), (<sqlalchemy.ext.automap.Customer object at 0x1216d1ba8>, <sqlalchemy.ext.automap.Order object at 0x121766e10>), (<sqlalchemy.ext.automap.Customer object at 0x1216bbac8>, <sqlalchemy.ext.automap.Order object at 0x121766eb8>), (<sqlalchemy.ext.automap.Customer object at 0x1216a5cc0>, <sqlalchemy.ext.automap.Order object at 0x121766f60>), (<sqlalchemy.ext.automap.Customer object at 0x121720390>, <sqlalchemy.ext.automap.Order object at 0x12176d048>), (<sqlalchemy.ext.automap.Customer object at 0x1216ff128>, <sqlalchemy.ext.automap.Order object at 0x12176d0f0>), (<sqlalchemy.ext.automap.Customer object at 0x1216c3518>, <sqlalchemy.ext.automap.Order object at 0x12176d198>), (<sqlalchemy.ext.automap.Customer object at 0x1216d8a58>, <sqlalchemy.ext.automap.Order object at 0x12176d240>), (<sqlalchemy.ext.automap.Customer object at 0x1216c3128>, <sqlalchemy.ext.automap.Order object at 0x12176d2e8>), (<sqlalchemy.ext.automap.Customer object at 0x1216d8390>, <sqlalchemy.ext.automap.Order object at 0x12176d390>), (<sqlalchemy.ext.automap.Customer object at 0x1216a5cc0>, <sqlalchemy.ext.automap.Order object at 0x12176d438>), (<sqlalchemy.ext.automap.Customer object at 0x1216d1630>, <sqlalchemy.ext.automap.Order object at 0x12176d4e0>), (<sqlalchemy.ext.automap.Customer object at 0x121720d30>, <sqlalchemy.ext.automap.Order object at 0x12176d588>), (<sqlalchemy.ext.automap.Customer object at 0x1216bb630>, <sqlalchemy.ext.automap.Order object at 0x12176d630>), (<sqlalchemy.ext.automap.Customer object at 0x1216bb860>, <sqlalchemy.ext.automap.Order object at 0x12176d6d8>), (<sqlalchemy.ext.automap.Customer object at 0x1216f77b8>, <sqlalchemy.ext.automap.Order object at 0x12176d780>), (<sqlalchemy.ext.automap.Customer object at 0x1216bb0f0>, <sqlalchemy.ext.automap.Order object at 0x12176d828>), (<sqlalchemy.ext.automap.Customer object at 0x1216c3320>, <sqlalchemy.ext.automap.Order object at 0x12176d8d0>), (<sqlalchemy.ext.automap.Customer object at 0x1216bb390>, <sqlalchemy.ext.automap.Order object at 0x12176d978>), (<sqlalchemy.ext.automap.Customer object at 0x1216a5978>, <sqlalchemy.ext.automap.Order object at 0x12176da20>), (<sqlalchemy.ext.automap.Customer object at 0x1216e0ef0>, <sqlalchemy.ext.automap.Order object at 0x12176dac8>), (<sqlalchemy.ext.automap.Customer object at 0x1216e8978>, <sqlalchemy.ext.automap.Order object at 0x12176db70>), (<sqlalchemy.ext.automap.Customer object at 0x1216a5748>, <sqlalchemy.ext.automap.Order object at 0x12176dc18>), (<sqlalchemy.ext.automap.Customer object at 0x1216bb0f0>, <sqlalchemy.ext.automap.Order object at 0x12176dcc0>), (<sqlalchemy.ext.automap.Customer object at 0x1216c3a20>, <sqlalchemy.ext.automap.Order object at 0x12176dd68>), (<sqlalchemy.ext.automap.Customer object at 0x1216bb0f0>, <sqlalchemy.ext.automap.Order object at 0x12176de10>), (<sqlalchemy.ext.automap.Customer object at 0x1216bb860>, <sqlalchemy.ext.automap.Order object at 0x12176deb8>), (<sqlalchemy.ext.automap.Customer object at 0x12173ecc0>, <sqlalchemy.ext.automap.Order object at 0x12176df60>), (<sqlalchemy.ext.automap.Customer object at 0x1216bb0f0>, <sqlalchemy.ext.automap.Order object at 0x121776048>), (<sqlalchemy.ext.automap.Customer object at 0x1216ff240>, <sqlalchemy.ext.automap.Order object at 0x1217760f0>), (<sqlalchemy.ext.automap.Customer object at 0x1216c38d0>, <sqlalchemy.ext.automap.Order object at 0x121776198>), (<sqlalchemy.ext.automap.Customer object at 0x1216c3780>, <sqlalchemy.ext.automap.Order object at 0x121776240>), (<sqlalchemy.ext.automap.Customer object at 0x1216c3e48>, <sqlalchemy.ext.automap.Order object at 0x1217762e8>), (<sqlalchemy.ext.automap.Customer object at 0x1216bbac8>, <sqlalchemy.ext.automap.Order object at 0x121776390>), (<sqlalchemy.ext.automap.Customer object at 0x1217206d8>, <sqlalchemy.ext.automap.Order object at 0x121776438>), (<sqlalchemy.ext.automap.Customer object at 0x1216a5748>, <sqlalchemy.ext.automap.Order object at 0x1217764e0>), (<sqlalchemy.ext.automap.Customer object at 0x1216c3518>, <sqlalchemy.ext.automap.Order object at 0x121776588>), (<sqlalchemy.ext.automap.Customer object at 0x1216bbd68>, <sqlalchemy.ext.automap.Order object at 0x121776630>), (<sqlalchemy.ext.automap.Customer object at 0x1216e0a58>, <sqlalchemy.ext.automap.Order object at 0x1217766d8>), (<sqlalchemy.ext.automap.Customer object at 0x1216c3320>, <sqlalchemy.ext.automap.Order object at 0x121776780>), (<sqlalchemy.ext.automap.Customer object at 0x1216f77b8>, <sqlalchemy.ext.automap.Order object at 0x121776828>), (<sqlalchemy.ext.automap.Customer object at 0x1216ff240>, <sqlalchemy.ext.automap.Order object at 0x1217768d0>), (<sqlalchemy.ext.automap.Customer object at 0x1216bbc18>, <sqlalchemy.ext.automap.Order object at 0x121776978>), (<sqlalchemy.ext.automap.Customer object at 0x1216e8e48>, <sqlalchemy.ext.automap.Order object at 0x121776a20>), (<sqlalchemy.ext.automap.Customer object at 0x1216e0ef0>, <sqlalchemy.ext.automap.Order object at 0x121776ac8>), (<sqlalchemy.ext.automap.Customer object at 0x1216bb4e0>, <sqlalchemy.ext.automap.Order object at 0x121776b70>), (<sqlalchemy.ext.automap.Customer object at 0x1216bb0f0>, <sqlalchemy.ext.automap.Order object at 0x121776c18>), (<sqlalchemy.ext.automap.Customer object at 0x1216a5f60>, <sqlalchemy.ext.automap.Order object at 0x121776cc0>), (<sqlalchemy.ext.automap.Customer object at 0x1216e85c0>, <sqlalchemy.ext.automap.Order object at 0x121776d68>), (<sqlalchemy.ext.automap.Customer object at 0x1216d1ba8>, <sqlalchemy.ext.automap.Order object at 0x121776e10>), (<sqlalchemy.ext.automap.Customer object at 0x1216d8240>, <sqlalchemy.ext.automap.Order object at 0x121776eb8>), (<sqlalchemy.ext.automap.Customer object at 0x1216e8278>, <sqlalchemy.ext.automap.Order object at 0x121776f60>), (<sqlalchemy.ext.automap.Customer object at 0x1216d85c0>, <sqlalchemy.ext.automap.Order object at 0x12177d048>), (<sqlalchemy.ext.automap.Customer object at 0x1216e0320>, <sqlalchemy.ext.automap.Order object at 0x12177d0f0>), (<sqlalchemy.ext.automap.Customer object at 0x1216a5e10>, <sqlalchemy.ext.automap.Order object at 0x12177d198>), (<sqlalchemy.ext.automap.Customer object at 0x1216e8278>, <sqlalchemy.ext.automap.Order object at 0x12177d240>), (<sqlalchemy.ext.automap.Customer object at 0x1216d1860>, <sqlalchemy.ext.automap.Order object at 0x12177d2e8>), (<sqlalchemy.ext.automap.Customer object at 0x1216a5828>, <sqlalchemy.ext.automap.Order object at 0x12177d390>), (<sqlalchemy.ext.automap.Customer object at 0x1216ff128>, <sqlalchemy.ext.automap.Order object at 0x12177d438>), (<sqlalchemy.ext.automap.Customer object at 0x1216d1320>, <sqlalchemy.ext.automap.Order object at 0x12177d4e0>), (<sqlalchemy.ext.automap.Customer object at 0x1216a5e10>, <sqlalchemy.ext.automap.Order object at 0x12177d588>), (<sqlalchemy.ext.automap.Customer object at 0x121717438>, <sqlalchemy.ext.automap.Order object at 0x12177d630>), (<sqlalchemy.ext.automap.Customer object at 0x1216f75c0>, <sqlalchemy.ext.automap.Order object at 0x12177d6d8>), (<sqlalchemy.ext.automap.Customer object at 0x1216c92e8>, <sqlalchemy.ext.automap.Order object at 0x12177d780>), (<sqlalchemy.ext.automap.Customer object at 0x1216c91d0>, <sqlalchemy.ext.automap.Order object at 0x12177d828>), (<sqlalchemy.ext.automap.Customer object at 0x1216a5828>, <sqlalchemy.ext.automap.Order object at 0x12177d8d0>), (<sqlalchemy.ext.automap.Customer object at 0x1216d8390>, <sqlalchemy.ext.automap.Order object at 0x12177d978>), (<sqlalchemy.ext.automap.Customer object at 0x121720c18>, <sqlalchemy.ext.automap.Order object at 0x12177da20>), (<sqlalchemy.ext.automap.Customer object at 0x1216d8240>, <sqlalchemy.ext.automap.Order object at 0x12177dac8>), (<sqlalchemy.ext.automap.Customer object at 0x1216c3518>, <sqlalchemy.ext.automap.Order object at 0x12177db70>), (<sqlalchemy.ext.automap.Customer object at 0x1217206d8>, <sqlalchemy.ext.automap.Order object at 0x12177dc18>), (<sqlalchemy.ext.automap.Customer object at 0x1216bb630>, <sqlalchemy.ext.automap.Order object at 0x12177dcc0>), (<sqlalchemy.ext.automap.Customer object at 0x1216c3128>, <sqlalchemy.ext.automap.Order object at 0x12177dd68>), (<sqlalchemy.ext.automap.Customer object at 0x12172fa20>, <sqlalchemy.ext.automap.Order object at 0x12177de10>), (<sqlalchemy.ext.automap.Customer object at 0x1216c3e48>, <sqlalchemy.ext.automap.Order object at 0x12177deb8>), (<sqlalchemy.ext.automap.Customer object at 0x1216bb860>, <sqlalchemy.ext.automap.Order object at 0x12177df60>), (<sqlalchemy.ext.automap.Customer object at 0x1216e85c0>, <sqlalchemy.ext.automap.Order object at 0x121786048>), (<sqlalchemy.ext.automap.Customer object at 0x1216bb978>, <sqlalchemy.ext.automap.Order object at 0x1217860f0>), (<sqlalchemy.ext.automap.Customer object at 0x1216d8a58>, <sqlalchemy.ext.automap.Order object at 0x121786198>), (<sqlalchemy.ext.automap.Customer object at 0x121706438>, <sqlalchemy.ext.automap.Order object at 0x121786240>), (<sqlalchemy.ext.automap.Customer object at 0x1216d1ba8>, <sqlalchemy.ext.automap.Order object at 0x1217862e8>), (<sqlalchemy.ext.automap.Customer object at 0x1216c97b8>, <sqlalchemy.ext.automap.Order object at 0x121786390>), (<sqlalchemy.ext.automap.Customer object at 0x1216ef860>, <sqlalchemy.ext.automap.Order object at 0x121786438>), (<sqlalchemy.ext.automap.Customer object at 0x1216e0a58>, <sqlalchemy.ext.automap.Order object at 0x1217864e0>), (<sqlalchemy.ext.automap.Customer object at 0x1216bb390>, <sqlalchemy.ext.automap.Order object at 0x121786588>), (<sqlalchemy.ext.automap.Customer object at 0x1216c97b8>, <sqlalchemy.ext.automap.Order object at 0x121786630>), (<sqlalchemy.ext.automap.Customer object at 0x121747978>, <sqlalchemy.ext.automap.Order object at 0x1217866d8>), (<sqlalchemy.ext.automap.Customer object at 0x1216bb0f0>, <sqlalchemy.ext.automap.Order object at 0x121786780>), (<sqlalchemy.ext.automap.Customer object at 0x1216c38d0>, <sqlalchemy.ext.automap.Order object at 0x121786828>), (<sqlalchemy.ext.automap.Customer object at 0x1216f75c0>, <sqlalchemy.ext.automap.Order object at 0x1217868d0>), (<sqlalchemy.ext.automap.Customer object at 0x1216c97b8>, <sqlalchemy.ext.automap.Order object at 0x121786978>), (<sqlalchemy.ext.automap.Customer object at 0x1216f75c0>, <sqlalchemy.ext.automap.Order object at 0x121786a20>), (<sqlalchemy.ext.automap.Customer object at 0x1216a5978>, <sqlalchemy.ext.automap.Order object at 0x121786ac8>), (<sqlalchemy.ext.automap.Customer object at 0x1216c3630>, <sqlalchemy.ext.automap.Order object at 0x121786b70>), (<sqlalchemy.ext.automap.Customer object at 0x1216a5828>, <sqlalchemy.ext.automap.Order object at 0x121786c18>), (<sqlalchemy.ext.automap.Customer object at 0x1216e0cf8>, <sqlalchemy.ext.automap.Order object at 0x121786cc0>), (<sqlalchemy.ext.automap.Customer object at 0x1216c3320>, <sqlalchemy.ext.automap.Order object at 0x121786d68>), (<sqlalchemy.ext.automap.Customer object at 0x1216a5978>, <sqlalchemy.ext.automap.Order object at 0x121786e10>), (<sqlalchemy.ext.automap.Customer object at 0x1216d8390>, <sqlalchemy.ext.automap.Order object at 0x121786eb8>), (<sqlalchemy.ext.automap.Customer object at 0x1216ffac8>, <sqlalchemy.ext.automap.Order object at 0x121786f60>), (<sqlalchemy.ext.automap.Customer object at 0x1216d8240>, <sqlalchemy.ext.automap.Order object at 0x12178d048>), (<sqlalchemy.ext.automap.Customer object at 0x1216a5828>, <sqlalchemy.ext.automap.Order object at 0x12178d0f0>), (<sqlalchemy.ext.automap.Customer object at 0x1216c91d0>, <sqlalchemy.ext.automap.Order object at 0x12178d198>), (<sqlalchemy.ext.automap.Customer object at 0x1216bb630>, <sqlalchemy.ext.automap.Order object at 0x12178d240>), (<sqlalchemy.ext.automap.Customer object at 0x1217178d0>, <sqlalchemy.ext.automap.Order object at 0x12178d2e8>), (<sqlalchemy.ext.automap.Customer object at 0x1216bb0f0>, <sqlalchemy.ext.automap.Order object at 0x12178d390>), (<sqlalchemy.ext.automap.Customer object at 0x1216d1320>, <sqlalchemy.ext.automap.Order object at 0x12178d438>), (<sqlalchemy.ext.automap.Customer object at 0x1216c38d0>, <sqlalchemy.ext.automap.Order object at 0x12178d4e0>), (<sqlalchemy.ext.automap.Customer object at 0x12178d588>, <sqlalchemy.ext.automap.Order object at 0x12178d630>), (<sqlalchemy.ext.automap.Customer object at 0x1216bbc18>, <sqlalchemy.ext.automap.Order object at 0x12178d6a0>), (<sqlalchemy.ext.automap.Customer object at 0x12174ec18>, <sqlalchemy.ext.automap.Order object at 0x12178d780>), (<sqlalchemy.ext.automap.Customer object at 0x1216bbeb8>, <sqlalchemy.ext.automap.Order object at 0x12178d828>), (<sqlalchemy.ext.automap.Customer object at 0x1216c3a20>, <sqlalchemy.ext.automap.Order object at 0x12178d8d0>), (<sqlalchemy.ext.automap.Customer object at 0x1216a5f60>, <sqlalchemy.ext.automap.Order object at 0x12178d978>), (<sqlalchemy.ext.automap.Customer object at 0x1216e0ef0>, <sqlalchemy.ext.automap.Order object at 0x12178da20>), (<sqlalchemy.ext.automap.Customer object at 0x1216c3320>, <sqlalchemy.ext.automap.Order object at 0x12178dac8>), (<sqlalchemy.ext.automap.Customer object at 0x1216c38d0>, <sqlalchemy.ext.automap.Order object at 0x12178db70>), (<sqlalchemy.ext.automap.Customer object at 0x1216d1518>, <sqlalchemy.ext.automap.Order object at 0x12178dc18>), (<sqlalchemy.ext.automap.Customer object at 0x1216e8278>, <sqlalchemy.ext.automap.Order object at 0x12178dcc0>), (<sqlalchemy.ext.automap.Customer object at 0x1216e8e48>, <sqlalchemy.ext.automap.Order object at 0x12178dd68>), (<sqlalchemy.ext.automap.Customer object at 0x1216d8a58>, <sqlalchemy.ext.automap.Order object at 0x12178de10>), (<sqlalchemy.ext.automap.Customer object at 0x1216d1128>, <sqlalchemy.ext.automap.Order object at 0x12178deb8>), (<sqlalchemy.ext.automap.Customer object at 0x12173e630>, <sqlalchemy.ext.automap.Order object at 0x12178df60>), (<sqlalchemy.ext.automap.Customer object at 0x1216d1128>, <sqlalchemy.ext.automap.Order object at 0x121796048>), (<sqlalchemy.ext.automap.Customer object at 0x1216c38d0>, <sqlalchemy.ext.automap.Order object at 0x1217960f0>), (<sqlalchemy.ext.automap.Customer object at 0x1216d8a58>, <sqlalchemy.ext.automap.Order object at 0x121796198>), (<sqlalchemy.ext.automap.Customer object at 0x1216c91d0>, <sqlalchemy.ext.automap.Order object at 0x121796240>), (<sqlalchemy.ext.automap.Customer object at 0x1216c3320>, <sqlalchemy.ext.automap.Order object at 0x1217962e8>), (<sqlalchemy.ext.automap.Customer object at 0x12173e630>, <sqlalchemy.ext.automap.Order object at 0x121796390>), (<sqlalchemy.ext.automap.Customer object at 0x1216bb860>, <sqlalchemy.ext.automap.Order object at 0x121796438>), (<sqlalchemy.ext.automap.Customer object at 0x1217206d8>, <sqlalchemy.ext.automap.Order object at 0x1217964e0>), (<sqlalchemy.ext.automap.Customer object at 0x1216d8390>, <sqlalchemy.ext.automap.Order object at 0x121796588>), (<sqlalchemy.ext.automap.Customer object at 0x1216d1518>, <sqlalchemy.ext.automap.Order object at 0x121796630>), (<sqlalchemy.ext.automap.Customer object at 0x12172fe10>, <sqlalchemy.ext.automap.Order object at 0x1217966d8>), (<sqlalchemy.ext.automap.Customer object at 0x1216a5978>, <sqlalchemy.ext.automap.Order object at 0x121796780>), (<sqlalchemy.ext.automap.Customer object at 0x1216a5748>, <sqlalchemy.ext.automap.Order object at 0x121796828>), (<sqlalchemy.ext.automap.Customer object at 0x1216e8828>, <sqlalchemy.ext.automap.Order object at 0x1217968d0>), (<sqlalchemy.ext.automap.Customer object at 0x1216d1128>, <sqlalchemy.ext.automap.Order object at 0x121796978>), (<sqlalchemy.ext.automap.Customer object at 0x1216bb630>, <sqlalchemy.ext.automap.Order object at 0x121796a20>), (<sqlalchemy.ext.automap.Customer object at 0x1216c3a20>, <sqlalchemy.ext.automap.Order object at 0x121796ac8>), (<sqlalchemy.ext.automap.Customer object at 0x121720d30>, <sqlalchemy.ext.automap.Order object at 0x121796b70>), (<sqlalchemy.ext.automap.Customer object at 0x1216d8240>, <sqlalchemy.ext.automap.Order object at 0x121796c18>), (<sqlalchemy.ext.automap.Customer object at 0x1216d8390>, <sqlalchemy.ext.automap.Order object at 0x121796cc0>), (<sqlalchemy.ext.automap.Customer object at 0x1216bb0f0>, <sqlalchemy.ext.automap.Order object at 0x121796d68>), (<sqlalchemy.ext.automap.Customer object at 0x121720d30>, <sqlalchemy.ext.automap.Order object at 0x121796e10>), (<sqlalchemy.ext.automap.Customer object at 0x1216c9c50>, <sqlalchemy.ext.automap.Order object at 0x121796eb8>), (<sqlalchemy.ext.automap.Customer object at 0x1216c3e48>, <sqlalchemy.ext.automap.Order object at 0x121796f60>), (<sqlalchemy.ext.automap.Customer object at 0x1216a5e10>, <sqlalchemy.ext.automap.Order object at 0x12179e048>), (<sqlalchemy.ext.automap.Customer object at 0x1216a5f60>, <sqlalchemy.ext.automap.Order object at 0x12179e0f0>), (<sqlalchemy.ext.automap.Customer object at 0x1216bb860>, <sqlalchemy.ext.automap.Order object at 0x12179e198>), (<sqlalchemy.ext.automap.Customer object at 0x1216a5748>, <sqlalchemy.ext.automap.Order object at 0x12179e240>), (<sqlalchemy.ext.automap.Customer object at 0x1216bbeb8>, <sqlalchemy.ext.automap.Order object at 0x12179e2e8>), (<sqlalchemy.ext.automap.Customer object at 0x1216a5e10>, <sqlalchemy.ext.automap.Order object at 0x12179e390>), (<sqlalchemy.ext.automap.Customer object at 0x1216e8e48>, <sqlalchemy.ext.automap.Order object at 0x12179e438>), (<sqlalchemy.ext.automap.Customer object at 0x121766630>, <sqlalchemy.ext.automap.Order object at 0x12179e4e0>), (<sqlalchemy.ext.automap.Customer object at 0x1216c92e8>, <sqlalchemy.ext.automap.Order object at 0x12179e588>), (<sqlalchemy.ext.automap.Customer object at 0x1216ef860>, <sqlalchemy.ext.automap.Order object at 0x12179e630>), (<sqlalchemy.ext.automap.Customer object at 0x12173e630>, <sqlalchemy.ext.automap.Order object at 0x12179e6d8>), (<sqlalchemy.ext.automap.Customer object at 0x1216d1128>, <sqlalchemy.ext.automap.Order object at 0x12179e780>), (<sqlalchemy.ext.automap.Customer object at 0x1216c9c50>, <sqlalchemy.ext.automap.Order object at 0x12179e828>), (<sqlalchemy.ext.automap.Customer object at 0x1216c3630>, <sqlalchemy.ext.automap.Order object at 0x12179e8d0>), (<sqlalchemy.ext.automap.Customer object at 0x121706438>, <sqlalchemy.ext.automap.Order object at 0x12179e978>), (<sqlalchemy.ext.automap.Customer object at 0x1216c3c50>, <sqlalchemy.ext.automap.Order object at 0x12179ea20>), (<sqlalchemy.ext.automap.Customer object at 0x1216efa58>, <sqlalchemy.ext.automap.Order object at 0x12179eac8>), (<sqlalchemy.ext.automap.Customer object at 0x1216f75c0>, <sqlalchemy.ext.automap.Order object at 0x12179eb70>), (<sqlalchemy.ext.automap.Customer object at 0x1216e0ef0>, <sqlalchemy.ext.automap.Order object at 0x12179ec18>), (<sqlalchemy.ext.automap.Customer object at 0x1216e8978>, <sqlalchemy.ext.automap.Order object at 0x12179ecc0>), (<sqlalchemy.ext.automap.Customer object at 0x1216a5748>, <sqlalchemy.ext.automap.Order object at 0x12179ed68>), (<sqlalchemy.ext.automap.Customer object at 0x1216e0a58>, <sqlalchemy.ext.automap.Order object at 0x12179ee10>), (<sqlalchemy.ext.automap.Customer object at 0x1216c38d0>, <sqlalchemy.ext.automap.Order object at 0x12179eeb8>), (<sqlalchemy.ext.automap.Customer object at 0x1216a5748>, <sqlalchemy.ext.automap.Order object at 0x12179ef60>), (<sqlalchemy.ext.automap.Customer object at 0x1216d1630>, <sqlalchemy.ext.automap.Order object at 0x1217a6048>), (<sqlalchemy.ext.automap.Customer object at 0x12178d588>, <sqlalchemy.ext.automap.Order object at 0x1217a60f0>), (<sqlalchemy.ext.automap.Customer object at 0x1216e8828>, <sqlalchemy.ext.automap.Order object at 0x1217a6198>), (<sqlalchemy.ext.automap.Customer object at 0x1216bbc18>, <sqlalchemy.ext.automap.Order object at 0x1217a6240>), (<sqlalchemy.ext.automap.Customer object at 0x1216a5978>, <sqlalchemy.ext.automap.Order object at 0x1217a62e8>), (<sqlalchemy.ext.automap.Customer object at 0x1216a5cc0>, <sqlalchemy.ext.automap.Order object at 0x1217a6390>), (<sqlalchemy.ext.automap.Customer object at 0x1216d8a58>, <sqlalchemy.ext.automap.Order object at 0x1217a6438>), (<sqlalchemy.ext.automap.Customer object at 0x1216d1ba8>, <sqlalchemy.ext.automap.Order object at 0x1217a64e0>), (<sqlalchemy.ext.automap.Customer object at 0x1216c3a20>, <sqlalchemy.ext.automap.Order object at 0x1217a6588>), (<sqlalchemy.ext.automap.Customer object at 0x1216a5e10>, <sqlalchemy.ext.automap.Order object at 0x1217a6630>), (<sqlalchemy.ext.automap.Customer object at 0x121720c18>, <sqlalchemy.ext.automap.Order object at 0x1217a66d8>), (<sqlalchemy.ext.automap.Customer object at 0x1217206d8>, <sqlalchemy.ext.automap.Order object at 0x1217a6780>), (<sqlalchemy.ext.automap.Customer object at 0x1216c3320>, <sqlalchemy.ext.automap.Order object at 0x1217a6828>), (<sqlalchemy.ext.automap.Customer object at 0x1216c3518>, <sqlalchemy.ext.automap.Order object at 0x1217a68d0>), (<sqlalchemy.ext.automap.Customer object at 0x1216d8a58>, <sqlalchemy.ext.automap.Order object at 0x1217a6978>), (<sqlalchemy.ext.automap.Customer object at 0x1216d8390>, <sqlalchemy.ext.automap.Order object at 0x1217a6a20>), (<sqlalchemy.ext.automap.Customer object at 0x1216c92e8>, <sqlalchemy.ext.automap.Order object at 0x1217a6ac8>), (<sqlalchemy.ext.automap.Customer object at 0x1216c9438>, <sqlalchemy.ext.automap.Order object at 0x1217a6b70>), (<sqlalchemy.ext.automap.Customer object at 0x1216efa58>, <sqlalchemy.ext.automap.Order object at 0x1217a6c18>), (<sqlalchemy.ext.automap.Customer object at 0x1216c3780>, <sqlalchemy.ext.automap.Order object at 0x1217a6cc0>), (<sqlalchemy.ext.automap.Customer object at 0x1216e8978>, <sqlalchemy.ext.automap.Order object at 0x1217a6d68>), (<sqlalchemy.ext.automap.Customer object at 0x1216c9438>, <sqlalchemy.ext.automap.Order object at 0x1217a6e10>), (<sqlalchemy.ext.automap.Customer object at 0x1216d1128>, <sqlalchemy.ext.automap.Order object at 0x1217a6eb8>), (<sqlalchemy.ext.automap.Customer object at 0x1216efa58>, <sqlalchemy.ext.automap.Order object at 0x1217a6f60>), (<sqlalchemy.ext.automap.Customer object at 0x1216c3518>, <sqlalchemy.ext.automap.Order object at 0x1217ad048>), (<sqlalchemy.ext.automap.Customer object at 0x1216a5cc0>, <sqlalchemy.ext.automap.Order object at 0x1217ad0f0>), (<sqlalchemy.ext.automap.Customer object at 0x121747978>, <sqlalchemy.ext.automap.Order object at 0x1217ad198>), (<sqlalchemy.ext.automap.Customer object at 0x1216e0ef0>, <sqlalchemy.ext.automap.Order object at 0x1217ad240>), (<sqlalchemy.ext.automap.Customer object at 0x1216f75c0>, <sqlalchemy.ext.automap.Order object at 0x1217ad2e8>), (<sqlalchemy.ext.automap.Customer object at 0x1216bb860>, <sqlalchemy.ext.automap.Order object at 0x1217ad390>), (<sqlalchemy.ext.automap.Customer object at 0x1217178d0>, <sqlalchemy.ext.automap.Order object at 0x1217ad438>), (<sqlalchemy.ext.automap.Customer object at 0x1216a5f60>, <sqlalchemy.ext.automap.Order object at 0x1217ad4e0>), (<sqlalchemy.ext.automap.Customer object at 0x1216ff240>, <sqlalchemy.ext.automap.Order object at 0x1217ad588>), (<sqlalchemy.ext.automap.Customer object at 0x1216a5f60>, <sqlalchemy.ext.automap.Order object at 0x1217ad630>), (<sqlalchemy.ext.automap.Customer object at 0x1216c3320>, <sqlalchemy.ext.automap.Order object at 0x1217ad6d8>), (<sqlalchemy.ext.automap.Customer object at 0x1216d87b8>, <sqlalchemy.ext.automap.Order object at 0x1217ad780>), (<sqlalchemy.ext.automap.Customer object at 0x121766630>, <sqlalchemy.ext.automap.Order object at 0x1217ad828>), (<sqlalchemy.ext.automap.Customer object at 0x1216d1320>, <sqlalchemy.ext.automap.Order object at 0x1217ad8d0>), (<sqlalchemy.ext.automap.Customer object at 0x1216a5ba8>, <sqlalchemy.ext.automap.Order object at 0x1217ad978>), (<sqlalchemy.ext.automap.Customer object at 0x1216a5668>, <sqlalchemy.ext.automap.Order object at 0x1217ada20>), (<sqlalchemy.ext.automap.Customer object at 0x1216bb0f0>, <sqlalchemy.ext.automap.Order object at 0x1217adac8>), (<sqlalchemy.ext.automap.Customer object at 0x1216c9588>, <sqlalchemy.ext.automap.Order object at 0x1217adb70>), (<sqlalchemy.ext.automap.Customer object at 0x1216d85c0>, <sqlalchemy.ext.automap.Order object at 0x1217adc18>), (<sqlalchemy.ext.automap.Customer object at 0x12174ec18>, <sqlalchemy.ext.automap.Order object at 0x1217adcc0>), (<sqlalchemy.ext.automap.Customer object at 0x12178d588>, <sqlalchemy.ext.automap.Order object at 0x1217add68>), (<sqlalchemy.ext.automap.Customer object at 0x12178d588>, <sqlalchemy.ext.automap.Order object at 0x1217ade10>), (<sqlalchemy.ext.automap.Customer object at 0x1216c3128>, <sqlalchemy.ext.automap.Order object at 0x1217adeb8>), (<sqlalchemy.ext.automap.Customer object at 0x1216efa58>, <sqlalchemy.ext.automap.Order object at 0x1217adf60>), (<sqlalchemy.ext.automap.Customer object at 0x1216a5f60>, <sqlalchemy.ext.automap.Order object at 0x1217b6048>), (<sqlalchemy.ext.automap.Customer object at 0x1216bb860>, <sqlalchemy.ext.automap.Order object at 0x1217b60f0>), (<sqlalchemy.ext.automap.Customer object at 0x121720d30>, <sqlalchemy.ext.automap.Order object at 0x1217b6198>), (<sqlalchemy.ext.automap.Customer object at 0x1216bb0f0>, <sqlalchemy.ext.automap.Order object at 0x1217b6240>), (<sqlalchemy.ext.automap.Customer object at 0x1216bb860>, <sqlalchemy.ext.automap.Order object at 0x1217b62e8>), (<sqlalchemy.ext.automap.Customer object at 0x1216a5748>, <sqlalchemy.ext.automap.Order object at 0x1217b6390>), (<sqlalchemy.ext.automap.Customer object at 0x1216efa58>, <sqlalchemy.ext.automap.Order object at 0x1217b6438>), (<sqlalchemy.ext.automap.Customer object at 0x1216d8390>, <sqlalchemy.ext.automap.Order object at 0x1217b64e0>), (<sqlalchemy.ext.automap.Customer object at 0x1216d8390>, <sqlalchemy.ext.automap.Order object at 0x1217b6588>), (<sqlalchemy.ext.automap.Customer object at 0x1216c9c50>, <sqlalchemy.ext.automap.Order object at 0x1217b6630>), (<sqlalchemy.ext.automap.Customer object at 0x1216e86d8>, <sqlalchemy.ext.automap.Order object at 0x1217b66d8>), (<sqlalchemy.ext.automap.Customer object at 0x1216bb630>, <sqlalchemy.ext.automap.Order object at 0x1217b6780>), (<sqlalchemy.ext.automap.Customer object at 0x1216bb4e0>, <sqlalchemy.ext.automap.Order object at 0x1217b6828>), (<sqlalchemy.ext.automap.Customer object at 0x1216bb0f0>, <sqlalchemy.ext.automap.Order object at 0x1217b68d0>), (<sqlalchemy.ext.automap.Customer object at 0x1216c3320>, <sqlalchemy.ext.automap.Order object at 0x1217b6978>), (<sqlalchemy.ext.automap.Customer object at 0x1216d1860>, <sqlalchemy.ext.automap.Order object at 0x1217b6a20>), (<sqlalchemy.ext.automap.Customer object at 0x1216bb860>, <sqlalchemy.ext.automap.Order object at 0x1217b6ac8>), (<sqlalchemy.ext.automap.Customer object at 0x1216e8978>, <sqlalchemy.ext.automap.Order object at 0x1217b6b70>), (<sqlalchemy.ext.automap.Customer object at 0x1216d8128>, <sqlalchemy.ext.automap.Order object at 0x1217b6c18>), (<sqlalchemy.ext.automap.Customer object at 0x1216c3320>, <sqlalchemy.ext.automap.Order object at 0x1217b6cc0>), (<sqlalchemy.ext.automap.Customer object at 0x1216c3e48>, <sqlalchemy.ext.automap.Order object at 0x1217b6d68>), (<sqlalchemy.ext.automap.Customer object at 0x1216e8e48>, <sqlalchemy.ext.automap.Order object at 0x1217b6e10>), (<sqlalchemy.ext.automap.Customer object at 0x1216bb390>, <sqlalchemy.ext.automap.Order object at 0x1217b6eb8>), (<sqlalchemy.ext.automap.Customer object at 0x1216bb630>, <sqlalchemy.ext.automap.Order object at 0x1217b6f60>), (<sqlalchemy.ext.automap.Customer object at 0x1216bb860>, <sqlalchemy.ext.automap.Order object at 0x1217bd048>), (<sqlalchemy.ext.automap.Customer object at 0x1216d8390>, <sqlalchemy.ext.automap.Order object at 0x1217bd0f0>), (<sqlalchemy.ext.automap.Customer object at 0x12173ecc0>, <sqlalchemy.ext.automap.Order object at 0x1217bd198>), (<sqlalchemy.ext.automap.Customer object at 0x121720d30>, <sqlalchemy.ext.automap.Order object at 0x1217bd240>), (<sqlalchemy.ext.automap.Customer object at 0x12173e630>, <sqlalchemy.ext.automap.Order object at 0x1217bd2e8>), (<sqlalchemy.ext.automap.Customer object at 0x121720c18>, <sqlalchemy.ext.automap.Order object at 0x1217bd390>), (<sqlalchemy.ext.automap.Customer object at 0x1216d8ef0>, <sqlalchemy.ext.automap.Order object at 0x1217bd438>), (<sqlalchemy.ext.automap.Customer object at 0x1216bb0f0>, <sqlalchemy.ext.automap.Order object at 0x1217bd4e0>), (<sqlalchemy.ext.automap.Customer object at 0x1216d1128>, <sqlalchemy.ext.automap.Order object at 0x1217bd588>), (<sqlalchemy.ext.automap.Customer object at 0x1216c92e8>, <sqlalchemy.ext.automap.Order object at 0x1217bd630>), (<sqlalchemy.ext.automap.Customer object at 0x121747978>, <sqlalchemy.ext.automap.Order object at 0x1217bd6d8>), (<sqlalchemy.ext.automap.Customer object at 0x1216bbc18>, <sqlalchemy.ext.automap.Order object at 0x1217bd780>), (<sqlalchemy.ext.automap.Customer object at 0x1216c3c50>, <sqlalchemy.ext.automap.Order object at 0x1217bd828>), (<sqlalchemy.ext.automap.Customer object at 0x1216f75c0>, <sqlalchemy.ext.automap.Order object at 0x1217bd8d0>), (<sqlalchemy.ext.automap.Customer object at 0x1216ef860>, <sqlalchemy.ext.automap.Order object at 0x1217bd978>), (<sqlalchemy.ext.automap.Customer object at 0x1216e0ef0>, <sqlalchemy.ext.automap.Order object at 0x1217bda20>), (<sqlalchemy.ext.automap.Customer object at 0x1216bb0f0>, <sqlalchemy.ext.automap.Order object at 0x1217bdac8>), (<sqlalchemy.ext.automap.Customer object at 0x1216d1518>, <sqlalchemy.ext.automap.Order object at 0x1217bdb70>), (<sqlalchemy.ext.automap.Customer object at 0x121706438>, <sqlalchemy.ext.automap.Order object at 0x1217bdc18>), (<sqlalchemy.ext.automap.Customer object at 0x1216bb390>, <sqlalchemy.ext.automap.Order object at 0x1217bdcc0>), (<sqlalchemy.ext.automap.Customer object at 0x1216c3320>, <sqlalchemy.ext.automap.Order object at 0x1217bdd68>), (<sqlalchemy.ext.automap.Customer object at 0x1216a5748>, <sqlalchemy.ext.automap.Order object at 0x1217bde10>), (<sqlalchemy.ext.automap.Customer object at 0x1216c9438>, <sqlalchemy.ext.automap.Order object at 0x1217bdeb8>), (<sqlalchemy.ext.automap.Customer object at 0x1216e86d8>, <sqlalchemy.ext.automap.Order object at 0x1217bdf60>), (<sqlalchemy.ext.automap.Customer object at 0x1216bbac8>, <sqlalchemy.ext.automap.Order object at 0x1217c6048>), (<sqlalchemy.ext.automap.Customer object at 0x1216ff128>, <sqlalchemy.ext.automap.Order object at 0x1217c60f0>), (<sqlalchemy.ext.automap.Customer object at 0x1216efa58>, <sqlalchemy.ext.automap.Order object at 0x1217c6198>), (<sqlalchemy.ext.automap.Customer object at 0x1216d8240>, <sqlalchemy.ext.automap.Order object at 0x1217c6240>), (<sqlalchemy.ext.automap.Customer object at 0x1216a5ba8>, <sqlalchemy.ext.automap.Order object at 0x1217c62e8>), (<sqlalchemy.ext.automap.Customer object at 0x1216d8390>, <sqlalchemy.ext.automap.Order object at 0x1217c6390>), (<sqlalchemy.ext.automap.Customer object at 0x1216d8390>, <sqlalchemy.ext.automap.Order object at 0x1217c6438>), (<sqlalchemy.ext.automap.Customer object at 0x1216bbeb8>, <sqlalchemy.ext.automap.Order object at 0x1217c64e0>), (<sqlalchemy.ext.automap.Customer object at 0x1216a5cc0>, <sqlalchemy.ext.automap.Order object at 0x1217c6588>), (<sqlalchemy.ext.automap.Customer object at 0x1216d1320>, <sqlalchemy.ext.automap.Order object at 0x1217c6630>), (<sqlalchemy.ext.automap.Customer object at 0x1216a5978>, <sqlalchemy.ext.automap.Order object at 0x1217c66d8>), (<sqlalchemy.ext.automap.Customer object at 0x1216e85c0>, <sqlalchemy.ext.automap.Order object at 0x1217c6780>), (<sqlalchemy.ext.automap.Customer object at 0x1216d1128>, <sqlalchemy.ext.automap.Order object at 0x1217c6828>), (<sqlalchemy.ext.automap.Customer object at 0x1216a5978>, <sqlalchemy.ext.automap.Order object at 0x1217c68d0>), (<sqlalchemy.ext.automap.Customer object at 0x1216f75c0>, <sqlalchemy.ext.automap.Order object at 0x1217c6978>), (<sqlalchemy.ext.automap.Customer object at 0x121720c18>, <sqlalchemy.ext.automap.Order object at 0x1217c6a20>), (<sqlalchemy.ext.automap.Customer object at 0x1216a5ba8>, <sqlalchemy.ext.automap.Order object at 0x1217c6ac8>), (<sqlalchemy.ext.automap.Customer object at 0x1216c9588>, <sqlalchemy.ext.automap.Order object at 0x1217c6b70>), (<sqlalchemy.ext.automap.Customer object at 0x121766630>, <sqlalchemy.ext.automap.Order object at 0x1217c6c18>), (<sqlalchemy.ext.automap.Customer object at 0x1216e8e48>, <sqlalchemy.ext.automap.Order object at 0x1217c6cc0>), (<sqlalchemy.ext.automap.Customer object at 0x1216efa58>, <sqlalchemy.ext.automap.Order object at 0x1217c6d68>), (<sqlalchemy.ext.automap.Customer object at 0x1216c9ef0>, <sqlalchemy.ext.automap.Order object at 0x1217c6e10>), (<sqlalchemy.ext.automap.Customer object at 0x1216e86d8>, <sqlalchemy.ext.automap.Order object at 0x1217c6eb8>), (<sqlalchemy.ext.automap.Customer object at 0x1216efa58>, <sqlalchemy.ext.automap.Order object at 0x1217c6f60>), (<sqlalchemy.ext.automap.Customer object at 0x1216ff240>, <sqlalchemy.ext.automap.Order object at 0x1217cd048>), (<sqlalchemy.ext.automap.Customer object at 0x1216bb860>, <sqlalchemy.ext.automap.Order object at 0x1217cd0f0>), (<sqlalchemy.ext.automap.Customer object at 0x1216e0a58>, <sqlalchemy.ext.automap.Order object at 0x1217cd198>), (<sqlalchemy.ext.automap.Customer object at 0x1216a5748>, <sqlalchemy.ext.automap.Order object at 0x1217cd240>), (<sqlalchemy.ext.automap.Customer object at 0x1216e0cf8>, <sqlalchemy.ext.automap.Order object at 0x1217cd2e8>), (<sqlalchemy.ext.automap.Customer object at 0x1217206d8>, <sqlalchemy.ext.automap.Order object at 0x1217cd390>), (<sqlalchemy.ext.automap.Customer object at 0x1216a5f60>, <sqlalchemy.ext.automap.Order object at 0x1217cd438>), (<sqlalchemy.ext.automap.Customer object at 0x1216e86d8>, <sqlalchemy.ext.automap.Order object at 0x1217cd4e0>), (<sqlalchemy.ext.automap.Customer object at 0x121720390>, <sqlalchemy.ext.automap.Order object at 0x1217cd588>), (<sqlalchemy.ext.automap.Customer object at 0x1217178d0>, <sqlalchemy.ext.automap.Order object at 0x1217cd630>), (<sqlalchemy.ext.automap.Customer object at 0x1216c91d0>, <sqlalchemy.ext.automap.Order object at 0x1217cd6d8>), (<sqlalchemy.ext.automap.Customer object at 0x1216ff128>, <sqlalchemy.ext.automap.Order object at 0x1217cd780>), (<sqlalchemy.ext.automap.Customer object at 0x121720c18>, <sqlalchemy.ext.automap.Order object at 0x1217cd828>), (<sqlalchemy.ext.automap.Customer object at 0x1216c92e8>, <sqlalchemy.ext.automap.Order object at 0x1217cd8d0>), (<sqlalchemy.ext.automap.Customer object at 0x1216c9c50>, <sqlalchemy.ext.automap.Order object at 0x1217cd978>), (<sqlalchemy.ext.automap.Customer object at 0x1216d8390>, <sqlalchemy.ext.automap.Order object at 0x1217cda20>), (<sqlalchemy.ext.automap.Customer object at 0x1216c3e48>, <sqlalchemy.ext.automap.Order object at 0x1217cdac8>), (<sqlalchemy.ext.automap.Customer object at 0x1216bbeb8>, <sqlalchemy.ext.automap.Order object at 0x1217cdb70>), (<sqlalchemy.ext.automap.Customer object at 0x1216e85c0>, <sqlalchemy.ext.automap.Order object at 0x1217cdc18>), (<sqlalchemy.ext.automap.Customer object at 0x1216c3630>, <sqlalchemy.ext.automap.Order object at 0x1217cdcc0>), (<sqlalchemy.ext.automap.Customer object at 0x1216c3a20>, <sqlalchemy.ext.automap.Order object at 0x1217cdd68>), (<sqlalchemy.ext.automap.Customer object at 0x1216c3e48>, <sqlalchemy.ext.automap.Order object at 0x1217cde10>), (<sqlalchemy.ext.automap.Customer object at 0x1216bb0f0>, <sqlalchemy.ext.automap.Order object at 0x1217cdeb8>), (<sqlalchemy.ext.automap.Customer object at 0x1216d8128>, <sqlalchemy.ext.automap.Order object at 0x1217cdf60>), (<sqlalchemy.ext.automap.Customer object at 0x1216e0320>, <sqlalchemy.ext.automap.Order object at 0x1217d6048>), (<sqlalchemy.ext.automap.Customer object at 0x1216a5cc0>, <sqlalchemy.ext.automap.Order object at 0x1217d60f0>), (<sqlalchemy.ext.automap.Customer object at 0x1216d8a58>, <sqlalchemy.ext.automap.Order object at 0x1217d6198>), (<sqlalchemy.ext.automap.Customer object at 0x1216bb630>, <sqlalchemy.ext.automap.Order object at 0x1217d6240>)]\n"
     ]
    }
   ],
   "source": [
    "print(session.query(Customer, Order).filter(Customer.Id==Order.CustomerId).all())"
   ]
  },
  {
   "cell_type": "code",
   "execution_count": null,
   "metadata": {},
   "outputs": [],
   "source": [
    "session.query(Customer).column_descriptions"
   ]
  },
  {
   "cell_type": "code",
   "execution_count": 18,
   "metadata": {},
   "outputs": [
    {
     "name": "stdout",
     "output_type": "stream",
     "text": [
      "2019-01-26 15:57:22,647 INFO sqlalchemy.engine.base.Engine SELECT *\n",
      "                            FROM Customer\n",
      "                        ;\n",
      "2019-01-26 15:57:22,650 INFO sqlalchemy.engine.base.Engine ()\n"
     ]
    }
   ],
   "source": [
    "result = session.execute('''SELECT *\n",
    "                            FROM Customer\n",
    "                        ;''')"
   ]
  },
  {
   "cell_type": "code",
   "execution_count": 19,
   "metadata": {},
   "outputs": [],
   "source": [
    "customer_df = pd.DataFrame(result.fetchall())"
   ]
  },
  {
   "cell_type": "code",
   "execution_count": 21,
   "metadata": {},
   "outputs": [
    {
     "data": {
      "text/plain": [
       "(91, 11)"
      ]
     },
     "execution_count": 21,
     "metadata": {},
     "output_type": "execute_result"
    }
   ],
   "source": [
    "customer_df.shape"
   ]
  },
  {
   "cell_type": "code",
   "execution_count": null,
   "metadata": {},
   "outputs": [],
   "source": []
  },
  {
   "cell_type": "code",
   "execution_count": null,
   "metadata": {},
   "outputs": [],
   "source": []
  },
  {
   "cell_type": "code",
   "execution_count": null,
   "metadata": {},
   "outputs": [],
   "source": []
  },
  {
   "cell_type": "code",
   "execution_count": null,
   "metadata": {},
   "outputs": [],
   "source": []
  },
  {
   "cell_type": "code",
   "execution_count": null,
   "metadata": {},
   "outputs": [],
   "source": []
  },
  {
   "cell_type": "markdown",
   "metadata": {},
   "source": [
    "## Hypothesis 1\n",
    "Do discounts have a statistically significant effect on the number of products customers order? If so, at what level(s) of discount?"
   ]
  },
  {
   "cell_type": "markdown",
   "metadata": {},
   "source": [
    "product (quantity) ordered by customers, no discount\n",
    "\n",
    "product (quantity) order by customers, wiht discount\n",
    "\n",
    "H0: Discount does not have an effect on the number of products ordered by a customer. Control = Treatment\n",
    "\n",
    "H1: Discount has an effect on the number of products ordered by a customer. Control < or > Treament"
   ]
  },
  {
   "cell_type": "code",
   "execution_count": null,
   "metadata": {},
   "outputs": [],
   "source": []
  },
  {
   "cell_type": "code",
   "execution_count": null,
   "metadata": {},
   "outputs": [],
   "source": []
  },
  {
   "cell_type": "code",
   "execution_count": null,
   "metadata": {},
   "outputs": [],
   "source": []
  }
 ],
 "metadata": {
  "kernelspec": {
   "display_name": "learn-env",
   "language": "python",
   "name": "learn-env"
  },
  "language_info": {
   "codemirror_mode": {
    "name": "ipython",
    "version": 3
   },
   "file_extension": ".py",
   "mimetype": "text/x-python",
   "name": "python",
   "nbconvert_exporter": "python",
   "pygments_lexer": "ipython3",
   "version": "3.6.6"
  }
 },
 "nbformat": 4,
 "nbformat_minor": 2
}
